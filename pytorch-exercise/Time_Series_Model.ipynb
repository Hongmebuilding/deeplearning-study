{
  "nbformat": 4,
  "nbformat_minor": 0,
  "metadata": {
    "colab": {
      "provenance": [],
      "gpuType": "V28"
    },
    "kernelspec": {
      "name": "python3",
      "display_name": "Python 3"
    },
    "language_info": {
      "name": "python"
    },
    "accelerator": "TPU"
  },
  "cells": [
    {
      "cell_type": "code",
      "execution_count": 16,
      "metadata": {
        "id": "McUkL7hI-TfN"
      },
      "outputs": [],
      "source": [
        "import numpy as np\n",
        "import pandas as pd\n",
        "\n",
        "import torch\n",
        "import torch.nn as nn\n",
        "import torch.nn.functional as F\n",
        "from torch.utils.data import TensorDataset, DataLoader\n",
        "\n",
        "import sklearn\n",
        "from sklearn.preprocessing import StandardScaler\n",
        "from sklearn.metrics import mean_squared_error\n",
        "\n",
        "from tqdm import tqdm"
      ]
    },
    {
      "cell_type": "code",
      "source": [
        "from google.colab import drive\n",
        "drive.mount('/content/drive')"
      ],
      "metadata": {
        "colab": {
          "base_uri": "https://localhost:8080/"
        },
        "id": "lk0Ww32iRvGU",
        "outputId": "48570312-94a6-4565-c297-a943aa3d3faa"
      },
      "execution_count": 15,
      "outputs": [
        {
          "output_type": "stream",
          "name": "stdout",
          "text": [
            "Drive already mounted at /content/drive; to attempt to forcibly remount, call drive.mount(\"/content/drive\", force_remount=True).\n"
          ]
        }
      ]
    },
    {
      "cell_type": "code",
      "source": [
        "# seed 고정 (rand 함수 실행시 같은 결과 나올 수 있도록)\n",
        "def seed_everything(seed: int):\n",
        "    import random, os\n",
        "    import numpy as np\n",
        "    import torch\n",
        "\n",
        "    random.seed(seed)\n",
        "    os.environ['PYTHONHASHSEED'] = str(seed)\n",
        "    np.random.seed(seed)\n",
        "    torch.manual_seed(seed)\n",
        "    torch.cuda.manual_seed(seed)\n",
        "    torch.backends.cudnn.deterministic = True\n",
        "    torch.backends.cudnn.benchmark = True\n",
        "\n",
        "seed_everything(42)"
      ],
      "metadata": {
        "id": "5Yvzw-S1eDmr"
      },
      "execution_count": 17,
      "outputs": []
    },
    {
      "cell_type": "markdown",
      "source": [
        "# 1. RNN Layer"
      ],
      "metadata": {
        "id": "urhLjFDCXdto"
      }
    },
    {
      "cell_type": "code",
      "source": [
        "# input tensor 선언\n",
        "# input = torch.ones(5, 3) # seq_size, input_dim\n",
        "input = torch.ones(11, 5, 3) # batch_size, seq_size, input_dim\n",
        "\n",
        "# RNN Layer 선언\n",
        "rnn_layer = nn.RNN(input_size=3, hidden_size=10, batch_first=True)\n",
        "print(rnn_layer.weight_ih_l0.shape)\n",
        "print(rnn_layer.bias_ih_l0.shape)\n",
        "print(rnn_layer.weight_hh_l0.shape)\n",
        "print(rnn_layer.bias_hh_l0.shape)\n",
        "\n",
        "# print(rnn_layer.weight_ih_l0)\n",
        "# print(rnn_layer.bias_ih_l0)\n",
        "# print(rnn_layer.weight_hh_l0)\n",
        "# print(rnn_layer.bias_hh_l0)"
      ],
      "metadata": {
        "id": "tfF7xcCs9TGy",
        "colab": {
          "base_uri": "https://localhost:8080/"
        },
        "outputId": "bd61f2e8-370f-45f2-f273-a7f81e27274b"
      },
      "execution_count": 18,
      "outputs": [
        {
          "output_type": "stream",
          "name": "stdout",
          "text": [
            "torch.Size([10, 3])\n",
            "torch.Size([10])\n",
            "torch.Size([10, 10])\n",
            "torch.Size([10])\n"
          ]
        }
      ]
    },
    {
      "cell_type": "code",
      "source": [
        "# output 출력\n",
        "output, hidden = rnn_layer(input)\n",
        "print(output.shape)\n",
        "print(hidden.shape)"
      ],
      "metadata": {
        "id": "uin9O4SyYCy8",
        "colab": {
          "base_uri": "https://localhost:8080/"
        },
        "outputId": "d1077e63-1d94-4f9e-8377-945e84377d27"
      },
      "execution_count": 19,
      "outputs": [
        {
          "output_type": "stream",
          "name": "stdout",
          "text": [
            "torch.Size([11, 5, 10])\n",
            "torch.Size([1, 11, 10])\n"
          ]
        }
      ]
    },
    {
      "cell_type": "markdown",
      "source": [
        "# 2. LSTM Layer"
      ],
      "metadata": {
        "id": "zPVzTqh0ZD4d"
      }
    },
    {
      "cell_type": "code",
      "source": [
        "# input tensor 정의\n",
        "# input = torch.ones(7, 3) # seq_size, input_dim\n",
        "input = torch.ones(11, 7, 3) # batch_size, seq_size, input_dim\n",
        "\n",
        "# layer 정의\n",
        "lstm_layer = nn.LSTM(input_size=3, hidden_size=10, batch_first=True)\n",
        "\n",
        "print(lstm_layer.weight_ih_l0.shape) # 입력/삭제/출력 게이트, hidden state 용 paremeter가 4 종류\n",
        "print(lstm_layer.bias_ih_l0.shape)\n",
        "print(lstm_layer.weight_hh_l0.shape)\n",
        "print(lstm_layer.bias_hh_l0.shape)\n",
        "\n",
        "# print(lstm_layer.weight_ih_l0)\n",
        "# print(lstm_layer.bias_ih_l0)\n",
        "# print(lstm_layer.weight_hh_l0)\n",
        "# print(lstm_layer.bias_hh_l0)"
      ],
      "metadata": {
        "id": "dnHehYP9ZDT_",
        "colab": {
          "base_uri": "https://localhost:8080/"
        },
        "outputId": "e824406d-d80d-4e59-80f2-cef5c13f9e2a"
      },
      "execution_count": 20,
      "outputs": [
        {
          "output_type": "stream",
          "name": "stdout",
          "text": [
            "torch.Size([40, 3])\n",
            "torch.Size([40])\n",
            "torch.Size([40, 10])\n",
            "torch.Size([40])\n"
          ]
        }
      ]
    },
    {
      "cell_type": "code",
      "source": [
        "# output 출력\n",
        "output, (hidden, cell) = lstm_layer(input)\n",
        "print(output.shape)\n",
        "print(hidden.shape)\n",
        "print(cell.shape)"
      ],
      "metadata": {
        "id": "7Nz45yuePRtI",
        "colab": {
          "base_uri": "https://localhost:8080/"
        },
        "outputId": "88373e84-c39b-4577-d0e6-d99ce81c8940"
      },
      "execution_count": 21,
      "outputs": [
        {
          "output_type": "stream",
          "name": "stdout",
          "text": [
            "torch.Size([11, 7, 10])\n",
            "torch.Size([1, 11, 10])\n",
            "torch.Size([1, 11, 10])\n"
          ]
        }
      ]
    },
    {
      "cell_type": "markdown",
      "source": [
        "# 3. Stock Price Prediction"
      ],
      "metadata": {
        "id": "wO93wNzuZF3D"
      }
    },
    {
      "cell_type": "markdown",
      "source": [
        "### Naver Stock Web Crawling"
      ],
      "metadata": {
        "id": "Gm-QBi1sZsp1"
      }
    },
    {
      "cell_type": "code",
      "source": [
        "from bs4 import BeautifulSoup\n",
        "import requests\n",
        "\n",
        "# 웹 크롤링\n",
        "code = '005930' # 삼성전자 종목코드\n",
        "url = 'https://finance.naver.com/item/sise_day.naver?code={}'.format(code)\n",
        "header = {'User-agent':'Mozilla/5.0'}\n",
        "req = requests.get(url, headers=header)\n",
        "html = BeautifulSoup(req.text, \"html.parser\")\n",
        "\n",
        "pgrr = html.find('td', class_='pgRR')\n",
        "s = pgrr.a['href'].split('=')\n",
        "last_page = s[-1]\n",
        "\n",
        "# dataset 구성\n",
        "df = None\n",
        "\n",
        "for page in tqdm(range(1, 100)):\n",
        "    req = requests.get('{}&page={}'.format(url, page), headers=header)\n",
        "    df = pd.concat([df, pd.read_html(req.text, encoding='euc-kr')[0]], ignore_index=True)\n",
        "\n",
        "df.head()"
      ],
      "metadata": {
        "id": "LwU1WSnQbcix",
        "colab": {
          "base_uri": "https://localhost:8080/",
          "height": 1000
        },
        "outputId": "282245d5-8d5c-418e-886c-755bbd9141fb"
      },
      "execution_count": 23,
      "outputs": [
        {
          "output_type": "stream",
          "name": "stderr",
          "text": [
            "  0%|          | 0/99 [00:00<?, ?it/s]/tmp/ipython-input-235588298.py:20: FutureWarning: Passing literal html to 'read_html' is deprecated and will be removed in a future version. To read from a literal string, wrap it in a 'StringIO' object.\n",
            "  df = pd.concat([df, pd.read_html(req.text, encoding='euc-kr')[0]], ignore_index=True)\n",
            "  1%|          | 1/99 [00:00<00:57,  1.71it/s]/tmp/ipython-input-235588298.py:20: FutureWarning: Passing literal html to 'read_html' is deprecated and will be removed in a future version. To read from a literal string, wrap it in a 'StringIO' object.\n",
            "  df = pd.concat([df, pd.read_html(req.text, encoding='euc-kr')[0]], ignore_index=True)\n",
            "  2%|▏         | 2/99 [00:01<00:54,  1.77it/s]/tmp/ipython-input-235588298.py:20: FutureWarning: Passing literal html to 'read_html' is deprecated and will be removed in a future version. To read from a literal string, wrap it in a 'StringIO' object.\n",
            "  df = pd.concat([df, pd.read_html(req.text, encoding='euc-kr')[0]], ignore_index=True)\n",
            "  3%|▎         | 3/99 [00:01<00:53,  1.78it/s]/tmp/ipython-input-235588298.py:20: FutureWarning: Passing literal html to 'read_html' is deprecated and will be removed in a future version. To read from a literal string, wrap it in a 'StringIO' object.\n",
            "  df = pd.concat([df, pd.read_html(req.text, encoding='euc-kr')[0]], ignore_index=True)\n",
            "  4%|▍         | 4/99 [00:02<00:53,  1.79it/s]/tmp/ipython-input-235588298.py:20: FutureWarning: Passing literal html to 'read_html' is deprecated and will be removed in a future version. To read from a literal string, wrap it in a 'StringIO' object.\n",
            "  df = pd.concat([df, pd.read_html(req.text, encoding='euc-kr')[0]], ignore_index=True)\n",
            "  5%|▌         | 5/99 [00:02<00:52,  1.80it/s]/tmp/ipython-input-235588298.py:20: FutureWarning: Passing literal html to 'read_html' is deprecated and will be removed in a future version. To read from a literal string, wrap it in a 'StringIO' object.\n",
            "  df = pd.concat([df, pd.read_html(req.text, encoding='euc-kr')[0]], ignore_index=True)\n",
            "  6%|▌         | 6/99 [00:03<00:51,  1.80it/s]/tmp/ipython-input-235588298.py:20: FutureWarning: Passing literal html to 'read_html' is deprecated and will be removed in a future version. To read from a literal string, wrap it in a 'StringIO' object.\n",
            "  df = pd.concat([df, pd.read_html(req.text, encoding='euc-kr')[0]], ignore_index=True)\n",
            "  7%|▋         | 7/99 [00:03<00:50,  1.80it/s]/tmp/ipython-input-235588298.py:20: FutureWarning: Passing literal html to 'read_html' is deprecated and will be removed in a future version. To read from a literal string, wrap it in a 'StringIO' object.\n",
            "  df = pd.concat([df, pd.read_html(req.text, encoding='euc-kr')[0]], ignore_index=True)\n",
            "  8%|▊         | 8/99 [00:04<00:50,  1.81it/s]/tmp/ipython-input-235588298.py:20: FutureWarning: Passing literal html to 'read_html' is deprecated and will be removed in a future version. To read from a literal string, wrap it in a 'StringIO' object.\n",
            "  df = pd.concat([df, pd.read_html(req.text, encoding='euc-kr')[0]], ignore_index=True)\n",
            "  9%|▉         | 9/99 [00:05<00:55,  1.61it/s]/tmp/ipython-input-235588298.py:20: FutureWarning: Passing literal html to 'read_html' is deprecated and will be removed in a future version. To read from a literal string, wrap it in a 'StringIO' object.\n",
            "  df = pd.concat([df, pd.read_html(req.text, encoding='euc-kr')[0]], ignore_index=True)\n",
            " 10%|█         | 10/99 [00:05<00:53,  1.67it/s]/tmp/ipython-input-235588298.py:20: FutureWarning: Passing literal html to 'read_html' is deprecated and will be removed in a future version. To read from a literal string, wrap it in a 'StringIO' object.\n",
            "  df = pd.concat([df, pd.read_html(req.text, encoding='euc-kr')[0]], ignore_index=True)\n",
            " 11%|█         | 11/99 [00:06<00:51,  1.71it/s]/tmp/ipython-input-235588298.py:20: FutureWarning: Passing literal html to 'read_html' is deprecated and will be removed in a future version. To read from a literal string, wrap it in a 'StringIO' object.\n",
            "  df = pd.concat([df, pd.read_html(req.text, encoding='euc-kr')[0]], ignore_index=True)\n",
            " 12%|█▏        | 12/99 [00:06<00:49,  1.74it/s]/tmp/ipython-input-235588298.py:20: FutureWarning: Passing literal html to 'read_html' is deprecated and will be removed in a future version. To read from a literal string, wrap it in a 'StringIO' object.\n",
            "  df = pd.concat([df, pd.read_html(req.text, encoding='euc-kr')[0]], ignore_index=True)\n",
            " 13%|█▎        | 13/99 [00:07<00:48,  1.76it/s]/tmp/ipython-input-235588298.py:20: FutureWarning: Passing literal html to 'read_html' is deprecated and will be removed in a future version. To read from a literal string, wrap it in a 'StringIO' object.\n",
            "  df = pd.concat([df, pd.read_html(req.text, encoding='euc-kr')[0]], ignore_index=True)\n",
            " 14%|█▍        | 14/99 [00:07<00:47,  1.79it/s]/tmp/ipython-input-235588298.py:20: FutureWarning: Passing literal html to 'read_html' is deprecated and will be removed in a future version. To read from a literal string, wrap it in a 'StringIO' object.\n",
            "  df = pd.concat([df, pd.read_html(req.text, encoding='euc-kr')[0]], ignore_index=True)\n",
            " 15%|█▌        | 15/99 [00:08<00:46,  1.81it/s]/tmp/ipython-input-235588298.py:20: FutureWarning: Passing literal html to 'read_html' is deprecated and will be removed in a future version. To read from a literal string, wrap it in a 'StringIO' object.\n",
            "  df = pd.concat([df, pd.read_html(req.text, encoding='euc-kr')[0]], ignore_index=True)\n",
            " 16%|█▌        | 16/99 [00:09<00:45,  1.81it/s]/tmp/ipython-input-235588298.py:20: FutureWarning: Passing literal html to 'read_html' is deprecated and will be removed in a future version. To read from a literal string, wrap it in a 'StringIO' object.\n",
            "  df = pd.concat([df, pd.read_html(req.text, encoding='euc-kr')[0]], ignore_index=True)\n",
            " 17%|█▋        | 17/99 [00:09<00:45,  1.81it/s]/tmp/ipython-input-235588298.py:20: FutureWarning: Passing literal html to 'read_html' is deprecated and will be removed in a future version. To read from a literal string, wrap it in a 'StringIO' object.\n",
            "  df = pd.concat([df, pd.read_html(req.text, encoding='euc-kr')[0]], ignore_index=True)\n",
            " 18%|█▊        | 18/99 [00:10<00:44,  1.82it/s]/tmp/ipython-input-235588298.py:20: FutureWarning: Passing literal html to 'read_html' is deprecated and will be removed in a future version. To read from a literal string, wrap it in a 'StringIO' object.\n",
            "  df = pd.concat([df, pd.read_html(req.text, encoding='euc-kr')[0]], ignore_index=True)\n",
            " 19%|█▉        | 19/99 [00:10<00:43,  1.82it/s]/tmp/ipython-input-235588298.py:20: FutureWarning: Passing literal html to 'read_html' is deprecated and will be removed in a future version. To read from a literal string, wrap it in a 'StringIO' object.\n",
            "  df = pd.concat([df, pd.read_html(req.text, encoding='euc-kr')[0]], ignore_index=True)\n",
            " 20%|██        | 20/99 [00:11<00:43,  1.80it/s]/tmp/ipython-input-235588298.py:20: FutureWarning: Passing literal html to 'read_html' is deprecated and will be removed in a future version. To read from a literal string, wrap it in a 'StringIO' object.\n",
            "  df = pd.concat([df, pd.read_html(req.text, encoding='euc-kr')[0]], ignore_index=True)\n",
            " 21%|██        | 21/99 [00:11<00:43,  1.80it/s]/tmp/ipython-input-235588298.py:20: FutureWarning: Passing literal html to 'read_html' is deprecated and will be removed in a future version. To read from a literal string, wrap it in a 'StringIO' object.\n",
            "  df = pd.concat([df, pd.read_html(req.text, encoding='euc-kr')[0]], ignore_index=True)\n",
            " 22%|██▏       | 22/99 [00:12<00:42,  1.79it/s]/tmp/ipython-input-235588298.py:20: FutureWarning: Passing literal html to 'read_html' is deprecated and will be removed in a future version. To read from a literal string, wrap it in a 'StringIO' object.\n",
            "  df = pd.concat([df, pd.read_html(req.text, encoding='euc-kr')[0]], ignore_index=True)\n",
            " 23%|██▎       | 23/99 [00:12<00:42,  1.79it/s]/tmp/ipython-input-235588298.py:20: FutureWarning: Passing literal html to 'read_html' is deprecated and will be removed in a future version. To read from a literal string, wrap it in a 'StringIO' object.\n",
            "  df = pd.concat([df, pd.read_html(req.text, encoding='euc-kr')[0]], ignore_index=True)\n",
            " 24%|██▍       | 24/99 [00:13<00:41,  1.80it/s]/tmp/ipython-input-235588298.py:20: FutureWarning: Passing literal html to 'read_html' is deprecated and will be removed in a future version. To read from a literal string, wrap it in a 'StringIO' object.\n",
            "  df = pd.concat([df, pd.read_html(req.text, encoding='euc-kr')[0]], ignore_index=True)\n",
            " 25%|██▌       | 25/99 [00:14<00:40,  1.81it/s]/tmp/ipython-input-235588298.py:20: FutureWarning: Passing literal html to 'read_html' is deprecated and will be removed in a future version. To read from a literal string, wrap it in a 'StringIO' object.\n",
            "  df = pd.concat([df, pd.read_html(req.text, encoding='euc-kr')[0]], ignore_index=True)\n",
            " 26%|██▋       | 26/99 [00:14<00:40,  1.82it/s]/tmp/ipython-input-235588298.py:20: FutureWarning: Passing literal html to 'read_html' is deprecated and will be removed in a future version. To read from a literal string, wrap it in a 'StringIO' object.\n",
            "  df = pd.concat([df, pd.read_html(req.text, encoding='euc-kr')[0]], ignore_index=True)\n",
            " 27%|██▋       | 27/99 [00:15<00:39,  1.82it/s]/tmp/ipython-input-235588298.py:20: FutureWarning: Passing literal html to 'read_html' is deprecated and will be removed in a future version. To read from a literal string, wrap it in a 'StringIO' object.\n",
            "  df = pd.concat([df, pd.read_html(req.text, encoding='euc-kr')[0]], ignore_index=True)\n",
            " 28%|██▊       | 28/99 [00:15<00:39,  1.82it/s]/tmp/ipython-input-235588298.py:20: FutureWarning: Passing literal html to 'read_html' is deprecated and will be removed in a future version. To read from a literal string, wrap it in a 'StringIO' object.\n",
            "  df = pd.concat([df, pd.read_html(req.text, encoding='euc-kr')[0]], ignore_index=True)\n",
            " 29%|██▉       | 29/99 [00:16<00:38,  1.83it/s]/tmp/ipython-input-235588298.py:20: FutureWarning: Passing literal html to 'read_html' is deprecated and will be removed in a future version. To read from a literal string, wrap it in a 'StringIO' object.\n",
            "  df = pd.concat([df, pd.read_html(req.text, encoding='euc-kr')[0]], ignore_index=True)\n",
            " 30%|███       | 30/99 [00:16<00:37,  1.83it/s]/tmp/ipython-input-235588298.py:20: FutureWarning: Passing literal html to 'read_html' is deprecated and will be removed in a future version. To read from a literal string, wrap it in a 'StringIO' object.\n",
            "  df = pd.concat([df, pd.read_html(req.text, encoding='euc-kr')[0]], ignore_index=True)\n",
            " 31%|███▏      | 31/99 [00:17<00:37,  1.82it/s]/tmp/ipython-input-235588298.py:20: FutureWarning: Passing literal html to 'read_html' is deprecated and will be removed in a future version. To read from a literal string, wrap it in a 'StringIO' object.\n",
            "  df = pd.concat([df, pd.read_html(req.text, encoding='euc-kr')[0]], ignore_index=True)\n",
            " 32%|███▏      | 32/99 [00:17<00:36,  1.82it/s]/tmp/ipython-input-235588298.py:20: FutureWarning: Passing literal html to 'read_html' is deprecated and will be removed in a future version. To read from a literal string, wrap it in a 'StringIO' object.\n",
            "  df = pd.concat([df, pd.read_html(req.text, encoding='euc-kr')[0]], ignore_index=True)\n",
            " 33%|███▎      | 33/99 [00:18<00:36,  1.81it/s]/tmp/ipython-input-235588298.py:20: FutureWarning: Passing literal html to 'read_html' is deprecated and will be removed in a future version. To read from a literal string, wrap it in a 'StringIO' object.\n",
            "  df = pd.concat([df, pd.read_html(req.text, encoding='euc-kr')[0]], ignore_index=True)\n",
            " 34%|███▍      | 34/99 [00:18<00:35,  1.81it/s]/tmp/ipython-input-235588298.py:20: FutureWarning: Passing literal html to 'read_html' is deprecated and will be removed in a future version. To read from a literal string, wrap it in a 'StringIO' object.\n",
            "  df = pd.concat([df, pd.read_html(req.text, encoding='euc-kr')[0]], ignore_index=True)\n",
            " 35%|███▌      | 35/99 [00:19<00:35,  1.82it/s]/tmp/ipython-input-235588298.py:20: FutureWarning: Passing literal html to 'read_html' is deprecated and will be removed in a future version. To read from a literal string, wrap it in a 'StringIO' object.\n",
            "  df = pd.concat([df, pd.read_html(req.text, encoding='euc-kr')[0]], ignore_index=True)\n",
            " 36%|███▋      | 36/99 [00:20<00:34,  1.82it/s]/tmp/ipython-input-235588298.py:20: FutureWarning: Passing literal html to 'read_html' is deprecated and will be removed in a future version. To read from a literal string, wrap it in a 'StringIO' object.\n",
            "  df = pd.concat([df, pd.read_html(req.text, encoding='euc-kr')[0]], ignore_index=True)\n",
            " 37%|███▋      | 37/99 [00:20<00:33,  1.83it/s]/tmp/ipython-input-235588298.py:20: FutureWarning: Passing literal html to 'read_html' is deprecated and will be removed in a future version. To read from a literal string, wrap it in a 'StringIO' object.\n",
            "  df = pd.concat([df, pd.read_html(req.text, encoding='euc-kr')[0]], ignore_index=True)\n",
            " 38%|███▊      | 38/99 [00:21<00:33,  1.81it/s]/tmp/ipython-input-235588298.py:20: FutureWarning: Passing literal html to 'read_html' is deprecated and will be removed in a future version. To read from a literal string, wrap it in a 'StringIO' object.\n",
            "  df = pd.concat([df, pd.read_html(req.text, encoding='euc-kr')[0]], ignore_index=True)\n",
            " 39%|███▉      | 39/99 [00:21<00:32,  1.82it/s]/tmp/ipython-input-235588298.py:20: FutureWarning: Passing literal html to 'read_html' is deprecated and will be removed in a future version. To read from a literal string, wrap it in a 'StringIO' object.\n",
            "  df = pd.concat([df, pd.read_html(req.text, encoding='euc-kr')[0]], ignore_index=True)\n",
            " 40%|████      | 40/99 [00:22<00:32,  1.84it/s]/tmp/ipython-input-235588298.py:20: FutureWarning: Passing literal html to 'read_html' is deprecated and will be removed in a future version. To read from a literal string, wrap it in a 'StringIO' object.\n",
            "  df = pd.concat([df, pd.read_html(req.text, encoding='euc-kr')[0]], ignore_index=True)\n",
            " 41%|████▏     | 41/99 [00:22<00:31,  1.82it/s]/tmp/ipython-input-235588298.py:20: FutureWarning: Passing literal html to 'read_html' is deprecated and will be removed in a future version. To read from a literal string, wrap it in a 'StringIO' object.\n",
            "  df = pd.concat([df, pd.read_html(req.text, encoding='euc-kr')[0]], ignore_index=True)\n",
            " 42%|████▏     | 42/99 [00:23<00:31,  1.81it/s]/tmp/ipython-input-235588298.py:20: FutureWarning: Passing literal html to 'read_html' is deprecated and will be removed in a future version. To read from a literal string, wrap it in a 'StringIO' object.\n",
            "  df = pd.concat([df, pd.read_html(req.text, encoding='euc-kr')[0]], ignore_index=True)\n",
            " 43%|████▎     | 43/99 [00:23<00:30,  1.82it/s]/tmp/ipython-input-235588298.py:20: FutureWarning: Passing literal html to 'read_html' is deprecated and will be removed in a future version. To read from a literal string, wrap it in a 'StringIO' object.\n",
            "  df = pd.concat([df, pd.read_html(req.text, encoding='euc-kr')[0]], ignore_index=True)\n",
            " 44%|████▍     | 44/99 [00:24<00:30,  1.83it/s]/tmp/ipython-input-235588298.py:20: FutureWarning: Passing literal html to 'read_html' is deprecated and will be removed in a future version. To read from a literal string, wrap it in a 'StringIO' object.\n",
            "  df = pd.concat([df, pd.read_html(req.text, encoding='euc-kr')[0]], ignore_index=True)\n",
            " 45%|████▌     | 45/99 [00:24<00:29,  1.84it/s]/tmp/ipython-input-235588298.py:20: FutureWarning: Passing literal html to 'read_html' is deprecated and will be removed in a future version. To read from a literal string, wrap it in a 'StringIO' object.\n",
            "  df = pd.concat([df, pd.read_html(req.text, encoding='euc-kr')[0]], ignore_index=True)\n",
            " 46%|████▋     | 46/99 [00:25<00:28,  1.84it/s]/tmp/ipython-input-235588298.py:20: FutureWarning: Passing literal html to 'read_html' is deprecated and will be removed in a future version. To read from a literal string, wrap it in a 'StringIO' object.\n",
            "  df = pd.concat([df, pd.read_html(req.text, encoding='euc-kr')[0]], ignore_index=True)\n",
            " 47%|████▋     | 47/99 [00:26<00:28,  1.83it/s]/tmp/ipython-input-235588298.py:20: FutureWarning: Passing literal html to 'read_html' is deprecated and will be removed in a future version. To read from a literal string, wrap it in a 'StringIO' object.\n",
            "  df = pd.concat([df, pd.read_html(req.text, encoding='euc-kr')[0]], ignore_index=True)\n",
            " 48%|████▊     | 48/99 [00:26<00:27,  1.82it/s]/tmp/ipython-input-235588298.py:20: FutureWarning: Passing literal html to 'read_html' is deprecated and will be removed in a future version. To read from a literal string, wrap it in a 'StringIO' object.\n",
            "  df = pd.concat([df, pd.read_html(req.text, encoding='euc-kr')[0]], ignore_index=True)\n",
            " 49%|████▉     | 49/99 [00:27<00:27,  1.82it/s]/tmp/ipython-input-235588298.py:20: FutureWarning: Passing literal html to 'read_html' is deprecated and will be removed in a future version. To read from a literal string, wrap it in a 'StringIO' object.\n",
            "  df = pd.concat([df, pd.read_html(req.text, encoding='euc-kr')[0]], ignore_index=True)\n",
            " 51%|█████     | 50/99 [00:27<00:26,  1.82it/s]/tmp/ipython-input-235588298.py:20: FutureWarning: Passing literal html to 'read_html' is deprecated and will be removed in a future version. To read from a literal string, wrap it in a 'StringIO' object.\n",
            "  df = pd.concat([df, pd.read_html(req.text, encoding='euc-kr')[0]], ignore_index=True)\n",
            " 52%|█████▏    | 51/99 [00:28<00:26,  1.83it/s]/tmp/ipython-input-235588298.py:20: FutureWarning: Passing literal html to 'read_html' is deprecated and will be removed in a future version. To read from a literal string, wrap it in a 'StringIO' object.\n",
            "  df = pd.concat([df, pd.read_html(req.text, encoding='euc-kr')[0]], ignore_index=True)\n",
            " 53%|█████▎    | 52/99 [00:28<00:25,  1.84it/s]/tmp/ipython-input-235588298.py:20: FutureWarning: Passing literal html to 'read_html' is deprecated and will be removed in a future version. To read from a literal string, wrap it in a 'StringIO' object.\n",
            "  df = pd.concat([df, pd.read_html(req.text, encoding='euc-kr')[0]], ignore_index=True)\n",
            " 54%|█████▎    | 53/99 [00:29<00:25,  1.83it/s]/tmp/ipython-input-235588298.py:20: FutureWarning: Passing literal html to 'read_html' is deprecated and will be removed in a future version. To read from a literal string, wrap it in a 'StringIO' object.\n",
            "  df = pd.concat([df, pd.read_html(req.text, encoding='euc-kr')[0]], ignore_index=True)\n",
            " 55%|█████▍    | 54/99 [00:29<00:24,  1.83it/s]/tmp/ipython-input-235588298.py:20: FutureWarning: Passing literal html to 'read_html' is deprecated and will be removed in a future version. To read from a literal string, wrap it in a 'StringIO' object.\n",
            "  df = pd.concat([df, pd.read_html(req.text, encoding='euc-kr')[0]], ignore_index=True)\n",
            " 56%|█████▌    | 55/99 [00:30<00:24,  1.82it/s]/tmp/ipython-input-235588298.py:20: FutureWarning: Passing literal html to 'read_html' is deprecated and will be removed in a future version. To read from a literal string, wrap it in a 'StringIO' object.\n",
            "  df = pd.concat([df, pd.read_html(req.text, encoding='euc-kr')[0]], ignore_index=True)\n",
            " 57%|█████▋    | 56/99 [00:31<00:23,  1.82it/s]/tmp/ipython-input-235588298.py:20: FutureWarning: Passing literal html to 'read_html' is deprecated and will be removed in a future version. To read from a literal string, wrap it in a 'StringIO' object.\n",
            "  df = pd.concat([df, pd.read_html(req.text, encoding='euc-kr')[0]], ignore_index=True)\n",
            " 58%|█████▊    | 57/99 [00:31<00:22,  1.83it/s]/tmp/ipython-input-235588298.py:20: FutureWarning: Passing literal html to 'read_html' is deprecated and will be removed in a future version. To read from a literal string, wrap it in a 'StringIO' object.\n",
            "  df = pd.concat([df, pd.read_html(req.text, encoding='euc-kr')[0]], ignore_index=True)\n",
            " 59%|█████▊    | 58/99 [00:32<00:22,  1.82it/s]/tmp/ipython-input-235588298.py:20: FutureWarning: Passing literal html to 'read_html' is deprecated and will be removed in a future version. To read from a literal string, wrap it in a 'StringIO' object.\n",
            "  df = pd.concat([df, pd.read_html(req.text, encoding='euc-kr')[0]], ignore_index=True)\n",
            " 60%|█████▉    | 59/99 [00:32<00:21,  1.83it/s]/tmp/ipython-input-235588298.py:20: FutureWarning: Passing literal html to 'read_html' is deprecated and will be removed in a future version. To read from a literal string, wrap it in a 'StringIO' object.\n",
            "  df = pd.concat([df, pd.read_html(req.text, encoding='euc-kr')[0]], ignore_index=True)\n",
            " 61%|██████    | 60/99 [00:33<00:21,  1.83it/s]/tmp/ipython-input-235588298.py:20: FutureWarning: Passing literal html to 'read_html' is deprecated and will be removed in a future version. To read from a literal string, wrap it in a 'StringIO' object.\n",
            "  df = pd.concat([df, pd.read_html(req.text, encoding='euc-kr')[0]], ignore_index=True)\n",
            " 62%|██████▏   | 61/99 [00:33<00:20,  1.82it/s]/tmp/ipython-input-235588298.py:20: FutureWarning: Passing literal html to 'read_html' is deprecated and will be removed in a future version. To read from a literal string, wrap it in a 'StringIO' object.\n",
            "  df = pd.concat([df, pd.read_html(req.text, encoding='euc-kr')[0]], ignore_index=True)\n",
            " 63%|██████▎   | 62/99 [00:34<00:20,  1.81it/s]/tmp/ipython-input-235588298.py:20: FutureWarning: Passing literal html to 'read_html' is deprecated and will be removed in a future version. To read from a literal string, wrap it in a 'StringIO' object.\n",
            "  df = pd.concat([df, pd.read_html(req.text, encoding='euc-kr')[0]], ignore_index=True)\n",
            " 64%|██████▎   | 63/99 [00:35<00:22,  1.63it/s]/tmp/ipython-input-235588298.py:20: FutureWarning: Passing literal html to 'read_html' is deprecated and will be removed in a future version. To read from a literal string, wrap it in a 'StringIO' object.\n",
            "  df = pd.concat([df, pd.read_html(req.text, encoding='euc-kr')[0]], ignore_index=True)\n",
            " 65%|██████▍   | 64/99 [00:35<00:20,  1.68it/s]/tmp/ipython-input-235588298.py:20: FutureWarning: Passing literal html to 'read_html' is deprecated and will be removed in a future version. To read from a literal string, wrap it in a 'StringIO' object.\n",
            "  df = pd.concat([df, pd.read_html(req.text, encoding='euc-kr')[0]], ignore_index=True)\n",
            " 66%|██████▌   | 65/99 [00:36<00:19,  1.72it/s]/tmp/ipython-input-235588298.py:20: FutureWarning: Passing literal html to 'read_html' is deprecated and will be removed in a future version. To read from a literal string, wrap it in a 'StringIO' object.\n",
            "  df = pd.concat([df, pd.read_html(req.text, encoding='euc-kr')[0]], ignore_index=True)\n",
            " 67%|██████▋   | 66/99 [00:36<00:18,  1.76it/s]/tmp/ipython-input-235588298.py:20: FutureWarning: Passing literal html to 'read_html' is deprecated and will be removed in a future version. To read from a literal string, wrap it in a 'StringIO' object.\n",
            "  df = pd.concat([df, pd.read_html(req.text, encoding='euc-kr')[0]], ignore_index=True)\n",
            " 68%|██████▊   | 67/99 [00:37<00:18,  1.76it/s]/tmp/ipython-input-235588298.py:20: FutureWarning: Passing literal html to 'read_html' is deprecated and will be removed in a future version. To read from a literal string, wrap it in a 'StringIO' object.\n",
            "  df = pd.concat([df, pd.read_html(req.text, encoding='euc-kr')[0]], ignore_index=True)\n",
            " 69%|██████▊   | 68/99 [00:37<00:17,  1.77it/s]/tmp/ipython-input-235588298.py:20: FutureWarning: Passing literal html to 'read_html' is deprecated and will be removed in a future version. To read from a literal string, wrap it in a 'StringIO' object.\n",
            "  df = pd.concat([df, pd.read_html(req.text, encoding='euc-kr')[0]], ignore_index=True)\n",
            " 70%|██████▉   | 69/99 [00:38<00:16,  1.79it/s]/tmp/ipython-input-235588298.py:20: FutureWarning: Passing literal html to 'read_html' is deprecated and will be removed in a future version. To read from a literal string, wrap it in a 'StringIO' object.\n",
            "  df = pd.concat([df, pd.read_html(req.text, encoding='euc-kr')[0]], ignore_index=True)\n",
            " 71%|███████   | 70/99 [00:38<00:16,  1.81it/s]/tmp/ipython-input-235588298.py:20: FutureWarning: Passing literal html to 'read_html' is deprecated and will be removed in a future version. To read from a literal string, wrap it in a 'StringIO' object.\n",
            "  df = pd.concat([df, pd.read_html(req.text, encoding='euc-kr')[0]], ignore_index=True)\n",
            " 72%|███████▏  | 71/99 [00:39<00:15,  1.81it/s]/tmp/ipython-input-235588298.py:20: FutureWarning: Passing literal html to 'read_html' is deprecated and will be removed in a future version. To read from a literal string, wrap it in a 'StringIO' object.\n",
            "  df = pd.concat([df, pd.read_html(req.text, encoding='euc-kr')[0]], ignore_index=True)\n",
            " 73%|███████▎  | 72/99 [00:40<00:14,  1.81it/s]/tmp/ipython-input-235588298.py:20: FutureWarning: Passing literal html to 'read_html' is deprecated and will be removed in a future version. To read from a literal string, wrap it in a 'StringIO' object.\n",
            "  df = pd.concat([df, pd.read_html(req.text, encoding='euc-kr')[0]], ignore_index=True)\n",
            " 74%|███████▎  | 73/99 [00:40<00:14,  1.81it/s]/tmp/ipython-input-235588298.py:20: FutureWarning: Passing literal html to 'read_html' is deprecated and will be removed in a future version. To read from a literal string, wrap it in a 'StringIO' object.\n",
            "  df = pd.concat([df, pd.read_html(req.text, encoding='euc-kr')[0]], ignore_index=True)\n",
            " 75%|███████▍  | 74/99 [00:41<00:13,  1.81it/s]/tmp/ipython-input-235588298.py:20: FutureWarning: Passing literal html to 'read_html' is deprecated and will be removed in a future version. To read from a literal string, wrap it in a 'StringIO' object.\n",
            "  df = pd.concat([df, pd.read_html(req.text, encoding='euc-kr')[0]], ignore_index=True)\n",
            " 76%|███████▌  | 75/99 [00:41<00:13,  1.82it/s]/tmp/ipython-input-235588298.py:20: FutureWarning: Passing literal html to 'read_html' is deprecated and will be removed in a future version. To read from a literal string, wrap it in a 'StringIO' object.\n",
            "  df = pd.concat([df, pd.read_html(req.text, encoding='euc-kr')[0]], ignore_index=True)\n",
            " 77%|███████▋  | 76/99 [00:42<00:12,  1.82it/s]/tmp/ipython-input-235588298.py:20: FutureWarning: Passing literal html to 'read_html' is deprecated and will be removed in a future version. To read from a literal string, wrap it in a 'StringIO' object.\n",
            "  df = pd.concat([df, pd.read_html(req.text, encoding='euc-kr')[0]], ignore_index=True)\n",
            " 78%|███████▊  | 77/99 [00:42<00:12,  1.82it/s]/tmp/ipython-input-235588298.py:20: FutureWarning: Passing literal html to 'read_html' is deprecated and will be removed in a future version. To read from a literal string, wrap it in a 'StringIO' object.\n",
            "  df = pd.concat([df, pd.read_html(req.text, encoding='euc-kr')[0]], ignore_index=True)\n",
            " 79%|███████▉  | 78/99 [00:43<00:11,  1.81it/s]/tmp/ipython-input-235588298.py:20: FutureWarning: Passing literal html to 'read_html' is deprecated and will be removed in a future version. To read from a literal string, wrap it in a 'StringIO' object.\n",
            "  df = pd.concat([df, pd.read_html(req.text, encoding='euc-kr')[0]], ignore_index=True)\n",
            " 80%|███████▉  | 79/99 [00:43<00:11,  1.81it/s]/tmp/ipython-input-235588298.py:20: FutureWarning: Passing literal html to 'read_html' is deprecated and will be removed in a future version. To read from a literal string, wrap it in a 'StringIO' object.\n",
            "  df = pd.concat([df, pd.read_html(req.text, encoding='euc-kr')[0]], ignore_index=True)\n",
            " 81%|████████  | 80/99 [00:44<00:10,  1.81it/s]/tmp/ipython-input-235588298.py:20: FutureWarning: Passing literal html to 'read_html' is deprecated and will be removed in a future version. To read from a literal string, wrap it in a 'StringIO' object.\n",
            "  df = pd.concat([df, pd.read_html(req.text, encoding='euc-kr')[0]], ignore_index=True)\n",
            " 82%|████████▏ | 81/99 [00:44<00:09,  1.82it/s]/tmp/ipython-input-235588298.py:20: FutureWarning: Passing literal html to 'read_html' is deprecated and will be removed in a future version. To read from a literal string, wrap it in a 'StringIO' object.\n",
            "  df = pd.concat([df, pd.read_html(req.text, encoding='euc-kr')[0]], ignore_index=True)\n",
            " 83%|████████▎ | 82/99 [00:45<00:09,  1.81it/s]/tmp/ipython-input-235588298.py:20: FutureWarning: Passing literal html to 'read_html' is deprecated and will be removed in a future version. To read from a literal string, wrap it in a 'StringIO' object.\n",
            "  df = pd.concat([df, pd.read_html(req.text, encoding='euc-kr')[0]], ignore_index=True)\n",
            " 84%|████████▍ | 83/99 [00:46<00:08,  1.82it/s]/tmp/ipython-input-235588298.py:20: FutureWarning: Passing literal html to 'read_html' is deprecated and will be removed in a future version. To read from a literal string, wrap it in a 'StringIO' object.\n",
            "  df = pd.concat([df, pd.read_html(req.text, encoding='euc-kr')[0]], ignore_index=True)\n",
            " 85%|████████▍ | 84/99 [00:46<00:08,  1.83it/s]/tmp/ipython-input-235588298.py:20: FutureWarning: Passing literal html to 'read_html' is deprecated and will be removed in a future version. To read from a literal string, wrap it in a 'StringIO' object.\n",
            "  df = pd.concat([df, pd.read_html(req.text, encoding='euc-kr')[0]], ignore_index=True)\n",
            " 86%|████████▌ | 85/99 [00:47<00:07,  1.83it/s]/tmp/ipython-input-235588298.py:20: FutureWarning: Passing literal html to 'read_html' is deprecated and will be removed in a future version. To read from a literal string, wrap it in a 'StringIO' object.\n",
            "  df = pd.concat([df, pd.read_html(req.text, encoding='euc-kr')[0]], ignore_index=True)\n",
            " 87%|████████▋ | 86/99 [00:47<00:07,  1.84it/s]/tmp/ipython-input-235588298.py:20: FutureWarning: Passing literal html to 'read_html' is deprecated and will be removed in a future version. To read from a literal string, wrap it in a 'StringIO' object.\n",
            "  df = pd.concat([df, pd.read_html(req.text, encoding='euc-kr')[0]], ignore_index=True)\n",
            " 88%|████████▊ | 87/99 [00:48<00:06,  1.82it/s]/tmp/ipython-input-235588298.py:20: FutureWarning: Passing literal html to 'read_html' is deprecated and will be removed in a future version. To read from a literal string, wrap it in a 'StringIO' object.\n",
            "  df = pd.concat([df, pd.read_html(req.text, encoding='euc-kr')[0]], ignore_index=True)\n",
            " 89%|████████▉ | 88/99 [00:48<00:06,  1.83it/s]/tmp/ipython-input-235588298.py:20: FutureWarning: Passing literal html to 'read_html' is deprecated and will be removed in a future version. To read from a literal string, wrap it in a 'StringIO' object.\n",
            "  df = pd.concat([df, pd.read_html(req.text, encoding='euc-kr')[0]], ignore_index=True)\n",
            " 90%|████████▉ | 89/99 [00:49<00:05,  1.84it/s]/tmp/ipython-input-235588298.py:20: FutureWarning: Passing literal html to 'read_html' is deprecated and will be removed in a future version. To read from a literal string, wrap it in a 'StringIO' object.\n",
            "  df = pd.concat([df, pd.read_html(req.text, encoding='euc-kr')[0]], ignore_index=True)\n",
            " 91%|█████████ | 90/99 [00:49<00:04,  1.82it/s]/tmp/ipython-input-235588298.py:20: FutureWarning: Passing literal html to 'read_html' is deprecated and will be removed in a future version. To read from a literal string, wrap it in a 'StringIO' object.\n",
            "  df = pd.concat([df, pd.read_html(req.text, encoding='euc-kr')[0]], ignore_index=True)\n",
            " 92%|█████████▏| 91/99 [00:50<00:04,  1.82it/s]/tmp/ipython-input-235588298.py:20: FutureWarning: Passing literal html to 'read_html' is deprecated and will be removed in a future version. To read from a literal string, wrap it in a 'StringIO' object.\n",
            "  df = pd.concat([df, pd.read_html(req.text, encoding='euc-kr')[0]], ignore_index=True)\n",
            " 93%|█████████▎| 92/99 [00:51<00:03,  1.82it/s]/tmp/ipython-input-235588298.py:20: FutureWarning: Passing literal html to 'read_html' is deprecated and will be removed in a future version. To read from a literal string, wrap it in a 'StringIO' object.\n",
            "  df = pd.concat([df, pd.read_html(req.text, encoding='euc-kr')[0]], ignore_index=True)\n",
            " 94%|█████████▍| 93/99 [00:51<00:03,  1.81it/s]/tmp/ipython-input-235588298.py:20: FutureWarning: Passing literal html to 'read_html' is deprecated and will be removed in a future version. To read from a literal string, wrap it in a 'StringIO' object.\n",
            "  df = pd.concat([df, pd.read_html(req.text, encoding='euc-kr')[0]], ignore_index=True)\n",
            " 95%|█████████▍| 94/99 [00:52<00:02,  1.81it/s]/tmp/ipython-input-235588298.py:20: FutureWarning: Passing literal html to 'read_html' is deprecated and will be removed in a future version. To read from a literal string, wrap it in a 'StringIO' object.\n",
            "  df = pd.concat([df, pd.read_html(req.text, encoding='euc-kr')[0]], ignore_index=True)\n",
            " 96%|█████████▌| 95/99 [00:52<00:02,  1.82it/s]/tmp/ipython-input-235588298.py:20: FutureWarning: Passing literal html to 'read_html' is deprecated and will be removed in a future version. To read from a literal string, wrap it in a 'StringIO' object.\n",
            "  df = pd.concat([df, pd.read_html(req.text, encoding='euc-kr')[0]], ignore_index=True)\n",
            " 97%|█████████▋| 96/99 [00:53<00:01,  1.82it/s]/tmp/ipython-input-235588298.py:20: FutureWarning: Passing literal html to 'read_html' is deprecated and will be removed in a future version. To read from a literal string, wrap it in a 'StringIO' object.\n",
            "  df = pd.concat([df, pd.read_html(req.text, encoding='euc-kr')[0]], ignore_index=True)\n",
            " 98%|█████████▊| 97/99 [00:53<00:01,  1.80it/s]/tmp/ipython-input-235588298.py:20: FutureWarning: Passing literal html to 'read_html' is deprecated and will be removed in a future version. To read from a literal string, wrap it in a 'StringIO' object.\n",
            "  df = pd.concat([df, pd.read_html(req.text, encoding='euc-kr')[0]], ignore_index=True)\n",
            " 99%|█████████▉| 98/99 [00:54<00:00,  1.80it/s]/tmp/ipython-input-235588298.py:20: FutureWarning: Passing literal html to 'read_html' is deprecated and will be removed in a future version. To read from a literal string, wrap it in a 'StringIO' object.\n",
            "  df = pd.concat([df, pd.read_html(req.text, encoding='euc-kr')[0]], ignore_index=True)\n",
            "100%|██████████| 99/99 [00:54<00:00,  1.80it/s]\n"
          ]
        },
        {
          "output_type": "execute_result",
          "data": {
            "text/plain": [
              "           날짜       종가        전일비       시가       고가       저가         거래량\n",
              "0         NaN      NaN        NaN      NaN      NaN      NaN         NaN\n",
              "1  2025.08.12  71500.0    상승  500  71100.0  72400.0  71100.0  10610578.0\n",
              "2  2025.08.11  71000.0    하락  800  72000.0  72100.0  70800.0  11354253.0\n",
              "3  2025.08.08  71800.0  상승  1,300  71000.0  72400.0  70700.0  22241128.0\n",
              "4  2025.08.07  70500.0  상승  1,700  70800.0  71000.0  69700.0  15008213.0"
            ],
            "text/html": [
              "\n",
              "  <div id=\"df-5779df09-7f52-46a0-90ba-7ae75ff6a9b4\" class=\"colab-df-container\">\n",
              "    <div>\n",
              "<style scoped>\n",
              "    .dataframe tbody tr th:only-of-type {\n",
              "        vertical-align: middle;\n",
              "    }\n",
              "\n",
              "    .dataframe tbody tr th {\n",
              "        vertical-align: top;\n",
              "    }\n",
              "\n",
              "    .dataframe thead th {\n",
              "        text-align: right;\n",
              "    }\n",
              "</style>\n",
              "<table border=\"1\" class=\"dataframe\">\n",
              "  <thead>\n",
              "    <tr style=\"text-align: right;\">\n",
              "      <th></th>\n",
              "      <th>날짜</th>\n",
              "      <th>종가</th>\n",
              "      <th>전일비</th>\n",
              "      <th>시가</th>\n",
              "      <th>고가</th>\n",
              "      <th>저가</th>\n",
              "      <th>거래량</th>\n",
              "    </tr>\n",
              "  </thead>\n",
              "  <tbody>\n",
              "    <tr>\n",
              "      <th>0</th>\n",
              "      <td>NaN</td>\n",
              "      <td>NaN</td>\n",
              "      <td>NaN</td>\n",
              "      <td>NaN</td>\n",
              "      <td>NaN</td>\n",
              "      <td>NaN</td>\n",
              "      <td>NaN</td>\n",
              "    </tr>\n",
              "    <tr>\n",
              "      <th>1</th>\n",
              "      <td>2025.08.12</td>\n",
              "      <td>71500.0</td>\n",
              "      <td>상승  500</td>\n",
              "      <td>71100.0</td>\n",
              "      <td>72400.0</td>\n",
              "      <td>71100.0</td>\n",
              "      <td>10610578.0</td>\n",
              "    </tr>\n",
              "    <tr>\n",
              "      <th>2</th>\n",
              "      <td>2025.08.11</td>\n",
              "      <td>71000.0</td>\n",
              "      <td>하락  800</td>\n",
              "      <td>72000.0</td>\n",
              "      <td>72100.0</td>\n",
              "      <td>70800.0</td>\n",
              "      <td>11354253.0</td>\n",
              "    </tr>\n",
              "    <tr>\n",
              "      <th>3</th>\n",
              "      <td>2025.08.08</td>\n",
              "      <td>71800.0</td>\n",
              "      <td>상승  1,300</td>\n",
              "      <td>71000.0</td>\n",
              "      <td>72400.0</td>\n",
              "      <td>70700.0</td>\n",
              "      <td>22241128.0</td>\n",
              "    </tr>\n",
              "    <tr>\n",
              "      <th>4</th>\n",
              "      <td>2025.08.07</td>\n",
              "      <td>70500.0</td>\n",
              "      <td>상승  1,700</td>\n",
              "      <td>70800.0</td>\n",
              "      <td>71000.0</td>\n",
              "      <td>69700.0</td>\n",
              "      <td>15008213.0</td>\n",
              "    </tr>\n",
              "  </tbody>\n",
              "</table>\n",
              "</div>\n",
              "    <div class=\"colab-df-buttons\">\n",
              "\n",
              "  <div class=\"colab-df-container\">\n",
              "    <button class=\"colab-df-convert\" onclick=\"convertToInteractive('df-5779df09-7f52-46a0-90ba-7ae75ff6a9b4')\"\n",
              "            title=\"Convert this dataframe to an interactive table.\"\n",
              "            style=\"display:none;\">\n",
              "\n",
              "  <svg xmlns=\"http://www.w3.org/2000/svg\" height=\"24px\" viewBox=\"0 -960 960 960\">\n",
              "    <path d=\"M120-120v-720h720v720H120Zm60-500h600v-160H180v160Zm220 220h160v-160H400v160Zm0 220h160v-160H400v160ZM180-400h160v-160H180v160Zm440 0h160v-160H620v160ZM180-180h160v-160H180v160Zm440 0h160v-160H620v160Z\"/>\n",
              "  </svg>\n",
              "    </button>\n",
              "\n",
              "  <style>\n",
              "    .colab-df-container {\n",
              "      display:flex;\n",
              "      gap: 12px;\n",
              "    }\n",
              "\n",
              "    .colab-df-convert {\n",
              "      background-color: #E8F0FE;\n",
              "      border: none;\n",
              "      border-radius: 50%;\n",
              "      cursor: pointer;\n",
              "      display: none;\n",
              "      fill: #1967D2;\n",
              "      height: 32px;\n",
              "      padding: 0 0 0 0;\n",
              "      width: 32px;\n",
              "    }\n",
              "\n",
              "    .colab-df-convert:hover {\n",
              "      background-color: #E2EBFA;\n",
              "      box-shadow: 0px 1px 2px rgba(60, 64, 67, 0.3), 0px 1px 3px 1px rgba(60, 64, 67, 0.15);\n",
              "      fill: #174EA6;\n",
              "    }\n",
              "\n",
              "    .colab-df-buttons div {\n",
              "      margin-bottom: 4px;\n",
              "    }\n",
              "\n",
              "    [theme=dark] .colab-df-convert {\n",
              "      background-color: #3B4455;\n",
              "      fill: #D2E3FC;\n",
              "    }\n",
              "\n",
              "    [theme=dark] .colab-df-convert:hover {\n",
              "      background-color: #434B5C;\n",
              "      box-shadow: 0px 1px 3px 1px rgba(0, 0, 0, 0.15);\n",
              "      filter: drop-shadow(0px 1px 2px rgba(0, 0, 0, 0.3));\n",
              "      fill: #FFFFFF;\n",
              "    }\n",
              "  </style>\n",
              "\n",
              "    <script>\n",
              "      const buttonEl =\n",
              "        document.querySelector('#df-5779df09-7f52-46a0-90ba-7ae75ff6a9b4 button.colab-df-convert');\n",
              "      buttonEl.style.display =\n",
              "        google.colab.kernel.accessAllowed ? 'block' : 'none';\n",
              "\n",
              "      async function convertToInteractive(key) {\n",
              "        const element = document.querySelector('#df-5779df09-7f52-46a0-90ba-7ae75ff6a9b4');\n",
              "        const dataTable =\n",
              "          await google.colab.kernel.invokeFunction('convertToInteractive',\n",
              "                                                    [key], {});\n",
              "        if (!dataTable) return;\n",
              "\n",
              "        const docLinkHtml = 'Like what you see? Visit the ' +\n",
              "          '<a target=\"_blank\" href=https://colab.research.google.com/notebooks/data_table.ipynb>data table notebook</a>'\n",
              "          + ' to learn more about interactive tables.';\n",
              "        element.innerHTML = '';\n",
              "        dataTable['output_type'] = 'display_data';\n",
              "        await google.colab.output.renderOutput(dataTable, element);\n",
              "        const docLink = document.createElement('div');\n",
              "        docLink.innerHTML = docLinkHtml;\n",
              "        element.appendChild(docLink);\n",
              "      }\n",
              "    </script>\n",
              "  </div>\n",
              "\n",
              "\n",
              "    <div id=\"df-66fe8e6f-036e-42a6-a7b6-6ea8b907c15e\">\n",
              "      <button class=\"colab-df-quickchart\" onclick=\"quickchart('df-66fe8e6f-036e-42a6-a7b6-6ea8b907c15e')\"\n",
              "                title=\"Suggest charts\"\n",
              "                style=\"display:none;\">\n",
              "\n",
              "<svg xmlns=\"http://www.w3.org/2000/svg\" height=\"24px\"viewBox=\"0 0 24 24\"\n",
              "     width=\"24px\">\n",
              "    <g>\n",
              "        <path d=\"M19 3H5c-1.1 0-2 .9-2 2v14c0 1.1.9 2 2 2h14c1.1 0 2-.9 2-2V5c0-1.1-.9-2-2-2zM9 17H7v-7h2v7zm4 0h-2V7h2v10zm4 0h-2v-4h2v4z\"/>\n",
              "    </g>\n",
              "</svg>\n",
              "      </button>\n",
              "\n",
              "<style>\n",
              "  .colab-df-quickchart {\n",
              "      --bg-color: #E8F0FE;\n",
              "      --fill-color: #1967D2;\n",
              "      --hover-bg-color: #E2EBFA;\n",
              "      --hover-fill-color: #174EA6;\n",
              "      --disabled-fill-color: #AAA;\n",
              "      --disabled-bg-color: #DDD;\n",
              "  }\n",
              "\n",
              "  [theme=dark] .colab-df-quickchart {\n",
              "      --bg-color: #3B4455;\n",
              "      --fill-color: #D2E3FC;\n",
              "      --hover-bg-color: #434B5C;\n",
              "      --hover-fill-color: #FFFFFF;\n",
              "      --disabled-bg-color: #3B4455;\n",
              "      --disabled-fill-color: #666;\n",
              "  }\n",
              "\n",
              "  .colab-df-quickchart {\n",
              "    background-color: var(--bg-color);\n",
              "    border: none;\n",
              "    border-radius: 50%;\n",
              "    cursor: pointer;\n",
              "    display: none;\n",
              "    fill: var(--fill-color);\n",
              "    height: 32px;\n",
              "    padding: 0;\n",
              "    width: 32px;\n",
              "  }\n",
              "\n",
              "  .colab-df-quickchart:hover {\n",
              "    background-color: var(--hover-bg-color);\n",
              "    box-shadow: 0 1px 2px rgba(60, 64, 67, 0.3), 0 1px 3px 1px rgba(60, 64, 67, 0.15);\n",
              "    fill: var(--button-hover-fill-color);\n",
              "  }\n",
              "\n",
              "  .colab-df-quickchart-complete:disabled,\n",
              "  .colab-df-quickchart-complete:disabled:hover {\n",
              "    background-color: var(--disabled-bg-color);\n",
              "    fill: var(--disabled-fill-color);\n",
              "    box-shadow: none;\n",
              "  }\n",
              "\n",
              "  .colab-df-spinner {\n",
              "    border: 2px solid var(--fill-color);\n",
              "    border-color: transparent;\n",
              "    border-bottom-color: var(--fill-color);\n",
              "    animation:\n",
              "      spin 1s steps(1) infinite;\n",
              "  }\n",
              "\n",
              "  @keyframes spin {\n",
              "    0% {\n",
              "      border-color: transparent;\n",
              "      border-bottom-color: var(--fill-color);\n",
              "      border-left-color: var(--fill-color);\n",
              "    }\n",
              "    20% {\n",
              "      border-color: transparent;\n",
              "      border-left-color: var(--fill-color);\n",
              "      border-top-color: var(--fill-color);\n",
              "    }\n",
              "    30% {\n",
              "      border-color: transparent;\n",
              "      border-left-color: var(--fill-color);\n",
              "      border-top-color: var(--fill-color);\n",
              "      border-right-color: var(--fill-color);\n",
              "    }\n",
              "    40% {\n",
              "      border-color: transparent;\n",
              "      border-right-color: var(--fill-color);\n",
              "      border-top-color: var(--fill-color);\n",
              "    }\n",
              "    60% {\n",
              "      border-color: transparent;\n",
              "      border-right-color: var(--fill-color);\n",
              "    }\n",
              "    80% {\n",
              "      border-color: transparent;\n",
              "      border-right-color: var(--fill-color);\n",
              "      border-bottom-color: var(--fill-color);\n",
              "    }\n",
              "    90% {\n",
              "      border-color: transparent;\n",
              "      border-bottom-color: var(--fill-color);\n",
              "    }\n",
              "  }\n",
              "</style>\n",
              "\n",
              "      <script>\n",
              "        async function quickchart(key) {\n",
              "          const quickchartButtonEl =\n",
              "            document.querySelector('#' + key + ' button');\n",
              "          quickchartButtonEl.disabled = true;  // To prevent multiple clicks.\n",
              "          quickchartButtonEl.classList.add('colab-df-spinner');\n",
              "          try {\n",
              "            const charts = await google.colab.kernel.invokeFunction(\n",
              "                'suggestCharts', [key], {});\n",
              "          } catch (error) {\n",
              "            console.error('Error during call to suggestCharts:', error);\n",
              "          }\n",
              "          quickchartButtonEl.classList.remove('colab-df-spinner');\n",
              "          quickchartButtonEl.classList.add('colab-df-quickchart-complete');\n",
              "        }\n",
              "        (() => {\n",
              "          let quickchartButtonEl =\n",
              "            document.querySelector('#df-66fe8e6f-036e-42a6-a7b6-6ea8b907c15e button');\n",
              "          quickchartButtonEl.style.display =\n",
              "            google.colab.kernel.accessAllowed ? 'block' : 'none';\n",
              "        })();\n",
              "      </script>\n",
              "    </div>\n",
              "\n",
              "    </div>\n",
              "  </div>\n"
            ],
            "application/vnd.google.colaboratory.intrinsic+json": {
              "type": "dataframe",
              "variable_name": "df",
              "summary": "{\n  \"name\": \"df\",\n  \"rows\": 1485,\n  \"fields\": [\n    {\n      \"column\": \"\\ub0a0\\uc9dc\",\n      \"properties\": {\n        \"dtype\": \"date\",\n        \"min\": \"2021-07-28 00:00:00\",\n        \"max\": \"2025-08-12 00:00:00\",\n        \"num_unique_values\": 990,\n        \"samples\": [\n          \"2024.09.25\",\n          \"2024.04.01\",\n          \"2023.07.20\"\n        ],\n        \"semantic_type\": \"\",\n        \"description\": \"\"\n      }\n    },\n    {\n      \"column\": \"\\uc885\\uac00\",\n      \"properties\": {\n        \"dtype\": \"number\",\n        \"std\": 8443.918061786948,\n        \"min\": 49900.0,\n        \"max\": 87800.0,\n        \"num_unique_values\": 305,\n        \"samples\": [\n          84100.0,\n          81300.0,\n          64400.0\n        ],\n        \"semantic_type\": \"\",\n        \"description\": \"\"\n      }\n    },\n    {\n      \"column\": \"\\uc804\\uc77c\\ube44\",\n      \"properties\": {\n        \"dtype\": \"category\",\n        \"num_unique_values\": 68,\n        \"samples\": [\n          \"\\ud558\\ub77d  1,300\",\n          \"\\uc0c1\\uc2b9  1,000\",\n          \"\\ud558\\ub77d  1,100\"\n        ],\n        \"semantic_type\": \"\",\n        \"description\": \"\"\n      }\n    },\n    {\n      \"column\": \"\\uc2dc\\uac00\",\n      \"properties\": {\n        \"dtype\": \"number\",\n        \"std\": 8503.876386389888,\n        \"min\": 50200.0,\n        \"max\": 88500.0,\n        \"num_unique_values\": 302,\n        \"samples\": [\n          79600.0,\n          68700.0,\n          63800.0\n        ],\n        \"semantic_type\": \"\",\n        \"description\": \"\"\n      }\n    },\n    {\n      \"column\": \"\\uace0\\uac00\",\n      \"properties\": {\n        \"dtype\": \"number\",\n        \"std\": 8472.094419847464,\n        \"min\": 51400.0,\n        \"max\": 88800.0,\n        \"num_unique_values\": 303,\n        \"samples\": [\n          83200.0,\n          72300.0,\n          71200.0\n        ],\n        \"semantic_type\": \"\",\n        \"description\": \"\"\n      }\n    },\n    {\n      \"column\": \"\\uc800\\uac00\",\n      \"properties\": {\n        \"dtype\": \"number\",\n        \"std\": 8395.04040636724,\n        \"min\": 49900.0,\n        \"max\": 87100.0,\n        \"num_unique_values\": 301,\n        \"samples\": [\n          77600.0,\n          74600.0,\n          66700.0\n        ],\n        \"semantic_type\": \"\",\n        \"description\": \"\"\n      }\n    },\n    {\n      \"column\": \"\\uac70\\ub798\\ub7c9\",\n      \"properties\": {\n        \"dtype\": \"number\",\n        \"std\": 7451508.719962624,\n        \"min\": 5767902.0,\n        \"max\": 61270643.0,\n        \"num_unique_values\": 990,\n        \"samples\": [\n          28652438.0,\n          20116513.0,\n          9732730.0\n        ],\n        \"semantic_type\": \"\",\n        \"description\": \"\"\n      }\n    }\n  ]\n}"
            }
          },
          "metadata": {},
          "execution_count": 23
        }
      ]
    },
    {
      "cell_type": "markdown",
      "source": [
        "### df 전처리"
      ],
      "metadata": {
        "id": "-WaJBT3dJjRT"
      }
    },
    {
      "cell_type": "code",
      "source": [
        "# df 전처리\n",
        "df.dropna(inplace=True)\n",
        "\n",
        "# 컬럼명 변경\n",
        "df.columns = ['Date', 'Close', 'Gap', 'Open', 'High', 'Low', 'Amount']\n",
        "\n",
        "# 불필요 컬럼 제거\n",
        "df.drop(['Gap'], axis=1, inplace=True)\n",
        "\n",
        "# 시간순 정렬\n",
        "df.sort_values(['Date'], inplace=True)\n",
        "df.reset_index(drop=True, inplace=True)\n",
        "\n",
        "print(df.shape)"
      ],
      "metadata": {
        "id": "zXnp4exKFmbj",
        "colab": {
          "base_uri": "https://localhost:8080/"
        },
        "outputId": "c509b8f0-091c-4741-e3f6-bae68e6c13df"
      },
      "execution_count": 24,
      "outputs": [
        {
          "output_type": "stream",
          "name": "stdout",
          "text": [
            "(990, 6)\n"
          ]
        }
      ]
    },
    {
      "cell_type": "code",
      "source": [
        "# train / test 분리 (train 만 이용해서 학습 및 추론, test는 모델에 input으로 사용 X(미래 값이므로))\n",
        "train_df = df.loc[df.Date < '2024.04.03'] # 여기까지만 사용\n",
        "test_df = df.loc[df.Date >= '2024.04.03'] # 모델 학습이 끝난 뒤에 성능 평가용\n",
        "print(train_df.tail())\n",
        "print(test_df)\n",
        "\n",
        "train_df.drop(['Date'], axis=1, inplace=True)\n",
        "\n",
        "# scaling\n",
        "scaler = StandardScaler()\n",
        "scaler.fit(train_df)\n",
        "s_train_df = scaler.transform(train_df)\n",
        "s_test_df = scaler.transform(test_df.drop(['Date'], axis=1))"
      ],
      "metadata": {
        "id": "elBas4YcmD6v",
        "colab": {
          "base_uri": "https://localhost:8080/"
        },
        "outputId": "2b1fc0ba-9d57-429f-f015-64bccac97202"
      },
      "execution_count": 25,
      "outputs": [
        {
          "output_type": "stream",
          "name": "stdout",
          "text": [
            "           Date    Close     Open     High      Low      Amount\n",
            "655  2024.03.27  79800.0  79200.0  80000.0  79200.0  17424595.0\n",
            "656  2024.03.28  80800.0  79400.0  81000.0  79200.0  25084812.0\n",
            "657  2024.03.29  82400.0  81200.0  82500.0  80900.0  27126366.0\n",
            "658  2024.04.01  82000.0  83200.0  83300.0  82000.0  20116513.0\n",
            "659  2024.04.02  85000.0  82900.0  85000.0  82900.0  37077944.0\n",
            "           Date    Close     Open     High      Low      Amount\n",
            "660  2024.04.03  84100.0  84300.0  85000.0  83500.0  30493347.0\n",
            "661  2024.04.04  85300.0  85200.0  85500.0  84300.0  25248934.0\n",
            "662  2024.04.05  84500.0  84500.0  85000.0  83800.0  18883752.0\n",
            "663  2024.04.08  84500.0  85200.0  86000.0  84500.0  18953232.0\n",
            "664  2024.04.09  83600.0  84500.0  84900.0  83100.0  23725956.0\n",
            "..          ...      ...      ...      ...      ...         ...\n",
            "985  2025.08.06  68800.0  69200.0  69400.0  68300.0  12542415.0\n",
            "986  2025.08.07  70500.0  70800.0  71000.0  69700.0  15008213.0\n",
            "987  2025.08.08  71800.0  71000.0  72400.0  70700.0  22241128.0\n",
            "988  2025.08.11  71000.0  72000.0  72100.0  70800.0  11354253.0\n",
            "989  2025.08.12  71500.0  71100.0  72400.0  71100.0  10610578.0\n",
            "\n",
            "[330 rows x 6 columns]\n"
          ]
        },
        {
          "output_type": "stream",
          "name": "stderr",
          "text": [
            "/tmp/ipython-input-2708960873.py:7: SettingWithCopyWarning: \n",
            "A value is trying to be set on a copy of a slice from a DataFrame\n",
            "\n",
            "See the caveats in the documentation: https://pandas.pydata.org/pandas-docs/stable/user_guide/indexing.html#returning-a-view-versus-a-copy\n",
            "  train_df.drop(['Date'], axis=1, inplace=True)\n"
          ]
        }
      ]
    },
    {
      "cell_type": "markdown",
      "source": [
        "### 학습용 Dataset으로 재구성"
      ],
      "metadata": {
        "id": "1WQC0CcvJ1ST"
      }
    },
    {
      "cell_type": "code",
      "source": [
        "# Define the window sizes\n",
        "input_window = 30\n",
        "output_window = 5\n",
        "\n",
        "# Create the dataset\n",
        "data = torch.tensor(s_train_df, dtype=torch.float32)\n",
        "target = torch.tensor(s_train_df.T[0], dtype=torch.float32)\n",
        "\n",
        "# Create the input and output sequences\n",
        "X, Y = [], []\n",
        "for i in range(len(data) - input_window - output_window + 1):\n",
        "    X.append(data[i:i+input_window])\n",
        "    Y.append(target[i+input_window:i+input_window+output_window])\n",
        "\n",
        "# Create the TensorDataset\n",
        "dataset = TensorDataset(torch.stack(X), torch.stack(Y))\n",
        "print(dataset[0][0].shape) # seq_size(30일), input_size(close, Open, high, low, amount)\n",
        "print(dataset[0][1].shape) # output_size(5일치 Close)\n",
        "\n",
        "# Create the DataLoader\n",
        "dataloader = DataLoader(dataset, batch_size=32, shuffle=True)\n",
        "\n",
        "# Print the dataset size\n",
        "print(len(dataloader))"
      ],
      "metadata": {
        "id": "x7qlEoSFKERu",
        "colab": {
          "base_uri": "https://localhost:8080/"
        },
        "outputId": "1ca2c660-00f9-4364-efe9-93526cbf1e30"
      },
      "execution_count": 26,
      "outputs": [
        {
          "output_type": "stream",
          "name": "stdout",
          "text": [
            "torch.Size([30, 5])\n",
            "torch.Size([5])\n",
            "20\n"
          ]
        }
      ]
    },
    {
      "cell_type": "markdown",
      "source": [
        "### LSTM Net 구성 및 학습"
      ],
      "metadata": {
        "id": "8bGsyol0SBb2"
      }
    },
    {
      "cell_type": "code",
      "source": [
        "# 모델 선언\n",
        "class MyForecastingModel(nn.Module):\n",
        "    def __init__(self, input_size, hidden_size, output_size):\n",
        "        super(MyForecastingModel, self).__init__()\n",
        "\n",
        "        self.input_size = input_size\n",
        "        self.hidden_size = hidden_size\n",
        "        self.output_size = output_size\n",
        "\n",
        "        # layer 선언\n",
        "        self.lstm = nn.LSTM(input_size, hidden_size, batch_first=True)\n",
        "        self.fc1 = nn.Linear(hidden_size, hidden_size//2)\n",
        "        self.fc2 = nn.Linear(hidden_size//2, output_size)\n",
        "\n",
        "    def forward(self, x):\n",
        "        output, (h_out, c_out) = self.lstm(x)\n",
        "        h_out = h_out.view(-1, self.hidden_size)\n",
        "        out = F.relu(self.fc1(h_out))\n",
        "        out = self.fc2(out)\n",
        "        return out\n",
        "\n",
        "model = MyForecastingModel(input_size=5, hidden_size=30, output_size=5)"
      ],
      "metadata": {
        "id": "rapOg_ihMvWw"
      },
      "execution_count": 27,
      "outputs": []
    },
    {
      "cell_type": "markdown",
      "source": [
        "### Training loop"
      ],
      "metadata": {
        "id": "HH1p1Sj8eoJX"
      }
    },
    {
      "cell_type": "code",
      "source": [
        "# GPU 지정\n",
        "device = torch.device('cuda' if torch.cuda.is_available() else 'cpu')\n",
        "print(device)\n",
        "print(model.to(device))\n",
        "next(model.parameters()).device # model parameter 위치 확인 (cuda or cpu)\n",
        "\n",
        "# Define the optimizer and loss function\n",
        "optimizer = torch.optim.Adam(model.parameters(), lr=0.001)\n",
        "criterion = nn.MSELoss()"
      ],
      "metadata": {
        "id": "q4Az14obe7Ye",
        "colab": {
          "base_uri": "https://localhost:8080/"
        },
        "outputId": "0be68c81-b0b6-45cf-d2c9-2bc73ed7f720"
      },
      "execution_count": 28,
      "outputs": [
        {
          "output_type": "stream",
          "name": "stdout",
          "text": [
            "cpu\n",
            "MyForecastingModel(\n",
            "  (lstm): LSTM(5, 30, batch_first=True)\n",
            "  (fc1): Linear(in_features=30, out_features=15, bias=True)\n",
            "  (fc2): Linear(in_features=15, out_features=5, bias=True)\n",
            ")\n"
          ]
        }
      ]
    },
    {
      "cell_type": "code",
      "source": [
        "# Training\n",
        "num_epoch = 100\n",
        "losses = []\n",
        "\n",
        "for epoch in range(num_epoch):\n",
        "    for i, (inputs, labels) in enumerate(dataloader):\n",
        "        inputs = inputs.to(device)\n",
        "        labels = labels.to(device)\n",
        "\n",
        "        # Forward pass\n",
        "        outputs = model(inputs)\n",
        "        loss = criterion(outputs, labels)\n",
        "\n",
        "        losses.append(loss.item())\n",
        "\n",
        "        # Backward pass\n",
        "        optimizer.zero_grad()\n",
        "        loss.backward()\n",
        "        optimizer.step()\n",
        "\n",
        "        # Print the loss every 100 iterations\n",
        "        if i % 100 == 0:\n",
        "            print(f'Epoch: {epoch+1}/{num_epoch}, Iteration: {i+1}/{len(dataloader)}, Loss: {loss.item():.4f}')"
      ],
      "metadata": {
        "id": "iuvkLhQWSLC6",
        "colab": {
          "base_uri": "https://localhost:8080/"
        },
        "outputId": "e7aeb6b9-ddef-4e7a-847a-fe48737053c4"
      },
      "execution_count": 29,
      "outputs": [
        {
          "output_type": "stream",
          "name": "stdout",
          "text": [
            "Epoch: 1/100, Iteration: 1/20, Loss: 0.8318\n",
            "Epoch: 2/100, Iteration: 1/20, Loss: 0.9536\n",
            "Epoch: 3/100, Iteration: 1/20, Loss: 0.8384\n",
            "Epoch: 4/100, Iteration: 1/20, Loss: 0.6599\n",
            "Epoch: 5/100, Iteration: 1/20, Loss: 0.3248\n",
            "Epoch: 6/100, Iteration: 1/20, Loss: 0.2177\n",
            "Epoch: 7/100, Iteration: 1/20, Loss: 0.0935\n",
            "Epoch: 8/100, Iteration: 1/20, Loss: 0.1272\n",
            "Epoch: 9/100, Iteration: 1/20, Loss: 0.0760\n",
            "Epoch: 10/100, Iteration: 1/20, Loss: 0.0752\n",
            "Epoch: 11/100, Iteration: 1/20, Loss: 0.0481\n",
            "Epoch: 12/100, Iteration: 1/20, Loss: 0.0559\n",
            "Epoch: 13/100, Iteration: 1/20, Loss: 0.0870\n",
            "Epoch: 14/100, Iteration: 1/20, Loss: 0.0499\n",
            "Epoch: 15/100, Iteration: 1/20, Loss: 0.0786\n",
            "Epoch: 16/100, Iteration: 1/20, Loss: 0.0704\n",
            "Epoch: 17/100, Iteration: 1/20, Loss: 0.0565\n",
            "Epoch: 18/100, Iteration: 1/20, Loss: 0.0666\n",
            "Epoch: 19/100, Iteration: 1/20, Loss: 0.0564\n",
            "Epoch: 20/100, Iteration: 1/20, Loss: 0.0877\n",
            "Epoch: 21/100, Iteration: 1/20, Loss: 0.0629\n",
            "Epoch: 22/100, Iteration: 1/20, Loss: 0.0357\n",
            "Epoch: 23/100, Iteration: 1/20, Loss: 0.0485\n",
            "Epoch: 24/100, Iteration: 1/20, Loss: 0.0345\n",
            "Epoch: 25/100, Iteration: 1/20, Loss: 0.0475\n",
            "Epoch: 26/100, Iteration: 1/20, Loss: 0.0641\n",
            "Epoch: 27/100, Iteration: 1/20, Loss: 0.0530\n",
            "Epoch: 28/100, Iteration: 1/20, Loss: 0.0392\n",
            "Epoch: 29/100, Iteration: 1/20, Loss: 0.0326\n",
            "Epoch: 30/100, Iteration: 1/20, Loss: 0.0547\n",
            "Epoch: 31/100, Iteration: 1/20, Loss: 0.0537\n",
            "Epoch: 32/100, Iteration: 1/20, Loss: 0.0348\n",
            "Epoch: 33/100, Iteration: 1/20, Loss: 0.0397\n",
            "Epoch: 34/100, Iteration: 1/20, Loss: 0.0509\n",
            "Epoch: 35/100, Iteration: 1/20, Loss: 0.0474\n",
            "Epoch: 36/100, Iteration: 1/20, Loss: 0.0361\n",
            "Epoch: 37/100, Iteration: 1/20, Loss: 0.0443\n",
            "Epoch: 38/100, Iteration: 1/20, Loss: 0.0456\n",
            "Epoch: 39/100, Iteration: 1/20, Loss: 0.0260\n",
            "Epoch: 40/100, Iteration: 1/20, Loss: 0.0341\n",
            "Epoch: 41/100, Iteration: 1/20, Loss: 0.0555\n",
            "Epoch: 42/100, Iteration: 1/20, Loss: 0.0447\n",
            "Epoch: 43/100, Iteration: 1/20, Loss: 0.0371\n",
            "Epoch: 44/100, Iteration: 1/20, Loss: 0.0604\n",
            "Epoch: 45/100, Iteration: 1/20, Loss: 0.0316\n",
            "Epoch: 46/100, Iteration: 1/20, Loss: 0.0323\n",
            "Epoch: 47/100, Iteration: 1/20, Loss: 0.0228\n",
            "Epoch: 48/100, Iteration: 1/20, Loss: 0.0397\n",
            "Epoch: 49/100, Iteration: 1/20, Loss: 0.0400\n",
            "Epoch: 50/100, Iteration: 1/20, Loss: 0.0371\n",
            "Epoch: 51/100, Iteration: 1/20, Loss: 0.0408\n",
            "Epoch: 52/100, Iteration: 1/20, Loss: 0.0318\n",
            "Epoch: 53/100, Iteration: 1/20, Loss: 0.0333\n",
            "Epoch: 54/100, Iteration: 1/20, Loss: 0.0290\n",
            "Epoch: 55/100, Iteration: 1/20, Loss: 0.0328\n",
            "Epoch: 56/100, Iteration: 1/20, Loss: 0.0370\n",
            "Epoch: 57/100, Iteration: 1/20, Loss: 0.0280\n",
            "Epoch: 58/100, Iteration: 1/20, Loss: 0.0377\n",
            "Epoch: 59/100, Iteration: 1/20, Loss: 0.0344\n",
            "Epoch: 60/100, Iteration: 1/20, Loss: 0.0224\n",
            "Epoch: 61/100, Iteration: 1/20, Loss: 0.0340\n",
            "Epoch: 62/100, Iteration: 1/20, Loss: 0.0253\n",
            "Epoch: 63/100, Iteration: 1/20, Loss: 0.0231\n",
            "Epoch: 64/100, Iteration: 1/20, Loss: 0.0254\n",
            "Epoch: 65/100, Iteration: 1/20, Loss: 0.0281\n",
            "Epoch: 66/100, Iteration: 1/20, Loss: 0.0212\n",
            "Epoch: 67/100, Iteration: 1/20, Loss: 0.0261\n",
            "Epoch: 68/100, Iteration: 1/20, Loss: 0.0257\n",
            "Epoch: 69/100, Iteration: 1/20, Loss: 0.0189\n",
            "Epoch: 70/100, Iteration: 1/20, Loss: 0.0242\n",
            "Epoch: 71/100, Iteration: 1/20, Loss: 0.0176\n",
            "Epoch: 72/100, Iteration: 1/20, Loss: 0.0268\n",
            "Epoch: 73/100, Iteration: 1/20, Loss: 0.0207\n",
            "Epoch: 74/100, Iteration: 1/20, Loss: 0.0222\n",
            "Epoch: 75/100, Iteration: 1/20, Loss: 0.0179\n",
            "Epoch: 76/100, Iteration: 1/20, Loss: 0.0256\n",
            "Epoch: 77/100, Iteration: 1/20, Loss: 0.0226\n",
            "Epoch: 78/100, Iteration: 1/20, Loss: 0.0208\n",
            "Epoch: 79/100, Iteration: 1/20, Loss: 0.0275\n",
            "Epoch: 80/100, Iteration: 1/20, Loss: 0.0181\n",
            "Epoch: 81/100, Iteration: 1/20, Loss: 0.0182\n",
            "Epoch: 82/100, Iteration: 1/20, Loss: 0.0255\n",
            "Epoch: 83/100, Iteration: 1/20, Loss: 0.0225\n",
            "Epoch: 84/100, Iteration: 1/20, Loss: 0.0224\n",
            "Epoch: 85/100, Iteration: 1/20, Loss: 0.0120\n",
            "Epoch: 86/100, Iteration: 1/20, Loss: 0.0169\n",
            "Epoch: 87/100, Iteration: 1/20, Loss: 0.0133\n",
            "Epoch: 88/100, Iteration: 1/20, Loss: 0.0182\n",
            "Epoch: 89/100, Iteration: 1/20, Loss: 0.0189\n",
            "Epoch: 90/100, Iteration: 1/20, Loss: 0.0145\n",
            "Epoch: 91/100, Iteration: 1/20, Loss: 0.0184\n",
            "Epoch: 92/100, Iteration: 1/20, Loss: 0.0154\n",
            "Epoch: 93/100, Iteration: 1/20, Loss: 0.0167\n",
            "Epoch: 94/100, Iteration: 1/20, Loss: 0.0222\n",
            "Epoch: 95/100, Iteration: 1/20, Loss: 0.0157\n",
            "Epoch: 96/100, Iteration: 1/20, Loss: 0.0168\n",
            "Epoch: 97/100, Iteration: 1/20, Loss: 0.0174\n",
            "Epoch: 98/100, Iteration: 1/20, Loss: 0.0189\n",
            "Epoch: 99/100, Iteration: 1/20, Loss: 0.0172\n",
            "Epoch: 100/100, Iteration: 1/20, Loss: 0.0181\n"
          ]
        }
      ]
    },
    {
      "cell_type": "markdown",
      "source": [
        "### Loss 시각화"
      ],
      "metadata": {
        "id": "w5Ze_a1ifr6B"
      }
    },
    {
      "cell_type": "code",
      "source": [
        "import matplotlib.pyplot as plt\n",
        "\n",
        "# Plot the loss values\n",
        "plt.plot(losses)\n",
        "plt.xlabel('Iteration')\n",
        "plt.ylabel('Loss')\n",
        "plt.title('Loss Plot')\n",
        "plt.show()"
      ],
      "metadata": {
        "id": "JrmgNsSafMfv",
        "colab": {
          "base_uri": "https://localhost:8080/",
          "height": 472
        },
        "outputId": "cf90e150-34cb-49d0-b4cd-97d27e686f57"
      },
      "execution_count": 30,
      "outputs": [
        {
          "output_type": "display_data",
          "data": {
            "text/plain": [
              "<Figure size 640x480 with 1 Axes>"
            ],
            "image/png": "[encoded data removed]"
          },
          "metadata": {}
        }
      ]
    },
    {
      "cell_type": "markdown",
      "source": [
        "# 모델 평가"
      ],
      "metadata": {
        "id": "Ca7XqTOkVoEV"
      }
    },
    {
      "cell_type": "code",
      "source": [
        "y_real = s_test_df.T[0]\n",
        "print('스케일링 된 실제 값 : ',y_real)\n",
        "\n",
        "input = torch.tensor(s_train_df[-input_window:], dtype=torch.float32)\n",
        "y_pred = model(input.to(device)).detach().cpu().squeeze().numpy()\n",
        "print('스케일링 된 예측 값 : ',y_pred)\n",
        "\n",
        "\n",
        "# 스케일링 원복\n",
        "print('마지막 5일 실제 종가 : ',scaler.inverse_transform(s_test_df[:output_window]).T[0])\n",
        "transformed_y_pred = y_pred * np.sqrt(scaler.var_[0]) + scaler.mean_[0]\n",
        "print('마지막 5일 예측 종가 : ', transformed_y_pred)\n",
        "\n",
        "print('오차(RMSE) : ', np.sqrt(mean_squared_error(transformed_y_pred, scaler.inverse_transform(s_test_df[:output_window]).T[0])))"
      ],
      "metadata": {
        "colab": {
          "base_uri": "https://localhost:8080/"
        },
        "id": "onDibLKVVl4b",
        "outputId": "077f2065-664e-4ac0-fe2e-158024443e5f"
      },
      "execution_count": 32,
      "outputs": [
        {
          "output_type": "stream",
          "name": "stdout",
          "text": [
            "스케일링 된 실제 값 :  [ 2.39485176  2.5737811   2.45449487  2.45449487  2.32029786  2.39485176\n",
            "  2.33520864  2.11154697  1.78350984  1.61949128  1.72386673  1.42565116\n",
            "  1.20198948  1.11252481  1.57475894  1.23181104  1.29145415  1.29145415\n",
            "  1.41074038  1.48529427  1.42565116  1.97734996  1.97734996  1.7387775\n",
            "  1.66422361  1.54493738  1.53002661  1.51511583  1.3958296   1.61949128\n",
            "  1.54493738  1.44056194  1.53002661  1.17216792  1.36600804  1.42565116\n",
            "  1.06779247  0.81430924  0.81430924  1.14234637  1.08270325  1.3958296\n",
            "  1.38091882  1.14234637  1.06779247  1.26163259  1.57475894  1.72386673\n",
            "  1.50020505  1.75368828  1.96243918  2.02208229  1.78350984  1.87297451\n",
            "  1.90279607  1.97734996  2.02208229  2.00717152  2.05190385  2.05190385\n",
            "  2.05190385  2.46940565  2.84217511  2.88690745  2.94655056  2.94655056\n",
            "  2.916729    2.43958409  2.782532    2.93163978  2.782532    2.81235355\n",
            "  2.43958409  2.23083319  2.3650302   2.08172541  1.84315295  1.91770685\n",
            "  1.96243918  1.93261762  2.3650302   2.24574397  1.72386673  0.50118289\n",
            "  0.66520146  0.99323858  0.79939846  0.99323858  1.11252481  1.20198948\n",
            "  1.36600804  1.8133314   1.53002661  1.61949128  1.53002661  1.53002661\n",
            "  1.44056194  1.20198948  1.15725714  1.24672182  0.88886313  0.93359547\n",
            "  0.94850625  0.66520146  0.29243199  0.14332421  0.12841343 -0.08033747\n",
            " -0.27417759 -0.46801771 -0.25926681 -0.5425716  -0.73641172 -0.7513225\n",
            " -0.81096561 -0.72150094 -0.87060872 -0.49783926 -0.57239316 -0.97498417\n",
            " -1.00480573 -1.10918118 -1.04953807 -1.15391352 -1.36266441 -1.3030213\n",
            " -1.07935962 -1.04953807 -1.27319974 -1.24337819 -1.31793208 -1.34775364\n",
            " -1.54159376 -1.33284286 -1.70561232 -1.80998777 -1.48195064 -1.25828896\n",
            " -1.33284286 -1.31793208 -1.45212908 -1.39248597 -1.55650453 -1.60123687\n",
            " -1.57141531 -1.6459692  -1.94418477 -2.24240034 -2.60025903 -2.70463447\n",
            " -2.16784645 -1.69070154 -1.75034465 -1.89945244 -1.73543388 -1.79507699\n",
            " -1.5117722  -1.45212908 -1.75034465 -1.86963088 -2.063471   -2.15293567\n",
            " -2.15293567 -2.22748956 -2.13802489 -2.07838178 -2.18275723 -2.09329256\n",
            " -2.09329256 -1.80998777 -1.78016621 -1.8547201  -2.063471   -1.95909555\n",
            " -2.22748956 -2.24240034 -2.16784645 -2.03364944 -2.15293567 -2.13802489\n",
            " -2.21257879 -2.18275723 -2.03364944 -1.80998777 -1.88454166 -1.60123687\n",
            " -1.78016621 -1.89945244 -2.07838178 -2.10820334 -2.13802489 -2.04856022\n",
            " -2.13802489 -2.18275723 -2.16784645 -2.04856022 -2.13802489 -2.13802489\n",
            " -2.33186501 -2.54061591 -2.28713268 -2.25731112 -2.09329256 -2.13802489\n",
            " -1.8547201  -1.83980932 -1.82489855 -1.82489855 -1.79507699 -1.79507699\n",
            " -1.66087998 -1.39248597 -1.43721831 -1.46703986 -1.60123687 -1.61614765\n",
            " -1.70561232 -1.75034465 -2.01873867 -2.01873867 -2.09329256 -2.04856022\n",
            " -2.13802489 -2.13802489 -2.15293567 -1.95909555 -1.98891711 -1.98891711\n",
            " -1.55650453 -1.55650453 -1.42230753 -1.16882429 -0.94516262 -1.12409196\n",
            " -1.22846741 -0.98989495 -0.93025184 -1.16882429 -1.52668298 -1.37757519\n",
            " -1.37757519 -1.55650453 -1.78016621 -2.21257879 -2.16784645 -2.24240034\n",
            " -1.73543388 -1.91436322 -1.76525543 -1.70561232 -1.98891711 -1.929274\n",
            " -1.89945244 -1.88454166 -1.94418477 -1.83980932 -1.83980932 -1.83980932\n",
            " -1.82489855 -1.82489855 -1.86963088 -2.04856022 -2.00382789 -2.00382789\n",
            " -1.97400633 -1.55650453 -1.66087998 -1.58632609 -1.60123687 -1.67579076\n",
            " -1.82489855 -1.80998777 -1.83980932 -1.98891711 -2.063471   -1.98891711\n",
            " -2.10820334 -1.80998777 -1.78016621 -1.76525543 -1.67579076 -1.52668298\n",
            " -1.33284286 -1.22846741 -1.31793208 -1.21355663 -1.27319974 -1.45212908\n",
            " -1.61614765 -1.48195064 -1.22846741 -1.31793208 -1.27319974 -1.49686142\n",
            " -1.12409196 -1.00480573 -1.16882429 -1.07935962 -1.22846741 -1.16882429\n",
            " -1.07935962 -0.63203627 -0.70659016 -0.94516262 -0.98989495 -1.13900274\n",
            " -1.04953807 -0.81096561 -0.82587639 -0.64694705 -0.49783926 -0.19962369\n",
            " -0.13998058 -0.03560513 -0.30399914 -0.24435603 -0.30399914 -0.31890992\n",
            "  0.35207511  0.38189667  0.68011223  0.50118289  0.12841343  0.24769966\n",
            "  0.27752122  0.11350265  0.36698589  0.56082601  0.44153978  0.51609367]\n",
            "스케일링 된 예측 값 :  [2.0159447 1.894391  1.9784342 2.053127  2.0381439]\n",
            "마지막 5일 실제 종가 :  [84100. 85300. 84500. 84500. 83600.]\n",
            "마지막 5일 예측 종가 :  [81558.83799385 80743.63053144 81307.27155566 81808.20345257\n",
            " 81707.71790627]\n",
            "오차(RMSE) :  3106.0593094728124\n"
          ]
        }
      ]
    }
  ]
}