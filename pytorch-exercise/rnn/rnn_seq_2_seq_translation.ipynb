{
  "cells": [
    {
      "cell_type": "code",
      "execution_count": null,
      "id": "4c60284e",
      "metadata": {
        "execution": {
          "iopub.execute_input": "2024-10-13T23:05:10.409308Z",
          "iopub.status.busy": "2024-10-13T23:05:10.409006Z",
          "iopub.status.idle": "2024-10-13T23:05:15.833268Z",
          "shell.execute_reply": "2024-10-13T23:05:15.832299Z"
        },
        "papermill": {
          "duration": 5.453791,
          "end_time": "2024-10-13T23:05:15.835659",
          "exception": false,
          "start_time": "2024-10-13T23:05:10.381868",
          "status": "completed"
        },
        "tags": [],
        "id": "4c60284e"
      },
      "outputs": [],
      "source": [
        "import torch\n",
        "import torch.nn as nn\n",
        "import torch.nn.functional as F\n",
        "\n",
        "from torchvision import datasets, transforms\n",
        "from torch.utils.data import Dataset, DataLoader\n",
        "\n",
        "import matplotlib.pyplot as plt\n",
        "from tqdm import tqdm\n",
        "import numpy as np\n",
        "import pandas as pd\n",
        "import gc\n",
        "import os\n",
        "import random"
      ]
    },
    {
      "cell_type": "code",
      "execution_count": null,
      "id": "b4d957c3",
      "metadata": {
        "execution": {
          "iopub.execute_input": "2024-10-13T23:05:15.885542Z",
          "iopub.status.busy": "2024-10-13T23:05:15.884828Z",
          "iopub.status.idle": "2024-10-13T23:05:15.950844Z",
          "shell.execute_reply": "2024-10-13T23:05:15.949914Z"
        },
        "papermill": {
          "duration": 0.093262,
          "end_time": "2024-10-13T23:05:15.953003",
          "exception": false,
          "start_time": "2024-10-13T23:05:15.859741",
          "status": "completed"
        },
        "tags": [],
        "id": "b4d957c3",
        "outputId": "acf37848-e34f-4f86-d388-5a72a4c5d7ff"
      },
      "outputs": [
        {
          "name": "stdout",
          "output_type": "stream",
          "text": [
            "cuda\n"
          ]
        }
      ],
      "source": [
        "device = 'cuda' if torch.cuda.is_available() else 'cpu'\n",
        "print(device)"
      ]
    },
    {
      "cell_type": "code",
      "execution_count": null,
      "id": "f3db71df",
      "metadata": {
        "execution": {
          "iopub.execute_input": "2024-10-13T23:05:16.001470Z",
          "iopub.status.busy": "2024-10-13T23:05:16.001114Z",
          "iopub.status.idle": "2024-10-13T23:05:16.013489Z",
          "shell.execute_reply": "2024-10-13T23:05:16.012801Z"
        },
        "papermill": {
          "duration": 0.03895,
          "end_time": "2024-10-13T23:05:16.015434",
          "exception": false,
          "start_time": "2024-10-13T23:05:15.976484",
          "status": "completed"
        },
        "tags": [],
        "id": "f3db71df"
      },
      "outputs": [],
      "source": [
        "import math\n",
        "\n",
        "def accuracy(y_pred, y_true):\n",
        "    \"\"\"\n",
        "    Accuracy Metric\n",
        "\n",
        "    Args:\n",
        "        y_pred (np.array): model prediction of shape (batch_size,1).\n",
        "        y_true (np.array): ground truth of shape (batch_size,1).\n",
        "\n",
        "    Returns:\n",
        "        float: Accuracy value computed from given inputs.\n",
        "    \"\"\"\n",
        "\n",
        "    correct = y_pred == y_true\n",
        "    N = len(y_true)\n",
        "    acc = correct.sum() / N\n",
        "    return acc\n",
        "\n",
        "def get_cosine_decay_with_warmup(total_steps=1000, warmup_steps=100, max_lr=1e-3, min_lr=1e-7):\n",
        "\n",
        "    def get_lr(step):\n",
        "\n",
        "        if step < warmup_steps:\n",
        "            # Linear warmup\n",
        "            return max_lr * step / warmup_steps\n",
        "        else:\n",
        "            # Cosine decay\n",
        "            cosine_decay = 0.5 * (1 + math.cos(math.pi * (step - warmup_steps) / (total_steps - warmup_steps)))\n",
        "            return min_lr + (max_lr - min_lr) * cosine_decay\n",
        "\n",
        "    return get_lr\n",
        "\n",
        "class LRScheduler:\n",
        "    def __init__(self, optimizer, lr_fn):\n",
        "        self.current_step = 0\n",
        "        self.optimizer = optimizer\n",
        "        self.lr_fn = lr_fn\n",
        "\n",
        "    def step(self):\n",
        "        lr = self.lr_fn(self.current_step)\n",
        "        for param_group in self.optimizer.param_groups:\n",
        "            param_group['lr'] = lr\n",
        "        self.current_step += 1\n",
        "        return lr\n",
        "\n",
        "def seed_everything(seed=42):\n",
        "    random.seed(seed)\n",
        "    os.environ['PYTHONHASHSEED'] = str(seed)\n",
        "    np.random.seed(seed)\n",
        "    torch.manual_seed(seed)\n",
        "    torch.cuda.manual_seed(seed)\n",
        "    torch.backends.cudnn.deterministic = True\n",
        "\n",
        "class AverageMeter:\n",
        "    \"\"\"Computes and stores the average and current value.\"\"\"\n",
        "    def __init__(self):\n",
        "        self.reset()\n",
        "\n",
        "    def reset(self):\n",
        "        \"\"\"Resets all the statistics.\"\"\"\n",
        "        self.val = 0\n",
        "        self.avg = 0\n",
        "        self.sum = 0\n",
        "        self.count = 0\n",
        "\n",
        "    def update(self, val, n=1):\n",
        "        \"\"\"Updates the meter with a new value.\n",
        "\n",
        "        Args:\n",
        "            val (float): The new value to update.\n",
        "            n (int): The number of occurrences of this value (default is 1).\n",
        "        \"\"\"\n",
        "        self.val = val\n",
        "        self.sum += val * n\n",
        "        self.count += n\n",
        "        self.avg = self.sum / self.count"
      ]
    },
    {
      "cell_type": "markdown",
      "id": "9c388119",
      "metadata": {
        "papermill": {
          "duration": 0.02315,
          "end_time": "2024-10-13T23:05:16.062043",
          "exception": false,
          "start_time": "2024-10-13T23:05:16.038893",
          "status": "completed"
        },
        "tags": [],
        "id": "9c388119"
      },
      "source": [
        "## Text Encoding"
      ]
    },
    {
      "cell_type": "code",
      "execution_count": null,
      "id": "ec361e5d",
      "metadata": {
        "execution": {
          "iopub.execute_input": "2024-10-13T23:05:16.111379Z",
          "iopub.status.busy": "2024-10-13T23:05:16.111105Z",
          "iopub.status.idle": "2024-10-13T23:05:16.116055Z",
          "shell.execute_reply": "2024-10-13T23:05:16.115207Z"
        },
        "papermill": {
          "duration": 0.032815,
          "end_time": "2024-10-13T23:05:16.118332",
          "exception": false,
          "start_time": "2024-10-13T23:05:16.085517",
          "status": "completed"
        },
        "tags": [],
        "id": "ec361e5d",
        "outputId": "8ed584f9-d91a-445d-926f-0eeecd5bdc42"
      },
      "outputs": [
        {
          "name": "stdout",
          "output_type": "stream",
          "text": [
            "b'a'\n",
            "97\n",
            "[97]\n"
          ]
        }
      ],
      "source": [
        "a = 'a'\n",
        "a_encoded = a.encode('ASCII')\n",
        "print(a_encoded) #'a' to bytes using ASCII encoding\n",
        "print(int.from_bytes(a_encoded, 'little')) #bytes to int, little endian\n",
        "print(list(a_encoded)) #bytes to int list"
      ]
    },
    {
      "cell_type": "code",
      "execution_count": null,
      "id": "7202641d",
      "metadata": {
        "execution": {
          "iopub.execute_input": "2024-10-13T23:05:16.166471Z",
          "iopub.status.busy": "2024-10-13T23:05:16.166197Z",
          "iopub.status.idle": "2024-10-13T23:05:16.170841Z",
          "shell.execute_reply": "2024-10-13T23:05:16.170001Z"
        },
        "papermill": {
          "duration": 0.031388,
          "end_time": "2024-10-13T23:05:16.172923",
          "exception": false,
          "start_time": "2024-10-13T23:05:16.141535",
          "status": "completed"
        },
        "tags": [],
        "id": "7202641d",
        "outputId": "f07fe834-2115-471f-90c3-ca78fae207a0"
      },
      "outputs": [
        {
          "name": "stdout",
          "output_type": "stream",
          "text": [
            "b'a'\n",
            "[97]\n"
          ]
        }
      ],
      "source": [
        "a = 'a'\n",
        "a_encoded = a.encode('UTF-8') #UTF is compatible with ASCII\n",
        "print(a_encoded) #'a' to bytes using utf-8 encoding\n",
        "print(list(a_encoded)) #bytes to int list"
      ]
    },
    {
      "cell_type": "code",
      "execution_count": null,
      "id": "65f2316f",
      "metadata": {
        "execution": {
          "iopub.execute_input": "2024-10-13T23:05:16.220993Z",
          "iopub.status.busy": "2024-10-13T23:05:16.220713Z",
          "iopub.status.idle": "2024-10-13T23:05:16.226214Z",
          "shell.execute_reply": "2024-10-13T23:05:16.225002Z"
        },
        "papermill": {
          "duration": 0.031481,
          "end_time": "2024-10-13T23:05:16.228085",
          "exception": false,
          "start_time": "2024-10-13T23:05:16.196604",
          "status": "completed"
        },
        "tags": [],
        "id": "65f2316f",
        "outputId": "5bda0777-953d-4c41-b1ec-ae5efd37c08a"
      },
      "outputs": [
        {
          "name": "stdout",
          "output_type": "stream",
          "text": [
            "b'hello, world!'\n",
            "[104, 101, 108, 108, 111, 44, 32, 119, 111, 114, 108, 100, 33]\n",
            "13 13\n"
          ]
        }
      ],
      "source": [
        "a = 'hello, world!'\n",
        "a_encoded = a.encode('UTF-8')\n",
        "print(a_encoded) #'a' to bytes using utf-8 encoding\n",
        "print(list(a_encoded)) #bytes to int list\n",
        "print(len(a), len(list(a_encoded)))"
      ]
    },
    {
      "cell_type": "code",
      "execution_count": null,
      "id": "793541f6",
      "metadata": {
        "execution": {
          "iopub.execute_input": "2024-10-13T23:05:16.275918Z",
          "iopub.status.busy": "2024-10-13T23:05:16.275634Z",
          "iopub.status.idle": "2024-10-13T23:05:16.281444Z",
          "shell.execute_reply": "2024-10-13T23:05:16.280606Z"
        },
        "papermill": {
          "duration": 0.031911,
          "end_time": "2024-10-13T23:05:16.283432",
          "exception": false,
          "start_time": "2024-10-13T23:05:16.251521",
          "status": "completed"
        },
        "tags": [],
        "id": "793541f6",
        "outputId": "0f0c1ebb-4e70-4721-ee4e-1e2f35f77f6d"
      },
      "outputs": [
        {
          "name": "stdout",
          "output_type": "stream",
          "text": [
            "b'\\xeb\\x94\\xa5\\xeb\\x9f\\xac\\xeb\\x8b\\x9d \\xea\\xb8\\xb0\\xec\\xb4\\x88\\xeb\\xb6\\x80\\xed\\x84\\xb0 LLM \\xec\\x8b\\xa4\\xec\\x8a\\xb5\\xea\\xb9\\x8c\\xec\\xa7\\x80'\n",
            "[235, 148, 165, 235, 159, 172, 235, 139, 157, 32, 234, 184, 176, 236, 180, 136, 235, 182, 128, 237, 132, 176, 32, 76, 76, 77, 32, 236, 139, 164, 236, 138, 181, 234, 185, 140, 236, 167, 128]\n",
            "17 39\n",
            "딥러닝 기초부터 LLM 실습까지\n",
            "[46373, 47084, 45789, 32, 44592, 52488, 48512, 53552, 32, 76, 76, 77, 32, 49892, 49845, 44620, 51648]\n"
          ]
        }
      ],
      "source": [
        "a = '딥러닝 기초부터 LLM 실습까지'\n",
        "a_encoded = a.encode('UTF-8')\n",
        "print(a_encoded) #'a' to bytes using utf-8 encoding\n",
        "print(list(a_encoded)) #bytes to int list\n",
        "print(len(a), len(list(a_encoded))) #length mismatch as variable length encoding of UTF-8\n",
        "print(a_encoded.decode('UTF-8'))\n",
        "unicode_code_points = [ord(char) for char in a] #ord(char) returns unicode encoding of char\n",
        "# Print the list of Unicode code points (integers)\n",
        "print(unicode_code_points)"
      ]
    },
    {
      "cell_type": "markdown",
      "id": "54b1acd9",
      "metadata": {
        "papermill": {
          "duration": 0.023338,
          "end_time": "2024-10-13T23:05:16.330737",
          "exception": false,
          "start_time": "2024-10-13T23:05:16.307399",
          "status": "completed"
        },
        "tags": [],
        "id": "54b1acd9"
      },
      "source": [
        "## Tokenization(BPE)"
      ]
    },
    {
      "cell_type": "code",
      "execution_count": null,
      "id": "75eed97b",
      "metadata": {
        "execution": {
          "iopub.execute_input": "2024-10-13T23:05:16.378607Z",
          "iopub.status.busy": "2024-10-13T23:05:16.378339Z",
          "iopub.status.idle": "2024-10-13T23:05:17.681064Z",
          "shell.execute_reply": "2024-10-13T23:05:17.680042Z"
        },
        "papermill": {
          "duration": 1.329035,
          "end_time": "2024-10-13T23:05:17.683158",
          "exception": false,
          "start_time": "2024-10-13T23:05:16.354123",
          "status": "completed"
        },
        "tags": [],
        "id": "75eed97b",
        "outputId": "647d8aa0-bce8-4776-cd18-f440b4659bf9"
      },
      "outputs": [
        {
          "data": {
            "text/html": [
              "<div>\n",
              "<style scoped>\n",
              "    .dataframe tbody tr th:only-of-type {\n",
              "        vertical-align: middle;\n",
              "    }\n",
              "\n",
              "    .dataframe tbody tr th {\n",
              "        vertical-align: top;\n",
              "    }\n",
              "\n",
              "    .dataframe thead th {\n",
              "        text-align: right;\n",
              "    }\n",
              "</style>\n",
              "<table border=\"1\" class=\"dataframe\">\n",
              "  <thead>\n",
              "    <tr style=\"text-align: right;\">\n",
              "      <th></th>\n",
              "      <th>review</th>\n",
              "      <th>sentiment</th>\n",
              "    </tr>\n",
              "  </thead>\n",
              "  <tbody>\n",
              "    <tr>\n",
              "      <th>0</th>\n",
              "      <td>One of the other reviewers has mentioned that ...</td>\n",
              "      <td>positive</td>\n",
              "    </tr>\n",
              "    <tr>\n",
              "      <th>1</th>\n",
              "      <td>A wonderful little production. &lt;br /&gt;&lt;br /&gt;The...</td>\n",
              "      <td>positive</td>\n",
              "    </tr>\n",
              "    <tr>\n",
              "      <th>2</th>\n",
              "      <td>I thought this was a wonderful way to spend ti...</td>\n",
              "      <td>positive</td>\n",
              "    </tr>\n",
              "    <tr>\n",
              "      <th>3</th>\n",
              "      <td>Basically there's a family where a little boy ...</td>\n",
              "      <td>negative</td>\n",
              "    </tr>\n",
              "    <tr>\n",
              "      <th>4</th>\n",
              "      <td>Petter Mattei's \"Love in the Time of Money\" is...</td>\n",
              "      <td>positive</td>\n",
              "    </tr>\n",
              "    <tr>\n",
              "      <th>...</th>\n",
              "      <td>...</td>\n",
              "      <td>...</td>\n",
              "    </tr>\n",
              "    <tr>\n",
              "      <th>49995</th>\n",
              "      <td>I thought this movie did a down right good job...</td>\n",
              "      <td>positive</td>\n",
              "    </tr>\n",
              "    <tr>\n",
              "      <th>49996</th>\n",
              "      <td>Bad plot, bad dialogue, bad acting, idiotic di...</td>\n",
              "      <td>negative</td>\n",
              "    </tr>\n",
              "    <tr>\n",
              "      <th>49997</th>\n",
              "      <td>I am a Catholic taught in parochial elementary...</td>\n",
              "      <td>negative</td>\n",
              "    </tr>\n",
              "    <tr>\n",
              "      <th>49998</th>\n",
              "      <td>I'm going to have to disagree with the previou...</td>\n",
              "      <td>negative</td>\n",
              "    </tr>\n",
              "    <tr>\n",
              "      <th>49999</th>\n",
              "      <td>No one expects the Star Trek movies to be high...</td>\n",
              "      <td>negative</td>\n",
              "    </tr>\n",
              "  </tbody>\n",
              "</table>\n",
              "<p>50000 rows × 2 columns</p>\n",
              "</div>"
            ],
            "text/plain": [
              "                                                  review sentiment\n",
              "0      One of the other reviewers has mentioned that ...  positive\n",
              "1      A wonderful little production. <br /><br />The...  positive\n",
              "2      I thought this was a wonderful way to spend ti...  positive\n",
              "3      Basically there's a family where a little boy ...  negative\n",
              "4      Petter Mattei's \"Love in the Time of Money\" is...  positive\n",
              "...                                                  ...       ...\n",
              "49995  I thought this movie did a down right good job...  positive\n",
              "49996  Bad plot, bad dialogue, bad acting, idiotic di...  negative\n",
              "49997  I am a Catholic taught in parochial elementary...  negative\n",
              "49998  I'm going to have to disagree with the previou...  negative\n",
              "49999  No one expects the Star Trek movies to be high...  negative\n",
              "\n",
              "[50000 rows x 2 columns]"
            ]
          },
          "execution_count": 8,
          "metadata": {},
          "output_type": "execute_result"
        }
      ],
      "source": [
        "df = pd.read_csv('/content/drive/MyDrive/aibootcamp/딥러닝/rnn/IMDB Dataset.csv')\n",
        "df"
      ]
    },
    {
      "cell_type": "code",
      "source": [
        "from google.colab import drive\n",
        "drive.mount('/content/drive')"
      ],
      "metadata": {
        "colab": {
          "base_uri": "https://localhost:8080/"
        },
        "id": "pwM_vOKovCSb",
        "outputId": "b36163d4-f7fe-43ed-bfb7-8a8e0144ee0c"
      },
      "id": "pwM_vOKovCSb",
      "execution_count": 1,
      "outputs": [
        {
          "output_type": "stream",
          "name": "stdout",
          "text": [
            "Mounted at /content/drive\n"
          ]
        }
      ]
    },
    {
      "cell_type": "code",
      "execution_count": null,
      "id": "f7406925",
      "metadata": {
        "execution": {
          "iopub.execute_input": "2024-10-13T23:05:17.734906Z",
          "iopub.status.busy": "2024-10-13T23:05:17.734076Z",
          "iopub.status.idle": "2024-10-13T23:05:17.828267Z",
          "shell.execute_reply": "2024-10-13T23:05:17.827142Z"
        },
        "papermill": {
          "duration": 0.121182,
          "end_time": "2024-10-13T23:05:17.830282",
          "exception": false,
          "start_time": "2024-10-13T23:05:17.709100",
          "status": "completed"
        },
        "tags": [],
        "id": "f7406925",
        "outputId": "a8dad865-15f5-4deb-d5b1-e67eb69cf208"
      },
      "outputs": [
        {
          "name": "stdout",
          "output_type": "stream",
          "text": [
            "One of the other reviewers has mentioned that after watching just 1 Oz episode you'll be hooked. They are right, as this is exactly what happened with me.<br /><br />The first thing that struck me about Oz was its brutality and unflinching scenes of violence, which set in right from the word GO. Trust me, this is not a show for the faint hearted or timid. This show pulls no punches with regards to drugs, sex or violence. Its is hardcore, in the classic use of the word.<br /><br />It is called OZ as that is the nickname given to the Oswald Maximum Security State Penitentary. It focuses mainly on Emerald City, an experimental section of the prison where all the cells have glass fronts and face inwards, so privacy is not high on the agenda. Em City is home to many..Aryans, Muslims, gangstas, Latinos, Christians, Italians, Irish and more....so scuffles, death stares, dodgy dealings and shady agreements are never far away.<br /><br />I would say the main appeal of the show is due to the fac\n"
          ]
        }
      ],
      "source": [
        "corpus = ''.join(df.review.values)\n",
        "print(corpus[:1000])"
      ]
    },
    {
      "cell_type": "code",
      "execution_count": null,
      "id": "7e642776",
      "metadata": {
        "execution": {
          "iopub.execute_input": "2024-10-13T23:05:17.879812Z",
          "iopub.status.busy": "2024-10-13T23:05:17.879489Z",
          "iopub.status.idle": "2024-10-13T23:05:18.775982Z",
          "shell.execute_reply": "2024-10-13T23:05:18.775067Z"
        },
        "papermill": {
          "duration": 0.923223,
          "end_time": "2024-10-13T23:05:18.777993",
          "exception": false,
          "start_time": "2024-10-13T23:05:17.854770",
          "status": "completed"
        },
        "tags": [],
        "id": "7e642776",
        "outputId": "5747b967-cd69-4971-fe13-e61505bf2851"
      },
      "outputs": [
        {
          "data": {
            "text/plain": [
              "{'\\x08': 0,\n",
              " '\\t': 1,\n",
              " '\\x10': 2,\n",
              " ' ': 3,\n",
              " '!': 4,\n",
              " '\"': 5,\n",
              " '#': 6,\n",
              " '$': 7,\n",
              " '%': 8,\n",
              " '&': 9,\n",
              " \"'\": 10,\n",
              " '(': 11,\n",
              " ')': 12,\n",
              " '*': 13,\n",
              " '+': 14,\n",
              " ',': 15,\n",
              " '-': 16,\n",
              " '.': 17,\n",
              " '/': 18,\n",
              " '0': 19,\n",
              " '1': 20,\n",
              " '2': 21,\n",
              " '3': 22,\n",
              " '4': 23,\n",
              " '5': 24,\n",
              " '6': 25,\n",
              " '7': 26,\n",
              " '8': 27,\n",
              " '9': 28,\n",
              " ':': 29,\n",
              " ';': 30,\n",
              " '<': 31,\n",
              " '=': 32,\n",
              " '>': 33,\n",
              " '?': 34,\n",
              " '@': 35,\n",
              " 'A': 36,\n",
              " 'B': 37,\n",
              " 'C': 38,\n",
              " 'D': 39,\n",
              " 'E': 40,\n",
              " 'F': 41,\n",
              " 'G': 42,\n",
              " 'H': 43,\n",
              " 'I': 44,\n",
              " 'J': 45,\n",
              " 'K': 46,\n",
              " 'L': 47,\n",
              " 'M': 48,\n",
              " 'N': 49,\n",
              " 'O': 50,\n",
              " 'P': 51,\n",
              " 'Q': 52,\n",
              " 'R': 53,\n",
              " 'S': 54,\n",
              " 'T': 55,\n",
              " 'U': 56,\n",
              " 'V': 57,\n",
              " 'W': 58,\n",
              " 'X': 59,\n",
              " 'Y': 60,\n",
              " 'Z': 61,\n",
              " '[': 62,\n",
              " '\\\\': 63,\n",
              " ']': 64,\n",
              " '^': 65,\n",
              " '_': 66,\n",
              " '`': 67,\n",
              " 'a': 68,\n",
              " 'b': 69,\n",
              " 'c': 70,\n",
              " 'd': 71,\n",
              " 'e': 72,\n",
              " 'f': 73,\n",
              " 'g': 74,\n",
              " 'h': 75,\n",
              " 'i': 76,\n",
              " 'j': 77,\n",
              " 'k': 78,\n",
              " 'l': 79,\n",
              " 'm': 80,\n",
              " 'n': 81,\n",
              " 'o': 82,\n",
              " 'p': 83,\n",
              " 'q': 84,\n",
              " 'r': 85,\n",
              " 's': 86,\n",
              " 't': 87,\n",
              " 'u': 88,\n",
              " 'v': 89,\n",
              " 'w': 90,\n",
              " 'x': 91,\n",
              " 'y': 92,\n",
              " 'z': 93,\n",
              " '{': 94,\n",
              " '|': 95,\n",
              " '}': 96,\n",
              " '~': 97,\n",
              " '\\x80': 98,\n",
              " '\\x84': 99,\n",
              " '\\x85': 100,\n",
              " '\\x8d': 101,\n",
              " '\\x8e': 102,\n",
              " '\\x91': 103,\n",
              " '\\x95': 104,\n",
              " '\\x96': 105,\n",
              " '\\x97': 106,\n",
              " '\\x9a': 107,\n",
              " '\\x9e': 108,\n",
              " '\\xa0': 109,\n",
              " '¡': 110,\n",
              " '¢': 111,\n",
              " '£': 112,\n",
              " '¤': 113,\n",
              " '¦': 114,\n",
              " '§': 115,\n",
              " '¨': 116,\n",
              " '©': 117,\n",
              " 'ª': 118,\n",
              " '«': 119,\n",
              " '\\xad': 120,\n",
              " '®': 121,\n",
              " '°': 122,\n",
              " '³': 123,\n",
              " '´': 124,\n",
              " '·': 125,\n",
              " 'º': 126,\n",
              " '»': 127,\n",
              " '½': 128,\n",
              " '¾': 129,\n",
              " '¿': 130,\n",
              " 'À': 131,\n",
              " 'Á': 132,\n",
              " 'Â': 133,\n",
              " 'Ã': 134,\n",
              " 'Ä': 135,\n",
              " 'Å': 136,\n",
              " 'Æ': 137,\n",
              " 'Ç': 138,\n",
              " 'È': 139,\n",
              " 'É': 140,\n",
              " 'Ê': 141,\n",
              " 'Ï': 142,\n",
              " 'Ð': 143,\n",
              " 'Ó': 144,\n",
              " 'Õ': 145,\n",
              " 'Ö': 146,\n",
              " 'Ø': 147,\n",
              " 'Ü': 148,\n",
              " 'Þ': 149,\n",
              " 'ß': 150,\n",
              " 'à': 151,\n",
              " 'á': 152,\n",
              " 'â': 153,\n",
              " 'ã': 154,\n",
              " 'ä': 155,\n",
              " 'å': 156,\n",
              " 'æ': 157,\n",
              " 'ç': 158,\n",
              " 'è': 159,\n",
              " 'é': 160,\n",
              " 'ê': 161,\n",
              " 'ë': 162,\n",
              " 'ì': 163,\n",
              " 'í': 164,\n",
              " 'î': 165,\n",
              " 'ï': 166,\n",
              " 'ð': 167,\n",
              " 'ñ': 168,\n",
              " 'ò': 169,\n",
              " 'ó': 170,\n",
              " 'ô': 171,\n",
              " 'õ': 172,\n",
              " 'ö': 173,\n",
              " 'ø': 174,\n",
              " 'ù': 175,\n",
              " 'ú': 176,\n",
              " 'û': 177,\n",
              " 'ü': 178,\n",
              " 'ý': 179,\n",
              " 'ğ': 180,\n",
              " 'ı': 181,\n",
              " 'ō': 182,\n",
              " 'Ż': 183,\n",
              " 'א': 184,\n",
              " 'ג': 185,\n",
              " 'ו': 186,\n",
              " 'י': 187,\n",
              " 'כ': 188,\n",
              " 'ל': 189,\n",
              " 'מ': 190,\n",
              " 'ן': 191,\n",
              " 'ר': 192,\n",
              " '–': 193,\n",
              " '‘': 194,\n",
              " '’': 195,\n",
              " '“': 196,\n",
              " '”': 197,\n",
              " '…': 198,\n",
              " '″': 199,\n",
              " '₤': 200,\n",
              " '▼': 201,\n",
              " '★': 202,\n",
              " '、': 203,\n",
              " '\\uf0b7': 204,\n",
              " '，': 205}"
            ]
          },
          "execution_count": 10,
          "metadata": {},
          "output_type": "execute_result"
        }
      ],
      "source": [
        "vocab = {char: idx for idx, char in enumerate(sorted(set(corpus)))}\n",
        "vocab"
      ]
    },
    {
      "cell_type": "code",
      "execution_count": null,
      "id": "68d890fa",
      "metadata": {
        "execution": {
          "iopub.execute_input": "2024-10-13T23:05:18.828578Z",
          "iopub.status.busy": "2024-10-13T23:05:18.828027Z",
          "iopub.status.idle": "2024-10-13T23:05:23.612255Z",
          "shell.execute_reply": "2024-10-13T23:05:23.611286Z"
        },
        "papermill": {
          "duration": 4.811702,
          "end_time": "2024-10-13T23:05:23.614406",
          "exception": false,
          "start_time": "2024-10-13T23:05:18.802704",
          "status": "completed"
        },
        "tags": [],
        "id": "68d890fa",
        "outputId": "72148594-61e1-4208-ed41-f54e1ba08230"
      },
      "outputs": [
        {
          "data": {
            "text/plain": [
              "[50, 81, 72, 3, 82, 73, 3, 87, 75, 72]"
            ]
          },
          "execution_count": 11,
          "metadata": {},
          "output_type": "execute_result"
        }
      ],
      "source": [
        "corpus_encoded = [vocab[x] for x in corpus]\n",
        "corpus_encoded[:10]"
      ]
    },
    {
      "cell_type": "code",
      "execution_count": null,
      "id": "b48e2091",
      "metadata": {
        "execution": {
          "iopub.execute_input": "2024-10-13T23:05:23.664960Z",
          "iopub.status.busy": "2024-10-13T23:05:23.664659Z",
          "iopub.status.idle": "2024-10-13T23:05:49.168197Z",
          "shell.execute_reply": "2024-10-13T23:05:49.167149Z"
        },
        "papermill": {
          "duration": 25.53145,
          "end_time": "2024-10-13T23:05:49.170670",
          "exception": false,
          "start_time": "2024-10-13T23:05:23.639220",
          "status": "completed"
        },
        "tags": [],
        "id": "b48e2091"
      },
      "outputs": [],
      "source": [
        "def get_stats(data):\n",
        "    counts = {}\n",
        "    for pair in zip(data[:-1], data[1:]):\n",
        "        counts[pair] = counts.get(pair, 0) + 1\n",
        "    return counts\n",
        "\n",
        "from collections import Counter\n",
        "\n",
        "def get_stats_fast(data):\n",
        "    # Use zip to create pairs and collections.Counter for fast counting\n",
        "    pairs = zip(data[:-1], data[1:])\n",
        "    return Counter(pairs)\n",
        "\n",
        "stats = get_stats(list(corpus))"
      ]
    },
    {
      "cell_type": "code",
      "execution_count": null,
      "id": "3f75022e",
      "metadata": {
        "execution": {
          "iopub.execute_input": "2024-10-13T23:05:49.223571Z",
          "iopub.status.busy": "2024-10-13T23:05:49.221895Z",
          "iopub.status.idle": "2024-10-13T23:05:49.228954Z",
          "shell.execute_reply": "2024-10-13T23:05:49.228249Z"
        },
        "papermill": {
          "duration": 0.035241,
          "end_time": "2024-10-13T23:05:49.230834",
          "exception": false,
          "start_time": "2024-10-13T23:05:49.195593",
          "status": "completed"
        },
        "tags": [],
        "id": "3f75022e"
      },
      "outputs": [],
      "source": [
        "def merge_pairs(data, target_pair, replace_value):\n",
        "    # 새 리스트를 만들어서 값 변경\n",
        "    result = []\n",
        "    i = 0\n",
        "    while i < len(data) - 1:\n",
        "        # 현재 페어가 target_pair와 일치하면 교체값을 넣고 한 칸 점프\n",
        "        if data[i] == target_pair[0] and data[i+1] == target_pair[1]:\n",
        "            result.append(replace_value)\n",
        "            i += 2  # 페어를 교체했으므로 두 칸 건너뜀\n",
        "        else:\n",
        "            result.append(data[i])\n",
        "            i += 1\n",
        "    # 마지막 요소를 리스트에 추가\n",
        "    if i < len(data):\n",
        "        result.append(data[i])\n",
        "    return result"
      ]
    },
    {
      "cell_type": "code",
      "execution_count": null,
      "id": "5eaa36a4",
      "metadata": {
        "execution": {
          "iopub.execute_input": "2024-10-13T23:05:49.281311Z",
          "iopub.status.busy": "2024-10-13T23:05:49.281019Z",
          "iopub.status.idle": "2024-10-13T23:06:26.740501Z",
          "shell.execute_reply": "2024-10-13T23:06:26.739443Z"
        },
        "papermill": {
          "duration": 37.487554,
          "end_time": "2024-10-13T23:06:26.742669",
          "exception": false,
          "start_time": "2024-10-13T23:05:49.255115",
          "status": "completed"
        },
        "tags": [],
        "id": "5eaa36a4",
        "outputId": "0cb5db4d-67c4-4280-a9d3-3935eb46b9fe"
      },
      "outputs": [
        {
          "name": "stdout",
          "output_type": "stream",
          "text": [
            "e +   -> e \n",
            "  + t ->  t\n",
            "s +   -> s \n",
            " t + h ->  th\n",
            "i + n -> in\n",
            "t +   -> t \n",
            "e + r -> er\n",
            "  + a ->  a\n",
            "d +   -> d \n",
            " th + e  ->  the \n",
            "e + n -> en\n",
            "a + n -> an\n",
            "o + n -> on\n",
            "o + r -> or\n",
            "y +   -> y \n",
            "t + h -> th\n",
            "in + g -> ing\n",
            "o + u -> ou\n",
            ", +   -> , \n",
            "o +   -> o \n",
            "a + r -> ar\n",
            "i + s  -> is \n",
            "l + l -> ll\n",
            "o + f -> of\n",
            "r + e -> re\n",
            "s + t -> st\n",
            "r +   -> r \n",
            ". +   -> . \n",
            " a + n ->  an\n",
            "i + t -> it\n",
            "a + t -> at\n",
            "c + h -> ch\n",
            "  + w ->  w\n",
            "< + b -> <b\n",
            "<b + r  -> <br \n",
            "<br  + / -> <br /\n",
            "<br / + > -> <br />\n",
            "e + s -> es\n",
            "  + s ->  s\n",
            "o + m -> om\n",
            "a + l -> al\n",
            "  + h ->  h\n",
            "i + l -> il\n",
            "  + m ->  m\n",
            "v + i -> vi\n",
            "e + s  -> es \n",
            " t + o  ->  to \n",
            "c + t -> ct\n",
            "a + t  -> at \n",
            "e + d  -> ed \n",
            "ing +   -> ing \n",
            "i + c -> ic\n",
            "i + s -> is\n",
            " an + d  ->  and \n",
            "e + d -> ed\n",
            "o + w -> ow\n",
            "e + l -> el\n",
            "w + h -> wh\n",
            "a + s  -> as \n",
            "  + b ->  b\n",
            "u + s -> us\n",
            "i + m -> im\n",
            "  + f ->  f\n",
            "i + t  -> it \n",
            "m + o -> mo\n",
            "p + l -> pl\n",
            "a + ll -> all\n",
            "v + er -> ver\n",
            "o + l -> ol\n",
            "v + e  -> ve \n",
            "en + t -> ent\n",
            "a + s -> as\n",
            "' + s  -> 's \n",
            "<br /> + <br /> -> <br /><br />\n",
            "a +   -> a \n",
            "i + on -> ion\n",
            "r + a -> ra\n",
            "u + n -> un\n",
            "u + r -> ur\n",
            "n + o -> no\n",
            "i + th -> ith\n",
            "r + i -> ri\n",
            "g + h -> gh\n",
            "f + or -> for\n",
            "o + o -> oo\n",
            "er +   -> er \n",
            "of +   -> of \n",
            "an + d  -> and \n",
            "l + i -> li\n",
            "e + m -> em\n",
            "e + t -> et\n",
            "e  + th -> e th\n",
            "d + i -> di\n",
            "y + ou -> you\n",
            ". + <br /><br /> -> .<br /><br />\n",
            " th + is  ->  this \n",
            "mo + vi -> movi\n",
            "r + o -> ro\n",
            " a +   ->  a \n",
            "s + e -> se\n",
            "b + l -> bl\n",
            "il + m -> ilm\n",
            "h + a -> ha\n",
            "b + e -> be\n",
            " th + at  ->  that \n",
            "b + u -> bu\n",
            "a + m -> am\n",
            "of +  the  -> of the \n",
            "i + ll -> ill\n",
            "l + y  -> ly \n",
            " t + o ->  to\n",
            "a + y -> ay\n",
            "e  + t -> e t\n",
            "i + r -> ir\n",
            "p + e -> pe\n",
            "a + c -> ac\n",
            "  + c ->  c\n",
            "a + k -> ak\n",
            "w + ith -> with\n",
            "  + in ->  in\n",
            "d + e -> de\n",
            "on + e  -> one \n",
            "a + ct -> act\n",
            "l + e -> le\n",
            "an + d -> and\n",
            "n + e -> ne\n",
            "f + ilm -> film\n",
            " th + e ->  the\n",
            "e  + s -> e s\n",
            "a + d -> ad\n",
            "u + l -> ul\n",
            "no + t  -> not \n",
            "  + g ->  g\n",
            "s + t  -> st \n",
            " an + d ->  and\n",
            "e + x -> ex\n",
            "in + t -> int\n",
            " w + h ->  wh\n",
            "i + d -> id\n",
            "th + er -> ther\n",
            "' + t  -> 't \n",
            "e + ,  -> e, \n",
            "en +   -> en \n",
            "l + o -> lo\n",
            ". + . -> ..\n",
            "ou + t  -> out \n",
            "er + e  -> ere \n",
            "h + e  -> he \n",
            "bu + t  -> but \n",
            "c + om -> com\n",
            "m + an -> man\n",
            "all + y  -> ally \n",
            "ou + l -> oul\n",
            "e + v -> ev\n",
            "u + p -> up\n",
            "a + in -> ain\n",
            "movi + e  -> movie \n",
            "r + om -> rom\n",
            "w + as  -> was \n",
            "i + f -> if\n",
            "us + t  -> ust \n",
            "in +  the  -> in the \n",
            "a + g -> ag\n",
            "q + u -> qu\n",
            "li + k -> lik\n",
            "  + p ->  p\n",
            "e + ll -> ell\n",
            "en + c -> enc\n",
            ". +  the  -> . the \n",
            "ou + gh -> ough\n",
            "e + .  -> e. \n",
            "s + h -> sh\n",
            "u + t -> ut\n",
            "w + or -> wor\n",
            "u + m -> um\n",
            " a + s  ->  as \n",
            "  + d ->  d\n",
            "a + bl -> abl\n",
            "c + on -> con\n",
            "s + ,  -> s, \n",
            "oul + d  -> ould \n",
            "b + e  -> be \n",
            "p + o -> po\n",
            "t + er -> ter\n",
            "ow + n -> own\n",
            "al +   -> al \n",
            "p + re -> pre\n",
            "a + p -> ap\n",
            "j + ust  -> just \n",
            "h + is  -> his \n",
            " m + o ->  mo\n",
            "it + 's  -> it's \n",
            "  + is  ->  is \n",
            "e th + e  -> e the \n",
            "i + g -> ig\n",
            "th + e  -> the \n",
            "c + k -> ck\n",
            "ou + n -> oun\n",
            "an + t -> ant\n",
            "y +  a -> y a\n",
            "e + ar -> ear\n",
            "p + er -> per\n",
            "s + e  -> se \n",
            "ou + t -> out\n",
            "ha + ve  -> have \n",
            "e + ver -> ever\n",
            ", +  and  -> , and \n",
            "c + o -> co\n",
            "c + en -> cen\n",
            "er + s  -> ers \n",
            "oo + k -> ook\n",
            "om + e  -> ome \n",
            ", +  a -> , a\n",
            "g + o -> go\n",
            "en + d -> end\n",
            "p + ro -> pro\n",
            ", +  the  -> , the \n",
            " w + as  ->  was \n",
            "at + ion -> ation\n",
            "ac + k -> ack\n",
            "i + ch -> ich\n",
            "s + o  -> so \n",
            "e + st -> est\n",
            "ch + ar -> char\n",
            "e + p -> ep\n",
            "a + st -> ast\n",
            "o + t -> ot\n",
            "a + b -> ab\n",
            "f + f -> ff\n",
            "  + of ->  of\n",
            "i + gh -> igh\n",
            "ar + e  -> are \n",
            "a + y  -> ay \n",
            "u + ch -> uch\n",
            "r + u -> ru\n",
            "st + or -> stor\n",
            "d + o -> do\n",
            "a + d  -> ad \n",
            "oo + d  -> ood \n",
            "in +   -> in \n",
            "i +   -> i \n",
            "d + er -> der\n",
            "s + .  -> s. \n",
            " the  + s ->  the s\n",
            "en + t  -> ent \n",
            " w + ith ->  with\n",
            "l + y -> ly\n",
            "c + re -> cre\n",
            "at + ch -> atch\n",
            " s + e ->  se\n",
            "l + e  -> le \n",
            "or + e  -> ore \n",
            "f + rom -> from\n",
            "s +  to  -> s to \n",
            "or +   -> or \n",
            "char + act -> charact\n",
            "ev + en -> even\n",
            "a + u -> au\n",
            "e + t  -> et \n",
            "an +   -> an \n",
            " a + r ->  ar\n",
            " the + y  ->  they \n",
            "lik + e  -> like \n",
            "wh + o  -> who \n",
            "e t + o  -> e to \n",
            "o + ther -> other\n",
            " a + ll ->  all\n",
            "on + g -> ong\n",
            "n + 't  -> n't \n",
            "es + s  -> ess \n",
            "i + st -> ist\n",
            " b + e ->  be\n",
            "e  + of -> e of\n",
            "y + ,  -> y, \n",
            "n + o  -> no \n",
            "i + v -> iv\n",
            " h + is  ->  his \n",
            "ing +  to  -> ing to \n",
            "m + ak -> mak\n",
            "re + s -> res\n",
            "h + ow -> how\n",
            " t + im ->  tim\n",
            "i + r  -> ir \n",
            "f + in -> fin\n",
            "a + us -> aus\n",
            "i + ve  -> ive \n",
            "d + u -> du\n",
            "a + w -> aw\n",
            "o + p -> op\n",
            "it + t -> itt\n",
            "p + ar -> par\n",
            " mo + vi ->  movi\n",
            "h + er -> her\n",
            "e + w -> ew\n",
            "ur + n -> urn\n",
            "  + of  ->  of \n",
            "n + ow -> now\n",
            "oo + d -> ood\n",
            "i + ' -> i'\n",
            "es + s -> ess\n",
            "m + y  -> my \n",
            "as + t  -> ast \n",
            "  + you ->  you\n",
            "f + ul -> ful\n",
            "a + ch -> ach\n",
            "r + y -> ry\n",
            "e + . -> e.\n",
            "an + g -> ang\n",
            "t + t -> tt\n",
            "ou + s  -> ous \n",
            "es + t  -> est \n",
            "c + i -> ci\n",
            "b + r -> br\n",
            "ar + d -> ard\n",
            "c + l -> cl\n",
            " to +  the  ->  to the \n",
            "on +  the  -> on the \n",
            "es + ,  -> es, \n",
            "el + y  -> ely \n",
            "e  + and  -> e and \n",
            "b + o -> bo\n",
            "c + c -> cc\n",
            "l + ook -> look\n",
            "b + y  -> by \n",
            "ic + k -> ick\n",
            "an + c -> anc\n",
            "k + ill -> kill\n",
            "d + is -> dis\n",
            "ar + i -> ari\n",
            " and +  the  ->  and the \n",
            "c + aus -> caus\n",
            "a + ve  -> ave \n",
            " a + l ->  al\n",
            " a + ct ->  act\n",
            " the + ir  ->  their \n",
            " a + b ->  ab\n",
            "li + f -> lif\n",
            "ed +  to  -> ed to \n",
            " f + or ->  for\n",
            "ver + y  -> very \n",
            " a + t  ->  at \n",
            "j + o -> jo\n",
            "s + u -> su\n",
            " f + ilm ->  film\n",
            " th + em ->  them\n",
            " th + at ->  that\n",
            "t + ain -> tain\n",
            "bu + t -> but\n",
            "e + 's  -> e's \n",
            "of + f -> off\n",
            "s + ion -> sion\n",
            "wh + at  -> what \n",
            "wh + ich -> which\n",
            ",  + but  -> , but \n",
            "re + m -> rem\n",
            "o + g -> og\n",
            "th + is  -> this \n",
            "om + e -> ome\n",
            "ing +  the  -> ing the \n",
            "f + ir -> fir\n",
            "it + s  -> its \n",
            "on +   -> on \n",
            "w + ay -> way\n",
            "pl + ay -> play\n",
            "s +  the  -> s the \n",
            "i +  h -> i h\n",
            "b + er -> ber\n",
            "a +  s -> a s\n",
            "st + ar -> star\n",
            "re + ally  -> really \n",
            "er + i -> eri\n",
            "in + k -> ink\n",
            "o + ll -> oll\n",
            "no + t -> not\n",
            "i +  w -> i w\n",
            " a +  s ->  a s\n",
            "f + a -> fa\n",
            "stor + y  -> story \n",
            "et + t -> ett\n",
            "w + e -> we\n",
            "m + uch -> much\n",
            ".<br /><br /> + the  -> .<br /><br />the \n",
            "u + ll -> ull\n",
            "p + h -> ph\n",
            "w + atch -> watch\n",
            "int + er -> inter\n",
            " the  + t ->  the t\n",
            "re + ct -> rect\n",
            "ur + e  -> ure \n",
            "th + er  -> ther \n",
            "h + as  -> has \n",
            "ing +  s -> ing s\n",
            "am + e  -> ame \n",
            "is + h -> ish\n",
            "y +  the  -> y the \n",
            "n + g -> ng\n",
            "g + ood  -> good \n",
            "  + k ->  k\n",
            "s + el -> sel\n",
            " th + ere  ->  there \n",
            "e  + m -> e m\n",
            "w + ar -> war\n",
            "on + 't  -> on't \n",
            "ne + ver -> never\n",
            "or + t -> ort\n",
            " th + ough ->  though\n",
            "mo + st  -> most \n",
            "w + e  -> we \n",
            "el + i -> eli\n",
            "ou + r -> our\n",
            "! + ! -> !!\n",
            "th + ing  -> thing \n",
            "o + ver -> over\n",
            "e  + in -> e in\n",
            "ol + d -> old\n",
            "on + ly  -> only \n",
            "u + t  -> ut \n",
            "o + t  -> ot \n",
            "di + rect -> direct\n",
            "ne + w -> new\n",
            " t + ak ->  tak\n",
            "m + a -> ma\n",
            "g + ra -> gra\n",
            " m + an ->  man\n",
            "abl + e  -> able \n",
            "wh + en -> when\n",
            "e + y -> ey\n",
            "un + n -> unn\n",
            "in + c -> inc\n",
            "charact + er -> character\n",
            "h + im -> him\n",
            "  + it  ->  it \n",
            "f + ter -> fter\n",
            "s  + and  -> s and \n",
            "g + et  -> get \n",
            "u + re -> ure\n",
            "w + ell -> well\n",
            "pe + ct -> pect\n",
            "c + ar -> car\n",
            " th + ink ->  think\n",
            " th + an ->  than\n",
            "pl + e  -> ple \n",
            "ou + s -> ous\n",
            "s + ome  -> some \n",
            "  + ( ->  (\n",
            "ing +  h -> ing h\n",
            "  + of the  ->  of the \n",
            "g + re -> gre\n",
            "p + i -> pi\n",
            "ic + e  -> ice \n",
            "d + own -> down\n",
            "you + ng -> young\n",
            "m + ore  -> more \n",
            " th + es ->  thes\n",
            "w + ould  -> would \n",
            "ing + s  -> ings \n",
            "e + ct -> ect\n",
            " this  + film ->  this film\n",
            "di + d -> did\n",
            "u + d -> ud\n",
            "in + d -> ind\n",
            "be + caus -> becaus\n",
            "with +   -> with \n",
            " an +   ->  an \n",
            "p + r -> pr\n",
            "g + u -> gu\n",
            "e + c -> ec\n",
            "et + s  -> ets \n",
            "st + ill -> still\n",
            "y + ear -> year\n",
            "s + on -> son\n",
            "1 + 0 -> 10\n",
            "at + t -> att\n",
            "pe + o -> peo\n",
            "w + ere  -> were \n",
            "r + it -> rit\n",
            "  + i ->  i\n",
            "e + el -> eel\n",
            "c + ould  -> could \n",
            " t + ra ->  tra\n",
            "c + an -> can\n",
            "m + ent -> ment\n",
            " this  + is  ->  this is \n",
            "p + p -> pp\n",
            "y +  and  -> y and \n",
            "as + s -> ass\n",
            "g + l -> gl\n",
            "o +  the  -> o the \n",
            "oun + d -> ound\n",
            "ol + d  -> old \n",
            "or + s  -> ors \n",
            "w + ill -> will\n",
            ") + .  -> ). \n",
            "wh + il -> whil\n",
            "po + int -> point\n",
            "i + z -> iz\n",
            "au + gh -> augh\n",
            " wh + o  ->  who \n",
            "r + y  -> ry \n",
            "er + ,  -> er, \n",
            " in +  the  ->  in the \n",
            "enc + e  -> ence \n",
            "is +  the  -> is the \n",
            "at + e  -> ate \n",
            " wh + at  ->  what \n",
            "  + l ->  l\n",
            "ing + ,  -> ing, \n",
            "for +  the  -> for the \n",
            "e th + at  -> e that \n",
            "wor + k -> work\n",
            "ent + er -> enter\n",
            "a +  m -> a m\n",
            "g + in -> gin\n",
            "c + ri -> cri\n",
            "c + ro -> cro\n",
            "j + im -> jim\n",
            "o + d -> od\n",
            ".. + . -> ...\n",
            "fir + st  -> first \n",
            "k + now -> know\n",
            "e th + is  -> e this \n",
            "r + ol -> rol\n",
            "u + s  -> us \n",
            "s + s -> ss\n",
            " th + er ->  ther\n",
            "bl + e  -> ble \n",
            "a + v -> av\n",
            " t + w ->  tw\n",
            " th + r ->  thr\n",
            "one  + of the  -> one of the \n",
            "m + e -> me\n",
            "u + st -> ust\n",
            " t + urn ->  turn\n",
            "with +  the  -> with the \n",
            "l + itt -> litt\n",
            "e + .<br /><br /> -> e.<br /><br />\n",
            "i + es  -> ies \n",
            "at + ed  -> ated \n",
            "d + es -> des\n",
            " a +  w ->  a w\n",
            "e  + it  -> e it \n",
            ".  + i -> . i\n",
            " f + rom ->  from\n",
            "igh + t  -> ight \n",
            "s  + of -> s of\n",
            "t + o  -> to \n",
            "vi + ew -> view\n",
            "ri + gh -> righ\n",
            "sh + ow -> show\n",
            "ic +   -> ic \n",
            "pre + tt -> prett\n",
            "s + ur -> sur\n",
            "re + al -> real\n",
            "s + p -> sp\n",
            "w + as -> was\n",
            "a +  b -> a b\n",
            "lo + ve  -> love \n",
            " h + as  ->  has \n",
            "  + on ->  on\n",
            "un + t -> unt\n",
            "e  + of  -> e of \n",
            " an + y ->  any\n",
            "e  + f -> e f\n",
            " h + ow ->  how\n",
            "in + d  -> ind \n",
            "is +  t -> is t\n",
            "o + se  -> ose \n",
            "sel + f -> self\n",
            " a + g ->  ag\n",
            " a +  f ->  a f\n",
            "es + .  -> es. \n",
            "be + en -> been\n",
            " a + t ->  at\n",
            "ic + al -> ical\n",
            "ab + out  -> about \n",
            "s +  that  -> s that \n",
            "de + a -> dea\n",
            "v + el -> vel\n",
            "it + ch -> itch\n",
            "if +  you -> if you\n",
            " c + an ->  can\n",
            "ar + k -> ark\n",
            "e  + is  -> e is \n",
            "com + es  -> comes \n",
            " to + o  ->  too \n",
            " a + d ->  ad\n",
            "i' + ve  -> i've \n",
            "inter + est -> interest\n",
            "a +  f -> a f\n",
            "ri + ll -> rill\n",
            " the  + movie  ->  the movie \n",
            " th + en ->  then\n",
            "peo + ple  -> people \n",
            "b + est  -> best \n",
            "e + , -> e,\n",
            "s + , -> s,\n",
            " m + y  ->  my \n",
            "i + re -> ire\n",
            " ar + e  ->  are \n",
            "y + p -> yp\n",
            "an + t  -> ant \n",
            " s + cen ->  scen\n",
            "- + - -> --\n",
            "h + el -> hel\n",
            "it  + is  -> it is \n",
            "it + y  -> ity \n",
            "ct + ion -> ction\n",
            "p + a -> pa\n",
            "it  + was  -> it was \n",
            "for +   -> for \n",
            " w + or ->  wor\n",
            " a +  m ->  a m\n",
            "im + pl -> impl\n",
            "all + y -> ally\n",
            "litt + le  -> little \n",
            "igh + t -> ight\n",
            "n + or -> nor\n",
            "il + d -> ild\n",
            "b + eli -> beli\n",
            "b + ack -> back\n",
            " to  + be  ->  to be \n",
            "com + pl -> compl\n",
            "o + b -> ob\n",
            "s + cen -> scen\n",
            "r + at -> rat\n",
            " th + re ->  thre\n",
            "* + * -> **\n",
            "ing +  and  -> ing and \n",
            "do + es  -> does \n",
            "pe + ci -> peci\n",
            "m + ar -> mar\n",
            "ir + l -> irl\n",
            "al + k -> alk\n",
            "r + e  -> re \n",
            "f + l -> fl\n",
            "y + .  -> y. \n",
            "prett + y  -> pretty \n",
            "e + ) -> e)\n",
            "for + t -> fort\n",
            "p + ol -> pol\n",
            "ic + ul -> icul\n",
            "pl + ot  -> plot \n",
            "one  + of -> one of\n",
            "\" +   -> \" \n",
            "st + e -> ste\n",
            " s + ome  ->  some \n",
            "p + ort -> port\n",
            "di + ff -> diff\n",
            " wh + ich ->  which\n",
            "ari + o  -> ario \n",
            "r + en -> ren\n",
            "ing + .  -> ing. \n",
            "for + man -> forman\n",
            "forman + c -> formanc\n",
            "um + b -> umb\n",
            "i + d  -> id \n",
            "m + e  -> me \n",
            "f + re -> fre\n",
            "or + ig -> orig\n",
            "orig + in -> origin\n",
            "m + ad -> mad\n",
            "wor + st  -> worst \n",
            "en + d  -> end \n",
            "wh + er -> wher\n",
            "u + ally  -> ually \n",
            "cre + en -> creen\n",
            "ing  + in -> ing in\n",
            "g + ood -> good\n",
            " c + om ->  com\n",
            "i' + m -> i'm\n",
            "you + r  -> your \n",
            "ed  + in -> ed in\n",
            "se + en -> seen\n",
            "v + es  -> ves \n",
            "g + irl -> girl\n",
            "out +  the  -> out the \n",
            " thr + ough ->  through\n",
            "o + ther  -> other \n",
            "c + or -> cor\n",
            "pr + is -> pris\n",
            "m + or -> mor\n",
            "oul + d -> ould\n",
            "i +  was  -> i was \n",
            "- + t -> -t\n",
            " b + ut  ->  but \n",
            "ed  + b -> ed b\n",
            "pe + ar -> pear\n",
            ",  + but -> , but\n",
            "charact + ers  -> characters \n",
            "ed +  to -> ed to\n",
            "se + e  -> see \n",
            "s + . -> s.\n",
            "l + ow -> low\n",
            "  + re ->  re\n",
            "m + on -> mon\n",
            "pl + ac -> plac\n",
            "un + der -> under\n",
            "k + id -> kid\n",
            "ex + c -> exc\n",
            "a +  h -> a h\n",
            "enter + tain -> entertain\n",
            " th + ose  ->  those \n",
            "st + er -> ster\n",
            "s + ome -> some\n",
            "d + on't  -> don't \n",
            "g + en -> gen\n",
            "i h + ave  -> i have \n",
            "er  + is  -> er is \n",
            "movi + es  -> movies \n",
            "ex + pl -> expl\n",
            "oun + d  -> ound \n",
            "m + us -> mus\n",
            "s  + in -> s in\n",
            ".  + <br /><br /> -> . <br /><br />\n",
            " t + er ->  ter\n",
            " th + en  ->  then \n",
            "c + er -> cer\n",
            "ing +  a  -> ing a \n",
            "g + r -> gr\n",
            " h + er  ->  her \n",
            " thes + e  ->  these \n",
            "e + ach -> each\n",
            "on + ly -> only\n",
            "it + e  -> ite \n",
            "s + y -> sy\n",
            "s + o -> so\n",
            "you +   -> you \n",
            "wh + en  -> when \n",
            "  + not  ->  not \n",
            "ed +  the  -> ed the \n",
            "l + in -> lin\n",
            "k + e -> ke\n",
            "you +  w -> you w\n",
            "movi + e,  -> movie, \n",
            "b + et -> bet\n",
            " this  + movie  ->  this movie \n",
            "b + ig -> big\n",
            "ing +  m -> ing m\n",
            "l + ong -> long\n",
            "al + f -> alf\n",
            "ed  + by  -> ed by \n",
            "b + ar -> bar\n",
            "v + ol -> vol\n",
            "ff + ect -> ffect\n",
            "m + is -> mis\n",
            "e  + h -> e h\n",
            "es  + of  -> es of \n",
            "vi + ol -> viol\n",
            "it + y -> ity\n",
            "r + on -> ron\n",
            "l + at -> lat\n",
            "i + an -> ian\n",
            "ha + d -> had\n",
            " a + p ->  ap\n",
            " d + o ->  do\n",
            "pro + du -> produ\n",
            "e + - -> e-\n",
            "v + o -> vo\n",
            " ab + out  ->  about \n",
            "gre + at  -> great \n",
            "out  + of  -> out of \n",
            "se + em -> seem\n",
            "r + an -> ran\n",
            "and +  the  -> and the \n",
            "s +  t -> s t\n",
            "res + s -> ress\n",
            "g + et -> get\n",
            "d + o  -> do \n",
            "per + formanc -> performanc\n",
            "al + so  -> also \n",
            "ing +  a -> ing a\n",
            "ever + y -> every\n",
            "fin + d -> find\n",
            "a + ut -> aut\n",
            "y +  t -> y t\n",
            "g + e  -> ge \n",
            "lo + t -> lot\n",
            "be + gin -> begin\n",
            "cri + p -> crip\n",
            ".  + it's  -> . it's \n",
            " a + m ->  am\n",
            "oll + y -> olly\n",
            "olly + w -> ollyw\n",
            "ha + pp -> happ\n",
            "c + all -> call\n",
            "is  + not  -> is not \n",
            "s  + are  -> s are \n",
            "  + st ->  st\n",
            "j + ust -> just\n",
            "c + r -> cr\n",
            "on + der -> onder\n",
            "en + se  -> ense \n",
            "es +  to  -> es to \n",
            "s + ol -> sol\n",
            " w + e ->  we\n",
            "de + c -> dec\n",
            "om + an -> oman\n",
            "ri + end -> riend\n",
            "diff + er -> differ\n",
            "t  + of  -> t of \n",
            "wor + l -> worl\n",
            " an + y  ->  any \n",
            "u + b -> ub\n",
            "f + unn -> funn\n",
            "d + ay -> day\n",
            "b + ad  -> bad \n",
            "oll + ow -> ollow\n",
            " a +  h ->  a h\n",
            "b + or -> bor\n",
            "f + ar -> far\n",
            "le + ast  -> least \n",
            "did + n't  -> didn't \n",
            " in +   ->  in \n",
            " ag + ain ->  again\n",
            "how + ever -> however\n",
            "is + t  -> ist \n",
            "e + , a -> e, a\n",
            "le + ar -> lear\n",
            "ed +  and  -> ed and \n",
            "ri + d -> rid\n",
            "ep + t -> ept\n",
            "m + in -> min\n",
            "w + ant -> want\n",
            "of +  m -> of m\n",
            "no + thing  -> nothing \n",
            "m + y -> my\n",
            "au + di -> audi\n",
            "c + our -> cour\n",
            "ing +  that  -> ing that \n",
            "g + iv -> giv\n",
            "s  + of  -> s of \n",
            "m + at -> mat\n",
            "int + o  -> into \n",
            "e t + o -> e to\n",
            " s + h ->  sh\n",
            "for + m -> form\n",
            "ar + d  -> ard \n",
            "it + ion -> ition\n",
            "l + augh -> laugh\n",
            "g + o  -> go \n",
            " ther + e's  ->  there's \n",
            "pre + s -> pres\n",
            "con + t -> cont\n",
            "w + a -> wa\n",
            "ha + v -> hav\n",
            "is  + a  -> is a \n",
            "a + h -> ah\n",
            " h + ave  ->  have \n",
            "w + ay  -> way \n",
            "e + ve  -> eve \n",
            "an + n -> ann\n",
            " a + fter ->  after\n",
            "f + ull -> full\n",
            "cre + at -> creat\n",
            "po + s -> pos\n",
            "c + oun -> coun\n",
            "film +   -> film \n",
            "aut + if -> autif\n",
            "en + jo -> enjo\n",
            "ic + al  -> ical \n",
            "g + e -> ge\n",
            "er  + ( -> er (\n",
            " f + or  ->  for \n",
            "  + it ->  it\n",
            "re + t -> ret\n",
            " b + o ->  bo\n",
            "? +   -> ? \n",
            "rem + em -> remem\n",
            "be + en  -> been \n",
            "ar + t -> art\n",
            "t +  to  -> t to \n",
            "hel + p -> help\n",
            "c + ra -> cra\n",
            "th + ough -> though\n",
            " h + im ->  him\n",
            "st + r -> str\n",
            "s + id -> sid\n",
            "ec + t  -> ect \n",
            "un + i -> uni\n",
            ", +  and -> , and\n",
            "ur + der -> urder\n",
            "d + ur -> dur\n",
            "h + ou -> hou\n",
            "jim + my  -> jimmy \n",
            " w + atch ->  watch\n",
            "righ + t  -> right \n",
            "o + s -> os\n",
            "c + ur -> cur\n",
            "f + ac -> fac\n",
            "h + igh -> high\n",
            "u + ff -> uff\n",
            "f + act -> fact\n",
            "ould + n't  -> ouldn't \n",
            "go + t  -> got \n",
            "wh + o -> who\n",
            "as + h -> ash\n",
            "is + m -> ism\n",
            "ar + y  -> ary \n",
            "dis + ap -> disap\n",
            "par + t -> part\n",
            "e + k -> ek\n",
            "di + al -> dial\n",
            "dial + og -> dialog\n",
            " c + on ->  con\n",
            "s + he  -> she \n",
            "int + o -> into\n",
            "am + il -> amil\n",
            "d + ra -> dra\n",
            " as  + a  ->  as a \n",
            "! +   -> ! \n",
            "ex + pect -> expect\n",
            "direct + or -> director\n",
            "b + us -> bus\n",
            "y + ' -> y'\n",
            "e  + for -> e for\n",
            "v + ent -> vent\n",
            " th + ings  ->  things \n",
            "1 + 9 -> 19\n",
            "w + rit -> writ\n",
            "a + ir -> air\n",
            "g + ive  -> give \n",
            "stor + y -> story\n",
            "ch + e -> che\n",
            "ent + ly  -> ently \n",
            "h + or -> hor\n",
            "es +  that  -> es that \n",
            " that +  the  ->  that the \n",
            "f + eel -> feel\n",
            " c + ar ->  car\n",
            "a + il -> ail\n",
            "for + e  -> fore \n",
            "mak + es  -> makes \n",
            " thre + e  ->  three \n",
            "o + ck -> ock\n",
            ") +   -> ) \n",
            "i + p -> ip\n",
            ",  + who  -> , who \n"
          ]
        }
      ],
      "source": [
        "corpus = ''.join(df.review[:100]).lower() #모두 소문자로 변경\n",
        "vocab = {char: idx for idx, char in enumerate(sorted(set(corpus)))}\n",
        "data = list(corpus)\n",
        "\n",
        "while len(vocab) < 1000:\n",
        "    stats = get_stats_fast(data)\n",
        "    most_frequent = max(stats, key=stats.get)\n",
        "    data = merge_pairs(data, most_frequent, ''.join(most_frequent))\n",
        "    vocab[''.join(most_frequent)] = len(vocab) + 1\n",
        "    print(f\"{most_frequent[0]} + {most_frequent[1]} -> {''.join(most_frequent)}\")"
      ]
    },
    {
      "cell_type": "code",
      "execution_count": null,
      "id": "22b1e2b4",
      "metadata": {
        "execution": {
          "iopub.execute_input": "2024-10-13T23:06:26.818491Z",
          "iopub.status.busy": "2024-10-13T23:06:26.818175Z",
          "iopub.status.idle": "2024-10-13T23:06:26.825452Z",
          "shell.execute_reply": "2024-10-13T23:06:26.824625Z"
        },
        "papermill": {
          "duration": 0.047072,
          "end_time": "2024-10-13T23:06:26.827360",
          "exception": false,
          "start_time": "2024-10-13T23:06:26.780288",
          "status": "completed"
        },
        "tags": [],
        "id": "22b1e2b4"
      },
      "outputs": [],
      "source": [
        "def tokenize(text, vocab, lowercase=True):\n",
        "    if lowercase:\n",
        "        text = text.lower()\n",
        "    text = list(text)\n",
        "    while len(text) > 1:\n",
        "        pairs = set(zip(text[:-1], text[1:]))\n",
        "        pair = min(pairs, key=lambda p:vocab.get(''.join(p), float('inf')))\n",
        "        if ''.join(pair) not in vocab:\n",
        "            break #no pairs to merge\n",
        "        text = merge_pairs(text, pair, ''.join(pair))\n",
        "    return text\n",
        "\n",
        "def encode(text, vocab, lowercase=True):\n",
        "    tokenized = tokenize(text, vocab, lowercase=lowercase)\n",
        "    return [vocab.get(x, -1) for x in tokenized]"
      ]
    },
    {
      "cell_type": "code",
      "execution_count": null,
      "id": "7682806a",
      "metadata": {
        "papermill": {
          "duration": 0.036547,
          "end_time": "2024-10-13T23:06:26.900663",
          "exception": false,
          "start_time": "2024-10-13T23:06:26.864116",
          "status": "completed"
        },
        "tags": [],
        "id": "7682806a"
      },
      "outputs": [],
      "source": []
    },
    {
      "cell_type": "code",
      "execution_count": null,
      "id": "2d8892b1",
      "metadata": {
        "execution": {
          "iopub.execute_input": "2024-10-13T23:06:26.974974Z",
          "iopub.status.busy": "2024-10-13T23:06:26.974666Z",
          "iopub.status.idle": "2024-10-13T23:06:26.980510Z",
          "shell.execute_reply": "2024-10-13T23:06:26.979691Z"
        },
        "papermill": {
          "duration": 0.045246,
          "end_time": "2024-10-13T23:06:26.982422",
          "exception": false,
          "start_time": "2024-10-13T23:06:26.937176",
          "status": "completed"
        },
        "tags": [],
        "id": "2d8892b1",
        "outputId": "3c997a0d-87cd-4995-f16d-63da4cd22122"
      },
      "outputs": [
        {
          "data": {
            "text/plain": [
              "['i ', 'love ', 'pro', 'gra', 'm', 'm', 'ing']"
            ]
          },
          "execution_count": 16,
          "metadata": {},
          "output_type": "execute_result"
        }
      ],
      "source": [
        "tokenize('I love programming', vocab)"
      ]
    },
    {
      "cell_type": "code",
      "execution_count": null,
      "id": "b9640ee3",
      "metadata": {
        "execution": {
          "iopub.execute_input": "2024-10-13T23:06:27.057443Z",
          "iopub.status.busy": "2024-10-13T23:06:27.056830Z",
          "iopub.status.idle": "2024-10-13T23:06:27.062736Z",
          "shell.execute_reply": "2024-10-13T23:06:27.061890Z"
        },
        "papermill": {
          "duration": 0.045648,
          "end_time": "2024-10-13T23:06:27.064683",
          "exception": false,
          "start_time": "2024-10-13T23:06:27.019035",
          "status": "completed"
        },
        "tags": [],
        "id": "b9640ee3",
        "outputId": "2d7eb927-9869-40ca-a001-5d51abdc9bca"
      },
      "outputs": [
        {
          "data": {
            "text/plain": [
              "[304, 620, 279, 486, 43, 43, 80]"
            ]
          },
          "execution_count": 17,
          "metadata": {},
          "output_type": "execute_result"
        }
      ],
      "source": [
        "encode('I love programming', vocab)"
      ]
    },
    {
      "cell_type": "markdown",
      "id": "5f548fc2",
      "metadata": {
        "papermill": {
          "duration": 0.036404,
          "end_time": "2024-10-13T23:06:27.137706",
          "exception": false,
          "start_time": "2024-10-13T23:06:27.101302",
          "status": "completed"
        },
        "tags": [],
        "id": "5f548fc2"
      },
      "source": [
        "## Pretrained Tokenizer(GPT2)"
      ]
    },
    {
      "cell_type": "code",
      "execution_count": null,
      "id": "a3a4291d",
      "metadata": {
        "execution": {
          "iopub.execute_input": "2024-10-13T23:06:27.212700Z",
          "iopub.status.busy": "2024-10-13T23:06:27.212376Z",
          "iopub.status.idle": "2024-10-13T23:06:42.254483Z",
          "shell.execute_reply": "2024-10-13T23:06:42.253420Z"
        },
        "papermill": {
          "duration": 15.081934,
          "end_time": "2024-10-13T23:06:42.256529",
          "exception": false,
          "start_time": "2024-10-13T23:06:27.174595",
          "status": "completed"
        },
        "tags": [],
        "colab": {
          "referenced_widgets": [
            "822d89b96b85443198581eca4bebda15",
            "78efd815194c4ecdadbd0da3799870cb",
            "b04a14db551a414aa081a7d3cc554473",
            "a36a412ff435461d8db8163dda550797",
            "b38f50dd841845129e63968aa326dee8"
          ]
        },
        "id": "a3a4291d",
        "outputId": "5ca22a16-ae60-4383-d3b8-08f418f4df6e"
      },
      "outputs": [
        {
          "data": {
            "application/vnd.jupyter.widget-view+json": {
              "model_id": "822d89b96b85443198581eca4bebda15",
              "version_major": 2,
              "version_minor": 0
            },
            "text/plain": [
              "tokenizer_config.json:   0%|          | 0.00/26.0 [00:00<?, ?B/s]"
            ]
          },
          "metadata": {},
          "output_type": "display_data"
        },
        {
          "data": {
            "application/vnd.jupyter.widget-view+json": {
              "model_id": "78efd815194c4ecdadbd0da3799870cb",
              "version_major": 2,
              "version_minor": 0
            },
            "text/plain": [
              "vocab.json:   0%|          | 0.00/1.04M [00:00<?, ?B/s]"
            ]
          },
          "metadata": {},
          "output_type": "display_data"
        },
        {
          "data": {
            "application/vnd.jupyter.widget-view+json": {
              "model_id": "b04a14db551a414aa081a7d3cc554473",
              "version_major": 2,
              "version_minor": 0
            },
            "text/plain": [
              "merges.txt:   0%|          | 0.00/456k [00:00<?, ?B/s]"
            ]
          },
          "metadata": {},
          "output_type": "display_data"
        },
        {
          "data": {
            "application/vnd.jupyter.widget-view+json": {
              "model_id": "a36a412ff435461d8db8163dda550797",
              "version_major": 2,
              "version_minor": 0
            },
            "text/plain": [
              "tokenizer.json:   0%|          | 0.00/1.36M [00:00<?, ?B/s]"
            ]
          },
          "metadata": {},
          "output_type": "display_data"
        },
        {
          "data": {
            "application/vnd.jupyter.widget-view+json": {
              "model_id": "b38f50dd841845129e63968aa326dee8",
              "version_major": 2,
              "version_minor": 0
            },
            "text/plain": [
              "config.json:   0%|          | 0.00/665 [00:00<?, ?B/s]"
            ]
          },
          "metadata": {},
          "output_type": "display_data"
        },
        {
          "name": "stderr",
          "output_type": "stream",
          "text": [
            "/opt/conda/lib/python3.10/site-packages/transformers/tokenization_utils_base.py:1617: FutureWarning: `clean_up_tokenization_spaces` was not set. It will be set to `True` by default. This behavior will be deprecated in transformers v4.45, and will be then set to `False` by default. For more details check this issue: https://github.com/huggingface/transformers/issues/31884\n",
            "  warnings.warn(\n"
          ]
        },
        {
          "name": "stdout",
          "output_type": "stream",
          "text": [
            "Original Text: The quick brown fox jumps over the lazy dog.\n",
            "Token IDs: [464, 2068, 7586, 21831, 18045, 625, 262, 16931, 3290, 13]\n",
            "Decoded Text: The quick brown fox jumps over the lazy dog.\n"
          ]
        }
      ],
      "source": [
        "from transformers import GPT2Tokenizer\n",
        "\n",
        "# Load GPT-2 tokenizer\n",
        "tokenizer = GPT2Tokenizer.from_pretrained(\"gpt2\")\n",
        "\n",
        "# Sample text\n",
        "text = \"The quick brown fox jumps over the lazy dog.\"\n",
        "\n",
        "# Tokenize the text\n",
        "tokens = tokenizer.encode(text)\n",
        "\n",
        "# Decode tokens back to text\n",
        "decoded_text = tokenizer.decode(tokens)\n",
        "\n",
        "print(\"Original Text:\", text)\n",
        "print(\"Token IDs:\", tokens)\n",
        "print(\"Decoded Text:\", decoded_text)"
      ]
    },
    {
      "cell_type": "code",
      "execution_count": null,
      "id": "4c01029b",
      "metadata": {
        "execution": {
          "iopub.execute_input": "2024-10-13T23:06:42.336505Z",
          "iopub.status.busy": "2024-10-13T23:06:42.335752Z",
          "iopub.status.idle": "2024-10-13T23:06:42.347777Z",
          "shell.execute_reply": "2024-10-13T23:06:42.346883Z"
        },
        "papermill": {
          "duration": 0.054098,
          "end_time": "2024-10-13T23:06:42.349812",
          "exception": false,
          "start_time": "2024-10-13T23:06:42.295714",
          "status": "completed"
        },
        "tags": [],
        "id": "4c01029b",
        "outputId": "4d35101d-4ec9-4d6f-9b28-b51a81d96763"
      },
      "outputs": [
        {
          "name": "stdout",
          "output_type": "stream",
          "text": [
            "50257\n",
            "['<|endoftext|>', '<PAD>']\n",
            "50256\n",
            "50257\n"
          ]
        }
      ],
      "source": [
        "#gpt2: BPE, eos token만 사용. pad, unk 토큰 없음. lowercase 하지 않음\n",
        "print(tokenizer.vocab_size)\n",
        "special_tokens_dict = {'additional_special_tokens': ['<PAD>']}\n",
        "num_added_toks = tokenizer.add_special_tokens(special_tokens_dict)\n",
        "print(tokenizer.all_special_tokens)\n",
        "print(tokenizer.get_vocab()['<|endoftext|>'])\n",
        "print(tokenizer.get_vocab()['<PAD>'])"
      ]
    },
    {
      "cell_type": "code",
      "execution_count": null,
      "id": "3cadb6a6",
      "metadata": {
        "execution": {
          "iopub.execute_input": "2024-10-13T23:06:42.430806Z",
          "iopub.status.busy": "2024-10-13T23:06:42.429788Z",
          "iopub.status.idle": "2024-10-13T23:06:42.435174Z",
          "shell.execute_reply": "2024-10-13T23:06:42.434300Z"
        },
        "papermill": {
          "duration": 0.04841,
          "end_time": "2024-10-13T23:06:42.437230",
          "exception": false,
          "start_time": "2024-10-13T23:06:42.388820",
          "status": "completed"
        },
        "tags": [],
        "id": "3cadb6a6"
      },
      "outputs": [],
      "source": [
        "vocab = tokenizer.get_vocab()"
      ]
    },
    {
      "cell_type": "code",
      "execution_count": null,
      "id": "1acefd50",
      "metadata": {
        "execution": {
          "iopub.execute_input": "2024-10-13T23:06:42.516337Z",
          "iopub.status.busy": "2024-10-13T23:06:42.515470Z",
          "iopub.status.idle": "2024-10-13T23:06:42.521810Z",
          "shell.execute_reply": "2024-10-13T23:06:42.520792Z"
        },
        "papermill": {
          "duration": 0.047781,
          "end_time": "2024-10-13T23:06:42.523838",
          "exception": false,
          "start_time": "2024-10-13T23:06:42.476057",
          "status": "completed"
        },
        "tags": [],
        "id": "1acefd50",
        "outputId": "71d4dc58-1090-48fe-da18-c4981fecea5d"
      },
      "outputs": [
        {
          "name": "stdout",
          "output_type": "stream",
          "text": [
            "['I', 'Ġlove', 'Ġprogramming']\n",
            "[40, 1842, 8300]\n",
            "I love programming\n"
          ]
        }
      ],
      "source": [
        "print(tokenizer.tokenize('I love programming'))\n",
        "encoded = tokenizer.encode('I love programming')\n",
        "print(encoded)\n",
        "print(tokenizer.decode(encoded))"
      ]
    },
    {
      "cell_type": "markdown",
      "id": "eeabf463",
      "metadata": {
        "papermill": {
          "duration": 0.038104,
          "end_time": "2024-10-13T23:06:42.600315",
          "exception": false,
          "start_time": "2024-10-13T23:06:42.562211",
          "status": "completed"
        },
        "tags": [],
        "id": "eeabf463"
      },
      "source": [
        "## Sentiment Analysis(Binary Classification)"
      ]
    },
    {
      "cell_type": "code",
      "execution_count": null,
      "id": "c16b70a5",
      "metadata": {
        "execution": {
          "iopub.execute_input": "2024-10-13T23:06:42.678367Z",
          "iopub.status.busy": "2024-10-13T23:06:42.678036Z",
          "iopub.status.idle": "2024-10-13T23:06:43.554888Z",
          "shell.execute_reply": "2024-10-13T23:06:43.553966Z"
        },
        "papermill": {
          "duration": 0.918295,
          "end_time": "2024-10-13T23:06:43.557032",
          "exception": false,
          "start_time": "2024-10-13T23:06:42.638737",
          "status": "completed"
        },
        "scrolled": true,
        "tags": [],
        "id": "c16b70a5",
        "outputId": "838c9bd7-0651-4213-c8d7-0ad63ee7c9b6"
      },
      "outputs": [
        {
          "data": {
            "text/html": [
              "<div>\n",
              "<style scoped>\n",
              "    .dataframe tbody tr th:only-of-type {\n",
              "        vertical-align: middle;\n",
              "    }\n",
              "\n",
              "    .dataframe tbody tr th {\n",
              "        vertical-align: top;\n",
              "    }\n",
              "\n",
              "    .dataframe thead th {\n",
              "        text-align: right;\n",
              "    }\n",
              "</style>\n",
              "<table border=\"1\" class=\"dataframe\">\n",
              "  <thead>\n",
              "    <tr style=\"text-align: right;\">\n",
              "      <th></th>\n",
              "      <th>review</th>\n",
              "      <th>sentiment</th>\n",
              "      <th>split</th>\n",
              "    </tr>\n",
              "  </thead>\n",
              "  <tbody>\n",
              "    <tr>\n",
              "      <th>0</th>\n",
              "      <td>I caught this little gem totally by accident b...</td>\n",
              "      <td>positive</td>\n",
              "      <td>train</td>\n",
              "    </tr>\n",
              "    <tr>\n",
              "      <th>1</th>\n",
              "      <td>I can't believe that I let myself into this mo...</td>\n",
              "      <td>negative</td>\n",
              "      <td>train</td>\n",
              "    </tr>\n",
              "    <tr>\n",
              "      <th>2</th>\n",
              "      <td>*spoiler alert!* it just gets to me the nerve ...</td>\n",
              "      <td>negative</td>\n",
              "      <td>train</td>\n",
              "    </tr>\n",
              "    <tr>\n",
              "      <th>3</th>\n",
              "      <td>If there's one thing I've learnt from watching...</td>\n",
              "      <td>negative</td>\n",
              "      <td>train</td>\n",
              "    </tr>\n",
              "    <tr>\n",
              "      <th>4</th>\n",
              "      <td>I remember when this was in theaters, reviews ...</td>\n",
              "      <td>negative</td>\n",
              "      <td>train</td>\n",
              "    </tr>\n",
              "    <tr>\n",
              "      <th>...</th>\n",
              "      <td>...</td>\n",
              "      <td>...</td>\n",
              "      <td>...</td>\n",
              "    </tr>\n",
              "    <tr>\n",
              "      <th>49995</th>\n",
              "      <td>SILVER CITY (2+ outta 5 stars) As a huge fan o...</td>\n",
              "      <td>negative</td>\n",
              "      <td>test</td>\n",
              "    </tr>\n",
              "    <tr>\n",
              "      <th>49996</th>\n",
              "      <td>Moscow Zero stole my money and I want it back!...</td>\n",
              "      <td>negative</td>\n",
              "      <td>test</td>\n",
              "    </tr>\n",
              "    <tr>\n",
              "      <th>49997</th>\n",
              "      <td>This is the only film I've seen that is made b...</td>\n",
              "      <td>negative</td>\n",
              "      <td>test</td>\n",
              "    </tr>\n",
              "    <tr>\n",
              "      <th>49998</th>\n",
              "      <td>This is a story about Shin-ae, who moves to Mi...</td>\n",
              "      <td>positive</td>\n",
              "      <td>test</td>\n",
              "    </tr>\n",
              "    <tr>\n",
              "      <th>49999</th>\n",
              "      <td>Leon Errol handles his double role of Uncle Ma...</td>\n",
              "      <td>negative</td>\n",
              "      <td>test</td>\n",
              "    </tr>\n",
              "  </tbody>\n",
              "</table>\n",
              "<p>50000 rows × 3 columns</p>\n",
              "</div>"
            ],
            "text/plain": [
              "                                                  review sentiment  split\n",
              "0      I caught this little gem totally by accident b...  positive  train\n",
              "1      I can't believe that I let myself into this mo...  negative  train\n",
              "2      *spoiler alert!* it just gets to me the nerve ...  negative  train\n",
              "3      If there's one thing I've learnt from watching...  negative  train\n",
              "4      I remember when this was in theaters, reviews ...  negative  train\n",
              "...                                                  ...       ...    ...\n",
              "49995  SILVER CITY (2+ outta 5 stars) As a huge fan o...  negative   test\n",
              "49996  Moscow Zero stole my money and I want it back!...  negative   test\n",
              "49997  This is the only film I've seen that is made b...  negative   test\n",
              "49998  This is a story about Shin-ae, who moves to Mi...  positive   test\n",
              "49999  Leon Errol handles his double role of Uncle Ma...  negative   test\n",
              "\n",
              "[50000 rows x 3 columns]"
            ]
          },
          "execution_count": 22,
          "metadata": {},
          "output_type": "execute_result"
        }
      ],
      "source": [
        "from sklearn.model_selection import train_test_split\n",
        "train_df, test_df = train_test_split(df, test_size=0.2, stratify=df['sentiment'], random_state=42)\n",
        "\n",
        "train_df['split'] = 'train'\n",
        "test_df['split'] = 'test'\n",
        "\n",
        "df = pd.concat([train_df, test_df]).reset_index(drop=True)\n",
        "df"
      ]
    },
    {
      "cell_type": "code",
      "execution_count": null,
      "id": "c49fecbd",
      "metadata": {
        "execution": {
          "iopub.execute_input": "2024-10-13T23:06:43.637396Z",
          "iopub.status.busy": "2024-10-13T23:06:43.636820Z",
          "iopub.status.idle": "2024-10-13T23:08:49.279153Z",
          "shell.execute_reply": "2024-10-13T23:08:49.278241Z"
        },
        "papermill": {
          "duration": 125.684643,
          "end_time": "2024-10-13T23:08:49.281286",
          "exception": false,
          "start_time": "2024-10-13T23:06:43.596643",
          "status": "completed"
        },
        "tags": [],
        "id": "c49fecbd",
        "outputId": "fc5830f7-f458-4d9e-bf7b-f162a737cfac"
      },
      "outputs": [
        {
          "name": "stderr",
          "output_type": "stream",
          "text": [
            "Token indices sequence length is longer than the specified maximum sequence length for this model (1130 > 1024). Running this sequence through the model will result in indexing errors\n"
          ]
        },
        {
          "data": {
            "text/html": [
              "<div>\n",
              "<style scoped>\n",
              "    .dataframe tbody tr th:only-of-type {\n",
              "        vertical-align: middle;\n",
              "    }\n",
              "\n",
              "    .dataframe tbody tr th {\n",
              "        vertical-align: top;\n",
              "    }\n",
              "\n",
              "    .dataframe thead th {\n",
              "        text-align: right;\n",
              "    }\n",
              "</style>\n",
              "<table border=\"1\" class=\"dataframe\">\n",
              "  <thead>\n",
              "    <tr style=\"text-align: right;\">\n",
              "      <th></th>\n",
              "      <th>review</th>\n",
              "      <th>sentiment</th>\n",
              "      <th>split</th>\n",
              "      <th>text_encoded</th>\n",
              "      <th>seq_len</th>\n",
              "    </tr>\n",
              "  </thead>\n",
              "  <tbody>\n",
              "    <tr>\n",
              "      <th>0</th>\n",
              "      <td>I caught this little gem totally by accident b...</td>\n",
              "      <td>positive</td>\n",
              "      <td>train</td>\n",
              "      <td>[40, 4978, 428, 1310, 16840, 6635, 416, 5778, ...</td>\n",
              "      <td>208</td>\n",
              "    </tr>\n",
              "    <tr>\n",
              "      <th>1</th>\n",
              "      <td>I can't believe that I let myself into this mo...</td>\n",
              "      <td>negative</td>\n",
              "      <td>train</td>\n",
              "      <td>[40, 460, 470, 1975, 326, 314, 1309, 3589, 656...</td>\n",
              "      <td>201</td>\n",
              "    </tr>\n",
              "    <tr>\n",
              "      <th>2</th>\n",
              "      <td>*spoiler alert!* it just gets to me the nerve ...</td>\n",
              "      <td>negative</td>\n",
              "      <td>train</td>\n",
              "      <td>[9, 2777, 20837, 7995, 0, 9, 340, 655, 3011, 2...</td>\n",
              "      <td>127</td>\n",
              "    </tr>\n",
              "    <tr>\n",
              "      <th>3</th>\n",
              "      <td>If there's one thing I've learnt from watching...</td>\n",
              "      <td>negative</td>\n",
              "      <td>train</td>\n",
              "      <td>[1532, 612, 338, 530, 1517, 314, 1053, 26338, ...</td>\n",
              "      <td>444</td>\n",
              "    </tr>\n",
              "    <tr>\n",
              "      <th>4</th>\n",
              "      <td>I remember when this was in theaters, reviews ...</td>\n",
              "      <td>negative</td>\n",
              "      <td>train</td>\n",
              "      <td>[40, 3505, 618, 428, 373, 287, 20550, 11, 8088...</td>\n",
              "      <td>239</td>\n",
              "    </tr>\n",
              "    <tr>\n",
              "      <th>...</th>\n",
              "      <td>...</td>\n",
              "      <td>...</td>\n",
              "      <td>...</td>\n",
              "      <td>...</td>\n",
              "      <td>...</td>\n",
              "    </tr>\n",
              "    <tr>\n",
              "      <th>49995</th>\n",
              "      <td>SILVER CITY (2+ outta 5 stars) As a huge fan o...</td>\n",
              "      <td>negative</td>\n",
              "      <td>test</td>\n",
              "      <td>[50, 4146, 5959, 27993, 357, 17, 10, 503, 8326...</td>\n",
              "      <td>351</td>\n",
              "    </tr>\n",
              "    <tr>\n",
              "      <th>49996</th>\n",
              "      <td>Moscow Zero stole my money and I want it back!...</td>\n",
              "      <td>negative</td>\n",
              "      <td>test</td>\n",
              "      <td>[49757, 12169, 18240, 616, 1637, 290, 314, 765...</td>\n",
              "      <td>409</td>\n",
              "    </tr>\n",
              "    <tr>\n",
              "      <th>49997</th>\n",
              "      <td>This is the only film I've seen that is made b...</td>\n",
              "      <td>negative</td>\n",
              "      <td>test</td>\n",
              "      <td>[1212, 318, 262, 691, 2646, 314, 1053, 1775, 3...</td>\n",
              "      <td>249</td>\n",
              "    </tr>\n",
              "    <tr>\n",
              "      <th>49998</th>\n",
              "      <td>This is a story about Shin-ae, who moves to Mi...</td>\n",
              "      <td>positive</td>\n",
              "      <td>test</td>\n",
              "      <td>[1212, 318, 257, 1621, 546, 11466, 12, 3609, 1...</td>\n",
              "      <td>264</td>\n",
              "    </tr>\n",
              "    <tr>\n",
              "      <th>49999</th>\n",
              "      <td>Leon Errol handles his double role of Uncle Ma...</td>\n",
              "      <td>negative</td>\n",
              "      <td>test</td>\n",
              "      <td>[36185, 5256, 3225, 17105, 465, 4274, 2597, 28...</td>\n",
              "      <td>86</td>\n",
              "    </tr>\n",
              "  </tbody>\n",
              "</table>\n",
              "<p>50000 rows × 5 columns</p>\n",
              "</div>"
            ],
            "text/plain": [
              "                                                  review sentiment  split  \\\n",
              "0      I caught this little gem totally by accident b...  positive  train   \n",
              "1      I can't believe that I let myself into this mo...  negative  train   \n",
              "2      *spoiler alert!* it just gets to me the nerve ...  negative  train   \n",
              "3      If there's one thing I've learnt from watching...  negative  train   \n",
              "4      I remember when this was in theaters, reviews ...  negative  train   \n",
              "...                                                  ...       ...    ...   \n",
              "49995  SILVER CITY (2+ outta 5 stars) As a huge fan o...  negative   test   \n",
              "49996  Moscow Zero stole my money and I want it back!...  negative   test   \n",
              "49997  This is the only film I've seen that is made b...  negative   test   \n",
              "49998  This is a story about Shin-ae, who moves to Mi...  positive   test   \n",
              "49999  Leon Errol handles his double role of Uncle Ma...  negative   test   \n",
              "\n",
              "                                            text_encoded  seq_len  \n",
              "0      [40, 4978, 428, 1310, 16840, 6635, 416, 5778, ...      208  \n",
              "1      [40, 460, 470, 1975, 326, 314, 1309, 3589, 656...      201  \n",
              "2      [9, 2777, 20837, 7995, 0, 9, 340, 655, 3011, 2...      127  \n",
              "3      [1532, 612, 338, 530, 1517, 314, 1053, 26338, ...      444  \n",
              "4      [40, 3505, 618, 428, 373, 287, 20550, 11, 8088...      239  \n",
              "...                                                  ...      ...  \n",
              "49995  [50, 4146, 5959, 27993, 357, 17, 10, 503, 8326...      351  \n",
              "49996  [49757, 12169, 18240, 616, 1637, 290, 314, 765...      409  \n",
              "49997  [1212, 318, 262, 691, 2646, 314, 1053, 1775, 3...      249  \n",
              "49998  [1212, 318, 257, 1621, 546, 11466, 12, 3609, 1...      264  \n",
              "49999  [36185, 5256, 3225, 17105, 465, 4274, 2597, 28...       86  \n",
              "\n",
              "[50000 rows x 5 columns]"
            ]
          },
          "execution_count": 23,
          "metadata": {},
          "output_type": "execute_result"
        }
      ],
      "source": [
        "#pre-tokenization\n",
        "df['text_encoded'] = tokenizer(df.review.tolist())['input_ids']\n",
        "df['seq_len'] = df['text_encoded'].apply(len)\n",
        "df"
      ]
    },
    {
      "cell_type": "code",
      "execution_count": null,
      "id": "ef0b86a4",
      "metadata": {
        "execution": {
          "iopub.execute_input": "2024-10-13T23:08:49.362518Z",
          "iopub.status.busy": "2024-10-13T23:08:49.361973Z",
          "iopub.status.idle": "2024-10-13T23:08:49.755248Z",
          "shell.execute_reply": "2024-10-13T23:08:49.754348Z"
        },
        "papermill": {
          "duration": 0.435766,
          "end_time": "2024-10-13T23:08:49.757364",
          "exception": false,
          "start_time": "2024-10-13T23:08:49.321598",
          "status": "completed"
        },
        "tags": [],
        "id": "ef0b86a4",
        "outputId": "7b9a382a-0754-46c9-c47e-df7b490e032b"
      },
      "outputs": [
        {
          "data": {
            "image/png": "[encoded data removed]",
            "text/plain": [
              "<Figure size 640x480 with 1 Axes>"
            ]
          },
          "metadata": {},
          "output_type": "display_data"
        }
      ],
      "source": [
        "plt.hist(df['seq_len'], bins=100)\n",
        "plt.show()"
      ]
    },
    {
      "cell_type": "code",
      "execution_count": null,
      "id": "3decc366",
      "metadata": {
        "execution": {
          "iopub.execute_input": "2024-10-13T23:08:49.839830Z",
          "iopub.status.busy": "2024-10-13T23:08:49.839486Z",
          "iopub.status.idle": "2024-10-13T23:08:49.845842Z",
          "shell.execute_reply": "2024-10-13T23:08:49.844992Z"
        },
        "papermill": {
          "duration": 0.050058,
          "end_time": "2024-10-13T23:08:49.847760",
          "exception": false,
          "start_time": "2024-10-13T23:08:49.797702",
          "status": "completed"
        },
        "tags": [],
        "id": "3decc366"
      },
      "outputs": [],
      "source": [
        "# Dataset 클래스 정의\n",
        "class IMDBDataset(Dataset):\n",
        "    def __init__(self, df, tokenizer):\n",
        "        self.df = df\n",
        "        self.tokenizer = tokenizer\n",
        "\n",
        "    def __len__(self):\n",
        "        return len(self.df)\n",
        "\n",
        "    def __getitem__(self, idx):\n",
        "        data = self.df.iloc[idx]\n",
        "        text = data['text_encoded'] #self.tokenizer.encode(data['review'])\n",
        "\n",
        "        label = data['sentiment']\n",
        "        label = 0. if label == 'negative' else 1.\n",
        "\n",
        "        return torch.tensor(text), torch.tensor(label).unsqueeze(-1)"
      ]
    },
    {
      "cell_type": "code",
      "execution_count": null,
      "id": "8c1c7d96",
      "metadata": {
        "execution": {
          "iopub.execute_input": "2024-10-13T23:08:49.927487Z",
          "iopub.status.busy": "2024-10-13T23:08:49.927208Z",
          "iopub.status.idle": "2024-10-13T23:08:50.029607Z",
          "shell.execute_reply": "2024-10-13T23:08:50.028585Z"
        },
        "papermill": {
          "duration": 0.144455,
          "end_time": "2024-10-13T23:08:50.031544",
          "exception": false,
          "start_time": "2024-10-13T23:08:49.887089",
          "status": "completed"
        },
        "tags": [],
        "id": "8c1c7d96",
        "outputId": "fd14579f-1e2d-4e84-ff80-e32d914c5835"
      },
      "outputs": [
        {
          "name": "stdout",
          "output_type": "stream",
          "text": [
            "(tensor([   40,  4978,   428,  1310, 16840,  6635,   416,  5778,   736,   287,\n",
            "         7169,   393,   705,  6659,    13,   314,   373,   379,   257, 26624,\n",
            "        21421,   284,   766,   734,  1468, 14397, 20681,    12, 12463,  6918,\n",
            "           13,   383, 21421,   373, 11856,  1336,   290,   357,  4480,   645,\n",
            "         6509,     8,   484,  3751,   257,  7684,   286, 20681,    12, 12463,\n",
            "         1790, 42078,    82,   357,  1462,   651,   514,   287,   262, 10038,\n",
            "          737,  4042,   547,  6454, 28297,   475, 12680,  1625,   319,   290,\n",
            "           11,  1626,  4201,    11,   262,  5386,   373,   287, 24258,   873,\n",
            "            0,   383,  4094,  6487,  1625,   618,   484,  3751,   366, 47231,\n",
            "          919,  4689,   544,     1,  1719,  3236, 29181,   275, 13271,  2427,\n",
            "          286,  4190,   319,   607,  1182,    13,  1375,  3073,   379,   262,\n",
            "         4676,    11,  3607,   257, 18288,  8212,   290, 34833,    13,  1320,\n",
            "          925,   340,   772, 36090,   959,     0,   921, 17753,   766,   366,\n",
            "           34,  6391,   397, 43552,     1,  2826,   416,   644,  3073,   588,\n",
            "          257,   337, 44933,     0,   632,   373,  4457, 14397,   290,  8531,\n",
            "          986,  4360,   314,  3521,   470,  2245, 14376,    13,  4042,   286,\n",
            "          262, 10721,   373, 30859,   503,   780,   286,   477,   262, 20263,\n",
            "           13,  4418,   611,   345,   760,   366,  8248,  6176,     1,  2495,\n",
            "          880,   340,   338,   772, 36090,   959,   438,  9930, 14593, 22620,\n",
            "         1257,   379,   617,   286,   262, 10721,    13,   770, 36413,  2499,\n",
            "          351,   281,  5386,     0,   317, 21892,   838,     0]), tensor([1.]))\n"
          ]
        }
      ],
      "source": [
        "train_dataset = IMDBDataset(df[df.split=='train'], tokenizer)\n",
        "test_dataset = IMDBDataset(df[df.split=='test'], tokenizer)\n",
        "for x in train_dataset:\n",
        "    print(x)\n",
        "    break"
      ]
    },
    {
      "cell_type": "code",
      "execution_count": null,
      "id": "b33c1065",
      "metadata": {
        "execution": {
          "iopub.execute_input": "2024-10-13T23:08:50.111270Z",
          "iopub.status.busy": "2024-10-13T23:08:50.110583Z",
          "iopub.status.idle": "2024-10-13T23:08:50.116957Z",
          "shell.execute_reply": "2024-10-13T23:08:50.116088Z"
        },
        "papermill": {
          "duration": 0.048123,
          "end_time": "2024-10-13T23:08:50.118942",
          "exception": false,
          "start_time": "2024-10-13T23:08:50.070819",
          "status": "completed"
        },
        "tags": [],
        "id": "b33c1065"
      },
      "outputs": [],
      "source": [
        "def collate_fn(batch, max_len=512, pad_idx=vocab['<PAD>'], padding_side='right'):\n",
        "    #batch = [(x1,y1),(x2,y2)...]\n",
        "    x, y = zip(*batch) #(x1, x2, ...), (y1,y2,...)\n",
        "    x = [s[:max_len] for s in x]\n",
        "    x_lens = [len(s) for s in x]\n",
        "    max_len = max(x_lens)\n",
        "    x = torch.stack([F.pad(s, (0,max_len-len(s)) if padding_side=='right' else (max_len-len(s),0), value=pad_idx) for s in x])\n",
        "    y = torch.stack(y)\n",
        "    return x, y"
      ]
    },
    {
      "cell_type": "code",
      "execution_count": null,
      "id": "c8e985ff",
      "metadata": {
        "execution": {
          "iopub.execute_input": "2024-10-13T23:08:50.198768Z",
          "iopub.status.busy": "2024-10-13T23:08:50.198268Z",
          "iopub.status.idle": "2024-10-13T23:08:50.203827Z",
          "shell.execute_reply": "2024-10-13T23:08:50.202957Z"
        },
        "papermill": {
          "duration": 0.047699,
          "end_time": "2024-10-13T23:08:50.205962",
          "exception": false,
          "start_time": "2024-10-13T23:08:50.158263",
          "status": "completed"
        },
        "tags": [],
        "id": "c8e985ff"
      },
      "outputs": [],
      "source": [
        "#Masking을 하지 않을때, padding position간의 성능 차이?\n",
        "train_loader = DataLoader(train_dataset, batch_size=64, shuffle=True, drop_last=True, num_workers=4, pin_memory=True, collate_fn=lambda x:collate_fn(x, padding_side='left'))\n",
        "test_loader = DataLoader(test_dataset, batch_size=64, shuffle=False, drop_last=False, num_workers=4, pin_memory=True, collate_fn=lambda x:collate_fn(x, padding_side='left'))"
      ]
    },
    {
      "cell_type": "code",
      "execution_count": null,
      "id": "fc380b87",
      "metadata": {
        "execution": {
          "iopub.execute_input": "2024-10-13T23:08:50.285533Z",
          "iopub.status.busy": "2024-10-13T23:08:50.285250Z",
          "iopub.status.idle": "2024-10-13T23:08:50.733064Z",
          "shell.execute_reply": "2024-10-13T23:08:50.731374Z"
        },
        "papermill": {
          "duration": 0.489815,
          "end_time": "2024-10-13T23:08:50.735139",
          "exception": false,
          "start_time": "2024-10-13T23:08:50.245324",
          "status": "completed"
        },
        "tags": [],
        "id": "fc380b87",
        "outputId": "06305e36-fbcf-4171-a859-5f004c87e6c3"
      },
      "outputs": [
        {
          "name": "stderr",
          "output_type": "stream",
          "text": [
            "/opt/conda/lib/python3.10/multiprocessing/popen_fork.py:66: RuntimeWarning: os.fork() was called. os.fork() is incompatible with multithreaded code, and JAX is multithreaded, so this will likely lead to a deadlock.\n",
            "  self.pid = os.fork()\n",
            "/opt/conda/lib/python3.10/multiprocessing/popen_fork.py:66: RuntimeWarning: os.fork() was called. os.fork() is incompatible with multithreaded code, and JAX is multithreaded, so this will likely lead to a deadlock.\n",
            "  self.pid = os.fork()\n"
          ]
        },
        {
          "name": "stdout",
          "output_type": "stream",
          "text": [
            "[tensor([[50257, 50257, 50257,  ..., 10457,  3807,    13],\n",
            "        [50257, 50257, 50257,  ...,   428,   530,     0],\n",
            "        [   40,  4236,   351,  ...,    76,   338,  7586],\n",
            "        ...,\n",
            "        [50257, 50257, 50257,  ...,   286, 17366,    13],\n",
            "        [50257, 50257, 50257,  ...,   539,   327,    13],\n",
            "        [50257, 50257, 50257,  ...,  6619,   546,    13]]), tensor([[1.],\n",
            "        [1.],\n",
            "        [1.],\n",
            "        [1.],\n",
            "        [0.],\n",
            "        [0.],\n",
            "        [0.],\n",
            "        [0.],\n",
            "        [0.],\n",
            "        [0.],\n",
            "        [0.],\n",
            "        [1.],\n",
            "        [1.],\n",
            "        [1.],\n",
            "        [0.],\n",
            "        [1.],\n",
            "        [1.],\n",
            "        [1.],\n",
            "        [0.],\n",
            "        [1.],\n",
            "        [1.],\n",
            "        [0.],\n",
            "        [1.],\n",
            "        [1.],\n",
            "        [0.],\n",
            "        [0.],\n",
            "        [0.],\n",
            "        [0.],\n",
            "        [1.],\n",
            "        [1.],\n",
            "        [0.],\n",
            "        [0.],\n",
            "        [0.],\n",
            "        [0.],\n",
            "        [0.],\n",
            "        [0.],\n",
            "        [1.],\n",
            "        [1.],\n",
            "        [0.],\n",
            "        [0.],\n",
            "        [0.],\n",
            "        [1.],\n",
            "        [1.],\n",
            "        [1.],\n",
            "        [1.],\n",
            "        [1.],\n",
            "        [0.],\n",
            "        [1.],\n",
            "        [0.],\n",
            "        [0.],\n",
            "        [1.],\n",
            "        [0.],\n",
            "        [1.],\n",
            "        [1.],\n",
            "        [1.],\n",
            "        [1.],\n",
            "        [1.],\n",
            "        [1.],\n",
            "        [0.],\n",
            "        [0.],\n",
            "        [0.],\n",
            "        [1.],\n",
            "        [0.],\n",
            "        [1.]])]\n",
            "torch.Size([64, 512]) torch.Size([64, 1])\n"
          ]
        }
      ],
      "source": [
        "for x in train_loader:\n",
        "    print(x)\n",
        "    print(x[0].shape, x[1].shape)\n",
        "    break"
      ]
    },
    {
      "cell_type": "markdown",
      "id": "44bd08b8",
      "metadata": {
        "papermill": {
          "duration": 0.039392,
          "end_time": "2024-10-13T23:08:50.815496",
          "exception": false,
          "start_time": "2024-10-13T23:08:50.776104",
          "status": "completed"
        },
        "tags": [],
        "id": "44bd08b8"
      },
      "source": [
        "![스크린샷 2024-10-14 오전 7.02.30.png](attachment:29b8d90d-c240-45ff-aba7-72e265d7820c.png)"
      ]
    },
    {
      "cell_type": "code",
      "execution_count": null,
      "id": "b655bb4c",
      "metadata": {
        "execution": {
          "iopub.execute_input": "2024-10-13T23:08:50.935430Z",
          "iopub.status.busy": "2024-10-13T23:08:50.934534Z",
          "iopub.status.idle": "2024-10-13T23:08:50.946300Z",
          "shell.execute_reply": "2024-10-13T23:08:50.945429Z"
        },
        "papermill": {
          "duration": 0.092245,
          "end_time": "2024-10-13T23:08:50.948220",
          "exception": false,
          "start_time": "2024-10-13T23:08:50.855975",
          "status": "completed"
        },
        "tags": [],
        "id": "b655bb4c"
      },
      "outputs": [],
      "source": [
        "import torch\n",
        "import torch.nn as nn\n",
        "\n",
        "# Elman Network 모델 정의\n",
        "class ElmanRNN(nn.Module):\n",
        "    def __init__(self, input_size, hidden_size):\n",
        "        super().__init__()\n",
        "        self.hidden_size = hidden_size\n",
        "        self.w_i = nn.Linear(input_size, hidden_size)\n",
        "        self.w_h = nn.Linear(hidden_size, hidden_size)\n",
        "\n",
        "        self.activation = nn.Sigmoid()\n",
        "\n",
        "    def step(self, x, h):\n",
        "        h = self.activation(self.w_i(x) + self.w_h(h))\n",
        "        return h\n",
        "\n",
        "    def forward(self, x):\n",
        "        h = torch.zeros(1, self.hidden_size).to(x.device) #h_0\n",
        "        hs = []\n",
        "        for i in range(x.shape[1]):\n",
        "            h = self.step(x[:,i], h)\n",
        "            hs.append(h)\n",
        "        hs = torch.stack(hs, dim=1) #B, T, D\n",
        "        return hs, h\n",
        "\n",
        "class SimpleRNNModel(nn.Module):\n",
        "    def __init__(self, dim=256, vocab_size=len(vocab), pad_idx=vocab['<PAD>']):\n",
        "        super().__init__()\n",
        "        self.embedding = nn.Embedding(num_embeddings=vocab_size, embedding_dim=dim)\n",
        "        self.rnn = nn.RNN(dim, dim, batch_first=True) #ElmanRNN(dim, dim)\n",
        "        self.head = nn.Linear(dim, 1)\n",
        "\n",
        "    def forward(self, x):\n",
        "        x = self.embedding(x) #(B, T, D)\n",
        "        _, x = self.rnn(x) #(B, D)\n",
        "        x = self.head(x[-1]) #(B, 1)\n",
        "        return x"
      ]
    },
    {
      "cell_type": "code",
      "execution_count": null,
      "id": "2ad37ebc",
      "metadata": {
        "execution": {
          "iopub.execute_input": "2024-10-13T23:08:51.028729Z",
          "iopub.status.busy": "2024-10-13T23:08:51.028070Z",
          "iopub.status.idle": "2024-10-13T23:08:51.096114Z",
          "shell.execute_reply": "2024-10-13T23:08:51.095328Z"
        },
        "papermill": {
          "duration": 0.110294,
          "end_time": "2024-10-13T23:08:51.098006",
          "exception": false,
          "start_time": "2024-10-13T23:08:50.987712",
          "status": "completed"
        },
        "tags": [],
        "id": "2ad37ebc"
      },
      "outputs": [],
      "source": [
        "nn.RNN(256, 256, batch_first=True)"
      ]
    },
    {
      "cell_type": "code",
      "execution_count": null,
      "id": "6b61e1a6",
      "metadata": {
        "execution": {
          "iopub.execute_input": "2024-10-13T23:08:51.179543Z",
          "iopub.status.busy": "2024-10-13T23:08:51.178956Z",
          "iopub.status.idle": "2024-10-13T23:08:51.298545Z",
          "shell.execute_reply": "2024-10-13T23:08:51.297785Z"
        },
        "papermill": {
          "duration": 0.162929,
          "end_time": "2024-10-13T23:08:51.300846",
          "exception": false,
          "start_time": "2024-10-13T23:08:51.137917",
          "status": "completed"
        },
        "tags": [],
        "id": "6b61e1a6"
      },
      "outputs": [],
      "source": [
        "model = SimpleRNNModel()"
      ]
    },
    {
      "cell_type": "code",
      "execution_count": null,
      "id": "1e179d3d",
      "metadata": {
        "execution": {
          "iopub.execute_input": "2024-10-13T23:08:51.383468Z",
          "iopub.status.busy": "2024-10-13T23:08:51.382685Z",
          "iopub.status.idle": "2024-10-13T23:08:51.584011Z",
          "shell.execute_reply": "2024-10-13T23:08:51.583028Z"
        },
        "papermill": {
          "duration": 0.244606,
          "end_time": "2024-10-13T23:08:51.586116",
          "exception": false,
          "start_time": "2024-10-13T23:08:51.341510",
          "status": "completed"
        },
        "tags": [],
        "id": "1e179d3d",
        "outputId": "36d34c4f-c642-4136-e441-79e1550429b9"
      },
      "outputs": [
        {
          "data": {
            "text/plain": [
              "torch.Size([64, 1])"
            ]
          },
          "execution_count": 33,
          "metadata": {},
          "output_type": "execute_result"
        }
      ],
      "source": [
        "model(x[0]).shape"
      ]
    },
    {
      "cell_type": "code",
      "execution_count": null,
      "id": "6f8c302b",
      "metadata": {
        "execution": {
          "iopub.execute_input": "2024-10-13T23:08:51.668513Z",
          "iopub.status.busy": "2024-10-13T23:08:51.668194Z",
          "iopub.status.idle": "2024-10-13T23:08:51.674158Z",
          "shell.execute_reply": "2024-10-13T23:08:51.673254Z"
        },
        "papermill": {
          "duration": 0.049144,
          "end_time": "2024-10-13T23:08:51.676082",
          "exception": false,
          "start_time": "2024-10-13T23:08:51.626938",
          "status": "completed"
        },
        "tags": [],
        "id": "6f8c302b",
        "outputId": "6f05157c-ba54-4372-d961-3c4648e5444e"
      },
      "outputs": [
        {
          "data": {
            "text/plain": [
              "SimpleRNNModel(\n",
              "  (embedding): Embedding(50258, 256)\n",
              "  (rnn): RNN(256, 256, batch_first=True)\n",
              "  (head): Linear(in_features=256, out_features=1, bias=True)\n",
              ")"
            ]
          },
          "execution_count": 34,
          "metadata": {},
          "output_type": "execute_result"
        }
      ],
      "source": [
        "model"
      ]
    },
    {
      "cell_type": "code",
      "execution_count": null,
      "id": "8bbc2ca8",
      "metadata": {
        "execution": {
          "iopub.execute_input": "2024-10-13T23:08:51.757922Z",
          "iopub.status.busy": "2024-10-13T23:08:51.757600Z",
          "iopub.status.idle": "2024-10-13T23:09:04.097381Z",
          "shell.execute_reply": "2024-10-13T23:09:04.096163Z"
        },
        "papermill": {
          "duration": 12.383515,
          "end_time": "2024-10-13T23:09:04.099878",
          "exception": false,
          "start_time": "2024-10-13T23:08:51.716363",
          "status": "completed"
        },
        "tags": [],
        "id": "8bbc2ca8",
        "outputId": "fe8cbdde-424f-46b0-88b9-ba5096ddc284"
      },
      "outputs": [
        {
          "name": "stderr",
          "output_type": "stream",
          "text": [
            "/opt/conda/lib/python3.10/pty.py:89: RuntimeWarning: os.fork() was called. os.fork() is incompatible with multithreaded code, and JAX is multithreaded, so this will likely lead to a deadlock.\n",
            "  pid, fd = os.forkpty()\n"
          ]
        },
        {
          "name": "stdout",
          "output_type": "stream",
          "text": [
            "Requirement already satisfied: torchinfo in /opt/conda/lib/python3.10/site-packages (1.8.0)\r\n"
          ]
        }
      ],
      "source": [
        "!pip install torchinfo\n",
        "from torchinfo import summary"
      ]
    },
    {
      "cell_type": "code",
      "execution_count": null,
      "id": "9608be6c",
      "metadata": {
        "execution": {
          "iopub.execute_input": "2024-10-13T23:09:04.183458Z",
          "iopub.status.busy": "2024-10-13T23:09:04.182583Z",
          "iopub.status.idle": "2024-10-13T23:09:04.192932Z",
          "shell.execute_reply": "2024-10-13T23:09:04.192031Z"
        },
        "papermill": {
          "duration": 0.053903,
          "end_time": "2024-10-13T23:09:04.194777",
          "exception": false,
          "start_time": "2024-10-13T23:09:04.140874",
          "status": "completed"
        },
        "tags": [],
        "id": "9608be6c",
        "outputId": "6cbf1a33-7f66-40ce-88f8-1c7e52d682ca"
      },
      "outputs": [
        {
          "data": {
            "text/plain": [
              "=================================================================\n",
              "Layer (type:depth-idx)                   Param #\n",
              "=================================================================\n",
              "SimpleRNNModel                           --\n",
              "├─Embedding: 1-1                         12,866,048\n",
              "├─RNN: 1-2                               131,584\n",
              "├─Linear: 1-3                            257\n",
              "=================================================================\n",
              "Total params: 12,997,889\n",
              "Trainable params: 12,997,889\n",
              "Non-trainable params: 0\n",
              "================================================================="
            ]
          },
          "execution_count": 36,
          "metadata": {},
          "output_type": "execute_result"
        }
      ],
      "source": [
        "summary(model)"
      ]
    },
    {
      "cell_type": "code",
      "execution_count": null,
      "id": "672a13dc",
      "metadata": {
        "execution": {
          "iopub.execute_input": "2024-10-13T23:09:04.277362Z",
          "iopub.status.busy": "2024-10-13T23:09:04.276575Z",
          "iopub.status.idle": "2024-10-13T23:10:15.551712Z",
          "shell.execute_reply": "2024-10-13T23:10:15.550331Z"
        },
        "papermill": {
          "duration": 71.321847,
          "end_time": "2024-10-13T23:10:15.557038",
          "exception": false,
          "start_time": "2024-10-13T23:09:04.235191",
          "status": "completed"
        },
        "tags": [],
        "id": "672a13dc",
        "outputId": "341cb540-c37f-4205-f58a-409231000f5d"
      },
      "outputs": [
        {
          "name": "stderr",
          "output_type": "stream",
          "text": [
            "TRAIN epoch 1: 100%|██████████| 625/625 [00:13<00:00, 46.78it/s, loss=0.6728, acc=0.5829, lr=0.000970, grad_norm=0.5493]\n"
          ]
        },
        {
          "name": "stdout",
          "output_type": "stream",
          "text": [
            "Epoch1: val_loss 0.6137 val_acc 0.6748\n"
          ]
        },
        {
          "name": "stderr",
          "output_type": "stream",
          "text": [
            "TRAIN epoch 2: 100%|██████████| 625/625 [00:12<00:00, 50.74it/s, loss=0.5940, acc=0.6931, lr=0.000750, grad_norm=0.7467]\n"
          ]
        },
        {
          "name": "stdout",
          "output_type": "stream",
          "text": [
            "Epoch2: val_loss 0.5622 val_acc 0.7199\n"
          ]
        },
        {
          "name": "stderr",
          "output_type": "stream",
          "text": [
            "TRAIN epoch 3: 100%|██████████| 625/625 [00:12<00:00, 50.38it/s, loss=0.4811, acc=0.7811, lr=0.000414, grad_norm=1.6669]\n"
          ]
        },
        {
          "name": "stdout",
          "output_type": "stream",
          "text": [
            "Epoch3: val_loss 0.4964 val_acc 0.7793\n"
          ]
        },
        {
          "name": "stderr",
          "output_type": "stream",
          "text": [
            "TRAIN epoch 4: 100%|██████████| 625/625 [00:12<00:00, 50.56it/s, loss=0.4041, acc=0.8263, lr=0.000117, grad_norm=1.0538]\n"
          ]
        },
        {
          "name": "stdout",
          "output_type": "stream",
          "text": [
            "Epoch4: val_loss 0.4550 val_acc 0.7947\n"
          ]
        },
        {
          "name": "stderr",
          "output_type": "stream",
          "text": [
            "TRAIN epoch 5: 100%|██████████| 625/625 [00:12<00:00, 50.73it/s, loss=0.3530, acc=0.8527, lr=0.000000, grad_norm=1.7898]\n"
          ]
        },
        {
          "name": "stdout",
          "output_type": "stream",
          "text": [
            "Epoch5: val_loss 0.4384 val_acc 0.8091\n"
          ]
        }
      ],
      "source": [
        "seed_everything(seed=42)\n",
        "torch.cuda.empty_cache()\n",
        "gc.collect()\n",
        "\n",
        "model = SimpleRNNModel()\n",
        "model = model.to(device)\n",
        "\n",
        "epochs = 5\n",
        "clip_grad = 1.0\n",
        "lr = 1e-3\n",
        "\n",
        "loss_fn = nn.BCEWithLogitsLoss()\n",
        "optimizer = torch.optim.AdamW([\n",
        "    {'params': [param for param in model.parameters() if param.ndim>=2], 'weight_decay': 0.01},\n",
        "    {'params': [param for param in model.parameters() if param.ndim<2], 'weight_decay': 0.0}\n",
        "], lr=lr)\n",
        "accum_loss = AverageMeter()\n",
        "accum_acc = AverageMeter()\n",
        "total_steps = len(train_loader) * epochs\n",
        "lr_fn = get_cosine_decay_with_warmup(total_steps=total_steps, warmup_steps=total_steps//10, max_lr=lr, min_lr=1e-7)\n",
        "scheduler = LRScheduler(optimizer, lr_fn)\n",
        "best_val_loss = float('inf') #initialize the best valiation loss as infinity\n",
        "\n",
        "for epoch in range(1, epochs+1):\n",
        "    model.train()  # training mode\n",
        "    accum_loss.reset()\n",
        "    accum_acc.reset()\n",
        "    pbar = tqdm(train_loader, desc=f'TRAIN epoch {epoch}', total=len(train_loader))\n",
        "    for x, y in pbar:\n",
        "        x, y = x.to(device), y.to(device)\n",
        "        y_pred = model(x)\n",
        "        loss = loss_fn(y_pred, y)\n",
        "        loss.backward()\n",
        "        norm = torch.nn.utils.clip_grad_norm_(model.parameters(), clip_grad)\n",
        "        lr = scheduler.step()\n",
        "        optimizer.step()\n",
        "        optimizer.zero_grad()\n",
        "\n",
        "        accum_loss.update(loss.detach(), y.size(0))\n",
        "        accum_acc.update(accuracy((y_pred.detach()>0).int(), y), y.size(0))\n",
        "\n",
        "        pbar.set_postfix({'loss': f'{accum_loss.avg:.4f}',\n",
        "                          'acc': f'{accum_acc.avg:.4f}',\n",
        "                          'lr': f'{lr:.6f}',\n",
        "                          'grad_norm': f'{norm:.4f}'})\n",
        "\n",
        "    model.eval()  # evaluation mode\n",
        "    accum_loss.reset()\n",
        "    accum_acc.reset()\n",
        "    for x, y in test_loader:\n",
        "        with torch.no_grad():\n",
        "            x, y = x.to(device), y.to(device)\n",
        "            y_pred = model(x)\n",
        "            loss = loss_fn(y_pred, y)\n",
        "            accum_loss.update(loss, y.size(0))\n",
        "            accum_acc.update(accuracy((y_pred.detach()>0).int(), y), y.size(0))\n",
        "    print(f'Epoch{epoch}: val_loss {accum_loss.avg:.4f} val_acc {accum_acc.avg:.4f}')"
      ]
    },
    {
      "cell_type": "code",
      "execution_count": null,
      "id": "bc8618dc",
      "metadata": {
        "execution": {
          "iopub.execute_input": "2024-10-13T23:10:16.219600Z",
          "iopub.status.busy": "2024-10-13T23:10:16.218611Z",
          "iopub.status.idle": "2024-10-13T23:10:16.225394Z",
          "shell.execute_reply": "2024-10-13T23:10:16.224425Z"
        },
        "papermill": {
          "duration": 0.337182,
          "end_time": "2024-10-13T23:10:16.227370",
          "exception": false,
          "start_time": "2024-10-13T23:10:15.890188",
          "status": "completed"
        },
        "tags": [],
        "id": "bc8618dc"
      },
      "outputs": [],
      "source": [
        "#Masking을 하지 않을때, padding position간의 성능 차이?\n",
        "train_loader = DataLoader(train_dataset, batch_size=64, shuffle=True, drop_last=True, num_workers=4, pin_memory=True, collate_fn=lambda x:collate_fn(x, padding_side='right'))\n",
        "test_loader = DataLoader(test_dataset, batch_size=64, shuffle=False, drop_last=False, num_workers=4, pin_memory=True, collate_fn=lambda x:collate_fn(x, padding_side='right'))"
      ]
    },
    {
      "cell_type": "code",
      "execution_count": null,
      "id": "06d53ee5",
      "metadata": {
        "execution": {
          "iopub.execute_input": "2024-10-13T23:10:16.873548Z",
          "iopub.status.busy": "2024-10-13T23:10:16.872579Z",
          "iopub.status.idle": "2024-10-13T23:11:26.966789Z",
          "shell.execute_reply": "2024-10-13T23:11:26.965403Z"
        },
        "papermill": {
          "duration": 70.419132,
          "end_time": "2024-10-13T23:11:26.969111",
          "exception": false,
          "start_time": "2024-10-13T23:10:16.549979",
          "status": "completed"
        },
        "tags": [],
        "id": "06d53ee5",
        "outputId": "285c4483-3b85-4ac2-f1ab-2e54a70ce256"
      },
      "outputs": [
        {
          "name": "stderr",
          "output_type": "stream",
          "text": [
            "TRAIN epoch 1: 100%|██████████| 625/625 [00:12<00:00, 50.61it/s, loss=0.6986, acc=0.5033, lr=0.000970, grad_norm=0.2892]\n"
          ]
        },
        {
          "name": "stdout",
          "output_type": "stream",
          "text": [
            "Epoch1: val_loss 0.6952 val_acc 0.5067\n"
          ]
        },
        {
          "name": "stderr",
          "output_type": "stream",
          "text": [
            "TRAIN epoch 2: 100%|██████████| 625/625 [00:12<00:00, 50.46it/s, loss=0.6917, acc=0.5121, lr=0.000750, grad_norm=0.5574]\n"
          ]
        },
        {
          "name": "stdout",
          "output_type": "stream",
          "text": [
            "Epoch2: val_loss 0.6936 val_acc 0.5041\n"
          ]
        },
        {
          "name": "stderr",
          "output_type": "stream",
          "text": [
            "TRAIN epoch 3: 100%|██████████| 625/625 [00:12<00:00, 50.04it/s, loss=0.6777, acc=0.5302, lr=0.000414, grad_norm=0.2873]\n"
          ]
        },
        {
          "name": "stdout",
          "output_type": "stream",
          "text": [
            "Epoch3: val_loss 0.7042 val_acc 0.4991\n"
          ]
        },
        {
          "name": "stderr",
          "output_type": "stream",
          "text": [
            "TRAIN epoch 4: 100%|██████████| 625/625 [00:12<00:00, 50.53it/s, loss=0.6535, acc=0.5439, lr=0.000117, grad_norm=1.3646]\n"
          ]
        },
        {
          "name": "stdout",
          "output_type": "stream",
          "text": [
            "Epoch4: val_loss 0.7186 val_acc 0.5087\n"
          ]
        },
        {
          "name": "stderr",
          "output_type": "stream",
          "text": [
            "TRAIN epoch 5: 100%|██████████| 625/625 [00:12<00:00, 50.38it/s, loss=0.6341, acc=0.5538, lr=0.000000, grad_norm=0.7281]\n"
          ]
        },
        {
          "name": "stdout",
          "output_type": "stream",
          "text": [
            "Epoch5: val_loss 0.7252 val_acc 0.5006\n"
          ]
        }
      ],
      "source": [
        "seed_everything(seed=42)\n",
        "torch.cuda.empty_cache()\n",
        "gc.collect()\n",
        "\n",
        "model = SimpleRNNModel()\n",
        "model = model.to(device)\n",
        "\n",
        "epochs = 5\n",
        "clip_grad = 1.0\n",
        "lr = 1e-3\n",
        "\n",
        "loss_fn = nn.BCEWithLogitsLoss()\n",
        "optimizer = torch.optim.AdamW([\n",
        "    {'params': [param for param in model.parameters() if param.ndim>=2], 'weight_decay': 0.01},\n",
        "    {'params': [param for param in model.parameters() if param.ndim<2], 'weight_decay': 0.0}\n",
        "], lr=lr)\n",
        "accum_loss = AverageMeter()\n",
        "accum_acc = AverageMeter()\n",
        "total_steps = len(train_loader) * epochs\n",
        "lr_fn = get_cosine_decay_with_warmup(total_steps=total_steps, warmup_steps=total_steps//10, max_lr=lr, min_lr=1e-7)\n",
        "scheduler = LRScheduler(optimizer, lr_fn)\n",
        "best_val_loss = float('inf') #initialize the best valiation loss as infinity\n",
        "\n",
        "for epoch in range(1, epochs+1):\n",
        "    model.train()  # training mode\n",
        "    accum_loss.reset()\n",
        "    accum_acc.reset()\n",
        "    pbar = tqdm(train_loader, desc=f'TRAIN epoch {epoch}', total=len(train_loader))\n",
        "    for x, y in pbar:\n",
        "        x, y = x.to(device), y.to(device)\n",
        "        y_pred = model(x)\n",
        "        loss = loss_fn(y_pred, y)\n",
        "        loss.backward()\n",
        "        norm = torch.nn.utils.clip_grad_norm_(model.parameters(), clip_grad)\n",
        "        lr = scheduler.step()\n",
        "        optimizer.step()\n",
        "        optimizer.zero_grad()\n",
        "\n",
        "        accum_loss.update(loss.detach(), y.size(0))\n",
        "        accum_acc.update(accuracy((y_pred.detach()>0).int(), y), y.size(0))\n",
        "\n",
        "        pbar.set_postfix({'loss': f'{accum_loss.avg:.4f}',\n",
        "                          'acc': f'{accum_acc.avg:.4f}',\n",
        "                          'lr': f'{lr:.6f}',\n",
        "                          'grad_norm': f'{norm:.4f}'})\n",
        "\n",
        "    model.eval()  # evaluation mode\n",
        "    accum_loss.reset()\n",
        "    accum_acc.reset()\n",
        "    for x, y in test_loader:\n",
        "        with torch.no_grad():\n",
        "            x, y = x.to(device), y.to(device)\n",
        "            y_pred = model(x)\n",
        "            loss = loss_fn(y_pred, y)\n",
        "            accum_loss.update(loss, y.size(0))\n",
        "            accum_acc.update(accuracy((y_pred.detach()>0).int(), y), y.size(0))\n",
        "    print(f'Epoch{epoch}: val_loss {accum_loss.avg:.4f} val_acc {accum_acc.avg:.4f}')"
      ]
    },
    {
      "cell_type": "markdown",
      "id": "24d41ec2",
      "metadata": {
        "papermill": {
          "duration": 0.652039,
          "end_time": "2024-10-13T23:11:28.229748",
          "exception": false,
          "start_time": "2024-10-13T23:11:27.577709",
          "status": "completed"
        },
        "tags": [],
        "id": "24d41ec2"
      },
      "source": [
        "## Masking for RNN"
      ]
    },
    {
      "cell_type": "code",
      "execution_count": null,
      "id": "f1328b1f",
      "metadata": {
        "execution": {
          "iopub.execute_input": "2024-10-13T23:11:29.449971Z",
          "iopub.status.busy": "2024-10-13T23:11:29.449004Z",
          "iopub.status.idle": "2024-10-13T23:11:29.457412Z",
          "shell.execute_reply": "2024-10-13T23:11:29.456535Z"
        },
        "papermill": {
          "duration": 0.619144,
          "end_time": "2024-10-13T23:11:29.459301",
          "exception": false,
          "start_time": "2024-10-13T23:11:28.840157",
          "status": "completed"
        },
        "tags": [],
        "id": "f1328b1f"
      },
      "outputs": [],
      "source": [
        "class MaskedRNN(nn.Module):\n",
        "    def __init__(self, rnn_module, **kwargs):\n",
        "        super().__init__(**kwargs)\n",
        "        self.rnn_module = rnn_module\n",
        "        assert rnn_module.batch_first\n",
        "\n",
        "    def forward(self, inputs, h=None, mask=None):\n",
        "        if mask is not None:\n",
        "            lens = mask.to(torch.int32).sum(1).to('cpu')\n",
        "            x = nn.utils.rnn.pack_padded_sequence(inputs, lengths=lens, batch_first=True, enforce_sorted=False)\n",
        "            x, hidden = self.rnn_module(x, h)\n",
        "            x, _ = torch.nn.utils.rnn.pad_packed_sequence(x, batch_first=True)\n",
        "        else:\n",
        "            x, hidden = self.rnn_module(inputs, h)\n",
        "        return x, hidden"
      ]
    },
    {
      "cell_type": "code",
      "execution_count": null,
      "id": "371fd8e5",
      "metadata": {
        "execution": {
          "iopub.execute_input": "2024-10-13T23:11:30.724252Z",
          "iopub.status.busy": "2024-10-13T23:11:30.723410Z",
          "iopub.status.idle": "2024-10-13T23:11:30.738237Z",
          "shell.execute_reply": "2024-10-13T23:11:30.737382Z"
        },
        "papermill": {
          "duration": 0.668583,
          "end_time": "2024-10-13T23:11:30.740277",
          "exception": false,
          "start_time": "2024-10-13T23:11:30.071694",
          "status": "completed"
        },
        "tags": [],
        "id": "371fd8e5"
      },
      "outputs": [],
      "source": [
        "class RNNModel(nn.Module):\n",
        "    def __init__(self, dim=256, vocab_size=len(vocab), pad_idx=vocab['<PAD>']):\n",
        "        super().__init__()\n",
        "        self.pad_idx = pad_idx\n",
        "        self.embedding = nn.Embedding(num_embeddings=vocab_size, embedding_dim=dim)\n",
        "        self.rnn = MaskedRNN(nn.RNN(dim, dim, batch_first=True))\n",
        "        self.head = nn.Linear(dim, 1)\n",
        "\n",
        "    def forward(self, x):\n",
        "        mask = x != self.pad_idx\n",
        "        x = self.embedding(x)\n",
        "        _, x = self.rnn(x, mask=mask)\n",
        "        x = self.head(x[-1])\n",
        "        return x\n",
        "\n",
        "class BiRNNModel(nn.Module):\n",
        "    def __init__(self, dim=256, vocab_size=len(vocab), pad_idx=vocab['<PAD>']):\n",
        "        super().__init__()\n",
        "        self.pad_idx = pad_idx\n",
        "        self.embedding = nn.Embedding(num_embeddings=vocab_size, embedding_dim=dim)\n",
        "        self.rnn = MaskedRNN(nn.RNN(dim, dim, batch_first=True, bidirectional=True))\n",
        "        self.head = nn.Linear(2*dim, 1)#2*dim becuase bidirectional=True\n",
        "\n",
        "    def forward(self, x):\n",
        "        mask = x != self.pad_idx\n",
        "        x = self.embedding(x)\n",
        "        _, x = self.rnn(x, mask=mask)\n",
        "        x = self.head(torch.cat([x[-2], x[-1]], dim=-1)) #bidirectional=True\n",
        "        return x\n",
        "\n",
        "class BiLSTMNModel(nn.Module):\n",
        "    def __init__(self, dim=256, vocab_size=len(vocab), pad_idx=vocab['<PAD>']):\n",
        "        super().__init__()\n",
        "        self.pad_idx = pad_idx\n",
        "        self.embedding = nn.Embedding(num_embeddings=vocab_size, embedding_dim=dim)\n",
        "        self.rnn = MaskedRNN(nn.LSTM(dim, dim, num_layers=2, batch_first=True, bidirectional=True)) #nn.GRU(dim, dim)\n",
        "        self.head = nn.Linear(2*dim, 1)#2*dim becuase bidirectional=True\n",
        "\n",
        "    def forward(self, x):\n",
        "        mask = x != self.pad_idx\n",
        "        x = self.embedding(x)\n",
        "        _, x = self.rnn(x, mask=mask)\n",
        "        x = x[0] #use hidden states only(not cell state)\n",
        "        x = self.head(torch.cat([x[-2], x[-1]], dim=-1)) #bidirectional=True\n",
        "        return x"
      ]
    },
    {
      "cell_type": "code",
      "execution_count": null,
      "id": "892e61a4",
      "metadata": {
        "execution": {
          "iopub.execute_input": "2024-10-13T23:11:31.957568Z",
          "iopub.status.busy": "2024-10-13T23:11:31.957180Z",
          "iopub.status.idle": "2024-10-13T23:13:24.711697Z",
          "shell.execute_reply": "2024-10-13T23:13:24.710373Z"
        },
        "papermill": {
          "duration": 113.372244,
          "end_time": "2024-10-13T23:13:24.713907",
          "exception": false,
          "start_time": "2024-10-13T23:11:31.341663",
          "status": "completed"
        },
        "tags": [],
        "id": "892e61a4",
        "outputId": "99235489-332a-4873-afb6-1bd2cad673a2"
      },
      "outputs": [
        {
          "name": "stderr",
          "output_type": "stream",
          "text": [
            "TRAIN epoch 1: 100%|██████████| 625/625 [00:20<00:00, 30.89it/s, loss=0.6778, acc=0.5694, lr=0.000970, grad_norm=1.7430]\n"
          ]
        },
        {
          "name": "stdout",
          "output_type": "stream",
          "text": [
            "Epoch1: val_loss 0.6820 val_acc 0.5432\n"
          ]
        },
        {
          "name": "stderr",
          "output_type": "stream",
          "text": [
            "TRAIN epoch 2: 100%|██████████| 625/625 [00:20<00:00, 30.98it/s, loss=0.5733, acc=0.7110, lr=0.000750, grad_norm=0.6925]\n"
          ]
        },
        {
          "name": "stdout",
          "output_type": "stream",
          "text": [
            "Epoch2: val_loss 0.5534 val_acc 0.7281\n"
          ]
        },
        {
          "name": "stderr",
          "output_type": "stream",
          "text": [
            "TRAIN epoch 3: 100%|██████████| 625/625 [00:20<00:00, 30.78it/s, loss=0.4729, acc=0.7849, lr=0.000414, grad_norm=1.4087]\n"
          ]
        },
        {
          "name": "stdout",
          "output_type": "stream",
          "text": [
            "Epoch3: val_loss 0.5041 val_acc 0.7673\n"
          ]
        },
        {
          "name": "stderr",
          "output_type": "stream",
          "text": [
            "TRAIN epoch 4: 100%|██████████| 625/625 [00:20<00:00, 31.02it/s, loss=0.3854, acc=0.8356, lr=0.000117, grad_norm=1.0359]\n"
          ]
        },
        {
          "name": "stdout",
          "output_type": "stream",
          "text": [
            "Epoch4: val_loss 0.4724 val_acc 0.7886\n"
          ]
        },
        {
          "name": "stderr",
          "output_type": "stream",
          "text": [
            "TRAIN epoch 5: 100%|██████████| 625/625 [00:20<00:00, 31.01it/s, loss=0.3311, acc=0.8632, lr=0.000000, grad_norm=1.1084]\n"
          ]
        },
        {
          "name": "stdout",
          "output_type": "stream",
          "text": [
            "Epoch5: val_loss 0.4696 val_acc 0.7929\n"
          ]
        }
      ],
      "source": [
        "seed_everything(seed=42)\n",
        "torch.cuda.empty_cache()\n",
        "gc.collect()\n",
        "\n",
        "model = RNNModel()\n",
        "model = model.to(device)\n",
        "\n",
        "epochs = 5\n",
        "clip_grad = 1.0\n",
        "lr = 1e-3\n",
        "\n",
        "loss_fn = nn.BCEWithLogitsLoss()\n",
        "optimizer = torch.optim.AdamW([\n",
        "    {'params': [param for param in model.parameters() if param.ndim>=2], 'weight_decay': 0.01},\n",
        "    {'params': [param for param in model.parameters() if param.ndim<2], 'weight_decay': 0.0}\n",
        "], lr=lr)\n",
        "accum_loss = AverageMeter()\n",
        "accum_acc = AverageMeter()\n",
        "total_steps = len(train_loader) * epochs\n",
        "lr_fn = get_cosine_decay_with_warmup(total_steps=total_steps, warmup_steps=total_steps//10, max_lr=lr, min_lr=1e-7)\n",
        "scheduler = LRScheduler(optimizer, lr_fn)\n",
        "best_val_loss = float('inf') #initialize the best valiation loss as infinity\n",
        "\n",
        "for epoch in range(1, epochs+1):\n",
        "    model.train()  # training mode\n",
        "    accum_loss.reset()\n",
        "    accum_acc.reset()\n",
        "    pbar = tqdm(train_loader, desc=f'TRAIN epoch {epoch}', total=len(train_loader))\n",
        "    for x, y in pbar:\n",
        "        x, y = x.to(device), y.to(device)\n",
        "        y_pred = model(x)\n",
        "        loss = loss_fn(y_pred, y)\n",
        "        loss.backward()\n",
        "        norm = torch.nn.utils.clip_grad_norm_(model.parameters(), clip_grad)\n",
        "        lr = scheduler.step()\n",
        "        optimizer.step()\n",
        "        optimizer.zero_grad()\n",
        "\n",
        "        accum_loss.update(loss.detach(), y.size(0))\n",
        "        accum_acc.update(accuracy((y_pred.detach()>0).int(), y), y.size(0))\n",
        "\n",
        "        pbar.set_postfix({'loss': f'{accum_loss.avg:.4f}',\n",
        "                          'acc': f'{accum_acc.avg:.4f}',\n",
        "                          'lr': f'{lr:.6f}',\n",
        "                          'grad_norm': f'{norm:.4f}'})\n",
        "\n",
        "    model.eval()  # evaluation mode\n",
        "    accum_loss.reset()\n",
        "    accum_acc.reset()\n",
        "    for x, y in test_loader:\n",
        "        with torch.no_grad():\n",
        "            x, y = x.to(device), y.to(device)\n",
        "            y_pred = model(x)\n",
        "            loss = loss_fn(y_pred, y)\n",
        "            accum_loss.update(loss, y.size(0))\n",
        "            accum_acc.update(accuracy((y_pred.detach()>0).int(), y), y.size(0))\n",
        "    print(f'Epoch{epoch}: val_loss {accum_loss.avg:.4f} val_acc {accum_acc.avg:.4f}')"
      ]
    },
    {
      "cell_type": "code",
      "execution_count": null,
      "id": "5cd31e03",
      "metadata": {
        "papermill": {
          "duration": 0.98612,
          "end_time": "2024-10-13T23:13:26.676920",
          "exception": false,
          "start_time": "2024-10-13T23:13:25.690800",
          "status": "completed"
        },
        "tags": [],
        "id": "5cd31e03"
      },
      "outputs": [],
      "source": []
    },
    {
      "cell_type": "markdown",
      "id": "5e46c2be",
      "metadata": {
        "papermill": {
          "duration": 0.952845,
          "end_time": "2024-10-13T23:13:28.548905",
          "exception": false,
          "start_time": "2024-10-13T23:13:27.596060",
          "status": "completed"
        },
        "tags": [],
        "id": "5e46c2be"
      },
      "source": [
        "## Neural Machine Translation with Seq2Seq Model"
      ]
    },
    {
      "cell_type": "code",
      "execution_count": null,
      "id": "f5ef03d8",
      "metadata": {
        "execution": {
          "iopub.execute_input": "2024-10-13T23:13:30.422985Z",
          "iopub.status.busy": "2024-10-13T23:13:30.422157Z",
          "iopub.status.idle": "2024-10-13T23:13:30.933448Z",
          "shell.execute_reply": "2024-10-13T23:13:30.932672Z"
        },
        "papermill": {
          "duration": 1.474962,
          "end_time": "2024-10-13T23:13:30.935711",
          "exception": false,
          "start_time": "2024-10-13T23:13:29.460749",
          "status": "completed"
        },
        "tags": [],
        "id": "f5ef03d8"
      },
      "outputs": [],
      "source": [
        "df = pd.read_csv('/content/drive/MyDrive/aibootcamp/딥러닝/rnn/wmt_sample_50000.csv')"
      ]
    },
    {
      "cell_type": "code",
      "execution_count": null,
      "id": "ed4b3a63",
      "metadata": {
        "execution": {
          "iopub.execute_input": "2024-10-13T23:13:32.798094Z",
          "iopub.status.busy": "2024-10-13T23:13:32.797205Z",
          "iopub.status.idle": "2024-10-13T23:13:32.810482Z",
          "shell.execute_reply": "2024-10-13T23:13:32.809538Z"
        },
        "papermill": {
          "duration": 0.966127,
          "end_time": "2024-10-13T23:13:32.812588",
          "exception": false,
          "start_time": "2024-10-13T23:13:31.846461",
          "status": "completed"
        },
        "tags": [],
        "id": "ed4b3a63",
        "outputId": "a50f2e83-5c12-4c1a-c381-aa3688be077e"
      },
      "outputs": [
        {
          "data": {
            "text/html": [
              "<div>\n",
              "<style scoped>\n",
              "    .dataframe tbody tr th:only-of-type {\n",
              "        vertical-align: middle;\n",
              "    }\n",
              "\n",
              "    .dataframe tbody tr th {\n",
              "        vertical-align: top;\n",
              "    }\n",
              "\n",
              "    .dataframe thead th {\n",
              "        text-align: right;\n",
              "    }\n",
              "</style>\n",
              "<table border=\"1\" class=\"dataframe\">\n",
              "  <thead>\n",
              "    <tr style=\"text-align: right;\">\n",
              "      <th></th>\n",
              "      <th>Unnamed: 0</th>\n",
              "      <th>en</th>\n",
              "      <th>fr</th>\n",
              "    </tr>\n",
              "  </thead>\n",
              "  <tbody>\n",
              "    <tr>\n",
              "      <th>0</th>\n",
              "      <td>0</td>\n",
              "      <td>Survey participants noted that growth in the s...</td>\n",
              "      <td>Les participants à l’enquête notent que la cro...</td>\n",
              "    </tr>\n",
              "    <tr>\n",
              "      <th>1</th>\n",
              "      <td>1</td>\n",
              "      <td>Influenza B was reported in a very small propo...</td>\n",
              "      <td>Le virus de l'influenza B a été signalé dans u...</td>\n",
              "    </tr>\n",
              "    <tr>\n",
              "      <th>2</th>\n",
              "      <td>2</td>\n",
              "      <td>If you are travelling with infants or small ch...</td>\n",
              "      <td>Emportez également un double de votre ordonnan...</td>\n",
              "    </tr>\n",
              "    <tr>\n",
              "      <th>3</th>\n",
              "      <td>3</td>\n",
              "      <td>◦ Failure to provide a social insurance number</td>\n",
              "      <td>◦ Défaut de fournir un numéro d'assurance sociale</td>\n",
              "    </tr>\n",
              "    <tr>\n",
              "      <th>4</th>\n",
              "      <td>4</td>\n",
              "      <td>This often includes arrangements of traps and ...</td>\n",
              "      <td>Le circuit comprend souvent des systèmes de pi...</td>\n",
              "    </tr>\n",
              "    <tr>\n",
              "      <th>...</th>\n",
              "      <td>...</td>\n",
              "      <td>...</td>\n",
              "      <td>...</td>\n",
              "    </tr>\n",
              "    <tr>\n",
              "      <th>49995</th>\n",
              "      <td>49995</td>\n",
              "      <td>Sport Canada Policy on Women in Sport (1986) S...</td>\n",
              "      <td>Politique de Sport Canada sur les femmes dans ...</td>\n",
              "    </tr>\n",
              "    <tr>\n",
              "      <th>49996</th>\n",
              "      <td>49996</td>\n",
              "      <td>Although the Tribunal intends to staff 33 full...</td>\n",
              "      <td>Le Tribunal prévoit doter 33 postes d’équivale...</td>\n",
              "    </tr>\n",
              "    <tr>\n",
              "      <th>49997</th>\n",
              "      <td>49997</td>\n",
              "      <td>• The second communication, approved on 14 Mar...</td>\n",
              "      <td>• la seconde communication, approuvée le 14 ma...</td>\n",
              "    </tr>\n",
              "    <tr>\n",
              "      <th>49998</th>\n",
              "      <td>49998</td>\n",
              "      <td>Or. it Justification Authenticity indicators p...</td>\n",
              "      <td>Or. it Justification Les indicateurs d'authent...</td>\n",
              "    </tr>\n",
              "    <tr>\n",
              "      <th>49999</th>\n",
              "      <td>49999</td>\n",
              "      <td>Protect children and youth from abuse, violenc...</td>\n",
              "      <td>Protéger les enfants et adolescents contre le ...</td>\n",
              "    </tr>\n",
              "  </tbody>\n",
              "</table>\n",
              "<p>50000 rows × 3 columns</p>\n",
              "</div>"
            ],
            "text/plain": [
              "       Unnamed: 0                                                 en  \\\n",
              "0               0  Survey participants noted that growth in the s...   \n",
              "1               1  Influenza B was reported in a very small propo...   \n",
              "2               2  If you are travelling with infants or small ch...   \n",
              "3               3     ◦ Failure to provide a social insurance number   \n",
              "4               4  This often includes arrangements of traps and ...   \n",
              "...           ...                                                ...   \n",
              "49995       49995  Sport Canada Policy on Women in Sport (1986) S...   \n",
              "49996       49996  Although the Tribunal intends to staff 33 full...   \n",
              "49997       49997  • The second communication, approved on 14 Mar...   \n",
              "49998       49998  Or. it Justification Authenticity indicators p...   \n",
              "49999       49999  Protect children and youth from abuse, violenc...   \n",
              "\n",
              "                                                      fr  \n",
              "0      Les participants à l’enquête notent que la cro...  \n",
              "1      Le virus de l'influenza B a été signalé dans u...  \n",
              "2      Emportez également un double de votre ordonnan...  \n",
              "3      ◦ Défaut de fournir un numéro d'assurance sociale  \n",
              "4      Le circuit comprend souvent des systèmes de pi...  \n",
              "...                                                  ...  \n",
              "49995  Politique de Sport Canada sur les femmes dans ...  \n",
              "49996  Le Tribunal prévoit doter 33 postes d’équivale...  \n",
              "49997  • la seconde communication, approuvée le 14 ma...  \n",
              "49998  Or. it Justification Les indicateurs d'authent...  \n",
              "49999  Protéger les enfants et adolescents contre le ...  \n",
              "\n",
              "[50000 rows x 3 columns]"
            ]
          },
          "execution_count": 44,
          "metadata": {},
          "output_type": "execute_result"
        }
      ],
      "source": [
        "df"
      ]
    },
    {
      "cell_type": "code",
      "execution_count": null,
      "id": "4cc314a5",
      "metadata": {
        "execution": {
          "iopub.execute_input": "2024-10-13T23:13:34.684461Z",
          "iopub.status.busy": "2024-10-13T23:13:34.684066Z",
          "iopub.status.idle": "2024-10-13T23:14:16.719523Z",
          "shell.execute_reply": "2024-10-13T23:14:16.718568Z"
        },
        "papermill": {
          "duration": 43.907636,
          "end_time": "2024-10-13T23:14:17.680100",
          "exception": false,
          "start_time": "2024-10-13T23:13:33.772464",
          "status": "completed"
        },
        "tags": [],
        "id": "4cc314a5",
        "outputId": "86ed38a0-39ed-4b75-fa7a-9aa444dc6f11"
      },
      "outputs": [
        {
          "data": {
            "text/html": [
              "<div>\n",
              "<style scoped>\n",
              "    .dataframe tbody tr th:only-of-type {\n",
              "        vertical-align: middle;\n",
              "    }\n",
              "\n",
              "    .dataframe tbody tr th {\n",
              "        vertical-align: top;\n",
              "    }\n",
              "\n",
              "    .dataframe thead th {\n",
              "        text-align: right;\n",
              "    }\n",
              "</style>\n",
              "<table border=\"1\" class=\"dataframe\">\n",
              "  <thead>\n",
              "    <tr style=\"text-align: right;\">\n",
              "      <th></th>\n",
              "      <th>Unnamed: 0</th>\n",
              "      <th>en</th>\n",
              "      <th>fr</th>\n",
              "      <th>en_encoded</th>\n",
              "      <th>fr_encoded</th>\n",
              "      <th>en_len</th>\n",
              "      <th>fr_len</th>\n",
              "    </tr>\n",
              "  </thead>\n",
              "  <tbody>\n",
              "    <tr>\n",
              "      <th>0</th>\n",
              "      <td>0</td>\n",
              "      <td>Survey participants noted that growth in the s...</td>\n",
              "      <td>Les participants à l’enquête notent que la cro...</td>\n",
              "      <td>[14214, 3304, 6809, 4367, 326, 3349, 287, 262,...</td>\n",
              "      <td>[35882, 6809, 28141, 300, 447, 247, 268, 421, ...</td>\n",
              "      <td>54</td>\n",
              "      <td>100</td>\n",
              "    </tr>\n",
              "    <tr>\n",
              "      <th>1</th>\n",
              "      <td>1</td>\n",
              "      <td>Influenza B was reported in a very small propo...</td>\n",
              "      <td>Le virus de l'influenza B a été signalé dans u...</td>\n",
              "      <td>[18943, 2290, 23674, 347, 373, 2098, 287, 257,...</td>\n",
              "      <td>[3123, 9471, 390, 300, 6, 10745, 2290, 23674, ...</td>\n",
              "      <td>24</td>\n",
              "      <td>38</td>\n",
              "    </tr>\n",
              "    <tr>\n",
              "      <th>2</th>\n",
              "      <td>2</td>\n",
              "      <td>If you are travelling with infants or small ch...</td>\n",
              "      <td>Emportez également un double de votre ordonnan...</td>\n",
              "      <td>[1532, 345, 389, 16574, 351, 18775, 393, 1402,...</td>\n",
              "      <td>[10161, 634, 8471, 38251, 13528, 972, 555, 427...</td>\n",
              "      <td>26</td>\n",
              "      <td>52</td>\n",
              "    </tr>\n",
              "    <tr>\n",
              "      <th>3</th>\n",
              "      <td>3</td>\n",
              "      <td>◦ Failure to provide a social insurance number</td>\n",
              "      <td>◦ Défaut de fournir un numéro d'assurance sociale</td>\n",
              "      <td>[15926, 99, 25743, 284, 2148, 257, 1919, 5096,...</td>\n",
              "      <td>[15926, 99, 360, 2634, 69, 2306, 390, 1440, 32...</td>\n",
              "      <td>9</td>\n",
              "      <td>19</td>\n",
              "    </tr>\n",
              "    <tr>\n",
              "      <th>4</th>\n",
              "      <td>4</td>\n",
              "      <td>This often includes arrangements of traps and ...</td>\n",
              "      <td>Le circuit comprend souvent des systèmes de pi...</td>\n",
              "      <td>[1212, 1690, 3407, 14752, 286, 20348, 290, 813...</td>\n",
              "      <td>[3123, 10349, 552, 10920, 24049, 1151, 748, 82...</td>\n",
              "      <td>14</td>\n",
              "      <td>35</td>\n",
              "    </tr>\n",
              "    <tr>\n",
              "      <th>...</th>\n",
              "      <td>...</td>\n",
              "      <td>...</td>\n",
              "      <td>...</td>\n",
              "      <td>...</td>\n",
              "      <td>...</td>\n",
              "      <td>...</td>\n",
              "      <td>...</td>\n",
              "    </tr>\n",
              "    <tr>\n",
              "      <th>49995</th>\n",
              "      <td>49995</td>\n",
              "      <td>Sport Canada Policy on Women in Sport (1986) S...</td>\n",
              "      <td>Politique de Sport Canada sur les femmes dans ...</td>\n",
              "      <td>[42576, 3340, 7820, 319, 6926, 287, 12771, 357...</td>\n",
              "      <td>[39866, 2350, 390, 12771, 3340, 969, 10287, 27...</td>\n",
              "      <td>24</td>\n",
              "      <td>44</td>\n",
              "    </tr>\n",
              "    <tr>\n",
              "      <th>49996</th>\n",
              "      <td>49996</td>\n",
              "      <td>Although the Tribunal intends to staff 33 full...</td>\n",
              "      <td>Le Tribunal prévoit doter 33 postes d’équivale...</td>\n",
              "      <td>[7003, 262, 31189, 19582, 284, 3085, 4747, 133...</td>\n",
              "      <td>[3123, 31189, 778, 2634, 13038, 270, 16605, 26...</td>\n",
              "      <td>62</td>\n",
              "      <td>116</td>\n",
              "    </tr>\n",
              "    <tr>\n",
              "      <th>49997</th>\n",
              "      <td>49997</td>\n",
              "      <td>• The second communication, approved on 14 Mar...</td>\n",
              "      <td>• la seconde communication, approuvée le 14 ma...</td>\n",
              "      <td>[3581, 383, 1218, 6946, 11, 6325, 319, 1478, 2...</td>\n",
              "      <td>[3581, 8591, 1218, 68, 6946, 11, 598, 472, 85,...</td>\n",
              "      <td>31</td>\n",
              "      <td>55</td>\n",
              "    </tr>\n",
              "    <tr>\n",
              "      <th>49998</th>\n",
              "      <td>49998</td>\n",
              "      <td>Or. it Justification Authenticity indicators p...</td>\n",
              "      <td>Or. it Justification Les indicateurs d'authent...</td>\n",
              "      <td>[5574, 13, 340, 2329, 2649, 31885, 8467, 21337...</td>\n",
              "      <td>[5574, 13, 340, 2329, 2649, 11732, 7603, 1834,...</td>\n",
              "      <td>24</td>\n",
              "      <td>38</td>\n",
              "    </tr>\n",
              "    <tr>\n",
              "      <th>49999</th>\n",
              "      <td>49999</td>\n",
              "      <td>Protect children and youth from abuse, violenc...</td>\n",
              "      <td>Protéger les enfants et adolescents contre le ...</td>\n",
              "      <td>[41426, 1751, 290, 6205, 422, 5076, 11, 3685, ...</td>\n",
              "      <td>[19703, 2634, 1362, 10287, 551, 69, 1187, 2123...</td>\n",
              "      <td>25</td>\n",
              "      <td>60</td>\n",
              "    </tr>\n",
              "  </tbody>\n",
              "</table>\n",
              "<p>50000 rows × 7 columns</p>\n",
              "</div>"
            ],
            "text/plain": [
              "       Unnamed: 0                                                 en  \\\n",
              "0               0  Survey participants noted that growth in the s...   \n",
              "1               1  Influenza B was reported in a very small propo...   \n",
              "2               2  If you are travelling with infants or small ch...   \n",
              "3               3     ◦ Failure to provide a social insurance number   \n",
              "4               4  This often includes arrangements of traps and ...   \n",
              "...           ...                                                ...   \n",
              "49995       49995  Sport Canada Policy on Women in Sport (1986) S...   \n",
              "49996       49996  Although the Tribunal intends to staff 33 full...   \n",
              "49997       49997  • The second communication, approved on 14 Mar...   \n",
              "49998       49998  Or. it Justification Authenticity indicators p...   \n",
              "49999       49999  Protect children and youth from abuse, violenc...   \n",
              "\n",
              "                                                      fr  \\\n",
              "0      Les participants à l’enquête notent que la cro...   \n",
              "1      Le virus de l'influenza B a été signalé dans u...   \n",
              "2      Emportez également un double de votre ordonnan...   \n",
              "3      ◦ Défaut de fournir un numéro d'assurance sociale   \n",
              "4      Le circuit comprend souvent des systèmes de pi...   \n",
              "...                                                  ...   \n",
              "49995  Politique de Sport Canada sur les femmes dans ...   \n",
              "49996  Le Tribunal prévoit doter 33 postes d’équivale...   \n",
              "49997  • la seconde communication, approuvée le 14 ma...   \n",
              "49998  Or. it Justification Les indicateurs d'authent...   \n",
              "49999  Protéger les enfants et adolescents contre le ...   \n",
              "\n",
              "                                              en_encoded  \\\n",
              "0      [14214, 3304, 6809, 4367, 326, 3349, 287, 262,...   \n",
              "1      [18943, 2290, 23674, 347, 373, 2098, 287, 257,...   \n",
              "2      [1532, 345, 389, 16574, 351, 18775, 393, 1402,...   \n",
              "3      [15926, 99, 25743, 284, 2148, 257, 1919, 5096,...   \n",
              "4      [1212, 1690, 3407, 14752, 286, 20348, 290, 813...   \n",
              "...                                                  ...   \n",
              "49995  [42576, 3340, 7820, 319, 6926, 287, 12771, 357...   \n",
              "49996  [7003, 262, 31189, 19582, 284, 3085, 4747, 133...   \n",
              "49997  [3581, 383, 1218, 6946, 11, 6325, 319, 1478, 2...   \n",
              "49998  [5574, 13, 340, 2329, 2649, 31885, 8467, 21337...   \n",
              "49999  [41426, 1751, 290, 6205, 422, 5076, 11, 3685, ...   \n",
              "\n",
              "                                              fr_encoded  en_len  fr_len  \n",
              "0      [35882, 6809, 28141, 300, 447, 247, 268, 421, ...      54     100  \n",
              "1      [3123, 9471, 390, 300, 6, 10745, 2290, 23674, ...      24      38  \n",
              "2      [10161, 634, 8471, 38251, 13528, 972, 555, 427...      26      52  \n",
              "3      [15926, 99, 360, 2634, 69, 2306, 390, 1440, 32...       9      19  \n",
              "4      [3123, 10349, 552, 10920, 24049, 1151, 748, 82...      14      35  \n",
              "...                                                  ...     ...     ...  \n",
              "49995  [39866, 2350, 390, 12771, 3340, 969, 10287, 27...      24      44  \n",
              "49996  [3123, 31189, 778, 2634, 13038, 270, 16605, 26...      62     116  \n",
              "49997  [3581, 8591, 1218, 68, 6946, 11, 598, 472, 85,...      31      55  \n",
              "49998  [5574, 13, 340, 2329, 2649, 11732, 7603, 1834,...      24      38  \n",
              "49999  [19703, 2634, 1362, 10287, 551, 69, 1187, 2123...      25      60  \n",
              "\n",
              "[50000 rows x 7 columns]"
            ]
          },
          "execution_count": 45,
          "metadata": {},
          "output_type": "execute_result"
        }
      ],
      "source": [
        "df['en_encoded'] = tokenizer(df.en.tolist())['input_ids']\n",
        "df['fr_encoded'] = tokenizer(df.fr.tolist())['input_ids']\n",
        "df['en_len'] = df['en_encoded'].apply(len)\n",
        "df['fr_len'] = df['fr_encoded'].apply(len)\n",
        "df"
      ]
    },
    {
      "cell_type": "code",
      "execution_count": null,
      "id": "8462461d",
      "metadata": {
        "execution": {
          "iopub.execute_input": "2024-10-13T23:14:19.505390Z",
          "iopub.status.busy": "2024-10-13T23:14:19.504993Z",
          "iopub.status.idle": "2024-10-13T23:14:19.512066Z",
          "shell.execute_reply": "2024-10-13T23:14:19.511167Z"
        },
        "papermill": {
          "duration": 0.921646,
          "end_time": "2024-10-13T23:14:19.513955",
          "exception": false,
          "start_time": "2024-10-13T23:14:18.592309",
          "status": "completed"
        },
        "tags": [],
        "id": "8462461d",
        "outputId": "356fe2fd-a39c-4ceb-a98f-ebcd5ac8e574"
      },
      "outputs": [
        {
          "data": {
            "text/plain": [
              "3707"
            ]
          },
          "execution_count": 46,
          "metadata": {},
          "output_type": "execute_result"
        }
      ],
      "source": [
        "df['en_len'].max()"
      ]
    },
    {
      "cell_type": "code",
      "execution_count": null,
      "id": "08db5070",
      "metadata": {
        "execution": {
          "iopub.execute_input": "2024-10-13T23:14:21.423269Z",
          "iopub.status.busy": "2024-10-13T23:14:21.422902Z",
          "iopub.status.idle": "2024-10-13T23:14:23.574072Z",
          "shell.execute_reply": "2024-10-13T23:14:23.573178Z"
        },
        "papermill": {
          "duration": 3.113343,
          "end_time": "2024-10-13T23:14:23.576142",
          "exception": false,
          "start_time": "2024-10-13T23:14:20.462799",
          "status": "completed"
        },
        "tags": [],
        "id": "08db5070",
        "outputId": "e746f954-a7e0-4ebd-82df-dbe2c7f7a749"
      },
      "outputs": [
        {
          "data": {
            "image/png": "[encoded data removed]",
            "text/plain": [
              "<Figure size 640x480 with 1 Axes>"
            ]
          },
          "metadata": {},
          "output_type": "display_data"
        }
      ],
      "source": [
        "plt.hist(df['en_len'], bins=1000)\n",
        "# plt.hist(df['fr_len'], bins=1000)\n",
        "plt.show()"
      ]
    },
    {
      "cell_type": "code",
      "execution_count": null,
      "id": "958e1fab",
      "metadata": {
        "execution": {
          "iopub.execute_input": "2024-10-13T23:14:25.477424Z",
          "iopub.status.busy": "2024-10-13T23:14:25.477061Z",
          "iopub.status.idle": "2024-10-13T23:14:25.483990Z",
          "shell.execute_reply": "2024-10-13T23:14:25.483012Z"
        },
        "papermill": {
          "duration": 0.98759,
          "end_time": "2024-10-13T23:14:25.485897",
          "exception": false,
          "start_time": "2024-10-13T23:14:24.498307",
          "status": "completed"
        },
        "tags": [],
        "id": "958e1fab",
        "outputId": "c26bab85-dd1f-4942-a5e2-f24a1d4039d0"
      },
      "outputs": [
        {
          "name": "stdout",
          "output_type": "stream",
          "text": [
            "49338\n",
            "46768\n"
          ]
        }
      ],
      "source": [
        "print((df['en_len']<128).sum())\n",
        "print((df['fr_len']<128).sum())"
      ]
    },
    {
      "cell_type": "code",
      "execution_count": null,
      "id": "e2646674",
      "metadata": {
        "execution": {
          "iopub.execute_input": "2024-10-13T23:14:27.316030Z",
          "iopub.status.busy": "2024-10-13T23:14:27.315103Z",
          "iopub.status.idle": "2024-10-13T23:14:27.378417Z",
          "shell.execute_reply": "2024-10-13T23:14:27.377637Z"
        },
        "papermill": {
          "duration": 0.978903,
          "end_time": "2024-10-13T23:14:27.380655",
          "exception": false,
          "start_time": "2024-10-13T23:14:26.401752",
          "status": "completed"
        },
        "tags": [],
        "id": "e2646674"
      },
      "outputs": [],
      "source": [
        "from sklearn.model_selection import train_test_split\n",
        "train_df, test_df = train_test_split(df, test_size=0.2, random_state=42)\n",
        "\n",
        "train_df['split'] = 'train'\n",
        "test_df['split'] = 'test'\n",
        "\n",
        "df = pd.concat([train_df, test_df]).reset_index(drop=True)"
      ]
    },
    {
      "cell_type": "code",
      "execution_count": null,
      "id": "cfa89110",
      "metadata": {
        "papermill": {
          "duration": 1.003305,
          "end_time": "2024-10-13T23:14:29.334994",
          "exception": false,
          "start_time": "2024-10-13T23:14:28.331689",
          "status": "completed"
        },
        "tags": [],
        "id": "cfa89110"
      },
      "outputs": [],
      "source": []
    },
    {
      "cell_type": "code",
      "execution_count": null,
      "id": "4c7beb87",
      "metadata": {
        "papermill": {
          "duration": 0.964207,
          "end_time": "2024-10-13T23:14:31.223017",
          "exception": false,
          "start_time": "2024-10-13T23:14:30.258810",
          "status": "completed"
        },
        "tags": [],
        "id": "4c7beb87"
      },
      "outputs": [],
      "source": []
    },
    {
      "cell_type": "code",
      "execution_count": null,
      "id": "f7a0c30f",
      "metadata": {
        "execution": {
          "iopub.execute_input": "2024-10-13T23:14:33.053472Z",
          "iopub.status.busy": "2024-10-13T23:14:33.053080Z",
          "iopub.status.idle": "2024-10-13T23:14:33.059727Z",
          "shell.execute_reply": "2024-10-13T23:14:33.058814Z"
        },
        "papermill": {
          "duration": 0.926577,
          "end_time": "2024-10-13T23:14:33.061677",
          "exception": false,
          "start_time": "2024-10-13T23:14:32.135100",
          "status": "completed"
        },
        "tags": [],
        "id": "f7a0c30f"
      },
      "outputs": [],
      "source": [
        "# Dataset 클래스 정의 (EN -> FR)\n",
        "class WMTDataset(Dataset):\n",
        "    def __init__(self, df, tokenizer):\n",
        "        self.df = df\n",
        "        self.tokenizer = tokenizer\n",
        "\n",
        "    def __len__(self):\n",
        "        return len(self.df)\n",
        "\n",
        "    def __getitem__(self, idx):\n",
        "        data = self.df.iloc[idx]\n",
        "        x = data['en_encoded']\n",
        "        y = data['fr_encoded']\n",
        "\n",
        "        x = torch.tensor(x)\n",
        "        y = torch.tensor(y)\n",
        "\n",
        "        return x, y"
      ]
    },
    {
      "cell_type": "code",
      "execution_count": null,
      "id": "91cf3d65",
      "metadata": {
        "execution": {
          "iopub.execute_input": "2024-10-13T23:14:34.982539Z",
          "iopub.status.busy": "2024-10-13T23:14:34.981694Z",
          "iopub.status.idle": "2024-10-13T23:14:34.992349Z",
          "shell.execute_reply": "2024-10-13T23:14:34.991399Z"
        },
        "papermill": {
          "duration": 0.977221,
          "end_time": "2024-10-13T23:14:34.994148",
          "exception": false,
          "start_time": "2024-10-13T23:14:34.016927",
          "status": "completed"
        },
        "tags": [],
        "id": "91cf3d65"
      },
      "outputs": [],
      "source": [
        "def collate_fn(batch, max_len=128, teacher_forcing=True, padding_side='right', pad_idx=vocab['<PAD>'], eos_idx=vocab['<|endoftext|>']):\n",
        "    #batch = [(x1,y1),(x2,y2)...]\n",
        "    x, y = zip(*batch) #(x1, x2, ...), (y1,y2,...)\n",
        "    x = [s[:max_len] for s in x]\n",
        "    y = [s[:max_len] for s in y]\n",
        "    x_lens = [len(s) for s in x]\n",
        "    y_lens = [len(s) for s in y]\n",
        "    max_lenx = max(x_lens)\n",
        "    max_leny = max(y_lens)\n",
        "\n",
        "    #add eos token\n",
        "    y = [torch.cat([s, torch.tensor([eos_idx])]) for s in y]\n",
        "\n",
        "    x = torch.stack([F.pad(s, (0,max_lenx-len(s)) if padding_side == 'right' else (max_lenx-len(s),0), value=pad_idx) for s in x])\n",
        "    y_tar = torch.stack([F.pad(s, (0,max_leny+1-len(s)) if padding_side == 'right' else (max_leny+1-len(s),0), value=pad_idx) for s in y])\n",
        "\n",
        "    if teacher_forcing:\n",
        "        #shifted-right input for teacher forcing\n",
        "        y_inp = torch.stack([F.pad(torch.roll(s,+1), (0,max_leny+1-len(s)) if padding_side == 'right' else (max_leny+1-len(s),0), value=pad_idx) for s in y])\n",
        "        return (x, y_inp), y_tar\n",
        "    else:\n",
        "        return x, y_tar"
      ]
    },
    {
      "cell_type": "code",
      "execution_count": null,
      "id": "a7079d77",
      "metadata": {
        "execution": {
          "iopub.execute_input": "2024-10-13T23:14:36.925082Z",
          "iopub.status.busy": "2024-10-13T23:14:36.924687Z",
          "iopub.status.idle": "2024-10-13T23:14:36.955714Z",
          "shell.execute_reply": "2024-10-13T23:14:36.954641Z"
        },
        "papermill": {
          "duration": 1.000339,
          "end_time": "2024-10-13T23:14:36.958044",
          "exception": false,
          "start_time": "2024-10-13T23:14:35.957705",
          "status": "completed"
        },
        "tags": [],
        "id": "a7079d77",
        "outputId": "66fe29bf-b0aa-4cc3-9477-7bececae27cc"
      },
      "outputs": [
        {
          "name": "stdout",
          "output_type": "stream",
          "text": [
            "(tensor([ 8496,   257,  1729,    12, 28203, 30742,   257,   649,  5398,  1597,\n",
            "           11,   262,  1729,    12, 28203,  2236,  2393, 19605,   351,  1111,\n",
            "        17420,  3340,   290,  5398, 18518,    13]), tensor([ 3118,  1729,    12,  6090,   324,  2013, 45567,  7892,   518, 17809,\n",
            "          299,   280,   626,   293,   920,   260,  7919,   460,   324, 37938,\n",
            "          466,   270, 39073,  1930,   263,   748,  1196,   271,   257,   929,\n",
            "           81, 14064,    82,   288,     6, 35848,  5034,  3340,  2123,   390,\n",
            "         3208,  3036, 42722,   460,   324,  2013,    13]))\n"
          ]
        }
      ],
      "source": [
        "train_dataset = WMTDataset(df[df.split=='train'], tokenizer)\n",
        "test_dataset = WMTDataset(df[df.split=='test'], tokenizer)\n",
        "for x in train_dataset:\n",
        "    print(x)\n",
        "    break"
      ]
    },
    {
      "cell_type": "code",
      "execution_count": null,
      "id": "884d8b87",
      "metadata": {
        "execution": {
          "iopub.execute_input": "2024-10-13T23:14:38.777346Z",
          "iopub.status.busy": "2024-10-13T23:14:38.776572Z",
          "iopub.status.idle": "2024-10-13T23:14:38.782960Z",
          "shell.execute_reply": "2024-10-13T23:14:38.782013Z"
        },
        "papermill": {
          "duration": 0.917555,
          "end_time": "2024-10-13T23:14:38.784872",
          "exception": false,
          "start_time": "2024-10-13T23:14:37.867317",
          "status": "completed"
        },
        "tags": [],
        "id": "884d8b87"
      },
      "outputs": [],
      "source": [
        "train_loader = DataLoader(train_dataset, batch_size=64, shuffle=True, drop_last=True, num_workers=4, pin_memory=True, collate_fn=collate_fn)\n",
        "test_loader = DataLoader(test_dataset, batch_size=64, shuffle=False, drop_last=False, num_workers=4, pin_memory=True, collate_fn=collate_fn)"
      ]
    },
    {
      "cell_type": "code",
      "execution_count": null,
      "id": "e30e1137",
      "metadata": {
        "execution": {
          "iopub.execute_input": "2024-10-13T23:14:40.699663Z",
          "iopub.status.busy": "2024-10-13T23:14:40.699253Z",
          "iopub.status.idle": "2024-10-13T23:14:41.020020Z",
          "shell.execute_reply": "2024-10-13T23:14:41.018770Z"
        },
        "papermill": {
          "duration": 1.286152,
          "end_time": "2024-10-13T23:14:41.022543",
          "exception": false,
          "start_time": "2024-10-13T23:14:39.736391",
          "status": "completed"
        },
        "tags": [],
        "id": "e30e1137",
        "outputId": "1b324568-d5ba-4227-9314-3479b2b8bff7"
      },
      "outputs": [
        {
          "name": "stderr",
          "output_type": "stream",
          "text": [
            "/opt/conda/lib/python3.10/multiprocessing/popen_fork.py:66: RuntimeWarning: os.fork() was called. os.fork() is incompatible with multithreaded code, and JAX is multithreaded, so this will likely lead to a deadlock.\n",
            "  self.pid = os.fork()\n",
            "/opt/conda/lib/python3.10/multiprocessing/popen_fork.py:66: RuntimeWarning: os.fork() was called. os.fork() is incompatible with multithreaded code, and JAX is multithreaded, so this will likely lead to a deadlock.\n",
            "  self.pid = os.fork()\n"
          ]
        },
        {
          "name": "stdout",
          "output_type": "stream",
          "text": [
            "[[tensor([[ 2953,  1944,    11,  ..., 50257, 50257, 50257],\n",
            "        [  818,  4793,    12,  ..., 50257, 50257, 50257],\n",
            "        [  464,  1171, 18103,  ..., 50257, 50257, 50257],\n",
            "        ...,\n",
            "        [  818,  1790,    11,  ..., 50257, 50257, 50257],\n",
            "        [ 1212, 17098, 27396,  ..., 50257, 50257, 50257],\n",
            "        [12832,   421, 29593,  ..., 50257, 50257, 50257]]), tensor([[50256,  6836, 20954,  ..., 50257, 50257, 50257],\n",
            "        [50256,  4834,  4793,  ..., 50257, 50257, 50257],\n",
            "        [50256, 14772, 18103,  ..., 50257, 50257, 50257],\n",
            "        ...,\n",
            "        [50256,  4834,  1449,  ..., 50257, 50257, 50257],\n",
            "        [50256, 14772,   778,  ..., 50257, 50257, 50257],\n",
            "        [50256, 35882, 33683,  ..., 50257, 50257, 50257]])], tensor([[ 6836, 20954,   298,  ..., 50257, 50257, 50257],\n",
            "        [ 4834,  4793,    12,  ..., 50257, 50257, 50257],\n",
            "        [14772, 18103,  2240,  ..., 50257, 50257, 50257],\n",
            "        ...,\n",
            "        [ 4834,  1449,    69,  ..., 50257, 50257, 50257],\n",
            "        [14772,   778, 20954,  ..., 50257, 50257, 50257],\n",
            "        [35882, 33683,   267,  ..., 50257, 50257, 50257]])]\n"
          ]
        }
      ],
      "source": [
        "for x in train_loader:\n",
        "    print(x)\n",
        "    break"
      ]
    },
    {
      "cell_type": "code",
      "execution_count": null,
      "id": "ee943ee7",
      "metadata": {
        "papermill": {
          "duration": 0.960303,
          "end_time": "2024-10-13T23:14:42.915454",
          "exception": false,
          "start_time": "2024-10-13T23:14:41.955151",
          "status": "completed"
        },
        "tags": [],
        "id": "ee943ee7"
      },
      "outputs": [],
      "source": []
    },
    {
      "cell_type": "markdown",
      "id": "3242f80e",
      "metadata": {
        "papermill": {
          "duration": 0.915632,
          "end_time": "2024-10-13T23:14:44.741052",
          "exception": false,
          "start_time": "2024-10-13T23:14:43.825420",
          "status": "completed"
        },
        "tags": [],
        "id": "3242f80e"
      },
      "source": [
        "![스크린샷 2024-10-14 오전 1.48.59.png](attachment:f00c6cb2-72d4-4b3c-8b2b-c99a22437298.png)"
      ]
    },
    {
      "cell_type": "code",
      "execution_count": null,
      "id": "56f2d03e",
      "metadata": {
        "execution": {
          "iopub.execute_input": "2024-10-13T23:14:46.679446Z",
          "iopub.status.busy": "2024-10-13T23:14:46.678740Z",
          "iopub.status.idle": "2024-10-13T23:14:46.687719Z",
          "shell.execute_reply": "2024-10-13T23:14:46.686813Z"
        },
        "papermill": {
          "duration": 0.971629,
          "end_time": "2024-10-13T23:14:46.689658",
          "exception": false,
          "start_time": "2024-10-13T23:14:45.718029",
          "status": "completed"
        },
        "tags": [],
        "id": "56f2d03e"
      },
      "outputs": [],
      "source": [
        "class Seq2SeqModel(nn.Module):\n",
        "    def __init__(self, dim=256, vocab_size=len(vocab), pad_idx=vocab['<PAD>']):\n",
        "        super().__init__()\n",
        "        self.pad_idx = pad_idx\n",
        "        self.embedding = nn.Embedding(num_embeddings=vocab_size, embedding_dim=dim)\n",
        "        self.rnn = MaskedRNN(nn.GRU(dim, dim, num_layers=2, batch_first=True, bidirectional=False))\n",
        "        self.head = nn.Linear(dim, vocab_size)\n",
        "\n",
        "    def forward(self, inp):\n",
        "        x, y = inp\n",
        "        mask_x = x != self.pad_idx\n",
        "        mask_y = y != self.pad_idx\n",
        "        # x = x.flip(1) # x = x[:,::-1]\n",
        "        x = self.embedding(x)\n",
        "        y = self.embedding(y)\n",
        "        x, h_x = self.rnn(x, mask=mask_x)\n",
        "        y, h_y = self.rnn(y, h = h_x, mask=mask_y)\n",
        "        y = self.head(y)\n",
        "        return y"
      ]
    },
    {
      "cell_type": "code",
      "execution_count": null,
      "id": "1a963c94",
      "metadata": {
        "execution": {
          "iopub.execute_input": "2024-10-13T23:14:48.562180Z",
          "iopub.status.busy": "2024-10-13T23:14:48.561524Z",
          "iopub.status.idle": "2024-10-13T23:14:50.364792Z",
          "shell.execute_reply": "2024-10-13T23:14:50.363789Z"
        },
        "papermill": {
          "duration": 2.767776,
          "end_time": "2024-10-13T23:14:50.367001",
          "exception": false,
          "start_time": "2024-10-13T23:14:47.599225",
          "status": "completed"
        },
        "tags": [],
        "id": "1a963c94",
        "outputId": "b2ab0e72-88b8-4a74-84ac-ddc5489c4ae9"
      },
      "outputs": [
        {
          "data": {
            "text/plain": [
              "torch.Size([64, 129, 50258])"
            ]
          },
          "execution_count": 56,
          "metadata": {},
          "output_type": "execute_result"
        }
      ],
      "source": [
        "model = Seq2SeqModel()\n",
        "model(x[0]).shape"
      ]
    },
    {
      "cell_type": "code",
      "execution_count": null,
      "id": "ea7a2902",
      "metadata": {
        "execution": {
          "iopub.execute_input": "2024-10-13T23:14:52.200367Z",
          "iopub.status.busy": "2024-10-13T23:14:52.199493Z",
          "iopub.status.idle": "2024-10-13T23:14:52.206466Z",
          "shell.execute_reply": "2024-10-13T23:14:52.205661Z"
        },
        "papermill": {
          "duration": 0.919815,
          "end_time": "2024-10-13T23:14:52.208334",
          "exception": false,
          "start_time": "2024-10-13T23:14:51.288519",
          "status": "completed"
        },
        "tags": [],
        "id": "ea7a2902",
        "outputId": "ae53d555-a0dd-4270-87ee-de613a1a4377"
      },
      "outputs": [
        {
          "data": {
            "text/plain": [
              "=================================================================\n",
              "Layer (type:depth-idx)                   Param #\n",
              "=================================================================\n",
              "Seq2SeqModel                             --\n",
              "├─Embedding: 1-1                         12,866,048\n",
              "├─MaskedRNN: 1-2                         --\n",
              "│    └─GRU: 2-1                          789,504\n",
              "├─Linear: 1-3                            12,916,306\n",
              "=================================================================\n",
              "Total params: 26,571,858\n",
              "Trainable params: 26,571,858\n",
              "Non-trainable params: 0\n",
              "================================================================="
            ]
          },
          "execution_count": 57,
          "metadata": {},
          "output_type": "execute_result"
        }
      ],
      "source": [
        "summary(model)"
      ]
    },
    {
      "cell_type": "code",
      "execution_count": null,
      "id": "a4fac18b",
      "metadata": {
        "execution": {
          "iopub.execute_input": "2024-10-13T23:14:54.116941Z",
          "iopub.status.busy": "2024-10-13T23:14:54.115969Z",
          "iopub.status.idle": "2024-10-13T23:14:54.124060Z",
          "shell.execute_reply": "2024-10-13T23:14:54.123086Z"
        },
        "papermill": {
          "duration": 0.970117,
          "end_time": "2024-10-13T23:14:54.126068",
          "exception": false,
          "start_time": "2024-10-13T23:14:53.155951",
          "status": "completed"
        },
        "tags": [],
        "id": "a4fac18b"
      },
      "outputs": [],
      "source": [
        "class MaskedCCELoss(nn.Module):\n",
        "    def __init__(self):\n",
        "        super().__init__()\n",
        "\n",
        "    def forward(self, y_pred, y_true, mask):\n",
        "        y_pred = y_pred[mask]\n",
        "        y_true = y_true[mask]\n",
        "        loss = F.cross_entropy(y_pred, y_true)\n",
        "        return loss.mean()\n",
        "\n",
        "def masked_accuracy(y_pred, y_true, mask):\n",
        "    y_pred = y_pred[mask]\n",
        "    y_true = y_true[mask]\n",
        "    correct = y_pred == y_true\n",
        "    N = mask.to(correct.dtype).sum()\n",
        "    acc = correct.sum() / N\n",
        "    return acc"
      ]
    },
    {
      "cell_type": "code",
      "execution_count": null,
      "id": "40429c16",
      "metadata": {
        "execution": {
          "iopub.execute_input": "2024-10-13T23:14:56.007349Z",
          "iopub.status.busy": "2024-10-13T23:14:56.006483Z",
          "iopub.status.idle": "2024-10-13T23:25:38.130874Z",
          "shell.execute_reply": "2024-10-13T23:25:38.129582Z"
        },
        "papermill": {
          "duration": 644.517319,
          "end_time": "2024-10-13T23:25:39.551864",
          "exception": false,
          "start_time": "2024-10-13T23:14:55.034545",
          "status": "completed"
        },
        "tags": [],
        "id": "40429c16",
        "outputId": "d2116ed9-866a-43b0-9583-1d64b055b673"
      },
      "outputs": [
        {
          "name": "stderr",
          "output_type": "stream",
          "text": [
            "TRAIN epoch 1: 100%|██████████| 625/625 [01:58<00:00,  5.29it/s, loss=6.4884, acc=0.1003, lr=0.000970, grad_norm=0.3157]\n"
          ]
        },
        {
          "name": "stdout",
          "output_type": "stream",
          "text": [
            "Epoch1: val_loss 4.5133 val_acc 0.2569\n"
          ]
        },
        {
          "name": "stderr",
          "output_type": "stream",
          "text": [
            "TRAIN epoch 2: 100%|██████████| 625/625 [01:57<00:00,  5.32it/s, loss=3.9293, acc=0.3228, lr=0.000750, grad_norm=0.3726]\n"
          ]
        },
        {
          "name": "stdout",
          "output_type": "stream",
          "text": [
            "Epoch2: val_loss 3.6596 val_acc 0.3566\n"
          ]
        },
        {
          "name": "stderr",
          "output_type": "stream",
          "text": [
            "TRAIN epoch 3: 100%|██████████| 625/625 [01:58<00:00,  5.30it/s, loss=3.4536, acc=0.3752, lr=0.000414, grad_norm=0.3581]\n"
          ]
        },
        {
          "name": "stdout",
          "output_type": "stream",
          "text": [
            "Epoch3: val_loss 3.4646 val_acc 0.3812\n"
          ]
        },
        {
          "name": "stderr",
          "output_type": "stream",
          "text": [
            "TRAIN epoch 4: 100%|██████████| 625/625 [01:57<00:00,  5.31it/s, loss=3.2656, acc=0.3958, lr=0.000117, grad_norm=0.3971]\n"
          ]
        },
        {
          "name": "stdout",
          "output_type": "stream",
          "text": [
            "Epoch4: val_loss 3.3955 val_acc 0.3903\n"
          ]
        },
        {
          "name": "stderr",
          "output_type": "stream",
          "text": [
            "TRAIN epoch 5: 100%|██████████| 625/625 [01:57<00:00,  5.31it/s, loss=3.1882, acc=0.4045, lr=0.000000, grad_norm=0.3912]\n"
          ]
        },
        {
          "name": "stdout",
          "output_type": "stream",
          "text": [
            "Epoch5: val_loss 3.3844 val_acc 0.3917\n"
          ]
        }
      ],
      "source": [
        "seed_everything(seed=42)\n",
        "torch.cuda.empty_cache()\n",
        "gc.collect()\n",
        "\n",
        "model = Seq2SeqModel()\n",
        "model = model.to(device)\n",
        "\n",
        "epochs = 5\n",
        "clip_grad = 1.0\n",
        "lr = 1e-3\n",
        "\n",
        "loss_fn = MaskedCCELoss()#CrossEntropyLoss(ignore_index=vocab['<PAD>'])\n",
        "optimizer = torch.optim.AdamW([\n",
        "    {'params': [param for param in model.parameters() if param.ndim>=2], 'weight_decay': 0.01},\n",
        "    {'params': [param for param in model.parameters() if param.ndim<2], 'weight_decay': 0.0}\n",
        "], lr=lr)\n",
        "accum_loss = AverageMeter()\n",
        "accum_acc = AverageMeter()\n",
        "total_steps = len(train_loader) * epochs\n",
        "lr_fn = get_cosine_decay_with_warmup(total_steps=total_steps, warmup_steps=total_steps//10, max_lr=lr, min_lr=1e-7)\n",
        "scheduler = LRScheduler(optimizer, lr_fn)\n",
        "best_val_loss = float('inf') #initialize the best valiation loss as infinity\n",
        "\n",
        "for epoch in range(1, epochs+1):\n",
        "    model.train()  # training mode\n",
        "    accum_loss.reset()\n",
        "    accum_acc.reset()\n",
        "    pbar = tqdm(train_loader, desc=f'TRAIN epoch {epoch}', total=len(train_loader))\n",
        "    for x, y in pbar:\n",
        "        x, y = (x[0].to(device), x[1].to(device)), y.to(device)\n",
        "        mask = y != vocab['<PAD>']\n",
        "        y_pred = model(x)\n",
        "        loss = loss_fn(y_pred, y, mask)\n",
        "        loss.backward()\n",
        "        norm = torch.nn.utils.clip_grad_norm_(model.parameters(), clip_grad)\n",
        "        lr = scheduler.step()\n",
        "        optimizer.step()\n",
        "        optimizer.zero_grad()\n",
        "\n",
        "        N = mask.int().sum()\n",
        "        accum_loss.update(loss.detach(), N)\n",
        "        accum_acc.update(masked_accuracy(y_pred.detach().argmax(-1), y, mask), N)\n",
        "\n",
        "        pbar.set_postfix({'loss': f'{accum_loss.avg:.4f}',\n",
        "                          'acc': f'{accum_acc.avg:.4f}',\n",
        "                          'lr': f'{lr:.6f}',\n",
        "                          'grad_norm': f'{norm:.4f}'})\n",
        "\n",
        "    model.eval()  # evaluation mode\n",
        "    accum_loss.reset()\n",
        "    accum_acc.reset()\n",
        "    for x, y in test_loader:\n",
        "        with torch.no_grad():\n",
        "            x, y = (x[0].to(device), x[1].to(device)), y.to(device)\n",
        "            mask = y != vocab['<PAD>']\n",
        "            y_pred = model(x)\n",
        "\n",
        "            loss = loss_fn(y_pred, y, mask)\n",
        "            N = mask.int().sum()\n",
        "            accum_loss.update(loss.detach(), N)\n",
        "            accum_acc.update(masked_accuracy(y_pred.detach().argmax(-1), y, mask), N)\n",
        "    print(f'Epoch{epoch}: val_loss {accum_loss.avg:.4f} val_acc {accum_acc.avg:.4f}')"
      ]
    },
    {
      "cell_type": "code",
      "execution_count": null,
      "id": "4fd56fe5",
      "metadata": {
        "execution": {
          "iopub.execute_input": "2024-10-13T23:25:42.476446Z",
          "iopub.status.busy": "2024-10-13T23:25:42.475999Z",
          "iopub.status.idle": "2024-10-13T23:25:42.485992Z",
          "shell.execute_reply": "2024-10-13T23:25:42.485079Z"
        },
        "papermill": {
          "duration": 1.481513,
          "end_time": "2024-10-13T23:25:42.487877",
          "exception": false,
          "start_time": "2024-10-13T23:25:41.006364",
          "status": "completed"
        },
        "tags": [],
        "id": "4fd56fe5"
      },
      "outputs": [],
      "source": [
        "def greedy_decode(model, x, max_len=128, pad_idx=vocab['<PAD>'], eos_idx=vocab['<|endoftext|>']):\n",
        "    model.eval()\n",
        "    batch_size = x.size(0)\n",
        "    device = x.device\n",
        "\n",
        "    #get the hiddens states of the input sequences\n",
        "    mask = x != pad_idx\n",
        "    x = model.embedding(x)\n",
        "    _, h = model.rnn(x, mask=mask)\n",
        "\n",
        "    # Initialize y with <eos> tokens (start of decoding)\n",
        "    y = torch.full((batch_size, 1), eos_idx, dtype=torch.long, device=device)\n",
        "    curr_token = y\n",
        "\n",
        "    # Iteratively decode until max_len or eos token is generated\n",
        "    for i in range(max_len):\n",
        "        # Forward pass through embedding and RNN\n",
        "        x = model.embedding(curr_token)\n",
        "        _, h = model.rnn(x, h)\n",
        "\n",
        "        # Get logits and select the most probable token (greedy approach)\n",
        "        logits = model.head(h[-1])\n",
        "        next_token = torch.argmax(logits, dim=-1, keepdim=True)\n",
        "        # next_token = eos, if seqeunce have generated an <eos> token\n",
        "        if i > 0:\n",
        "            next_token = torch.where((curr_token == eos_idx), eos_idx, next_token)\n",
        "\n",
        "        # Append the predicted token to the sequence\n",
        "        y = torch.cat([y, next_token], dim=1)\n",
        "\n",
        "        # Stop if all sequences in the batch have generated an <eos> token\n",
        "        if (next_token == eos_idx).all():\n",
        "            break\n",
        "\n",
        "        curr_token = next_token\n",
        "\n",
        "    # Remove the initial <eos> token from the output\n",
        "    return y[:, 1:]"
      ]
    },
    {
      "cell_type": "code",
      "execution_count": null,
      "id": "98833de6",
      "metadata": {
        "execution": {
          "iopub.execute_input": "2024-10-13T23:25:45.370977Z",
          "iopub.status.busy": "2024-10-13T23:25:45.370553Z",
          "iopub.status.idle": "2024-10-13T23:25:45.378268Z",
          "shell.execute_reply": "2024-10-13T23:25:45.377023Z"
        },
        "papermill": {
          "duration": 1.43532,
          "end_time": "2024-10-13T23:25:45.380771",
          "exception": false,
          "start_time": "2024-10-13T23:25:43.945451",
          "status": "completed"
        },
        "tags": [],
        "id": "98833de6",
        "outputId": "aa455ef9-0d1a-4576-a3ab-4c9fbc7e354f"
      },
      "outputs": [
        {
          "data": {
            "text/plain": [
              "[40, 1842, 8300]"
            ]
          },
          "execution_count": 61,
          "metadata": {},
          "output_type": "execute_result"
        }
      ],
      "source": [
        "tokenizer.encode('I love programming')"
      ]
    },
    {
      "cell_type": "code",
      "execution_count": null,
      "id": "58489546",
      "metadata": {
        "execution": {
          "iopub.execute_input": "2024-10-13T23:25:48.289893Z",
          "iopub.status.busy": "2024-10-13T23:25:48.289514Z",
          "iopub.status.idle": "2024-10-13T23:25:48.309146Z",
          "shell.execute_reply": "2024-10-13T23:25:48.308226Z"
        },
        "papermill": {
          "duration": 1.480774,
          "end_time": "2024-10-13T23:25:48.311080",
          "exception": false,
          "start_time": "2024-10-13T23:25:46.830306",
          "status": "completed"
        },
        "tags": [],
        "id": "58489546",
        "outputId": "27edd2c7-5fb8-47eb-d341-bea8cc9a5e19"
      },
      "outputs": [
        {
          "data": {
            "text/plain": [
              "tensor([[   45,   280,   303,   559,    12,    33,  5143, 30961,    13, 50256]],\n",
              "       device='cuda:0')"
            ]
          },
          "execution_count": 62,
          "metadata": {},
          "output_type": "execute_result"
        }
      ],
      "source": [
        "pred = greedy_decode(model, torch.tensor([tokenizer.encode('I love programming')]).cuda())\n",
        "pred"
      ]
    },
    {
      "cell_type": "code",
      "execution_count": null,
      "id": "fb44da73",
      "metadata": {
        "execution": {
          "iopub.execute_input": "2024-10-13T23:25:51.192487Z",
          "iopub.status.busy": "2024-10-13T23:25:51.192043Z",
          "iopub.status.idle": "2024-10-13T23:25:51.198610Z",
          "shell.execute_reply": "2024-10-13T23:25:51.197805Z"
        },
        "papermill": {
          "duration": 1.422116,
          "end_time": "2024-10-13T23:25:51.200794",
          "exception": false,
          "start_time": "2024-10-13T23:25:49.778678",
          "status": "completed"
        },
        "tags": [],
        "id": "fb44da73",
        "outputId": "b204a758-d82d-4789-ec23-e15ce94ab2b9"
      },
      "outputs": [
        {
          "data": {
            "text/plain": [
              "'Nouveau-Brunswick.<|endoftext|>'"
            ]
          },
          "execution_count": 63,
          "metadata": {},
          "output_type": "execute_result"
        }
      ],
      "source": [
        "tokenizer.decode(pred[0])\n",
        "#answer: J'adore la programmation"
      ]
    },
    {
      "cell_type": "code",
      "execution_count": null,
      "id": "a7652ede",
      "metadata": {
        "execution": {
          "iopub.execute_input": "2024-10-13T23:25:54.104697Z",
          "iopub.status.busy": "2024-10-13T23:25:54.103933Z",
          "iopub.status.idle": "2024-10-13T23:25:54.562735Z",
          "shell.execute_reply": "2024-10-13T23:25:54.561941Z"
        },
        "papermill": {
          "duration": 1.918363,
          "end_time": "2024-10-13T23:25:54.565015",
          "exception": false,
          "start_time": "2024-10-13T23:25:52.646652",
          "status": "completed"
        },
        "tags": [],
        "id": "a7652ede"
      },
      "outputs": [],
      "source": [
        "import nltk.translate.bleu_score as bleu"
      ]
    },
    {
      "cell_type": "code",
      "execution_count": null,
      "id": "91122a9b",
      "metadata": {
        "execution": {
          "iopub.execute_input": "2024-10-13T23:25:57.500947Z",
          "iopub.status.busy": "2024-10-13T23:25:57.500516Z",
          "iopub.status.idle": "2024-10-13T23:25:57.509518Z",
          "shell.execute_reply": "2024-10-13T23:25:57.508628Z"
        },
        "papermill": {
          "duration": 1.474463,
          "end_time": "2024-10-13T23:25:57.511428",
          "exception": false,
          "start_time": "2024-10-13T23:25:56.036965",
          "status": "completed"
        },
        "tags": [],
        "id": "91122a9b",
        "outputId": "3836430e-4095-4b96-8c99-91dae314ee25"
      },
      "outputs": [
        {
          "data": {
            "text/plain": [
              "0"
            ]
          },
          "execution_count": 65,
          "metadata": {},
          "output_type": "execute_result"
        }
      ],
      "source": [
        "#BLEU score, 예측문장과 정답 문장이 겹치는 정도를 계산\n",
        "bleu.sentence_bleu([tokenizer.decode(pred[0], skip_special_tokens=True).split()], \"J'adore la programmation\".split())"
      ]
    },
    {
      "cell_type": "code",
      "execution_count": null,
      "id": "3f60c5ed",
      "metadata": {
        "execution": {
          "iopub.execute_input": "2024-10-13T23:26:00.376492Z",
          "iopub.status.busy": "2024-10-13T23:26:00.376108Z",
          "iopub.status.idle": "2024-10-13T23:26:00.381285Z",
          "shell.execute_reply": "2024-10-13T23:26:00.380374Z"
        },
        "papermill": {
          "duration": 1.467439,
          "end_time": "2024-10-13T23:26:00.383360",
          "exception": false,
          "start_time": "2024-10-13T23:25:58.915921",
          "status": "completed"
        },
        "tags": [],
        "id": "3f60c5ed"
      },
      "outputs": [],
      "source": [
        "eval_loader = DataLoader(test_dataset, batch_size=256, shuffle=False, drop_last=False, num_workers=4, pin_memory=True, collate_fn=collate_fn)"
      ]
    },
    {
      "cell_type": "code",
      "execution_count": null,
      "id": "fc34edaf",
      "metadata": {
        "execution": {
          "iopub.execute_input": "2024-10-13T23:26:03.260054Z",
          "iopub.status.busy": "2024-10-13T23:26:03.259662Z",
          "iopub.status.idle": "2024-10-13T23:27:04.576687Z",
          "shell.execute_reply": "2024-10-13T23:27:04.575300Z"
        },
        "papermill": {
          "duration": 62.744034,
          "end_time": "2024-10-13T23:27:04.578815",
          "exception": false,
          "start_time": "2024-10-13T23:26:01.834781",
          "status": "completed"
        },
        "tags": [],
        "id": "fc34edaf",
        "outputId": "1511ed10-37dc-4e5d-aee3-5284f9c4e779"
      },
      "outputs": [
        {
          "name": "stderr",
          "output_type": "stream",
          "text": [
            "100%|██████████| 40/40 [00:09<00:00,  4.30it/s]\n"
          ]
        },
        {
          "name": "stdout",
          "output_type": "stream",
          "text": [
            "EXAMPLE PRED: Les éléments de sécurité des éléments de santé et les éléments de sécurité des éléments de santé.\n",
            "\n",
            "EXAMPLE LABEL: Voici les aspects des programmes qui pourraient être améliorés :\n",
            "\n",
            "0.0044092457792770075\n"
          ]
        }
      ],
      "source": [
        "labels = []\n",
        "preds = []\n",
        "max_len = 128\n",
        "eos_idx = tokenizer.get_vocab()['<|endoftext|>']\n",
        "pad_idx = tokenizer.get_vocab()['<PAD>']\n",
        "for x, y in tqdm(eval_loader):\n",
        "    with torch.no_grad():\n",
        "        x, y = (x[0].to(device), x[1].to(device)), y.to(device)\n",
        "        pred = greedy_decode(model, x[0], max_len=max_len, pad_idx=pad_idx, eos_idx=eos_idx)\n",
        "        labels.extend(y)\n",
        "        preds.extend(pred)\n",
        "\n",
        "preds = tokenizer.batch_decode(preds, skip_special_tokens=True)\n",
        "labels = tokenizer.batch_decode(labels, skip_special_tokens=True)\n",
        "preds = [x.split() for x in preds]\n",
        "labels = [[x.split()] for x in labels]\n",
        "print('EXAMPLE PRED:', ' '.join(preds[0]))\n",
        "print()\n",
        "print('EXAMPLE LABEL:', ' '.join(labels[0][0]))\n",
        "print()\n",
        "print(bleu.corpus_bleu(labels, preds)) #0~1, bigger is better\n"
      ]
    },
    {
      "cell_type": "code",
      "execution_count": null,
      "id": "588c6d09",
      "metadata": {
        "papermill": {
          "duration": 1.536331,
          "end_time": "2024-10-13T23:27:07.604360",
          "exception": false,
          "start_time": "2024-10-13T23:27:06.068029",
          "status": "completed"
        },
        "tags": [],
        "id": "588c6d09"
      },
      "outputs": [],
      "source": []
    }
  ],
  "metadata": {
    "kaggle": {
      "accelerator": "gpu",
      "dataSources": [
        {
          "datasetId": 134715,
          "sourceId": 320111,
          "sourceType": "datasetVersion"
        },
        {
          "datasetId": 5868794,
          "sourceId": 9616616,
          "sourceType": "datasetVersion"
        }
      ],
      "dockerImageVersionId": 30787,
      "isGpuEnabled": true,
      "isInternetEnabled": true,
      "language": "python",
      "sourceType": "notebook"
    },
    "kernelspec": {
      "display_name": "Python 3",
      "language": "python",
      "name": "python3"
    },
    "language_info": {
      "codemirror_mode": {
        "name": "ipython",
        "version": 3
      },
      "file_extension": ".py",
      "mimetype": "text/x-python",
      "name": "python",
      "nbconvert_exporter": "python",
      "pygments_lexer": "ipython3",
      "version": "3.10.14"
    },
    "papermill": {
      "default_parameters": {},
      "duration": 1324.835462,
      "end_time": "2024-10-13T23:27:12.579322",
      "environment_variables": {},
      "exception": null,
      "input_path": "__notebook__.ipynb",
      "output_path": "__notebook__.ipynb",
      "parameters": {},
      "start_time": "2024-10-13T23:05:07.743860",
      "version": "2.6.0"
    },
    "widgets": {
      "application/vnd.jupyter.widget-state+json": {}
    },
    "colab": {
      "provenance": []
    }
  },
  "nbformat": 4,
  "nbformat_minor": 5
}