{
  "cells": [
    {
      "cell_type": "markdown",
      "id": "36fd1367",
      "metadata": {
        "id": "36fd1367"
      },
      "source": [
        "# 텍스트 데이터 전처리 실습 노트북\n",
        "30가지 기법을 실습하며 배우는 텍스트 정제"
      ]
    },
    {
      "cell_type": "code",
      "execution_count": 1,
      "id": "3ZXaIijBT4Sw",
      "metadata": {
        "id": "3ZXaIijBT4Sw"
      },
      "outputs": [
        {
          "name": "stdout",
          "output_type": "stream",
          "text": [
            "\n",
            "\u001b[1m[\u001b[0m\u001b[34;49mnotice\u001b[0m\u001b[1;39;49m]\u001b[0m\u001b[39;49m A new release of pip is available: \u001b[0m\u001b[31;49m25.0.1\u001b[0m\u001b[39;49m -> \u001b[0m\u001b[32;49m25.2\u001b[0m\n",
            "\u001b[1m[\u001b[0m\u001b[34;49mnotice\u001b[0m\u001b[1;39;49m]\u001b[0m\u001b[39;49m To update, run: \u001b[0m\u001b[32;49mpip install --upgrade pip\u001b[0m\n"
          ]
        }
      ],
      "source": [
        "!pip install -U -q datasets huggingface_hub fsspec"
      ]
    },
    {
      "cell_type": "markdown",
      "id": "f06614ab",
      "metadata": {
        "id": "f06614ab"
      },
      "source": [
        "## 📦 1. 데이터 불러오기 (IMDB)"
      ]
    },
    {
      "cell_type": "code",
      "execution_count": 3,
      "id": "7b855ffb",
      "metadata": {
        "colab": {
          "base_uri": "https://localhost:8080/",
          "height": 390,
          "referenced_widgets": [
            "c6f32f95530c4a58a79db9a9aa89535a",
            "ac54d87b7569443ebea942e356e0aea3",
            "98c594df2b204c5db2b42e063aa8d221",
            "8e4c36736ea846f6a05309f4d6eb7160",
            "abc9299b32c84df69fcef3a91a82fe38",
            "d02084dbeadc479ab74666e9d16f57a4",
            "d4ef7a0b152b47d8960332ef0930aefe",
            "b71958b8948f4aa7a243f2a9822e6c83",
            "3c76a59798b54c04bc792aa7b902c1da",
            "e8bb5ebcaf074b50a0aad02d32d7dda9",
            "22ee11c0655449e485bd78e5e54385c8",
            "028859305bd84d2094e0d48e649c08cd",
            "ade324d7268b44fa90ea9863891911c4",
            "35c9d6066e114793b7ac15d2daafab8f",
            "a608d75b4754452d94e03362122d8683",
            "59ede4eb006e46e5bb6efbda5be6c9fb",
            "96e60b2208bf4ca3a788447909fd75b6",
            "11ad2c16b54949f981bfe456182753b4",
            "3f9f214300ef424ea722a2fa9ed589b0",
            "71c9d9ed8b134cf3bf5c5727a9bf62a3",
            "3714318cb45b44cea97bc606ec360423",
            "4d2b8eb094e24e3f949522f8e72a3acd",
            "0e01c6d8753441b58b85bbb9f1f8f8db",
            "6cf6a4dc095a48b990a9f0538a52d38f",
            "6465735f55e54f2b8892d1324cfbb7a0",
            "da24aefde5dd437da7f40bffb05e0528",
            "5639f77b439b4c828ad42ee95543cf87",
            "c6909c5ca8934d20ada18eabf93338d2",
            "46eb7aae54f74c8db23231ec8476bffc",
            "345c37a584374ceeb4576ad463c8ed24",
            "e65811fd798a4ab2a812fe0b43f9effb",
            "ad73646f578b4896a065dcad2f1428ea",
            "2b0439b93931475d84b8b1f1581da7f7",
            "034965f36a764d74add6903657636be1",
            "1697bc1906d84de497e369981cdbad71",
            "58ff67697a1f4e5ea3871268303f9f06",
            "9c7895a51ce9419780fcbb14f091bc2a",
            "fc6c05e69a4a4554bb5da79caa88a57c",
            "314afb278f47418fa96ed3bc7553066a",
            "151b78f1850e4b0a9555566258047ab3",
            "983344fac7d74c7db3d0c8f2e8d96640",
            "75d3cd42223146beb4cc9be53c44e1f4",
            "b028654704944cb3bb3c251a5df6a1bc",
            "65d302a93f634b7798da5dde0b31b338",
            "f6b309c0f07943b183f0ca6c63edff29",
            "e043edaec7224de18a59b5e046eca2d9",
            "7851a7ca519f4da79a12a4f1e85917eb",
            "bda6f578a6664afe8e7cb6e48700b796",
            "2d31dea8c2da407fbb667f359c35d976",
            "de6cd8c16e394f55a28b4d7ae0314d03",
            "b8aac3959ef449bd87477d76601313a0",
            "5492cbddb21449e1a950f8ed348544b6",
            "c79644e3f1374089a1e8353c5305a9e4",
            "8630a9d230b441dab30192e260a5fc73",
            "f65cf8b469f246c3a455323152a11a31",
            "b0459ef33c24416299224024cf179052",
            "490d0817932c41e9b301439eb6c447dd",
            "ba306d5de8584b9e9a0a211d001d7745",
            "462f02bee4744605824b5c74b6c730d8",
            "a3922441224b43a19f552333a9ad5038",
            "2a12cf4297564bfd9ac472314df4f16c",
            "9e1d6917b9a34660a57628a78e7eecde",
            "87eb04d59a0a4038907f3f7d4a0ddece",
            "60fa9f43d1e74d139acfcc1e784110ee",
            "6fc1837a2c5b4fcc8000a1825b38bbe0",
            "1034e42807894e8689800ea97eb8f5d7",
            "256a2f9d26724533b41a235d2c0bd2ca",
            "a3037cc66a3c4ddd9061c6f96ebf77e0",
            "3538811fe299448788504fafd45c4bf3",
            "1723682010d740c1b51cdcabb2204523",
            "db4343586f0b41a490a1a47d9c565913",
            "ee3408f5084e4ed1bbc766acc5bb3650",
            "4bbd142ce56745ec9f600089599a9be2",
            "8863ac7b32c847fb9f783e01912cba7a",
            "6dc48f1fe29846f6a5df0550da9243c5",
            "94cd4e58403a4f19ba93d89ea572b3d9",
            "7470b6604f3a4c819413c5ff5a8a408d"
          ]
        },
        "id": "7b855ffb",
        "outputId": "51412b1d-f0d8-4f8a-a430-c11f7c007e11"
      },
      "outputs": [
        {
          "name": "stderr",
          "output_type": "stream",
          "text": [
            "/Users/lsm/ai/metacode/프로젝트용공부/.venv/lib/python3.13/site-packages/tqdm/auto.py:21: TqdmWarning: IProgress not found. Please update jupyter and ipywidgets. See https://ipywidgets.readthedocs.io/en/stable/user_install.html\n",
            "  from .autonotebook import tqdm as notebook_tqdm\n"
          ]
        }
      ],
      "source": [
        "from datasets import load_dataset\n",
        "dataset = load_dataset(\"stanfordnlp/imdb\") # https://huggingface.co/datasets/stanfordnlp/imdb\n",
        "text = dataset[\"train\"][0][\"text\"]\n"
      ]
    },
    {
      "cell_type": "code",
      "execution_count": 4,
      "id": "-qxsngZ2UE_0",
      "metadata": {
        "colab": {
          "base_uri": "https://localhost:8080/"
        },
        "id": "-qxsngZ2UE_0",
        "outputId": "0c588982-000d-4fc2-8e93-8f7b5432afb4"
      },
      "outputs": [
        {
          "data": {
            "text/plain": [
              "{'text': \"This film was probably inspired by Godard's Masculin, féminin and I urge you to see that film instead.<br /><br />The film has two strong elements and those are, (1) the realistic acting (2) the impressive, undeservedly good, photo. Apart from that, what strikes me most is the endless stream of silliness. Lena Nyman has to be most annoying actress in the world. She acts so stupid and with all the nudity in this film,...it's unattractive. Comparing to Godard's film, intellectuality has been replaced with stupidity. Without going too far on this subject, I would say that follows from the difference in ideals between the French and the Swedish society.<br /><br />A movie of its time, and place. 2/10.\",\n",
              " 'label': 0}"
            ]
          },
          "execution_count": 4,
          "metadata": {},
          "output_type": "execute_result"
        }
      ],
      "source": [
        "import json\n",
        "dataset[\"train\"][3]"
      ]
    },
    {
      "cell_type": "code",
      "execution_count": 6,
      "id": "EIXSrW5_UEZq",
      "metadata": {
        "colab": {
          "base_uri": "https://localhost:8080/"
        },
        "id": "EIXSrW5_UEZq",
        "outputId": "2474df04-0b0a-4976-a460-003bdc1e3c6d"
      },
      "outputs": [
        {
          "name": "stdout",
          "output_type": "stream",
          "text": [
            "I rented I AM CURIOUS-YELLOW from my video store because of all the controversy that surrounded it when it was first released in 1967. I also heard that at first it was seized by U.S. customs if it ever tried to enter this country, therefore being a fan of films considered \"controversial\" I really had to see this for myself.<br /><br />The plot is centered around a young Swedish drama student named Lena who wants to learn everything she can about life. In particular she wants to focus her attentions to making some sort of documentary on what the average Swede thought about certain political issues such as the Vietnam War and race issues in the United States. In between asking politicians and ordinary denizens of Stockholm about their opinions on politics, she has sex with her drama teacher, classmates, and married men.<br /><br />What kills me about I AM CURIOUS-YELLOW is that 40 years ago, this was considered pornographic. Really, the sex and nudity scenes are few and far between, even then it's not shot like some cheaply made porno. While my countrymen mind find it shocking, in reality sex and nudity are a major staple in Swedish cinema. Even Ingmar Bergman, arguably their answer to good old boy John Ford, had sex scenes in his films.<br /><br />I do commend the filmmakers for the fact that any sex shown in the film is shown for artistic purposes rather than just to shock people and make money to be shown in pornographic theaters in America. I AM CURIOUS-YELLOW is a good film for anyone wanting to study the meat and potatoes (no pun intended) of Swedish cinema. But really, this film doesn't have much of a plot.\n"
          ]
        }
      ],
      "source": [
        "print(text)"
      ]
    },
    {
      "cell_type": "markdown",
      "id": "3c5db046",
      "metadata": {
        "id": "3c5db046"
      },
      "source": [
        "## 🔹 텍스트 전처리 개요\n",
        "- 텍스트 전처리는 자연어 처리(NLP)에서 모델 학습을 위한 데이터 품질을 높이는 핵심 전 단계입니다.\n",
        "- 정제된 텍스트는 노이즈를 줄이고 모델의 일반화 성능을 향상시킵니다.\n",
        "- 응용 분야: 감성 분석, 챗봇, 기계번역, 요약 등 다양한 NLP Task\n",
        "\n",
        "📌 예시: 예시: 'I LoVe this movie!!! 😍😍😍' → 'i love this movie'"
      ]
    },
    {
      "cell_type": "markdown",
      "id": "98dc4182",
      "metadata": {
        "id": "98dc4182"
      },
      "source": [
        "## 🔹 전처리 파이프라인\n",
        "- 일반적인 순서: 텍스트 수집 → 정제 → 정규화 → 토큰화 → 정렬 및 저장\n",
        "- 파이프라인 구성은 도메인(의료, SNS, 뉴스 등)에 따라 달라질 수 있음\n",
        "\n",
        "📌 예시: IMDB 리뷰 → 소문자화 → 구두점 제거 → 불용어 제거 → Stemming → Token화"
      ]
    },
    {
      "cell_type": "markdown",
      "id": "fb9e2fbe",
      "metadata": {
        "id": "fb9e2fbe"
      },
      "source": [
        "## 🔹 소문자화 (Lowercasing)\n",
        "- 대문자/소문자 구분을 없애 단어 형태 통일\n",
        "- 특히 영어권 언어에서는 필수 전처리 단계\n",
        "- 예외 상황: 고유명사 식별이 중요한 Task에선 사용하지 않기도 함\n",
        "\n",
        "📌 예시: 'Apple is great.' → 'apple is great.'"
      ]
    },
    {
      "cell_type": "code",
      "execution_count": 7,
      "id": "ada6a580",
      "metadata": {
        "colab": {
          "base_uri": "https://localhost:8080/",
          "height": 90
        },
        "id": "ada6a580",
        "outputId": "6136a277-a35b-468d-83e2-aa5a9ce150e3"
      },
      "outputs": [
        {
          "data": {
            "text/plain": [
              "'i rented i am curious-yellow from my video store because of all the controversy that surrounded it when it was first released in 1967. i also heard that at first it was seized by u.s. customs if it ever tried to enter this country, therefore being a fan of films considered \"controversial\" i really had to see this for myself.<br /><br />the plot is centered around a young swedish drama student named lena who wants to learn everything she can about life. in particular she wants to focus her attentions to making some sort of documentary on what the average swede thought about certain political issues such as the vietnam war and race issues in the united states. in between asking politicians and ordinary denizens of stockholm about their opinions on politics, she has sex with her drama teacher, classmates, and married men.<br /><br />what kills me about i am curious-yellow is that 40 years ago, this was considered pornographic. really, the sex and nudity scenes are few and far between, even then it\\'s not shot like some cheaply made porno. while my countrymen mind find it shocking, in reality sex and nudity are a major staple in swedish cinema. even ingmar bergman, arguably their answer to good old boy john ford, had sex scenes in his films.<br /><br />i do commend the filmmakers for the fact that any sex shown in the film is shown for artistic purposes rather than just to shock people and make money to be shown in pornographic theaters in america. i am curious-yellow is a good film for anyone wanting to study the meat and potatoes (no pun intended) of swedish cinema. but really, this film doesn\\'t have much of a plot.'"
            ]
          },
          "execution_count": 7,
          "metadata": {},
          "output_type": "execute_result"
        }
      ],
      "source": [
        "text.lower()"
      ]
    },
    {
      "cell_type": "markdown",
      "id": "589f59db",
      "metadata": {
        "id": "589f59db"
      },
      "source": [
        "## 🔹 구두점 제거 (Punctuation Removal)\n",
        "- 문장부호는 일반적으로 의미를 가지지 않아 제거 대상\n",
        "- 단, 감정 분석에서 느낌표(!)는 보존할 수도 있음\n",
        "\n",
        "📌 예시: 'I love it!!!' → 'I love it'"
      ]
    },
    {
      "cell_type": "code",
      "execution_count": 10,
      "id": "01a55553",
      "metadata": {
        "colab": {
          "base_uri": "https://localhost:8080/",
          "height": 90
        },
        "id": "01a55553",
        "outputId": "23a7b2c1-1dc4-45dc-ae8a-8ed4e652c9b1"
      },
      "outputs": [
        {
          "data": {
            "text/plain": [
              "'I rented I AM CURIOUSYELLOW from my video store because of all the controversy that surrounded it when it was first released in 1967 I also heard that at first it was seized by US customs if it ever tried to enter this country therefore being a fan of films considered controversial I really had to see this for myselfbr br The plot is centered around a young Swedish drama student named Lena who wants to learn everything she can about life In particular she wants to focus her attentions to making some sort of documentary on what the average Swede thought about certain political issues such as the Vietnam War and race issues in the United States In between asking politicians and ordinary denizens of Stockholm about their opinions on politics she has sex with her drama teacher classmates and married menbr br What kills me about I AM CURIOUSYELLOW is that 40 years ago this was considered pornographic Really the sex and nudity scenes are few and far between even then its not shot like some cheaply made porno While my countrymen mind find it shocking in reality sex and nudity are a major staple in Swedish cinema Even Ingmar Bergman arguably their answer to good old boy John Ford had sex scenes in his filmsbr br I do commend the filmmakers for the fact that any sex shown in the film is shown for artistic purposes rather than just to shock people and make money to be shown in pornographic theaters in America I AM CURIOUSYELLOW is a good film for anyone wanting to study the meat and potatoes no pun intended of Swedish cinema But really this film doesnt have much of a plot'"
            ]
          },
          "execution_count": 10,
          "metadata": {},
          "output_type": "execute_result"
        }
      ],
      "source": [
        "import re\n",
        "re.sub(r'[^\\w\\s]', '', text)"
      ]
    },
    {
      "cell_type": "markdown",
      "id": "a3fe6b4f",
      "metadata": {
        "id": "a3fe6b4f"
      },
      "source": [
        "## 🔹 불용어 제거 (Stopwords)\n",
        "- 불용어는 'the', 'is', 'and'와 같이 자주 등장하지만 정보량이 적은 단어들\n",
        "- 대부분의 NLP 라이브러리(nltk, spaCy)에서 지원\n",
        "- 불용어 제거는 토픽 모델링, 문서 분류 등에서 유용\n",
        "\n",
        "📌 예시: 'this is a good movie' → 'good movie'"
      ]
    },
    {
      "cell_type": "code",
      "execution_count": null,
      "id": "2yTe3EquU2mO",
      "metadata": {
        "colab": {
          "base_uri": "https://localhost:8080/"
        },
        "id": "2yTe3EquU2mO",
        "outputId": "1c4ae4f8-88d7-4d9b-9781-d6afe4804840"
      },
      "outputs": [
        {
          "ename": "ModuleNotFoundError",
          "evalue": "No module named 'nltk'",
          "output_type": "error",
          "traceback": [
            "\u001b[31m---------------------------------------------------------------------------\u001b[39m",
            "\u001b[31mModuleNotFoundError\u001b[39m                       Traceback (most recent call last)",
            "\u001b[36mCell\u001b[39m\u001b[36m \u001b[39m\u001b[32mIn[12]\u001b[39m\u001b[32m, line 1\u001b[39m\n\u001b[32m----> \u001b[39m\u001b[32m1\u001b[39m \u001b[38;5;28;01mimport\u001b[39;00m\u001b[38;5;250m \u001b[39m\u001b[34;01mnltk\u001b[39;00m\n\u001b[32m      2\u001b[39m nltk.download(\u001b[33m'\u001b[39m\u001b[33mstopwords\u001b[39m\u001b[33m'\u001b[39m)\n",
            "\u001b[31mModuleNotFoundError\u001b[39m: No module named 'nltk'"
          ]
        }
      ],
      "source": [
        ">>> import nltk\n",
        ">>> nltk.download('stopwords')"
      ]
    },
    {
      "cell_type": "code",
      "execution_count": 14,
      "id": "aJ3nOSHXUuk9",
      "metadata": {
        "colab": {
          "base_uri": "https://localhost:8080/"
        },
        "id": "aJ3nOSHXUuk9",
        "outputId": "e9da6d7f-21c3-4407-bf13-e4dcf970fd2f"
      },
      "outputs": [
        {
          "data": {
            "text/plain": [
              "{'a',\n",
              " 'about',\n",
              " 'above',\n",
              " 'after',\n",
              " 'again',\n",
              " 'against',\n",
              " 'ain',\n",
              " 'all',\n",
              " 'am',\n",
              " 'an',\n",
              " 'and',\n",
              " 'any',\n",
              " 'are',\n",
              " 'aren',\n",
              " \"aren't\",\n",
              " 'as',\n",
              " 'at',\n",
              " 'be',\n",
              " 'because',\n",
              " 'been',\n",
              " 'before',\n",
              " 'being',\n",
              " 'below',\n",
              " 'between',\n",
              " 'both',\n",
              " 'but',\n",
              " 'by',\n",
              " 'can',\n",
              " 'couldn',\n",
              " \"couldn't\",\n",
              " 'd',\n",
              " 'did',\n",
              " 'didn',\n",
              " \"didn't\",\n",
              " 'do',\n",
              " 'does',\n",
              " 'doesn',\n",
              " \"doesn't\",\n",
              " 'doing',\n",
              " 'don',\n",
              " \"don't\",\n",
              " 'down',\n",
              " 'during',\n",
              " 'each',\n",
              " 'few',\n",
              " 'for',\n",
              " 'from',\n",
              " 'further',\n",
              " 'had',\n",
              " 'hadn',\n",
              " \"hadn't\",\n",
              " 'has',\n",
              " 'hasn',\n",
              " \"hasn't\",\n",
              " 'have',\n",
              " 'haven',\n",
              " \"haven't\",\n",
              " 'having',\n",
              " 'he',\n",
              " \"he'd\",\n",
              " \"he'll\",\n",
              " \"he's\",\n",
              " 'her',\n",
              " 'here',\n",
              " 'hers',\n",
              " 'herself',\n",
              " 'him',\n",
              " 'himself',\n",
              " 'his',\n",
              " 'how',\n",
              " 'i',\n",
              " \"i'd\",\n",
              " \"i'll\",\n",
              " \"i'm\",\n",
              " \"i've\",\n",
              " 'if',\n",
              " 'in',\n",
              " 'into',\n",
              " 'is',\n",
              " 'isn',\n",
              " \"isn't\",\n",
              " 'it',\n",
              " \"it'd\",\n",
              " \"it'll\",\n",
              " \"it's\",\n",
              " 'its',\n",
              " 'itself',\n",
              " 'just',\n",
              " 'll',\n",
              " 'm',\n",
              " 'ma',\n",
              " 'me',\n",
              " 'mightn',\n",
              " \"mightn't\",\n",
              " 'more',\n",
              " 'most',\n",
              " 'mustn',\n",
              " \"mustn't\",\n",
              " 'my',\n",
              " 'myself',\n",
              " 'needn',\n",
              " \"needn't\",\n",
              " 'no',\n",
              " 'nor',\n",
              " 'not',\n",
              " 'now',\n",
              " 'o',\n",
              " 'of',\n",
              " 'off',\n",
              " 'on',\n",
              " 'once',\n",
              " 'only',\n",
              " 'or',\n",
              " 'other',\n",
              " 'our',\n",
              " 'ours',\n",
              " 'ourselves',\n",
              " 'out',\n",
              " 'over',\n",
              " 'own',\n",
              " 're',\n",
              " 's',\n",
              " 'same',\n",
              " 'shan',\n",
              " \"shan't\",\n",
              " 'she',\n",
              " \"she'd\",\n",
              " \"she'll\",\n",
              " \"she's\",\n",
              " 'should',\n",
              " \"should've\",\n",
              " 'shouldn',\n",
              " \"shouldn't\",\n",
              " 'so',\n",
              " 'some',\n",
              " 'such',\n",
              " 't',\n",
              " 'than',\n",
              " 'that',\n",
              " \"that'll\",\n",
              " 'the',\n",
              " 'their',\n",
              " 'theirs',\n",
              " 'them',\n",
              " 'themselves',\n",
              " 'then',\n",
              " 'there',\n",
              " 'these',\n",
              " 'they',\n",
              " \"they'd\",\n",
              " \"they'll\",\n",
              " \"they're\",\n",
              " \"they've\",\n",
              " 'this',\n",
              " 'those',\n",
              " 'through',\n",
              " 'to',\n",
              " 'too',\n",
              " 'under',\n",
              " 'until',\n",
              " 'up',\n",
              " 've',\n",
              " 'very',\n",
              " 'was',\n",
              " 'wasn',\n",
              " \"wasn't\",\n",
              " 'we',\n",
              " \"we'd\",\n",
              " \"we'll\",\n",
              " \"we're\",\n",
              " \"we've\",\n",
              " 'were',\n",
              " 'weren',\n",
              " \"weren't\",\n",
              " 'what',\n",
              " 'when',\n",
              " 'where',\n",
              " 'which',\n",
              " 'while',\n",
              " 'who',\n",
              " 'whom',\n",
              " 'why',\n",
              " 'will',\n",
              " 'with',\n",
              " 'won',\n",
              " \"won't\",\n",
              " 'wouldn',\n",
              " \"wouldn't\",\n",
              " 'y',\n",
              " 'you',\n",
              " \"you'd\",\n",
              " \"you'll\",\n",
              " \"you're\",\n",
              " \"you've\",\n",
              " 'your',\n",
              " 'yours',\n",
              " 'yourself',\n",
              " 'yourselves'}"
            ]
          },
          "execution_count": 14,
          "metadata": {},
          "output_type": "execute_result"
        }
      ],
      "source": [
        "from nltk.corpus import stopwords\n",
        "stop_words = set(stopwords.words('english'))\n",
        "stop_words"
      ]
    },
    {
      "cell_type": "code",
      "execution_count": 18,
      "id": "e0b059de",
      "metadata": {
        "colab": {
          "base_uri": "https://localhost:8080/"
        },
        "id": "e0b059de",
        "outputId": "2a755a74-b839-4d1f-b41f-5f18940cf4f1"
      },
      "outputs": [
        {
          "data": {
            "text/plain": [
              "['rented',\n",
              " 'CURIOUS-YELLOW',\n",
              " 'video',\n",
              " 'store',\n",
              " 'controversy',\n",
              " 'surrounded',\n",
              " 'first',\n",
              " 'released',\n",
              " '1967.',\n",
              " 'also',\n",
              " 'heard',\n",
              " 'first',\n",
              " 'seized',\n",
              " 'U.S.',\n",
              " 'customs',\n",
              " 'ever',\n",
              " 'tried',\n",
              " 'enter',\n",
              " 'country,',\n",
              " 'therefore']"
            ]
          },
          "execution_count": 18,
          "metadata": {},
          "output_type": "execute_result"
        }
      ],
      "source": [
        "tokens = [w for w in text.split() if w.lower() not in stop_words]\n",
        "tokens[:20]"
      ]
    },
    {
      "cell_type": "markdown",
      "id": "4534baae",
      "metadata": {
        "id": "4534baae"
      },
      "source": [
        "## 🔹 불균형 단어 제거 (빈도 기반)\n",
        "- 전체 코퍼스에서 너무 자주 혹은 너무 드물게 등장하는 단어 제거\n",
        "- 적용 Task: BoW, TF-IDF 기반 분류, 토픽 모델링 등\n",
        "- 하위 5% 미만, 상위 1% 초과 등 통계 기반 기준 활용\n",
        "\n",
        "📌 예시: 빈도가 높은 'movie', 'film', 낮은 'xyzabc123' 제거"
      ]
    },
    {
      "cell_type": "code",
      "execution_count": 21,
      "id": "Lt7fMrWdVK9k",
      "metadata": {
        "colab": {
          "base_uri": "https://localhost:8080/"
        },
        "id": "Lt7fMrWdVK9k",
        "outputId": "e5d1828e-f83f-4453-f13d-18f6402210ac"
      },
      "outputs": [
        {
          "name": "stdout",
          "output_type": "stream",
          "text": [
            "['I', 'rented', 'I', 'AM', 'CURIOUS-YELLOW', 'from', 'my', 'video', 'store', 'because', 'of', 'all', 'the', 'controversy', 'that', 'surrounded', 'it', 'when', 'it', 'was']\n"
          ]
        }
      ],
      "source": [
        "from collections import Counter\n",
        "words = text.split()\n",
        "print(words[:20])\n"
      ]
    },
    {
      "cell_type": "code",
      "execution_count": 9,
      "id": "8acc7fcf",
      "metadata": {
        "colab": {
          "base_uri": "https://localhost:8080/"
        },
        "id": "8acc7fcf",
        "outputId": "581bd318-4af9-4755-d1f9-f4b6e021957a"
      },
      "outputs": [
        {
          "ename": "NameError",
          "evalue": "name 'Counter' is not defined",
          "output_type": "error",
          "traceback": [
            "\u001b[31m---------------------------------------------------------------------------\u001b[39m",
            "\u001b[31mNameError\u001b[39m                                 Traceback (most recent call last)",
            "\u001b[36mCell\u001b[39m\u001b[36m \u001b[39m\u001b[32mIn[9]\u001b[39m\u001b[32m, line 1\u001b[39m\n\u001b[32m----> \u001b[39m\u001b[32m1\u001b[39m freq = \u001b[43mCounter\u001b[49m(words)\n\u001b[32m      2\u001b[39m filtered = [w \u001b[38;5;28;01mfor\u001b[39;00m w \u001b[38;5;129;01min\u001b[39;00m words \u001b[38;5;28;01mif\u001b[39;00m freq[w] > \u001b[32m5\u001b[39m ]\n\u001b[32m      3\u001b[39m filtered[:\u001b[32m20\u001b[39m]\n",
            "\u001b[31mNameError\u001b[39m: name 'Counter' is not defined"
          ]
        }
      ],
      "source": [
        "freq = Counter(words)\n",
        "filtered = [w for w in words if freq[w] > 5 ]\n",
        "filtered[:20]"
      ]
    },
    {
      "cell_type": "markdown",
      "id": "58a585c0",
      "metadata": {
        "id": "58a585c0"
      },
      "source": [
        "## 🔹 Stemming (어간 추출)\n",
        "- 단어에서 접미어 제거하여 어근으로 환원 (예: playing → play)\n",
        "- PorterStemmer, LancasterStemmer 등이 대표적\n",
        "- 의미 보존보다 형태 통일 목적\n",
        "\n",
        "📌 예시: 'running', 'runner', 'ran' → 'run'"
      ]
    },
    {
      "cell_type": "code",
      "execution_count": 27,
      "id": "63d93dd5",
      "metadata": {
        "colab": {
          "base_uri": "https://localhost:8080/"
        },
        "id": "63d93dd5",
        "outputId": "10dbfec9-090a-4561-a7b8-a6ea6b6035f2"
      },
      "outputs": [
        {
          "name": "stdout",
          "output_type": "stream",
          "text": [
            "['I', 'rented', 'I', 'AM', 'CURIOUS-YELLOW', 'from', 'my', 'video', 'store', 'because', 'of', 'all', 'the', 'controversy', 'that', 'surrounded', 'it', 'when', 'it', 'was']\n"
          ]
        },
        {
          "data": {
            "text/plain": [
              "['i',\n",
              " 'rent',\n",
              " 'i',\n",
              " 'am',\n",
              " 'curious-yellow',\n",
              " 'from',\n",
              " 'my',\n",
              " 'video',\n",
              " 'store',\n",
              " 'becaus',\n",
              " 'of',\n",
              " 'all',\n",
              " 'the',\n",
              " 'controversi',\n",
              " 'that',\n",
              " 'surround',\n",
              " 'it',\n",
              " 'when',\n",
              " 'it',\n",
              " 'wa']"
            ]
          },
          "execution_count": 27,
          "metadata": {},
          "output_type": "execute_result"
        }
      ],
      "source": [
        "from nltk.stem import PorterStemmer\n",
        "stemmer = PorterStemmer()\n",
        "print(words[:20])\n",
        "\n",
        "stemmed = [stemmer.stem(word) for word in text.split()]\n",
        "stemmed[:20]"
      ]
    },
    {
      "cell_type": "code",
      "execution_count": 33,
      "id": "gHH-uVQ1WmWW",
      "metadata": {
        "colab": {
          "base_uri": "https://localhost:8080/"
        },
        "id": "gHH-uVQ1WmWW",
        "outputId": "8dde637b-8a02-456a-8ba9-a533dcc7b392"
      },
      "outputs": [
        {
          "name": "stdout",
          "output_type": "stream",
          "text": [
            "['I', 'rented', 'I', 'AM', 'CURIOUS-YELLOW', 'from', 'my', 'video', 'store', 'because', 'of', 'all', 'the', 'controversy', 'that', 'surrounded', 'it', 'when', 'it', 'was']\n"
          ]
        },
        {
          "data": {
            "text/plain": [
              "['i',\n",
              " 'rent',\n",
              " 'i',\n",
              " 'am',\n",
              " 'curious-yellow',\n",
              " 'from',\n",
              " 'my',\n",
              " 'video',\n",
              " 'store',\n",
              " 'becaus',\n",
              " 'of',\n",
              " 'all',\n",
              " 'the',\n",
              " 'controversi',\n",
              " 'that',\n",
              " 'surround',\n",
              " 'it',\n",
              " 'when',\n",
              " 'it',\n",
              " 'was']"
            ]
          },
          "execution_count": 33,
          "metadata": {},
          "output_type": "execute_result"
        }
      ],
      "source": [
        "from nltk.stem import SnowballStemmer\n",
        "stemmer = SnowballStemmer(language='english')\n",
        "print(words[:20])\n",
        "\n",
        "stemmed = [stemmer.stem(word) for word in text.split()]\n",
        "stemmed[:20]"
      ]
    },
    {
      "cell_type": "markdown",
      "id": "f70579a8",
      "metadata": {
        "id": "f70579a8"
      },
      "source": [
        "## 🔹 Lemmatization (표제어 추출)\n",
        "- 문맥과 품사에 따라 단어의 사전형으로 환원\n",
        "- spaCy, nltk 지원. 품사 정보가 필요함\n",
        "- Stemming보다 정확하지만 계산 비용 높음\n",
        "\n",
        "📌 예시: 'better' → 'good', 'was' → 'be'"
      ]
    },
    {
      "cell_type": "code",
      "execution_count": 31,
      "id": "91be38db",
      "metadata": {
        "colab": {
          "base_uri": "https://localhost:8080/"
        },
        "id": "91be38db",
        "outputId": "f4394a0b-4ad5-43af-d709-e1771682cc9e"
      },
      "outputs": [
        {
          "name": "stdout",
          "output_type": "stream",
          "text": [
            "['I', 'rented', 'I', 'AM', 'CURIOUS', '-', 'YELLOW', 'from', 'my', 'video', 'store', 'because', 'of', 'all', 'the', 'controversy', 'that', 'surrounded', 'it', 'when']\n"
          ]
        },
        {
          "data": {
            "text/plain": [
              "['I',\n",
              " 'rent',\n",
              " 'I',\n",
              " 'be',\n",
              " 'CURIOUS',\n",
              " '-',\n",
              " 'yellow',\n",
              " 'from',\n",
              " 'my',\n",
              " 'video',\n",
              " 'store',\n",
              " 'because',\n",
              " 'of',\n",
              " 'all',\n",
              " 'the',\n",
              " 'controversy',\n",
              " 'that',\n",
              " 'surround',\n",
              " 'it',\n",
              " 'when']"
            ]
          },
          "execution_count": 31,
          "metadata": {},
          "output_type": "execute_result"
        }
      ],
      "source": [
        "import spacy\n",
        "nlp = spacy.load(\"en_core_web_sm\")\n",
        "doc = nlp(text)\n",
        "lemmas = [token.lemma_ for token in doc]\n",
        "texts = [token.text for token in doc]\n",
        "print(texts[:20])\n",
        "lemmas[:20]"
      ]
    },
    {
      "cell_type": "markdown",
      "id": "9d65e61d",
      "metadata": {
        "id": "9d65e61d"
      },
      "source": [
        "## 🔹 정규화 - 날짜 및 숫자 처리\n",
        "- 날짜 형식 표준화: Jan 20th → 2023-01-20\n",
        "- 숫자 통일: 5k → 5000, 1M → 1000000\n",
        "- 금액/단위/소수점 변환도 포함됨\n",
        "\n",
        "📌 예시: '5k followers' → '5000 followers'"
      ]
    },
    {
      "cell_type": "code",
      "execution_count": 25,
      "id": "3d9c4208",
      "metadata": {
        "colab": {
          "base_uri": "https://localhost:8080/",
          "height": 35
        },
        "id": "3d9c4208",
        "outputId": "81c06656-b326-4a52-8a19-7d1c755af90c"
      },
      "outputs": [
        {
          "data": {
            "application/vnd.google.colaboratory.intrinsic+json": {
              "type": "string"
            },
            "text/plain": [
              "'She earned 5000.'"
            ]
          },
          "execution_count": 25,
          "metadata": {},
          "output_type": "execute_result"
        }
      ],
      "source": [
        "re.sub(r'\\b(\\d+)k\\b', lambda m: str(int(m.group(1)) * 1000), 'She earned 5k.')"
      ]
    },
    {
      "cell_type": "markdown",
      "id": "1bf82938",
      "metadata": {
        "id": "1bf82938"
      },
      "source": [
        "## 🔹 이모지 제거\n",
        "- 모델 학습 시 방해가 되는 비언어적 심볼 제거\n",
        "- 특히 뉴스, 법률 등 포멀 데이터에서는 반드시 제거\n",
        "- emoji 패키지 사용\n",
        "\n",
        "📌 예시: 'I love this! 😍😍' → 'I love this! '"
      ]
    },
    {
      "cell_type": "code",
      "execution_count": 36,
      "id": "pZyO-KpfXHQS",
      "metadata": {
        "id": "pZyO-KpfXHQS"
      },
      "outputs": [],
      "source": [
        "!pip install -q emoji"
      ]
    },
    {
      "cell_type": "code",
      "execution_count": 42,
      "id": "e13cb356",
      "metadata": {
        "colab": {
          "base_uri": "https://localhost:8080/",
          "height": 146
        },
        "id": "e13cb356",
        "outputId": "8a6dd12e-a51e-4eb3-c2f8-f85fa841c809"
      },
      "outputs": [
        {
          "data": {
            "application/vnd.google.colaboratory.intrinsic+json": {
              "type": "string"
            },
            "text/plain": [
              "\"I rented I AM CURIOUS-YELLOW  from my video store because of all the controversy  that surrounded it when it was first released in 1967. I also heard that at first it was seized by U.S. customs  if it ever tried to enter this country, therefore being a fan of films considered 'controversial'  I really had to see this for myself.\\n\\nThe plot is centered around a young Swedish drama student named Lena  who wants to learn everything she can about life . In particular, she wants to focus her attentions on making some sort of documentary on what the average Swede thought about certain political issues such as the Vietnam War  and race issues in the United States . In between asking politicians and ordinary denizens of Stockholm about their opinions on politics, she has sex with her drama teacher, classmates, and married men .\\n\\nWhat kills me about I AM CURIOUS-YELLOW is that 40 years ago, this was considered pornographic . Really, the sex and nudity scenes are few and far between, even then it's not shot like some cheaply made porno . While my countrymen might find it shocking , in reality sex and nudity are a major staple in Swedish cinema . Even Ingmar Bergman, arguably their answer to good old boy John Ford, had sex scenes in his films .\\n\\nI do commend  the filmmakers for the fact that any sex shown in the film is shown for artistic purposes  rather than just to shock people and make money  to be shown in pornographic theaters in America. *I AM CURIOUS-YELLOW* is a good film for anyone wanting to study the meat and potatoes  (no pun intended) of Swedish cinema. But really, this film doesn’t have much of a plot .\""
            ]
          },
          "execution_count": 42,
          "metadata": {},
          "output_type": "execute_result"
        }
      ],
      "source": [
        "import emoji\n",
        "emoji_text=\"\"\"I rented I AM CURIOUS-YELLOW 🎬 from my video store because of all the controversy ⚠️ that surrounded it when it was first released in 1967. I also heard that at first it was seized by U.S. customs 🛃 if it ever tried to enter this country, therefore being a fan of films considered 'controversial' 😏 I really had to see this for myself.\n",
        "\n",
        "The plot is centered around a young Swedish drama student named Lena 🎭 who wants to learn everything she can about life 🌍. In particular, she wants to focus her attentions on making some sort of documentary on what the average Swede thought about certain political issues such as the Vietnam War 🪖 and race issues in the United States 🇺🇸. In between asking politicians and ordinary denizens of Stockholm about their opinions on politics, she has sex with her drama teacher, classmates, and married men 🔥.\n",
        "\n",
        "What kills me about I AM CURIOUS-YELLOW is that 40 years ago, this was considered pornographic 😲. Really, the sex and nudity scenes are few and far between, even then it's not shot like some cheaply made porno 🎞️. While my countrymen might find it shocking 😳, in reality sex and nudity are a major staple in Swedish cinema 🇸🇪. Even Ingmar Bergman, arguably their answer to good old boy John Ford, had sex scenes in his films 🎥.\n",
        "\n",
        "I do commend 👏 the filmmakers for the fact that any sex shown in the film is shown for artistic purposes 🎨 rather than just to shock people and make money 💸 to be shown in pornographic theaters in America. *I AM CURIOUS-YELLOW* is a good film for anyone wanting to study the meat and potatoes 🍖🥔 (no pun intended) of Swedish cinema. But really, this film doesn’t have much of a plot 📄.\"\"\"\n",
        "cleaned = emoji.replace_emoji(emoji_text, replace='')\n",
        "cleaned"
      ]
    },
    {
      "cell_type": "markdown",
      "id": "ae87b8ed",
      "metadata": {
        "id": "ae87b8ed"
      },
      "source": [
        "## 🔹 이모지 → 단어 치환\n",
        "- 감정 분석 등에서 이모지를 단어로 변환하여 정보 보존\n",
        "- emoji.demojize 사용 시 텍스트화 가능\n",
        "- 예: 😂 → :face_with_tears_of_joy:\n",
        "\n",
        "📌 예시: 'I ❤️ NLP!' → 'I :red_heart: NLP!'"
      ]
    },
    {
      "cell_type": "code",
      "execution_count": 43,
      "id": "ca975801",
      "metadata": {
        "colab": {
          "base_uri": "https://localhost:8080/",
          "height": 35
        },
        "id": "ca975801",
        "outputId": "97ffa2b5-0156-40c0-d78f-86240d04aad4"
      },
      "outputs": [
        {
          "data": {
            "application/vnd.google.colaboratory.intrinsic+json": {
              "type": "string"
            },
            "text/plain": [
              "'I :red_heart: NLP!'"
            ]
          },
          "execution_count": 43,
          "metadata": {},
          "output_type": "execute_result"
        }
      ],
      "source": [
        "emoji.demojize(\"I ❤️ NLP!\")"
      ]
    },
    {
      "cell_type": "markdown",
      "id": "7b15a380",
      "metadata": {
        "id": "7b15a380"
      },
      "source": [
        "## 🔹 URL 제거\n",
        "- 웹에서 수집한 텍스트에는 종종 광고/출처 링크 포함됨\n",
        "- URL은 대부분 의미 없는 노이즈로 간주됨\n",
        "- 정규식을 사용해 제거 가능\n",
        "\n",
        "📌 예시: 'Visit http://example.com now' → 'Visit now'"
      ]
    },
    {
      "cell_type": "code",
      "execution_count": 45,
      "id": "8be48ac7",
      "metadata": {
        "colab": {
          "base_uri": "https://localhost:8080/",
          "height": 35
        },
        "id": "8be48ac7",
        "outputId": "a752742d-f6e2-4d58-83a7-331915bf0af3"
      },
      "outputs": [
        {
          "data": {
            "application/vnd.google.colaboratory.intrinsic+json": {
              "type": "string"
            },
            "text/plain": [
              "\"\\nCheck out our website at  for more details.\\nYou can also visit our blog at \\nDon't forget to look at  for additional resources!\\n\""
            ]
          },
          "execution_count": 45,
          "metadata": {},
          "output_type": "execute_result"
        }
      ],
      "source": [
        "import re\n",
        "text = \"\"\"\n",
        "Check out our website at http://example.com for more details.\n",
        "You can also visit our blog at https://blog.example.com/articles?id=123.\n",
        "Don't forget to look at www.example.org for additional resources!\n",
        "\"\"\"\n",
        "cleaned = re.sub(r\"http\\S+|www\\.\\S+\", \"\", text)\n",
        "cleaned"
      ]
    },
    {
      "cell_type": "markdown",
      "id": "c8be434e",
      "metadata": {
        "id": "c8be434e"
      },
      "source": [
        "## 🔹 HTML 태그 제거\n",
        "- 크롤링된 뉴스, 블로그 글에 HTML이 포함될 수 있음\n",
        "- 텍스트 외 정보(<div>, <a>)는 제거 대상\n",
        "- BeautifulSoup 활용 가능\n",
        "\n",
        "📌 예시: '<p>Hello</p>' → 'Hello'"
      ]
    },
    {
      "cell_type": "code",
      "execution_count": 46,
      "id": "974b7103",
      "metadata": {
        "colab": {
          "base_uri": "https://localhost:8080/",
          "height": 35
        },
        "id": "974b7103",
        "outputId": "9be702cd-91a8-4f92-e194-68203979de39"
      },
      "outputs": [
        {
          "data": {
            "application/vnd.google.colaboratory.intrinsic+json": {
              "type": "string"
            },
            "text/plain": [
              "'\\n\\nExample Page\\n\\nWelcome to My Website\\nThis is a sample paragraph with a link.\\n\\nItem 1\\nItem 2\\n\\n\\n\\n'"
            ]
          },
          "execution_count": 46,
          "metadata": {},
          "output_type": "execute_result"
        }
      ],
      "source": [
        "from bs4 import BeautifulSoup\n",
        "text = \"\"\"\n",
        "<html>\n",
        "  <head><title>Example Page</title></head>\n",
        "  <body>\n",
        "    <h1>Welcome to My Website</h1>\n",
        "    <p>This is a <b>sample</b> paragraph with <a href=\"https://example.com\">a link</a>.</p>\n",
        "    <ul>\n",
        "      <li>Item 1</li>\n",
        "      <li>Item 2</li>\n",
        "    </ul>\n",
        "  </body>\n",
        "</html>\n",
        "\"\"\"\n",
        "cleaned = BeautifulSoup(text, \"html.parser\").get_text()\n",
        "cleaned"
      ]
    },
    {
      "cell_type": "markdown",
      "id": "bceeb49b",
      "metadata": {
        "id": "bceeb49b"
      },
      "source": [
        "## 🔹 채팅체 정규화\n",
        "- SNS/메신저 특유의 줄임말, 비표준어를 정제\n",
        "- 예: 'u r' → 'you are', 'idk' → 'I don't know'\n",
        "- 사전 기반 또는 정규표현식 기반으로 처리\n",
        "\n",
        "📌 예시: 'u r awesome idk why' → 'you are awesome I don't know why'"
      ]
    },
    {
      "cell_type": "code",
      "execution_count": 47,
      "id": "04350974",
      "metadata": {
        "colab": {
          "base_uri": "https://localhost:8080/",
          "height": 35
        },
        "id": "04350974",
        "outputId": "1b76e187-d457-49d8-a398-4fb276145a66"
      },
      "outputs": [
        {
          "data": {
            "application/vnd.google.colaboratory.intrinsic+json": {
              "type": "string"
            },
            "text/plain": [
              "\"I don't know what you are doing\""
            ]
          },
          "execution_count": 47,
          "metadata": {},
          "output_type": "execute_result"
        }
      ],
      "source": [
        "chat_dict = {'u': 'you', 'r': 'are', 'idk': \"I don't know\"}\n",
        "text = 'idk what u r doing'\n",
        "' '.join([chat_dict.get(w, w) for w in text.split()])"
      ]
    },
    {
      "cell_type": "markdown",
      "id": "b565dfd4",
      "metadata": {
        "id": "b565dfd4"
      },
      "source": [
        "## 🔹 맞춤법 교정\n",
        "- 타이핑 실수, 오타 자동 수정\n",
        "- 감정 분석 등에서 의미 왜곡 방지\n",
        "- PySpellChecker, GingerIt 등 사용\n",
        "\n",
        "📌 예시: 'recieve' → 'receive'"
      ]
    },
    {
      "cell_type": "code",
      "execution_count": 55,
      "id": "VwThHjlsmnKl",
      "metadata": {
        "colab": {
          "base_uri": "https://localhost:8080/"
        },
        "id": "VwThHjlsmnKl",
        "outputId": "de33c8ad-9524-4de7-f30b-1445020f17a5"
      },
      "outputs": [
        {
          "name": "stdout",
          "output_type": "stream",
          "text": [
            "Collecting pyspellchecker\n",
            "  Downloading pyspellchecker-0.8.3-py3-none-any.whl.metadata (9.5 kB)\n",
            "Downloading pyspellchecker-0.8.3-py3-none-any.whl (7.2 MB)\n",
            "\u001b[?25l   \u001b[90m━━━━━━━━━━━━━━━━━━━━━━━━━━━━━━━━━━━━━━━━\u001b[0m \u001b[32m0.0/7.2 MB\u001b[0m \u001b[31m?\u001b[0m eta \u001b[36m-:--:--\u001b[0m\r\u001b[2K   \u001b[91m╸\u001b[0m\u001b[90m━━━━━━━━━━━━━━━━━━━━━━━━━━━━━━━━━━━━━━━\u001b[0m \u001b[32m0.1/7.2 MB\u001b[0m \u001b[31m3.1 MB/s\u001b[0m eta \u001b[36m0:00:03\u001b[0m\r\u001b[2K   \u001b[91m━━━\u001b[0m\u001b[91m╸\u001b[0m\u001b[90m━━━━━━━━━━━━━━━━━━━━━━━━━━━━━━━━━━━━\u001b[0m \u001b[32m0.7/7.2 MB\u001b[0m \u001b[31m10.2 MB/s\u001b[0m eta \u001b[36m0:00:01\u001b[0m\r\u001b[2K   \u001b[91m━━━━━━━━━━━━━━━━━━━━━\u001b[0m\u001b[90m╺\u001b[0m\u001b[90m━━━━━━━━━━━━━━━━━━\u001b[0m \u001b[32m3.9/7.2 MB\u001b[0m \u001b[31m36.7 MB/s\u001b[0m eta \u001b[36m0:00:01\u001b[0m\r\u001b[2K   \u001b[91m━━━━━━━━━━━━━━━━━━━━━━━━━━━━━━━━━━━━━━━\u001b[0m\u001b[91m╸\u001b[0m \u001b[32m7.2/7.2 MB\u001b[0m \u001b[31m58.6 MB/s\u001b[0m eta \u001b[36m0:00:01\u001b[0m\r\u001b[2K   \u001b[90m━━━━━━━━━━━━━━━━━━━━━━━━━━━━━━━━━━━━━━━━\u001b[0m \u001b[32m7.2/7.2 MB\u001b[0m \u001b[31m45.9 MB/s\u001b[0m eta \u001b[36m0:00:00\u001b[0m\n",
            "\u001b[?25hInstalling collected packages: pyspellchecker\n",
            "Successfully installed pyspellchecker-0.8.3\n"
          ]
        }
      ],
      "source": [
        "!pip install pyspellchecker"
      ]
    },
    {
      "cell_type": "code",
      "execution_count": 58,
      "id": "334e049c",
      "metadata": {
        "colab": {
          "base_uri": "https://localhost:8080/"
        },
        "id": "334e049c",
        "outputId": "67eb7864-c52e-4ec6-9b0a-9bd093b28d76"
      },
      "outputs": [
        {
          "data": {
            "text/plain": [
              "['ink', 'what', 'u', 'r', 'doing']"
            ]
          },
          "execution_count": 58,
          "metadata": {},
          "output_type": "execute_result"
        }
      ],
      "source": [
        "from spellchecker import SpellChecker\n",
        "\n",
        "spell = SpellChecker()\n",
        "def correct_spellings(text):\n",
        "    corrected_text = []\n",
        "    misspelled_words = spell.unknown(text.split())\n",
        "    for word in text.split():\n",
        "        if word in misspelled_words:\n",
        "            corrected_text.append(spell.correction(word))\n",
        "        else:\n",
        "            corrected_text.append(word)\n",
        "    return \" \".join(corrected_text)\n",
        "\n",
        "\n",
        "corrected = [correct_spellings(word) for word in text.split()]\n",
        "corrected[:10]"
      ]
    },
    {
      "cell_type": "markdown",
      "id": "f3686e17",
      "metadata": {
        "id": "f3686e17"
      },
      "source": [
        "## 🔹 축약어 확장\n",
        "- don’t → do not, I’ll → I will\n",
        "- 감정/문법 보존을 위해 확장 중요\n",
        "- contractions 라이브러리 활용\n",
        "\n",
        "📌 예시: 'I can't' → 'I cannot'"
      ]
    },
    {
      "cell_type": "code",
      "execution_count": 59,
      "id": "wA99DhqBn0xY",
      "metadata": {
        "colab": {
          "base_uri": "https://localhost:8080/"
        },
        "id": "wA99DhqBn0xY",
        "outputId": "d17f4c56-5d7d-4523-c8d2-01afa9bfc57b"
      },
      "outputs": [
        {
          "name": "stdout",
          "output_type": "stream",
          "text": [
            "\u001b[?25l   \u001b[90m━━━━━━━━━━━━━━━━━━━━━━━━━━━━━━━━━━━━━━━━\u001b[0m \u001b[32m0.0/289.9 kB\u001b[0m \u001b[31m?\u001b[0m eta \u001b[36m-:--:--\u001b[0m\r\u001b[2K   \u001b[91m━━━━━━━━━━━━━━━━━━━━━\u001b[0m\u001b[90m╺\u001b[0m\u001b[90m━━━━━━━━━━━━━━━━━━\u001b[0m \u001b[32m153.6/289.9 kB\u001b[0m \u001b[31m4.4 MB/s\u001b[0m eta \u001b[36m0:00:01\u001b[0m\r\u001b[2K   \u001b[90m━━━━━━━━━━━━━━━━━━━━━━━━━━━━━━━━━━━━━━━━\u001b[0m \u001b[32m289.9/289.9 kB\u001b[0m \u001b[31m4.6 MB/s\u001b[0m eta \u001b[36m0:00:00\u001b[0m\n",
            "\u001b[?25h\u001b[?25l   \u001b[90m━━━━━━━━━━━━━━━━━━━━━━━━━━━━━━━━━━━━━━━━\u001b[0m \u001b[32m0.0/113.9 kB\u001b[0m \u001b[31m?\u001b[0m eta \u001b[36m-:--:--\u001b[0m\r\u001b[2K   \u001b[90m━━━━━━━━━━━━━━━━━━━━━━━━━━━━━━━━━━━━━━━━\u001b[0m \u001b[32m113.9/113.9 kB\u001b[0m \u001b[31m6.8 MB/s\u001b[0m eta \u001b[36m0:00:00\u001b[0m\n",
            "\u001b[?25h"
          ]
        }
      ],
      "source": [
        "!pip install -q contractions"
      ]
    },
    {
      "cell_type": "code",
      "execution_count": 63,
      "id": "24d2481c",
      "metadata": {
        "colab": {
          "base_uri": "https://localhost:8080/",
          "height": 35
        },
        "id": "24d2481c",
        "outputId": "da96d80d-33e2-4fb1-b91a-222cc0c38d3b"
      },
      "outputs": [
        {
          "data": {
            "application/vnd.google.colaboratory.intrinsic+json": {
              "type": "string"
            },
            "text/plain": [
              "'I cannot do this.'"
            ]
          },
          "execution_count": 63,
          "metadata": {},
          "output_type": "execute_result"
        }
      ],
      "source": [
        "import contractions\n",
        "expanded = contractions.fix(\"I can't do this.\")\n",
        "expanded"
      ]
    },
    {
      "cell_type": "markdown",
      "id": "bb4f4959",
      "metadata": {
        "id": "bb4f4959"
      },
      "source": [
        "## 🔹 숫자 → 텍스트 / 제거\n",
        "- TTS, 요약, 번역 등에서는 숫자를 단어로 바꾸기도 함\n",
        "- 예: '100%' → 'one hundred percent'\n",
        "- 또는 숫자 자체를 제거하기도 함\n",
        "\n",
        "📌 예시: '100%' → 'one hundred percent'"
      ]
    },
    {
      "cell_type": "code",
      "execution_count": 61,
      "id": "QpcfTBEUn3x6",
      "metadata": {
        "id": "QpcfTBEUn3x6"
      },
      "outputs": [],
      "source": [
        "!pip install -q inflect"
      ]
    },
    {
      "cell_type": "code",
      "execution_count": 62,
      "id": "6048dde4",
      "metadata": {
        "colab": {
          "base_uri": "https://localhost:8080/",
          "height": 35
        },
        "id": "6048dde4",
        "outputId": "378cfa03-523d-4319-e97a-b9b653f03105"
      },
      "outputs": [
        {
          "data": {
            "application/vnd.google.colaboratory.intrinsic+json": {
              "type": "string"
            },
            "text/plain": [
              "'one hundred'"
            ]
          },
          "execution_count": 62,
          "metadata": {},
          "output_type": "execute_result"
        }
      ],
      "source": [
        "import inflect\n",
        "p = inflect.engine()\n",
        "p.number_to_words(100)"
      ]
    },
    {
      "cell_type": "markdown",
      "id": "08a561c5",
      "metadata": {
        "id": "08a561c5"
      },
      "source": [
        "## 🔹 대화체 및 말버릇 제거\n",
        "- 온라인 댓글이나 SNS 텍스트에서 자주 등장하는 반복어, 감탄사 등 제거\n",
        "- 예: 'ㅋㅋㅋ', '헐', 'OMG', 'Wow' 등\n",
        "- 자연어 이해를 방해하거나 잡음이 될 수 있음\n",
        "\n",
        "📌 예시: '헐ㅋㅋㅋ 진짜요??ㅋㅋ' → '헐 진짜요??'"
      ]
    },
    {
      "cell_type": "code",
      "execution_count": 64,
      "id": "75394017",
      "metadata": {
        "colab": {
          "base_uri": "https://localhost:8080/",
          "height": 35
        },
        "id": "75394017",
        "outputId": "a6abeef7-e2c8-454c-8658-3cc3fedbb3d0"
      },
      "outputs": [
        {
          "data": {
            "application/vnd.google.colaboratory.intrinsic+json": {
              "type": "string"
            },
            "text/plain": [
              "'idk what u r doing'"
            ]
          },
          "execution_count": 64,
          "metadata": {},
          "output_type": "execute_result"
        }
      ],
      "source": [
        "import re\n",
        "re.sub(r'(ㅋ|ㅎ|ㅠ|ㅜ){2,}', '', text)"
      ]
    },
    {
      "cell_type": "markdown",
      "id": "301ce9a2",
      "metadata": {
        "id": "301ce9a2"
      },
      "source": [
        "## 🔹 정규표현식 패턴 정리\n",
        "- 날짜: '\\d{4}-\\d{2}-\\d{2}' 또는 'Jan \\d{1,2}, \\d{4}'\n",
        "- 이메일: '\\b[\\w.-]+@[\\w.-]+\\.\\w+\\b'\n",
        "- URL: 'http[s]?://\\S+'\n",
        "- 숫자: '\\b\\d+\\b' / 통화: '\\$\\d+(\\.\\d+)?'\n",
        "\n",
        "📌 예시: 정규식 사전 구축 → 텍스트에서 다양한 패턴 추출 및 제거 자동화"
      ]
    },
    {
      "cell_type": "markdown",
      "id": "0edfd26c",
      "metadata": {
        "id": "0edfd26c"
      },
      "source": [
        "## 🔹 spaCy 기반 통합 정제\n",
        "- spaCy로 불용어 제거, 표제어 추출, 알파벳 필터링을 한 번에 수행\n",
        "- 영어 기준의 대표적 전처리 워크플로우 구성\n",
        "- 모델: en_core_web_sm 등\n",
        "\n",
        "📌 예시: 'He was running quickly.' → 'run quickly'"
      ]
    },
    {
      "cell_type": "code",
      "execution_count": 69,
      "id": "925ac5fa",
      "metadata": {
        "colab": {
          "base_uri": "https://localhost:8080/",
          "height": 35
        },
        "id": "925ac5fa",
        "outputId": "79966712-f2db-4cb5-92d1-0695f20872f4"
      },
      "outputs": [
        {
          "data": {
            "application/vnd.google.colaboratory.intrinsic+json": {
              "type": "string"
            },
            "text/plain": [
              "'idk u r'"
            ]
          },
          "execution_count": 69,
          "metadata": {},
          "output_type": "execute_result"
        }
      ],
      "source": [
        "import spacy\n",
        "nlp = spacy.load(\"en_core_web_sm\")\n",
        "doc = nlp(text)\n",
        "cleaned = \" \".join([token.lemma_ for token in doc if not token.is_stop and token.is_alpha])\n",
        "cleaned[:20]"
      ]
    },
    {
      "cell_type": "markdown",
      "id": "f9c5d5e9",
      "metadata": {
        "id": "f9c5d5e9"
      },
      "source": [
        "## 🔹 도메인별 전처리: 감성 분석\n",
        "- 긍정/부정 판단 시 부정어, 이모티콘, 느낌표 등 보존 필요\n",
        "- 중복 문자 강조 ('좋아아아아')는 적절히 축약\n",
        "- 이모지 → 단어로 변환 후 보존 가능\n",
        "\n",
        "📌 예시: '진짜 좋아아아아!!!😍' → '진짜 좋아!!! :smiling_face_with_heart_eyes:'"
      ]
    },
    {
      "cell_type": "markdown",
      "id": "166fe968",
      "metadata": {
        "id": "166fe968"
      },
      "source": [
        "## 🔹 도메인별 전처리: 뉴스 텍스트\n",
        "- 기자명, 날짜, 출처 제거 / 문단 구분 유지\n",
        "- 고유명사 및 수치 표현은 보존\n",
        "- 표제어화는 선택적으로 적용\n",
        "\n",
        "📌 예시: ‘[서울=뉴스1] 홍길동 기자 = ...’ → ‘...’"
      ]
    },
    {
      "cell_type": "markdown",
      "id": "778215df",
      "metadata": {
        "id": "778215df"
      },
      "source": [
        "## 🔹 도메인별 전처리: 트위터 데이터\n",
        "- 멘션(@user), 해시태그(#topic), 줄임말(idk, brb) 처리\n",
        "- RT 제거, 이모지 치환, URL 제거\n",
        "- Twint 등으로 수집된 트윗 대상\n",
        "\n",
        "📌 예시: 'RT @user: I love this! #NLP http://t.co/abc' → 'I love this!'"
      ]
    },
    {
      "cell_type": "code",
      "execution_count": 70,
      "id": "fddd877c",
      "metadata": {
        "colab": {
          "base_uri": "https://localhost:8080/",
          "height": 35
        },
        "id": "fddd877c",
        "outputId": "95f0c037-4088-43d2-d6dc-32ff5f924354"
      },
      "outputs": [
        {
          "data": {
            "application/vnd.google.colaboratory.intrinsic+json": {
              "type": "string"
            },
            "text/plain": [
              "\"\\n : Check out the new features in our product!   \\nGreat job team!  Let's keep pushing forward. \\nVisit our homepage: \\n\""
            ]
          },
          "execution_count": 70,
          "metadata": {},
          "output_type": "execute_result"
        }
      ],
      "source": [
        "text = \"\"\"\n",
        "RT @user1: Check out the new features in our product! #AI #innovation http://example.com\n",
        "Great job team! @dev_team Let's keep pushing forward. #motivation\n",
        "Visit our homepage: https://company.org/about\n",
        "\"\"\"\n",
        "re.sub(r'@\\w+|#\\w+|RT|http\\S+', '', text)"
      ]
    },
    {
      "cell_type": "markdown",
      "id": "ca7a6fe3",
      "metadata": {
        "id": "ca7a6fe3"
      },
      "source": [
        "## 🔹 도메인별 전처리: 법률 문서\n",
        "- 법령명, 조항번호 등 고유 용어는 보존해야 함\n",
        "- 공백, 줄바꿈 정리 및 목차/판례번호 제거\n",
        "- 주로 CaseLaw, LEGISLAText 데이터셋 활용\n",
        "\n",
        "📌 예시: '제1조(목적) 이 법은...' → '이 법은...'"
      ]
    },
    {
      "cell_type": "markdown",
      "id": "0cd43b6e",
      "metadata": {
        "id": "0cd43b6e"
      },
      "source": [
        "## 🔹 도메인별 전처리: 의료 데이터\n",
        "- 환자 이름, 병원명, 날짜 등 PHI 정보 제거\n",
        "- 의학용어는 일반 사전으로 대체하지 않음 (보존)\n",
        "- MIMIC-III, PubMed 데이터셋 사용\n",
        "\n",
        "📌 예시: 'Patient: John Doe' → ''"
      ]
    },
    {
      "cell_type": "code",
      "execution_count": 72,
      "id": "0ef22ece",
      "metadata": {
        "colab": {
          "base_uri": "https://localhost:8080/"
        },
        "id": "0ef22ece",
        "outputId": "f7fe9d1a-3f04-4f59-a2ce-5c8bd79b189c"
      },
      "outputs": [
        {
          "name": "stdout",
          "output_type": "stream",
          "text": [
            "\n",
            "\n",
            "\n",
            "\n",
            "\n",
            "\n",
            "Chief Complaint: Persistent cough and shortness of breath.\n",
            "Diagnosis: Acute bronchitis\n",
            "Medication: Amoxicillin 500mg, three times a day\n",
            "Notes: Patient reports symptoms worsening over 5 days.\n",
            "\n"
          ]
        }
      ],
      "source": [
        "import re\n",
        "text = \"\"\"\n",
        "Name: John Doe\n",
        "Patient: Jane Smith\n",
        "Hospital: Seoul Medical Center\n",
        "Date: 2023-10-15\n",
        "\n",
        "Chief Complaint: Persistent cough and shortness of breath.\n",
        "Diagnosis: Acute bronchitis\n",
        "Medication: Amoxicillin 500mg, three times a day\n",
        "Notes: Patient reports symptoms worsening over 5 days.\n",
        "\"\"\"\n",
        "text = re.sub(r'(Name:|Patient:|Hospital:|Date:).*', '', text)\n",
        "print(text)"
      ]
    },
    {
      "cell_type": "markdown",
      "id": "92097343",
      "metadata": {
        "id": "92097343"
      },
      "source": [
        "## 🔹 사용자 정의 전처리 파이프라인 구성\n",
        "- 여러 전처리 함수를 하나의 파이프라인으로 연결\n",
        "- 단계별로 함수화하여 재사용 가능\n",
        "- 함수 체이닝, 람다 파이프 활용\n",
        "\n",
        "📌 예시: 'I LOVE it!!! http://abc.com' → 'i love it'"
      ]
    },
    {
      "cell_type": "code",
      "execution_count": 68,
      "id": "4e741393",
      "metadata": {
        "id": "4e741393"
      },
      "outputs": [],
      "source": [
        "def clean_pipeline(text):\n",
        "    text = text.lower()\n",
        "    text = re.sub(r\"http\\S+\", \"\", text)\n",
        "    text = re.sub(r\"[^\\w\\s]\", \"\", text)\n",
        "    return text"
      ]
    },
    {
      "cell_type": "markdown",
      "id": "74b3bc3c",
      "metadata": {
        "id": "74b3bc3c"
      },
      "source": [
        "## 🔹 전체 전처리 예시 실행 (IMDB)\n",
        "- IMDB 데이터셋 텍스트에 대해 단계별로 전처리 적용\n",
        "- 전처리 전 vs 후 비교표 생성\n",
        "- 토큰 수 변화, 단어 구름 시각화 포함\n",
        "\n",
        "📌 예시: 전처리 전: 350 tokens → 전처리 후: 212 tokens (불용어 제거, 표제어화 적용)"
      ]
    },
    {
      "cell_type": "markdown",
      "id": "417b29b6",
      "metadata": {
        "id": "417b29b6"
      },
      "source": [
        "## 🔹 전처리 성능 평가\n",
        "- 모델 성능 비교 (전처리 전 vs 후)\n",
        "- 지표: Accuracy, F1, BLEU 등\n",
        "- 전처리별 기여도 분석 가능\n",
        "\n",
        "📌 예시: 텍스트 분류 정확도: 전처리 전 82% → 전처리 후 88%"
      ]
    },
    {
      "cell_type": "markdown",
      "id": "2286af40",
      "metadata": {
        "id": "2286af40"
      },
      "source": [
        "## 🔹 결론 및 팁 정리\n",
        "- 전처리는 도메인에 따라 맞춤화 필요\n",
        "- 과도한 정제는 의미 손실 → 균형 중요\n",
        "- 전처리 자동화 파이프라인 설계 추천\n",
        "- 활용할만한 오픈소스 도구 정리\n",
        "\n",
        "📌 예시: - Huggingface Datasets, spaCy, NLTK, emoji, contractions, BeautifulSoup 등"
      ]
    }
  ],
  "metadata": {
    "colab": {
      "provenance": []
    },
    "kernelspec": {
      "display_name": ".venv (3.13.3)",
      "language": "python",
      "name": "python3"
    },
    "language": "python",
    "language_info": {
      "codemirror_mode": {
        "name": "ipython",
        "version": 3
      },
      "file_extension": ".py",
      "mimetype": "text/x-python",
      "name": "python",
      "nbconvert_exporter": "python",
      "pygments_lexer": "ipython3",
      "version": "3.13.3"
    },
    "widgets": {
      "application/vnd.jupyter.widget-state+json": {
        "028859305bd84d2094e0d48e649c08cd": {
          "model_module": "@jupyter-widgets/controls",
          "model_module_version": "1.5.0",
          "model_name": "HBoxModel",
          "state": {
            "_dom_classes": [],
            "_model_module": "@jupyter-widgets/controls",
            "_model_module_version": "1.5.0",
            "_model_name": "HBoxModel",
            "_view_count": null,
            "_view_module": "@jupyter-widgets/controls",
            "_view_module_version": "1.5.0",
            "_view_name": "HBoxView",
            "box_style": "",
            "children": [
              "IPY_MODEL_ade324d7268b44fa90ea9863891911c4",
              "IPY_MODEL_35c9d6066e114793b7ac15d2daafab8f",
              "IPY_MODEL_a608d75b4754452d94e03362122d8683"
            ],
            "layout": "IPY_MODEL_59ede4eb006e46e5bb6efbda5be6c9fb"
          }
        },
        "034965f36a764d74add6903657636be1": {
          "model_module": "@jupyter-widgets/controls",
          "model_module_version": "1.5.0",
          "model_name": "HBoxModel",
          "state": {
            "_dom_classes": [],
            "_model_module": "@jupyter-widgets/controls",
            "_model_module_version": "1.5.0",
            "_model_name": "HBoxModel",
            "_view_count": null,
            "_view_module": "@jupyter-widgets/controls",
            "_view_module_version": "1.5.0",
            "_view_name": "HBoxView",
            "box_style": "",
            "children": [
              "IPY_MODEL_1697bc1906d84de497e369981cdbad71",
              "IPY_MODEL_58ff67697a1f4e5ea3871268303f9f06",
              "IPY_MODEL_9c7895a51ce9419780fcbb14f091bc2a"
            ],
            "layout": "IPY_MODEL_fc6c05e69a4a4554bb5da79caa88a57c"
          }
        },
        "0e01c6d8753441b58b85bbb9f1f8f8db": {
          "model_module": "@jupyter-widgets/controls",
          "model_module_version": "1.5.0",
          "model_name": "HBoxModel",
          "state": {
            "_dom_classes": [],
            "_model_module": "@jupyter-widgets/controls",
            "_model_module_version": "1.5.0",
            "_model_name": "HBoxModel",
            "_view_count": null,
            "_view_module": "@jupyter-widgets/controls",
            "_view_module_version": "1.5.0",
            "_view_name": "HBoxView",
            "box_style": "",
            "children": [
              "IPY_MODEL_6cf6a4dc095a48b990a9f0538a52d38f",
              "IPY_MODEL_6465735f55e54f2b8892d1324cfbb7a0",
              "IPY_MODEL_da24aefde5dd437da7f40bffb05e0528"
            ],
            "layout": "IPY_MODEL_5639f77b439b4c828ad42ee95543cf87"
          }
        },
        "1034e42807894e8689800ea97eb8f5d7": {
          "model_module": "@jupyter-widgets/controls",
          "model_module_version": "1.5.0",
          "model_name": "DescriptionStyleModel",
          "state": {
            "_model_module": "@jupyter-widgets/controls",
            "_model_module_version": "1.5.0",
            "_model_name": "DescriptionStyleModel",
            "_view_count": null,
            "_view_module": "@jupyter-widgets/base",
            "_view_module_version": "1.2.0",
            "_view_name": "StyleView",
            "description_width": ""
          }
        },
        "11ad2c16b54949f981bfe456182753b4": {
          "model_module": "@jupyter-widgets/controls",
          "model_module_version": "1.5.0",
          "model_name": "DescriptionStyleModel",
          "state": {
            "_model_module": "@jupyter-widgets/controls",
            "_model_module_version": "1.5.0",
            "_model_name": "DescriptionStyleModel",
            "_view_count": null,
            "_view_module": "@jupyter-widgets/base",
            "_view_module_version": "1.2.0",
            "_view_name": "StyleView",
            "description_width": ""
          }
        },
        "151b78f1850e4b0a9555566258047ab3": {
          "model_module": "@jupyter-widgets/controls",
          "model_module_version": "1.5.0",
          "model_name": "DescriptionStyleModel",
          "state": {
            "_model_module": "@jupyter-widgets/controls",
            "_model_module_version": "1.5.0",
            "_model_name": "DescriptionStyleModel",
            "_view_count": null,
            "_view_module": "@jupyter-widgets/base",
            "_view_module_version": "1.2.0",
            "_view_name": "StyleView",
            "description_width": ""
          }
        },
        "1697bc1906d84de497e369981cdbad71": {
          "model_module": "@jupyter-widgets/controls",
          "model_module_version": "1.5.0",
          "model_name": "HTMLModel",
          "state": {
            "_dom_classes": [],
            "_model_module": "@jupyter-widgets/controls",
            "_model_module_version": "1.5.0",
            "_model_name": "HTMLModel",
            "_view_count": null,
            "_view_module": "@jupyter-widgets/controls",
            "_view_module_version": "1.5.0",
            "_view_name": "HTMLView",
            "description": "",
            "description_tooltip": null,
            "layout": "IPY_MODEL_314afb278f47418fa96ed3bc7553066a",
            "placeholder": "​",
            "style": "IPY_MODEL_151b78f1850e4b0a9555566258047ab3",
            "value": "unsupervised-00000-of-00001.parquet: 100%"
          }
        },
        "1723682010d740c1b51cdcabb2204523": {
          "model_module": "@jupyter-widgets/controls",
          "model_module_version": "1.5.0",
          "model_name": "HTMLModel",
          "state": {
            "_dom_classes": [],
            "_model_module": "@jupyter-widgets/controls",
            "_model_module_version": "1.5.0",
            "_model_name": "HTMLModel",
            "_view_count": null,
            "_view_module": "@jupyter-widgets/controls",
            "_view_module_version": "1.5.0",
            "_view_name": "HTMLView",
            "description": "",
            "description_tooltip": null,
            "layout": "IPY_MODEL_94cd4e58403a4f19ba93d89ea572b3d9",
            "placeholder": "​",
            "style": "IPY_MODEL_7470b6604f3a4c819413c5ff5a8a408d",
            "value": " 50000/50000 [00:01&lt;00:00, 38998.22 examples/s]"
          }
        },
        "22ee11c0655449e485bd78e5e54385c8": {
          "model_module": "@jupyter-widgets/controls",
          "model_module_version": "1.5.0",
          "model_name": "DescriptionStyleModel",
          "state": {
            "_model_module": "@jupyter-widgets/controls",
            "_model_module_version": "1.5.0",
            "_model_name": "DescriptionStyleModel",
            "_view_count": null,
            "_view_module": "@jupyter-widgets/base",
            "_view_module_version": "1.2.0",
            "_view_name": "StyleView",
            "description_width": ""
          }
        },
        "256a2f9d26724533b41a235d2c0bd2ca": {
          "model_module": "@jupyter-widgets/controls",
          "model_module_version": "1.5.0",
          "model_name": "HBoxModel",
          "state": {
            "_dom_classes": [],
            "_model_module": "@jupyter-widgets/controls",
            "_model_module_version": "1.5.0",
            "_model_name": "HBoxModel",
            "_view_count": null,
            "_view_module": "@jupyter-widgets/controls",
            "_view_module_version": "1.5.0",
            "_view_name": "HBoxView",
            "box_style": "",
            "children": [
              "IPY_MODEL_a3037cc66a3c4ddd9061c6f96ebf77e0",
              "IPY_MODEL_3538811fe299448788504fafd45c4bf3",
              "IPY_MODEL_1723682010d740c1b51cdcabb2204523"
            ],
            "layout": "IPY_MODEL_db4343586f0b41a490a1a47d9c565913"
          }
        },
        "2a12cf4297564bfd9ac472314df4f16c": {
          "model_module": "@jupyter-widgets/base",
          "model_module_version": "1.2.0",
          "model_name": "LayoutModel",
          "state": {
            "_model_module": "@jupyter-widgets/base",
            "_model_module_version": "1.2.0",
            "_model_name": "LayoutModel",
            "_view_count": null,
            "_view_module": "@jupyter-widgets/base",
            "_view_module_version": "1.2.0",
            "_view_name": "LayoutView",
            "align_content": null,
            "align_items": null,
            "align_self": null,
            "border": null,
            "bottom": null,
            "display": null,
            "flex": null,
            "flex_flow": null,
            "grid_area": null,
            "grid_auto_columns": null,
            "grid_auto_flow": null,
            "grid_auto_rows": null,
            "grid_column": null,
            "grid_gap": null,
            "grid_row": null,
            "grid_template_areas": null,
            "grid_template_columns": null,
            "grid_template_rows": null,
            "height": null,
            "justify_content": null,
            "justify_items": null,
            "left": null,
            "margin": null,
            "max_height": null,
            "max_width": null,
            "min_height": null,
            "min_width": null,
            "object_fit": null,
            "object_position": null,
            "order": null,
            "overflow": null,
            "overflow_x": null,
            "overflow_y": null,
            "padding": null,
            "right": null,
            "top": null,
            "visibility": null,
            "width": null
          }
        },
        "2b0439b93931475d84b8b1f1581da7f7": {
          "model_module": "@jupyter-widgets/controls",
          "model_module_version": "1.5.0",
          "model_name": "DescriptionStyleModel",
          "state": {
            "_model_module": "@jupyter-widgets/controls",
            "_model_module_version": "1.5.0",
            "_model_name": "DescriptionStyleModel",
            "_view_count": null,
            "_view_module": "@jupyter-widgets/base",
            "_view_module_version": "1.2.0",
            "_view_name": "StyleView",
            "description_width": ""
          }
        },
        "2d31dea8c2da407fbb667f359c35d976": {
          "model_module": "@jupyter-widgets/base",
          "model_module_version": "1.2.0",
          "model_name": "LayoutModel",
          "state": {
            "_model_module": "@jupyter-widgets/base",
            "_model_module_version": "1.2.0",
            "_model_name": "LayoutModel",
            "_view_count": null,
            "_view_module": "@jupyter-widgets/base",
            "_view_module_version": "1.2.0",
            "_view_name": "LayoutView",
            "align_content": null,
            "align_items": null,
            "align_self": null,
            "border": null,
            "bottom": null,
            "display": null,
            "flex": null,
            "flex_flow": null,
            "grid_area": null,
            "grid_auto_columns": null,
            "grid_auto_flow": null,
            "grid_auto_rows": null,
            "grid_column": null,
            "grid_gap": null,
            "grid_row": null,
            "grid_template_areas": null,
            "grid_template_columns": null,
            "grid_template_rows": null,
            "height": null,
            "justify_content": null,
            "justify_items": null,
            "left": null,
            "margin": null,
            "max_height": null,
            "max_width": null,
            "min_height": null,
            "min_width": null,
            "object_fit": null,
            "object_position": null,
            "order": null,
            "overflow": null,
            "overflow_x": null,
            "overflow_y": null,
            "padding": null,
            "right": null,
            "top": null,
            "visibility": null,
            "width": null
          }
        },
        "314afb278f47418fa96ed3bc7553066a": {
          "model_module": "@jupyter-widgets/base",
          "model_module_version": "1.2.0",
          "model_name": "LayoutModel",
          "state": {
            "_model_module": "@jupyter-widgets/base",
            "_model_module_version": "1.2.0",
            "_model_name": "LayoutModel",
            "_view_count": null,
            "_view_module": "@jupyter-widgets/base",
            "_view_module_version": "1.2.0",
            "_view_name": "LayoutView",
            "align_content": null,
            "align_items": null,
            "align_self": null,
            "border": null,
            "bottom": null,
            "display": null,
            "flex": null,
            "flex_flow": null,
            "grid_area": null,
            "grid_auto_columns": null,
            "grid_auto_flow": null,
            "grid_auto_rows": null,
            "grid_column": null,
            "grid_gap": null,
            "grid_row": null,
            "grid_template_areas": null,
            "grid_template_columns": null,
            "grid_template_rows": null,
            "height": null,
            "justify_content": null,
            "justify_items": null,
            "left": null,
            "margin": null,
            "max_height": null,
            "max_width": null,
            "min_height": null,
            "min_width": null,
            "object_fit": null,
            "object_position": null,
            "order": null,
            "overflow": null,
            "overflow_x": null,
            "overflow_y": null,
            "padding": null,
            "right": null,
            "top": null,
            "visibility": null,
            "width": null
          }
        },
        "345c37a584374ceeb4576ad463c8ed24": {
          "model_module": "@jupyter-widgets/base",
          "model_module_version": "1.2.0",
          "model_name": "LayoutModel",
          "state": {
            "_model_module": "@jupyter-widgets/base",
            "_model_module_version": "1.2.0",
            "_model_name": "LayoutModel",
            "_view_count": null,
            "_view_module": "@jupyter-widgets/base",
            "_view_module_version": "1.2.0",
            "_view_name": "LayoutView",
            "align_content": null,
            "align_items": null,
            "align_self": null,
            "border": null,
            "bottom": null,
            "display": null,
            "flex": null,
            "flex_flow": null,
            "grid_area": null,
            "grid_auto_columns": null,
            "grid_auto_flow": null,
            "grid_auto_rows": null,
            "grid_column": null,
            "grid_gap": null,
            "grid_row": null,
            "grid_template_areas": null,
            "grid_template_columns": null,
            "grid_template_rows": null,
            "height": null,
            "justify_content": null,
            "justify_items": null,
            "left": null,
            "margin": null,
            "max_height": null,
            "max_width": null,
            "min_height": null,
            "min_width": null,
            "object_fit": null,
            "object_position": null,
            "order": null,
            "overflow": null,
            "overflow_x": null,
            "overflow_y": null,
            "padding": null,
            "right": null,
            "top": null,
            "visibility": null,
            "width": null
          }
        },
        "3538811fe299448788504fafd45c4bf3": {
          "model_module": "@jupyter-widgets/controls",
          "model_module_version": "1.5.0",
          "model_name": "FloatProgressModel",
          "state": {
            "_dom_classes": [],
            "_model_module": "@jupyter-widgets/controls",
            "_model_module_version": "1.5.0",
            "_model_name": "FloatProgressModel",
            "_view_count": null,
            "_view_module": "@jupyter-widgets/controls",
            "_view_module_version": "1.5.0",
            "_view_name": "ProgressView",
            "bar_style": "success",
            "description": "",
            "description_tooltip": null,
            "layout": "IPY_MODEL_8863ac7b32c847fb9f783e01912cba7a",
            "max": 50000,
            "min": 0,
            "orientation": "horizontal",
            "style": "IPY_MODEL_6dc48f1fe29846f6a5df0550da9243c5",
            "value": 50000
          }
        },
        "35c9d6066e114793b7ac15d2daafab8f": {
          "model_module": "@jupyter-widgets/controls",
          "model_module_version": "1.5.0",
          "model_name": "FloatProgressModel",
          "state": {
            "_dom_classes": [],
            "_model_module": "@jupyter-widgets/controls",
            "_model_module_version": "1.5.0",
            "_model_name": "FloatProgressModel",
            "_view_count": null,
            "_view_module": "@jupyter-widgets/controls",
            "_view_module_version": "1.5.0",
            "_view_name": "ProgressView",
            "bar_style": "success",
            "description": "",
            "description_tooltip": null,
            "layout": "IPY_MODEL_3f9f214300ef424ea722a2fa9ed589b0",
            "max": 20979968,
            "min": 0,
            "orientation": "horizontal",
            "style": "IPY_MODEL_71c9d9ed8b134cf3bf5c5727a9bf62a3",
            "value": 20979968
          }
        },
        "3714318cb45b44cea97bc606ec360423": {
          "model_module": "@jupyter-widgets/base",
          "model_module_version": "1.2.0",
          "model_name": "LayoutModel",
          "state": {
            "_model_module": "@jupyter-widgets/base",
            "_model_module_version": "1.2.0",
            "_model_name": "LayoutModel",
            "_view_count": null,
            "_view_module": "@jupyter-widgets/base",
            "_view_module_version": "1.2.0",
            "_view_name": "LayoutView",
            "align_content": null,
            "align_items": null,
            "align_self": null,
            "border": null,
            "bottom": null,
            "display": null,
            "flex": null,
            "flex_flow": null,
            "grid_area": null,
            "grid_auto_columns": null,
            "grid_auto_flow": null,
            "grid_auto_rows": null,
            "grid_column": null,
            "grid_gap": null,
            "grid_row": null,
            "grid_template_areas": null,
            "grid_template_columns": null,
            "grid_template_rows": null,
            "height": null,
            "justify_content": null,
            "justify_items": null,
            "left": null,
            "margin": null,
            "max_height": null,
            "max_width": null,
            "min_height": null,
            "min_width": null,
            "object_fit": null,
            "object_position": null,
            "order": null,
            "overflow": null,
            "overflow_x": null,
            "overflow_y": null,
            "padding": null,
            "right": null,
            "top": null,
            "visibility": null,
            "width": null
          }
        },
        "3c76a59798b54c04bc792aa7b902c1da": {
          "model_module": "@jupyter-widgets/controls",
          "model_module_version": "1.5.0",
          "model_name": "ProgressStyleModel",
          "state": {
            "_model_module": "@jupyter-widgets/controls",
            "_model_module_version": "1.5.0",
            "_model_name": "ProgressStyleModel",
            "_view_count": null,
            "_view_module": "@jupyter-widgets/base",
            "_view_module_version": "1.2.0",
            "_view_name": "StyleView",
            "bar_color": null,
            "description_width": ""
          }
        },
        "3f9f214300ef424ea722a2fa9ed589b0": {
          "model_module": "@jupyter-widgets/base",
          "model_module_version": "1.2.0",
          "model_name": "LayoutModel",
          "state": {
            "_model_module": "@jupyter-widgets/base",
            "_model_module_version": "1.2.0",
            "_model_name": "LayoutModel",
            "_view_count": null,
            "_view_module": "@jupyter-widgets/base",
            "_view_module_version": "1.2.0",
            "_view_name": "LayoutView",
            "align_content": null,
            "align_items": null,
            "align_self": null,
            "border": null,
            "bottom": null,
            "display": null,
            "flex": null,
            "flex_flow": null,
            "grid_area": null,
            "grid_auto_columns": null,
            "grid_auto_flow": null,
            "grid_auto_rows": null,
            "grid_column": null,
            "grid_gap": null,
            "grid_row": null,
            "grid_template_areas": null,
            "grid_template_columns": null,
            "grid_template_rows": null,
            "height": null,
            "justify_content": null,
            "justify_items": null,
            "left": null,
            "margin": null,
            "max_height": null,
            "max_width": null,
            "min_height": null,
            "min_width": null,
            "object_fit": null,
            "object_position": null,
            "order": null,
            "overflow": null,
            "overflow_x": null,
            "overflow_y": null,
            "padding": null,
            "right": null,
            "top": null,
            "visibility": null,
            "width": null
          }
        },
        "462f02bee4744605824b5c74b6c730d8": {
          "model_module": "@jupyter-widgets/controls",
          "model_module_version": "1.5.0",
          "model_name": "HTMLModel",
          "state": {
            "_dom_classes": [],
            "_model_module": "@jupyter-widgets/controls",
            "_model_module_version": "1.5.0",
            "_model_name": "HTMLModel",
            "_view_count": null,
            "_view_module": "@jupyter-widgets/controls",
            "_view_module_version": "1.5.0",
            "_view_name": "HTMLView",
            "description": "",
            "description_tooltip": null,
            "layout": "IPY_MODEL_6fc1837a2c5b4fcc8000a1825b38bbe0",
            "placeholder": "​",
            "style": "IPY_MODEL_1034e42807894e8689800ea97eb8f5d7",
            "value": " 25000/25000 [00:00&lt;00:00, 29631.83 examples/s]"
          }
        },
        "46eb7aae54f74c8db23231ec8476bffc": {
          "model_module": "@jupyter-widgets/controls",
          "model_module_version": "1.5.0",
          "model_name": "DescriptionStyleModel",
          "state": {
            "_model_module": "@jupyter-widgets/controls",
            "_model_module_version": "1.5.0",
            "_model_name": "DescriptionStyleModel",
            "_view_count": null,
            "_view_module": "@jupyter-widgets/base",
            "_view_module_version": "1.2.0",
            "_view_name": "StyleView",
            "description_width": ""
          }
        },
        "490d0817932c41e9b301439eb6c447dd": {
          "model_module": "@jupyter-widgets/controls",
          "model_module_version": "1.5.0",
          "model_name": "HTMLModel",
          "state": {
            "_dom_classes": [],
            "_model_module": "@jupyter-widgets/controls",
            "_model_module_version": "1.5.0",
            "_model_name": "HTMLModel",
            "_view_count": null,
            "_view_module": "@jupyter-widgets/controls",
            "_view_module_version": "1.5.0",
            "_view_name": "HTMLView",
            "description": "",
            "description_tooltip": null,
            "layout": "IPY_MODEL_2a12cf4297564bfd9ac472314df4f16c",
            "placeholder": "​",
            "style": "IPY_MODEL_9e1d6917b9a34660a57628a78e7eecde",
            "value": "Generating test split: 100%"
          }
        },
        "4bbd142ce56745ec9f600089599a9be2": {
          "model_module": "@jupyter-widgets/controls",
          "model_module_version": "1.5.0",
          "model_name": "DescriptionStyleModel",
          "state": {
            "_model_module": "@jupyter-widgets/controls",
            "_model_module_version": "1.5.0",
            "_model_name": "DescriptionStyleModel",
            "_view_count": null,
            "_view_module": "@jupyter-widgets/base",
            "_view_module_version": "1.2.0",
            "_view_name": "StyleView",
            "description_width": ""
          }
        },
        "4d2b8eb094e24e3f949522f8e72a3acd": {
          "model_module": "@jupyter-widgets/controls",
          "model_module_version": "1.5.0",
          "model_name": "DescriptionStyleModel",
          "state": {
            "_model_module": "@jupyter-widgets/controls",
            "_model_module_version": "1.5.0",
            "_model_name": "DescriptionStyleModel",
            "_view_count": null,
            "_view_module": "@jupyter-widgets/base",
            "_view_module_version": "1.2.0",
            "_view_name": "StyleView",
            "description_width": ""
          }
        },
        "5492cbddb21449e1a950f8ed348544b6": {
          "model_module": "@jupyter-widgets/base",
          "model_module_version": "1.2.0",
          "model_name": "LayoutModel",
          "state": {
            "_model_module": "@jupyter-widgets/base",
            "_model_module_version": "1.2.0",
            "_model_name": "LayoutModel",
            "_view_count": null,
            "_view_module": "@jupyter-widgets/base",
            "_view_module_version": "1.2.0",
            "_view_name": "LayoutView",
            "align_content": null,
            "align_items": null,
            "align_self": null,
            "border": null,
            "bottom": null,
            "display": null,
            "flex": null,
            "flex_flow": null,
            "grid_area": null,
            "grid_auto_columns": null,
            "grid_auto_flow": null,
            "grid_auto_rows": null,
            "grid_column": null,
            "grid_gap": null,
            "grid_row": null,
            "grid_template_areas": null,
            "grid_template_columns": null,
            "grid_template_rows": null,
            "height": null,
            "justify_content": null,
            "justify_items": null,
            "left": null,
            "margin": null,
            "max_height": null,
            "max_width": null,
            "min_height": null,
            "min_width": null,
            "object_fit": null,
            "object_position": null,
            "order": null,
            "overflow": null,
            "overflow_x": null,
            "overflow_y": null,
            "padding": null,
            "right": null,
            "top": null,
            "visibility": null,
            "width": null
          }
        },
        "5639f77b439b4c828ad42ee95543cf87": {
          "model_module": "@jupyter-widgets/base",
          "model_module_version": "1.2.0",
          "model_name": "LayoutModel",
          "state": {
            "_model_module": "@jupyter-widgets/base",
            "_model_module_version": "1.2.0",
            "_model_name": "LayoutModel",
            "_view_count": null,
            "_view_module": "@jupyter-widgets/base",
            "_view_module_version": "1.2.0",
            "_view_name": "LayoutView",
            "align_content": null,
            "align_items": null,
            "align_self": null,
            "border": null,
            "bottom": null,
            "display": null,
            "flex": null,
            "flex_flow": null,
            "grid_area": null,
            "grid_auto_columns": null,
            "grid_auto_flow": null,
            "grid_auto_rows": null,
            "grid_column": null,
            "grid_gap": null,
            "grid_row": null,
            "grid_template_areas": null,
            "grid_template_columns": null,
            "grid_template_rows": null,
            "height": null,
            "justify_content": null,
            "justify_items": null,
            "left": null,
            "margin": null,
            "max_height": null,
            "max_width": null,
            "min_height": null,
            "min_width": null,
            "object_fit": null,
            "object_position": null,
            "order": null,
            "overflow": null,
            "overflow_x": null,
            "overflow_y": null,
            "padding": null,
            "right": null,
            "top": null,
            "visibility": null,
            "width": null
          }
        },
        "58ff67697a1f4e5ea3871268303f9f06": {
          "model_module": "@jupyter-widgets/controls",
          "model_module_version": "1.5.0",
          "model_name": "FloatProgressModel",
          "state": {
            "_dom_classes": [],
            "_model_module": "@jupyter-widgets/controls",
            "_model_module_version": "1.5.0",
            "_model_name": "FloatProgressModel",
            "_view_count": null,
            "_view_module": "@jupyter-widgets/controls",
            "_view_module_version": "1.5.0",
            "_view_name": "ProgressView",
            "bar_style": "success",
            "description": "",
            "description_tooltip": null,
            "layout": "IPY_MODEL_983344fac7d74c7db3d0c8f2e8d96640",
            "max": 41996509,
            "min": 0,
            "orientation": "horizontal",
            "style": "IPY_MODEL_75d3cd42223146beb4cc9be53c44e1f4",
            "value": 41996509
          }
        },
        "59ede4eb006e46e5bb6efbda5be6c9fb": {
          "model_module": "@jupyter-widgets/base",
          "model_module_version": "1.2.0",
          "model_name": "LayoutModel",
          "state": {
            "_model_module": "@jupyter-widgets/base",
            "_model_module_version": "1.2.0",
            "_model_name": "LayoutModel",
            "_view_count": null,
            "_view_module": "@jupyter-widgets/base",
            "_view_module_version": "1.2.0",
            "_view_name": "LayoutView",
            "align_content": null,
            "align_items": null,
            "align_self": null,
            "border": null,
            "bottom": null,
            "display": null,
            "flex": null,
            "flex_flow": null,
            "grid_area": null,
            "grid_auto_columns": null,
            "grid_auto_flow": null,
            "grid_auto_rows": null,
            "grid_column": null,
            "grid_gap": null,
            "grid_row": null,
            "grid_template_areas": null,
            "grid_template_columns": null,
            "grid_template_rows": null,
            "height": null,
            "justify_content": null,
            "justify_items": null,
            "left": null,
            "margin": null,
            "max_height": null,
            "max_width": null,
            "min_height": null,
            "min_width": null,
            "object_fit": null,
            "object_position": null,
            "order": null,
            "overflow": null,
            "overflow_x": null,
            "overflow_y": null,
            "padding": null,
            "right": null,
            "top": null,
            "visibility": null,
            "width": null
          }
        },
        "60fa9f43d1e74d139acfcc1e784110ee": {
          "model_module": "@jupyter-widgets/controls",
          "model_module_version": "1.5.0",
          "model_name": "ProgressStyleModel",
          "state": {
            "_model_module": "@jupyter-widgets/controls",
            "_model_module_version": "1.5.0",
            "_model_name": "ProgressStyleModel",
            "_view_count": null,
            "_view_module": "@jupyter-widgets/base",
            "_view_module_version": "1.2.0",
            "_view_name": "StyleView",
            "bar_color": null,
            "description_width": ""
          }
        },
        "6465735f55e54f2b8892d1324cfbb7a0": {
          "model_module": "@jupyter-widgets/controls",
          "model_module_version": "1.5.0",
          "model_name": "FloatProgressModel",
          "state": {
            "_dom_classes": [],
            "_model_module": "@jupyter-widgets/controls",
            "_model_module_version": "1.5.0",
            "_model_name": "FloatProgressModel",
            "_view_count": null,
            "_view_module": "@jupyter-widgets/controls",
            "_view_module_version": "1.5.0",
            "_view_name": "ProgressView",
            "bar_style": "success",
            "description": "",
            "description_tooltip": null,
            "layout": "IPY_MODEL_345c37a584374ceeb4576ad463c8ed24",
            "max": 20470363,
            "min": 0,
            "orientation": "horizontal",
            "style": "IPY_MODEL_e65811fd798a4ab2a812fe0b43f9effb",
            "value": 20470363
          }
        },
        "65d302a93f634b7798da5dde0b31b338": {
          "model_module": "@jupyter-widgets/controls",
          "model_module_version": "1.5.0",
          "model_name": "DescriptionStyleModel",
          "state": {
            "_model_module": "@jupyter-widgets/controls",
            "_model_module_version": "1.5.0",
            "_model_name": "DescriptionStyleModel",
            "_view_count": null,
            "_view_module": "@jupyter-widgets/base",
            "_view_module_version": "1.2.0",
            "_view_name": "StyleView",
            "description_width": ""
          }
        },
        "6cf6a4dc095a48b990a9f0538a52d38f": {
          "model_module": "@jupyter-widgets/controls",
          "model_module_version": "1.5.0",
          "model_name": "HTMLModel",
          "state": {
            "_dom_classes": [],
            "_model_module": "@jupyter-widgets/controls",
            "_model_module_version": "1.5.0",
            "_model_name": "HTMLModel",
            "_view_count": null,
            "_view_module": "@jupyter-widgets/controls",
            "_view_module_version": "1.5.0",
            "_view_name": "HTMLView",
            "description": "",
            "description_tooltip": null,
            "layout": "IPY_MODEL_c6909c5ca8934d20ada18eabf93338d2",
            "placeholder": "​",
            "style": "IPY_MODEL_46eb7aae54f74c8db23231ec8476bffc",
            "value": "test-00000-of-00001.parquet: 100%"
          }
        },
        "6dc48f1fe29846f6a5df0550da9243c5": {
          "model_module": "@jupyter-widgets/controls",
          "model_module_version": "1.5.0",
          "model_name": "ProgressStyleModel",
          "state": {
            "_model_module": "@jupyter-widgets/controls",
            "_model_module_version": "1.5.0",
            "_model_name": "ProgressStyleModel",
            "_view_count": null,
            "_view_module": "@jupyter-widgets/base",
            "_view_module_version": "1.2.0",
            "_view_name": "StyleView",
            "bar_color": null,
            "description_width": ""
          }
        },
        "6fc1837a2c5b4fcc8000a1825b38bbe0": {
          "model_module": "@jupyter-widgets/base",
          "model_module_version": "1.2.0",
          "model_name": "LayoutModel",
          "state": {
            "_model_module": "@jupyter-widgets/base",
            "_model_module_version": "1.2.0",
            "_model_name": "LayoutModel",
            "_view_count": null,
            "_view_module": "@jupyter-widgets/base",
            "_view_module_version": "1.2.0",
            "_view_name": "LayoutView",
            "align_content": null,
            "align_items": null,
            "align_self": null,
            "border": null,
            "bottom": null,
            "display": null,
            "flex": null,
            "flex_flow": null,
            "grid_area": null,
            "grid_auto_columns": null,
            "grid_auto_flow": null,
            "grid_auto_rows": null,
            "grid_column": null,
            "grid_gap": null,
            "grid_row": null,
            "grid_template_areas": null,
            "grid_template_columns": null,
            "grid_template_rows": null,
            "height": null,
            "justify_content": null,
            "justify_items": null,
            "left": null,
            "margin": null,
            "max_height": null,
            "max_width": null,
            "min_height": null,
            "min_width": null,
            "object_fit": null,
            "object_position": null,
            "order": null,
            "overflow": null,
            "overflow_x": null,
            "overflow_y": null,
            "padding": null,
            "right": null,
            "top": null,
            "visibility": null,
            "width": null
          }
        },
        "71c9d9ed8b134cf3bf5c5727a9bf62a3": {
          "model_module": "@jupyter-widgets/controls",
          "model_module_version": "1.5.0",
          "model_name": "ProgressStyleModel",
          "state": {
            "_model_module": "@jupyter-widgets/controls",
            "_model_module_version": "1.5.0",
            "_model_name": "ProgressStyleModel",
            "_view_count": null,
            "_view_module": "@jupyter-widgets/base",
            "_view_module_version": "1.2.0",
            "_view_name": "StyleView",
            "bar_color": null,
            "description_width": ""
          }
        },
        "7470b6604f3a4c819413c5ff5a8a408d": {
          "model_module": "@jupyter-widgets/controls",
          "model_module_version": "1.5.0",
          "model_name": "DescriptionStyleModel",
          "state": {
            "_model_module": "@jupyter-widgets/controls",
            "_model_module_version": "1.5.0",
            "_model_name": "DescriptionStyleModel",
            "_view_count": null,
            "_view_module": "@jupyter-widgets/base",
            "_view_module_version": "1.2.0",
            "_view_name": "StyleView",
            "description_width": ""
          }
        },
        "75d3cd42223146beb4cc9be53c44e1f4": {
          "model_module": "@jupyter-widgets/controls",
          "model_module_version": "1.5.0",
          "model_name": "ProgressStyleModel",
          "state": {
            "_model_module": "@jupyter-widgets/controls",
            "_model_module_version": "1.5.0",
            "_model_name": "ProgressStyleModel",
            "_view_count": null,
            "_view_module": "@jupyter-widgets/base",
            "_view_module_version": "1.2.0",
            "_view_name": "StyleView",
            "bar_color": null,
            "description_width": ""
          }
        },
        "7851a7ca519f4da79a12a4f1e85917eb": {
          "model_module": "@jupyter-widgets/controls",
          "model_module_version": "1.5.0",
          "model_name": "FloatProgressModel",
          "state": {
            "_dom_classes": [],
            "_model_module": "@jupyter-widgets/controls",
            "_model_module_version": "1.5.0",
            "_model_name": "FloatProgressModel",
            "_view_count": null,
            "_view_module": "@jupyter-widgets/controls",
            "_view_module_version": "1.5.0",
            "_view_name": "ProgressView",
            "bar_style": "success",
            "description": "",
            "description_tooltip": null,
            "layout": "IPY_MODEL_5492cbddb21449e1a950f8ed348544b6",
            "max": 25000,
            "min": 0,
            "orientation": "horizontal",
            "style": "IPY_MODEL_c79644e3f1374089a1e8353c5305a9e4",
            "value": 25000
          }
        },
        "8630a9d230b441dab30192e260a5fc73": {
          "model_module": "@jupyter-widgets/base",
          "model_module_version": "1.2.0",
          "model_name": "LayoutModel",
          "state": {
            "_model_module": "@jupyter-widgets/base",
            "_model_module_version": "1.2.0",
            "_model_name": "LayoutModel",
            "_view_count": null,
            "_view_module": "@jupyter-widgets/base",
            "_view_module_version": "1.2.0",
            "_view_name": "LayoutView",
            "align_content": null,
            "align_items": null,
            "align_self": null,
            "border": null,
            "bottom": null,
            "display": null,
            "flex": null,
            "flex_flow": null,
            "grid_area": null,
            "grid_auto_columns": null,
            "grid_auto_flow": null,
            "grid_auto_rows": null,
            "grid_column": null,
            "grid_gap": null,
            "grid_row": null,
            "grid_template_areas": null,
            "grid_template_columns": null,
            "grid_template_rows": null,
            "height": null,
            "justify_content": null,
            "justify_items": null,
            "left": null,
            "margin": null,
            "max_height": null,
            "max_width": null,
            "min_height": null,
            "min_width": null,
            "object_fit": null,
            "object_position": null,
            "order": null,
            "overflow": null,
            "overflow_x": null,
            "overflow_y": null,
            "padding": null,
            "right": null,
            "top": null,
            "visibility": null,
            "width": null
          }
        },
        "87eb04d59a0a4038907f3f7d4a0ddece": {
          "model_module": "@jupyter-widgets/base",
          "model_module_version": "1.2.0",
          "model_name": "LayoutModel",
          "state": {
            "_model_module": "@jupyter-widgets/base",
            "_model_module_version": "1.2.0",
            "_model_name": "LayoutModel",
            "_view_count": null,
            "_view_module": "@jupyter-widgets/base",
            "_view_module_version": "1.2.0",
            "_view_name": "LayoutView",
            "align_content": null,
            "align_items": null,
            "align_self": null,
            "border": null,
            "bottom": null,
            "display": null,
            "flex": null,
            "flex_flow": null,
            "grid_area": null,
            "grid_auto_columns": null,
            "grid_auto_flow": null,
            "grid_auto_rows": null,
            "grid_column": null,
            "grid_gap": null,
            "grid_row": null,
            "grid_template_areas": null,
            "grid_template_columns": null,
            "grid_template_rows": null,
            "height": null,
            "justify_content": null,
            "justify_items": null,
            "left": null,
            "margin": null,
            "max_height": null,
            "max_width": null,
            "min_height": null,
            "min_width": null,
            "object_fit": null,
            "object_position": null,
            "order": null,
            "overflow": null,
            "overflow_x": null,
            "overflow_y": null,
            "padding": null,
            "right": null,
            "top": null,
            "visibility": null,
            "width": null
          }
        },
        "8863ac7b32c847fb9f783e01912cba7a": {
          "model_module": "@jupyter-widgets/base",
          "model_module_version": "1.2.0",
          "model_name": "LayoutModel",
          "state": {
            "_model_module": "@jupyter-widgets/base",
            "_model_module_version": "1.2.0",
            "_model_name": "LayoutModel",
            "_view_count": null,
            "_view_module": "@jupyter-widgets/base",
            "_view_module_version": "1.2.0",
            "_view_name": "LayoutView",
            "align_content": null,
            "align_items": null,
            "align_self": null,
            "border": null,
            "bottom": null,
            "display": null,
            "flex": null,
            "flex_flow": null,
            "grid_area": null,
            "grid_auto_columns": null,
            "grid_auto_flow": null,
            "grid_auto_rows": null,
            "grid_column": null,
            "grid_gap": null,
            "grid_row": null,
            "grid_template_areas": null,
            "grid_template_columns": null,
            "grid_template_rows": null,
            "height": null,
            "justify_content": null,
            "justify_items": null,
            "left": null,
            "margin": null,
            "max_height": null,
            "max_width": null,
            "min_height": null,
            "min_width": null,
            "object_fit": null,
            "object_position": null,
            "order": null,
            "overflow": null,
            "overflow_x": null,
            "overflow_y": null,
            "padding": null,
            "right": null,
            "top": null,
            "visibility": null,
            "width": null
          }
        },
        "8e4c36736ea846f6a05309f4d6eb7160": {
          "model_module": "@jupyter-widgets/controls",
          "model_module_version": "1.5.0",
          "model_name": "HTMLModel",
          "state": {
            "_dom_classes": [],
            "_model_module": "@jupyter-widgets/controls",
            "_model_module_version": "1.5.0",
            "_model_name": "HTMLModel",
            "_view_count": null,
            "_view_module": "@jupyter-widgets/controls",
            "_view_module_version": "1.5.0",
            "_view_name": "HTMLView",
            "description": "",
            "description_tooltip": null,
            "layout": "IPY_MODEL_e8bb5ebcaf074b50a0aad02d32d7dda9",
            "placeholder": "​",
            "style": "IPY_MODEL_22ee11c0655449e485bd78e5e54385c8",
            "value": " 7.81k/7.81k [00:00&lt;00:00, 393kB/s]"
          }
        },
        "94cd4e58403a4f19ba93d89ea572b3d9": {
          "model_module": "@jupyter-widgets/base",
          "model_module_version": "1.2.0",
          "model_name": "LayoutModel",
          "state": {
            "_model_module": "@jupyter-widgets/base",
            "_model_module_version": "1.2.0",
            "_model_name": "LayoutModel",
            "_view_count": null,
            "_view_module": "@jupyter-widgets/base",
            "_view_module_version": "1.2.0",
            "_view_name": "LayoutView",
            "align_content": null,
            "align_items": null,
            "align_self": null,
            "border": null,
            "bottom": null,
            "display": null,
            "flex": null,
            "flex_flow": null,
            "grid_area": null,
            "grid_auto_columns": null,
            "grid_auto_flow": null,
            "grid_auto_rows": null,
            "grid_column": null,
            "grid_gap": null,
            "grid_row": null,
            "grid_template_areas": null,
            "grid_template_columns": null,
            "grid_template_rows": null,
            "height": null,
            "justify_content": null,
            "justify_items": null,
            "left": null,
            "margin": null,
            "max_height": null,
            "max_width": null,
            "min_height": null,
            "min_width": null,
            "object_fit": null,
            "object_position": null,
            "order": null,
            "overflow": null,
            "overflow_x": null,
            "overflow_y": null,
            "padding": null,
            "right": null,
            "top": null,
            "visibility": null,
            "width": null
          }
        },
        "96e60b2208bf4ca3a788447909fd75b6": {
          "model_module": "@jupyter-widgets/base",
          "model_module_version": "1.2.0",
          "model_name": "LayoutModel",
          "state": {
            "_model_module": "@jupyter-widgets/base",
            "_model_module_version": "1.2.0",
            "_model_name": "LayoutModel",
            "_view_count": null,
            "_view_module": "@jupyter-widgets/base",
            "_view_module_version": "1.2.0",
            "_view_name": "LayoutView",
            "align_content": null,
            "align_items": null,
            "align_self": null,
            "border": null,
            "bottom": null,
            "display": null,
            "flex": null,
            "flex_flow": null,
            "grid_area": null,
            "grid_auto_columns": null,
            "grid_auto_flow": null,
            "grid_auto_rows": null,
            "grid_column": null,
            "grid_gap": null,
            "grid_row": null,
            "grid_template_areas": null,
            "grid_template_columns": null,
            "grid_template_rows": null,
            "height": null,
            "justify_content": null,
            "justify_items": null,
            "left": null,
            "margin": null,
            "max_height": null,
            "max_width": null,
            "min_height": null,
            "min_width": null,
            "object_fit": null,
            "object_position": null,
            "order": null,
            "overflow": null,
            "overflow_x": null,
            "overflow_y": null,
            "padding": null,
            "right": null,
            "top": null,
            "visibility": null,
            "width": null
          }
        },
        "983344fac7d74c7db3d0c8f2e8d96640": {
          "model_module": "@jupyter-widgets/base",
          "model_module_version": "1.2.0",
          "model_name": "LayoutModel",
          "state": {
            "_model_module": "@jupyter-widgets/base",
            "_model_module_version": "1.2.0",
            "_model_name": "LayoutModel",
            "_view_count": null,
            "_view_module": "@jupyter-widgets/base",
            "_view_module_version": "1.2.0",
            "_view_name": "LayoutView",
            "align_content": null,
            "align_items": null,
            "align_self": null,
            "border": null,
            "bottom": null,
            "display": null,
            "flex": null,
            "flex_flow": null,
            "grid_area": null,
            "grid_auto_columns": null,
            "grid_auto_flow": null,
            "grid_auto_rows": null,
            "grid_column": null,
            "grid_gap": null,
            "grid_row": null,
            "grid_template_areas": null,
            "grid_template_columns": null,
            "grid_template_rows": null,
            "height": null,
            "justify_content": null,
            "justify_items": null,
            "left": null,
            "margin": null,
            "max_height": null,
            "max_width": null,
            "min_height": null,
            "min_width": null,
            "object_fit": null,
            "object_position": null,
            "order": null,
            "overflow": null,
            "overflow_x": null,
            "overflow_y": null,
            "padding": null,
            "right": null,
            "top": null,
            "visibility": null,
            "width": null
          }
        },
        "98c594df2b204c5db2b42e063aa8d221": {
          "model_module": "@jupyter-widgets/controls",
          "model_module_version": "1.5.0",
          "model_name": "FloatProgressModel",
          "state": {
            "_dom_classes": [],
            "_model_module": "@jupyter-widgets/controls",
            "_model_module_version": "1.5.0",
            "_model_name": "FloatProgressModel",
            "_view_count": null,
            "_view_module": "@jupyter-widgets/controls",
            "_view_module_version": "1.5.0",
            "_view_name": "ProgressView",
            "bar_style": "success",
            "description": "",
            "description_tooltip": null,
            "layout": "IPY_MODEL_b71958b8948f4aa7a243f2a9822e6c83",
            "max": 7809,
            "min": 0,
            "orientation": "horizontal",
            "style": "IPY_MODEL_3c76a59798b54c04bc792aa7b902c1da",
            "value": 7809
          }
        },
        "9c7895a51ce9419780fcbb14f091bc2a": {
          "model_module": "@jupyter-widgets/controls",
          "model_module_version": "1.5.0",
          "model_name": "HTMLModel",
          "state": {
            "_dom_classes": [],
            "_model_module": "@jupyter-widgets/controls",
            "_model_module_version": "1.5.0",
            "_model_name": "HTMLModel",
            "_view_count": null,
            "_view_module": "@jupyter-widgets/controls",
            "_view_module_version": "1.5.0",
            "_view_name": "HTMLView",
            "description": "",
            "description_tooltip": null,
            "layout": "IPY_MODEL_b028654704944cb3bb3c251a5df6a1bc",
            "placeholder": "​",
            "style": "IPY_MODEL_65d302a93f634b7798da5dde0b31b338",
            "value": " 42.0M/42.0M [00:00&lt;00:00, 83.2MB/s]"
          }
        },
        "9e1d6917b9a34660a57628a78e7eecde": {
          "model_module": "@jupyter-widgets/controls",
          "model_module_version": "1.5.0",
          "model_name": "DescriptionStyleModel",
          "state": {
            "_model_module": "@jupyter-widgets/controls",
            "_model_module_version": "1.5.0",
            "_model_name": "DescriptionStyleModel",
            "_view_count": null,
            "_view_module": "@jupyter-widgets/base",
            "_view_module_version": "1.2.0",
            "_view_name": "StyleView",
            "description_width": ""
          }
        },
        "a3037cc66a3c4ddd9061c6f96ebf77e0": {
          "model_module": "@jupyter-widgets/controls",
          "model_module_version": "1.5.0",
          "model_name": "HTMLModel",
          "state": {
            "_dom_classes": [],
            "_model_module": "@jupyter-widgets/controls",
            "_model_module_version": "1.5.0",
            "_model_name": "HTMLModel",
            "_view_count": null,
            "_view_module": "@jupyter-widgets/controls",
            "_view_module_version": "1.5.0",
            "_view_name": "HTMLView",
            "description": "",
            "description_tooltip": null,
            "layout": "IPY_MODEL_ee3408f5084e4ed1bbc766acc5bb3650",
            "placeholder": "​",
            "style": "IPY_MODEL_4bbd142ce56745ec9f600089599a9be2",
            "value": "Generating unsupervised split: 100%"
          }
        },
        "a3922441224b43a19f552333a9ad5038": {
          "model_module": "@jupyter-widgets/base",
          "model_module_version": "1.2.0",
          "model_name": "LayoutModel",
          "state": {
            "_model_module": "@jupyter-widgets/base",
            "_model_module_version": "1.2.0",
            "_model_name": "LayoutModel",
            "_view_count": null,
            "_view_module": "@jupyter-widgets/base",
            "_view_module_version": "1.2.0",
            "_view_name": "LayoutView",
            "align_content": null,
            "align_items": null,
            "align_self": null,
            "border": null,
            "bottom": null,
            "display": null,
            "flex": null,
            "flex_flow": null,
            "grid_area": null,
            "grid_auto_columns": null,
            "grid_auto_flow": null,
            "grid_auto_rows": null,
            "grid_column": null,
            "grid_gap": null,
            "grid_row": null,
            "grid_template_areas": null,
            "grid_template_columns": null,
            "grid_template_rows": null,
            "height": null,
            "justify_content": null,
            "justify_items": null,
            "left": null,
            "margin": null,
            "max_height": null,
            "max_width": null,
            "min_height": null,
            "min_width": null,
            "object_fit": null,
            "object_position": null,
            "order": null,
            "overflow": null,
            "overflow_x": null,
            "overflow_y": null,
            "padding": null,
            "right": null,
            "top": null,
            "visibility": null,
            "width": null
          }
        },
        "a608d75b4754452d94e03362122d8683": {
          "model_module": "@jupyter-widgets/controls",
          "model_module_version": "1.5.0",
          "model_name": "HTMLModel",
          "state": {
            "_dom_classes": [],
            "_model_module": "@jupyter-widgets/controls",
            "_model_module_version": "1.5.0",
            "_model_name": "HTMLModel",
            "_view_count": null,
            "_view_module": "@jupyter-widgets/controls",
            "_view_module_version": "1.5.0",
            "_view_name": "HTMLView",
            "description": "",
            "description_tooltip": null,
            "layout": "IPY_MODEL_3714318cb45b44cea97bc606ec360423",
            "placeholder": "​",
            "style": "IPY_MODEL_4d2b8eb094e24e3f949522f8e72a3acd",
            "value": " 21.0M/21.0M [00:00&lt;00:00, 33.3MB/s]"
          }
        },
        "abc9299b32c84df69fcef3a91a82fe38": {
          "model_module": "@jupyter-widgets/base",
          "model_module_version": "1.2.0",
          "model_name": "LayoutModel",
          "state": {
            "_model_module": "@jupyter-widgets/base",
            "_model_module_version": "1.2.0",
            "_model_name": "LayoutModel",
            "_view_count": null,
            "_view_module": "@jupyter-widgets/base",
            "_view_module_version": "1.2.0",
            "_view_name": "LayoutView",
            "align_content": null,
            "align_items": null,
            "align_self": null,
            "border": null,
            "bottom": null,
            "display": null,
            "flex": null,
            "flex_flow": null,
            "grid_area": null,
            "grid_auto_columns": null,
            "grid_auto_flow": null,
            "grid_auto_rows": null,
            "grid_column": null,
            "grid_gap": null,
            "grid_row": null,
            "grid_template_areas": null,
            "grid_template_columns": null,
            "grid_template_rows": null,
            "height": null,
            "justify_content": null,
            "justify_items": null,
            "left": null,
            "margin": null,
            "max_height": null,
            "max_width": null,
            "min_height": null,
            "min_width": null,
            "object_fit": null,
            "object_position": null,
            "order": null,
            "overflow": null,
            "overflow_x": null,
            "overflow_y": null,
            "padding": null,
            "right": null,
            "top": null,
            "visibility": null,
            "width": null
          }
        },
        "ac54d87b7569443ebea942e356e0aea3": {
          "model_module": "@jupyter-widgets/controls",
          "model_module_version": "1.5.0",
          "model_name": "HTMLModel",
          "state": {
            "_dom_classes": [],
            "_model_module": "@jupyter-widgets/controls",
            "_model_module_version": "1.5.0",
            "_model_name": "HTMLModel",
            "_view_count": null,
            "_view_module": "@jupyter-widgets/controls",
            "_view_module_version": "1.5.0",
            "_view_name": "HTMLView",
            "description": "",
            "description_tooltip": null,
            "layout": "IPY_MODEL_d02084dbeadc479ab74666e9d16f57a4",
            "placeholder": "​",
            "style": "IPY_MODEL_d4ef7a0b152b47d8960332ef0930aefe",
            "value": "README.md: 100%"
          }
        },
        "ad73646f578b4896a065dcad2f1428ea": {
          "model_module": "@jupyter-widgets/base",
          "model_module_version": "1.2.0",
          "model_name": "LayoutModel",
          "state": {
            "_model_module": "@jupyter-widgets/base",
            "_model_module_version": "1.2.0",
            "_model_name": "LayoutModel",
            "_view_count": null,
            "_view_module": "@jupyter-widgets/base",
            "_view_module_version": "1.2.0",
            "_view_name": "LayoutView",
            "align_content": null,
            "align_items": null,
            "align_self": null,
            "border": null,
            "bottom": null,
            "display": null,
            "flex": null,
            "flex_flow": null,
            "grid_area": null,
            "grid_auto_columns": null,
            "grid_auto_flow": null,
            "grid_auto_rows": null,
            "grid_column": null,
            "grid_gap": null,
            "grid_row": null,
            "grid_template_areas": null,
            "grid_template_columns": null,
            "grid_template_rows": null,
            "height": null,
            "justify_content": null,
            "justify_items": null,
            "left": null,
            "margin": null,
            "max_height": null,
            "max_width": null,
            "min_height": null,
            "min_width": null,
            "object_fit": null,
            "object_position": null,
            "order": null,
            "overflow": null,
            "overflow_x": null,
            "overflow_y": null,
            "padding": null,
            "right": null,
            "top": null,
            "visibility": null,
            "width": null
          }
        },
        "ade324d7268b44fa90ea9863891911c4": {
          "model_module": "@jupyter-widgets/controls",
          "model_module_version": "1.5.0",
          "model_name": "HTMLModel",
          "state": {
            "_dom_classes": [],
            "_model_module": "@jupyter-widgets/controls",
            "_model_module_version": "1.5.0",
            "_model_name": "HTMLModel",
            "_view_count": null,
            "_view_module": "@jupyter-widgets/controls",
            "_view_module_version": "1.5.0",
            "_view_name": "HTMLView",
            "description": "",
            "description_tooltip": null,
            "layout": "IPY_MODEL_96e60b2208bf4ca3a788447909fd75b6",
            "placeholder": "​",
            "style": "IPY_MODEL_11ad2c16b54949f981bfe456182753b4",
            "value": "train-00000-of-00001.parquet: 100%"
          }
        },
        "b028654704944cb3bb3c251a5df6a1bc": {
          "model_module": "@jupyter-widgets/base",
          "model_module_version": "1.2.0",
          "model_name": "LayoutModel",
          "state": {
            "_model_module": "@jupyter-widgets/base",
            "_model_module_version": "1.2.0",
            "_model_name": "LayoutModel",
            "_view_count": null,
            "_view_module": "@jupyter-widgets/base",
            "_view_module_version": "1.2.0",
            "_view_name": "LayoutView",
            "align_content": null,
            "align_items": null,
            "align_self": null,
            "border": null,
            "bottom": null,
            "display": null,
            "flex": null,
            "flex_flow": null,
            "grid_area": null,
            "grid_auto_columns": null,
            "grid_auto_flow": null,
            "grid_auto_rows": null,
            "grid_column": null,
            "grid_gap": null,
            "grid_row": null,
            "grid_template_areas": null,
            "grid_template_columns": null,
            "grid_template_rows": null,
            "height": null,
            "justify_content": null,
            "justify_items": null,
            "left": null,
            "margin": null,
            "max_height": null,
            "max_width": null,
            "min_height": null,
            "min_width": null,
            "object_fit": null,
            "object_position": null,
            "order": null,
            "overflow": null,
            "overflow_x": null,
            "overflow_y": null,
            "padding": null,
            "right": null,
            "top": null,
            "visibility": null,
            "width": null
          }
        },
        "b0459ef33c24416299224024cf179052": {
          "model_module": "@jupyter-widgets/controls",
          "model_module_version": "1.5.0",
          "model_name": "HBoxModel",
          "state": {
            "_dom_classes": [],
            "_model_module": "@jupyter-widgets/controls",
            "_model_module_version": "1.5.0",
            "_model_name": "HBoxModel",
            "_view_count": null,
            "_view_module": "@jupyter-widgets/controls",
            "_view_module_version": "1.5.0",
            "_view_name": "HBoxView",
            "box_style": "",
            "children": [
              "IPY_MODEL_490d0817932c41e9b301439eb6c447dd",
              "IPY_MODEL_ba306d5de8584b9e9a0a211d001d7745",
              "IPY_MODEL_462f02bee4744605824b5c74b6c730d8"
            ],
            "layout": "IPY_MODEL_a3922441224b43a19f552333a9ad5038"
          }
        },
        "b71958b8948f4aa7a243f2a9822e6c83": {
          "model_module": "@jupyter-widgets/base",
          "model_module_version": "1.2.0",
          "model_name": "LayoutModel",
          "state": {
            "_model_module": "@jupyter-widgets/base",
            "_model_module_version": "1.2.0",
            "_model_name": "LayoutModel",
            "_view_count": null,
            "_view_module": "@jupyter-widgets/base",
            "_view_module_version": "1.2.0",
            "_view_name": "LayoutView",
            "align_content": null,
            "align_items": null,
            "align_self": null,
            "border": null,
            "bottom": null,
            "display": null,
            "flex": null,
            "flex_flow": null,
            "grid_area": null,
            "grid_auto_columns": null,
            "grid_auto_flow": null,
            "grid_auto_rows": null,
            "grid_column": null,
            "grid_gap": null,
            "grid_row": null,
            "grid_template_areas": null,
            "grid_template_columns": null,
            "grid_template_rows": null,
            "height": null,
            "justify_content": null,
            "justify_items": null,
            "left": null,
            "margin": null,
            "max_height": null,
            "max_width": null,
            "min_height": null,
            "min_width": null,
            "object_fit": null,
            "object_position": null,
            "order": null,
            "overflow": null,
            "overflow_x": null,
            "overflow_y": null,
            "padding": null,
            "right": null,
            "top": null,
            "visibility": null,
            "width": null
          }
        },
        "b8aac3959ef449bd87477d76601313a0": {
          "model_module": "@jupyter-widgets/controls",
          "model_module_version": "1.5.0",
          "model_name": "DescriptionStyleModel",
          "state": {
            "_model_module": "@jupyter-widgets/controls",
            "_model_module_version": "1.5.0",
            "_model_name": "DescriptionStyleModel",
            "_view_count": null,
            "_view_module": "@jupyter-widgets/base",
            "_view_module_version": "1.2.0",
            "_view_name": "StyleView",
            "description_width": ""
          }
        },
        "ba306d5de8584b9e9a0a211d001d7745": {
          "model_module": "@jupyter-widgets/controls",
          "model_module_version": "1.5.0",
          "model_name": "FloatProgressModel",
          "state": {
            "_dom_classes": [],
            "_model_module": "@jupyter-widgets/controls",
            "_model_module_version": "1.5.0",
            "_model_name": "FloatProgressModel",
            "_view_count": null,
            "_view_module": "@jupyter-widgets/controls",
            "_view_module_version": "1.5.0",
            "_view_name": "ProgressView",
            "bar_style": "success",
            "description": "",
            "description_tooltip": null,
            "layout": "IPY_MODEL_87eb04d59a0a4038907f3f7d4a0ddece",
            "max": 25000,
            "min": 0,
            "orientation": "horizontal",
            "style": "IPY_MODEL_60fa9f43d1e74d139acfcc1e784110ee",
            "value": 25000
          }
        },
        "bda6f578a6664afe8e7cb6e48700b796": {
          "model_module": "@jupyter-widgets/controls",
          "model_module_version": "1.5.0",
          "model_name": "HTMLModel",
          "state": {
            "_dom_classes": [],
            "_model_module": "@jupyter-widgets/controls",
            "_model_module_version": "1.5.0",
            "_model_name": "HTMLModel",
            "_view_count": null,
            "_view_module": "@jupyter-widgets/controls",
            "_view_module_version": "1.5.0",
            "_view_name": "HTMLView",
            "description": "",
            "description_tooltip": null,
            "layout": "IPY_MODEL_8630a9d230b441dab30192e260a5fc73",
            "placeholder": "​",
            "style": "IPY_MODEL_f65cf8b469f246c3a455323152a11a31",
            "value": " 25000/25000 [00:00&lt;00:00, 38149.63 examples/s]"
          }
        },
        "c6909c5ca8934d20ada18eabf93338d2": {
          "model_module": "@jupyter-widgets/base",
          "model_module_version": "1.2.0",
          "model_name": "LayoutModel",
          "state": {
            "_model_module": "@jupyter-widgets/base",
            "_model_module_version": "1.2.0",
            "_model_name": "LayoutModel",
            "_view_count": null,
            "_view_module": "@jupyter-widgets/base",
            "_view_module_version": "1.2.0",
            "_view_name": "LayoutView",
            "align_content": null,
            "align_items": null,
            "align_self": null,
            "border": null,
            "bottom": null,
            "display": null,
            "flex": null,
            "flex_flow": null,
            "grid_area": null,
            "grid_auto_columns": null,
            "grid_auto_flow": null,
            "grid_auto_rows": null,
            "grid_column": null,
            "grid_gap": null,
            "grid_row": null,
            "grid_template_areas": null,
            "grid_template_columns": null,
            "grid_template_rows": null,
            "height": null,
            "justify_content": null,
            "justify_items": null,
            "left": null,
            "margin": null,
            "max_height": null,
            "max_width": null,
            "min_height": null,
            "min_width": null,
            "object_fit": null,
            "object_position": null,
            "order": null,
            "overflow": null,
            "overflow_x": null,
            "overflow_y": null,
            "padding": null,
            "right": null,
            "top": null,
            "visibility": null,
            "width": null
          }
        },
        "c6f32f95530c4a58a79db9a9aa89535a": {
          "model_module": "@jupyter-widgets/controls",
          "model_module_version": "1.5.0",
          "model_name": "HBoxModel",
          "state": {
            "_dom_classes": [],
            "_model_module": "@jupyter-widgets/controls",
            "_model_module_version": "1.5.0",
            "_model_name": "HBoxModel",
            "_view_count": null,
            "_view_module": "@jupyter-widgets/controls",
            "_view_module_version": "1.5.0",
            "_view_name": "HBoxView",
            "box_style": "",
            "children": [
              "IPY_MODEL_ac54d87b7569443ebea942e356e0aea3",
              "IPY_MODEL_98c594df2b204c5db2b42e063aa8d221",
              "IPY_MODEL_8e4c36736ea846f6a05309f4d6eb7160"
            ],
            "layout": "IPY_MODEL_abc9299b32c84df69fcef3a91a82fe38"
          }
        },
        "c79644e3f1374089a1e8353c5305a9e4": {
          "model_module": "@jupyter-widgets/controls",
          "model_module_version": "1.5.0",
          "model_name": "ProgressStyleModel",
          "state": {
            "_model_module": "@jupyter-widgets/controls",
            "_model_module_version": "1.5.0",
            "_model_name": "ProgressStyleModel",
            "_view_count": null,
            "_view_module": "@jupyter-widgets/base",
            "_view_module_version": "1.2.0",
            "_view_name": "StyleView",
            "bar_color": null,
            "description_width": ""
          }
        },
        "d02084dbeadc479ab74666e9d16f57a4": {
          "model_module": "@jupyter-widgets/base",
          "model_module_version": "1.2.0",
          "model_name": "LayoutModel",
          "state": {
            "_model_module": "@jupyter-widgets/base",
            "_model_module_version": "1.2.0",
            "_model_name": "LayoutModel",
            "_view_count": null,
            "_view_module": "@jupyter-widgets/base",
            "_view_module_version": "1.2.0",
            "_view_name": "LayoutView",
            "align_content": null,
            "align_items": null,
            "align_self": null,
            "border": null,
            "bottom": null,
            "display": null,
            "flex": null,
            "flex_flow": null,
            "grid_area": null,
            "grid_auto_columns": null,
            "grid_auto_flow": null,
            "grid_auto_rows": null,
            "grid_column": null,
            "grid_gap": null,
            "grid_row": null,
            "grid_template_areas": null,
            "grid_template_columns": null,
            "grid_template_rows": null,
            "height": null,
            "justify_content": null,
            "justify_items": null,
            "left": null,
            "margin": null,
            "max_height": null,
            "max_width": null,
            "min_height": null,
            "min_width": null,
            "object_fit": null,
            "object_position": null,
            "order": null,
            "overflow": null,
            "overflow_x": null,
            "overflow_y": null,
            "padding": null,
            "right": null,
            "top": null,
            "visibility": null,
            "width": null
          }
        },
        "d4ef7a0b152b47d8960332ef0930aefe": {
          "model_module": "@jupyter-widgets/controls",
          "model_module_version": "1.5.0",
          "model_name": "DescriptionStyleModel",
          "state": {
            "_model_module": "@jupyter-widgets/controls",
            "_model_module_version": "1.5.0",
            "_model_name": "DescriptionStyleModel",
            "_view_count": null,
            "_view_module": "@jupyter-widgets/base",
            "_view_module_version": "1.2.0",
            "_view_name": "StyleView",
            "description_width": ""
          }
        },
        "da24aefde5dd437da7f40bffb05e0528": {
          "model_module": "@jupyter-widgets/controls",
          "model_module_version": "1.5.0",
          "model_name": "HTMLModel",
          "state": {
            "_dom_classes": [],
            "_model_module": "@jupyter-widgets/controls",
            "_model_module_version": "1.5.0",
            "_model_name": "HTMLModel",
            "_view_count": null,
            "_view_module": "@jupyter-widgets/controls",
            "_view_module_version": "1.5.0",
            "_view_name": "HTMLView",
            "description": "",
            "description_tooltip": null,
            "layout": "IPY_MODEL_ad73646f578b4896a065dcad2f1428ea",
            "placeholder": "​",
            "style": "IPY_MODEL_2b0439b93931475d84b8b1f1581da7f7",
            "value": " 20.5M/20.5M [00:00&lt;00:00, 93.0MB/s]"
          }
        },
        "db4343586f0b41a490a1a47d9c565913": {
          "model_module": "@jupyter-widgets/base",
          "model_module_version": "1.2.0",
          "model_name": "LayoutModel",
          "state": {
            "_model_module": "@jupyter-widgets/base",
            "_model_module_version": "1.2.0",
            "_model_name": "LayoutModel",
            "_view_count": null,
            "_view_module": "@jupyter-widgets/base",
            "_view_module_version": "1.2.0",
            "_view_name": "LayoutView",
            "align_content": null,
            "align_items": null,
            "align_self": null,
            "border": null,
            "bottom": null,
            "display": null,
            "flex": null,
            "flex_flow": null,
            "grid_area": null,
            "grid_auto_columns": null,
            "grid_auto_flow": null,
            "grid_auto_rows": null,
            "grid_column": null,
            "grid_gap": null,
            "grid_row": null,
            "grid_template_areas": null,
            "grid_template_columns": null,
            "grid_template_rows": null,
            "height": null,
            "justify_content": null,
            "justify_items": null,
            "left": null,
            "margin": null,
            "max_height": null,
            "max_width": null,
            "min_height": null,
            "min_width": null,
            "object_fit": null,
            "object_position": null,
            "order": null,
            "overflow": null,
            "overflow_x": null,
            "overflow_y": null,
            "padding": null,
            "right": null,
            "top": null,
            "visibility": null,
            "width": null
          }
        },
        "de6cd8c16e394f55a28b4d7ae0314d03": {
          "model_module": "@jupyter-widgets/base",
          "model_module_version": "1.2.0",
          "model_name": "LayoutModel",
          "state": {
            "_model_module": "@jupyter-widgets/base",
            "_model_module_version": "1.2.0",
            "_model_name": "LayoutModel",
            "_view_count": null,
            "_view_module": "@jupyter-widgets/base",
            "_view_module_version": "1.2.0",
            "_view_name": "LayoutView",
            "align_content": null,
            "align_items": null,
            "align_self": null,
            "border": null,
            "bottom": null,
            "display": null,
            "flex": null,
            "flex_flow": null,
            "grid_area": null,
            "grid_auto_columns": null,
            "grid_auto_flow": null,
            "grid_auto_rows": null,
            "grid_column": null,
            "grid_gap": null,
            "grid_row": null,
            "grid_template_areas": null,
            "grid_template_columns": null,
            "grid_template_rows": null,
            "height": null,
            "justify_content": null,
            "justify_items": null,
            "left": null,
            "margin": null,
            "max_height": null,
            "max_width": null,
            "min_height": null,
            "min_width": null,
            "object_fit": null,
            "object_position": null,
            "order": null,
            "overflow": null,
            "overflow_x": null,
            "overflow_y": null,
            "padding": null,
            "right": null,
            "top": null,
            "visibility": null,
            "width": null
          }
        },
        "e043edaec7224de18a59b5e046eca2d9": {
          "model_module": "@jupyter-widgets/controls",
          "model_module_version": "1.5.0",
          "model_name": "HTMLModel",
          "state": {
            "_dom_classes": [],
            "_model_module": "@jupyter-widgets/controls",
            "_model_module_version": "1.5.0",
            "_model_name": "HTMLModel",
            "_view_count": null,
            "_view_module": "@jupyter-widgets/controls",
            "_view_module_version": "1.5.0",
            "_view_name": "HTMLView",
            "description": "",
            "description_tooltip": null,
            "layout": "IPY_MODEL_de6cd8c16e394f55a28b4d7ae0314d03",
            "placeholder": "​",
            "style": "IPY_MODEL_b8aac3959ef449bd87477d76601313a0",
            "value": "Generating train split: 100%"
          }
        },
        "e65811fd798a4ab2a812fe0b43f9effb": {
          "model_module": "@jupyter-widgets/controls",
          "model_module_version": "1.5.0",
          "model_name": "ProgressStyleModel",
          "state": {
            "_model_module": "@jupyter-widgets/controls",
            "_model_module_version": "1.5.0",
            "_model_name": "ProgressStyleModel",
            "_view_count": null,
            "_view_module": "@jupyter-widgets/base",
            "_view_module_version": "1.2.0",
            "_view_name": "StyleView",
            "bar_color": null,
            "description_width": ""
          }
        },
        "e8bb5ebcaf074b50a0aad02d32d7dda9": {
          "model_module": "@jupyter-widgets/base",
          "model_module_version": "1.2.0",
          "model_name": "LayoutModel",
          "state": {
            "_model_module": "@jupyter-widgets/base",
            "_model_module_version": "1.2.0",
            "_model_name": "LayoutModel",
            "_view_count": null,
            "_view_module": "@jupyter-widgets/base",
            "_view_module_version": "1.2.0",
            "_view_name": "LayoutView",
            "align_content": null,
            "align_items": null,
            "align_self": null,
            "border": null,
            "bottom": null,
            "display": null,
            "flex": null,
            "flex_flow": null,
            "grid_area": null,
            "grid_auto_columns": null,
            "grid_auto_flow": null,
            "grid_auto_rows": null,
            "grid_column": null,
            "grid_gap": null,
            "grid_row": null,
            "grid_template_areas": null,
            "grid_template_columns": null,
            "grid_template_rows": null,
            "height": null,
            "justify_content": null,
            "justify_items": null,
            "left": null,
            "margin": null,
            "max_height": null,
            "max_width": null,
            "min_height": null,
            "min_width": null,
            "object_fit": null,
            "object_position": null,
            "order": null,
            "overflow": null,
            "overflow_x": null,
            "overflow_y": null,
            "padding": null,
            "right": null,
            "top": null,
            "visibility": null,
            "width": null
          }
        },
        "ee3408f5084e4ed1bbc766acc5bb3650": {
          "model_module": "@jupyter-widgets/base",
          "model_module_version": "1.2.0",
          "model_name": "LayoutModel",
          "state": {
            "_model_module": "@jupyter-widgets/base",
            "_model_module_version": "1.2.0",
            "_model_name": "LayoutModel",
            "_view_count": null,
            "_view_module": "@jupyter-widgets/base",
            "_view_module_version": "1.2.0",
            "_view_name": "LayoutView",
            "align_content": null,
            "align_items": null,
            "align_self": null,
            "border": null,
            "bottom": null,
            "display": null,
            "flex": null,
            "flex_flow": null,
            "grid_area": null,
            "grid_auto_columns": null,
            "grid_auto_flow": null,
            "grid_auto_rows": null,
            "grid_column": null,
            "grid_gap": null,
            "grid_row": null,
            "grid_template_areas": null,
            "grid_template_columns": null,
            "grid_template_rows": null,
            "height": null,
            "justify_content": null,
            "justify_items": null,
            "left": null,
            "margin": null,
            "max_height": null,
            "max_width": null,
            "min_height": null,
            "min_width": null,
            "object_fit": null,
            "object_position": null,
            "order": null,
            "overflow": null,
            "overflow_x": null,
            "overflow_y": null,
            "padding": null,
            "right": null,
            "top": null,
            "visibility": null,
            "width": null
          }
        },
        "f65cf8b469f246c3a455323152a11a31": {
          "model_module": "@jupyter-widgets/controls",
          "model_module_version": "1.5.0",
          "model_name": "DescriptionStyleModel",
          "state": {
            "_model_module": "@jupyter-widgets/controls",
            "_model_module_version": "1.5.0",
            "_model_name": "DescriptionStyleModel",
            "_view_count": null,
            "_view_module": "@jupyter-widgets/base",
            "_view_module_version": "1.2.0",
            "_view_name": "StyleView",
            "description_width": ""
          }
        },
        "f6b309c0f07943b183f0ca6c63edff29": {
          "model_module": "@jupyter-widgets/controls",
          "model_module_version": "1.5.0",
          "model_name": "HBoxModel",
          "state": {
            "_dom_classes": [],
            "_model_module": "@jupyter-widgets/controls",
            "_model_module_version": "1.5.0",
            "_model_name": "HBoxModel",
            "_view_count": null,
            "_view_module": "@jupyter-widgets/controls",
            "_view_module_version": "1.5.0",
            "_view_name": "HBoxView",
            "box_style": "",
            "children": [
              "IPY_MODEL_e043edaec7224de18a59b5e046eca2d9",
              "IPY_MODEL_7851a7ca519f4da79a12a4f1e85917eb",
              "IPY_MODEL_bda6f578a6664afe8e7cb6e48700b796"
            ],
            "layout": "IPY_MODEL_2d31dea8c2da407fbb667f359c35d976"
          }
        },
        "fc6c05e69a4a4554bb5da79caa88a57c": {
          "model_module": "@jupyter-widgets/base",
          "model_module_version": "1.2.0",
          "model_name": "LayoutModel",
          "state": {
            "_model_module": "@jupyter-widgets/base",
            "_model_module_version": "1.2.0",
            "_model_name": "LayoutModel",
            "_view_count": null,
            "_view_module": "@jupyter-widgets/base",
            "_view_module_version": "1.2.0",
            "_view_name": "LayoutView",
            "align_content": null,
            "align_items": null,
            "align_self": null,
            "border": null,
            "bottom": null,
            "display": null,
            "flex": null,
            "flex_flow": null,
            "grid_area": null,
            "grid_auto_columns": null,
            "grid_auto_flow": null,
            "grid_auto_rows": null,
            "grid_column": null,
            "grid_gap": null,
            "grid_row": null,
            "grid_template_areas": null,
            "grid_template_columns": null,
            "grid_template_rows": null,
            "height": null,
            "justify_content": null,
            "justify_items": null,
            "left": null,
            "margin": null,
            "max_height": null,
            "max_width": null,
            "min_height": null,
            "min_width": null,
            "object_fit": null,
            "object_position": null,
            "order": null,
            "overflow": null,
            "overflow_x": null,
            "overflow_y": null,
            "padding": null,
            "right": null,
            "top": null,
            "visibility": null,
            "width": null
          }
        }
      }
    }
  },
  "nbformat": 4,
  "nbformat_minor": 5
}
