{
  "cells": [
    {
      "cell_type": "markdown",
      "id": "36fd1367",
      "metadata": {
        "id": "36fd1367"
      },
      "source": [
        "# 텍스트 데이터 전처리 실습 노트북\n",
        "30가지 기법을 실습하며 배우는 텍스트 정제"
      ]
    },
    {
      "cell_type": "code",
      "execution_count": 3,
      "id": "3ZXaIijBT4Sw",
      "metadata": {
        "id": "3ZXaIijBT4Sw"
      },
      "outputs": [],
      "source": [
        "!pip install -U -q datasets huggingface_hub fsspec"
      ]
    },
    {
      "cell_type": "markdown",
      "id": "f06614ab",
      "metadata": {
        "id": "f06614ab"
      },
      "source": [
        "## 📦 1. 데이터 불러오기 (IMDB)"
      ]
    },
    {
      "cell_type": "code",
      "execution_count": 4,
      "id": "7b855ffb",
      "metadata": {
        "colab": {
          "base_uri": "https://localhost:8080/",
          "height": 368,
          "referenced_widgets": [
            "85126d9f10d242ea94aa82a36c5c6392",
            "144f82c78c00426da0f01c938cf7cd33",
            "eeadcd01d6544d8e8d92c7a694320770",
            "afbce1186c94461086b39d24811d3634",
            "64991c8d95624a9e85a36ce6e23aec31",
            "c9360988a1c2435484c8df8ed63bc604",
            "4535f02fd3ad464c9439eb04dbc2de5f",
            "27125920194e4f33a9dcd379d2808bca",
            "c54501ba74ef4e46b1e76be369e3d0df",
            "eee14c7ed314426a879b9335e2c8122a",
            "57199e3327e846dab0ae73ac03821819",
            "99662a62cb1d4c689526d7cc34dcde26",
            "ff64f7b7485b463eae620a0ca147c83e",
            "2537984525b548a0943e952ee3b453f5",
            "85809281f3c147c987e50e2505a5990d",
            "67e76325b109492ead37adcbe0a81bea",
            "bcdc86f2e10147c887851e1507dbcab1",
            "04117f3cce384a9f875e9b15d9b03119",
            "7393311e5ad14720aebded1b67b2924c",
            "8dee8127a57648bf83f057e70fca9ea2",
            "ae0bf76b1e314b3185747f20d9432a86",
            "31be438fb7eb44c0ad3de007e7a31b6c",
            "e2d795ecb6de45dba5fc861a5c456921",
            "cfcbd8f0c2eb48558d6233c358e949d4",
            "666f5fc88739423384434677d143e891",
            "2370d6683ae549b3baebf47cc30e98d7",
            "b21f70b36fde4491ba4eb4a8235947fe",
            "515c7b809da4477f82b70ef8cc9c94b9",
            "17e110641e334855912998e323972e79",
            "28499aff503c429282297037a439528c",
            "da88790dd53c4c0d9f45d366242959ce",
            "92b35373a3b94489b3bf0404c8c4c790",
            "6be09136eff749e2999b6c1fec8b6104",
            "b64f0618c6b944faad3c2360b9d55690",
            "ceedcf183625461f81e201cda52ca4b5",
            "ca63cb2408064428b2bb83c3a4e80d3f",
            "d2d1e9f4f30b4555a4df959800ff31fd",
            "27fa557be3d04c65bc2943c1b6308c67",
            "f7206dfbbc6a4fb69c3cef046ef037c2",
            "a3cc821904f84c90bc4872e76b4ecca1",
            "bea64b8cbe6a4583b2aa84ee30e5cf83",
            "68651aba64d94baa97e41bfe56f8ad56",
            "c7eb987d0a7c45e4a5abce3aeada7c88",
            "6cd595c9e7f249ffa49fd156704d23a4",
            "bd83859167664a4a85407f98cd669cbb",
            "8f856aadbb814149b7ba3ae7c332e667",
            "66a8348c78c04ba9a6e51b8a94737e39",
            "bd4780c614f843d6b3dd95eab12d80e6",
            "de0b01b53a684e8ea050c8f0d232ecdf",
            "e4145fcf0af34852a72611d9880da585",
            "ce30701446a24265bbe29e872008bff8",
            "4204e7d19b94405e9afd8941064b507f",
            "d40001482a72425aabe7cc561b8c1d0e",
            "a22f373610014770b64cc059eb5367a1",
            "a00c2dbb9c2a42d48e6f2b7808fe1cd6",
            "f144e994e87e42e0acd45e7aad2ad544",
            "7527cd045f8644b1abf29a94ece5bfc5",
            "bdc2b787b21043a3a7c7ba3717559291",
            "597d046ac1f64228b264b105e58eecd4",
            "f8d761c0697546689104cb557516eac4",
            "c096226b0d7e401fa5df41e514a691cc",
            "70ec168e18464ebd8fc325b593b49dc9",
            "6855ee5311a54c3b8b97169d521137fe",
            "4223ad4261ce4cc5b85760018b6b4dd7",
            "f61c6c10fd0946fe8e9751157f3b6b18",
            "4cbbdf4a4bec450da8bc63d1c09083a4",
            "2619ca6f3bef4d7e839301d81b5f3231",
            "f03e417ad84b4341a081d15d4dbf9451",
            "c19f6090cbad47bdac44e44ba8720b8e",
            "1c60c1fb3dbe4122afc929162df5a538",
            "31eeb23c83304981bfc85fcacfc26512",
            "234e7b00037743289a32949455c1fb73",
            "649248d5c66d42ddb971c824282b3877",
            "de6aff5a286148e28ecce0cf2824e006",
            "7a2662feb89043018741f5e520d74e45",
            "5d472e67c06643eebc17585572e67155",
            "9047630dbca54a7ea1dd5ebfa0f0c6df"
          ]
        },
        "id": "7b855ffb",
        "outputId": "153e4c8b-9202-4ae5-977a-5a3e8d0458d3"
      },
      "outputs": [
        {
          "output_type": "stream",
          "name": "stderr",
          "text": [
            "/usr/local/lib/python3.12/dist-packages/huggingface_hub/utils/_auth.py:94: UserWarning: \n",
            "The secret `HF_TOKEN` does not exist in your Colab secrets.\n",
            "To authenticate with the Hugging Face Hub, create a token in your settings tab (https://huggingface.co/settings/tokens), set it as secret in your Google Colab and restart your session.\n",
            "You will be able to reuse this secret in all of your notebooks.\n",
            "Please note that authentication is recommended but still optional to access public models or datasets.\n",
            "  warnings.warn(\n"
          ]
        },
        {
          "output_type": "display_data",
          "data": {
            "text/plain": [
              "README.md: 0.00B [00:00, ?B/s]"
            ],
            "application/vnd.jupyter.widget-view+json": {
              "version_major": 2,
              "version_minor": 0,
              "model_id": "85126d9f10d242ea94aa82a36c5c6392"
            }
          },
          "metadata": {}
        },
        {
          "output_type": "display_data",
          "data": {
            "text/plain": [
              "plain_text/train-00000-of-00001.parquet:   0%|          | 0.00/21.0M [00:00<?, ?B/s]"
            ],
            "application/vnd.jupyter.widget-view+json": {
              "version_major": 2,
              "version_minor": 0,
              "model_id": "99662a62cb1d4c689526d7cc34dcde26"
            }
          },
          "metadata": {}
        },
        {
          "output_type": "display_data",
          "data": {
            "text/plain": [
              "plain_text/test-00000-of-00001.parquet:   0%|          | 0.00/20.5M [00:00<?, ?B/s]"
            ],
            "application/vnd.jupyter.widget-view+json": {
              "version_major": 2,
              "version_minor": 0,
              "model_id": "e2d795ecb6de45dba5fc861a5c456921"
            }
          },
          "metadata": {}
        },
        {
          "output_type": "display_data",
          "data": {
            "text/plain": [
              "plain_text/unsupervised-00000-of-00001.p(…):   0%|          | 0.00/42.0M [00:00<?, ?B/s]"
            ],
            "application/vnd.jupyter.widget-view+json": {
              "version_major": 2,
              "version_minor": 0,
              "model_id": "b64f0618c6b944faad3c2360b9d55690"
            }
          },
          "metadata": {}
        },
        {
          "output_type": "display_data",
          "data": {
            "text/plain": [
              "Generating train split:   0%|          | 0/25000 [00:00<?, ? examples/s]"
            ],
            "application/vnd.jupyter.widget-view+json": {
              "version_major": 2,
              "version_minor": 0,
              "model_id": "bd83859167664a4a85407f98cd669cbb"
            }
          },
          "metadata": {}
        },
        {
          "output_type": "display_data",
          "data": {
            "text/plain": [
              "Generating test split:   0%|          | 0/25000 [00:00<?, ? examples/s]"
            ],
            "application/vnd.jupyter.widget-view+json": {
              "version_major": 2,
              "version_minor": 0,
              "model_id": "f144e994e87e42e0acd45e7aad2ad544"
            }
          },
          "metadata": {}
        },
        {
          "output_type": "display_data",
          "data": {
            "text/plain": [
              "Generating unsupervised split:   0%|          | 0/50000 [00:00<?, ? examples/s]"
            ],
            "application/vnd.jupyter.widget-view+json": {
              "version_major": 2,
              "version_minor": 0,
              "model_id": "2619ca6f3bef4d7e839301d81b5f3231"
            }
          },
          "metadata": {}
        }
      ],
      "source": [
        "from datasets import load_dataset\n",
        "dataset = load_dataset(\"stanfordnlp/imdb\") # https://huggingface.co/datasets/stanfordnlp/imdb\n",
        "text = dataset[\"train\"][0][\"text\"]\n"
      ]
    },
    {
      "cell_type": "code",
      "execution_count": 5,
      "id": "-qxsngZ2UE_0",
      "metadata": {
        "colab": {
          "base_uri": "https://localhost:8080/"
        },
        "id": "-qxsngZ2UE_0",
        "outputId": "581a193b-caae-4b80-ea7b-7a5506d76fb3"
      },
      "outputs": [
        {
          "output_type": "execute_result",
          "data": {
            "text/plain": [
              "{'text': \"This film was probably inspired by Godard's Masculin, féminin and I urge you to see that film instead.<br /><br />The film has two strong elements and those are, (1) the realistic acting (2) the impressive, undeservedly good, photo. Apart from that, what strikes me most is the endless stream of silliness. Lena Nyman has to be most annoying actress in the world. She acts so stupid and with all the nudity in this film,...it's unattractive. Comparing to Godard's film, intellectuality has been replaced with stupidity. Without going too far on this subject, I would say that follows from the difference in ideals between the French and the Swedish society.<br /><br />A movie of its time, and place. 2/10.\",\n",
              " 'label': 0}"
            ]
          },
          "metadata": {},
          "execution_count": 5
        }
      ],
      "source": [
        "import json\n",
        "dataset[\"train\"][3]"
      ]
    },
    {
      "cell_type": "code",
      "execution_count": 6,
      "id": "EIXSrW5_UEZq",
      "metadata": {
        "colab": {
          "base_uri": "https://localhost:8080/"
        },
        "id": "EIXSrW5_UEZq",
        "outputId": "0ca07238-f40d-4470-e70c-9fea97cb1d05"
      },
      "outputs": [
        {
          "output_type": "stream",
          "name": "stdout",
          "text": [
            "I rented I AM CURIOUS-YELLOW from my video store because of all the controversy that surrounded it when it was first released in 1967. I also heard that at first it was seized by U.S. customs if it ever tried to enter this country, therefore being a fan of films considered \"controversial\" I really had to see this for myself.<br /><br />The plot is centered around a young Swedish drama student named Lena who wants to learn everything she can about life. In particular she wants to focus her attentions to making some sort of documentary on what the average Swede thought about certain political issues such as the Vietnam War and race issues in the United States. In between asking politicians and ordinary denizens of Stockholm about their opinions on politics, she has sex with her drama teacher, classmates, and married men.<br /><br />What kills me about I AM CURIOUS-YELLOW is that 40 years ago, this was considered pornographic. Really, the sex and nudity scenes are few and far between, even then it's not shot like some cheaply made porno. While my countrymen mind find it shocking, in reality sex and nudity are a major staple in Swedish cinema. Even Ingmar Bergman, arguably their answer to good old boy John Ford, had sex scenes in his films.<br /><br />I do commend the filmmakers for the fact that any sex shown in the film is shown for artistic purposes rather than just to shock people and make money to be shown in pornographic theaters in America. I AM CURIOUS-YELLOW is a good film for anyone wanting to study the meat and potatoes (no pun intended) of Swedish cinema. But really, this film doesn't have much of a plot.\n"
          ]
        }
      ],
      "source": [
        "print(text)"
      ]
    },
    {
      "cell_type": "markdown",
      "id": "3c5db046",
      "metadata": {
        "id": "3c5db046"
      },
      "source": [
        "## 🔹 텍스트 전처리 개요\n",
        "- 텍스트 전처리는 자연어 처리(NLP)에서 모델 학습을 위한 데이터 품질을 높이는 핵심 전 단계입니다.\n",
        "- 정제된 텍스트는 노이즈를 줄이고 모델의 일반화 성능을 향상시킵니다.\n",
        "- 응용 분야: 감성 분석, 챗봇, 기계번역, 요약 등 다양한 NLP Task\n",
        "\n",
        "📌 예시: 예시: 'I LoVe this movie!!! 😍😍😍' → 'i love this movie'"
      ]
    },
    {
      "cell_type": "markdown",
      "id": "98dc4182",
      "metadata": {
        "id": "98dc4182"
      },
      "source": [
        "## 🔹 전처리 파이프라인\n",
        "- 일반적인 순서: 텍스트 수집 → 정제 → 정규화 → 토큰화 → 정렬 및 저장\n",
        "- 파이프라인 구성은 도메인(의료, SNS, 뉴스 등)에 따라 달라질 수 있음\n",
        "\n",
        "📌 예시: IMDB 리뷰 → 소문자화 → 구두점 제거 → 불용어 제거 → Stemming → Token화"
      ]
    },
    {
      "cell_type": "markdown",
      "id": "fb9e2fbe",
      "metadata": {
        "id": "fb9e2fbe"
      },
      "source": [
        "## 🔹 소문자화 (Lowercasing)\n",
        "- 대문자/소문자 구분을 없애 단어 형태 통일\n",
        "- 특히 영어권 언어에서는 필수 전처리 단계\n",
        "- 예외 상황: 고유명사 식별이 중요한 Task에선 사용하지 않기도 함\n",
        "\n",
        "📌 예시: 'Apple is great.' → 'apple is great.'"
      ]
    },
    {
      "cell_type": "code",
      "execution_count": 7,
      "id": "ada6a580",
      "metadata": {
        "colab": {
          "base_uri": "https://localhost:8080/",
          "height": 143
        },
        "id": "ada6a580",
        "outputId": "1ff43c7d-75a5-4146-b447-2a4e14d817f9"
      },
      "outputs": [
        {
          "output_type": "execute_result",
          "data": {
            "text/plain": [
              "'i rented i am curious-yellow from my video store because of all the controversy that surrounded it when it was first released in 1967. i also heard that at first it was seized by u.s. customs if it ever tried to enter this country, therefore being a fan of films considered \"controversial\" i really had to see this for myself.<br /><br />the plot is centered around a young swedish drama student named lena who wants to learn everything she can about life. in particular she wants to focus her attentions to making some sort of documentary on what the average swede thought about certain political issues such as the vietnam war and race issues in the united states. in between asking politicians and ordinary denizens of stockholm about their opinions on politics, she has sex with her drama teacher, classmates, and married men.<br /><br />what kills me about i am curious-yellow is that 40 years ago, this was considered pornographic. really, the sex and nudity scenes are few and far between, even then it\\'s not shot like some cheaply made porno. while my countrymen mind find it shocking, in reality sex and nudity are a major staple in swedish cinema. even ingmar bergman, arguably their answer to good old boy john ford, had sex scenes in his films.<br /><br />i do commend the filmmakers for the fact that any sex shown in the film is shown for artistic purposes rather than just to shock people and make money to be shown in pornographic theaters in america. i am curious-yellow is a good film for anyone wanting to study the meat and potatoes (no pun intended) of swedish cinema. but really, this film doesn\\'t have much of a plot.'"
            ],
            "application/vnd.google.colaboratory.intrinsic+json": {
              "type": "string"
            }
          },
          "metadata": {},
          "execution_count": 7
        }
      ],
      "source": [
        "text.lower()"
      ]
    },
    {
      "cell_type": "markdown",
      "id": "589f59db",
      "metadata": {
        "id": "589f59db"
      },
      "source": [
        "## 🔹 구두점 제거 (Punctuation Removal)\n",
        "- 문장부호는 일반적으로 의미를 가지지 않아 제거 대상\n",
        "- 단, 감정 분석에서 느낌표(!)는 보존할 수도 있음\n",
        "\n",
        "📌 예시: 'I love it!!!' → 'I love it'"
      ]
    },
    {
      "cell_type": "code",
      "execution_count": 8,
      "id": "01a55553",
      "metadata": {
        "colab": {
          "base_uri": "https://localhost:8080/",
          "height": 143
        },
        "id": "01a55553",
        "outputId": "034f9792-2fde-4442-f938-5c6c036883d0"
      },
      "outputs": [
        {
          "output_type": "execute_result",
          "data": {
            "text/plain": [
              "'I rented I AM CURIOUSYELLOW from my video store because of all the controversy that surrounded it when it was first released in 1967 I also heard that at first it was seized by US customs if it ever tried to enter this country therefore being a fan of films considered controversial I really had to see this for myselfbr br The plot is centered around a young Swedish drama student named Lena who wants to learn everything she can about life In particular she wants to focus her attentions to making some sort of documentary on what the average Swede thought about certain political issues such as the Vietnam War and race issues in the United States In between asking politicians and ordinary denizens of Stockholm about their opinions on politics she has sex with her drama teacher classmates and married menbr br What kills me about I AM CURIOUSYELLOW is that 40 years ago this was considered pornographic Really the sex and nudity scenes are few and far between even then its not shot like some cheaply made porno While my countrymen mind find it shocking in reality sex and nudity are a major staple in Swedish cinema Even Ingmar Bergman arguably their answer to good old boy John Ford had sex scenes in his filmsbr br I do commend the filmmakers for the fact that any sex shown in the film is shown for artistic purposes rather than just to shock people and make money to be shown in pornographic theaters in America I AM CURIOUSYELLOW is a good film for anyone wanting to study the meat and potatoes no pun intended of Swedish cinema But really this film doesnt have much of a plot'"
            ],
            "application/vnd.google.colaboratory.intrinsic+json": {
              "type": "string"
            }
          },
          "metadata": {},
          "execution_count": 8
        }
      ],
      "source": [
        "import re\n",
        "re.sub(r'[^\\w\\s]', '', text)"
      ]
    },
    {
      "cell_type": "markdown",
      "id": "a3fe6b4f",
      "metadata": {
        "id": "a3fe6b4f"
      },
      "source": [
        "## 🔹 불용어 제거 (Stopwords)\n",
        "- 불용어는 'the', 'is', 'and'와 같이 자주 등장하지만 정보량이 적은 단어들\n",
        "- 대부분의 NLP 라이브러리(nltk, spaCy)에서 지원\n",
        "- 불용어 제거는 토픽 모델링, 문서 분류 등에서 유용\n",
        "\n",
        "📌 예시: 'this is a good movie' → 'good movie'"
      ]
    },
    {
      "cell_type": "code",
      "execution_count": 9,
      "id": "2yTe3EquU2mO",
      "metadata": {
        "colab": {
          "base_uri": "https://localhost:8080/"
        },
        "id": "2yTe3EquU2mO",
        "outputId": "08d6a394-c945-4cea-d9ef-a213d5e5dfa3"
      },
      "outputs": [
        {
          "output_type": "stream",
          "name": "stderr",
          "text": [
            "[nltk_data] Downloading package stopwords to /root/nltk_data...\n",
            "[nltk_data]   Unzipping corpora/stopwords.zip.\n"
          ]
        },
        {
          "output_type": "execute_result",
          "data": {
            "text/plain": [
              "True"
            ]
          },
          "metadata": {},
          "execution_count": 9
        }
      ],
      "source": [
        ">>> import nltk\n",
        ">>> nltk.download('stopwords')"
      ]
    },
    {
      "cell_type": "code",
      "execution_count": 10,
      "id": "aJ3nOSHXUuk9",
      "metadata": {
        "colab": {
          "base_uri": "https://localhost:8080/"
        },
        "id": "aJ3nOSHXUuk9",
        "outputId": "ac5ce074-6357-4e8d-bb55-ad3ec2d56f9b"
      },
      "outputs": [
        {
          "output_type": "execute_result",
          "data": {
            "text/plain": [
              "{'a',\n",
              " 'about',\n",
              " 'above',\n",
              " 'after',\n",
              " 'again',\n",
              " 'against',\n",
              " 'ain',\n",
              " 'all',\n",
              " 'am',\n",
              " 'an',\n",
              " 'and',\n",
              " 'any',\n",
              " 'are',\n",
              " 'aren',\n",
              " \"aren't\",\n",
              " 'as',\n",
              " 'at',\n",
              " 'be',\n",
              " 'because',\n",
              " 'been',\n",
              " 'before',\n",
              " 'being',\n",
              " 'below',\n",
              " 'between',\n",
              " 'both',\n",
              " 'but',\n",
              " 'by',\n",
              " 'can',\n",
              " 'couldn',\n",
              " \"couldn't\",\n",
              " 'd',\n",
              " 'did',\n",
              " 'didn',\n",
              " \"didn't\",\n",
              " 'do',\n",
              " 'does',\n",
              " 'doesn',\n",
              " \"doesn't\",\n",
              " 'doing',\n",
              " 'don',\n",
              " \"don't\",\n",
              " 'down',\n",
              " 'during',\n",
              " 'each',\n",
              " 'few',\n",
              " 'for',\n",
              " 'from',\n",
              " 'further',\n",
              " 'had',\n",
              " 'hadn',\n",
              " \"hadn't\",\n",
              " 'has',\n",
              " 'hasn',\n",
              " \"hasn't\",\n",
              " 'have',\n",
              " 'haven',\n",
              " \"haven't\",\n",
              " 'having',\n",
              " 'he',\n",
              " \"he'd\",\n",
              " \"he'll\",\n",
              " \"he's\",\n",
              " 'her',\n",
              " 'here',\n",
              " 'hers',\n",
              " 'herself',\n",
              " 'him',\n",
              " 'himself',\n",
              " 'his',\n",
              " 'how',\n",
              " 'i',\n",
              " \"i'd\",\n",
              " \"i'll\",\n",
              " \"i'm\",\n",
              " \"i've\",\n",
              " 'if',\n",
              " 'in',\n",
              " 'into',\n",
              " 'is',\n",
              " 'isn',\n",
              " \"isn't\",\n",
              " 'it',\n",
              " \"it'd\",\n",
              " \"it'll\",\n",
              " \"it's\",\n",
              " 'its',\n",
              " 'itself',\n",
              " 'just',\n",
              " 'll',\n",
              " 'm',\n",
              " 'ma',\n",
              " 'me',\n",
              " 'mightn',\n",
              " \"mightn't\",\n",
              " 'more',\n",
              " 'most',\n",
              " 'mustn',\n",
              " \"mustn't\",\n",
              " 'my',\n",
              " 'myself',\n",
              " 'needn',\n",
              " \"needn't\",\n",
              " 'no',\n",
              " 'nor',\n",
              " 'not',\n",
              " 'now',\n",
              " 'o',\n",
              " 'of',\n",
              " 'off',\n",
              " 'on',\n",
              " 'once',\n",
              " 'only',\n",
              " 'or',\n",
              " 'other',\n",
              " 'our',\n",
              " 'ours',\n",
              " 'ourselves',\n",
              " 'out',\n",
              " 'over',\n",
              " 'own',\n",
              " 're',\n",
              " 's',\n",
              " 'same',\n",
              " 'shan',\n",
              " \"shan't\",\n",
              " 'she',\n",
              " \"she'd\",\n",
              " \"she'll\",\n",
              " \"she's\",\n",
              " 'should',\n",
              " \"should've\",\n",
              " 'shouldn',\n",
              " \"shouldn't\",\n",
              " 'so',\n",
              " 'some',\n",
              " 'such',\n",
              " 't',\n",
              " 'than',\n",
              " 'that',\n",
              " \"that'll\",\n",
              " 'the',\n",
              " 'their',\n",
              " 'theirs',\n",
              " 'them',\n",
              " 'themselves',\n",
              " 'then',\n",
              " 'there',\n",
              " 'these',\n",
              " 'they',\n",
              " \"they'd\",\n",
              " \"they'll\",\n",
              " \"they're\",\n",
              " \"they've\",\n",
              " 'this',\n",
              " 'those',\n",
              " 'through',\n",
              " 'to',\n",
              " 'too',\n",
              " 'under',\n",
              " 'until',\n",
              " 'up',\n",
              " 've',\n",
              " 'very',\n",
              " 'was',\n",
              " 'wasn',\n",
              " \"wasn't\",\n",
              " 'we',\n",
              " \"we'd\",\n",
              " \"we'll\",\n",
              " \"we're\",\n",
              " \"we've\",\n",
              " 'were',\n",
              " 'weren',\n",
              " \"weren't\",\n",
              " 'what',\n",
              " 'when',\n",
              " 'where',\n",
              " 'which',\n",
              " 'while',\n",
              " 'who',\n",
              " 'whom',\n",
              " 'why',\n",
              " 'will',\n",
              " 'with',\n",
              " 'won',\n",
              " \"won't\",\n",
              " 'wouldn',\n",
              " \"wouldn't\",\n",
              " 'y',\n",
              " 'you',\n",
              " \"you'd\",\n",
              " \"you'll\",\n",
              " \"you're\",\n",
              " \"you've\",\n",
              " 'your',\n",
              " 'yours',\n",
              " 'yourself',\n",
              " 'yourselves'}"
            ]
          },
          "metadata": {},
          "execution_count": 10
        }
      ],
      "source": [
        "from nltk.corpus import stopwords\n",
        "stop_words = set(stopwords.words('english'))\n",
        "stop_words"
      ]
    },
    {
      "cell_type": "code",
      "execution_count": 11,
      "id": "e0b059de",
      "metadata": {
        "colab": {
          "base_uri": "https://localhost:8080/"
        },
        "id": "e0b059de",
        "outputId": "8ebb574c-3731-41fe-90c8-6fe374f4d2b2"
      },
      "outputs": [
        {
          "output_type": "execute_result",
          "data": {
            "text/plain": [
              "['rented',\n",
              " 'CURIOUS-YELLOW',\n",
              " 'video',\n",
              " 'store',\n",
              " 'controversy',\n",
              " 'surrounded',\n",
              " 'first',\n",
              " 'released',\n",
              " '1967.',\n",
              " 'also',\n",
              " 'heard',\n",
              " 'first',\n",
              " 'seized',\n",
              " 'U.S.',\n",
              " 'customs',\n",
              " 'ever',\n",
              " 'tried',\n",
              " 'enter',\n",
              " 'country,',\n",
              " 'therefore']"
            ]
          },
          "metadata": {},
          "execution_count": 11
        }
      ],
      "source": [
        "tokens = [w for w in text.split() if w.lower() not in stop_words]\n",
        "tokens[:20]"
      ]
    },
    {
      "cell_type": "markdown",
      "id": "4534baae",
      "metadata": {
        "id": "4534baae"
      },
      "source": [
        "## 🔹 불균형 단어 제거 (빈도 기반)\n",
        "- 전체 코퍼스에서 너무 자주 혹은 너무 드물게 등장하는 단어 제거\n",
        "- 적용 Task: BoW, TF-IDF 기반 분류, 토픽 모델링 등\n",
        "- 하위 5% 미만, 상위 1% 초과 등 통계 기반 기준 활용\n",
        "\n",
        "📌 예시: 빈도가 높은 'movie', 'film', 낮은 'xyzabc123' 제거"
      ]
    },
    {
      "cell_type": "code",
      "execution_count": 12,
      "id": "Lt7fMrWdVK9k",
      "metadata": {
        "colab": {
          "base_uri": "https://localhost:8080/"
        },
        "id": "Lt7fMrWdVK9k",
        "outputId": "389a9f28-9b5e-4528-d190-2022775869ff"
      },
      "outputs": [
        {
          "output_type": "stream",
          "name": "stdout",
          "text": [
            "['I', 'rented', 'I', 'AM', 'CURIOUS-YELLOW', 'from', 'my', 'video', 'store', 'because', 'of', 'all', 'the', 'controversy', 'that', 'surrounded', 'it', 'when', 'it', 'was']\n"
          ]
        }
      ],
      "source": [
        "from collections import Counter\n",
        "words = text.split()\n",
        "print(words[:20])\n"
      ]
    },
    {
      "cell_type": "code",
      "execution_count": 13,
      "id": "8acc7fcf",
      "metadata": {
        "colab": {
          "base_uri": "https://localhost:8080/"
        },
        "id": "8acc7fcf",
        "outputId": "97076498-29e3-4ba8-c72d-611b7d1c90be"
      },
      "outputs": [
        {
          "output_type": "execute_result",
          "data": {
            "text/plain": [
              "['I',\n",
              " 'I',\n",
              " 'of',\n",
              " 'the',\n",
              " 'in',\n",
              " 'I',\n",
              " 'to',\n",
              " 'of',\n",
              " 'I',\n",
              " 'to',\n",
              " 'to',\n",
              " 'to',\n",
              " 'to',\n",
              " 'of',\n",
              " 'the',\n",
              " 'the',\n",
              " 'and',\n",
              " 'in',\n",
              " 'the',\n",
              " 'and']"
            ]
          },
          "metadata": {},
          "execution_count": 13
        }
      ],
      "source": [
        "freq = Counter(words)\n",
        "filtered = [w for w in words if freq[w] > 5 ]\n",
        "filtered[:20]"
      ]
    },
    {
      "cell_type": "markdown",
      "id": "58a585c0",
      "metadata": {
        "id": "58a585c0"
      },
      "source": [
        "## 🔹 Stemming (어간 추출)\n",
        "- 단어에서 접미어 제거하여 어근으로 환원 (예: playing → play)\n",
        "- PorterStemmer, LancasterStemmer 등이 대표적\n",
        "- 의미 보존보다 형태 통일 목적\n",
        "\n",
        "📌 예시: 'running', 'runner', 'ran' → 'run'"
      ]
    },
    {
      "cell_type": "code",
      "execution_count": 14,
      "id": "63d93dd5",
      "metadata": {
        "colab": {
          "base_uri": "https://localhost:8080/"
        },
        "id": "63d93dd5",
        "outputId": "f8377604-4566-4fa1-a245-ce3e5f48ca0d"
      },
      "outputs": [
        {
          "output_type": "stream",
          "name": "stdout",
          "text": [
            "['I', 'rented', 'I', 'AM', 'CURIOUS-YELLOW', 'from', 'my', 'video', 'store', 'because', 'of', 'all', 'the', 'controversy', 'that', 'surrounded', 'it', 'when', 'it', 'was']\n"
          ]
        },
        {
          "output_type": "execute_result",
          "data": {
            "text/plain": [
              "['i',\n",
              " 'rent',\n",
              " 'i',\n",
              " 'am',\n",
              " 'curious-yellow',\n",
              " 'from',\n",
              " 'my',\n",
              " 'video',\n",
              " 'store',\n",
              " 'becaus',\n",
              " 'of',\n",
              " 'all',\n",
              " 'the',\n",
              " 'controversi',\n",
              " 'that',\n",
              " 'surround',\n",
              " 'it',\n",
              " 'when',\n",
              " 'it',\n",
              " 'wa']"
            ]
          },
          "metadata": {},
          "execution_count": 14
        }
      ],
      "source": [
        "from nltk.stem import PorterStemmer\n",
        "stemmer = PorterStemmer()\n",
        "print(words[:20])\n",
        "\n",
        "stemmed = [stemmer.stem(word) for word in text.split()]\n",
        "stemmed[:20]"
      ]
    },
    {
      "cell_type": "code",
      "execution_count": 15,
      "id": "gHH-uVQ1WmWW",
      "metadata": {
        "colab": {
          "base_uri": "https://localhost:8080/"
        },
        "id": "gHH-uVQ1WmWW",
        "outputId": "14a6e55b-c45e-4526-f280-43bf8d6ba1b8"
      },
      "outputs": [
        {
          "output_type": "stream",
          "name": "stdout",
          "text": [
            "['I', 'rented', 'I', 'AM', 'CURIOUS-YELLOW', 'from', 'my', 'video', 'store', 'because', 'of', 'all', 'the', 'controversy', 'that', 'surrounded', 'it', 'when', 'it', 'was']\n"
          ]
        },
        {
          "output_type": "execute_result",
          "data": {
            "text/plain": [
              "['i',\n",
              " 'rent',\n",
              " 'i',\n",
              " 'am',\n",
              " 'curious-yellow',\n",
              " 'from',\n",
              " 'my',\n",
              " 'video',\n",
              " 'store',\n",
              " 'becaus',\n",
              " 'of',\n",
              " 'all',\n",
              " 'the',\n",
              " 'controversi',\n",
              " 'that',\n",
              " 'surround',\n",
              " 'it',\n",
              " 'when',\n",
              " 'it',\n",
              " 'was']"
            ]
          },
          "metadata": {},
          "execution_count": 15
        }
      ],
      "source": [
        "from nltk.stem import SnowballStemmer\n",
        "stemmer = SnowballStemmer(language='english')\n",
        "print(words[:20])\n",
        "\n",
        "stemmed = [stemmer.stem(word) for word in text.split()]\n",
        "stemmed[:20]"
      ]
    },
    {
      "cell_type": "markdown",
      "id": "f70579a8",
      "metadata": {
        "id": "f70579a8"
      },
      "source": [
        "## 🔹 Lemmatization (표제어 추출)\n",
        "- 문맥과 품사에 따라 단어의 사전형으로 환원\n",
        "- spaCy, nltk 지원. 품사 정보가 필요함\n",
        "- Stemming보다 정확하지만 계산 비용 높음\n",
        "\n",
        "📌 예시: 'better' → 'good', 'was' → 'be'"
      ]
    },
    {
      "cell_type": "code",
      "execution_count": 16,
      "id": "91be38db",
      "metadata": {
        "colab": {
          "base_uri": "https://localhost:8080/"
        },
        "id": "91be38db",
        "outputId": "07dd14bd-4312-4ad3-91c8-69c645210c1e"
      },
      "outputs": [
        {
          "output_type": "stream",
          "name": "stdout",
          "text": [
            "['I', 'rented', 'I', 'AM', 'CURIOUS', '-', 'YELLOW', 'from', 'my', 'video', 'store', 'because', 'of', 'all', 'the', 'controversy', 'that', 'surrounded', 'it', 'when']\n"
          ]
        },
        {
          "output_type": "execute_result",
          "data": {
            "text/plain": [
              "['I',\n",
              " 'rent',\n",
              " 'I',\n",
              " 'be',\n",
              " 'CURIOUS',\n",
              " '-',\n",
              " 'yellow',\n",
              " 'from',\n",
              " 'my',\n",
              " 'video',\n",
              " 'store',\n",
              " 'because',\n",
              " 'of',\n",
              " 'all',\n",
              " 'the',\n",
              " 'controversy',\n",
              " 'that',\n",
              " 'surround',\n",
              " 'it',\n",
              " 'when']"
            ]
          },
          "metadata": {},
          "execution_count": 16
        }
      ],
      "source": [
        "import spacy\n",
        "nlp = spacy.load(\"en_core_web_sm\")\n",
        "doc = nlp(text)\n",
        "lemmas = [token.lemma_ for token in doc]\n",
        "texts = [token.text for token in doc]\n",
        "print(texts[:20])\n",
        "lemmas[:20]"
      ]
    },
    {
      "cell_type": "markdown",
      "id": "9d65e61d",
      "metadata": {
        "id": "9d65e61d"
      },
      "source": [
        "## 🔹 정규화 - 날짜 및 숫자 처리\n",
        "- 날짜 형식 표준화: Jan 20th → 2023-01-20\n",
        "- 숫자 통일: 5k → 5000, 1M → 1000000\n",
        "- 금액/단위/소수점 변환도 포함됨\n",
        "\n",
        "📌 예시: '5k followers' → '5000 followers'"
      ]
    },
    {
      "cell_type": "code",
      "execution_count": 17,
      "id": "3d9c4208",
      "metadata": {
        "colab": {
          "base_uri": "https://localhost:8080/",
          "height": 36
        },
        "id": "3d9c4208",
        "outputId": "a8297e9e-da55-4690-ff1e-b1871c8775ab"
      },
      "outputs": [
        {
          "output_type": "execute_result",
          "data": {
            "text/plain": [
              "'She earned 5000.'"
            ],
            "application/vnd.google.colaboratory.intrinsic+json": {
              "type": "string"
            }
          },
          "metadata": {},
          "execution_count": 17
        }
      ],
      "source": [
        "re.sub(r'\\b(\\d+)k\\b', lambda m: str(int(m.group(1)) * 1000), 'She earned 5k.')"
      ]
    },
    {
      "cell_type": "markdown",
      "id": "1bf82938",
      "metadata": {
        "id": "1bf82938"
      },
      "source": [
        "## 🔹 이모지 제거\n",
        "- 모델 학습 시 방해가 되는 비언어적 심볼 제거\n",
        "- 특히 뉴스, 법률 등 포멀 데이터에서는 반드시 제거\n",
        "- emoji 패키지 사용\n",
        "\n",
        "📌 예시: 'I love this! 😍😍' → 'I love this! '"
      ]
    },
    {
      "cell_type": "code",
      "execution_count": 18,
      "id": "pZyO-KpfXHQS",
      "metadata": {
        "id": "pZyO-KpfXHQS",
        "colab": {
          "base_uri": "https://localhost:8080/"
        },
        "outputId": "52c34f00-8223-4cc5-b4c3-489d231de7f0"
      },
      "outputs": [
        {
          "output_type": "stream",
          "name": "stdout",
          "text": [
            "\u001b[?25l   \u001b[90m━━━━━━━━━━━━━━━━━━━━━━━━━━━━━━━━━━━━━━━━\u001b[0m \u001b[32m0.0/608.4 kB\u001b[0m \u001b[31m?\u001b[0m eta \u001b[36m-:--:--\u001b[0m\r\u001b[2K   \u001b[91m━━━━━━━\u001b[0m\u001b[90m╺\u001b[0m\u001b[90m━━━━━━━━━━━━━━━━━━━━━━━━━━━━━━━━\u001b[0m \u001b[32m112.6/608.4 kB\u001b[0m \u001b[31m4.1 MB/s\u001b[0m eta \u001b[36m0:00:01\u001b[0m\r\u001b[2K   \u001b[91m━━━━━━━━━━━━━━━━━━━━━━━━━━━━━━━━━━━━━━━\u001b[0m\u001b[91m╸\u001b[0m \u001b[32m604.2/608.4 kB\u001b[0m \u001b[31m9.3 MB/s\u001b[0m eta \u001b[36m0:00:01\u001b[0m\r\u001b[2K   \u001b[90m━━━━━━━━━━━━━━━━━━━━━━━━━━━━━━━━━━━━━━━━\u001b[0m \u001b[32m608.4/608.4 kB\u001b[0m \u001b[31m7.5 MB/s\u001b[0m eta \u001b[36m0:00:00\u001b[0m\n",
            "\u001b[?25h"
          ]
        }
      ],
      "source": [
        "!pip install -q emoji"
      ]
    },
    {
      "cell_type": "code",
      "execution_count": 19,
      "id": "e13cb356",
      "metadata": {
        "colab": {
          "base_uri": "https://localhost:8080/",
          "height": 143
        },
        "id": "e13cb356",
        "outputId": "18515fd1-e5ec-4cc4-8860-1315185b5153"
      },
      "outputs": [
        {
          "output_type": "execute_result",
          "data": {
            "text/plain": [
              "\"I rented I AM CURIOUS-YELLOW  from my video store because of all the controversy  that surrounded it when it was first released in 1967. I also heard that at first it was seized by U.S. customs  if it ever tried to enter this country, therefore being a fan of films considered 'controversial'  I really had to see this for myself.\\n\\nThe plot is centered around a young Swedish drama student named Lena  who wants to learn everything she can about life . In particular, she wants to focus her attentions on making some sort of documentary on what the average Swede thought about certain political issues such as the Vietnam War  and race issues in the United States . In between asking politicians and ordinary denizens of Stockholm about their opinions on politics, she has sex with her drama teacher, classmates, and married men .\\n\\nWhat kills me about I AM CURIOUS-YELLOW is that 40 years ago, this was considered pornographic . Really, the sex and nudity scenes are few and far between, even then it's not shot like some cheaply made porno . While my countrymen might find it shocking , in reality sex and nudity are a major staple in Swedish cinema . Even Ingmar Bergman, arguably their answer to good old boy John Ford, had sex scenes in his films .\\n\\nI do commend  the filmmakers for the fact that any sex shown in the film is shown for artistic purposes  rather than just to shock people and make money  to be shown in pornographic theaters in America. *I AM CURIOUS-YELLOW* is a good film for anyone wanting to study the meat and potatoes  (no pun intended) of Swedish cinema. But really, this film doesn’t have much of a plot .\""
            ],
            "application/vnd.google.colaboratory.intrinsic+json": {
              "type": "string"
            }
          },
          "metadata": {},
          "execution_count": 19
        }
      ],
      "source": [
        "import emoji\n",
        "emoji_text=\"\"\"I rented I AM CURIOUS-YELLOW 🎬 from my video store because of all the controversy ⚠️ that surrounded it when it was first released in 1967. I also heard that at first it was seized by U.S. customs 🛃 if it ever tried to enter this country, therefore being a fan of films considered 'controversial' 😏 I really had to see this for myself.\n",
        "\n",
        "The plot is centered around a young Swedish drama student named Lena 🎭 who wants to learn everything she can about life 🌍. In particular, she wants to focus her attentions on making some sort of documentary on what the average Swede thought about certain political issues such as the Vietnam War 🪖 and race issues in the United States 🇺🇸. In between asking politicians and ordinary denizens of Stockholm about their opinions on politics, she has sex with her drama teacher, classmates, and married men 🔥.\n",
        "\n",
        "What kills me about I AM CURIOUS-YELLOW is that 40 years ago, this was considered pornographic 😲. Really, the sex and nudity scenes are few and far between, even then it's not shot like some cheaply made porno 🎞️. While my countrymen might find it shocking 😳, in reality sex and nudity are a major staple in Swedish cinema 🇸🇪. Even Ingmar Bergman, arguably their answer to good old boy John Ford, had sex scenes in his films 🎥.\n",
        "\n",
        "I do commend 👏 the filmmakers for the fact that any sex shown in the film is shown for artistic purposes 🎨 rather than just to shock people and make money 💸 to be shown in pornographic theaters in America. *I AM CURIOUS-YELLOW* is a good film for anyone wanting to study the meat and potatoes 🍖🥔 (no pun intended) of Swedish cinema. But really, this film doesn’t have much of a plot 📄.\"\"\"\n",
        "cleaned = emoji.replace_emoji(emoji_text, replace='')\n",
        "cleaned"
      ]
    },
    {
      "cell_type": "markdown",
      "id": "ae87b8ed",
      "metadata": {
        "id": "ae87b8ed"
      },
      "source": [
        "## 🔹 이모지 → 단어 치환\n",
        "- 감정 분석 등에서 이모지를 단어로 변환하여 정보 보존\n",
        "- emoji.demojize 사용 시 텍스트화 가능\n",
        "- 예: 😂 → :face_with_tears_of_joy:\n",
        "\n",
        "📌 예시: 'I ❤️ NLP!' → 'I :red_heart: NLP!'"
      ]
    },
    {
      "cell_type": "code",
      "execution_count": 20,
      "id": "ca975801",
      "metadata": {
        "colab": {
          "base_uri": "https://localhost:8080/",
          "height": 36
        },
        "id": "ca975801",
        "outputId": "b56a76b1-b40e-4eee-8c2d-817d2bf1bc08"
      },
      "outputs": [
        {
          "output_type": "execute_result",
          "data": {
            "text/plain": [
              "'I :red_heart: NLP!'"
            ],
            "application/vnd.google.colaboratory.intrinsic+json": {
              "type": "string"
            }
          },
          "metadata": {},
          "execution_count": 20
        }
      ],
      "source": [
        "emoji.demojize(\"I ❤️ NLP!\")"
      ]
    },
    {
      "cell_type": "markdown",
      "id": "7b15a380",
      "metadata": {
        "id": "7b15a380"
      },
      "source": [
        "## 🔹 URL 제거\n",
        "- 웹에서 수집한 텍스트에는 종종 광고/출처 링크 포함됨\n",
        "- URL은 대부분 의미 없는 노이즈로 간주됨\n",
        "- 정규식을 사용해 제거 가능\n",
        "\n",
        "📌 예시: 'Visit http://example.com now' → 'Visit now'"
      ]
    },
    {
      "cell_type": "code",
      "execution_count": 21,
      "id": "8be48ac7",
      "metadata": {
        "colab": {
          "base_uri": "https://localhost:8080/",
          "height": 36
        },
        "id": "8be48ac7",
        "outputId": "8265037c-042d-42d6-b684-71ce86ed7af5"
      },
      "outputs": [
        {
          "output_type": "execute_result",
          "data": {
            "text/plain": [
              "\"\\nCheck out our website at  for more details.\\nYou can also visit our blog at \\nDon't forget to look at  for additional resources!\\n\""
            ],
            "application/vnd.google.colaboratory.intrinsic+json": {
              "type": "string"
            }
          },
          "metadata": {},
          "execution_count": 21
        }
      ],
      "source": [
        "import re\n",
        "text = \"\"\"\n",
        "Check out our website at http://example.com for more details.\n",
        "You can also visit our blog at https://blog.example.com/articles?id=123.\n",
        "Don't forget to look at www.example.org for additional resources!\n",
        "\"\"\"\n",
        "cleaned = re.sub(r\"http\\S+|www\\.\\S+\", \"\", text)\n",
        "cleaned"
      ]
    },
    {
      "cell_type": "markdown",
      "id": "c8be434e",
      "metadata": {
        "id": "c8be434e"
      },
      "source": [
        "## 🔹 HTML 태그 제거\n",
        "- 크롤링된 뉴스, 블로그 글에 HTML이 포함될 수 있음\n",
        "- 텍스트 외 정보(<div>, <a>)는 제거 대상\n",
        "- BeautifulSoup 활용 가능\n",
        "\n",
        "📌 예시: '<p>Hello</p>' → 'Hello'"
      ]
    },
    {
      "cell_type": "code",
      "execution_count": 22,
      "id": "974b7103",
      "metadata": {
        "colab": {
          "base_uri": "https://localhost:8080/",
          "height": 36
        },
        "id": "974b7103",
        "outputId": "3d42d520-da79-4eb3-a18b-df67bf069890"
      },
      "outputs": [
        {
          "output_type": "execute_result",
          "data": {
            "text/plain": [
              "'\\n\\nExample Page\\n\\nWelcome to My Website\\nThis is a sample paragraph with a link.\\n\\nItem 1\\nItem 2\\n\\n\\n\\n'"
            ],
            "application/vnd.google.colaboratory.intrinsic+json": {
              "type": "string"
            }
          },
          "metadata": {},
          "execution_count": 22
        }
      ],
      "source": [
        "from bs4 import BeautifulSoup\n",
        "text = \"\"\"\n",
        "<html>\n",
        "  <head><title>Example Page</title></head>\n",
        "  <body>\n",
        "    <h1>Welcome to My Website</h1>\n",
        "    <p>This is a <b>sample</b> paragraph with <a href=\"https://example.com\">a link</a>.</p>\n",
        "    <ul>\n",
        "      <li>Item 1</li>\n",
        "      <li>Item 2</li>\n",
        "    </ul>\n",
        "  </body>\n",
        "</html>\n",
        "\"\"\"\n",
        "cleaned = BeautifulSoup(text, \"html.parser\").get_text()\n",
        "cleaned"
      ]
    },
    {
      "cell_type": "markdown",
      "id": "bceeb49b",
      "metadata": {
        "id": "bceeb49b"
      },
      "source": [
        "## 🔹 채팅체 정규화\n",
        "- SNS/메신저 특유의 줄임말, 비표준어를 정제\n",
        "- 예: 'u r' → 'you are', 'idk' → 'I don't know'\n",
        "- 사전 기반 또는 정규표현식 기반으로 처리\n",
        "\n",
        "📌 예시: 'u r awesome idk why' → 'you are awesome I don't know why'"
      ]
    },
    {
      "cell_type": "code",
      "execution_count": 23,
      "id": "04350974",
      "metadata": {
        "colab": {
          "base_uri": "https://localhost:8080/",
          "height": 36
        },
        "id": "04350974",
        "outputId": "00654c93-9724-4669-dbef-c9521c592bcd"
      },
      "outputs": [
        {
          "output_type": "execute_result",
          "data": {
            "text/plain": [
              "\"I don't know what you are doing\""
            ],
            "application/vnd.google.colaboratory.intrinsic+json": {
              "type": "string"
            }
          },
          "metadata": {},
          "execution_count": 23
        }
      ],
      "source": [
        "chat_dict = {'u': 'you', 'r': 'are', 'idk': \"I don't know\"}\n",
        "text = 'idk what u r doing'\n",
        "' '.join([chat_dict.get(w, w) for w in text.split()])"
      ]
    },
    {
      "cell_type": "markdown",
      "id": "b565dfd4",
      "metadata": {
        "id": "b565dfd4"
      },
      "source": [
        "## 🔹 맞춤법 교정\n",
        "- 타이핑 실수, 오타 자동 수정\n",
        "- 감정 분석 등에서 의미 왜곡 방지\n",
        "- PySpellChecker, GingerIt 등 사용\n",
        "\n",
        "📌 예시: 'recieve' → 'receive'"
      ]
    },
    {
      "cell_type": "code",
      "execution_count": 24,
      "id": "VwThHjlsmnKl",
      "metadata": {
        "colab": {
          "base_uri": "https://localhost:8080/"
        },
        "id": "VwThHjlsmnKl",
        "outputId": "abc58762-4d3a-41a4-d14a-6fc29f817d15"
      },
      "outputs": [
        {
          "output_type": "stream",
          "name": "stdout",
          "text": [
            "Collecting pyspellchecker\n",
            "  Downloading pyspellchecker-0.8.3-py3-none-any.whl.metadata (9.5 kB)\n",
            "Downloading pyspellchecker-0.8.3-py3-none-any.whl (7.2 MB)\n",
            "\u001b[2K   \u001b[90m━━━━━━━━━━━━━━━━━━━━━━━━━━━━━━━━━━━━━━━━\u001b[0m \u001b[32m7.2/7.2 MB\u001b[0m \u001b[31m35.9 MB/s\u001b[0m eta \u001b[36m0:00:00\u001b[0m\n",
            "\u001b[?25hInstalling collected packages: pyspellchecker\n",
            "Successfully installed pyspellchecker-0.8.3\n"
          ]
        }
      ],
      "source": [
        "!pip install pyspellchecker"
      ]
    },
    {
      "cell_type": "code",
      "execution_count": 25,
      "id": "334e049c",
      "metadata": {
        "colab": {
          "base_uri": "https://localhost:8080/"
        },
        "id": "334e049c",
        "outputId": "6b950eb5-46f8-48ba-8187-959743597066"
      },
      "outputs": [
        {
          "output_type": "execute_result",
          "data": {
            "text/plain": [
              "['ink', 'what', 'u', 'r', 'doing']"
            ]
          },
          "metadata": {},
          "execution_count": 25
        }
      ],
      "source": [
        "from spellchecker import SpellChecker\n",
        "\n",
        "spell = SpellChecker()\n",
        "def correct_spellings(text):\n",
        "    corrected_text = []\n",
        "    misspelled_words = spell.unknown(text.split())\n",
        "    for word in text.split():\n",
        "        if word in misspelled_words:\n",
        "            corrected_text.append(spell.correction(word))\n",
        "        else:\n",
        "            corrected_text.append(word)\n",
        "    return \" \".join(corrected_text)\n",
        "\n",
        "\n",
        "corrected = [correct_spellings(word) for word in text.split()]\n",
        "corrected[:10]"
      ]
    },
    {
      "cell_type": "markdown",
      "id": "f3686e17",
      "metadata": {
        "id": "f3686e17"
      },
      "source": [
        "## 🔹 축약어 확장\n",
        "- don’t → do not, I’ll → I will\n",
        "- 감정/문법 보존을 위해 확장 중요\n",
        "- contractions 라이브러리 활용\n",
        "\n",
        "📌 예시: 'I can't' → 'I cannot'"
      ]
    },
    {
      "cell_type": "code",
      "execution_count": 26,
      "id": "wA99DhqBn0xY",
      "metadata": {
        "colab": {
          "base_uri": "https://localhost:8080/"
        },
        "id": "wA99DhqBn0xY",
        "outputId": "88984053-d96f-4ffb-8dfd-0e6a0b689205"
      },
      "outputs": [
        {
          "output_type": "stream",
          "name": "stdout",
          "text": [
            "\u001b[2K   \u001b[90m━━━━━━━━━━━━━━━━━━━━━━━━━━━━━━━━━━━━━━━━\u001b[0m \u001b[32m345.1/345.1 kB\u001b[0m \u001b[31m5.1 MB/s\u001b[0m eta \u001b[36m0:00:00\u001b[0m\n",
            "\u001b[2K   \u001b[90m━━━━━━━━━━━━━━━━━━━━━━━━━━━━━━━━━━━━━━━━\u001b[0m \u001b[32m114.9/114.9 kB\u001b[0m \u001b[31m3.3 MB/s\u001b[0m eta \u001b[36m0:00:00\u001b[0m\n",
            "\u001b[?25h"
          ]
        }
      ],
      "source": [
        "!pip install -q contractions"
      ]
    },
    {
      "cell_type": "code",
      "execution_count": 27,
      "id": "24d2481c",
      "metadata": {
        "colab": {
          "base_uri": "https://localhost:8080/",
          "height": 36
        },
        "id": "24d2481c",
        "outputId": "c6432fdf-81b9-402e-efb6-9111f40eb3af"
      },
      "outputs": [
        {
          "output_type": "execute_result",
          "data": {
            "text/plain": [
              "'I cannot do this.'"
            ],
            "application/vnd.google.colaboratory.intrinsic+json": {
              "type": "string"
            }
          },
          "metadata": {},
          "execution_count": 27
        }
      ],
      "source": [
        "import contractions\n",
        "expanded = contractions.fix(\"I can't do this.\")\n",
        "expanded"
      ]
    },
    {
      "cell_type": "markdown",
      "id": "bb4f4959",
      "metadata": {
        "id": "bb4f4959"
      },
      "source": [
        "## 🔹 숫자 → 텍스트 / 제거\n",
        "- TTS, 요약, 번역 등에서는 숫자를 단어로 바꾸기도 함\n",
        "- 예: '100%' → 'one hundred percent'\n",
        "- 또는 숫자 자체를 제거하기도 함\n",
        "\n",
        "📌 예시: '100%' → 'one hundred percent'"
      ]
    },
    {
      "cell_type": "code",
      "execution_count": 28,
      "id": "QpcfTBEUn3x6",
      "metadata": {
        "id": "QpcfTBEUn3x6"
      },
      "outputs": [],
      "source": [
        "!pip install -q inflect"
      ]
    },
    {
      "cell_type": "code",
      "execution_count": 29,
      "id": "6048dde4",
      "metadata": {
        "colab": {
          "base_uri": "https://localhost:8080/",
          "height": 36
        },
        "id": "6048dde4",
        "outputId": "5dfacfa2-8620-46d1-ed9d-1c66b9ea7178"
      },
      "outputs": [
        {
          "output_type": "execute_result",
          "data": {
            "text/plain": [
              "'one hundred'"
            ],
            "application/vnd.google.colaboratory.intrinsic+json": {
              "type": "string"
            }
          },
          "metadata": {},
          "execution_count": 29
        }
      ],
      "source": [
        "import inflect\n",
        "p = inflect.engine()\n",
        "p.number_to_words(100)"
      ]
    },
    {
      "cell_type": "markdown",
      "id": "08a561c5",
      "metadata": {
        "id": "08a561c5"
      },
      "source": [
        "## 🔹 대화체 및 말버릇 제거\n",
        "- 온라인 댓글이나 SNS 텍스트에서 자주 등장하는 반복어, 감탄사 등 제거\n",
        "- 예: 'ㅋㅋㅋ', '헐', 'OMG', 'Wow' 등\n",
        "- 자연어 이해를 방해하거나 잡음이 될 수 있음\n",
        "\n",
        "📌 예시: '헐ㅋㅋㅋ 진짜요??ㅋㅋ' → '헐 진짜요??'"
      ]
    },
    {
      "cell_type": "code",
      "execution_count": 30,
      "id": "75394017",
      "metadata": {
        "colab": {
          "base_uri": "https://localhost:8080/",
          "height": 36
        },
        "id": "75394017",
        "outputId": "faa1c68a-3f0a-4f33-c59e-9bcde2700ce9"
      },
      "outputs": [
        {
          "output_type": "execute_result",
          "data": {
            "text/plain": [
              "'idk what u r doing'"
            ],
            "application/vnd.google.colaboratory.intrinsic+json": {
              "type": "string"
            }
          },
          "metadata": {},
          "execution_count": 30
        }
      ],
      "source": [
        "import re\n",
        "re.sub(r'(ㅋ|ㅎ|ㅠ|ㅜ){2,}', '', text)"
      ]
    },
    {
      "cell_type": "markdown",
      "id": "301ce9a2",
      "metadata": {
        "id": "301ce9a2"
      },
      "source": [
        "## 🔹 정규표현식 패턴 정리\n",
        "- 날짜: '\\d{4}-\\d{2}-\\d{2}' 또는 'Jan \\d{1,2}, \\d{4}'\n",
        "- 이메일: '\\b[\\w.-]+@[\\w.-]+\\.\\w+\\b'\n",
        "- URL: 'http[s]?://\\S+'\n",
        "- 숫자: '\\b\\d+\\b' / 통화: '\\$\\d+(\\.\\d+)?'\n",
        "\n",
        "📌 예시: 정규식 사전 구축 → 텍스트에서 다양한 패턴 추출 및 제거 자동화"
      ]
    },
    {
      "cell_type": "markdown",
      "id": "0edfd26c",
      "metadata": {
        "id": "0edfd26c"
      },
      "source": [
        "## 🔹 spaCy 기반 통합 정제\n",
        "- spaCy로 불용어 제거, 표제어 추출, 알파벳 필터링을 한 번에 수행\n",
        "- 영어 기준의 대표적 전처리 워크플로우 구성\n",
        "- 모델: en_core_web_sm 등\n",
        "\n",
        "📌 예시: 'He was running quickly.' → 'run quickly'"
      ]
    },
    {
      "cell_type": "code",
      "execution_count": 31,
      "id": "925ac5fa",
      "metadata": {
        "colab": {
          "base_uri": "https://localhost:8080/",
          "height": 36
        },
        "id": "925ac5fa",
        "outputId": "5bb560b2-60fc-4de5-ab3e-57859416bd26"
      },
      "outputs": [
        {
          "output_type": "execute_result",
          "data": {
            "text/plain": [
              "'idk u r'"
            ],
            "application/vnd.google.colaboratory.intrinsic+json": {
              "type": "string"
            }
          },
          "metadata": {},
          "execution_count": 31
        }
      ],
      "source": [
        "import spacy\n",
        "nlp = spacy.load(\"en_core_web_sm\")\n",
        "doc = nlp(text)\n",
        "cleaned = \" \".join([token.lemma_ for token in doc if not token.is_stop and token.is_alpha])\n",
        "cleaned[:20]"
      ]
    },
    {
      "cell_type": "markdown",
      "id": "f9c5d5e9",
      "metadata": {
        "id": "f9c5d5e9"
      },
      "source": [
        "## 🔹 도메인별 전처리: 감성 분석\n",
        "- 긍정/부정 판단 시 부정어, 이모티콘, 느낌표 등 보존 필요\n",
        "- 중복 문자 강조 ('좋아아아아')는 적절히 축약\n",
        "- 이모지 → 단어로 변환 후 보존 가능\n",
        "\n",
        "📌 예시: '진짜 좋아아아아!!!😍' → '진짜 좋아!!! :smiling_face_with_heart_eyes:'"
      ]
    },
    {
      "cell_type": "markdown",
      "id": "166fe968",
      "metadata": {
        "id": "166fe968"
      },
      "source": [
        "## 🔹 도메인별 전처리: 뉴스 텍스트\n",
        "- 기자명, 날짜, 출처 제거 / 문단 구분 유지\n",
        "- 고유명사 및 수치 표현은 보존\n",
        "- 표제어화는 선택적으로 적용\n",
        "\n",
        "📌 예시: ‘[서울=뉴스1] 홍길동 기자 = ...’ → ‘...’"
      ]
    },
    {
      "cell_type": "markdown",
      "id": "778215df",
      "metadata": {
        "id": "778215df"
      },
      "source": [
        "## 🔹 도메인별 전처리: 트위터 데이터\n",
        "- 멘션(@user), 해시태그(#topic), 줄임말(idk, brb) 처리\n",
        "- RT 제거, 이모지 치환, URL 제거\n",
        "- Twint 등으로 수집된 트윗 대상\n",
        "\n",
        "📌 예시: 'RT @user: I love this! #NLP http://t.co/abc' → 'I love this!'"
      ]
    },
    {
      "cell_type": "code",
      "execution_count": 32,
      "id": "fddd877c",
      "metadata": {
        "colab": {
          "base_uri": "https://localhost:8080/",
          "height": 36
        },
        "id": "fddd877c",
        "outputId": "7fb7cf98-7594-4519-e0dd-34e2bd15622b"
      },
      "outputs": [
        {
          "output_type": "execute_result",
          "data": {
            "text/plain": [
              "\"\\n : Check out the new features in our product!   \\nGreat job team!  Let's keep pushing forward. \\nVisit our homepage: \\n\""
            ],
            "application/vnd.google.colaboratory.intrinsic+json": {
              "type": "string"
            }
          },
          "metadata": {},
          "execution_count": 32
        }
      ],
      "source": [
        "text = \"\"\"\n",
        "RT @user1: Check out the new features in our product! #AI #innovation http://example.com\n",
        "Great job team! @dev_team Let's keep pushing forward. #motivation\n",
        "Visit our homepage: https://company.org/about\n",
        "\"\"\"\n",
        "re.sub(r'@\\w+|#\\w+|RT|http\\S+', '', text)"
      ]
    },
    {
      "cell_type": "markdown",
      "id": "ca7a6fe3",
      "metadata": {
        "id": "ca7a6fe3"
      },
      "source": [
        "## 🔹 도메인별 전처리: 법률 문서\n",
        "- 법령명, 조항번호 등 고유 용어는 보존해야 함\n",
        "- 공백, 줄바꿈 정리 및 목차/판례번호 제거\n",
        "- 주로 CaseLaw, LEGISLAText 데이터셋 활용\n",
        "\n",
        "📌 예시: '제1조(목적) 이 법은...' → '이 법은...'"
      ]
    },
    {
      "cell_type": "markdown",
      "id": "0cd43b6e",
      "metadata": {
        "id": "0cd43b6e"
      },
      "source": [
        "## 🔹 도메인별 전처리: 의료 데이터\n",
        "- 환자 이름, 병원명, 날짜 등 PHI 정보 제거\n",
        "- 의학용어는 일반 사전으로 대체하지 않음 (보존)\n",
        "- MIMIC-III, PubMed 데이터셋 사용\n",
        "\n",
        "📌 예시: 'Patient: John Doe' → ''"
      ]
    },
    {
      "cell_type": "code",
      "execution_count": 33,
      "id": "0ef22ece",
      "metadata": {
        "colab": {
          "base_uri": "https://localhost:8080/"
        },
        "id": "0ef22ece",
        "outputId": "4fa5925b-1f14-40be-c35f-2db308385d19"
      },
      "outputs": [
        {
          "output_type": "stream",
          "name": "stdout",
          "text": [
            "\n",
            "\n",
            "\n",
            "\n",
            "\n",
            "\n",
            "Chief Complaint: Persistent cough and shortness of breath.\n",
            "Diagnosis: Acute bronchitis\n",
            "Medication: Amoxicillin 500mg, three times a day\n",
            "Notes: Patient reports symptoms worsening over 5 days.\n",
            "\n"
          ]
        }
      ],
      "source": [
        "import re\n",
        "text = \"\"\"\n",
        "Name: John Doe\n",
        "Patient: Jane Smith\n",
        "Hospital: Seoul Medical Center\n",
        "Date: 2023-10-15\n",
        "\n",
        "Chief Complaint: Persistent cough and shortness of breath.\n",
        "Diagnosis: Acute bronchitis\n",
        "Medication: Amoxicillin 500mg, three times a day\n",
        "Notes: Patient reports symptoms worsening over 5 days.\n",
        "\"\"\"\n",
        "text = re.sub(r'(Name:|Patient:|Hospital:|Date:).*', '', text)\n",
        "print(text)"
      ]
    },
    {
      "cell_type": "markdown",
      "id": "92097343",
      "metadata": {
        "id": "92097343"
      },
      "source": [
        "## 🔹 사용자 정의 전처리 파이프라인 구성\n",
        "- 여러 전처리 함수를 하나의 파이프라인으로 연결\n",
        "- 단계별로 함수화하여 재사용 가능\n",
        "- 함수 체이닝, 람다 파이프 활용\n",
        "\n",
        "📌 예시: 'I LOVE it!!! http://abc.com' → 'i love it'"
      ]
    },
    {
      "cell_type": "code",
      "execution_count": 34,
      "id": "4e741393",
      "metadata": {
        "id": "4e741393"
      },
      "outputs": [],
      "source": [
        "def clean_pipeline(text):\n",
        "    text = text.lower()\n",
        "    text = re.sub(r\"http\\S+\", \"\", text)\n",
        "    text = re.sub(r\"[^\\w\\s]\", \"\", text)\n",
        "    return text"
      ]
    },
    {
      "cell_type": "markdown",
      "id": "74b3bc3c",
      "metadata": {
        "id": "74b3bc3c"
      },
      "source": [
        "## 🔹 전체 전처리 예시 실행 (IMDB)\n",
        "- IMDB 데이터셋 텍스트에 대해 단계별로 전처리 적용\n",
        "- 전처리 전 vs 후 비교표 생성\n",
        "- 토큰 수 변화, 단어 구름 시각화 포함\n",
        "\n",
        "📌 예시: 전처리 전: 350 tokens → 전처리 후: 212 tokens (불용어 제거, 표제어화 적용)"
      ]
    },
    {
      "cell_type": "markdown",
      "id": "417b29b6",
      "metadata": {
        "id": "417b29b6"
      },
      "source": [
        "## 🔹 전처리 성능 평가\n",
        "- 모델 성능 비교 (전처리 전 vs 후)\n",
        "- 지표: Accuracy, F1, BLEU 등\n",
        "- 전처리별 기여도 분석 가능\n",
        "\n",
        "📌 예시: 텍스트 분류 정확도: 전처리 전 82% → 전처리 후 88%"
      ]
    },
    {
      "cell_type": "markdown",
      "id": "2286af40",
      "metadata": {
        "id": "2286af40"
      },
      "source": [
        "## 🔹 결론 및 팁 정리\n",
        "- 전처리는 도메인에 따라 맞춤화 필요\n",
        "- 과도한 정제는 의미 손실 → 균형 중요\n",
        "- 전처리 자동화 파이프라인 설계 추천\n",
        "- 활용할만한 오픈소스 도구 정리\n",
        "\n",
        "📌 예시: - Huggingface Datasets, spaCy, NLTK, emoji, contractions, BeautifulSoup 등"
      ]
    }
  ],
  "metadata": {
    "colab": {
      "provenance": []
    },
    "kernelspec": {
      "display_name": ".venv (3.13.3)",
      "language": "python",
      "name": "python3"
    },
    "language": "python",
    "language_info": {
      "codemirror_mode": {
        "name": "ipython",
        "version": 3
      },
      "file_extension": ".py",
      "mimetype": "text/x-python",
      "name": "python",
      "nbconvert_exporter": "python",
      "pygments_lexer": "ipython3",
      "version": "3.13.3"
    },
    "widgets": {
      "application/vnd.jupyter.widget-state+json": {
        "85126d9f10d242ea94aa82a36c5c6392": {
          "model_module": "@jupyter-widgets/controls",
          "model_name": "HBoxModel",
          "model_module_version": "1.5.0",
          "state": {
            "_dom_classes": [],
            "_model_module": "@jupyter-widgets/controls",
            "_model_module_version": "1.5.0",
            "_model_name": "HBoxModel",
            "_view_count": null,
            "_view_module": "@jupyter-widgets/controls",
            "_view_module_version": "1.5.0",
            "_view_name": "HBoxView",
            "box_style": "",
            "children": [
              "IPY_MODEL_144f82c78c00426da0f01c938cf7cd33",
              "IPY_MODEL_eeadcd01d6544d8e8d92c7a694320770",
              "IPY_MODEL_afbce1186c94461086b39d24811d3634"
            ],
            "layout": "IPY_MODEL_64991c8d95624a9e85a36ce6e23aec31"
          }
        },
        "144f82c78c00426da0f01c938cf7cd33": {
          "model_module": "@jupyter-widgets/controls",
          "model_name": "HTMLModel",
          "model_module_version": "1.5.0",
          "state": {
            "_dom_classes": [],
            "_model_module": "@jupyter-widgets/controls",
            "_model_module_version": "1.5.0",
            "_model_name": "HTMLModel",
            "_view_count": null,
            "_view_module": "@jupyter-widgets/controls",
            "_view_module_version": "1.5.0",
            "_view_name": "HTMLView",
            "description": "",
            "description_tooltip": null,
            "layout": "IPY_MODEL_c9360988a1c2435484c8df8ed63bc604",
            "placeholder": "​",
            "style": "IPY_MODEL_4535f02fd3ad464c9439eb04dbc2de5f",
            "value": "README.md: "
          }
        },
        "eeadcd01d6544d8e8d92c7a694320770": {
          "model_module": "@jupyter-widgets/controls",
          "model_name": "FloatProgressModel",
          "model_module_version": "1.5.0",
          "state": {
            "_dom_classes": [],
            "_model_module": "@jupyter-widgets/controls",
            "_model_module_version": "1.5.0",
            "_model_name": "FloatProgressModel",
            "_view_count": null,
            "_view_module": "@jupyter-widgets/controls",
            "_view_module_version": "1.5.0",
            "_view_name": "ProgressView",
            "bar_style": "success",
            "description": "",
            "description_tooltip": null,
            "layout": "IPY_MODEL_27125920194e4f33a9dcd379d2808bca",
            "max": 1,
            "min": 0,
            "orientation": "horizontal",
            "style": "IPY_MODEL_c54501ba74ef4e46b1e76be369e3d0df",
            "value": 1
          }
        },
        "afbce1186c94461086b39d24811d3634": {
          "model_module": "@jupyter-widgets/controls",
          "model_name": "HTMLModel",
          "model_module_version": "1.5.0",
          "state": {
            "_dom_classes": [],
            "_model_module": "@jupyter-widgets/controls",
            "_model_module_version": "1.5.0",
            "_model_name": "HTMLModel",
            "_view_count": null,
            "_view_module": "@jupyter-widgets/controls",
            "_view_module_version": "1.5.0",
            "_view_name": "HTMLView",
            "description": "",
            "description_tooltip": null,
            "layout": "IPY_MODEL_eee14c7ed314426a879b9335e2c8122a",
            "placeholder": "​",
            "style": "IPY_MODEL_57199e3327e846dab0ae73ac03821819",
            "value": " 7.81k/? [00:00&lt;00:00, 450kB/s]"
          }
        },
        "64991c8d95624a9e85a36ce6e23aec31": {
          "model_module": "@jupyter-widgets/base",
          "model_name": "LayoutModel",
          "model_module_version": "1.2.0",
          "state": {
            "_model_module": "@jupyter-widgets/base",
            "_model_module_version": "1.2.0",
            "_model_name": "LayoutModel",
            "_view_count": null,
            "_view_module": "@jupyter-widgets/base",
            "_view_module_version": "1.2.0",
            "_view_name": "LayoutView",
            "align_content": null,
            "align_items": null,
            "align_self": null,
            "border": null,
            "bottom": null,
            "display": null,
            "flex": null,
            "flex_flow": null,
            "grid_area": null,
            "grid_auto_columns": null,
            "grid_auto_flow": null,
            "grid_auto_rows": null,
            "grid_column": null,
            "grid_gap": null,
            "grid_row": null,
            "grid_template_areas": null,
            "grid_template_columns": null,
            "grid_template_rows": null,
            "height": null,
            "justify_content": null,
            "justify_items": null,
            "left": null,
            "margin": null,
            "max_height": null,
            "max_width": null,
            "min_height": null,
            "min_width": null,
            "object_fit": null,
            "object_position": null,
            "order": null,
            "overflow": null,
            "overflow_x": null,
            "overflow_y": null,
            "padding": null,
            "right": null,
            "top": null,
            "visibility": null,
            "width": null
          }
        },
        "c9360988a1c2435484c8df8ed63bc604": {
          "model_module": "@jupyter-widgets/base",
          "model_name": "LayoutModel",
          "model_module_version": "1.2.0",
          "state": {
            "_model_module": "@jupyter-widgets/base",
            "_model_module_version": "1.2.0",
            "_model_name": "LayoutModel",
            "_view_count": null,
            "_view_module": "@jupyter-widgets/base",
            "_view_module_version": "1.2.0",
            "_view_name": "LayoutView",
            "align_content": null,
            "align_items": null,
            "align_self": null,
            "border": null,
            "bottom": null,
            "display": null,
            "flex": null,
            "flex_flow": null,
            "grid_area": null,
            "grid_auto_columns": null,
            "grid_auto_flow": null,
            "grid_auto_rows": null,
            "grid_column": null,
            "grid_gap": null,
            "grid_row": null,
            "grid_template_areas": null,
            "grid_template_columns": null,
            "grid_template_rows": null,
            "height": null,
            "justify_content": null,
            "justify_items": null,
            "left": null,
            "margin": null,
            "max_height": null,
            "max_width": null,
            "min_height": null,
            "min_width": null,
            "object_fit": null,
            "object_position": null,
            "order": null,
            "overflow": null,
            "overflow_x": null,
            "overflow_y": null,
            "padding": null,
            "right": null,
            "top": null,
            "visibility": null,
            "width": null
          }
        },
        "4535f02fd3ad464c9439eb04dbc2de5f": {
          "model_module": "@jupyter-widgets/controls",
          "model_name": "DescriptionStyleModel",
          "model_module_version": "1.5.0",
          "state": {
            "_model_module": "@jupyter-widgets/controls",
            "_model_module_version": "1.5.0",
            "_model_name": "DescriptionStyleModel",
            "_view_count": null,
            "_view_module": "@jupyter-widgets/base",
            "_view_module_version": "1.2.0",
            "_view_name": "StyleView",
            "description_width": ""
          }
        },
        "27125920194e4f33a9dcd379d2808bca": {
          "model_module": "@jupyter-widgets/base",
          "model_name": "LayoutModel",
          "model_module_version": "1.2.0",
          "state": {
            "_model_module": "@jupyter-widgets/base",
            "_model_module_version": "1.2.0",
            "_model_name": "LayoutModel",
            "_view_count": null,
            "_view_module": "@jupyter-widgets/base",
            "_view_module_version": "1.2.0",
            "_view_name": "LayoutView",
            "align_content": null,
            "align_items": null,
            "align_self": null,
            "border": null,
            "bottom": null,
            "display": null,
            "flex": null,
            "flex_flow": null,
            "grid_area": null,
            "grid_auto_columns": null,
            "grid_auto_flow": null,
            "grid_auto_rows": null,
            "grid_column": null,
            "grid_gap": null,
            "grid_row": null,
            "grid_template_areas": null,
            "grid_template_columns": null,
            "grid_template_rows": null,
            "height": null,
            "justify_content": null,
            "justify_items": null,
            "left": null,
            "margin": null,
            "max_height": null,
            "max_width": null,
            "min_height": null,
            "min_width": null,
            "object_fit": null,
            "object_position": null,
            "order": null,
            "overflow": null,
            "overflow_x": null,
            "overflow_y": null,
            "padding": null,
            "right": null,
            "top": null,
            "visibility": null,
            "width": "20px"
          }
        },
        "c54501ba74ef4e46b1e76be369e3d0df": {
          "model_module": "@jupyter-widgets/controls",
          "model_name": "ProgressStyleModel",
          "model_module_version": "1.5.0",
          "state": {
            "_model_module": "@jupyter-widgets/controls",
            "_model_module_version": "1.5.0",
            "_model_name": "ProgressStyleModel",
            "_view_count": null,
            "_view_module": "@jupyter-widgets/base",
            "_view_module_version": "1.2.0",
            "_view_name": "StyleView",
            "bar_color": null,
            "description_width": ""
          }
        },
        "eee14c7ed314426a879b9335e2c8122a": {
          "model_module": "@jupyter-widgets/base",
          "model_name": "LayoutModel",
          "model_module_version": "1.2.0",
          "state": {
            "_model_module": "@jupyter-widgets/base",
            "_model_module_version": "1.2.0",
            "_model_name": "LayoutModel",
            "_view_count": null,
            "_view_module": "@jupyter-widgets/base",
            "_view_module_version": "1.2.0",
            "_view_name": "LayoutView",
            "align_content": null,
            "align_items": null,
            "align_self": null,
            "border": null,
            "bottom": null,
            "display": null,
            "flex": null,
            "flex_flow": null,
            "grid_area": null,
            "grid_auto_columns": null,
            "grid_auto_flow": null,
            "grid_auto_rows": null,
            "grid_column": null,
            "grid_gap": null,
            "grid_row": null,
            "grid_template_areas": null,
            "grid_template_columns": null,
            "grid_template_rows": null,
            "height": null,
            "justify_content": null,
            "justify_items": null,
            "left": null,
            "margin": null,
            "max_height": null,
            "max_width": null,
            "min_height": null,
            "min_width": null,
            "object_fit": null,
            "object_position": null,
            "order": null,
            "overflow": null,
            "overflow_x": null,
            "overflow_y": null,
            "padding": null,
            "right": null,
            "top": null,
            "visibility": null,
            "width": null
          }
        },
        "57199e3327e846dab0ae73ac03821819": {
          "model_module": "@jupyter-widgets/controls",
          "model_name": "DescriptionStyleModel",
          "model_module_version": "1.5.0",
          "state": {
            "_model_module": "@jupyter-widgets/controls",
            "_model_module_version": "1.5.0",
            "_model_name": "DescriptionStyleModel",
            "_view_count": null,
            "_view_module": "@jupyter-widgets/base",
            "_view_module_version": "1.2.0",
            "_view_name": "StyleView",
            "description_width": ""
          }
        },
        "99662a62cb1d4c689526d7cc34dcde26": {
          "model_module": "@jupyter-widgets/controls",
          "model_name": "HBoxModel",
          "model_module_version": "1.5.0",
          "state": {
            "_dom_classes": [],
            "_model_module": "@jupyter-widgets/controls",
            "_model_module_version": "1.5.0",
            "_model_name": "HBoxModel",
            "_view_count": null,
            "_view_module": "@jupyter-widgets/controls",
            "_view_module_version": "1.5.0",
            "_view_name": "HBoxView",
            "box_style": "",
            "children": [
              "IPY_MODEL_ff64f7b7485b463eae620a0ca147c83e",
              "IPY_MODEL_2537984525b548a0943e952ee3b453f5",
              "IPY_MODEL_85809281f3c147c987e50e2505a5990d"
            ],
            "layout": "IPY_MODEL_67e76325b109492ead37adcbe0a81bea"
          }
        },
        "ff64f7b7485b463eae620a0ca147c83e": {
          "model_module": "@jupyter-widgets/controls",
          "model_name": "HTMLModel",
          "model_module_version": "1.5.0",
          "state": {
            "_dom_classes": [],
            "_model_module": "@jupyter-widgets/controls",
            "_model_module_version": "1.5.0",
            "_model_name": "HTMLModel",
            "_view_count": null,
            "_view_module": "@jupyter-widgets/controls",
            "_view_module_version": "1.5.0",
            "_view_name": "HTMLView",
            "description": "",
            "description_tooltip": null,
            "layout": "IPY_MODEL_bcdc86f2e10147c887851e1507dbcab1",
            "placeholder": "​",
            "style": "IPY_MODEL_04117f3cce384a9f875e9b15d9b03119",
            "value": "plain_text/train-00000-of-00001.parquet: 100%"
          }
        },
        "2537984525b548a0943e952ee3b453f5": {
          "model_module": "@jupyter-widgets/controls",
          "model_name": "FloatProgressModel",
          "model_module_version": "1.5.0",
          "state": {
            "_dom_classes": [],
            "_model_module": "@jupyter-widgets/controls",
            "_model_module_version": "1.5.0",
            "_model_name": "FloatProgressModel",
            "_view_count": null,
            "_view_module": "@jupyter-widgets/controls",
            "_view_module_version": "1.5.0",
            "_view_name": "ProgressView",
            "bar_style": "success",
            "description": "",
            "description_tooltip": null,
            "layout": "IPY_MODEL_7393311e5ad14720aebded1b67b2924c",
            "max": 20979968,
            "min": 0,
            "orientation": "horizontal",
            "style": "IPY_MODEL_8dee8127a57648bf83f057e70fca9ea2",
            "value": 20979968
          }
        },
        "85809281f3c147c987e50e2505a5990d": {
          "model_module": "@jupyter-widgets/controls",
          "model_name": "HTMLModel",
          "model_module_version": "1.5.0",
          "state": {
            "_dom_classes": [],
            "_model_module": "@jupyter-widgets/controls",
            "_model_module_version": "1.5.0",
            "_model_name": "HTMLModel",
            "_view_count": null,
            "_view_module": "@jupyter-widgets/controls",
            "_view_module_version": "1.5.0",
            "_view_name": "HTMLView",
            "description": "",
            "description_tooltip": null,
            "layout": "IPY_MODEL_ae0bf76b1e314b3185747f20d9432a86",
            "placeholder": "​",
            "style": "IPY_MODEL_31be438fb7eb44c0ad3de007e7a31b6c",
            "value": " 21.0M/21.0M [00:01&lt;00:00, 13.3MB/s]"
          }
        },
        "67e76325b109492ead37adcbe0a81bea": {
          "model_module": "@jupyter-widgets/base",
          "model_name": "LayoutModel",
          "model_module_version": "1.2.0",
          "state": {
            "_model_module": "@jupyter-widgets/base",
            "_model_module_version": "1.2.0",
            "_model_name": "LayoutModel",
            "_view_count": null,
            "_view_module": "@jupyter-widgets/base",
            "_view_module_version": "1.2.0",
            "_view_name": "LayoutView",
            "align_content": null,
            "align_items": null,
            "align_self": null,
            "border": null,
            "bottom": null,
            "display": null,
            "flex": null,
            "flex_flow": null,
            "grid_area": null,
            "grid_auto_columns": null,
            "grid_auto_flow": null,
            "grid_auto_rows": null,
            "grid_column": null,
            "grid_gap": null,
            "grid_row": null,
            "grid_template_areas": null,
            "grid_template_columns": null,
            "grid_template_rows": null,
            "height": null,
            "justify_content": null,
            "justify_items": null,
            "left": null,
            "margin": null,
            "max_height": null,
            "max_width": null,
            "min_height": null,
            "min_width": null,
            "object_fit": null,
            "object_position": null,
            "order": null,
            "overflow": null,
            "overflow_x": null,
            "overflow_y": null,
            "padding": null,
            "right": null,
            "top": null,
            "visibility": null,
            "width": null
          }
        },
        "bcdc86f2e10147c887851e1507dbcab1": {
          "model_module": "@jupyter-widgets/base",
          "model_name": "LayoutModel",
          "model_module_version": "1.2.0",
          "state": {
            "_model_module": "@jupyter-widgets/base",
            "_model_module_version": "1.2.0",
            "_model_name": "LayoutModel",
            "_view_count": null,
            "_view_module": "@jupyter-widgets/base",
            "_view_module_version": "1.2.0",
            "_view_name": "LayoutView",
            "align_content": null,
            "align_items": null,
            "align_self": null,
            "border": null,
            "bottom": null,
            "display": null,
            "flex": null,
            "flex_flow": null,
            "grid_area": null,
            "grid_auto_columns": null,
            "grid_auto_flow": null,
            "grid_auto_rows": null,
            "grid_column": null,
            "grid_gap": null,
            "grid_row": null,
            "grid_template_areas": null,
            "grid_template_columns": null,
            "grid_template_rows": null,
            "height": null,
            "justify_content": null,
            "justify_items": null,
            "left": null,
            "margin": null,
            "max_height": null,
            "max_width": null,
            "min_height": null,
            "min_width": null,
            "object_fit": null,
            "object_position": null,
            "order": null,
            "overflow": null,
            "overflow_x": null,
            "overflow_y": null,
            "padding": null,
            "right": null,
            "top": null,
            "visibility": null,
            "width": null
          }
        },
        "04117f3cce384a9f875e9b15d9b03119": {
          "model_module": "@jupyter-widgets/controls",
          "model_name": "DescriptionStyleModel",
          "model_module_version": "1.5.0",
          "state": {
            "_model_module": "@jupyter-widgets/controls",
            "_model_module_version": "1.5.0",
            "_model_name": "DescriptionStyleModel",
            "_view_count": null,
            "_view_module": "@jupyter-widgets/base",
            "_view_module_version": "1.2.0",
            "_view_name": "StyleView",
            "description_width": ""
          }
        },
        "7393311e5ad14720aebded1b67b2924c": {
          "model_module": "@jupyter-widgets/base",
          "model_name": "LayoutModel",
          "model_module_version": "1.2.0",
          "state": {
            "_model_module": "@jupyter-widgets/base",
            "_model_module_version": "1.2.0",
            "_model_name": "LayoutModel",
            "_view_count": null,
            "_view_module": "@jupyter-widgets/base",
            "_view_module_version": "1.2.0",
            "_view_name": "LayoutView",
            "align_content": null,
            "align_items": null,
            "align_self": null,
            "border": null,
            "bottom": null,
            "display": null,
            "flex": null,
            "flex_flow": null,
            "grid_area": null,
            "grid_auto_columns": null,
            "grid_auto_flow": null,
            "grid_auto_rows": null,
            "grid_column": null,
            "grid_gap": null,
            "grid_row": null,
            "grid_template_areas": null,
            "grid_template_columns": null,
            "grid_template_rows": null,
            "height": null,
            "justify_content": null,
            "justify_items": null,
            "left": null,
            "margin": null,
            "max_height": null,
            "max_width": null,
            "min_height": null,
            "min_width": null,
            "object_fit": null,
            "object_position": null,
            "order": null,
            "overflow": null,
            "overflow_x": null,
            "overflow_y": null,
            "padding": null,
            "right": null,
            "top": null,
            "visibility": null,
            "width": null
          }
        },
        "8dee8127a57648bf83f057e70fca9ea2": {
          "model_module": "@jupyter-widgets/controls",
          "model_name": "ProgressStyleModel",
          "model_module_version": "1.5.0",
          "state": {
            "_model_module": "@jupyter-widgets/controls",
            "_model_module_version": "1.5.0",
            "_model_name": "ProgressStyleModel",
            "_view_count": null,
            "_view_module": "@jupyter-widgets/base",
            "_view_module_version": "1.2.0",
            "_view_name": "StyleView",
            "bar_color": null,
            "description_width": ""
          }
        },
        "ae0bf76b1e314b3185747f20d9432a86": {
          "model_module": "@jupyter-widgets/base",
          "model_name": "LayoutModel",
          "model_module_version": "1.2.0",
          "state": {
            "_model_module": "@jupyter-widgets/base",
            "_model_module_version": "1.2.0",
            "_model_name": "LayoutModel",
            "_view_count": null,
            "_view_module": "@jupyter-widgets/base",
            "_view_module_version": "1.2.0",
            "_view_name": "LayoutView",
            "align_content": null,
            "align_items": null,
            "align_self": null,
            "border": null,
            "bottom": null,
            "display": null,
            "flex": null,
            "flex_flow": null,
            "grid_area": null,
            "grid_auto_columns": null,
            "grid_auto_flow": null,
            "grid_auto_rows": null,
            "grid_column": null,
            "grid_gap": null,
            "grid_row": null,
            "grid_template_areas": null,
            "grid_template_columns": null,
            "grid_template_rows": null,
            "height": null,
            "justify_content": null,
            "justify_items": null,
            "left": null,
            "margin": null,
            "max_height": null,
            "max_width": null,
            "min_height": null,
            "min_width": null,
            "object_fit": null,
            "object_position": null,
            "order": null,
            "overflow": null,
            "overflow_x": null,
            "overflow_y": null,
            "padding": null,
            "right": null,
            "top": null,
            "visibility": null,
            "width": null
          }
        },
        "31be438fb7eb44c0ad3de007e7a31b6c": {
          "model_module": "@jupyter-widgets/controls",
          "model_name": "DescriptionStyleModel",
          "model_module_version": "1.5.0",
          "state": {
            "_model_module": "@jupyter-widgets/controls",
            "_model_module_version": "1.5.0",
            "_model_name": "DescriptionStyleModel",
            "_view_count": null,
            "_view_module": "@jupyter-widgets/base",
            "_view_module_version": "1.2.0",
            "_view_name": "StyleView",
            "description_width": ""
          }
        },
        "e2d795ecb6de45dba5fc861a5c456921": {
          "model_module": "@jupyter-widgets/controls",
          "model_name": "HBoxModel",
          "model_module_version": "1.5.0",
          "state": {
            "_dom_classes": [],
            "_model_module": "@jupyter-widgets/controls",
            "_model_module_version": "1.5.0",
            "_model_name": "HBoxModel",
            "_view_count": null,
            "_view_module": "@jupyter-widgets/controls",
            "_view_module_version": "1.5.0",
            "_view_name": "HBoxView",
            "box_style": "",
            "children": [
              "IPY_MODEL_cfcbd8f0c2eb48558d6233c358e949d4",
              "IPY_MODEL_666f5fc88739423384434677d143e891",
              "IPY_MODEL_2370d6683ae549b3baebf47cc30e98d7"
            ],
            "layout": "IPY_MODEL_b21f70b36fde4491ba4eb4a8235947fe"
          }
        },
        "cfcbd8f0c2eb48558d6233c358e949d4": {
          "model_module": "@jupyter-widgets/controls",
          "model_name": "HTMLModel",
          "model_module_version": "1.5.0",
          "state": {
            "_dom_classes": [],
            "_model_module": "@jupyter-widgets/controls",
            "_model_module_version": "1.5.0",
            "_model_name": "HTMLModel",
            "_view_count": null,
            "_view_module": "@jupyter-widgets/controls",
            "_view_module_version": "1.5.0",
            "_view_name": "HTMLView",
            "description": "",
            "description_tooltip": null,
            "layout": "IPY_MODEL_515c7b809da4477f82b70ef8cc9c94b9",
            "placeholder": "​",
            "style": "IPY_MODEL_17e110641e334855912998e323972e79",
            "value": "plain_text/test-00000-of-00001.parquet: 100%"
          }
        },
        "666f5fc88739423384434677d143e891": {
          "model_module": "@jupyter-widgets/controls",
          "model_name": "FloatProgressModel",
          "model_module_version": "1.5.0",
          "state": {
            "_dom_classes": [],
            "_model_module": "@jupyter-widgets/controls",
            "_model_module_version": "1.5.0",
            "_model_name": "FloatProgressModel",
            "_view_count": null,
            "_view_module": "@jupyter-widgets/controls",
            "_view_module_version": "1.5.0",
            "_view_name": "ProgressView",
            "bar_style": "success",
            "description": "",
            "description_tooltip": null,
            "layout": "IPY_MODEL_28499aff503c429282297037a439528c",
            "max": 20470363,
            "min": 0,
            "orientation": "horizontal",
            "style": "IPY_MODEL_da88790dd53c4c0d9f45d366242959ce",
            "value": 20470363
          }
        },
        "2370d6683ae549b3baebf47cc30e98d7": {
          "model_module": "@jupyter-widgets/controls",
          "model_name": "HTMLModel",
          "model_module_version": "1.5.0",
          "state": {
            "_dom_classes": [],
            "_model_module": "@jupyter-widgets/controls",
            "_model_module_version": "1.5.0",
            "_model_name": "HTMLModel",
            "_view_count": null,
            "_view_module": "@jupyter-widgets/controls",
            "_view_module_version": "1.5.0",
            "_view_name": "HTMLView",
            "description": "",
            "description_tooltip": null,
            "layout": "IPY_MODEL_92b35373a3b94489b3bf0404c8c4c790",
            "placeholder": "​",
            "style": "IPY_MODEL_6be09136eff749e2999b6c1fec8b6104",
            "value": " 20.5M/20.5M [00:00&lt;00:00, 42.6MB/s]"
          }
        },
        "b21f70b36fde4491ba4eb4a8235947fe": {
          "model_module": "@jupyter-widgets/base",
          "model_name": "LayoutModel",
          "model_module_version": "1.2.0",
          "state": {
            "_model_module": "@jupyter-widgets/base",
            "_model_module_version": "1.2.0",
            "_model_name": "LayoutModel",
            "_view_count": null,
            "_view_module": "@jupyter-widgets/base",
            "_view_module_version": "1.2.0",
            "_view_name": "LayoutView",
            "align_content": null,
            "align_items": null,
            "align_self": null,
            "border": null,
            "bottom": null,
            "display": null,
            "flex": null,
            "flex_flow": null,
            "grid_area": null,
            "grid_auto_columns": null,
            "grid_auto_flow": null,
            "grid_auto_rows": null,
            "grid_column": null,
            "grid_gap": null,
            "grid_row": null,
            "grid_template_areas": null,
            "grid_template_columns": null,
            "grid_template_rows": null,
            "height": null,
            "justify_content": null,
            "justify_items": null,
            "left": null,
            "margin": null,
            "max_height": null,
            "max_width": null,
            "min_height": null,
            "min_width": null,
            "object_fit": null,
            "object_position": null,
            "order": null,
            "overflow": null,
            "overflow_x": null,
            "overflow_y": null,
            "padding": null,
            "right": null,
            "top": null,
            "visibility": null,
            "width": null
          }
        },
        "515c7b809da4477f82b70ef8cc9c94b9": {
          "model_module": "@jupyter-widgets/base",
          "model_name": "LayoutModel",
          "model_module_version": "1.2.0",
          "state": {
            "_model_module": "@jupyter-widgets/base",
            "_model_module_version": "1.2.0",
            "_model_name": "LayoutModel",
            "_view_count": null,
            "_view_module": "@jupyter-widgets/base",
            "_view_module_version": "1.2.0",
            "_view_name": "LayoutView",
            "align_content": null,
            "align_items": null,
            "align_self": null,
            "border": null,
            "bottom": null,
            "display": null,
            "flex": null,
            "flex_flow": null,
            "grid_area": null,
            "grid_auto_columns": null,
            "grid_auto_flow": null,
            "grid_auto_rows": null,
            "grid_column": null,
            "grid_gap": null,
            "grid_row": null,
            "grid_template_areas": null,
            "grid_template_columns": null,
            "grid_template_rows": null,
            "height": null,
            "justify_content": null,
            "justify_items": null,
            "left": null,
            "margin": null,
            "max_height": null,
            "max_width": null,
            "min_height": null,
            "min_width": null,
            "object_fit": null,
            "object_position": null,
            "order": null,
            "overflow": null,
            "overflow_x": null,
            "overflow_y": null,
            "padding": null,
            "right": null,
            "top": null,
            "visibility": null,
            "width": null
          }
        },
        "17e110641e334855912998e323972e79": {
          "model_module": "@jupyter-widgets/controls",
          "model_name": "DescriptionStyleModel",
          "model_module_version": "1.5.0",
          "state": {
            "_model_module": "@jupyter-widgets/controls",
            "_model_module_version": "1.5.0",
            "_model_name": "DescriptionStyleModel",
            "_view_count": null,
            "_view_module": "@jupyter-widgets/base",
            "_view_module_version": "1.2.0",
            "_view_name": "StyleView",
            "description_width": ""
          }
        },
        "28499aff503c429282297037a439528c": {
          "model_module": "@jupyter-widgets/base",
          "model_name": "LayoutModel",
          "model_module_version": "1.2.0",
          "state": {
            "_model_module": "@jupyter-widgets/base",
            "_model_module_version": "1.2.0",
            "_model_name": "LayoutModel",
            "_view_count": null,
            "_view_module": "@jupyter-widgets/base",
            "_view_module_version": "1.2.0",
            "_view_name": "LayoutView",
            "align_content": null,
            "align_items": null,
            "align_self": null,
            "border": null,
            "bottom": null,
            "display": null,
            "flex": null,
            "flex_flow": null,
            "grid_area": null,
            "grid_auto_columns": null,
            "grid_auto_flow": null,
            "grid_auto_rows": null,
            "grid_column": null,
            "grid_gap": null,
            "grid_row": null,
            "grid_template_areas": null,
            "grid_template_columns": null,
            "grid_template_rows": null,
            "height": null,
            "justify_content": null,
            "justify_items": null,
            "left": null,
            "margin": null,
            "max_height": null,
            "max_width": null,
            "min_height": null,
            "min_width": null,
            "object_fit": null,
            "object_position": null,
            "order": null,
            "overflow": null,
            "overflow_x": null,
            "overflow_y": null,
            "padding": null,
            "right": null,
            "top": null,
            "visibility": null,
            "width": null
          }
        },
        "da88790dd53c4c0d9f45d366242959ce": {
          "model_module": "@jupyter-widgets/controls",
          "model_name": "ProgressStyleModel",
          "model_module_version": "1.5.0",
          "state": {
            "_model_module": "@jupyter-widgets/controls",
            "_model_module_version": "1.5.0",
            "_model_name": "ProgressStyleModel",
            "_view_count": null,
            "_view_module": "@jupyter-widgets/base",
            "_view_module_version": "1.2.0",
            "_view_name": "StyleView",
            "bar_color": null,
            "description_width": ""
          }
        },
        "92b35373a3b94489b3bf0404c8c4c790": {
          "model_module": "@jupyter-widgets/base",
          "model_name": "LayoutModel",
          "model_module_version": "1.2.0",
          "state": {
            "_model_module": "@jupyter-widgets/base",
            "_model_module_version": "1.2.0",
            "_model_name": "LayoutModel",
            "_view_count": null,
            "_view_module": "@jupyter-widgets/base",
            "_view_module_version": "1.2.0",
            "_view_name": "LayoutView",
            "align_content": null,
            "align_items": null,
            "align_self": null,
            "border": null,
            "bottom": null,
            "display": null,
            "flex": null,
            "flex_flow": null,
            "grid_area": null,
            "grid_auto_columns": null,
            "grid_auto_flow": null,
            "grid_auto_rows": null,
            "grid_column": null,
            "grid_gap": null,
            "grid_row": null,
            "grid_template_areas": null,
            "grid_template_columns": null,
            "grid_template_rows": null,
            "height": null,
            "justify_content": null,
            "justify_items": null,
            "left": null,
            "margin": null,
            "max_height": null,
            "max_width": null,
            "min_height": null,
            "min_width": null,
            "object_fit": null,
            "object_position": null,
            "order": null,
            "overflow": null,
            "overflow_x": null,
            "overflow_y": null,
            "padding": null,
            "right": null,
            "top": null,
            "visibility": null,
            "width": null
          }
        },
        "6be09136eff749e2999b6c1fec8b6104": {
          "model_module": "@jupyter-widgets/controls",
          "model_name": "DescriptionStyleModel",
          "model_module_version": "1.5.0",
          "state": {
            "_model_module": "@jupyter-widgets/controls",
            "_model_module_version": "1.5.0",
            "_model_name": "DescriptionStyleModel",
            "_view_count": null,
            "_view_module": "@jupyter-widgets/base",
            "_view_module_version": "1.2.0",
            "_view_name": "StyleView",
            "description_width": ""
          }
        },
        "b64f0618c6b944faad3c2360b9d55690": {
          "model_module": "@jupyter-widgets/controls",
          "model_name": "HBoxModel",
          "model_module_version": "1.5.0",
          "state": {
            "_dom_classes": [],
            "_model_module": "@jupyter-widgets/controls",
            "_model_module_version": "1.5.0",
            "_model_name": "HBoxModel",
            "_view_count": null,
            "_view_module": "@jupyter-widgets/controls",
            "_view_module_version": "1.5.0",
            "_view_name": "HBoxView",
            "box_style": "",
            "children": [
              "IPY_MODEL_ceedcf183625461f81e201cda52ca4b5",
              "IPY_MODEL_ca63cb2408064428b2bb83c3a4e80d3f",
              "IPY_MODEL_d2d1e9f4f30b4555a4df959800ff31fd"
            ],
            "layout": "IPY_MODEL_27fa557be3d04c65bc2943c1b6308c67"
          }
        },
        "ceedcf183625461f81e201cda52ca4b5": {
          "model_module": "@jupyter-widgets/controls",
          "model_name": "HTMLModel",
          "model_module_version": "1.5.0",
          "state": {
            "_dom_classes": [],
            "_model_module": "@jupyter-widgets/controls",
            "_model_module_version": "1.5.0",
            "_model_name": "HTMLModel",
            "_view_count": null,
            "_view_module": "@jupyter-widgets/controls",
            "_view_module_version": "1.5.0",
            "_view_name": "HTMLView",
            "description": "",
            "description_tooltip": null,
            "layout": "IPY_MODEL_f7206dfbbc6a4fb69c3cef046ef037c2",
            "placeholder": "​",
            "style": "IPY_MODEL_a3cc821904f84c90bc4872e76b4ecca1",
            "value": "plain_text/unsupervised-00000-of-00001.p(…): 100%"
          }
        },
        "ca63cb2408064428b2bb83c3a4e80d3f": {
          "model_module": "@jupyter-widgets/controls",
          "model_name": "FloatProgressModel",
          "model_module_version": "1.5.0",
          "state": {
            "_dom_classes": [],
            "_model_module": "@jupyter-widgets/controls",
            "_model_module_version": "1.5.0",
            "_model_name": "FloatProgressModel",
            "_view_count": null,
            "_view_module": "@jupyter-widgets/controls",
            "_view_module_version": "1.5.0",
            "_view_name": "ProgressView",
            "bar_style": "success",
            "description": "",
            "description_tooltip": null,
            "layout": "IPY_MODEL_bea64b8cbe6a4583b2aa84ee30e5cf83",
            "max": 41996509,
            "min": 0,
            "orientation": "horizontal",
            "style": "IPY_MODEL_68651aba64d94baa97e41bfe56f8ad56",
            "value": 41996509
          }
        },
        "d2d1e9f4f30b4555a4df959800ff31fd": {
          "model_module": "@jupyter-widgets/controls",
          "model_name": "HTMLModel",
          "model_module_version": "1.5.0",
          "state": {
            "_dom_classes": [],
            "_model_module": "@jupyter-widgets/controls",
            "_model_module_version": "1.5.0",
            "_model_name": "HTMLModel",
            "_view_count": null,
            "_view_module": "@jupyter-widgets/controls",
            "_view_module_version": "1.5.0",
            "_view_name": "HTMLView",
            "description": "",
            "description_tooltip": null,
            "layout": "IPY_MODEL_c7eb987d0a7c45e4a5abce3aeada7c88",
            "placeholder": "​",
            "style": "IPY_MODEL_6cd595c9e7f249ffa49fd156704d23a4",
            "value": " 42.0M/42.0M [00:00&lt;00:00, 27.7MB/s]"
          }
        },
        "27fa557be3d04c65bc2943c1b6308c67": {
          "model_module": "@jupyter-widgets/base",
          "model_name": "LayoutModel",
          "model_module_version": "1.2.0",
          "state": {
            "_model_module": "@jupyter-widgets/base",
            "_model_module_version": "1.2.0",
            "_model_name": "LayoutModel",
            "_view_count": null,
            "_view_module": "@jupyter-widgets/base",
            "_view_module_version": "1.2.0",
            "_view_name": "LayoutView",
            "align_content": null,
            "align_items": null,
            "align_self": null,
            "border": null,
            "bottom": null,
            "display": null,
            "flex": null,
            "flex_flow": null,
            "grid_area": null,
            "grid_auto_columns": null,
            "grid_auto_flow": null,
            "grid_auto_rows": null,
            "grid_column": null,
            "grid_gap": null,
            "grid_row": null,
            "grid_template_areas": null,
            "grid_template_columns": null,
            "grid_template_rows": null,
            "height": null,
            "justify_content": null,
            "justify_items": null,
            "left": null,
            "margin": null,
            "max_height": null,
            "max_width": null,
            "min_height": null,
            "min_width": null,
            "object_fit": null,
            "object_position": null,
            "order": null,
            "overflow": null,
            "overflow_x": null,
            "overflow_y": null,
            "padding": null,
            "right": null,
            "top": null,
            "visibility": null,
            "width": null
          }
        },
        "f7206dfbbc6a4fb69c3cef046ef037c2": {
          "model_module": "@jupyter-widgets/base",
          "model_name": "LayoutModel",
          "model_module_version": "1.2.0",
          "state": {
            "_model_module": "@jupyter-widgets/base",
            "_model_module_version": "1.2.0",
            "_model_name": "LayoutModel",
            "_view_count": null,
            "_view_module": "@jupyter-widgets/base",
            "_view_module_version": "1.2.0",
            "_view_name": "LayoutView",
            "align_content": null,
            "align_items": null,
            "align_self": null,
            "border": null,
            "bottom": null,
            "display": null,
            "flex": null,
            "flex_flow": null,
            "grid_area": null,
            "grid_auto_columns": null,
            "grid_auto_flow": null,
            "grid_auto_rows": null,
            "grid_column": null,
            "grid_gap": null,
            "grid_row": null,
            "grid_template_areas": null,
            "grid_template_columns": null,
            "grid_template_rows": null,
            "height": null,
            "justify_content": null,
            "justify_items": null,
            "left": null,
            "margin": null,
            "max_height": null,
            "max_width": null,
            "min_height": null,
            "min_width": null,
            "object_fit": null,
            "object_position": null,
            "order": null,
            "overflow": null,
            "overflow_x": null,
            "overflow_y": null,
            "padding": null,
            "right": null,
            "top": null,
            "visibility": null,
            "width": null
          }
        },
        "a3cc821904f84c90bc4872e76b4ecca1": {
          "model_module": "@jupyter-widgets/controls",
          "model_name": "DescriptionStyleModel",
          "model_module_version": "1.5.0",
          "state": {
            "_model_module": "@jupyter-widgets/controls",
            "_model_module_version": "1.5.0",
            "_model_name": "DescriptionStyleModel",
            "_view_count": null,
            "_view_module": "@jupyter-widgets/base",
            "_view_module_version": "1.2.0",
            "_view_name": "StyleView",
            "description_width": ""
          }
        },
        "bea64b8cbe6a4583b2aa84ee30e5cf83": {
          "model_module": "@jupyter-widgets/base",
          "model_name": "LayoutModel",
          "model_module_version": "1.2.0",
          "state": {
            "_model_module": "@jupyter-widgets/base",
            "_model_module_version": "1.2.0",
            "_model_name": "LayoutModel",
            "_view_count": null,
            "_view_module": "@jupyter-widgets/base",
            "_view_module_version": "1.2.0",
            "_view_name": "LayoutView",
            "align_content": null,
            "align_items": null,
            "align_self": null,
            "border": null,
            "bottom": null,
            "display": null,
            "flex": null,
            "flex_flow": null,
            "grid_area": null,
            "grid_auto_columns": null,
            "grid_auto_flow": null,
            "grid_auto_rows": null,
            "grid_column": null,
            "grid_gap": null,
            "grid_row": null,
            "grid_template_areas": null,
            "grid_template_columns": null,
            "grid_template_rows": null,
            "height": null,
            "justify_content": null,
            "justify_items": null,
            "left": null,
            "margin": null,
            "max_height": null,
            "max_width": null,
            "min_height": null,
            "min_width": null,
            "object_fit": null,
            "object_position": null,
            "order": null,
            "overflow": null,
            "overflow_x": null,
            "overflow_y": null,
            "padding": null,
            "right": null,
            "top": null,
            "visibility": null,
            "width": null
          }
        },
        "68651aba64d94baa97e41bfe56f8ad56": {
          "model_module": "@jupyter-widgets/controls",
          "model_name": "ProgressStyleModel",
          "model_module_version": "1.5.0",
          "state": {
            "_model_module": "@jupyter-widgets/controls",
            "_model_module_version": "1.5.0",
            "_model_name": "ProgressStyleModel",
            "_view_count": null,
            "_view_module": "@jupyter-widgets/base",
            "_view_module_version": "1.2.0",
            "_view_name": "StyleView",
            "bar_color": null,
            "description_width": ""
          }
        },
        "c7eb987d0a7c45e4a5abce3aeada7c88": {
          "model_module": "@jupyter-widgets/base",
          "model_name": "LayoutModel",
          "model_module_version": "1.2.0",
          "state": {
            "_model_module": "@jupyter-widgets/base",
            "_model_module_version": "1.2.0",
            "_model_name": "LayoutModel",
            "_view_count": null,
            "_view_module": "@jupyter-widgets/base",
            "_view_module_version": "1.2.0",
            "_view_name": "LayoutView",
            "align_content": null,
            "align_items": null,
            "align_self": null,
            "border": null,
            "bottom": null,
            "display": null,
            "flex": null,
            "flex_flow": null,
            "grid_area": null,
            "grid_auto_columns": null,
            "grid_auto_flow": null,
            "grid_auto_rows": null,
            "grid_column": null,
            "grid_gap": null,
            "grid_row": null,
            "grid_template_areas": null,
            "grid_template_columns": null,
            "grid_template_rows": null,
            "height": null,
            "justify_content": null,
            "justify_items": null,
            "left": null,
            "margin": null,
            "max_height": null,
            "max_width": null,
            "min_height": null,
            "min_width": null,
            "object_fit": null,
            "object_position": null,
            "order": null,
            "overflow": null,
            "overflow_x": null,
            "overflow_y": null,
            "padding": null,
            "right": null,
            "top": null,
            "visibility": null,
            "width": null
          }
        },
        "6cd595c9e7f249ffa49fd156704d23a4": {
          "model_module": "@jupyter-widgets/controls",
          "model_name": "DescriptionStyleModel",
          "model_module_version": "1.5.0",
          "state": {
            "_model_module": "@jupyter-widgets/controls",
            "_model_module_version": "1.5.0",
            "_model_name": "DescriptionStyleModel",
            "_view_count": null,
            "_view_module": "@jupyter-widgets/base",
            "_view_module_version": "1.2.0",
            "_view_name": "StyleView",
            "description_width": ""
          }
        },
        "bd83859167664a4a85407f98cd669cbb": {
          "model_module": "@jupyter-widgets/controls",
          "model_name": "HBoxModel",
          "model_module_version": "1.5.0",
          "state": {
            "_dom_classes": [],
            "_model_module": "@jupyter-widgets/controls",
            "_model_module_version": "1.5.0",
            "_model_name": "HBoxModel",
            "_view_count": null,
            "_view_module": "@jupyter-widgets/controls",
            "_view_module_version": "1.5.0",
            "_view_name": "HBoxView",
            "box_style": "",
            "children": [
              "IPY_MODEL_8f856aadbb814149b7ba3ae7c332e667",
              "IPY_MODEL_66a8348c78c04ba9a6e51b8a94737e39",
              "IPY_MODEL_bd4780c614f843d6b3dd95eab12d80e6"
            ],
            "layout": "IPY_MODEL_de0b01b53a684e8ea050c8f0d232ecdf"
          }
        },
        "8f856aadbb814149b7ba3ae7c332e667": {
          "model_module": "@jupyter-widgets/controls",
          "model_name": "HTMLModel",
          "model_module_version": "1.5.0",
          "state": {
            "_dom_classes": [],
            "_model_module": "@jupyter-widgets/controls",
            "_model_module_version": "1.5.0",
            "_model_name": "HTMLModel",
            "_view_count": null,
            "_view_module": "@jupyter-widgets/controls",
            "_view_module_version": "1.5.0",
            "_view_name": "HTMLView",
            "description": "",
            "description_tooltip": null,
            "layout": "IPY_MODEL_e4145fcf0af34852a72611d9880da585",
            "placeholder": "​",
            "style": "IPY_MODEL_ce30701446a24265bbe29e872008bff8",
            "value": "Generating train split: 100%"
          }
        },
        "66a8348c78c04ba9a6e51b8a94737e39": {
          "model_module": "@jupyter-widgets/controls",
          "model_name": "FloatProgressModel",
          "model_module_version": "1.5.0",
          "state": {
            "_dom_classes": [],
            "_model_module": "@jupyter-widgets/controls",
            "_model_module_version": "1.5.0",
            "_model_name": "FloatProgressModel",
            "_view_count": null,
            "_view_module": "@jupyter-widgets/controls",
            "_view_module_version": "1.5.0",
            "_view_name": "ProgressView",
            "bar_style": "success",
            "description": "",
            "description_tooltip": null,
            "layout": "IPY_MODEL_4204e7d19b94405e9afd8941064b507f",
            "max": 25000,
            "min": 0,
            "orientation": "horizontal",
            "style": "IPY_MODEL_d40001482a72425aabe7cc561b8c1d0e",
            "value": 25000
          }
        },
        "bd4780c614f843d6b3dd95eab12d80e6": {
          "model_module": "@jupyter-widgets/controls",
          "model_name": "HTMLModel",
          "model_module_version": "1.5.0",
          "state": {
            "_dom_classes": [],
            "_model_module": "@jupyter-widgets/controls",
            "_model_module_version": "1.5.0",
            "_model_name": "HTMLModel",
            "_view_count": null,
            "_view_module": "@jupyter-widgets/controls",
            "_view_module_version": "1.5.0",
            "_view_name": "HTMLView",
            "description": "",
            "description_tooltip": null,
            "layout": "IPY_MODEL_a22f373610014770b64cc059eb5367a1",
            "placeholder": "​",
            "style": "IPY_MODEL_a00c2dbb9c2a42d48e6f2b7808fe1cd6",
            "value": " 25000/25000 [00:00&lt;00:00, 80595.12 examples/s]"
          }
        },
        "de0b01b53a684e8ea050c8f0d232ecdf": {
          "model_module": "@jupyter-widgets/base",
          "model_name": "LayoutModel",
          "model_module_version": "1.2.0",
          "state": {
            "_model_module": "@jupyter-widgets/base",
            "_model_module_version": "1.2.0",
            "_model_name": "LayoutModel",
            "_view_count": null,
            "_view_module": "@jupyter-widgets/base",
            "_view_module_version": "1.2.0",
            "_view_name": "LayoutView",
            "align_content": null,
            "align_items": null,
            "align_self": null,
            "border": null,
            "bottom": null,
            "display": null,
            "flex": null,
            "flex_flow": null,
            "grid_area": null,
            "grid_auto_columns": null,
            "grid_auto_flow": null,
            "grid_auto_rows": null,
            "grid_column": null,
            "grid_gap": null,
            "grid_row": null,
            "grid_template_areas": null,
            "grid_template_columns": null,
            "grid_template_rows": null,
            "height": null,
            "justify_content": null,
            "justify_items": null,
            "left": null,
            "margin": null,
            "max_height": null,
            "max_width": null,
            "min_height": null,
            "min_width": null,
            "object_fit": null,
            "object_position": null,
            "order": null,
            "overflow": null,
            "overflow_x": null,
            "overflow_y": null,
            "padding": null,
            "right": null,
            "top": null,
            "visibility": null,
            "width": null
          }
        },
        "e4145fcf0af34852a72611d9880da585": {
          "model_module": "@jupyter-widgets/base",
          "model_name": "LayoutModel",
          "model_module_version": "1.2.0",
          "state": {
            "_model_module": "@jupyter-widgets/base",
            "_model_module_version": "1.2.0",
            "_model_name": "LayoutModel",
            "_view_count": null,
            "_view_module": "@jupyter-widgets/base",
            "_view_module_version": "1.2.0",
            "_view_name": "LayoutView",
            "align_content": null,
            "align_items": null,
            "align_self": null,
            "border": null,
            "bottom": null,
            "display": null,
            "flex": null,
            "flex_flow": null,
            "grid_area": null,
            "grid_auto_columns": null,
            "grid_auto_flow": null,
            "grid_auto_rows": null,
            "grid_column": null,
            "grid_gap": null,
            "grid_row": null,
            "grid_template_areas": null,
            "grid_template_columns": null,
            "grid_template_rows": null,
            "height": null,
            "justify_content": null,
            "justify_items": null,
            "left": null,
            "margin": null,
            "max_height": null,
            "max_width": null,
            "min_height": null,
            "min_width": null,
            "object_fit": null,
            "object_position": null,
            "order": null,
            "overflow": null,
            "overflow_x": null,
            "overflow_y": null,
            "padding": null,
            "right": null,
            "top": null,
            "visibility": null,
            "width": null
          }
        },
        "ce30701446a24265bbe29e872008bff8": {
          "model_module": "@jupyter-widgets/controls",
          "model_name": "DescriptionStyleModel",
          "model_module_version": "1.5.0",
          "state": {
            "_model_module": "@jupyter-widgets/controls",
            "_model_module_version": "1.5.0",
            "_model_name": "DescriptionStyleModel",
            "_view_count": null,
            "_view_module": "@jupyter-widgets/base",
            "_view_module_version": "1.2.0",
            "_view_name": "StyleView",
            "description_width": ""
          }
        },
        "4204e7d19b94405e9afd8941064b507f": {
          "model_module": "@jupyter-widgets/base",
          "model_name": "LayoutModel",
          "model_module_version": "1.2.0",
          "state": {
            "_model_module": "@jupyter-widgets/base",
            "_model_module_version": "1.2.0",
            "_model_name": "LayoutModel",
            "_view_count": null,
            "_view_module": "@jupyter-widgets/base",
            "_view_module_version": "1.2.0",
            "_view_name": "LayoutView",
            "align_content": null,
            "align_items": null,
            "align_self": null,
            "border": null,
            "bottom": null,
            "display": null,
            "flex": null,
            "flex_flow": null,
            "grid_area": null,
            "grid_auto_columns": null,
            "grid_auto_flow": null,
            "grid_auto_rows": null,
            "grid_column": null,
            "grid_gap": null,
            "grid_row": null,
            "grid_template_areas": null,
            "grid_template_columns": null,
            "grid_template_rows": null,
            "height": null,
            "justify_content": null,
            "justify_items": null,
            "left": null,
            "margin": null,
            "max_height": null,
            "max_width": null,
            "min_height": null,
            "min_width": null,
            "object_fit": null,
            "object_position": null,
            "order": null,
            "overflow": null,
            "overflow_x": null,
            "overflow_y": null,
            "padding": null,
            "right": null,
            "top": null,
            "visibility": null,
            "width": null
          }
        },
        "d40001482a72425aabe7cc561b8c1d0e": {
          "model_module": "@jupyter-widgets/controls",
          "model_name": "ProgressStyleModel",
          "model_module_version": "1.5.0",
          "state": {
            "_model_module": "@jupyter-widgets/controls",
            "_model_module_version": "1.5.0",
            "_model_name": "ProgressStyleModel",
            "_view_count": null,
            "_view_module": "@jupyter-widgets/base",
            "_view_module_version": "1.2.0",
            "_view_name": "StyleView",
            "bar_color": null,
            "description_width": ""
          }
        },
        "a22f373610014770b64cc059eb5367a1": {
          "model_module": "@jupyter-widgets/base",
          "model_name": "LayoutModel",
          "model_module_version": "1.2.0",
          "state": {
            "_model_module": "@jupyter-widgets/base",
            "_model_module_version": "1.2.0",
            "_model_name": "LayoutModel",
            "_view_count": null,
            "_view_module": "@jupyter-widgets/base",
            "_view_module_version": "1.2.0",
            "_view_name": "LayoutView",
            "align_content": null,
            "align_items": null,
            "align_self": null,
            "border": null,
            "bottom": null,
            "display": null,
            "flex": null,
            "flex_flow": null,
            "grid_area": null,
            "grid_auto_columns": null,
            "grid_auto_flow": null,
            "grid_auto_rows": null,
            "grid_column": null,
            "grid_gap": null,
            "grid_row": null,
            "grid_template_areas": null,
            "grid_template_columns": null,
            "grid_template_rows": null,
            "height": null,
            "justify_content": null,
            "justify_items": null,
            "left": null,
            "margin": null,
            "max_height": null,
            "max_width": null,
            "min_height": null,
            "min_width": null,
            "object_fit": null,
            "object_position": null,
            "order": null,
            "overflow": null,
            "overflow_x": null,
            "overflow_y": null,
            "padding": null,
            "right": null,
            "top": null,
            "visibility": null,
            "width": null
          }
        },
        "a00c2dbb9c2a42d48e6f2b7808fe1cd6": {
          "model_module": "@jupyter-widgets/controls",
          "model_name": "DescriptionStyleModel",
          "model_module_version": "1.5.0",
          "state": {
            "_model_module": "@jupyter-widgets/controls",
            "_model_module_version": "1.5.0",
            "_model_name": "DescriptionStyleModel",
            "_view_count": null,
            "_view_module": "@jupyter-widgets/base",
            "_view_module_version": "1.2.0",
            "_view_name": "StyleView",
            "description_width": ""
          }
        },
        "f144e994e87e42e0acd45e7aad2ad544": {
          "model_module": "@jupyter-widgets/controls",
          "model_name": "HBoxModel",
          "model_module_version": "1.5.0",
          "state": {
            "_dom_classes": [],
            "_model_module": "@jupyter-widgets/controls",
            "_model_module_version": "1.5.0",
            "_model_name": "HBoxModel",
            "_view_count": null,
            "_view_module": "@jupyter-widgets/controls",
            "_view_module_version": "1.5.0",
            "_view_name": "HBoxView",
            "box_style": "",
            "children": [
              "IPY_MODEL_7527cd045f8644b1abf29a94ece5bfc5",
              "IPY_MODEL_bdc2b787b21043a3a7c7ba3717559291",
              "IPY_MODEL_597d046ac1f64228b264b105e58eecd4"
            ],
            "layout": "IPY_MODEL_f8d761c0697546689104cb557516eac4"
          }
        },
        "7527cd045f8644b1abf29a94ece5bfc5": {
          "model_module": "@jupyter-widgets/controls",
          "model_name": "HTMLModel",
          "model_module_version": "1.5.0",
          "state": {
            "_dom_classes": [],
            "_model_module": "@jupyter-widgets/controls",
            "_model_module_version": "1.5.0",
            "_model_name": "HTMLModel",
            "_view_count": null,
            "_view_module": "@jupyter-widgets/controls",
            "_view_module_version": "1.5.0",
            "_view_name": "HTMLView",
            "description": "",
            "description_tooltip": null,
            "layout": "IPY_MODEL_c096226b0d7e401fa5df41e514a691cc",
            "placeholder": "​",
            "style": "IPY_MODEL_70ec168e18464ebd8fc325b593b49dc9",
            "value": "Generating test split: 100%"
          }
        },
        "bdc2b787b21043a3a7c7ba3717559291": {
          "model_module": "@jupyter-widgets/controls",
          "model_name": "FloatProgressModel",
          "model_module_version": "1.5.0",
          "state": {
            "_dom_classes": [],
            "_model_module": "@jupyter-widgets/controls",
            "_model_module_version": "1.5.0",
            "_model_name": "FloatProgressModel",
            "_view_count": null,
            "_view_module": "@jupyter-widgets/controls",
            "_view_module_version": "1.5.0",
            "_view_name": "ProgressView",
            "bar_style": "success",
            "description": "",
            "description_tooltip": null,
            "layout": "IPY_MODEL_6855ee5311a54c3b8b97169d521137fe",
            "max": 25000,
            "min": 0,
            "orientation": "horizontal",
            "style": "IPY_MODEL_4223ad4261ce4cc5b85760018b6b4dd7",
            "value": 25000
          }
        },
        "597d046ac1f64228b264b105e58eecd4": {
          "model_module": "@jupyter-widgets/controls",
          "model_name": "HTMLModel",
          "model_module_version": "1.5.0",
          "state": {
            "_dom_classes": [],
            "_model_module": "@jupyter-widgets/controls",
            "_model_module_version": "1.5.0",
            "_model_name": "HTMLModel",
            "_view_count": null,
            "_view_module": "@jupyter-widgets/controls",
            "_view_module_version": "1.5.0",
            "_view_name": "HTMLView",
            "description": "",
            "description_tooltip": null,
            "layout": "IPY_MODEL_f61c6c10fd0946fe8e9751157f3b6b18",
            "placeholder": "​",
            "style": "IPY_MODEL_4cbbdf4a4bec450da8bc63d1c09083a4",
            "value": " 25000/25000 [00:00&lt;00:00, 99747.16 examples/s]"
          }
        },
        "f8d761c0697546689104cb557516eac4": {
          "model_module": "@jupyter-widgets/base",
          "model_name": "LayoutModel",
          "model_module_version": "1.2.0",
          "state": {
            "_model_module": "@jupyter-widgets/base",
            "_model_module_version": "1.2.0",
            "_model_name": "LayoutModel",
            "_view_count": null,
            "_view_module": "@jupyter-widgets/base",
            "_view_module_version": "1.2.0",
            "_view_name": "LayoutView",
            "align_content": null,
            "align_items": null,
            "align_self": null,
            "border": null,
            "bottom": null,
            "display": null,
            "flex": null,
            "flex_flow": null,
            "grid_area": null,
            "grid_auto_columns": null,
            "grid_auto_flow": null,
            "grid_auto_rows": null,
            "grid_column": null,
            "grid_gap": null,
            "grid_row": null,
            "grid_template_areas": null,
            "grid_template_columns": null,
            "grid_template_rows": null,
            "height": null,
            "justify_content": null,
            "justify_items": null,
            "left": null,
            "margin": null,
            "max_height": null,
            "max_width": null,
            "min_height": null,
            "min_width": null,
            "object_fit": null,
            "object_position": null,
            "order": null,
            "overflow": null,
            "overflow_x": null,
            "overflow_y": null,
            "padding": null,
            "right": null,
            "top": null,
            "visibility": null,
            "width": null
          }
        },
        "c096226b0d7e401fa5df41e514a691cc": {
          "model_module": "@jupyter-widgets/base",
          "model_name": "LayoutModel",
          "model_module_version": "1.2.0",
          "state": {
            "_model_module": "@jupyter-widgets/base",
            "_model_module_version": "1.2.0",
            "_model_name": "LayoutModel",
            "_view_count": null,
            "_view_module": "@jupyter-widgets/base",
            "_view_module_version": "1.2.0",
            "_view_name": "LayoutView",
            "align_content": null,
            "align_items": null,
            "align_self": null,
            "border": null,
            "bottom": null,
            "display": null,
            "flex": null,
            "flex_flow": null,
            "grid_area": null,
            "grid_auto_columns": null,
            "grid_auto_flow": null,
            "grid_auto_rows": null,
            "grid_column": null,
            "grid_gap": null,
            "grid_row": null,
            "grid_template_areas": null,
            "grid_template_columns": null,
            "grid_template_rows": null,
            "height": null,
            "justify_content": null,
            "justify_items": null,
            "left": null,
            "margin": null,
            "max_height": null,
            "max_width": null,
            "min_height": null,
            "min_width": null,
            "object_fit": null,
            "object_position": null,
            "order": null,
            "overflow": null,
            "overflow_x": null,
            "overflow_y": null,
            "padding": null,
            "right": null,
            "top": null,
            "visibility": null,
            "width": null
          }
        },
        "70ec168e18464ebd8fc325b593b49dc9": {
          "model_module": "@jupyter-widgets/controls",
          "model_name": "DescriptionStyleModel",
          "model_module_version": "1.5.0",
          "state": {
            "_model_module": "@jupyter-widgets/controls",
            "_model_module_version": "1.5.0",
            "_model_name": "DescriptionStyleModel",
            "_view_count": null,
            "_view_module": "@jupyter-widgets/base",
            "_view_module_version": "1.2.0",
            "_view_name": "StyleView",
            "description_width": ""
          }
        },
        "6855ee5311a54c3b8b97169d521137fe": {
          "model_module": "@jupyter-widgets/base",
          "model_name": "LayoutModel",
          "model_module_version": "1.2.0",
          "state": {
            "_model_module": "@jupyter-widgets/base",
            "_model_module_version": "1.2.0",
            "_model_name": "LayoutModel",
            "_view_count": null,
            "_view_module": "@jupyter-widgets/base",
            "_view_module_version": "1.2.0",
            "_view_name": "LayoutView",
            "align_content": null,
            "align_items": null,
            "align_self": null,
            "border": null,
            "bottom": null,
            "display": null,
            "flex": null,
            "flex_flow": null,
            "grid_area": null,
            "grid_auto_columns": null,
            "grid_auto_flow": null,
            "grid_auto_rows": null,
            "grid_column": null,
            "grid_gap": null,
            "grid_row": null,
            "grid_template_areas": null,
            "grid_template_columns": null,
            "grid_template_rows": null,
            "height": null,
            "justify_content": null,
            "justify_items": null,
            "left": null,
            "margin": null,
            "max_height": null,
            "max_width": null,
            "min_height": null,
            "min_width": null,
            "object_fit": null,
            "object_position": null,
            "order": null,
            "overflow": null,
            "overflow_x": null,
            "overflow_y": null,
            "padding": null,
            "right": null,
            "top": null,
            "visibility": null,
            "width": null
          }
        },
        "4223ad4261ce4cc5b85760018b6b4dd7": {
          "model_module": "@jupyter-widgets/controls",
          "model_name": "ProgressStyleModel",
          "model_module_version": "1.5.0",
          "state": {
            "_model_module": "@jupyter-widgets/controls",
            "_model_module_version": "1.5.0",
            "_model_name": "ProgressStyleModel",
            "_view_count": null,
            "_view_module": "@jupyter-widgets/base",
            "_view_module_version": "1.2.0",
            "_view_name": "StyleView",
            "bar_color": null,
            "description_width": ""
          }
        },
        "f61c6c10fd0946fe8e9751157f3b6b18": {
          "model_module": "@jupyter-widgets/base",
          "model_name": "LayoutModel",
          "model_module_version": "1.2.0",
          "state": {
            "_model_module": "@jupyter-widgets/base",
            "_model_module_version": "1.2.0",
            "_model_name": "LayoutModel",
            "_view_count": null,
            "_view_module": "@jupyter-widgets/base",
            "_view_module_version": "1.2.0",
            "_view_name": "LayoutView",
            "align_content": null,
            "align_items": null,
            "align_self": null,
            "border": null,
            "bottom": null,
            "display": null,
            "flex": null,
            "flex_flow": null,
            "grid_area": null,
            "grid_auto_columns": null,
            "grid_auto_flow": null,
            "grid_auto_rows": null,
            "grid_column": null,
            "grid_gap": null,
            "grid_row": null,
            "grid_template_areas": null,
            "grid_template_columns": null,
            "grid_template_rows": null,
            "height": null,
            "justify_content": null,
            "justify_items": null,
            "left": null,
            "margin": null,
            "max_height": null,
            "max_width": null,
            "min_height": null,
            "min_width": null,
            "object_fit": null,
            "object_position": null,
            "order": null,
            "overflow": null,
            "overflow_x": null,
            "overflow_y": null,
            "padding": null,
            "right": null,
            "top": null,
            "visibility": null,
            "width": null
          }
        },
        "4cbbdf4a4bec450da8bc63d1c09083a4": {
          "model_module": "@jupyter-widgets/controls",
          "model_name": "DescriptionStyleModel",
          "model_module_version": "1.5.0",
          "state": {
            "_model_module": "@jupyter-widgets/controls",
            "_model_module_version": "1.5.0",
            "_model_name": "DescriptionStyleModel",
            "_view_count": null,
            "_view_module": "@jupyter-widgets/base",
            "_view_module_version": "1.2.0",
            "_view_name": "StyleView",
            "description_width": ""
          }
        },
        "2619ca6f3bef4d7e839301d81b5f3231": {
          "model_module": "@jupyter-widgets/controls",
          "model_name": "HBoxModel",
          "model_module_version": "1.5.0",
          "state": {
            "_dom_classes": [],
            "_model_module": "@jupyter-widgets/controls",
            "_model_module_version": "1.5.0",
            "_model_name": "HBoxModel",
            "_view_count": null,
            "_view_module": "@jupyter-widgets/controls",
            "_view_module_version": "1.5.0",
            "_view_name": "HBoxView",
            "box_style": "",
            "children": [
              "IPY_MODEL_f03e417ad84b4341a081d15d4dbf9451",
              "IPY_MODEL_c19f6090cbad47bdac44e44ba8720b8e",
              "IPY_MODEL_1c60c1fb3dbe4122afc929162df5a538"
            ],
            "layout": "IPY_MODEL_31eeb23c83304981bfc85fcacfc26512"
          }
        },
        "f03e417ad84b4341a081d15d4dbf9451": {
          "model_module": "@jupyter-widgets/controls",
          "model_name": "HTMLModel",
          "model_module_version": "1.5.0",
          "state": {
            "_dom_classes": [],
            "_model_module": "@jupyter-widgets/controls",
            "_model_module_version": "1.5.0",
            "_model_name": "HTMLModel",
            "_view_count": null,
            "_view_module": "@jupyter-widgets/controls",
            "_view_module_version": "1.5.0",
            "_view_name": "HTMLView",
            "description": "",
            "description_tooltip": null,
            "layout": "IPY_MODEL_234e7b00037743289a32949455c1fb73",
            "placeholder": "​",
            "style": "IPY_MODEL_649248d5c66d42ddb971c824282b3877",
            "value": "Generating unsupervised split: 100%"
          }
        },
        "c19f6090cbad47bdac44e44ba8720b8e": {
          "model_module": "@jupyter-widgets/controls",
          "model_name": "FloatProgressModel",
          "model_module_version": "1.5.0",
          "state": {
            "_dom_classes": [],
            "_model_module": "@jupyter-widgets/controls",
            "_model_module_version": "1.5.0",
            "_model_name": "FloatProgressModel",
            "_view_count": null,
            "_view_module": "@jupyter-widgets/controls",
            "_view_module_version": "1.5.0",
            "_view_name": "ProgressView",
            "bar_style": "success",
            "description": "",
            "description_tooltip": null,
            "layout": "IPY_MODEL_de6aff5a286148e28ecce0cf2824e006",
            "max": 50000,
            "min": 0,
            "orientation": "horizontal",
            "style": "IPY_MODEL_7a2662feb89043018741f5e520d74e45",
            "value": 50000
          }
        },
        "1c60c1fb3dbe4122afc929162df5a538": {
          "model_module": "@jupyter-widgets/controls",
          "model_name": "HTMLModel",
          "model_module_version": "1.5.0",
          "state": {
            "_dom_classes": [],
            "_model_module": "@jupyter-widgets/controls",
            "_model_module_version": "1.5.0",
            "_model_name": "HTMLModel",
            "_view_count": null,
            "_view_module": "@jupyter-widgets/controls",
            "_view_module_version": "1.5.0",
            "_view_name": "HTMLView",
            "description": "",
            "description_tooltip": null,
            "layout": "IPY_MODEL_5d472e67c06643eebc17585572e67155",
            "placeholder": "​",
            "style": "IPY_MODEL_9047630dbca54a7ea1dd5ebfa0f0c6df",
            "value": " 50000/50000 [00:00&lt;00:00, 109811.15 examples/s]"
          }
        },
        "31eeb23c83304981bfc85fcacfc26512": {
          "model_module": "@jupyter-widgets/base",
          "model_name": "LayoutModel",
          "model_module_version": "1.2.0",
          "state": {
            "_model_module": "@jupyter-widgets/base",
            "_model_module_version": "1.2.0",
            "_model_name": "LayoutModel",
            "_view_count": null,
            "_view_module": "@jupyter-widgets/base",
            "_view_module_version": "1.2.0",
            "_view_name": "LayoutView",
            "align_content": null,
            "align_items": null,
            "align_self": null,
            "border": null,
            "bottom": null,
            "display": null,
            "flex": null,
            "flex_flow": null,
            "grid_area": null,
            "grid_auto_columns": null,
            "grid_auto_flow": null,
            "grid_auto_rows": null,
            "grid_column": null,
            "grid_gap": null,
            "grid_row": null,
            "grid_template_areas": null,
            "grid_template_columns": null,
            "grid_template_rows": null,
            "height": null,
            "justify_content": null,
            "justify_items": null,
            "left": null,
            "margin": null,
            "max_height": null,
            "max_width": null,
            "min_height": null,
            "min_width": null,
            "object_fit": null,
            "object_position": null,
            "order": null,
            "overflow": null,
            "overflow_x": null,
            "overflow_y": null,
            "padding": null,
            "right": null,
            "top": null,
            "visibility": null,
            "width": null
          }
        },
        "234e7b00037743289a32949455c1fb73": {
          "model_module": "@jupyter-widgets/base",
          "model_name": "LayoutModel",
          "model_module_version": "1.2.0",
          "state": {
            "_model_module": "@jupyter-widgets/base",
            "_model_module_version": "1.2.0",
            "_model_name": "LayoutModel",
            "_view_count": null,
            "_view_module": "@jupyter-widgets/base",
            "_view_module_version": "1.2.0",
            "_view_name": "LayoutView",
            "align_content": null,
            "align_items": null,
            "align_self": null,
            "border": null,
            "bottom": null,
            "display": null,
            "flex": null,
            "flex_flow": null,
            "grid_area": null,
            "grid_auto_columns": null,
            "grid_auto_flow": null,
            "grid_auto_rows": null,
            "grid_column": null,
            "grid_gap": null,
            "grid_row": null,
            "grid_template_areas": null,
            "grid_template_columns": null,
            "grid_template_rows": null,
            "height": null,
            "justify_content": null,
            "justify_items": null,
            "left": null,
            "margin": null,
            "max_height": null,
            "max_width": null,
            "min_height": null,
            "min_width": null,
            "object_fit": null,
            "object_position": null,
            "order": null,
            "overflow": null,
            "overflow_x": null,
            "overflow_y": null,
            "padding": null,
            "right": null,
            "top": null,
            "visibility": null,
            "width": null
          }
        },
        "649248d5c66d42ddb971c824282b3877": {
          "model_module": "@jupyter-widgets/controls",
          "model_name": "DescriptionStyleModel",
          "model_module_version": "1.5.0",
          "state": {
            "_model_module": "@jupyter-widgets/controls",
            "_model_module_version": "1.5.0",
            "_model_name": "DescriptionStyleModel",
            "_view_count": null,
            "_view_module": "@jupyter-widgets/base",
            "_view_module_version": "1.2.0",
            "_view_name": "StyleView",
            "description_width": ""
          }
        },
        "de6aff5a286148e28ecce0cf2824e006": {
          "model_module": "@jupyter-widgets/base",
          "model_name": "LayoutModel",
          "model_module_version": "1.2.0",
          "state": {
            "_model_module": "@jupyter-widgets/base",
            "_model_module_version": "1.2.0",
            "_model_name": "LayoutModel",
            "_view_count": null,
            "_view_module": "@jupyter-widgets/base",
            "_view_module_version": "1.2.0",
            "_view_name": "LayoutView",
            "align_content": null,
            "align_items": null,
            "align_self": null,
            "border": null,
            "bottom": null,
            "display": null,
            "flex": null,
            "flex_flow": null,
            "grid_area": null,
            "grid_auto_columns": null,
            "grid_auto_flow": null,
            "grid_auto_rows": null,
            "grid_column": null,
            "grid_gap": null,
            "grid_row": null,
            "grid_template_areas": null,
            "grid_template_columns": null,
            "grid_template_rows": null,
            "height": null,
            "justify_content": null,
            "justify_items": null,
            "left": null,
            "margin": null,
            "max_height": null,
            "max_width": null,
            "min_height": null,
            "min_width": null,
            "object_fit": null,
            "object_position": null,
            "order": null,
            "overflow": null,
            "overflow_x": null,
            "overflow_y": null,
            "padding": null,
            "right": null,
            "top": null,
            "visibility": null,
            "width": null
          }
        },
        "7a2662feb89043018741f5e520d74e45": {
          "model_module": "@jupyter-widgets/controls",
          "model_name": "ProgressStyleModel",
          "model_module_version": "1.5.0",
          "state": {
            "_model_module": "@jupyter-widgets/controls",
            "_model_module_version": "1.5.0",
            "_model_name": "ProgressStyleModel",
            "_view_count": null,
            "_view_module": "@jupyter-widgets/base",
            "_view_module_version": "1.2.0",
            "_view_name": "StyleView",
            "bar_color": null,
            "description_width": ""
          }
        },
        "5d472e67c06643eebc17585572e67155": {
          "model_module": "@jupyter-widgets/base",
          "model_name": "LayoutModel",
          "model_module_version": "1.2.0",
          "state": {
            "_model_module": "@jupyter-widgets/base",
            "_model_module_version": "1.2.0",
            "_model_name": "LayoutModel",
            "_view_count": null,
            "_view_module": "@jupyter-widgets/base",
            "_view_module_version": "1.2.0",
            "_view_name": "LayoutView",
            "align_content": null,
            "align_items": null,
            "align_self": null,
            "border": null,
            "bottom": null,
            "display": null,
            "flex": null,
            "flex_flow": null,
            "grid_area": null,
            "grid_auto_columns": null,
            "grid_auto_flow": null,
            "grid_auto_rows": null,
            "grid_column": null,
            "grid_gap": null,
            "grid_row": null,
            "grid_template_areas": null,
            "grid_template_columns": null,
            "grid_template_rows": null,
            "height": null,
            "justify_content": null,
            "justify_items": null,
            "left": null,
            "margin": null,
            "max_height": null,
            "max_width": null,
            "min_height": null,
            "min_width": null,
            "object_fit": null,
            "object_position": null,
            "order": null,
            "overflow": null,
            "overflow_x": null,
            "overflow_y": null,
            "padding": null,
            "right": null,
            "top": null,
            "visibility": null,
            "width": null
          }
        },
        "9047630dbca54a7ea1dd5ebfa0f0c6df": {
          "model_module": "@jupyter-widgets/controls",
          "model_name": "DescriptionStyleModel",
          "model_module_version": "1.5.0",
          "state": {
            "_model_module": "@jupyter-widgets/controls",
            "_model_module_version": "1.5.0",
            "_model_name": "DescriptionStyleModel",
            "_view_count": null,
            "_view_module": "@jupyter-widgets/base",
            "_view_module_version": "1.2.0",
            "_view_name": "StyleView",
            "description_width": ""
          }
        }
      }
    }
  },
  "nbformat": 4,
  "nbformat_minor": 5
}