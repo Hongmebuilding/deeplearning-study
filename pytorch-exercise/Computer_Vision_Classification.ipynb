{
  "nbformat": 4,
  "nbformat_minor": 0,
  "metadata": {
    "colab": {
      "provenance": [],
      "gpuType": "T4"
    },
    "kernelspec": {
      "name": "python3",
      "display_name": "Python 3"
    },
    "language_info": {
      "name": "python"
    },
    "accelerator": "GPU"
  },
  "cells": [
    {
      "cell_type": "code",
      "source": [
        "import numpy as np\n",
        "\n",
        "import torch\n",
        "import torch.nn as nn\n",
        "import torch.nn.functional as F\n",
        "import torch.optim as optim\n",
        "\n",
        "import torchvision\n",
        "from torchvision import datasets, transforms\n",
        "\n",
        "import sklearn\n",
        "from sklearn.metrics import classification_report\n",
        "from tqdm import tqdm"
      ],
      "metadata": {
        "id": "YbKdfQnrSM9S"
      },
      "execution_count": null,
      "outputs": []
    },
    {
      "cell_type": "code",
      "source": [
        "from google.colab import drive\n",
        "drive.mount('/content/drive')"
      ],
      "metadata": {
        "colab": {
          "base_uri": "https://localhost:8080/"
        },
        "id": "dBDPAHT7A-0E",
        "outputId": "00e1e963-2929-43d2-d352-55af14b014d5"
      },
      "execution_count": null,
      "outputs": [
        {
          "output_type": "stream",
          "name": "stdout",
          "text": [
            "Mounted at /content/drive\n"
          ]
        }
      ]
    },
    {
      "cell_type": "code",
      "source": [
        "# seed 고정 (rand 함수 실행시 같은 결과 나올 수 있도록)\n",
        "def seed_everything(seed: int):\n",
        "    import random, os\n",
        "    import numpy as np\n",
        "    import torch\n",
        "\n",
        "    random.seed(seed)\n",
        "    os.environ['PYTHONHASHSEED'] = str(seed)\n",
        "    np.random.seed(seed)\n",
        "    torch.manual_seed(seed)\n",
        "    torch.cuda.manual_seed(seed)\n",
        "    torch.backends.cudnn.deterministic = True\n",
        "    torch.backends.cudnn.benchmark = True\n",
        "\n",
        "seed_everything(42)"
      ],
      "metadata": {
        "id": "E0re-LoUfQwo"
      },
      "execution_count": null,
      "outputs": []
    },
    {
      "cell_type": "markdown",
      "source": [
        "\n",
        "\n",
        "# 0. Convolutional Layer\n",
        "\n"
      ],
      "metadata": {
        "id": "ODbpxOTpSMfn"
      }
    },
    {
      "cell_type": "code",
      "source": [
        "# Define the convolutional layer\n",
        "conv = nn.Conv2d(in_channels=3, out_channels=2, kernel_size=3, stride=1, padding='same')\n",
        "\n",
        "for p in conv.parameters():\n",
        "    print(p)"
      ],
      "metadata": {
        "id": "AKFO-0cYSZK5",
        "colab": {
          "base_uri": "https://localhost:8080/"
        },
        "outputId": "6cfe1f7a-b708-4bb4-b12d-0de48a56d140"
      },
      "execution_count": null,
      "outputs": [
        {
          "output_type": "stream",
          "name": "stdout",
          "text": [
            "Parameter containing:\n",
            "tensor([[[[ 0.1471,  0.1597, -0.0451],\n",
            "          [ 0.1768, -0.0422,  0.0388],\n",
            "          [-0.0937,  0.1130,  0.1697]],\n",
            "\n",
            "         [[-0.1412,  0.1673,  0.0360],\n",
            "          [ 0.1422,  0.0261,  0.0928],\n",
            "          [-0.0272,  0.1484,  0.0284]],\n",
            "\n",
            "         [[-0.0898,  0.0491, -0.0887],\n",
            "          [-0.0226, -0.0782,  0.1277],\n",
            "          [-0.1519, -0.0887, -0.0543]]],\n",
            "\n",
            "\n",
            "        [[[-0.1157,  0.0182, -0.1901],\n",
            "          [ 0.1738, -0.1635,  0.1486],\n",
            "          [ 0.0320, -0.0625,  0.1189]],\n",
            "\n",
            "         [[ 0.0300,  0.1555,  0.0210],\n",
            "          [-0.0607,  0.0517, -0.0522],\n",
            "          [ 0.0810,  0.1718,  0.1112]],\n",
            "\n",
            "         [[-0.0841,  0.1111,  0.0344],\n",
            "          [ 0.0977, -0.1173, -0.1905],\n",
            "          [-0.0744, -0.1476,  0.1579]]]], requires_grad=True)\n",
            "Parameter containing:\n",
            "tensor([0.0554, 0.0797], requires_grad=True)\n"
          ]
        }
      ]
    },
    {
      "cell_type": "code",
      "source": [
        "# Define the input tensor\n",
        "input = torch.randn(10, 3, 7, 7) # Batch_size, Kernel_size, Height, Weight\n",
        "\n",
        "# Apply the convolution\n",
        "output = conv(input)\n",
        "\n",
        "# Print the output shape\n",
        "print(output.shape)"
      ],
      "metadata": {
        "id": "LXhbwFmQXScI",
        "colab": {
          "base_uri": "https://localhost:8080/"
        },
        "outputId": "199465e1-1c19-4aff-cb80-fa98961ede4d"
      },
      "execution_count": null,
      "outputs": [
        {
          "output_type": "stream",
          "name": "stdout",
          "text": [
            "torch.Size([10, 2, 7, 7])\n"
          ]
        }
      ]
    },
    {
      "cell_type": "markdown",
      "source": [
        "# 1. CNN"
      ],
      "metadata": {
        "id": "Wpy9H1mISZqI"
      }
    },
    {
      "cell_type": "markdown",
      "source": [
        "### Dataset Preparation"
      ],
      "metadata": {
        "id": "30w3v03hShKK"
      }
    },
    {
      "cell_type": "code",
      "source": [
        "train_loader = torch.utils.data.DataLoader(\n",
        "    datasets.FashionMNIST(\"data\", train=True, download=True, transform=transforms.Compose([\n",
        "        transforms.ToTensor(),\n",
        "        transforms.Normalize((0.1307,), (0.3081,))\n",
        "    ])),\n",
        "    batch_size=64, shuffle=True\n",
        ")\n",
        "\n",
        "test_loader = torch.utils.data.DataLoader(\n",
        "    datasets.FashionMNIST(\"data\", train=False, download=True, transform=transforms.Compose([\n",
        "        transforms.ToTensor(),\n",
        "        transforms.Normalize((0.1307,), (0.3081,))\n",
        "    ])),\n",
        "    batch_size=64, shuffle=True\n",
        ")\n"
      ],
      "metadata": {
        "id": "9YgHIYtbSgHz",
        "colab": {
          "base_uri": "https://localhost:8080/"
        },
        "outputId": "b25a1228-abe4-4ae6-8eda-54bda47f31b4"
      },
      "execution_count": null,
      "outputs": [
        {
          "output_type": "stream",
          "name": "stderr",
          "text": [
            "100%|██████████| 26.4M/26.4M [00:01<00:00, 13.3MB/s]\n",
            "100%|██████████| 29.5k/29.5k [00:00<00:00, 211kB/s]\n",
            "100%|██████████| 4.42M/4.42M [00:01<00:00, 3.94MB/s]\n",
            "100%|██████████| 5.15k/5.15k [00:00<00:00, 9.81MB/s]\n"
          ]
        }
      ]
    },
    {
      "cell_type": "markdown",
      "source": [
        "### CNN 선언"
      ],
      "metadata": {
        "id": "Omot8EcrSp3S"
      }
    },
    {
      "cell_type": "code",
      "execution_count": null,
      "metadata": {
        "id": "fSbIydNpXvCG"
      },
      "outputs": [],
      "source": [
        "# 모델 정의\n",
        "class FashionMNISTModel(nn.Module):\n",
        "    def __init__(self):\n",
        "        super(FashionMNISTModel, self).__init__()\n",
        "        self.conv1 = nn.Conv2d(1, 32, kernel_size=3)\n",
        "        self.conv2 = nn.Conv2d(32, 64, kernel_size=3)\n",
        "        self.fc1 = nn.Linear(64 * 5 * 5, 128)\n",
        "        self.fc2 = nn.Linear(128, 10)\n",
        "\n",
        "    def forward(self, x):\n",
        "        x = F.relu(self.conv1(x))\n",
        "        x = F.max_pool2d(x, 2)\n",
        "        x = F.relu(self.conv2(x))\n",
        "        x = F.max_pool2d(x, 2)\n",
        "        x = x.view(-1, 64 * 5 * 5)\n",
        "        x = F.relu(self.fc1(x))\n",
        "        x = self.fc2(x)\n",
        "        return F.log_softmax(x, dim=1)\n",
        "\n",
        "model = FashionMNISTModel()"
      ]
    },
    {
      "cell_type": "code",
      "source": [
        "# Loss, Optimizer 선언\n",
        "criterion = nn.CrossEntropyLoss()\n",
        "optimizer = optim.Adam(model.parameters(), lr=0.001)"
      ],
      "metadata": {
        "id": "nL6QPQy3X2PM"
      },
      "execution_count": null,
      "outputs": []
    },
    {
      "cell_type": "code",
      "source": [
        "# Training Loop\n",
        "model.train()\n",
        "\n",
        "for epoch in tqdm(range(5)):\n",
        "    for i, (images, labels) in enumerate(train_loader):\n",
        "        images = images.view(-1, 1, 28, 28)\n",
        "        labels = labels\n",
        "\n",
        "        optimizer.zero_grad()\n",
        "\n",
        "        outputs = model(images)\n",
        "        loss = criterion(outputs, labels)\n",
        "\n",
        "        loss.backward()\n",
        "        optimizer.step()\n",
        "\n",
        "        if (i + 1) % 100 == 0:\n",
        "            print('Epoch [{}/{}], Step [{}/{}], Loss: {:.4f}'.format(\n",
        "                epoch + 1, 5, i + 1, len(train_loader), loss.item()))"
      ],
      "metadata": {
        "id": "RUFrXroehUIU",
        "colab": {
          "base_uri": "https://localhost:8080/"
        },
        "outputId": "67e960db-695e-4ce6-ac2b-099908fd8fc4"
      },
      "execution_count": null,
      "outputs": [
        {
          "output_type": "stream",
          "name": "stderr",
          "text": [
            "\r  0%|          | 0/5 [00:00<?, ?it/s]"
          ]
        },
        {
          "output_type": "stream",
          "name": "stdout",
          "text": [
            "Epoch [1/5], Step [100/938], Loss: 0.4140\n",
            "Epoch [1/5], Step [200/938], Loss: 0.4059\n",
            "Epoch [1/5], Step [300/938], Loss: 0.3974\n",
            "Epoch [1/5], Step [400/938], Loss: 0.3431\n",
            "Epoch [1/5], Step [500/938], Loss: 0.4166\n",
            "Epoch [1/5], Step [600/938], Loss: 0.3133\n",
            "Epoch [1/5], Step [700/938], Loss: 0.3608\n",
            "Epoch [1/5], Step [800/938], Loss: 0.3699\n",
            "Epoch [1/5], Step [900/938], Loss: 0.3859\n"
          ]
        },
        {
          "output_type": "stream",
          "name": "stderr",
          "text": [
            "\r 20%|██        | 1/5 [00:58<03:52, 58.18s/it]"
          ]
        },
        {
          "output_type": "stream",
          "name": "stdout",
          "text": [
            "Epoch [2/5], Step [100/938], Loss: 0.3337\n",
            "Epoch [2/5], Step [200/938], Loss: 0.4295\n",
            "Epoch [2/5], Step [300/938], Loss: 0.2199\n",
            "Epoch [2/5], Step [400/938], Loss: 0.2052\n",
            "Epoch [2/5], Step [500/938], Loss: 0.2448\n",
            "Epoch [2/5], Step [600/938], Loss: 0.2085\n",
            "Epoch [2/5], Step [700/938], Loss: 0.2584\n",
            "Epoch [2/5], Step [800/938], Loss: 0.3856\n",
            "Epoch [2/5], Step [900/938], Loss: 0.1447\n"
          ]
        },
        {
          "output_type": "stream",
          "name": "stderr",
          "text": [
            "\r 40%|████      | 2/5 [01:49<02:42, 54.15s/it]"
          ]
        },
        {
          "output_type": "stream",
          "name": "stdout",
          "text": [
            "Epoch [3/5], Step [100/938], Loss: 0.3609\n",
            "Epoch [3/5], Step [200/938], Loss: 0.4281\n",
            "Epoch [3/5], Step [300/938], Loss: 0.1933\n",
            "Epoch [3/5], Step [400/938], Loss: 0.2544\n",
            "Epoch [3/5], Step [500/938], Loss: 0.2300\n",
            "Epoch [3/5], Step [600/938], Loss: 0.2816\n",
            "Epoch [3/5], Step [700/938], Loss: 0.2081\n",
            "Epoch [3/5], Step [800/938], Loss: 0.2602\n",
            "Epoch [3/5], Step [900/938], Loss: 0.1409\n"
          ]
        },
        {
          "output_type": "stream",
          "name": "stderr",
          "text": [
            "\r 60%|██████    | 3/5 [02:41<01:46, 53.14s/it]"
          ]
        },
        {
          "output_type": "stream",
          "name": "stdout",
          "text": [
            "Epoch [4/5], Step [100/938], Loss: 0.2925\n",
            "Epoch [4/5], Step [200/938], Loss: 0.1267\n",
            "Epoch [4/5], Step [300/938], Loss: 0.4202\n",
            "Epoch [4/5], Step [400/938], Loss: 0.1392\n",
            "Epoch [4/5], Step [500/938], Loss: 0.2732\n",
            "Epoch [4/5], Step [600/938], Loss: 0.1337\n",
            "Epoch [4/5], Step [700/938], Loss: 0.1779\n",
            "Epoch [4/5], Step [800/938], Loss: 0.1821\n",
            "Epoch [4/5], Step [900/938], Loss: 0.1739\n"
          ]
        },
        {
          "output_type": "stream",
          "name": "stderr",
          "text": [
            "\r 80%|████████  | 4/5 [03:31<00:51, 51.89s/it]"
          ]
        },
        {
          "output_type": "stream",
          "name": "stdout",
          "text": [
            "Epoch [5/5], Step [100/938], Loss: 0.2626\n",
            "Epoch [5/5], Step [200/938], Loss: 0.0924\n",
            "Epoch [5/5], Step [300/938], Loss: 0.2445\n",
            "Epoch [5/5], Step [400/938], Loss: 0.1382\n",
            "Epoch [5/5], Step [500/938], Loss: 0.1569\n",
            "Epoch [5/5], Step [600/938], Loss: 0.1796\n",
            "Epoch [5/5], Step [700/938], Loss: 0.1032\n",
            "Epoch [5/5], Step [800/938], Loss: 0.0699\n",
            "Epoch [5/5], Step [900/938], Loss: 0.1641\n"
          ]
        },
        {
          "output_type": "stream",
          "name": "stderr",
          "text": [
            "100%|██████████| 5/5 [04:23<00:00, 52.63s/it]\n"
          ]
        }
      ]
    },
    {
      "cell_type": "code",
      "source": [
        "# GPU 지정\n",
        "device = torch.device('cuda' if torch.cuda.is_available() else 'cpu')\n",
        "print(device)\n",
        "print(model.to(device))\n",
        "next(model.parameters()).device # model parameter 위치 확인 (cuda or cpu)"
      ],
      "metadata": {
        "id": "QLJfteQnS3ra",
        "colab": {
          "base_uri": "https://localhost:8080/"
        },
        "outputId": "52bd25ad-91a3-4aca-92a0-14d687b244e8"
      },
      "execution_count": null,
      "outputs": [
        {
          "output_type": "stream",
          "name": "stdout",
          "text": [
            "cuda\n",
            "FashionMNISTModel(\n",
            "  (conv1): Conv2d(1, 32, kernel_size=(3, 3), stride=(1, 1))\n",
            "  (conv2): Conv2d(32, 64, kernel_size=(3, 3), stride=(1, 1))\n",
            "  (fc1): Linear(in_features=1600, out_features=128, bias=True)\n",
            "  (fc2): Linear(in_features=128, out_features=10, bias=True)\n",
            ")\n"
          ]
        },
        {
          "output_type": "execute_result",
          "data": {
            "text/plain": [
              "device(type='cuda', index=0)"
            ]
          },
          "metadata": {},
          "execution_count": 13
        }
      ]
    },
    {
      "cell_type": "code",
      "source": [
        "# Loss, Optimizer 재 선언\n",
        "criterion = nn.CrossEntropyLoss()\n",
        "optimizer = optim.Adam(model.parameters(), lr=0.001)"
      ],
      "metadata": {
        "id": "pXk_r3YnkMHA"
      },
      "execution_count": null,
      "outputs": []
    },
    {
      "cell_type": "markdown",
      "source": [
        "### 모델 학습"
      ],
      "metadata": {
        "id": "nC1EPPYa1eRY"
      }
    },
    {
      "cell_type": "code",
      "source": [
        "# Training Loop using GPU\n",
        "for epoch in tqdm(range(5)):\n",
        "    for i, (images, labels) in enumerate(train_loader):\n",
        "        images = images.view(-1, 1, 28, 28).to(device)\n",
        "        labels = labels.to(device)\n",
        "        optimizer.zero_grad()\n",
        "\n",
        "        outputs = model(images)\n",
        "        loss = criterion(outputs, labels)\n",
        "\n",
        "        loss.backward()\n",
        "        optimizer.step()\n",
        "\n",
        "        # if (i + 1) % 100 == 0:\n",
        "        #     print('Epoch [{}/{}], Step [{}/{}], Loss: {:.4f}'.format(\n",
        "        #         epoch + 1, 5, i + 1, len(train_loader), loss.item()))"
      ],
      "metadata": {
        "id": "HfAU0TG7X3ZP",
        "colab": {
          "base_uri": "https://localhost:8080/"
        },
        "outputId": "38f6e3ab-a81c-43cb-8e0b-f52efd4080b9"
      },
      "execution_count": null,
      "outputs": [
        {
          "output_type": "stream",
          "name": "stderr",
          "text": [
            "100%|██████████| 5/5 [01:16<00:00, 15.39s/it]\n"
          ]
        }
      ]
    },
    {
      "cell_type": "markdown",
      "source": [
        "### 모델 평가"
      ],
      "metadata": {
        "id": "MpYlN4fY1cOI"
      }
    },
    {
      "cell_type": "code",
      "source": [
        "model.eval()\n",
        "\n",
        "y_pred, y_true = torch.zeros([64]).to(device), torch.zeros([64]).to(device)\n",
        "total, correct = 0, 0\n",
        "\n",
        "with torch.no_grad():\n",
        "    for images, labels in test_loader:\n",
        "        images = images.view(-1, 1, 28, 28).to(device)\n",
        "        labels = labels.to(device)\n",
        "        outputs = model(images)\n",
        "        _, predicted = torch.max(outputs.data, 1)\n",
        "\n",
        "        if (predicted.shape[0]!=64):\n",
        "            predicted = torch.cat([predicted, torch.zeros(64-predicted.shape[0]).to(device)])\n",
        "            labels = torch.cat([labels, torch.zeros(64-labels.shape[0]).to(device)])\n",
        "\n",
        "        y_pred = torch.cat([y_pred, predicted])\n",
        "        y_true = torch.cat([y_true, labels])\n",
        "\n",
        "        total += labels.size(0)\n",
        "        correct += (predicted == labels).sum().item()\n",
        "\n",
        "print('Test Accuracy: {}%'.format((correct / total) * 100))"
      ],
      "metadata": {
        "id": "vw9sTJvyX316",
        "colab": {
          "base_uri": "https://localhost:8080/"
        },
        "outputId": "8e4371ce-0951-4e5f-e9dd-6bf0950e4521"
      },
      "execution_count": null,
      "outputs": [
        {
          "output_type": "stream",
          "name": "stdout",
          "text": [
            "Test Accuracy: 91.43113057324841%\n"
          ]
        }
      ]
    },
    {
      "cell_type": "code",
      "source": [
        "print(classification_report(y_true.detach().cpu().numpy(), y_pred.detach().cpu().numpy()))"
      ],
      "metadata": {
        "id": "OhX0KVQLsJkP",
        "colab": {
          "base_uri": "https://localhost:8080/"
        },
        "outputId": "19638b48-a7e4-41fc-aa94-07edfbbaf9fa"
      },
      "execution_count": null,
      "outputs": [
        {
          "output_type": "stream",
          "name": "stdout",
          "text": [
            "              precision    recall  f1-score   support\n",
            "\n",
            "         0.0       0.89      0.85      0.87      1112\n",
            "         1.0       0.99      0.99      0.99      1000\n",
            "         2.0       0.82      0.90      0.86      1000\n",
            "         3.0       0.92      0.92      0.92      1000\n",
            "         4.0       0.89      0.84      0.86      1000\n",
            "         5.0       0.98      0.97      0.98      1000\n",
            "         6.0       0.75      0.76      0.76      1000\n",
            "         7.0       0.95      0.98      0.96      1000\n",
            "         8.0       0.98      0.98      0.98      1000\n",
            "         9.0       0.97      0.96      0.97      1000\n",
            "\n",
            "    accuracy                           0.91     10112\n",
            "   macro avg       0.92      0.92      0.92     10112\n",
            "weighted avg       0.92      0.91      0.91     10112\n",
            "\n"
          ]
        }
      ]
    }
  ]
}