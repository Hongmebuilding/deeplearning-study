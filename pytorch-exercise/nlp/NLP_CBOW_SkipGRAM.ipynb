{
  "cells": [
    {
      "cell_type": "markdown",
      "metadata": {
        "id": "7X5Nz4n0gQZf"
      },
      "source": [
        "## 1. 표준 토큰화"
      ]
    },
    {
      "cell_type": "markdown",
      "metadata": {
        "id": "NXT2KDbugQZi"
      },
      "source": [
        "자연어 처리에 사용되는 대표적인 파이썬 패키지에는 NLTK가 있습니다. 해당 패키지에서는 말뭉치, 토큰 생성, 형태소 분석, 품사 태킹 등을 제공합니다."
      ]
    },
    {
      "cell_type": "markdown",
      "metadata": {
        "id": "qCJ0e67rgQZi"
      },
      "source": [
        "**1.1 표준 토큰화**\n",
        "\n",
        "표준 토큰화 중 하나인 Treebank 표준 토큰화를 사용하는 방법은 아래와 같습니다."
      ]
    },
    {
      "cell_type": "code",
      "execution_count": null,
      "metadata": {
        "id": "EpnsgVROgQZj",
        "outputId": "10bc7fb3-de29-419f-bd34-54b177ffa436"
      },
      "outputs": [
        {
          "name": "stdout",
          "output_type": "stream",
          "text": [
            "['Model-based', 'RL', 'do', \"n't\", 'need', 'a', 'value', 'function', 'for', 'the', 'policy', '.']\n"
          ]
        }
      ],
      "source": [
        "from nltk.tokenize import TreebankWordTokenizer\n",
        "tokenizer = TreebankWordTokenizer()\n",
        "text = \"Model-based RL don't need a value function for the policy.\"\n",
        "print(tokenizer.tokenize(text))"
      ]
    },
    {
      "cell_type": "markdown",
      "metadata": {
        "id": "btc0SqEDgQZk"
      },
      "source": [
        "**1.2 토큰화 라이브러리**\n",
        "\n",
        "Treebank 토큰화 이외에도 NLTK 패키지에는 여러 종류의 토큰화 패키지가 있습니다. 예를 들면 아래와 같은 word_tokenizer"
      ]
    },
    {
      "cell_type": "code",
      "execution_count": null,
      "metadata": {
        "id": "FY4DYua2gQZk",
        "outputId": "47590d4e-589d-4af2-c04e-83f31a54719e"
      },
      "outputs": [
        {
          "name": "stdout",
          "output_type": "stream",
          "text": [
            "['Model-based', 'RL', 'do', \"n't\", 'need', 'a', 'value', 'function', 'for', 'the', 'policy', '.']\n"
          ]
        }
      ],
      "source": [
        "from nltk.tokenize import word_tokenize\n",
        "print(word_tokenize(text))"
      ]
    },
    {
      "cell_type": "markdown",
      "metadata": {
        "id": "R4fapiZ8gQZl"
      },
      "source": [
        "## 2. 어간 추출 및 표제어 추출\n",
        "\n",
        "단어의 형태소 level에서 분석을 하게 되면 다른 품사 또는 다른 시제의 단어라고 해도 같은 형태로 토큰화를 할 수 있습니다. 두 가지 대표적인 어간 추출 패키지를 알아봅시다."
      ]
    },
    {
      "cell_type": "markdown",
      "metadata": {
        "id": "O8fdRJiwgQZl"
      },
      "source": [
        "**2.1 어간 추출 (Stemmer) vs 표제어 추출 (Lemmatizer)**"
      ]
    },
    {
      "cell_type": "markdown",
      "metadata": {
        "id": "zAixigsegQZl"
      },
      "source": [
        "대표적인 어간 추출 (stemming) 기법인 Porter 및 Lancaster 추출 패키지를 불러오고, 이를 활용하는 방법입니다. 결과를 확인해보고, 어간 추출 기반 분석의 문제점을 확인해봅시다."
      ]
    },
    {
      "cell_type": "code",
      "execution_count": null,
      "metadata": {
        "id": "BYBHvlTNgQZm",
        "outputId": "ffef4b04-7e3d-4c01-9186-534898ad8c16"
      },
      "outputs": [
        {
          "name": "stdout",
          "output_type": "stream",
          "text": [
            "Porter Stemmer   : ['eat', 'ate', 'eaten', 'eat']\n",
            "Lancaster Stemmer: ['eat', 'at', 'eat', 'eat']\n"
          ]
        }
      ],
      "source": [
        "from nltk.stem import PorterStemmer, LancasterStemmer\n",
        "stem1 = PorterStemmer()\n",
        "stem2 = LancasterStemmer()\n",
        "words = [\"eat\", \"ate\", \"eaten\", \"eating\"]\n",
        "print(\"Porter Stemmer   :\", [stem1.stem(w) for w in words])\n",
        "print(\"Lancaster Stemmer:\", [stem2.stem(w) for w in words])"
      ]
    },
    {
      "cell_type": "code",
      "execution_count": null,
      "metadata": {
        "id": "YQmWerNNgQZm",
        "outputId": "3b340c86-7b1d-4ce8-d51e-61992bf7b538"
      },
      "outputs": [
        {
          "name": "stderr",
          "output_type": "stream",
          "text": [
            "[nltk_data] Downloading package wordnet to\n",
            "[nltk_data]     C:\\Users\\Owner\\AppData\\Roaming\\nltk_data...\n",
            "[nltk_data]   Package wordnet is already up-to-date!\n"
          ]
        },
        {
          "name": "stdout",
          "output_type": "stream",
          "text": [
            "WordNet Lemmatizer: ['eat', 'eat', 'eat', 'eat']\n"
          ]
        }
      ],
      "source": [
        "import nltk\n",
        "from nltk import WordNetLemmatizer\n",
        "nltk.download('wordnet')\n",
        "lemm = WordNetLemmatizer()\n",
        "words = [\"eat\", \"ate\", \"eaten\", \"eating\"]\n",
        "print(\"WordNet Lemmatizer:\",[lemm.lemmatize(w, pos=\"v\") for w in words])"
      ]
    },
    {
      "cell_type": "markdown",
      "metadata": {
        "id": "2Bu-7_AHgQZm"
      },
      "source": [
        "## 3. 불용어 제거\n",
        "\n",
        "**3.1 불용어 예시 확인**"
      ]
    },
    {
      "cell_type": "markdown",
      "metadata": {
        "id": "b4rtkMdegQZm"
      },
      "source": [
        "영어에서의 불용어 중 예시 몇 가지를 확인할 수 있는 방법입니다. 마지막 줄의 숫자를 증가시키면 볼 수 있는 단어의 수가 증가합니다. 마찬가지로 stopword 단어 데이터를 받기 위한 작업이 필요합니다."
      ]
    },
    {
      "cell_type": "code",
      "execution_count": null,
      "metadata": {
        "id": "usrtHKb0gQZm",
        "outputId": "429f4b16-dbe4-4b53-db79-c6885c3bb66d"
      },
      "outputs": [
        {
          "name": "stdout",
          "output_type": "stream",
          "text": [
            "['i', 'me', 'my', 'myself', 'we']\n"
          ]
        },
        {
          "name": "stderr",
          "output_type": "stream",
          "text": [
            "[nltk_data] Downloading package stopwords to\n",
            "[nltk_data]     C:\\Users\\Owner\\AppData\\Roaming\\nltk_data...\n",
            "[nltk_data]   Package stopwords is already up-to-date!\n"
          ]
        }
      ],
      "source": [
        "import nltk\n",
        "nltk.download('stopwords')\n",
        "from nltk.corpus import stopwords\n",
        "print(stopwords.words('english')[:5])"
      ]
    },
    {
      "cell_type": "code",
      "execution_count": null,
      "metadata": {
        "id": "T6uR_ZupgQZn",
        "outputId": "f379a979-1beb-4d24-cfff-3d1100ac061b"
      },
      "outputs": [
        {
          "name": "stderr",
          "output_type": "stream",
          "text": [
            "[nltk_data] Downloading package punkt to\n",
            "[nltk_data]     C:\\Users\\Owner\\AppData\\Roaming\\nltk_data...\n"
          ]
        },
        {
          "name": "stdout",
          "output_type": "stream",
          "text": [
            "['We', 'should', 'all', 'study', 'hard', 'for', 'the', 'exam', '.']\n",
            "['We', 'study', 'hard', 'exam', '.']\n"
          ]
        },
        {
          "name": "stderr",
          "output_type": "stream",
          "text": [
            "[nltk_data]   Package punkt is already up-to-date!\n"
          ]
        }
      ],
      "source": [
        "import nltk\n",
        "nltk.download('punkt')\n",
        "from nltk.corpus import stopwords\n",
        "from nltk.tokenize import word_tokenize\n",
        "\n",
        "input_sentence = \"We should all study hard for the exam.\"\n",
        "stop_words = set(stopwords.words('english'))\n",
        "word_tokens = word_tokenize(input_sentence)\n",
        "result = []\n",
        "for w in word_tokens:\n",
        "    if w not in stop_words:\n",
        "        result.append(w)\n",
        "print(word_tokens)\n",
        "print(result)"
      ]
    },
    {
      "cell_type": "markdown",
      "metadata": {
        "id": "YF6u7BXtgQZn"
      },
      "source": [
        "불용어 목록을 다운받은 다음에, 문장의 토큰화 결과에 적용시키는 과정을 담은 알고리즘입니다. 우선 word_tokenize 함수를 사용해 input_sentence를 토큰화합니다. 그리고 토큰화한 문장의 각 단어가 불용어 목록에 있는지 여부를 확인한 후에, 없을 경우에만 result에 포함시킵니다."
      ]
    },
    {
      "cell_type": "markdown",
      "metadata": {
        "id": "B5WuKzHFgQZn"
      },
      "source": [
        "## 4. 정수 인코딩 및 Sorting\n",
        "\n",
        "**4.1 Enumerate 사용 복습**"
      ]
    },
    {
      "cell_type": "code",
      "execution_count": null,
      "metadata": {
        "id": "YL6AT8aYgQZn",
        "outputId": "2c43d7af-29fe-40e0-c32c-1183b2e58c9a"
      },
      "outputs": [
        {
          "name": "stdout",
          "output_type": "stream",
          "text": [
            "Course : English, Number : 0\n",
            "Course : Math, Number : 1\n",
            "Course : Science, Number : 2\n"
          ]
        }
      ],
      "source": [
        "mylist = ['English', 'Math', 'Science']\n",
        "for n, name in enumerate(mylist):\n",
        "    print(\"Course : {}, Number : {}\".format(name, n))"
      ]
    },
    {
      "cell_type": "markdown",
      "metadata": {
        "id": "fqaVlVzfgQZn"
      },
      "source": [
        "**4.2 정수 인코딩 및 High-frequency Sorting**"
      ]
    },
    {
      "cell_type": "code",
      "execution_count": null,
      "metadata": {
        "id": "WIDCMP6MgQZn",
        "outputId": "3f9119e7-8ead-40c3-e18f-4d60135effdc"
      },
      "outputs": [
        {
          "name": "stdout",
          "output_type": "stream",
          "text": [
            "[('cup', 8), ('July', 6), ('piano', 4), ('apple', 2), ('orange', 1)]\n",
            "{'cup': 1, 'July': 2, 'piano': 3, 'apple': 4, 'orange': 5}\n"
          ]
        }
      ],
      "source": [
        "vocab = {'apple': 2, 'July': 6, 'piano': 4, 'cup': 8, 'orange': 1}\n",
        "vocab_sort = sorted(vocab.items(), key = lambda x:x[1], reverse = True)\n",
        "print(vocab_sort)\n",
        "word2inx = {word[0] : index + 1 for index, word in enumerate(vocab_sort)}\n",
        "print(word2inx)"
      ]
    },
    {
      "cell_type": "markdown",
      "metadata": {
        "id": "4NY4vTQegQZn"
      },
      "source": [
        "BoW로 만들어진 토큰화의 결과를 가장 높은 빈도수부터 재정렬하고, 이를 통해 정수 인코딩을 하는 과정을 나타내고 있습니다."
      ]
    },
    {
      "cell_type": "code",
      "execution_count": null,
      "metadata": {
        "id": "Gu0hfXougQZn",
        "outputId": "274aebad-c3d7-4c8c-bcc3-556182b71475"
      },
      "outputs": [
        {
          "name": "stdout",
          "output_type": "stream",
          "text": [
            "{'Model-based': 0, 'RL': 1, 'do': 2, \"n't\": 3, 'need': 4, 'a': 5, 'value': 6, 'function': 7, 'for': 8, 'the': 9, 'policy': 10, ',': 11, 'but': 12, 'some': 13, 'of': 14, 'algorithms': 15, 'have': 16, '.': 17}\n",
            "[2, 2, 2, 1, 1, 2, 2, 2, 1, 1, 1, 1, 1, 1, 1, 1, 1, 1]\n"
          ]
        }
      ],
      "source": [
        "from nltk.tokenize import TreebankWordTokenizer\n",
        "tokenizer = TreebankWordTokenizer()\n",
        "text = \"Model-based RL don't need a value function for the policy, \" \\\n",
        "       \"but some of Model-based RL algorithms do have a value function.\"\n",
        "token_text = tokenizer.tokenize(text)\n",
        "word2inx = {}\n",
        "Bow = []\n",
        "for word in token_text:\n",
        "    if word not in word2inx.keys():\n",
        "        word2inx[word] = len(word2inx)\n",
        "        Bow.insert(len(word2inx)-1,1)\n",
        "    else:\n",
        "        inx = word2inx.get(word)\n",
        "        Bow[inx] += 1\n",
        "print(word2inx)\n",
        "print(Bow)"
      ]
    },
    {
      "cell_type": "markdown",
      "metadata": {
        "id": "WHbhcrSmgQZn"
      },
      "source": [
        "문장으로부터 토큰화를 통해 토큰 리스트를 만들고, 이를 이용해서 BoW를 생성하는 전체 알고리즘을 나타낸 것입니다. 우선 빈 딕셔너리 Bow = []와 빈 리스트 word2inx = {}를 만들고, 리스트에 없는 단어의 경우 새로 리스트와 BoW에 단어를 추가하고, 리스트에 있는 단어의 경우 Bow의 값만 증가시켜 주는 과정을 나타냅니다."
      ]
    },
    {
      "cell_type": "markdown",
      "metadata": {
        "id": "hcfltOUygQZn"
      },
      "source": [
        "## 5. 유사도 분석\n",
        "\n",
        "**5.1 코사인 유사도**"
      ]
    },
    {
      "cell_type": "code",
      "execution_count": null,
      "metadata": {
        "id": "oj68w02YgQZn",
        "outputId": "57b8e32f-022d-4eac-ddf0-5b5cd4c85de4"
      },
      "outputs": [
        {
          "name": "stdout",
          "output_type": "stream",
          "text": [
            "0.0 0.7071067811865475 0.7071067811865475\n"
          ]
        }
      ],
      "source": [
        "import numpy as np\n",
        "def cos_sim(A, B):\n",
        "    return np.dot(A, B) / (np.linalg.norm(A)*np.linalg.norm(B))\n",
        "\n",
        "a = [1,0,0,1]\n",
        "b = [0,1,1,0]\n",
        "c = [1,1,1,1]\n",
        "print(cos_sim(a,b), cos_sim(b,c), cos_sim(c,a))"
      ]
    },
    {
      "cell_type": "markdown",
      "metadata": {
        "id": "RM7rdBCvgQZo"
      },
      "source": [
        "**5.2 레반슈타인 거리**"
      ]
    },
    {
      "cell_type": "code",
      "execution_count": null,
      "metadata": {
        "id": "xiPmNBmdgQZo",
        "outputId": "35be45dd-d5ac-4fc4-fca2-722af43b7e93"
      },
      "outputs": [
        {
          "name": "stdout",
          "output_type": "stream",
          "text": [
            "[[0. 1. 2. 3. 4. 5.]\n",
            " [1. 0. 1. 2. 3. 4.]\n",
            " [2. 1. 0. 1. 2. 3.]\n",
            " [3. 2. 1. 1. 2. 3.]\n",
            " [4. 3. 2. 2. 1. 2.]\n",
            " [5. 4. 3. 3. 2. 2.]\n",
            " [6. 5. 4. 4. 3. 2.]]\n"
          ]
        }
      ],
      "source": [
        "import numpy as np\n",
        "def leven(text1, text2):\n",
        "    len1 = len(text1) + 1\n",
        "    len2 = len(text2) + 1\n",
        "    sim_array = np.zeros((len1, len2))\n",
        "    sim_array[:,0] = np.linspace(0, len1-1, len1)\n",
        "    sim_array[0,:] = np.linspace(0, len2-1, len2)\n",
        "    for i in range(1,len1):\n",
        "        for j in range(1,len2):\n",
        "            add_char = sim_array[i-1,j] + 1\n",
        "            sub_char = sim_array[i,j-1] + 1\n",
        "            if text1[i-1] == text2[j-1]:\n",
        "                mod_char = sim_array[i-1,j-1]\n",
        "            else:\n",
        "                mod_char = sim_array[i-1,j-1] + 1\n",
        "            sim_array[i,j] = min([add_char, sub_char, mod_char])\n",
        "    return sim_array\n",
        "print(leven('데이터마이닝','데이타마닝'))"
      ]
    },
    {
      "cell_type": "markdown",
      "metadata": {
        "id": "J35NoQkagQZo"
      },
      "source": [
        "## 6. Word2Vec - CBoW, SkipGram\n",
        "\n",
        "**6.1 CBoW와 SkipGram을 위한 전처리 복습 및 Overview**"
      ]
    },
    {
      "cell_type": "code",
      "execution_count": null,
      "metadata": {
        "id": "xeEdKQrVgQZo",
        "outputId": "d4589d81-92f9-40aa-b003-49d7ef8554d7"
      },
      "outputs": [
        {
          "name": "stdout",
          "output_type": "stream",
          "text": [
            "Missing Values:  transcript    0\n",
            "url           0\n",
            "dtype: int64\n",
            "Total word count:  1511817\n",
            "Good morning. How are you?(Laughter)It's\n"
          ]
        }
      ],
      "source": [
        "import pandas as pd\n",
        "from nltk.tokenize import RegexpTokenizer\n",
        "from nltk.corpus import stopwords\n",
        "data = pd.read_csv('transcripts.csv')\n",
        "print('Missing Values: ', data.isnull().sum())\n",
        "data = data.dropna().reset_index(drop=True)\n",
        "merge_data = ''.join(str(data.iloc[i,0]) for i in range(100))\n",
        "print('Total word count: ', len(merge_data))\n",
        "print(merge_data[:40])"
      ]
    },
    {
      "cell_type": "code",
      "execution_count": null,
      "metadata": {
        "id": "OBvbvQr1gQZo",
        "outputId": "54bb6475-a904-4c8b-e7bc-a77711cb5b17"
      },
      "outputs": [
        {
          "name": "stdout",
          "output_type": "stream",
          "text": [
            "After cleaning : 147300\n",
            "['Good', 'morning', 'How', 'Laughter', 'It', 'great', 'I', 'blown', 'away', 'whole']\n"
          ]
        }
      ],
      "source": [
        "tokenizer = RegexpTokenizer(\"[\\w]+\")\n",
        "token_text = tokenizer.tokenize(merge_data)\n",
        "\n",
        "stop_words = set(stopwords.words('english'))\n",
        "token_stop_text = []\n",
        "for w in token_text:\n",
        "    if w not in stop_words:\n",
        "        token_stop_text.append(w)\n",
        "print('After cleaning :', len(token_stop_text))\n",
        "print(token_stop_text[:10])"
      ]
    },
    {
      "cell_type": "code",
      "execution_count": null,
      "metadata": {
        "id": "U-Mh9NrOgQZo",
        "outputId": "94803f7c-e751-4831-bf29-e98324b41092"
      },
      "outputs": [
        {
          "name": "stdout",
          "output_type": "stream",
          "text": [
            "Unique Words Count : 16689\n"
          ]
        }
      ],
      "source": [
        "word2inx = {}\n",
        "Bow = []\n",
        "for word in token_stop_text:\n",
        "    if word not in word2inx.keys():\n",
        "        word2inx[word] = len(word2inx)\n",
        "        Bow.insert(len(word2inx)-1,1)\n",
        "    else:\n",
        "        inx = word2inx.get(word)\n",
        "        Bow[inx] += 1\n",
        "print('Unique Words Count :', len(Bow))"
      ]
    },
    {
      "cell_type": "markdown",
      "metadata": {
        "id": "eXSeRArkgQZo"
      },
      "source": [
        "**6.2 nltk 내장 함수를 이용한 CBoW 학습**"
      ]
    },
    {
      "cell_type": "code",
      "execution_count": null,
      "metadata": {
        "id": "EM2IcdrmgQZo"
      },
      "outputs": [],
      "source": [
        "import numpy as np\n",
        "token_stop_text = np.reshape(np.array(token_stop_text),[-1,1])\n",
        "from gensim.models import Word2Vec\n",
        "model = Word2Vec(vector_size = 100, window = 5, min_count = 2, sg = 0)\n",
        "model.build_vocab(token_stop_text)\n",
        "model.train(token_stop_text, total_examples = model.corpus_count, epochs = 30, report_delay = 1)\n",
        "vocabs = model.wv.key_to_index.keys()\n",
        "word_vec_list = [model.wv[i] for i in vocabs]\n",
        "# sg : skip-gram, 1 is SG, 0 is CBoW\n",
        "# vector_size : embedded vector size\n",
        "# window : context window size\n",
        "# min_count : do not apply word2vec to sparse words"
      ]
    },
    {
      "cell_type": "markdown",
      "metadata": {
        "id": "g4QLcma5gQZo"
      },
      "source": [
        "**6.3 PCA를 통한 학습 모델 시각화**"
      ]
    },
    {
      "cell_type": "code",
      "execution_count": null,
      "metadata": {
        "id": "Z3MRrVBwgQZo",
        "outputId": "85a0035c-66b0-43d4-e019-83bb00061964"
      },
      "outputs": [
        {
          "data": {
            "image/png": "[encoded data removed]",
            "text/plain": [
              "<Figure size 432x288 with 1 Axes>"
            ]
          },
          "metadata": {
            "needs_background": "light"
          },
          "output_type": "display_data"
        }
      ],
      "source": [
        "from sklearn.decomposition import PCA\n",
        "pca = PCA(n_components = 2)\n",
        "pcafit = pca.fit_transform(word_vec_list)\n",
        "x = pcafit[0:50,0]\n",
        "y = pcafit[0:50,1]\n",
        "import matplotlib.pyplot as plt\n",
        "plt.scatter(x, y, marker = 'o')\n",
        "for i, v in enumerate(vocabs):\n",
        "    if i <= 49:\n",
        "        plt.annotate(v, xy = (x[i], y[i]))\n",
        "plt.show()"
      ]
    },
    {
      "cell_type": "markdown",
      "metadata": {
        "id": "-ERF_seagQZo"
      },
      "source": [
        "## 7. SGNS: SkipGram with Negative Sampling\n",
        "\n",
        "**7.1 SkipGram 전용 Dataset 구성**\n",
        "\n",
        "토큰화된 결과만 필요했던 CBOW 및 SkipGram과는 달리, SGNS는 두 단어의 인접 여부가 labeling이 되어 있어야 합니다. 이를 간편하게 하기 위해서 keras에서 제공하는 전처리 도구를 활용합니다. 기본적인 토큰화 과정을 거친 후에, skipgram 함수를 이용하여 데이터셋을 {단어2개} → {0 / 1} 로 매핑되어있도록 변환합니다."
      ]
    },
    {
      "cell_type": "code",
      "execution_count": null,
      "metadata": {
        "id": "TgFwsLh3gQZo",
        "outputId": "4c4f4dd2-dd5f-43a7-810d-a9edd978853b"
      },
      "outputs": [
        {
          "name": "stdout",
          "output_type": "stream",
          "text": [
            "Missing Values:  transcript    0\n",
            "url           0\n",
            "dtype: int64\n",
            "Total word count:  507413\n",
            "After cleaning : 50038\n"
          ]
        }
      ],
      "source": [
        "import pandas as pd\n",
        "from nltk.tokenize import RegexpTokenizer\n",
        "from nltk.corpus import stopwords\n",
        "import numpy as np\n",
        "data = pd.read_csv('transcripts.csv')\n",
        "print('Missing Values: ', data.isnull().sum())\n",
        "data = data.dropna().reset_index(drop=True)\n",
        "merge_data = ''.join(str(data.iloc[i,0]) for i in range(30))\n",
        "print('Total word count: ', len(merge_data))\n",
        "\n",
        "tokenizer = RegexpTokenizer(\"[\\w]+\")\n",
        "token_text = tokenizer.tokenize(merge_data)\n",
        "\n",
        "stop_words = set(stopwords.words('english'))\n",
        "token_stop_text = []\n",
        "for w in token_text:\n",
        "    if w not in stop_words:\n",
        "        token_stop_text.append(w)\n",
        "print('After cleaning :', len(token_stop_text))"
      ]
    },
    {
      "cell_type": "code",
      "execution_count": null,
      "metadata": {
        "id": "TDLPwaqzgQZp"
      },
      "outputs": [],
      "source": [
        "from tensorflow.keras.preprocessing.text import Tokenizer\n",
        "tokenizer = Tokenizer()\n",
        "tokenizer.fit_on_texts(token_stop_text)\n",
        "word2idx = tokenizer.word_index\n",
        "encoded = tokenizer.texts_to_sequences(token_stop_text)\n",
        "encoded = np.array(encoded).T\n",
        "from tensorflow.keras.preprocessing.sequence import skipgrams\n",
        "skip_gram = [skipgrams(sample, vocabulary_size = len(word2idx)+1,\n",
        "                       window_size = 10) for sample in encoded]"
      ]
    },
    {
      "cell_type": "code",
      "execution_count": null,
      "metadata": {
        "id": "bEfbQOmkgQZp"
      },
      "outputs": [],
      "source": [
        "import torch\n",
        "import torch.nn as nn\n",
        "from torch import LongTensor as LT\n",
        "from torch import FloatTensor as FT"
      ]
    },
    {
      "cell_type": "markdown",
      "metadata": {
        "id": "mmrG_4h9gQZt"
      },
      "source": [
        "Word2Vec의 원리는 각 단어마다 지정된 고유 벡터 값을 생성하는 것입니다. 이를 위해서는 고유의 벡터를 의미하는 embedding layer를 만들어야 합니다. 다음 Word2Vec class에서 그 틀을 생성합니다."
      ]
    },
    {
      "cell_type": "code",
      "execution_count": null,
      "metadata": {
        "id": "tktffkgGgQZu"
      },
      "outputs": [],
      "source": [
        "class Word2Vec(nn.Module):\n",
        "    def __init__(self, vocab_size, embed_size):\n",
        "        super(Word2Vec, self).__init__()\n",
        "        self.vocab_size = vocab_size\n",
        "        self.embed_size = embed_size\n",
        "        self.word1_vector = nn.Embedding(self.vocab_size, self.embed_size)\n",
        "        self.word2_vector = nn.Embedding(self.vocab_size, self.embed_size)\n",
        "        self.word1_vector.weight = nn.Parameter(torch.cat([torch.zeros(1, self.embed_size), FT(self.vocab_size-1,\n",
        "                                                                       self.embed_size).uniform_(-0.1, 0.1)]))\n",
        "        self.word2_vector.weight = nn.Parameter(torch.cat([torch.zeros(1, self.embed_size), FT(self.vocab_size - 1,\n",
        "                                                                       self.embed_size).uniform_(-0.1, 0.1)]))\n",
        "        self.word1_vector.weight.requires_grad = True\n",
        "        self.word2_vector.weight.requires_grad = True\n",
        "\n",
        "    def forward_word1(self, data):\n",
        "        vec = LT(data)\n",
        "        vec = vec.cuda() if self.word1_vector.weight.is_cuda else vec\n",
        "        return self.word1_vector(vec)\n",
        "\n",
        "    def forward_word2(self, data):\n",
        "        vec = LT(data)\n",
        "        vec = vec.cuda() if self.word2_vector.weight.is_cuda else vec\n",
        "        return self.word2_vector(vec)"
      ]
    },
    {
      "cell_type": "markdown",
      "metadata": {
        "id": "M7XogqjzgQZu"
      },
      "source": [
        "**torch.bmm**\n",
        "\n",
        "[B, n, m] x [B, m, p] = [B, n, p]"
      ]
    },
    {
      "cell_type": "code",
      "execution_count": null,
      "metadata": {
        "id": "aDzGmDkegQZu"
      },
      "outputs": [],
      "source": [
        "class SGNS(nn.Module):\n",
        "    def __init__(self, embed, vocab_size):\n",
        "        super(SGNS, self).__init__()\n",
        "        self.embed = embed\n",
        "        self.vocab_size = vocab_size\n",
        "        self.weights = None\n",
        "    def forward(self, word1, word2, label):\n",
        "        word1 = self.embed.forward_word1(word1).unsqueeze(1)\n",
        "        word2 = self.embed.forward_word2(word2).unsqueeze(2)\n",
        "        label = LT(label).unsqueeze(1)\n",
        "        prediction = torch.bmm(word1, word2).squeeze(2).sigmoid().log()\n",
        "        loss = -label * prediction\n",
        "        return loss.mean()"
      ]
    },
    {
      "cell_type": "markdown",
      "metadata": {
        "id": "hzVsdJY4gQZu"
      },
      "source": [
        "- Q) torch.bmm의 계산 형태는?\n",
        "    - Recap) 왜 MLP의 형태처럼 loss 계산이 불가능한가?\n",
        "    - Recap) negative sampling을 어떻게 처리하고 있는가?\n",
        "- Q) .unqueeze()와 .squeeze()의 역할은?\n",
        "- Q) 이 코드에서 loss로 정의된 term이 cross-entropy를 대신할 수 있는 이유는?"
      ]
    },
    {
      "cell_type": "code",
      "execution_count": null,
      "metadata": {
        "id": "EeYWiCaIgQZu",
        "outputId": "51c76a02-80ef-4d72-889d-ce857ca31c63"
      },
      "outputs": [
        {
          "name": "stdout",
          "output_type": "stream",
          "text": [
            "Train Ready\n"
          ]
        }
      ],
      "source": [
        "from torch.optim import Adam\n",
        "from torch.utils.data import DataLoader, TensorDataset\n",
        "from tqdm import tqdm\n",
        "vocab_size = len(word2idx)+1\n",
        "word2vec = Word2Vec(vocab_size = vocab_size, embed_size = 100)\n",
        "sgns = SGNS(embed = word2vec, vocab_size = vocab_size)\n",
        "optim = Adam(sgns.parameters())\n",
        "print('Train Ready')"
      ]
    },
    {
      "cell_type": "code",
      "execution_count": null,
      "metadata": {
        "id": "KvmSjh4KgQZu",
        "outputId": "9cd730f6-101f-4b6e-b448-8840fe7c0954"
      },
      "outputs": [
        {
          "name": "stdout",
          "output_type": "stream",
          "text": [
            "Data Loaded\n"
          ]
        }
      ],
      "source": [
        "for _, element in enumerate(skip_gram):\n",
        "    word1 = LT(np.array(list(zip(*element[0]))[0], dtype = 'int32'))\n",
        "    word2 = LT(np.array(list(zip(*element[0]))[1], dtype = 'int32'))\n",
        "    label = LT(np.array(element[1], dtype = 'int32'))\n",
        "    dataset = TensorDataset(word1, word2, label)\n",
        "    train_loader = DataLoader(dataset, batch_size = 256, shuffle = True)\n",
        "print('Data Loaded')"
      ]
    },
    {
      "cell_type": "code",
      "execution_count": null,
      "metadata": {
        "id": "qdyDQwsXgQZu",
        "outputId": "d99c5405-5db2-4d0f-aa88-f81a26d7380d"
      },
      "outputs": [
        {
          "name": "stderr",
          "output_type": "stream",
          "text": [
            "Epoch 0: 100%|██████████████████████████████████████████████████████████████████████████████████████| 7818/7818 [06:49<00:00, 19.08batch/s, loss=0.000877]\n",
            "Epoch 1: 100%|███████████████████████████████████████████████████████████████████████████████████████| 7818/7818 [07:10<00:00, 18.17batch/s, loss=1.42e-5]\n",
            "Epoch 2: 100%|███████████████████████████████████████████████████████████████████████████████████████| 7818/7818 [09:55<00:00, 13.13batch/s, loss=7.22e-7]\n",
            "Epoch 3: 100%|███████████████████████████████████████████████████████████████████████████████████████| 7818/7818 [10:46<00:00, 12.08batch/s, loss=3.67e-7]\n",
            "Epoch 4: 100%|███████████████████████████████████████████████████████████████████████████████████████| 7818/7818 [09:25<00:00, 13.81batch/s, loss=1.52e-7]\n"
          ]
        }
      ],
      "source": [
        "for epoch in range(5):\n",
        "    with tqdm(train_loader, unit = 'batch') as tepoch:\n",
        "        for word1, word2, label in tepoch:\n",
        "            loss = sgns(word1, word2, label)\n",
        "            optim.zero_grad()\n",
        "            loss.backward()\n",
        "            optim.step()\n",
        "            tepoch.set_description(f\"Epoch {epoch}\")\n",
        "            tepoch.set_postfix(loss = loss.item())"
      ]
    },
    {
      "cell_type": "code",
      "execution_count": null,
      "metadata": {
        "id": "THiTmyjtgQZu"
      },
      "outputs": [],
      "source": [
        "f = open('vectors.txt' ,'w')\n",
        "ww = 0\n",
        "f.write('{} {}\\n'.format(7930, 100))\n",
        "vectors = word2vec.word1_vector.weight.detach().numpy()\n",
        "for i, v in enumerate(word2idx.keys()):\n",
        "    try:\n",
        "        f.write('{} {}\\n'.format(v, ' '.join(map(str, list(vectors[i+1, :])))))\n",
        "        ww += 1\n",
        "    except:\n",
        "        continue\n",
        "f.close()\n",
        "import gensim\n",
        "embed_word2vec = gensim.models.KeyedVectors.load_word2vec_format('vectors.txt', binary = False)"
      ]
    },
    {
      "cell_type": "code",
      "execution_count": null,
      "metadata": {
        "id": "K6fjAcCXgQZu",
        "outputId": "2eba09b0-2c8f-4fa2-bd91-cdf9b015fd5d"
      },
      "outputs": [
        {
          "data": {
            "text/plain": [
              "[('surrendered', 0.9797583818435669),\n",
              " ('sub', 0.9773496389389038),\n",
              " ('provides', 0.9766472578048706),\n",
              " ('common', 0.9757347702980042),\n",
              " ('engineering', 0.9757211208343506),\n",
              " ('personally', 0.9757030606269836),\n",
              " ('balls', 0.9755247235298157),\n",
              " ('dialogue', 0.9754824042320251),\n",
              " ('stone', 0.9754723310470581),\n",
              " ('notable', 0.9754436612129211)]"
            ]
          },
          "execution_count": 46,
          "metadata": {},
          "output_type": "execute_result"
        }
      ],
      "source": [
        "embed_word2vec.most_similar(positive = ['obey'])"
      ]
    },
    {
      "cell_type": "code",
      "execution_count": null,
      "metadata": {
        "id": "wuHnxHhygQZu",
        "outputId": "b213d263-cad7-4d30-ce4b-6ba826701690"
      },
      "outputs": [
        {
          "data": {
            "text/plain": [
              "[('so', 0.9865245223045349),\n",
              " ('laughter', 0.9864029884338379),\n",
              " ('they', 0.9860155582427979),\n",
              " ('would', 0.9858425855636597),\n",
              " ('i', 0.985619068145752),\n",
              " ('somebody', 0.9854831099510193),\n",
              " ('away', 0.9853171110153198),\n",
              " ('mean', 0.9852977991104126),\n",
              " ('year', 0.985295295715332),\n",
              " ('think', 0.9851071834564209)]"
            ]
          },
          "execution_count": 24,
          "metadata": {},
          "output_type": "execute_result"
        }
      ],
      "source": [
        "embed_word2vec.most_similar(positive = ['love'])"
      ]
    },
    {
      "cell_type": "code",
      "execution_count": null,
      "metadata": {
        "id": "4meE6nVegQZu"
      },
      "outputs": [],
      "source": []
    }
  ],
  "metadata": {
    "kernelspec": {
      "display_name": "Python 3",
      "language": "python",
      "name": "python3"
    },
    "language_info": {
      "codemirror_mode": {
        "name": "ipython",
        "version": 3
      },
      "file_extension": ".py",
      "mimetype": "text/x-python",
      "name": "python",
      "nbconvert_exporter": "python",
      "pygments_lexer": "ipython3",
      "version": "3.8.5"
    },
    "colab": {
      "provenance": []
    }
  },
  "nbformat": 4,
  "nbformat_minor": 0
}