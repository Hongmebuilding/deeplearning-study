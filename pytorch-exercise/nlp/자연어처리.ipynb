{
  "nbformat": 4,
  "nbformat_minor": 0,
  "metadata": {
    "colab": {
      "provenance": [],
      "gpuType": "T4"
    },
    "kernelspec": {
      "name": "python3",
      "display_name": "Python 3"
    },
    "language_info": {
      "name": "python"
    },
    "accelerator": "GPU"
  },
  "cells": [
    {
      "cell_type": "code",
      "execution_count": null,
      "metadata": {
        "id": "xIrxo3KHYywg",
        "colab": {
          "base_uri": "https://localhost:8080/"
        },
        "outputId": "e7158f81-4d10-479f-bf1e-1aa6023daa5a"
      },
      "outputs": [
        {
          "output_type": "stream",
          "name": "stdout",
          "text": [
            "Collecting konlpy\n",
            "  Using cached konlpy-0.6.0-py2.py3-none-any.whl.metadata (1.9 kB)\n",
            "Collecting JPype1>=0.7.0 (from konlpy)\n",
            "  Using cached jpype1-1.6.0-cp311-cp311-manylinux2014_x86_64.manylinux_2_17_x86_64.whl.metadata (5.0 kB)\n",
            "Requirement already satisfied: lxml>=4.1.0 in /usr/local/lib/python3.11/dist-packages (from konlpy) (5.4.0)\n",
            "Requirement already satisfied: numpy>=1.6 in /usr/local/lib/python3.11/dist-packages (from konlpy) (1.23.5)\n",
            "Requirement already satisfied: packaging in /usr/local/lib/python3.11/dist-packages (from JPype1>=0.7.0->konlpy) (25.0)\n",
            "Using cached konlpy-0.6.0-py2.py3-none-any.whl (19.4 MB)\n",
            "Using cached jpype1-1.6.0-cp311-cp311-manylinux2014_x86_64.manylinux_2_17_x86_64.whl (496 kB)\n",
            "Installing collected packages: JPype1, konlpy\n",
            "Successfully installed JPype1-1.6.0 konlpy-0.6.0\n",
            "Requirement already satisfied: nltk in /usr/local/lib/python3.11/dist-packages (3.9.1)\n",
            "Requirement already satisfied: click in /usr/local/lib/python3.11/dist-packages (from nltk) (8.2.1)\n",
            "Requirement already satisfied: joblib in /usr/local/lib/python3.11/dist-packages (from nltk) (1.5.1)\n",
            "Requirement already satisfied: regex>=2021.8.3 in /usr/local/lib/python3.11/dist-packages (from nltk) (2024.11.6)\n",
            "Requirement already satisfied: tqdm in /usr/local/lib/python3.11/dist-packages (from nltk) (4.67.1)\n",
            "Requirement already satisfied: Markdown in /usr/local/lib/python3.11/dist-packages (3.8.2)\n",
            "Requirement already satisfied: gensim in /usr/local/lib/python3.11/dist-packages (4.3.3)\n",
            "Requirement already satisfied: numpy<2.0,>=1.18.5 in /usr/local/lib/python3.11/dist-packages (from gensim) (1.23.5)\n",
            "Requirement already satisfied: scipy<1.14.0,>=1.7.0 in /usr/local/lib/python3.11/dist-packages (from gensim) (1.13.1)\n",
            "Requirement already satisfied: smart-open>=1.8.1 in /usr/local/lib/python3.11/dist-packages (from gensim) (7.3.0.post1)\n",
            "Requirement already satisfied: wrapt in /usr/local/lib/python3.11/dist-packages (from smart-open>=1.8.1->gensim) (1.17.3)\n"
          ]
        }
      ],
      "source": [
        "!pip install konlpy\n",
        "!pip install nltk\n",
        "!pip install Markdown\n",
        "!pip install gensim\n",
        "\n",
        "import re, collections\n",
        "from IPython.display import display, Markdown, Latex\n",
        "from nltk.corpus import stopwords\n",
        "from nltk.tokenize import word_tokenize\n",
        "import pandas as pd\n",
        "import matplotlib.pyplot as plt\n",
        "import urllib.request\n",
        "from tqdm import tqdm\n",
        "from gensim.models.word2vec import Word2Vec\n",
        "from konlpy.tag import Okt"
      ]
    },
    {
      "cell_type": "code",
      "source": [
        "from google.colab import drive\n",
        "drive.mount('/content/drive')"
      ],
      "metadata": {
        "colab": {
          "base_uri": "https://localhost:8080/",
          "height": 311
        },
        "id": "GQiHQHeijy00",
        "outputId": "484220d3-e37b-429c-a6f7-1daaf8380c05"
      },
      "execution_count": null,
      "outputs": [
        {
          "output_type": "error",
          "ename": "MessageError",
          "evalue": "Error: credential propagation was unsuccessful",
          "traceback": [
            "\u001b[0;31m---------------------------------------------------------------------------\u001b[0m",
            "\u001b[0;31mMessageError\u001b[0m                              Traceback (most recent call last)",
            "\u001b[0;32m/tmp/ipython-input-1408506528.py\u001b[0m in \u001b[0;36m<cell line: 0>\u001b[0;34m()\u001b[0m\n\u001b[1;32m      1\u001b[0m \u001b[0;32mfrom\u001b[0m \u001b[0mgoogle\u001b[0m\u001b[0;34m.\u001b[0m\u001b[0mcolab\u001b[0m \u001b[0;32mimport\u001b[0m \u001b[0mdrive\u001b[0m\u001b[0;34m\u001b[0m\u001b[0;34m\u001b[0m\u001b[0m\n\u001b[0;32m----> 2\u001b[0;31m \u001b[0mdrive\u001b[0m\u001b[0;34m.\u001b[0m\u001b[0mmount\u001b[0m\u001b[0;34m(\u001b[0m\u001b[0;34m'/content/drive'\u001b[0m\u001b[0;34m)\u001b[0m\u001b[0;34m\u001b[0m\u001b[0;34m\u001b[0m\u001b[0m\n\u001b[0m",
            "\u001b[0;32m/usr/local/lib/python3.11/dist-packages/google/colab/drive.py\u001b[0m in \u001b[0;36mmount\u001b[0;34m(mountpoint, force_remount, timeout_ms, readonly)\u001b[0m\n\u001b[1;32m     98\u001b[0m \u001b[0;32mdef\u001b[0m \u001b[0mmount\u001b[0m\u001b[0;34m(\u001b[0m\u001b[0mmountpoint\u001b[0m\u001b[0;34m,\u001b[0m \u001b[0mforce_remount\u001b[0m\u001b[0;34m=\u001b[0m\u001b[0;32mFalse\u001b[0m\u001b[0;34m,\u001b[0m \u001b[0mtimeout_ms\u001b[0m\u001b[0;34m=\u001b[0m\u001b[0;36m120000\u001b[0m\u001b[0;34m,\u001b[0m \u001b[0mreadonly\u001b[0m\u001b[0;34m=\u001b[0m\u001b[0;32mFalse\u001b[0m\u001b[0;34m)\u001b[0m\u001b[0;34m:\u001b[0m\u001b[0;34m\u001b[0m\u001b[0;34m\u001b[0m\u001b[0m\n\u001b[1;32m     99\u001b[0m   \u001b[0;34m\"\"\"Mount your Google Drive at the specified mountpoint path.\"\"\"\u001b[0m\u001b[0;34m\u001b[0m\u001b[0;34m\u001b[0m\u001b[0m\n\u001b[0;32m--> 100\u001b[0;31m   return _mount(\n\u001b[0m\u001b[1;32m    101\u001b[0m       \u001b[0mmountpoint\u001b[0m\u001b[0;34m,\u001b[0m\u001b[0;34m\u001b[0m\u001b[0;34m\u001b[0m\u001b[0m\n\u001b[1;32m    102\u001b[0m       \u001b[0mforce_remount\u001b[0m\u001b[0;34m=\u001b[0m\u001b[0mforce_remount\u001b[0m\u001b[0;34m,\u001b[0m\u001b[0;34m\u001b[0m\u001b[0;34m\u001b[0m\u001b[0m\n",
            "\u001b[0;32m/usr/local/lib/python3.11/dist-packages/google/colab/drive.py\u001b[0m in \u001b[0;36m_mount\u001b[0;34m(mountpoint, force_remount, timeout_ms, ephemeral, readonly)\u001b[0m\n\u001b[1;32m    135\u001b[0m   )\n\u001b[1;32m    136\u001b[0m   \u001b[0;32mif\u001b[0m \u001b[0mephemeral\u001b[0m\u001b[0;34m:\u001b[0m\u001b[0;34m\u001b[0m\u001b[0;34m\u001b[0m\u001b[0m\n\u001b[0;32m--> 137\u001b[0;31m     _message.blocking_request(\n\u001b[0m\u001b[1;32m    138\u001b[0m         \u001b[0;34m'request_auth'\u001b[0m\u001b[0;34m,\u001b[0m\u001b[0;34m\u001b[0m\u001b[0;34m\u001b[0m\u001b[0m\n\u001b[1;32m    139\u001b[0m         \u001b[0mrequest\u001b[0m\u001b[0;34m=\u001b[0m\u001b[0;34m{\u001b[0m\u001b[0;34m'authType'\u001b[0m\u001b[0;34m:\u001b[0m \u001b[0;34m'dfs_ephemeral'\u001b[0m\u001b[0;34m}\u001b[0m\u001b[0;34m,\u001b[0m\u001b[0;34m\u001b[0m\u001b[0;34m\u001b[0m\u001b[0m\n",
            "\u001b[0;32m/usr/local/lib/python3.11/dist-packages/google/colab/_message.py\u001b[0m in \u001b[0;36mblocking_request\u001b[0;34m(request_type, request, timeout_sec, parent)\u001b[0m\n\u001b[1;32m    174\u001b[0m       \u001b[0mrequest_type\u001b[0m\u001b[0;34m,\u001b[0m \u001b[0mrequest\u001b[0m\u001b[0;34m,\u001b[0m \u001b[0mparent\u001b[0m\u001b[0;34m=\u001b[0m\u001b[0mparent\u001b[0m\u001b[0;34m,\u001b[0m \u001b[0mexpect_reply\u001b[0m\u001b[0;34m=\u001b[0m\u001b[0;32mTrue\u001b[0m\u001b[0;34m\u001b[0m\u001b[0;34m\u001b[0m\u001b[0m\n\u001b[1;32m    175\u001b[0m   )\n\u001b[0;32m--> 176\u001b[0;31m   \u001b[0;32mreturn\u001b[0m \u001b[0mread_reply_from_input\u001b[0m\u001b[0;34m(\u001b[0m\u001b[0mrequest_id\u001b[0m\u001b[0;34m,\u001b[0m \u001b[0mtimeout_sec\u001b[0m\u001b[0;34m)\u001b[0m\u001b[0;34m\u001b[0m\u001b[0;34m\u001b[0m\u001b[0m\n\u001b[0m",
            "\u001b[0;32m/usr/local/lib/python3.11/dist-packages/google/colab/_message.py\u001b[0m in \u001b[0;36mread_reply_from_input\u001b[0;34m(message_id, timeout_sec)\u001b[0m\n\u001b[1;32m    101\u001b[0m     ):\n\u001b[1;32m    102\u001b[0m       \u001b[0;32mif\u001b[0m \u001b[0;34m'error'\u001b[0m \u001b[0;32min\u001b[0m \u001b[0mreply\u001b[0m\u001b[0;34m:\u001b[0m\u001b[0;34m\u001b[0m\u001b[0;34m\u001b[0m\u001b[0m\n\u001b[0;32m--> 103\u001b[0;31m         \u001b[0;32mraise\u001b[0m \u001b[0mMessageError\u001b[0m\u001b[0;34m(\u001b[0m\u001b[0mreply\u001b[0m\u001b[0;34m[\u001b[0m\u001b[0;34m'error'\u001b[0m\u001b[0;34m]\u001b[0m\u001b[0;34m)\u001b[0m\u001b[0;34m\u001b[0m\u001b[0;34m\u001b[0m\u001b[0m\n\u001b[0m\u001b[1;32m    104\u001b[0m       \u001b[0;32mreturn\u001b[0m \u001b[0mreply\u001b[0m\u001b[0;34m.\u001b[0m\u001b[0mget\u001b[0m\u001b[0;34m(\u001b[0m\u001b[0;34m'data'\u001b[0m\u001b[0;34m,\u001b[0m \u001b[0;32mNone\u001b[0m\u001b[0;34m)\u001b[0m\u001b[0;34m\u001b[0m\u001b[0;34m\u001b[0m\u001b[0m\n\u001b[1;32m    105\u001b[0m \u001b[0;34m\u001b[0m\u001b[0m\n",
            "\u001b[0;31mMessageError\u001b[0m: Error: credential propagation was unsuccessful"
          ]
        }
      ]
    },
    {
      "cell_type": "markdown",
      "source": [
        "# 1. 텍스트 데이터 전처리\n",
        "\n",
        "\n",
        "\n"
      ],
      "metadata": {
        "id": "6rqvJiafBY_O"
      }
    },
    {
      "cell_type": "markdown",
      "source": [
        "\n",
        "\n",
        "\n",
        "- Task 목적에 맞게 수행\n",
        "- 직접 데이터를 살펴보면서 반복적으로 수행해야하기 때문에 공수 많이 발생, 하지만 필수적이고 중요한 단계\n"
      ],
      "metadata": {
        "id": "qa-EQD-nAxGb"
      }
    },
    {
      "cell_type": "markdown",
      "source": [
        "### 1) 텍스트 클리닝\n",
        "- 주로 정규식(regex) 사용\n",
        "- 크롤링 데이터의 경우 html tag 제거\n",
        "- 필요하지 않은 특수문자 치환 또는 제거\n",
        "- ㄱ-ㅎ/ㅏ-ㅣ 등 자음과 모음으로만 이루어진 글자들 제거\n",
        "- @#$%^&*()등"
      ],
      "metadata": {
        "id": "PNyMgb11DGHv"
      }
    },
    {
      "cell_type": "code",
      "source": [
        "punct = \"/-'?!.,#$%\\'()*+-/:;<=>@[\\\\]^_`{|}~\" + '\"\"“”’' + '∞θ÷α•à−β∅³π‘₹´°£€\\×™√²—–&'\n",
        "punct_mapping = {\"‘\": \"'\", \"₹\": \"e\", \"´\": \"'\", \"°\": \"\", \"€\": \"e\", \"™\": \"tm\", \"√\": \" sqrt \", \"×\": \"x\", \"²\": \"2\", \"—\": \"-\", \"–\": \"-\", \"’\": \"'\", \"_\": \"-\", \"`\": \"'\", '“': '\"', '”': '\"', '“': '\"', \"£\": \"e\", '∞': 'infinity', 'θ': 'theta', '÷': '/', 'α': 'alpha', '•': '.', 'à': 'a', '−': '-', 'β': 'beta', '∅': '', '³': '3', 'π': 'pi', }\n",
        "\n",
        "def cleaning(text, punct, mapping):\n",
        "    # Html tags 제거\n",
        "    cleaned_text = re.sub(r'<.*?>', '', text)\n",
        "\n",
        "    # e-mail 제거\n",
        "    cleaned_text = re.sub(r'([a-zA-Z0-9_.+-]+@[a-zA-Z0-9-]+\\.[a-zA-Z0-9-.]+)', '', cleaned_text)\n",
        "\n",
        "    # URL 제거\n",
        "    cleaned_text = re.sub(r'(http|ftp|https)://(?:[-\\w.]|(?:%[\\da-fA-F]{2}))+', ' ', cleaned_text)\n",
        "\n",
        "    # extra space 제거\n",
        "    cleaned_text = re.sub(r'\\s+', ' ', cleaned_text)\n",
        "\n",
        "    # 한글 자음, 모음 제거\n",
        "    cleaned_text = re.sub('([ㄱ-ㅎㅏ-ㅣ]+)', '', cleaned_text)\n",
        "\n",
        "    # 개행 문자 등 제거\n",
        "    cleaned_text = re.sub('[^\\w\\s\\n]', '', cleaned_text)\n",
        "\n",
        "    # 특수부호 mapping\n",
        "    for p in mapping:\n",
        "        cleaned_text = cleaned_text.replace(p, mapping[p])\n",
        "\n",
        "    # 특수부호 제거\n",
        "    for p in punct:\n",
        "        cleaned_text = cleaned_text.replace(p, '')\n",
        "\n",
        "    return cleaned_text"
      ],
      "metadata": {
        "id": "bLHd6biyY5uv"
      },
      "execution_count": null,
      "outputs": []
    },
    {
      "cell_type": "code",
      "source": [
        "example = \"\"\"\n",
        "<p>\n",
        "안녕하세요. 저는 홍길동입니다.%.   %^^\n",
        "제 이메일은 honggildong@gmail.com,\n",
        "홈페이지 주소는 http://www.example.com\n",
        "입니다.</p>\n",
        "\"\"\"\n",
        "\n",
        "cleaned_text = cleaning(example, punct, punct_mapping)\n",
        "\n",
        "print(cleaned_text)\n"
      ],
      "metadata": {
        "colab": {
          "base_uri": "https://localhost:8080/"
        },
        "id": "Lg_7MQOKFU_6",
        "outputId": "db9da6b4-b8e0-4636-d340-d7fd9bf8d8af"
      },
      "execution_count": null,
      "outputs": [
        {
          "output_type": "stream",
          "name": "stdout",
          "text": [
            " 안녕하세요 저는 홍길동입니다  제 이메일은  홈페이지 주소는 입니다 \n"
          ]
        }
      ]
    },
    {
      "cell_type": "markdown",
      "source": [
        "\n",
        "### 2) 띄어쓰기"
      ],
      "metadata": {
        "id": "r-Kez6HHDKvY"
      }
    },
    {
      "cell_type": "code",
      "source": [
        "# pykospacing 라이브러리 : 100만개 뉴스로 학습된 딥러닝 모델(CNN+GRU)\n",
        "!pip install git+https://github.com/haven-jeon/PyKoSpacing.git"
      ],
      "metadata": {
        "id": "l8jEDWAKDaiA",
        "colab": {
          "base_uri": "https://localhost:8080/",
          "height": 993
        },
        "outputId": "d29300e4-3b7f-40a2-92b9-40edd47bff51"
      },
      "execution_count": null,
      "outputs": [
        {
          "output_type": "stream",
          "name": "stdout",
          "text": [
            "Collecting git+https://github.com/haven-jeon/PyKoSpacing.git\n",
            "  Cloning https://github.com/haven-jeon/PyKoSpacing.git to /tmp/pip-req-build-rpvjolvu\n",
            "  Running command git clone --filter=blob:none --quiet https://github.com/haven-jeon/PyKoSpacing.git /tmp/pip-req-build-rpvjolvu\n",
            "  Resolved https://github.com/haven-jeon/PyKoSpacing.git to commit b32a889cbd10b006d2f4aba118f0cd5b677e2979\n",
            "  Preparing metadata (setup.py) ... \u001b[?25l\u001b[?25hdone\n",
            "Requirement already satisfied: tensorflow>=2.16.2 in /usr/local/lib/python3.11/dist-packages (from pykospacing==0.5) (2.19.0)\n",
            "Requirement already satisfied: h5py>=3.10.0 in /usr/local/lib/python3.11/dist-packages (from pykospacing==0.5) (3.14.0)\n",
            "Collecting argparse>=1.1.0 (from pykospacing==0.5)\n",
            "  Using cached argparse-1.4.0-py2.py3-none-any.whl.metadata (2.8 kB)\n",
            "Requirement already satisfied: numpy>=1.19.3 in /usr/local/lib/python3.11/dist-packages (from h5py>=3.10.0->pykospacing==0.5) (2.1.3)\n",
            "Requirement already satisfied: absl-py>=1.0.0 in /usr/local/lib/python3.11/dist-packages (from tensorflow>=2.16.2->pykospacing==0.5) (1.4.0)\n",
            "Requirement already satisfied: astunparse>=1.6.0 in /usr/local/lib/python3.11/dist-packages (from tensorflow>=2.16.2->pykospacing==0.5) (1.6.3)\n",
            "Requirement already satisfied: flatbuffers>=24.3.25 in /usr/local/lib/python3.11/dist-packages (from tensorflow>=2.16.2->pykospacing==0.5) (25.2.10)\n",
            "Requirement already satisfied: gast!=0.5.0,!=0.5.1,!=0.5.2,>=0.2.1 in /usr/local/lib/python3.11/dist-packages (from tensorflow>=2.16.2->pykospacing==0.5) (0.6.0)\n",
            "Requirement already satisfied: google-pasta>=0.1.1 in /usr/local/lib/python3.11/dist-packages (from tensorflow>=2.16.2->pykospacing==0.5) (0.2.0)\n",
            "Requirement already satisfied: libclang>=13.0.0 in /usr/local/lib/python3.11/dist-packages (from tensorflow>=2.16.2->pykospacing==0.5) (18.1.1)\n",
            "Requirement already satisfied: opt-einsum>=2.3.2 in /usr/local/lib/python3.11/dist-packages (from tensorflow>=2.16.2->pykospacing==0.5) (3.4.0)\n",
            "Requirement already satisfied: packaging in /usr/local/lib/python3.11/dist-packages (from tensorflow>=2.16.2->pykospacing==0.5) (25.0)\n",
            "Requirement already satisfied: protobuf!=4.21.0,!=4.21.1,!=4.21.2,!=4.21.3,!=4.21.4,!=4.21.5,<6.0.0dev,>=3.20.3 in /usr/local/lib/python3.11/dist-packages (from tensorflow>=2.16.2->pykospacing==0.5) (5.29.5)\n",
            "Requirement already satisfied: requests<3,>=2.21.0 in /usr/local/lib/python3.11/dist-packages (from tensorflow>=2.16.2->pykospacing==0.5) (2.32.3)\n",
            "Requirement already satisfied: setuptools in /usr/local/lib/python3.11/dist-packages (from tensorflow>=2.16.2->pykospacing==0.5) (75.2.0)\n",
            "Requirement already satisfied: six>=1.12.0 in /usr/local/lib/python3.11/dist-packages (from tensorflow>=2.16.2->pykospacing==0.5) (1.17.0)\n",
            "Requirement already satisfied: termcolor>=1.1.0 in /usr/local/lib/python3.11/dist-packages (from tensorflow>=2.16.2->pykospacing==0.5) (3.1.0)\n",
            "Requirement already satisfied: typing-extensions>=3.6.6 in /usr/local/lib/python3.11/dist-packages (from tensorflow>=2.16.2->pykospacing==0.5) (4.14.1)\n",
            "Requirement already satisfied: wrapt>=1.11.0 in /usr/local/lib/python3.11/dist-packages (from tensorflow>=2.16.2->pykospacing==0.5) (1.17.3)\n",
            "Requirement already satisfied: grpcio<2.0,>=1.24.3 in /usr/local/lib/python3.11/dist-packages (from tensorflow>=2.16.2->pykospacing==0.5) (1.74.0)\n",
            "Requirement already satisfied: tensorboard~=2.19.0 in /usr/local/lib/python3.11/dist-packages (from tensorflow>=2.16.2->pykospacing==0.5) (2.19.0)\n",
            "Requirement already satisfied: keras>=3.5.0 in /usr/local/lib/python3.11/dist-packages (from tensorflow>=2.16.2->pykospacing==0.5) (3.10.0)\n",
            "Requirement already satisfied: ml-dtypes<1.0.0,>=0.5.1 in /usr/local/lib/python3.11/dist-packages (from tensorflow>=2.16.2->pykospacing==0.5) (0.5.3)\n",
            "Requirement already satisfied: tensorflow-io-gcs-filesystem>=0.23.1 in /usr/local/lib/python3.11/dist-packages (from tensorflow>=2.16.2->pykospacing==0.5) (0.37.1)\n",
            "Requirement already satisfied: wheel<1.0,>=0.23.0 in /usr/local/lib/python3.11/dist-packages (from astunparse>=1.6.0->tensorflow>=2.16.2->pykospacing==0.5) (0.45.1)\n",
            "Requirement already satisfied: rich in /usr/local/lib/python3.11/dist-packages (from keras>=3.5.0->tensorflow>=2.16.2->pykospacing==0.5) (13.9.4)\n",
            "Requirement already satisfied: namex in /usr/local/lib/python3.11/dist-packages (from keras>=3.5.0->tensorflow>=2.16.2->pykospacing==0.5) (0.1.0)\n",
            "Requirement already satisfied: optree in /usr/local/lib/python3.11/dist-packages (from keras>=3.5.0->tensorflow>=2.16.2->pykospacing==0.5) (0.17.0)\n",
            "Requirement already satisfied: charset-normalizer<4,>=2 in /usr/local/lib/python3.11/dist-packages (from requests<3,>=2.21.0->tensorflow>=2.16.2->pykospacing==0.5) (3.4.3)\n",
            "Requirement already satisfied: idna<4,>=2.5 in /usr/local/lib/python3.11/dist-packages (from requests<3,>=2.21.0->tensorflow>=2.16.2->pykospacing==0.5) (3.10)\n",
            "Requirement already satisfied: urllib3<3,>=1.21.1 in /usr/local/lib/python3.11/dist-packages (from requests<3,>=2.21.0->tensorflow>=2.16.2->pykospacing==0.5) (2.5.0)\n",
            "Requirement already satisfied: certifi>=2017.4.17 in /usr/local/lib/python3.11/dist-packages (from requests<3,>=2.21.0->tensorflow>=2.16.2->pykospacing==0.5) (2025.8.3)\n",
            "Requirement already satisfied: markdown>=2.6.8 in /usr/local/lib/python3.11/dist-packages (from tensorboard~=2.19.0->tensorflow>=2.16.2->pykospacing==0.5) (3.8.2)\n",
            "Requirement already satisfied: tensorboard-data-server<0.8.0,>=0.7.0 in /usr/local/lib/python3.11/dist-packages (from tensorboard~=2.19.0->tensorflow>=2.16.2->pykospacing==0.5) (0.7.2)\n",
            "Requirement already satisfied: werkzeug>=1.0.1 in /usr/local/lib/python3.11/dist-packages (from tensorboard~=2.19.0->tensorflow>=2.16.2->pykospacing==0.5) (3.1.3)\n",
            "Requirement already satisfied: MarkupSafe>=2.1.1 in /usr/local/lib/python3.11/dist-packages (from werkzeug>=1.0.1->tensorboard~=2.19.0->tensorflow>=2.16.2->pykospacing==0.5) (3.0.2)\n",
            "Requirement already satisfied: markdown-it-py>=2.2.0 in /usr/local/lib/python3.11/dist-packages (from rich->keras>=3.5.0->tensorflow>=2.16.2->pykospacing==0.5) (4.0.0)\n",
            "Requirement already satisfied: pygments<3.0.0,>=2.13.0 in /usr/local/lib/python3.11/dist-packages (from rich->keras>=3.5.0->tensorflow>=2.16.2->pykospacing==0.5) (2.19.2)\n",
            "Requirement already satisfied: mdurl~=0.1 in /usr/local/lib/python3.11/dist-packages (from markdown-it-py>=2.2.0->rich->keras>=3.5.0->tensorflow>=2.16.2->pykospacing==0.5) (0.1.2)\n",
            "Using cached argparse-1.4.0-py2.py3-none-any.whl (23 kB)\n",
            "Installing collected packages: argparse\n",
            "Successfully installed argparse-1.4.0\n"
          ]
        },
        {
          "output_type": "display_data",
          "data": {
            "application/vnd.colab-display-data+json": {
              "pip_warning": {
                "packages": [
                  "argparse"
                ]
              },
              "id": "1e63508ace2e4ef396210f30b4f9d462"
            }
          },
          "metadata": {}
        }
      ]
    },
    {
      "cell_type": "code",
      "source": [
        "from pykospacing import Spacing\n",
        "\n",
        "spacing = Spacing()\n",
        "before_sent = \"김형호영화시장분석가는'1987'의네이버영화정보네티즌10점평에서언급된단어들을지난해12월27일부터올해1월10일까지통계프로그램R과KoNLP패키지로텍스트마이닝하여분석했다.\"\n",
        "after_sent = spacing(before_sent)\n",
        "print('예시 1:', after_sent)\n",
        "\n",
        "# 띄어쓰기 수정을 위해 단어 추가\n",
        "before_sent = '귀밑에서턱까지잇따라난수염을구레나룻이라고한다.'\n",
        "after_sent = spacing(before_sent)\n",
        "print('띄어쓰기 수정 전 :', after_sent)\n",
        "\n",
        "spacing = Spacing(rules=['구레나룻']) # 단어 추가\n",
        "modifined_word_sent = spacing(before_sent)\n",
        "print('띄어쓰기 수정 후 :', modifined_word_sent)"
      ],
      "metadata": {
        "colab": {
          "base_uri": "https://localhost:8080/",
          "height": 615
        },
        "id": "itKPt4pSB0LD",
        "outputId": "fdd51b14-b75d-49dc-8c0a-b2cd2557b885"
      },
      "execution_count": null,
      "outputs": [
        {
          "output_type": "error",
          "ename": "InternalError",
          "evalue": "Exception encountered when calling TFSMLayer.call().\n\n\u001b[1mGraph execution error:\n\nDetected at node CudnnRNN defined at (most recent call last):\n<stack traces unavailable>\nFailed to call DoRnnForward with model config: [rnn_mode, rnn_input_mode, rnn_direction_mode]: 3, 0, 0 , [num_layers, input_size, num_units, dir_count, max_seq_length, batch_size, cell_num_units]: [1, 150, 50, 1, 200, 1, 0] \n\t [[{{node CudnnRNN}}]]\n\t [[StatefulPartitionedCall/model_1/gru_1/PartitionedCall]] [Op:__inference_signature_wrapper___call___755]\u001b[0m\n\nArguments received by TFSMLayer.call():\n  • inputs=tf.Tensor(shape=(1, 200), dtype=float32)\n  • training=False\n  • kwargs=<class 'inspect._empty'>",
          "traceback": [
            "\u001b[0;31m---------------------------------------------------------------------------\u001b[0m",
            "\u001b[0;31mInternalError\u001b[0m                             Traceback (most recent call last)",
            "\u001b[0;32m/tmp/ipython-input-3964191446.py\u001b[0m in \u001b[0;36m<cell line: 0>\u001b[0;34m()\u001b[0m\n\u001b[1;32m      3\u001b[0m \u001b[0mspacing\u001b[0m \u001b[0;34m=\u001b[0m \u001b[0mSpacing\u001b[0m\u001b[0;34m(\u001b[0m\u001b[0;34m)\u001b[0m\u001b[0;34m\u001b[0m\u001b[0;34m\u001b[0m\u001b[0m\n\u001b[1;32m      4\u001b[0m \u001b[0mbefore_sent\u001b[0m \u001b[0;34m=\u001b[0m \u001b[0;34m\"김형호영화시장분석가는'1987'의네이버영화정보네티즌10점평에서언급된단어들을지난해12월27일부터올해1월10일까지통계프로그램R과KoNLP패키지로텍스트마이닝하여분석했다.\"\u001b[0m\u001b[0;34m\u001b[0m\u001b[0;34m\u001b[0m\u001b[0m\n\u001b[0;32m----> 5\u001b[0;31m \u001b[0mafter_sent\u001b[0m \u001b[0;34m=\u001b[0m \u001b[0mspacing\u001b[0m\u001b[0;34m(\u001b[0m\u001b[0mbefore_sent\u001b[0m\u001b[0;34m)\u001b[0m\u001b[0;34m\u001b[0m\u001b[0;34m\u001b[0m\u001b[0m\n\u001b[0m\u001b[1;32m      6\u001b[0m \u001b[0mprint\u001b[0m\u001b[0;34m(\u001b[0m\u001b[0;34m'예시 1:'\u001b[0m\u001b[0;34m,\u001b[0m \u001b[0mafter_sent\u001b[0m\u001b[0;34m)\u001b[0m\u001b[0;34m\u001b[0m\u001b[0;34m\u001b[0m\u001b[0m\n\u001b[1;32m      7\u001b[0m \u001b[0;34m\u001b[0m\u001b[0m\n",
            "\u001b[0;32m/usr/local/lib/python3.11/dist-packages/pykospacing/kospacing.py\u001b[0m in \u001b[0;36m__call__\u001b[0;34m(self, sent, ignore, ignore_pattern)\u001b[0m\n\u001b[1;32m    176\u001b[0m             \u001b[0;31m# if ignore == 'post', set post_process to True\u001b[0m\u001b[0;34m\u001b[0m\u001b[0;34m\u001b[0m\u001b[0m\n\u001b[1;32m    177\u001b[0m             \u001b[0mpost_process\u001b[0m \u001b[0;34m=\u001b[0m \u001b[0;32mTrue\u001b[0m \u001b[0;32mif\u001b[0m \u001b[0mignore\u001b[0m \u001b[0;34m==\u001b[0m \u001b[0;34m'post'\u001b[0m \u001b[0;32melse\u001b[0m \u001b[0;32mFalse\u001b[0m\u001b[0;34m\u001b[0m\u001b[0;34m\u001b[0m\u001b[0m\n\u001b[0;32m--> 178\u001b[0;31m             \u001b[0mspaced_sent\u001b[0m \u001b[0;34m=\u001b[0m \u001b[0mself\u001b[0m\u001b[0;34m.\u001b[0m\u001b[0mget_spaced_sent\u001b[0m\u001b[0;34m(\u001b[0m\u001b[0mfiltered_sent\u001b[0m\u001b[0;34m,\u001b[0m \u001b[0mdeleted_str_list\u001b[0m\u001b[0;34m,\u001b[0m \u001b[0mdeleted_idx_list\u001b[0m\u001b[0;34m,\u001b[0m \u001b[0morig_sent\u001b[0m\u001b[0;34m,\u001b[0m \u001b[0mpost_process\u001b[0m\u001b[0;34m)\u001b[0m\u001b[0;34m\u001b[0m\u001b[0;34m\u001b[0m\u001b[0m\n\u001b[0m\u001b[1;32m    179\u001b[0m             \u001b[0mresult_sent\u001b[0m\u001b[0;34m.\u001b[0m\u001b[0mappend\u001b[0m\u001b[0;34m(\u001b[0m\u001b[0mspaced_sent\u001b[0m\u001b[0;34m)\u001b[0m\u001b[0;34m\u001b[0m\u001b[0;34m\u001b[0m\u001b[0m\n\u001b[1;32m    180\u001b[0m         \u001b[0mspaced_sent\u001b[0m \u001b[0;34m=\u001b[0m \u001b[0;34m''\u001b[0m\u001b[0;34m.\u001b[0m\u001b[0mjoin\u001b[0m\u001b[0;34m(\u001b[0m\u001b[0mresult_sent\u001b[0m\u001b[0;34m)\u001b[0m\u001b[0;34m\u001b[0m\u001b[0;34m\u001b[0m\u001b[0m\n",
            "\u001b[0;32m/usr/local/lib/python3.11/dist-packages/pykospacing/kospacing.py\u001b[0m in \u001b[0;36mget_spaced_sent\u001b[0;34m(self, raw_sent, deleted_str_list, deleted_idx_list, orig_sent, post_process)\u001b[0m\n\u001b[1;32m     68\u001b[0m             \u001b[0mword2idx_dic\u001b[0m\u001b[0;34m=\u001b[0m\u001b[0mself\u001b[0m\u001b[0;34m.\u001b[0m\u001b[0m_w2idx\u001b[0m\u001b[0;34m,\u001b[0m \u001b[0msequences\u001b[0m\u001b[0;34m=\u001b[0m\u001b[0msents_in\u001b[0m\u001b[0;34m,\u001b[0m \u001b[0mmaxlen\u001b[0m\u001b[0;34m=\u001b[0m\u001b[0;36m200\u001b[0m\u001b[0;34m,\u001b[0m\u001b[0;34m\u001b[0m\u001b[0;34m\u001b[0m\u001b[0m\n\u001b[1;32m     69\u001b[0m             padding='post', truncating='post')\n\u001b[0;32m---> 70\u001b[0;31m         \u001b[0mresults\u001b[0m \u001b[0;34m=\u001b[0m \u001b[0mself\u001b[0m\u001b[0;34m.\u001b[0m\u001b[0m_model\u001b[0m\u001b[0;34m(\u001b[0m\u001b[0mmat_in\u001b[0m\u001b[0;34m)\u001b[0m\u001b[0;34m\u001b[0m\u001b[0;34m\u001b[0m\u001b[0m\n\u001b[0m\u001b[1;32m     71\u001b[0m         \u001b[0mmat_set\u001b[0m \u001b[0;34m=\u001b[0m \u001b[0mresults\u001b[0m\u001b[0;34m[\u001b[0m\u001b[0;34m'output_0'\u001b[0m\u001b[0;34m]\u001b[0m\u001b[0;34m[\u001b[0m\u001b[0;36m0\u001b[0m\u001b[0;34m]\u001b[0m\u001b[0;34m\u001b[0m\u001b[0;34m\u001b[0m\u001b[0m\n\u001b[1;32m     72\u001b[0m         \u001b[0mpreds\u001b[0m \u001b[0;34m=\u001b[0m \u001b[0mnp\u001b[0m\u001b[0;34m.\u001b[0m\u001b[0marray\u001b[0m\u001b[0;34m(\u001b[0m\u001b[0;34m[\u001b[0m\u001b[0;34m'1'\u001b[0m \u001b[0;32mif\u001b[0m \u001b[0mi\u001b[0m \u001b[0;34m>\u001b[0m \u001b[0;36m0.5\u001b[0m \u001b[0;32melse\u001b[0m \u001b[0;34m'0'\u001b[0m \u001b[0;32mfor\u001b[0m \u001b[0mi\u001b[0m \u001b[0;32min\u001b[0m \u001b[0mmat_set\u001b[0m\u001b[0;34m[\u001b[0m\u001b[0;34m:\u001b[0m\u001b[0mlen\u001b[0m\u001b[0;34m(\u001b[0m\u001b[0mraw_sent_\u001b[0m\u001b[0;34m)\u001b[0m\u001b[0;34m]\u001b[0m\u001b[0;34m]\u001b[0m\u001b[0;34m)\u001b[0m\u001b[0;34m\u001b[0m\u001b[0;34m\u001b[0m\u001b[0m\n",
            "\u001b[0;32m/usr/local/lib/python3.11/dist-packages/keras/src/utils/traceback_utils.py\u001b[0m in \u001b[0;36merror_handler\u001b[0;34m(*args, **kwargs)\u001b[0m\n\u001b[1;32m    120\u001b[0m             \u001b[0;31m# To get the full stack trace, call:\u001b[0m\u001b[0;34m\u001b[0m\u001b[0;34m\u001b[0m\u001b[0m\n\u001b[1;32m    121\u001b[0m             \u001b[0;31m# `keras.config.disable_traceback_filtering()`\u001b[0m\u001b[0;34m\u001b[0m\u001b[0;34m\u001b[0m\u001b[0m\n\u001b[0;32m--> 122\u001b[0;31m             \u001b[0;32mraise\u001b[0m \u001b[0me\u001b[0m\u001b[0;34m.\u001b[0m\u001b[0mwith_traceback\u001b[0m\u001b[0;34m(\u001b[0m\u001b[0mfiltered_tb\u001b[0m\u001b[0;34m)\u001b[0m \u001b[0;32mfrom\u001b[0m \u001b[0;32mNone\u001b[0m\u001b[0;34m\u001b[0m\u001b[0;34m\u001b[0m\u001b[0m\n\u001b[0m\u001b[1;32m    123\u001b[0m         \u001b[0;32mfinally\u001b[0m\u001b[0;34m:\u001b[0m\u001b[0;34m\u001b[0m\u001b[0;34m\u001b[0m\u001b[0m\n\u001b[1;32m    124\u001b[0m             \u001b[0;32mdel\u001b[0m \u001b[0mfiltered_tb\u001b[0m\u001b[0;34m\u001b[0m\u001b[0;34m\u001b[0m\u001b[0m\n",
            "\u001b[0;32m/usr/local/lib/python3.11/dist-packages/tensorflow/python/eager/execute.py\u001b[0m in \u001b[0;36mquick_execute\u001b[0;34m(op_name, num_outputs, inputs, attrs, ctx, name)\u001b[0m\n\u001b[1;32m     57\u001b[0m       \u001b[0me\u001b[0m\u001b[0;34m.\u001b[0m\u001b[0mmessage\u001b[0m \u001b[0;34m+=\u001b[0m \u001b[0;34m\" name: \"\u001b[0m \u001b[0;34m+\u001b[0m \u001b[0mname\u001b[0m\u001b[0;34m\u001b[0m\u001b[0;34m\u001b[0m\u001b[0m\n\u001b[1;32m     58\u001b[0m     \u001b[0;32mraise\u001b[0m \u001b[0mcore\u001b[0m\u001b[0;34m.\u001b[0m\u001b[0m_status_to_exception\u001b[0m\u001b[0;34m(\u001b[0m\u001b[0me\u001b[0m\u001b[0;34m)\u001b[0m \u001b[0;32mfrom\u001b[0m \u001b[0;32mNone\u001b[0m\u001b[0;34m\u001b[0m\u001b[0;34m\u001b[0m\u001b[0m\n\u001b[0;32m---> 59\u001b[0;31m   \u001b[0;32mexcept\u001b[0m \u001b[0mTypeError\u001b[0m \u001b[0;32mas\u001b[0m \u001b[0me\u001b[0m\u001b[0;34m:\u001b[0m\u001b[0;34m\u001b[0m\u001b[0;34m\u001b[0m\u001b[0m\n\u001b[0m\u001b[1;32m     60\u001b[0m     \u001b[0mkeras_symbolic_tensors\u001b[0m \u001b[0;34m=\u001b[0m \u001b[0;34m[\u001b[0m\u001b[0mx\u001b[0m \u001b[0;32mfor\u001b[0m \u001b[0mx\u001b[0m \u001b[0;32min\u001b[0m \u001b[0minputs\u001b[0m \u001b[0;32mif\u001b[0m \u001b[0m_is_keras_symbolic_tensor\u001b[0m\u001b[0;34m(\u001b[0m\u001b[0mx\u001b[0m\u001b[0;34m)\u001b[0m\u001b[0;34m]\u001b[0m\u001b[0;34m\u001b[0m\u001b[0;34m\u001b[0m\u001b[0m\n\u001b[1;32m     61\u001b[0m     \u001b[0;32mif\u001b[0m \u001b[0mkeras_symbolic_tensors\u001b[0m\u001b[0;34m:\u001b[0m\u001b[0;34m\u001b[0m\u001b[0;34m\u001b[0m\u001b[0m\n",
            "\u001b[0;31mInternalError\u001b[0m: Exception encountered when calling TFSMLayer.call().\n\n\u001b[1mGraph execution error:\n\nDetected at node CudnnRNN defined at (most recent call last):\n<stack traces unavailable>\nFailed to call DoRnnForward with model config: [rnn_mode, rnn_input_mode, rnn_direction_mode]: 3, 0, 0 , [num_layers, input_size, num_units, dir_count, max_seq_length, batch_size, cell_num_units]: [1, 150, 50, 1, 200, 1, 0] \n\t [[{{node CudnnRNN}}]]\n\t [[StatefulPartitionedCall/model_1/gru_1/PartitionedCall]] [Op:__inference_signature_wrapper___call___755]\u001b[0m\n\nArguments received by TFSMLayer.call():\n  • inputs=tf.Tensor(shape=(1, 200), dtype=float32)\n  • training=False\n  • kwargs=<class 'inspect._empty'>"
          ]
        }
      ]
    },
    {
      "cell_type": "markdown",
      "source": [
        "\n",
        "###3) 형태소 분석(POS Tagging)"
      ],
      "metadata": {
        "id": "7R8jMZ8gDXs7"
      }
    },
    {
      "cell_type": "code",
      "source": [
        "!pip install kiwipiepy"
      ],
      "metadata": {
        "colab": {
          "base_uri": "https://localhost:8080/"
        },
        "id": "_F_WOMuQDZq4",
        "outputId": "39ad96a2-87fa-40a7-deda-69c6aa14f38c"
      },
      "execution_count": null,
      "outputs": [
        {
          "output_type": "stream",
          "name": "stdout",
          "text": [
            "Requirement already satisfied: kiwipiepy in /usr/local/lib/python3.10/dist-packages (0.17.1)\n",
            "Requirement already satisfied: kiwipiepy-model<0.18,>=0.17 in /usr/local/lib/python3.10/dist-packages (from kiwipiepy) (0.17.0)\n",
            "Requirement already satisfied: numpy in /usr/local/lib/python3.10/dist-packages (from kiwipiepy) (1.25.2)\n",
            "Requirement already satisfied: tqdm in /usr/local/lib/python3.10/dist-packages (from kiwipiepy) (4.66.4)\n",
            "Traceback (most recent call last):\n",
            "  File \"/usr/local/lib/python3.10/dist-packages/pip/_vendor/pkg_resources/__init__.py\", line 3108, in _dep_map\n",
            "    return self.__dep_map\n",
            "  File \"/usr/local/lib/python3.10/dist-packages/pip/_vendor/pkg_resources/__init__.py\", line 2901, in __getattr__\n",
            "    raise AttributeError(attr)\n",
            "AttributeError: _DistInfoDistribution__dep_map\n",
            "\n",
            "During handling of the above exception, another exception occurred:\n",
            "\n",
            "Traceback (most recent call last):\n",
            "  File \"/usr/local/lib/python3.10/dist-packages/pip/_internal/cli/base_command.py\", line 169, in exc_logging_wrapper\n",
            "    status = run_func(*args)\n",
            "  File \"/usr/local/lib/python3.10/dist-packages/pip/_internal/cli/req_command.py\", line 242, in wrapper\n",
            "    return func(self, options, args)\n",
            "  File \"/usr/local/lib/python3.10/dist-packages/pip/_internal/commands/install.py\", line 441, in run\n",
            "    conflicts = self._determine_conflicts(to_install)\n",
            "  File \"/usr/local/lib/python3.10/dist-packages/pip/_internal/commands/install.py\", line 572, in _determine_conflicts\n",
            "    return check_install_conflicts(to_install)\n",
            "  File \"/usr/local/lib/python3.10/dist-packages/pip/_internal/operations/check.py\", line 101, in check_install_conflicts\n",
            "    package_set, _ = create_package_set_from_installed()\n",
            "  File \"/usr/local/lib/python3.10/dist-packages/pip/_internal/operations/check.py\", line 42, in create_package_set_from_installed\n",
            "    dependencies = list(dist.iter_dependencies())\n",
            "  File \"/usr/local/lib/python3.10/dist-packages/pip/_internal/metadata/pkg_resources.py\", line 216, in iter_dependencies\n",
            "    return self._dist.requires(extras)\n",
            "  File \"/usr/local/lib/python3.10/dist-packages/pip/_vendor/pkg_resources/__init__.py\", line 2821, in requires\n",
            "    dm = self._dep_map\n",
            "  File \"/usr/local/lib/python3.10/dist-packages/pip/_vendor/pkg_resources/__init__.py\", line 3110, in _dep_map\n",
            "    self.__dep_map = self._compute_dependencies()\n",
            "  File \"/usr/local/lib/python3.10/dist-packages/pip/_vendor/pkg_resources/__init__.py\", line 3120, in _compute_dependencies\n",
            "    reqs.extend(parse_requirements(req))\n",
            "  File \"/usr/local/lib/python3.10/dist-packages/pip/_vendor/pkg_resources/__init__.py\", line 3173, in __init__\n",
            "    super(Requirement, self).__init__(requirement_string)\n",
            "  File \"/usr/local/lib/python3.10/dist-packages/pip/_vendor/packaging/requirements.py\", line 102, in __init__\n",
            "    req = REQUIREMENT.parseString(requirement_string)\n",
            "  File \"/usr/local/lib/python3.10/dist-packages/pip/_vendor/pyparsing/core.py\", line 1131, in parse_string\n",
            "    loc, tokens = self._parse(instring, 0)\n",
            "  File \"/usr/local/lib/python3.10/dist-packages/pip/_vendor/pyparsing/core.py\", line 817, in _parseNoCache\n",
            "    loc, tokens = self.parseImpl(instring, pre_loc, doActions)\n",
            "  File \"/usr/local/lib/python3.10/dist-packages/pip/_vendor/pyparsing/core.py\", line 3886, in parseImpl\n",
            "    loc, exprtokens = e._parse(instring, loc, doActions)\n",
            "  File \"/usr/local/lib/python3.10/dist-packages/pip/_vendor/pyparsing/core.py\", line 817, in _parseNoCache\n",
            "    loc, tokens = self.parseImpl(instring, pre_loc, doActions)\n",
            "  File \"/usr/local/lib/python3.10/dist-packages/pip/_vendor/pyparsing/core.py\", line 4114, in parseImpl\n",
            "    return e._parse(\n",
            "  File \"/usr/local/lib/python3.10/dist-packages/pip/_vendor/pyparsing/core.py\", line 817, in _parseNoCache\n",
            "    loc, tokens = self.parseImpl(instring, pre_loc, doActions)\n",
            "  File \"/usr/local/lib/python3.10/dist-packages/pip/_vendor/pyparsing/core.py\", line 3886, in parseImpl\n",
            "    loc, exprtokens = e._parse(instring, loc, doActions)\n",
            "  File \"/usr/local/lib/python3.10/dist-packages/pip/_vendor/pyparsing/core.py\", line 817, in _parseNoCache\n",
            "    loc, tokens = self.parseImpl(instring, pre_loc, doActions)\n",
            "  File \"/usr/local/lib/python3.10/dist-packages/pip/_vendor/pyparsing/core.py\", line 4959, in parseImpl\n",
            "    loc, tokens = self_expr._parse(instring, loc, doActions, callPreParse=False)\n",
            "  File \"/usr/local/lib/python3.10/dist-packages/pip/_vendor/pyparsing/core.py\", line 817, in _parseNoCache\n",
            "    loc, tokens = self.parseImpl(instring, pre_loc, doActions)\n",
            "  File \"/usr/local/lib/python3.10/dist-packages/pip/_vendor/pyparsing/core.py\", line 3886, in parseImpl\n",
            "    loc, exprtokens = e._parse(instring, loc, doActions)\n",
            "  File \"/usr/local/lib/python3.10/dist-packages/pip/_vendor/pyparsing/core.py\", line 856, in _parseNoCache\n",
            "    tokens = fn(instring, tokens_start, ret_tokens)\n",
            "  File \"/usr/local/lib/python3.10/dist-packages/pip/_vendor/pyparsing/core.py\", line 291, in wrapper\n",
            "    ret = func(*args[limit:])\n",
            "  File \"/usr/local/lib/python3.10/dist-packages/pip/_vendor/packaging/requirements.py\", line 71, in <lambda>\n",
            "    lambda s, l, t: Marker(s[t._original_start : t._original_end])\n",
            "  File \"/usr/local/lib/python3.10/dist-packages/pip/_vendor/packaging/markers.py\", line 278, in __init__\n",
            "    self._markers = _coerce_parse_result(MARKER.parseString(marker))\n",
            "  File \"/usr/local/lib/python3.10/dist-packages/pip/_vendor/pyparsing/core.py\", line 1131, in parse_string\n",
            "    loc, tokens = self._parse(instring, 0)\n",
            "  File \"/usr/local/lib/python3.10/dist-packages/pip/_vendor/pyparsing/core.py\", line 817, in _parseNoCache\n",
            "    loc, tokens = self.parseImpl(instring, pre_loc, doActions)\n",
            "  File \"/usr/local/lib/python3.10/dist-packages/pip/_vendor/pyparsing/core.py\", line 3886, in parseImpl\n",
            "    loc, exprtokens = e._parse(instring, loc, doActions)\n",
            "  File \"/usr/local/lib/python3.10/dist-packages/pip/_vendor/pyparsing/core.py\", line 817, in _parseNoCache\n",
            "    loc, tokens = self.parseImpl(instring, pre_loc, doActions)\n",
            "  File \"/usr/local/lib/python3.10/dist-packages/pip/_vendor/pyparsing/core.py\", line 5226, in parseImpl\n",
            "    return super().parseImpl(instring, loc, doActions)\n",
            "  File \"/usr/local/lib/python3.10/dist-packages/pip/_vendor/pyparsing/core.py\", line 4375, in parseImpl\n",
            "    return self.expr._parse(instring, loc, doActions, callPreParse=False)\n",
            "  File \"/usr/local/lib/python3.10/dist-packages/pip/_vendor/pyparsing/core.py\", line 817, in _parseNoCache\n",
            "    loc, tokens = self.parseImpl(instring, pre_loc, doActions)\n",
            "  File \"/usr/local/lib/python3.10/dist-packages/pip/_vendor/pyparsing/core.py\", line 3864, in parseImpl\n",
            "    loc, resultlist = self.exprs[0]._parse(\n",
            "  File \"/usr/local/lib/python3.10/dist-packages/pip/_vendor/pyparsing/core.py\", line 817, in _parseNoCache\n",
            "    loc, tokens = self.parseImpl(instring, pre_loc, doActions)\n",
            "  File \"/usr/local/lib/python3.10/dist-packages/pip/_vendor/pyparsing/core.py\", line 4114, in parseImpl\n",
            "    return e._parse(\n",
            "  File \"/usr/local/lib/python3.10/dist-packages/pip/_vendor/pyparsing/core.py\", line 817, in _parseNoCache\n",
            "    loc, tokens = self.parseImpl(instring, pre_loc, doActions)\n",
            "  File \"/usr/local/lib/python3.10/dist-packages/pip/_vendor/pyparsing/core.py\", line 4375, in parseImpl\n",
            "    return self.expr._parse(instring, loc, doActions, callPreParse=False)\n",
            "  File \"/usr/local/lib/python3.10/dist-packages/pip/_vendor/pyparsing/core.py\", line 817, in _parseNoCache\n",
            "    loc, tokens = self.parseImpl(instring, pre_loc, doActions)\n",
            "  File \"/usr/local/lib/python3.10/dist-packages/pip/_vendor/pyparsing/core.py\", line 3864, in parseImpl\n",
            "    loc, resultlist = self.exprs[0]._parse(\n",
            "  File \"/usr/local/lib/python3.10/dist-packages/pip/_vendor/pyparsing/core.py\", line 817, in _parseNoCache\n",
            "    loc, tokens = self.parseImpl(instring, pre_loc, doActions)\n",
            "  File \"/usr/local/lib/python3.10/dist-packages/pip/_vendor/pyparsing/core.py\", line 4114, in parseImpl\n",
            "    return e._parse(\n",
            "  File \"/usr/local/lib/python3.10/dist-packages/pip/_vendor/pyparsing/core.py\", line 817, in _parseNoCache\n",
            "    loc, tokens = self.parseImpl(instring, pre_loc, doActions)\n",
            "  File \"/usr/local/lib/python3.10/dist-packages/pip/_vendor/pyparsing/core.py\", line 4114, in parseImpl\n",
            "    return e._parse(\n",
            "  File \"/usr/local/lib/python3.10/dist-packages/pip/_vendor/pyparsing/core.py\", line 776, in _parseNoCache\n",
            "    def _parseNoCache(\n",
            "KeyboardInterrupt\n",
            "\n",
            "During handling of the above exception, another exception occurred:\n",
            "\n",
            "Traceback (most recent call last):\n",
            "  File \"/usr/local/bin/pip3\", line 8, in <module>\n",
            "    sys.exit(main())\n",
            "  File \"/usr/local/lib/python3.10/dist-packages/pip/_internal/cli/main.py\", line 79, in main\n",
            "    return command.main(cmd_args)\n",
            "  File \"/usr/local/lib/python3.10/dist-packages/pip/_internal/cli/base_command.py\", line 101, in main\n",
            "    return self._main(args)\n",
            "  File \"/usr/local/lib/python3.10/dist-packages/pip/_internal/cli/base_command.py\", line 223, in _main\n",
            "    return run(options, args)\n",
            "  File \"/usr/local/lib/python3.10/dist-packages/pip/_internal/cli/base_command.py\", line 206, in exc_logging_wrapper\n",
            "    logger.critical(\"Operation cancelled by user\")\n",
            "  File \"/usr/lib/python3.10/logging/__init__.py\", line 1524, in critical\n",
            "    self._log(CRITICAL, msg, args, **kwargs)\n",
            "  File \"/usr/lib/python3.10/logging/__init__.py\", line 1612, in _log\n",
            "    fn, lno, func, sinfo = self.findCaller(stack_info, stacklevel)\n",
            "  File \"/usr/lib/python3.10/logging/__init__.py\", line 1554, in findCaller\n",
            "    f = currentframe()\n",
            "  File \"/usr/lib/python3.10/logging/__init__.py\", line 160, in <lambda>\n",
            "    currentframe = lambda: sys._getframe(3)\n",
            "KeyboardInterrupt\n",
            "^C\n"
          ]
        }
      ]
    },
    {
      "cell_type": "code",
      "source": [
        "from kiwipiepy import Kiwi\n",
        "\n",
        "kiwi = Kiwi()\n",
        "\n",
        "text = \"맞춤법 틀리면 왜 안돼? 쓰고 싶은 대로 쓰면 되지\"\n",
        "result = kiwi.analyze(text)\n",
        "print(result)"
      ],
      "metadata": {
        "colab": {
          "base_uri": "https://localhost:8080/"
        },
        "id": "T8ucSanXI6Ly",
        "outputId": "579b9a10-01ff-4047-f1f6-57e7c960590b"
      },
      "execution_count": null,
      "outputs": [
        {
          "output_type": "stream",
          "name": "stdout",
          "text": [
            "[([Token(form='맞춤법', tag='NNG', start=0, len=3), Token(form='틀리', tag='VV', start=4, len=2), Token(form='면', tag='EC', start=6, len=1), Token(form='왜', tag='MAG', start=8, len=1), Token(form='안', tag='MAG', start=10, len=1), Token(form='되', tag='VV', start=11, len=1), Token(form='어', tag='EF', start=11, len=1), Token(form='?', tag='SF', start=12, len=1), Token(form='쓰', tag='VV', start=14, len=1), Token(form='고', tag='EC', start=15, len=1), Token(form='싶', tag='VX', start=17, len=1), Token(form='은', tag='ETM', start=18, len=1), Token(form='대로', tag='NNB', start=20, len=2), Token(form='쓰', tag='VV', start=23, len=1), Token(form='면', tag='EC', start=24, len=1), Token(form='되', tag='VV', start=26, len=1), Token(form='지', tag='EF', start=27, len=1)], -72.58743286132812)]\n"
          ]
        }
      ]
    },
    {
      "cell_type": "markdown",
      "source": [
        "\n",
        "### 4) Stemming\n",
        "\n",
        "    - 동사를 원형으로 바꾸기\n",
        "    - 고유 명사와 일반 명사는 그대로 단어를 추가하고, 동사와 형용사의 경우 '다'를 붙여준다."
      ],
      "metadata": {
        "id": "SRRxvDRzDZEx"
      }
    },
    {
      "cell_type": "markdown",
      "source": [
        "### 5) Stopword\n",
        "- 갖고 있는 데이터에서 유의미한 단어 토큰만 선별하기 위해 큰 의미가 없는 단어토큰을 제거하는 작업\n",
        "- 의미 없는 토큰 : 자주 등장하지만 분석하는데 큰 도움이 되지 않는 단어\n",
        "- I, my, me, 조사, 접미사 등등"
      ],
      "metadata": {
        "id": "hb-ZJdCvZYnM"
      }
    },
    {
      "cell_type": "code",
      "source": [
        "from konlpy.tag import Okt\n",
        "\n",
        "okt = Okt()\n",
        "\n",
        "example = \"고기를 아무렇게나 구우려고 하면 안 돼. 고기라고 다 같은 게 아니거든. 예컨대 삼겹살을 구울 때는 중요한 게 있지.\"\n",
        "stop_words = \"를 아무렇게나 안 돼 같은 게 구울 때 는\"\n",
        "\n",
        "stop_words = set(stop_words.split(' '))\n",
        "word_tokens = okt.morphs(example)\n",
        "\n",
        "result = [word for word in word_tokens if not word in stop_words]\n",
        "\n",
        "print('불용어 제거 전 :',word_tokens)\n",
        "print('불용어 제거 후 :',result)"
      ],
      "metadata": {
        "colab": {
          "base_uri": "https://localhost:8080/"
        },
        "id": "gFjnYtNQZbpe",
        "outputId": "cb0966c1-339a-43a1-9687-fc78c72d8cf9"
      },
      "execution_count": null,
      "outputs": [
        {
          "output_type": "stream",
          "name": "stdout",
          "text": [
            "불용어 제거 전 : ['고기', '를', '아무렇게나', '구', '우려', '고', '하면', '안', '돼', '.', '고기', '라고', '다', '같은', '게', '아니거든', '.', '예컨대', '삼겹살', '을', '구울', '때', '는', '중요한', '게', '있지', '.']\n",
            "불용어 제거 후 : ['고기', '구', '우려', '고', '하면', '.', '고기', '라고', '다', '아니거든', '.', '예컨대', '삼겹살', '을', '중요한', '있지', '.']\n"
          ]
        }
      ]
    },
    {
      "cell_type": "markdown",
      "source": [
        "# 2. Tokenization"
      ],
      "metadata": {
        "id": "u_skLw9fEN-k"
      }
    },
    {
      "cell_type": "markdown",
      "source": [
        "###1) word2vec\n",
        "\n"
      ],
      "metadata": {
        "id": "6g-CttYkNXUK"
      }
    },
    {
      "cell_type": "markdown",
      "source": [
        "- 일정한 차원의 벡터로\n",
        "단어를 표현\n",
        "- 주변(context window)에\n",
        "같은  단어가 나타나는\n",
        "단어일수록 비슷한 벡터가 되도록 학습\n",
        "- 의미론적 유사도를 비교\n",
        "할 수 있음"
      ],
      "metadata": {
        "id": "liMjdLKNsdsc"
      }
    },
    {
      "cell_type": "code",
      "source": [
        "import urllib.request\n",
        "import pandas as pd\n",
        "from tqdm import tqdm\n",
        "\n",
        "urllib.request.urlretrieve(\"https://raw.githubusercontent.com/e9t/nsmc/master/ratings.txt\", filename=\"ratings.txt\")\n",
        "train_data = pd.read_table('ratings.txt')\n",
        "train_data[:5]"
      ],
      "metadata": {
        "colab": {
          "base_uri": "https://localhost:8080/",
          "height": 206
        },
        "id": "-WKtmCS9tJVQ",
        "outputId": "c1ace7fb-7466-41a7-9353-8db308c80afb"
      },
      "execution_count": null,
      "outputs": [
        {
          "output_type": "execute_result",
          "data": {
            "text/plain": [
              "         id                                           document  label\n",
              "0   8112052                                어릴때보고 지금다시봐도 재밌어요ㅋㅋ      1\n",
              "1   8132799  디자인을 배우는 학생으로, 외국디자이너와 그들이 일군 전통을 통해 발전해가는 문화산...      1\n",
              "2   4655635               폴리스스토리 시리즈는 1부터 뉴까지 버릴께 하나도 없음.. 최고.      1\n",
              "3   9251303  와.. 연기가 진짜 개쩔구나.. 지루할거라고 생각했는데 몰입해서 봤다.. 그래 이런...      1\n",
              "4  10067386                        안개 자욱한 밤하늘에 떠 있는 초승달 같은 영화.      1"
            ],
            "text/html": [
              "\n",
              "  <div id=\"df-c280a2d6-3642-47a2-9bd9-b9ea7f089cb1\" class=\"colab-df-container\">\n",
              "    <div>\n",
              "<style scoped>\n",
              "    .dataframe tbody tr th:only-of-type {\n",
              "        vertical-align: middle;\n",
              "    }\n",
              "\n",
              "    .dataframe tbody tr th {\n",
              "        vertical-align: top;\n",
              "    }\n",
              "\n",
              "    .dataframe thead th {\n",
              "        text-align: right;\n",
              "    }\n",
              "</style>\n",
              "<table border=\"1\" class=\"dataframe\">\n",
              "  <thead>\n",
              "    <tr style=\"text-align: right;\">\n",
              "      <th></th>\n",
              "      <th>id</th>\n",
              "      <th>document</th>\n",
              "      <th>label</th>\n",
              "    </tr>\n",
              "  </thead>\n",
              "  <tbody>\n",
              "    <tr>\n",
              "      <th>0</th>\n",
              "      <td>8112052</td>\n",
              "      <td>어릴때보고 지금다시봐도 재밌어요ㅋㅋ</td>\n",
              "      <td>1</td>\n",
              "    </tr>\n",
              "    <tr>\n",
              "      <th>1</th>\n",
              "      <td>8132799</td>\n",
              "      <td>디자인을 배우는 학생으로, 외국디자이너와 그들이 일군 전통을 통해 발전해가는 문화산...</td>\n",
              "      <td>1</td>\n",
              "    </tr>\n",
              "    <tr>\n",
              "      <th>2</th>\n",
              "      <td>4655635</td>\n",
              "      <td>폴리스스토리 시리즈는 1부터 뉴까지 버릴께 하나도 없음.. 최고.</td>\n",
              "      <td>1</td>\n",
              "    </tr>\n",
              "    <tr>\n",
              "      <th>3</th>\n",
              "      <td>9251303</td>\n",
              "      <td>와.. 연기가 진짜 개쩔구나.. 지루할거라고 생각했는데 몰입해서 봤다.. 그래 이런...</td>\n",
              "      <td>1</td>\n",
              "    </tr>\n",
              "    <tr>\n",
              "      <th>4</th>\n",
              "      <td>10067386</td>\n",
              "      <td>안개 자욱한 밤하늘에 떠 있는 초승달 같은 영화.</td>\n",
              "      <td>1</td>\n",
              "    </tr>\n",
              "  </tbody>\n",
              "</table>\n",
              "</div>\n",
              "    <div class=\"colab-df-buttons\">\n",
              "\n",
              "  <div class=\"colab-df-container\">\n",
              "    <button class=\"colab-df-convert\" onclick=\"convertToInteractive('df-c280a2d6-3642-47a2-9bd9-b9ea7f089cb1')\"\n",
              "            title=\"Convert this dataframe to an interactive table.\"\n",
              "            style=\"display:none;\">\n",
              "\n",
              "  <svg xmlns=\"http://www.w3.org/2000/svg\" height=\"24px\" viewBox=\"0 -960 960 960\">\n",
              "    <path d=\"M120-120v-720h720v720H120Zm60-500h600v-160H180v160Zm220 220h160v-160H400v160Zm0 220h160v-160H400v160ZM180-400h160v-160H180v160Zm440 0h160v-160H620v160ZM180-180h160v-160H180v160Zm440 0h160v-160H620v160Z\"/>\n",
              "  </svg>\n",
              "    </button>\n",
              "\n",
              "  <style>\n",
              "    .colab-df-container {\n",
              "      display:flex;\n",
              "      gap: 12px;\n",
              "    }\n",
              "\n",
              "    .colab-df-convert {\n",
              "      background-color: #E8F0FE;\n",
              "      border: none;\n",
              "      border-radius: 50%;\n",
              "      cursor: pointer;\n",
              "      display: none;\n",
              "      fill: #1967D2;\n",
              "      height: 32px;\n",
              "      padding: 0 0 0 0;\n",
              "      width: 32px;\n",
              "    }\n",
              "\n",
              "    .colab-df-convert:hover {\n",
              "      background-color: #E2EBFA;\n",
              "      box-shadow: 0px 1px 2px rgba(60, 64, 67, 0.3), 0px 1px 3px 1px rgba(60, 64, 67, 0.15);\n",
              "      fill: #174EA6;\n",
              "    }\n",
              "\n",
              "    .colab-df-buttons div {\n",
              "      margin-bottom: 4px;\n",
              "    }\n",
              "\n",
              "    [theme=dark] .colab-df-convert {\n",
              "      background-color: #3B4455;\n",
              "      fill: #D2E3FC;\n",
              "    }\n",
              "\n",
              "    [theme=dark] .colab-df-convert:hover {\n",
              "      background-color: #434B5C;\n",
              "      box-shadow: 0px 1px 3px 1px rgba(0, 0, 0, 0.15);\n",
              "      filter: drop-shadow(0px 1px 2px rgba(0, 0, 0, 0.3));\n",
              "      fill: #FFFFFF;\n",
              "    }\n",
              "  </style>\n",
              "\n",
              "    <script>\n",
              "      const buttonEl =\n",
              "        document.querySelector('#df-c280a2d6-3642-47a2-9bd9-b9ea7f089cb1 button.colab-df-convert');\n",
              "      buttonEl.style.display =\n",
              "        google.colab.kernel.accessAllowed ? 'block' : 'none';\n",
              "\n",
              "      async function convertToInteractive(key) {\n",
              "        const element = document.querySelector('#df-c280a2d6-3642-47a2-9bd9-b9ea7f089cb1');\n",
              "        const dataTable =\n",
              "          await google.colab.kernel.invokeFunction('convertToInteractive',\n",
              "                                                    [key], {});\n",
              "        if (!dataTable) return;\n",
              "\n",
              "        const docLinkHtml = 'Like what you see? Visit the ' +\n",
              "          '<a target=\"_blank\" href=https://colab.research.google.com/notebooks/data_table.ipynb>data table notebook</a>'\n",
              "          + ' to learn more about interactive tables.';\n",
              "        element.innerHTML = '';\n",
              "        dataTable['output_type'] = 'display_data';\n",
              "        await google.colab.output.renderOutput(dataTable, element);\n",
              "        const docLink = document.createElement('div');\n",
              "        docLink.innerHTML = docLinkHtml;\n",
              "        element.appendChild(docLink);\n",
              "      }\n",
              "    </script>\n",
              "  </div>\n",
              "\n",
              "\n",
              "    <div id=\"df-1a4fe261-0242-45bc-8268-24ffb8dd78f2\">\n",
              "      <button class=\"colab-df-quickchart\" onclick=\"quickchart('df-1a4fe261-0242-45bc-8268-24ffb8dd78f2')\"\n",
              "                title=\"Suggest charts\"\n",
              "                style=\"display:none;\">\n",
              "\n",
              "<svg xmlns=\"http://www.w3.org/2000/svg\" height=\"24px\"viewBox=\"0 0 24 24\"\n",
              "     width=\"24px\">\n",
              "    <g>\n",
              "        <path d=\"M19 3H5c-1.1 0-2 .9-2 2v14c0 1.1.9 2 2 2h14c1.1 0 2-.9 2-2V5c0-1.1-.9-2-2-2zM9 17H7v-7h2v7zm4 0h-2V7h2v10zm4 0h-2v-4h2v4z\"/>\n",
              "    </g>\n",
              "</svg>\n",
              "      </button>\n",
              "\n",
              "<style>\n",
              "  .colab-df-quickchart {\n",
              "      --bg-color: #E8F0FE;\n",
              "      --fill-color: #1967D2;\n",
              "      --hover-bg-color: #E2EBFA;\n",
              "      --hover-fill-color: #174EA6;\n",
              "      --disabled-fill-color: #AAA;\n",
              "      --disabled-bg-color: #DDD;\n",
              "  }\n",
              "\n",
              "  [theme=dark] .colab-df-quickchart {\n",
              "      --bg-color: #3B4455;\n",
              "      --fill-color: #D2E3FC;\n",
              "      --hover-bg-color: #434B5C;\n",
              "      --hover-fill-color: #FFFFFF;\n",
              "      --disabled-bg-color: #3B4455;\n",
              "      --disabled-fill-color: #666;\n",
              "  }\n",
              "\n",
              "  .colab-df-quickchart {\n",
              "    background-color: var(--bg-color);\n",
              "    border: none;\n",
              "    border-radius: 50%;\n",
              "    cursor: pointer;\n",
              "    display: none;\n",
              "    fill: var(--fill-color);\n",
              "    height: 32px;\n",
              "    padding: 0;\n",
              "    width: 32px;\n",
              "  }\n",
              "\n",
              "  .colab-df-quickchart:hover {\n",
              "    background-color: var(--hover-bg-color);\n",
              "    box-shadow: 0 1px 2px rgba(60, 64, 67, 0.3), 0 1px 3px 1px rgba(60, 64, 67, 0.15);\n",
              "    fill: var(--button-hover-fill-color);\n",
              "  }\n",
              "\n",
              "  .colab-df-quickchart-complete:disabled,\n",
              "  .colab-df-quickchart-complete:disabled:hover {\n",
              "    background-color: var(--disabled-bg-color);\n",
              "    fill: var(--disabled-fill-color);\n",
              "    box-shadow: none;\n",
              "  }\n",
              "\n",
              "  .colab-df-spinner {\n",
              "    border: 2px solid var(--fill-color);\n",
              "    border-color: transparent;\n",
              "    border-bottom-color: var(--fill-color);\n",
              "    animation:\n",
              "      spin 1s steps(1) infinite;\n",
              "  }\n",
              "\n",
              "  @keyframes spin {\n",
              "    0% {\n",
              "      border-color: transparent;\n",
              "      border-bottom-color: var(--fill-color);\n",
              "      border-left-color: var(--fill-color);\n",
              "    }\n",
              "    20% {\n",
              "      border-color: transparent;\n",
              "      border-left-color: var(--fill-color);\n",
              "      border-top-color: var(--fill-color);\n",
              "    }\n",
              "    30% {\n",
              "      border-color: transparent;\n",
              "      border-left-color: var(--fill-color);\n",
              "      border-top-color: var(--fill-color);\n",
              "      border-right-color: var(--fill-color);\n",
              "    }\n",
              "    40% {\n",
              "      border-color: transparent;\n",
              "      border-right-color: var(--fill-color);\n",
              "      border-top-color: var(--fill-color);\n",
              "    }\n",
              "    60% {\n",
              "      border-color: transparent;\n",
              "      border-right-color: var(--fill-color);\n",
              "    }\n",
              "    80% {\n",
              "      border-color: transparent;\n",
              "      border-right-color: var(--fill-color);\n",
              "      border-bottom-color: var(--fill-color);\n",
              "    }\n",
              "    90% {\n",
              "      border-color: transparent;\n",
              "      border-bottom-color: var(--fill-color);\n",
              "    }\n",
              "  }\n",
              "</style>\n",
              "\n",
              "      <script>\n",
              "        async function quickchart(key) {\n",
              "          const quickchartButtonEl =\n",
              "            document.querySelector('#' + key + ' button');\n",
              "          quickchartButtonEl.disabled = true;  // To prevent multiple clicks.\n",
              "          quickchartButtonEl.classList.add('colab-df-spinner');\n",
              "          try {\n",
              "            const charts = await google.colab.kernel.invokeFunction(\n",
              "                'suggestCharts', [key], {});\n",
              "          } catch (error) {\n",
              "            console.error('Error during call to suggestCharts:', error);\n",
              "          }\n",
              "          quickchartButtonEl.classList.remove('colab-df-spinner');\n",
              "          quickchartButtonEl.classList.add('colab-df-quickchart-complete');\n",
              "        }\n",
              "        (() => {\n",
              "          let quickchartButtonEl =\n",
              "            document.querySelector('#df-1a4fe261-0242-45bc-8268-24ffb8dd78f2 button');\n",
              "          quickchartButtonEl.style.display =\n",
              "            google.colab.kernel.accessAllowed ? 'block' : 'none';\n",
              "        })();\n",
              "      </script>\n",
              "    </div>\n",
              "\n",
              "    </div>\n",
              "  </div>\n"
            ],
            "application/vnd.google.colaboratory.intrinsic+json": {
              "type": "dataframe",
              "summary": "{\n  \"name\": \"train_data[:5]\",\n  \"rows\": 5,\n  \"fields\": [\n    {\n      \"column\": \"id\",\n      \"properties\": {\n        \"dtype\": \"number\",\n        \"std\": 2064291,\n        \"min\": 4655635,\n        \"max\": 10067386,\n        \"num_unique_values\": 5,\n        \"samples\": [\n          8132799,\n          10067386,\n          4655635\n        ],\n        \"semantic_type\": \"\",\n        \"description\": \"\"\n      }\n    },\n    {\n      \"column\": \"document\",\n      \"properties\": {\n        \"dtype\": \"string\",\n        \"num_unique_values\": 5,\n        \"samples\": [\n          \"\\ub514\\uc790\\uc778\\uc744 \\ubc30\\uc6b0\\ub294 \\ud559\\uc0dd\\uc73c\\ub85c, \\uc678\\uad6d\\ub514\\uc790\\uc774\\ub108\\uc640 \\uadf8\\ub4e4\\uc774 \\uc77c\\uad70 \\uc804\\ud1b5\\uc744 \\ud1b5\\ud574 \\ubc1c\\uc804\\ud574\\uac00\\ub294 \\ubb38\\ud654\\uc0b0\\uc5c5\\uc774 \\ubd80\\ub7ec\\uc6e0\\ub294\\ub370. \\uc0ac\\uc2e4 \\uc6b0\\ub9ac\\ub098\\ub77c\\uc5d0\\uc11c\\ub3c4 \\uadf8 \\uc5b4\\ub824\\uc6b4\\uc2dc\\uc808\\uc5d0 \\ub05d\\uae4c\\uc9c0 \\uc5f4\\uc815\\uc744 \\uc9c0\\ud0a8 \\ub178\\ub77c\\ub178 \\uac19\\uc740 \\uc804\\ud1b5\\uc774\\uc788\\uc5b4 \\uc800\\uc640 \\uac19\\uc740 \\uc0ac\\ub78c\\ub4e4\\uc774 \\uafc8\\uc744 \\uafb8\\uace0 \\uc774\\ub904\\ub098\\uac08 \\uc218 \\uc788\\ub2e4\\ub294 \\uac83\\uc5d0 \\uac10\\uc0ac\\ud569\\ub2c8\\ub2e4.\",\n          \"\\uc548\\uac1c \\uc790\\uc6b1\\ud55c \\ubc24\\ud558\\ub298\\uc5d0 \\ub5a0 \\uc788\\ub294 \\ucd08\\uc2b9\\ub2ec \\uac19\\uc740 \\uc601\\ud654.\",\n          \"\\ud3f4\\ub9ac\\uc2a4\\uc2a4\\ud1a0\\ub9ac \\uc2dc\\ub9ac\\uc988\\ub294 1\\ubd80\\ud130 \\ub274\\uae4c\\uc9c0 \\ubc84\\ub9b4\\uaed8 \\ud558\\ub098\\ub3c4 \\uc5c6\\uc74c.. \\ucd5c\\uace0.\"\n        ],\n        \"semantic_type\": \"\",\n        \"description\": \"\"\n      }\n    },\n    {\n      \"column\": \"label\",\n      \"properties\": {\n        \"dtype\": \"number\",\n        \"std\": 0,\n        \"min\": 1,\n        \"max\": 1,\n        \"num_unique_values\": 1,\n        \"samples\": [\n          1\n        ],\n        \"semantic_type\": \"\",\n        \"description\": \"\"\n      }\n    }\n  ]\n}"
            }
          },
          "metadata": {},
          "execution_count": 9
        }
      ]
    },
    {
      "cell_type": "code",
      "source": [
        "print(\"총 개수: \",len(train_data))\n",
        "print('결측 개수 :', sum(train_data.document.isnull()))"
      ],
      "metadata": {
        "id": "XeLLrOlVN-Nu",
        "colab": {
          "base_uri": "https://localhost:8080/"
        },
        "outputId": "b5de709a-60e5-4424-f3d6-29219556500e"
      },
      "execution_count": null,
      "outputs": [
        {
          "output_type": "stream",
          "name": "stdout",
          "text": [
            "총 개수:  200000\n",
            "결측 개수 : 8\n"
          ]
        }
      ]
    },
    {
      "cell_type": "code",
      "source": [
        "train_data = train_data.dropna(how = 'any') # Null 값이 존재하는 행 제거\n",
        "print(train_data.isnull().values.any()) # Null 값이 존재하는지 확인"
      ],
      "metadata": {
        "id": "vwFsFp2kOFKA",
        "colab": {
          "base_uri": "https://localhost:8080/"
        },
        "outputId": "8ba819d2-0390-4841-e057-28d6e7ee8074"
      },
      "execution_count": null,
      "outputs": [
        {
          "output_type": "stream",
          "name": "stdout",
          "text": [
            "False\n"
          ]
        }
      ]
    },
    {
      "cell_type": "code",
      "source": [
        "# 정규 표현식을 통한 한글 외 문자 제거\n",
        "train_data['document'] = train_data['document'].str.replace(\"[^ㄱ-ㅎㅏ-ㅣ가-힣 ]\",\"\")\n",
        "train_data[:5]"
      ],
      "metadata": {
        "id": "tSPZbhLCOox6",
        "colab": {
          "base_uri": "https://localhost:8080/",
          "height": 206
        },
        "outputId": "33b390e2-f6c3-49a1-9848-2538d60e016b"
      },
      "execution_count": null,
      "outputs": [
        {
          "output_type": "execute_result",
          "data": {
            "text/plain": [
              "         id                                           document  label\n",
              "0   8112052                                어릴때보고 지금다시봐도 재밌어요ㅋㅋ      1\n",
              "1   8132799  디자인을 배우는 학생으로, 외국디자이너와 그들이 일군 전통을 통해 발전해가는 문화산...      1\n",
              "2   4655635               폴리스스토리 시리즈는 1부터 뉴까지 버릴께 하나도 없음.. 최고.      1\n",
              "3   9251303  와.. 연기가 진짜 개쩔구나.. 지루할거라고 생각했는데 몰입해서 봤다.. 그래 이런...      1\n",
              "4  10067386                        안개 자욱한 밤하늘에 떠 있는 초승달 같은 영화.      1"
            ],
            "text/html": [
              "\n",
              "  <div id=\"df-35786eb3-4794-4502-9d56-26979be79416\" class=\"colab-df-container\">\n",
              "    <div>\n",
              "<style scoped>\n",
              "    .dataframe tbody tr th:only-of-type {\n",
              "        vertical-align: middle;\n",
              "    }\n",
              "\n",
              "    .dataframe tbody tr th {\n",
              "        vertical-align: top;\n",
              "    }\n",
              "\n",
              "    .dataframe thead th {\n",
              "        text-align: right;\n",
              "    }\n",
              "</style>\n",
              "<table border=\"1\" class=\"dataframe\">\n",
              "  <thead>\n",
              "    <tr style=\"text-align: right;\">\n",
              "      <th></th>\n",
              "      <th>id</th>\n",
              "      <th>document</th>\n",
              "      <th>label</th>\n",
              "    </tr>\n",
              "  </thead>\n",
              "  <tbody>\n",
              "    <tr>\n",
              "      <th>0</th>\n",
              "      <td>8112052</td>\n",
              "      <td>어릴때보고 지금다시봐도 재밌어요ㅋㅋ</td>\n",
              "      <td>1</td>\n",
              "    </tr>\n",
              "    <tr>\n",
              "      <th>1</th>\n",
              "      <td>8132799</td>\n",
              "      <td>디자인을 배우는 학생으로, 외국디자이너와 그들이 일군 전통을 통해 발전해가는 문화산...</td>\n",
              "      <td>1</td>\n",
              "    </tr>\n",
              "    <tr>\n",
              "      <th>2</th>\n",
              "      <td>4655635</td>\n",
              "      <td>폴리스스토리 시리즈는 1부터 뉴까지 버릴께 하나도 없음.. 최고.</td>\n",
              "      <td>1</td>\n",
              "    </tr>\n",
              "    <tr>\n",
              "      <th>3</th>\n",
              "      <td>9251303</td>\n",
              "      <td>와.. 연기가 진짜 개쩔구나.. 지루할거라고 생각했는데 몰입해서 봤다.. 그래 이런...</td>\n",
              "      <td>1</td>\n",
              "    </tr>\n",
              "    <tr>\n",
              "      <th>4</th>\n",
              "      <td>10067386</td>\n",
              "      <td>안개 자욱한 밤하늘에 떠 있는 초승달 같은 영화.</td>\n",
              "      <td>1</td>\n",
              "    </tr>\n",
              "  </tbody>\n",
              "</table>\n",
              "</div>\n",
              "    <div class=\"colab-df-buttons\">\n",
              "\n",
              "  <div class=\"colab-df-container\">\n",
              "    <button class=\"colab-df-convert\" onclick=\"convertToInteractive('df-35786eb3-4794-4502-9d56-26979be79416')\"\n",
              "            title=\"Convert this dataframe to an interactive table.\"\n",
              "            style=\"display:none;\">\n",
              "\n",
              "  <svg xmlns=\"http://www.w3.org/2000/svg\" height=\"24px\" viewBox=\"0 -960 960 960\">\n",
              "    <path d=\"M120-120v-720h720v720H120Zm60-500h600v-160H180v160Zm220 220h160v-160H400v160Zm0 220h160v-160H400v160ZM180-400h160v-160H180v160Zm440 0h160v-160H620v160ZM180-180h160v-160H180v160Zm440 0h160v-160H620v160Z\"/>\n",
              "  </svg>\n",
              "    </button>\n",
              "\n",
              "  <style>\n",
              "    .colab-df-container {\n",
              "      display:flex;\n",
              "      gap: 12px;\n",
              "    }\n",
              "\n",
              "    .colab-df-convert {\n",
              "      background-color: #E8F0FE;\n",
              "      border: none;\n",
              "      border-radius: 50%;\n",
              "      cursor: pointer;\n",
              "      display: none;\n",
              "      fill: #1967D2;\n",
              "      height: 32px;\n",
              "      padding: 0 0 0 0;\n",
              "      width: 32px;\n",
              "    }\n",
              "\n",
              "    .colab-df-convert:hover {\n",
              "      background-color: #E2EBFA;\n",
              "      box-shadow: 0px 1px 2px rgba(60, 64, 67, 0.3), 0px 1px 3px 1px rgba(60, 64, 67, 0.15);\n",
              "      fill: #174EA6;\n",
              "    }\n",
              "\n",
              "    .colab-df-buttons div {\n",
              "      margin-bottom: 4px;\n",
              "    }\n",
              "\n",
              "    [theme=dark] .colab-df-convert {\n",
              "      background-color: #3B4455;\n",
              "      fill: #D2E3FC;\n",
              "    }\n",
              "\n",
              "    [theme=dark] .colab-df-convert:hover {\n",
              "      background-color: #434B5C;\n",
              "      box-shadow: 0px 1px 3px 1px rgba(0, 0, 0, 0.15);\n",
              "      filter: drop-shadow(0px 1px 2px rgba(0, 0, 0, 0.3));\n",
              "      fill: #FFFFFF;\n",
              "    }\n",
              "  </style>\n",
              "\n",
              "    <script>\n",
              "      const buttonEl =\n",
              "        document.querySelector('#df-35786eb3-4794-4502-9d56-26979be79416 button.colab-df-convert');\n",
              "      buttonEl.style.display =\n",
              "        google.colab.kernel.accessAllowed ? 'block' : 'none';\n",
              "\n",
              "      async function convertToInteractive(key) {\n",
              "        const element = document.querySelector('#df-35786eb3-4794-4502-9d56-26979be79416');\n",
              "        const dataTable =\n",
              "          await google.colab.kernel.invokeFunction('convertToInteractive',\n",
              "                                                    [key], {});\n",
              "        if (!dataTable) return;\n",
              "\n",
              "        const docLinkHtml = 'Like what you see? Visit the ' +\n",
              "          '<a target=\"_blank\" href=https://colab.research.google.com/notebooks/data_table.ipynb>data table notebook</a>'\n",
              "          + ' to learn more about interactive tables.';\n",
              "        element.innerHTML = '';\n",
              "        dataTable['output_type'] = 'display_data';\n",
              "        await google.colab.output.renderOutput(dataTable, element);\n",
              "        const docLink = document.createElement('div');\n",
              "        docLink.innerHTML = docLinkHtml;\n",
              "        element.appendChild(docLink);\n",
              "      }\n",
              "    </script>\n",
              "  </div>\n",
              "\n",
              "\n",
              "    <div id=\"df-0607cdfc-0627-4136-959b-ee85000f611b\">\n",
              "      <button class=\"colab-df-quickchart\" onclick=\"quickchart('df-0607cdfc-0627-4136-959b-ee85000f611b')\"\n",
              "                title=\"Suggest charts\"\n",
              "                style=\"display:none;\">\n",
              "\n",
              "<svg xmlns=\"http://www.w3.org/2000/svg\" height=\"24px\"viewBox=\"0 0 24 24\"\n",
              "     width=\"24px\">\n",
              "    <g>\n",
              "        <path d=\"M19 3H5c-1.1 0-2 .9-2 2v14c0 1.1.9 2 2 2h14c1.1 0 2-.9 2-2V5c0-1.1-.9-2-2-2zM9 17H7v-7h2v7zm4 0h-2V7h2v10zm4 0h-2v-4h2v4z\"/>\n",
              "    </g>\n",
              "</svg>\n",
              "      </button>\n",
              "\n",
              "<style>\n",
              "  .colab-df-quickchart {\n",
              "      --bg-color: #E8F0FE;\n",
              "      --fill-color: #1967D2;\n",
              "      --hover-bg-color: #E2EBFA;\n",
              "      --hover-fill-color: #174EA6;\n",
              "      --disabled-fill-color: #AAA;\n",
              "      --disabled-bg-color: #DDD;\n",
              "  }\n",
              "\n",
              "  [theme=dark] .colab-df-quickchart {\n",
              "      --bg-color: #3B4455;\n",
              "      --fill-color: #D2E3FC;\n",
              "      --hover-bg-color: #434B5C;\n",
              "      --hover-fill-color: #FFFFFF;\n",
              "      --disabled-bg-color: #3B4455;\n",
              "      --disabled-fill-color: #666;\n",
              "  }\n",
              "\n",
              "  .colab-df-quickchart {\n",
              "    background-color: var(--bg-color);\n",
              "    border: none;\n",
              "    border-radius: 50%;\n",
              "    cursor: pointer;\n",
              "    display: none;\n",
              "    fill: var(--fill-color);\n",
              "    height: 32px;\n",
              "    padding: 0;\n",
              "    width: 32px;\n",
              "  }\n",
              "\n",
              "  .colab-df-quickchart:hover {\n",
              "    background-color: var(--hover-bg-color);\n",
              "    box-shadow: 0 1px 2px rgba(60, 64, 67, 0.3), 0 1px 3px 1px rgba(60, 64, 67, 0.15);\n",
              "    fill: var(--button-hover-fill-color);\n",
              "  }\n",
              "\n",
              "  .colab-df-quickchart-complete:disabled,\n",
              "  .colab-df-quickchart-complete:disabled:hover {\n",
              "    background-color: var(--disabled-bg-color);\n",
              "    fill: var(--disabled-fill-color);\n",
              "    box-shadow: none;\n",
              "  }\n",
              "\n",
              "  .colab-df-spinner {\n",
              "    border: 2px solid var(--fill-color);\n",
              "    border-color: transparent;\n",
              "    border-bottom-color: var(--fill-color);\n",
              "    animation:\n",
              "      spin 1s steps(1) infinite;\n",
              "  }\n",
              "\n",
              "  @keyframes spin {\n",
              "    0% {\n",
              "      border-color: transparent;\n",
              "      border-bottom-color: var(--fill-color);\n",
              "      border-left-color: var(--fill-color);\n",
              "    }\n",
              "    20% {\n",
              "      border-color: transparent;\n",
              "      border-left-color: var(--fill-color);\n",
              "      border-top-color: var(--fill-color);\n",
              "    }\n",
              "    30% {\n",
              "      border-color: transparent;\n",
              "      border-left-color: var(--fill-color);\n",
              "      border-top-color: var(--fill-color);\n",
              "      border-right-color: var(--fill-color);\n",
              "    }\n",
              "    40% {\n",
              "      border-color: transparent;\n",
              "      border-right-color: var(--fill-color);\n",
              "      border-top-color: var(--fill-color);\n",
              "    }\n",
              "    60% {\n",
              "      border-color: transparent;\n",
              "      border-right-color: var(--fill-color);\n",
              "    }\n",
              "    80% {\n",
              "      border-color: transparent;\n",
              "      border-right-color: var(--fill-color);\n",
              "      border-bottom-color: var(--fill-color);\n",
              "    }\n",
              "    90% {\n",
              "      border-color: transparent;\n",
              "      border-bottom-color: var(--fill-color);\n",
              "    }\n",
              "  }\n",
              "</style>\n",
              "\n",
              "      <script>\n",
              "        async function quickchart(key) {\n",
              "          const quickchartButtonEl =\n",
              "            document.querySelector('#' + key + ' button');\n",
              "          quickchartButtonEl.disabled = true;  // To prevent multiple clicks.\n",
              "          quickchartButtonEl.classList.add('colab-df-spinner');\n",
              "          try {\n",
              "            const charts = await google.colab.kernel.invokeFunction(\n",
              "                'suggestCharts', [key], {});\n",
              "          } catch (error) {\n",
              "            console.error('Error during call to suggestCharts:', error);\n",
              "          }\n",
              "          quickchartButtonEl.classList.remove('colab-df-spinner');\n",
              "          quickchartButtonEl.classList.add('colab-df-quickchart-complete');\n",
              "        }\n",
              "        (() => {\n",
              "          let quickchartButtonEl =\n",
              "            document.querySelector('#df-0607cdfc-0627-4136-959b-ee85000f611b button');\n",
              "          quickchartButtonEl.style.display =\n",
              "            google.colab.kernel.accessAllowed ? 'block' : 'none';\n",
              "        })();\n",
              "      </script>\n",
              "    </div>\n",
              "\n",
              "    </div>\n",
              "  </div>\n"
            ],
            "application/vnd.google.colaboratory.intrinsic+json": {
              "type": "dataframe",
              "summary": "{\n  \"name\": \"train_data[:5]\",\n  \"rows\": 5,\n  \"fields\": [\n    {\n      \"column\": \"id\",\n      \"properties\": {\n        \"dtype\": \"number\",\n        \"std\": 2064291,\n        \"min\": 4655635,\n        \"max\": 10067386,\n        \"num_unique_values\": 5,\n        \"samples\": [\n          8132799,\n          10067386,\n          4655635\n        ],\n        \"semantic_type\": \"\",\n        \"description\": \"\"\n      }\n    },\n    {\n      \"column\": \"document\",\n      \"properties\": {\n        \"dtype\": \"string\",\n        \"num_unique_values\": 5,\n        \"samples\": [\n          \"\\ub514\\uc790\\uc778\\uc744 \\ubc30\\uc6b0\\ub294 \\ud559\\uc0dd\\uc73c\\ub85c, \\uc678\\uad6d\\ub514\\uc790\\uc774\\ub108\\uc640 \\uadf8\\ub4e4\\uc774 \\uc77c\\uad70 \\uc804\\ud1b5\\uc744 \\ud1b5\\ud574 \\ubc1c\\uc804\\ud574\\uac00\\ub294 \\ubb38\\ud654\\uc0b0\\uc5c5\\uc774 \\ubd80\\ub7ec\\uc6e0\\ub294\\ub370. \\uc0ac\\uc2e4 \\uc6b0\\ub9ac\\ub098\\ub77c\\uc5d0\\uc11c\\ub3c4 \\uadf8 \\uc5b4\\ub824\\uc6b4\\uc2dc\\uc808\\uc5d0 \\ub05d\\uae4c\\uc9c0 \\uc5f4\\uc815\\uc744 \\uc9c0\\ud0a8 \\ub178\\ub77c\\ub178 \\uac19\\uc740 \\uc804\\ud1b5\\uc774\\uc788\\uc5b4 \\uc800\\uc640 \\uac19\\uc740 \\uc0ac\\ub78c\\ub4e4\\uc774 \\uafc8\\uc744 \\uafb8\\uace0 \\uc774\\ub904\\ub098\\uac08 \\uc218 \\uc788\\ub2e4\\ub294 \\uac83\\uc5d0 \\uac10\\uc0ac\\ud569\\ub2c8\\ub2e4.\",\n          \"\\uc548\\uac1c \\uc790\\uc6b1\\ud55c \\ubc24\\ud558\\ub298\\uc5d0 \\ub5a0 \\uc788\\ub294 \\ucd08\\uc2b9\\ub2ec \\uac19\\uc740 \\uc601\\ud654.\",\n          \"\\ud3f4\\ub9ac\\uc2a4\\uc2a4\\ud1a0\\ub9ac \\uc2dc\\ub9ac\\uc988\\ub294 1\\ubd80\\ud130 \\ub274\\uae4c\\uc9c0 \\ubc84\\ub9b4\\uaed8 \\ud558\\ub098\\ub3c4 \\uc5c6\\uc74c.. \\ucd5c\\uace0.\"\n        ],\n        \"semantic_type\": \"\",\n        \"description\": \"\"\n      }\n    },\n    {\n      \"column\": \"label\",\n      \"properties\": {\n        \"dtype\": \"number\",\n        \"std\": 0,\n        \"min\": 1,\n        \"max\": 1,\n        \"num_unique_values\": 1,\n        \"samples\": [\n          1\n        ],\n        \"semantic_type\": \"\",\n        \"description\": \"\"\n      }\n    }\n  ]\n}"
            }
          },
          "metadata": {},
          "execution_count": 12
        }
      ]
    },
    {
      "cell_type": "code",
      "source": [
        "# 불용어 정의\n",
        "stopwords = ['의','가','이','은','들','는','좀','잘','걍','과','도','를','으로','자','에','와','한','하다']\n",
        "\n",
        "# 형태소 분석기 OKT를 사용한 토큰화 작업 (다소 시간 소요)\n",
        "okt = Okt()\n",
        "\n",
        "tokenized_data = []\n",
        "for sentence in tqdm(train_data['document'][:10000]):\n",
        "    tokenized_sentence = okt.morphs(sentence, stem=True) # 토큰화\n",
        "    stopwords_removed_sentence = [word for word in tokenized_sentence if not word in stopwords] # 불용어 제거\n",
        "    tokenized_data.append(stopwords_removed_sentence)"
      ],
      "metadata": {
        "id": "EypVyok5OrsY",
        "colab": {
          "base_uri": "https://localhost:8080/"
        },
        "outputId": "01d5bd00-f0a7-479b-95c0-27d4a648e932"
      },
      "execution_count": null,
      "outputs": [
        {
          "output_type": "stream",
          "name": "stderr",
          "text": [
            "100%|██████████| 10000/10000 [00:41<00:00, 238.23it/s]\n"
          ]
        }
      ]
    },
    {
      "cell_type": "code",
      "source": [
        "# 리뷰 길이 분포 확인\n",
        "print('리뷰의 최대 길이 :',max(len(review) for review in tokenized_data))\n",
        "print('리뷰의 평균 길이 :',sum(map(len, tokenized_data))/len(tokenized_data))\n",
        "plt.hist([len(review) for review in tokenized_data], bins=50)\n",
        "plt.xlabel('length of samples')\n",
        "plt.ylabel('number of samples')\n",
        "plt.show()"
      ],
      "metadata": {
        "id": "5pmvO3TDO70p",
        "colab": {
          "base_uri": "https://localhost:8080/",
          "height": 485
        },
        "outputId": "aaf594b8-56c7-4083-8b5b-f9903e20a67e"
      },
      "execution_count": null,
      "outputs": [
        {
          "output_type": "stream",
          "name": "stdout",
          "text": [
            "리뷰의 최대 길이 : 87\n",
            "리뷰의 평균 길이 : 11.9353\n"
          ]
        },
        {
          "output_type": "display_data",
          "data": {
            "text/plain": [
              "<Figure size 640x480 with 1 Axes>"
            ],
            "image/png": "[encoded data removed]"
          },
          "metadata": {}
        }
      ]
    },
    {
      "cell_type": "code",
      "source": [
        "from gensim.models import Word2Vec\n",
        "\n",
        "model = Word2Vec(sentences = tokenized_data, vector_size = 100, window = 5, min_count = 5, workers = 4, sg = 0)\n"
      ],
      "metadata": {
        "id": "2NBodJMcO9BK"
      },
      "execution_count": null,
      "outputs": []
    },
    {
      "cell_type": "code",
      "source": [
        "# 완성된 임베딩 매트릭스의 크기 확인\n",
        "model.wv.vectors.shape"
      ],
      "metadata": {
        "id": "gjd_s_r5PBes",
        "colab": {
          "base_uri": "https://localhost:8080/"
        },
        "outputId": "4738b645-d351-48e5-d3ad-37a96c9e304a"
      },
      "execution_count": null,
      "outputs": [
        {
          "output_type": "execute_result",
          "data": {
            "text/plain": [
              "(2593, 100)"
            ]
          },
          "metadata": {},
          "execution_count": 74
        }
      ]
    },
    {
      "cell_type": "code",
      "source": [
        "print(model.wv.most_similar(\"최민식\"))"
      ],
      "metadata": {
        "id": "gNhn-AbaPEPu",
        "colab": {
          "base_uri": "https://localhost:8080/"
        },
        "outputId": "3027fb43-8da6-4b60-ea24-c3162fa0b414"
      },
      "execution_count": null,
      "outputs": [
        {
          "output_type": "stream",
          "name": "stdout",
          "text": [
            "[('국민', 0.9821428060531616), ('터', 0.9820960760116577), ('장', 0.9820606708526611), ('화려하다', 0.9818850755691528), ('일품', 0.9817587733268738), ('또한', 0.9817184805870056), ('~!', 0.981671154499054), ('음악', 0.9815290570259094), ('하고도', 0.9814808964729309), ('약간', 0.9814214706420898)]\n"
          ]
        }
      ]
    },
    {
      "cell_type": "code",
      "source": [
        "print(model.wv.most_similar(\"명작\"))"
      ],
      "metadata": {
        "id": "qIAImDd-PGGz",
        "colab": {
          "base_uri": "https://localhost:8080/"
        },
        "outputId": "23675609-eed6-4774-8b4f-1fc24bf07395"
      },
      "execution_count": null,
      "outputs": [
        {
          "output_type": "stream",
          "name": "stdout",
          "text": [
            "[('임', 0.9984184503555298), ('제일', 0.9980313777923584), ('최고다', 0.9979985952377319), ('추천', 0.9979433417320251), ('대단하다', 0.9978734850883484), ('한국', 0.9978557825088501), ('대박', 0.9978455305099487), ('아이', 0.9978194236755371), ('몰입도', 0.9977919459342957), ('본', 0.9977680444717407)]\n"
          ]
        }
      ]
    },
    {
      "cell_type": "markdown",
      "source": [
        "### 2) BPE Tokenizer 예시"
      ],
      "metadata": {
        "id": "dJdB3Ho9PdtT"
      }
    },
    {
      "cell_type": "markdown",
      "source": [
        "- 가장 작은 단위에서부터 중복 빈도 순 단위를 합침\n",
        "- 가장 큰 단어까지 합치고, 이전에 등장하지 않은 단어는 vocab에 있는 token으로 분절\n",
        "\n",
        "![스크린샷 2024-05-12 오후 7.44.59.png](data:image/png;base64,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)"
      ],
      "metadata": {
        "id": "634SC43ZZkjX"
      }
    },
    {
      "cell_type": "code",
      "source": [
        "num_merges = 10"
      ],
      "metadata": {
        "id": "6h9JORZFZgsc"
      },
      "execution_count": null,
      "outputs": []
    },
    {
      "cell_type": "code",
      "source": [
        "dictionary = {'l o w </w>' : 5,\n",
        "              'l o w e r </w>' : 2,\n",
        "              'n e w e s t </w>': 6,\n",
        "              'w i d e s t </w>': 3\n",
        "             }"
      ],
      "metadata": {
        "id": "Ch49OomBY-4O"
      },
      "execution_count": null,
      "outputs": []
    },
    {
      "cell_type": "code",
      "source": [
        "def get_stats(dictionary):\n",
        "    # 유니그램의 pair들의 빈도수를 카운트\n",
        "    pairs = collections.defaultdict(int)\n",
        "    for word, freq in dictionary.items():\n",
        "        symbols = word.split()\n",
        "        for i in range(len(symbols)-1):\n",
        "            pairs[symbols[i],symbols[i+1]] += freq\n",
        "    print('현재 pair들의 빈도수 :', dict(pairs))\n",
        "    return pairs"
      ],
      "metadata": {
        "id": "KSW9N0QfZA9K"
      },
      "execution_count": null,
      "outputs": []
    },
    {
      "cell_type": "code",
      "source": [
        "def merge_dictionary(pair, v_in):\n",
        "    v_out = {}\n",
        "    bigram = re.escape(' '.join(pair))\n",
        "    p = re.compile(r'(?<!\\S)' + bigram + r'(?!\\S)')\n",
        "    for word in v_in:\n",
        "        w_out = p.sub(''.join(pair), word)\n",
        "        v_out[w_out] = v_in[word]\n",
        "    return v_out"
      ],
      "metadata": {
        "id": "ek_isPlDa08H"
      },
      "execution_count": null,
      "outputs": []
    },
    {
      "cell_type": "code",
      "source": [
        "bpe_codes = {}\n",
        "bpe_codes_reverse = {}\n",
        "\n",
        "for i in range(num_merges):\n",
        "    display(Markdown(\"### Iteration {}\".format(i + 1)))\n",
        "    pairs = get_stats(dictionary)\n",
        "    best = max(pairs, key=pairs.get)\n",
        "    dictionary = merge_dictionary(best, dictionary)\n",
        "\n",
        "    bpe_codes[best] = i\n",
        "    bpe_codes_reverse[best[0] + best[1]] = best\n",
        "\n",
        "    print(\"new merge: {}\".format(best))\n",
        "    print(\"dictionary: {}\".format(dictionary))"
      ],
      "metadata": {
        "id": "CZxr9JaWa60W",
        "colab": {
          "base_uri": "https://localhost:8080/",
          "height": 985
        },
        "outputId": "4978ff04-b6d1-41c5-ce61-98e53f864fdf"
      },
      "execution_count": null,
      "outputs": [
        {
          "output_type": "display_data",
          "data": {
            "text/plain": [
              "<IPython.core.display.Markdown object>"
            ],
            "text/markdown": "### Iteration 1"
          },
          "metadata": {}
        },
        {
          "output_type": "stream",
          "name": "stdout",
          "text": [
            "현재 pair들의 빈도수 : {('l', 'o'): 7, ('o', 'w'): 7, ('w', '</w>'): 5, ('w', 'e'): 8, ('e', 'r'): 2, ('r', '</w>'): 2, ('n', 'e'): 6, ('e', 'w'): 6, ('e', 's'): 9, ('s', 't'): 9, ('t', '</w>'): 9, ('w', 'i'): 3, ('i', 'd'): 3, ('d', 'e'): 3}\n",
            "new merge: ('e', 's')\n",
            "dictionary: {'l o w </w>': 5, 'l o w e r </w>': 2, 'n e w es t </w>': 6, 'w i d es t </w>': 3}\n"
          ]
        },
        {
          "output_type": "display_data",
          "data": {
            "text/plain": [
              "<IPython.core.display.Markdown object>"
            ],
            "text/markdown": "### Iteration 2"
          },
          "metadata": {}
        },
        {
          "output_type": "stream",
          "name": "stdout",
          "text": [
            "현재 pair들의 빈도수 : {('l', 'o'): 7, ('o', 'w'): 7, ('w', '</w>'): 5, ('w', 'e'): 2, ('e', 'r'): 2, ('r', '</w>'): 2, ('n', 'e'): 6, ('e', 'w'): 6, ('w', 'es'): 6, ('es', 't'): 9, ('t', '</w>'): 9, ('w', 'i'): 3, ('i', 'd'): 3, ('d', 'es'): 3}\n",
            "new merge: ('es', 't')\n",
            "dictionary: {'l o w </w>': 5, 'l o w e r </w>': 2, 'n e w est </w>': 6, 'w i d est </w>': 3}\n"
          ]
        },
        {
          "output_type": "display_data",
          "data": {
            "text/plain": [
              "<IPython.core.display.Markdown object>"
            ],
            "text/markdown": "### Iteration 3"
          },
          "metadata": {}
        },
        {
          "output_type": "stream",
          "name": "stdout",
          "text": [
            "현재 pair들의 빈도수 : {('l', 'o'): 7, ('o', 'w'): 7, ('w', '</w>'): 5, ('w', 'e'): 2, ('e', 'r'): 2, ('r', '</w>'): 2, ('n', 'e'): 6, ('e', 'w'): 6, ('w', 'est'): 6, ('est', '</w>'): 9, ('w', 'i'): 3, ('i', 'd'): 3, ('d', 'est'): 3}\n",
            "new merge: ('est', '</w>')\n",
            "dictionary: {'l o w </w>': 5, 'l o w e r </w>': 2, 'n e w est</w>': 6, 'w i d est</w>': 3}\n"
          ]
        },
        {
          "output_type": "display_data",
          "data": {
            "text/plain": [
              "<IPython.core.display.Markdown object>"
            ],
            "text/markdown": "### Iteration 4"
          },
          "metadata": {}
        },
        {
          "output_type": "stream",
          "name": "stdout",
          "text": [
            "현재 pair들의 빈도수 : {('l', 'o'): 7, ('o', 'w'): 7, ('w', '</w>'): 5, ('w', 'e'): 2, ('e', 'r'): 2, ('r', '</w>'): 2, ('n', 'e'): 6, ('e', 'w'): 6, ('w', 'est</w>'): 6, ('w', 'i'): 3, ('i', 'd'): 3, ('d', 'est</w>'): 3}\n",
            "new merge: ('l', 'o')\n",
            "dictionary: {'lo w </w>': 5, 'lo w e r </w>': 2, 'n e w est</w>': 6, 'w i d est</w>': 3}\n"
          ]
        },
        {
          "output_type": "display_data",
          "data": {
            "text/plain": [
              "<IPython.core.display.Markdown object>"
            ],
            "text/markdown": "### Iteration 5"
          },
          "metadata": {}
        },
        {
          "output_type": "stream",
          "name": "stdout",
          "text": [
            "현재 pair들의 빈도수 : {('lo', 'w'): 7, ('w', '</w>'): 5, ('w', 'e'): 2, ('e', 'r'): 2, ('r', '</w>'): 2, ('n', 'e'): 6, ('e', 'w'): 6, ('w', 'est</w>'): 6, ('w', 'i'): 3, ('i', 'd'): 3, ('d', 'est</w>'): 3}\n",
            "new merge: ('lo', 'w')\n",
            "dictionary: {'low </w>': 5, 'low e r </w>': 2, 'n e w est</w>': 6, 'w i d est</w>': 3}\n"
          ]
        },
        {
          "output_type": "display_data",
          "data": {
            "text/plain": [
              "<IPython.core.display.Markdown object>"
            ],
            "text/markdown": "### Iteration 6"
          },
          "metadata": {}
        },
        {
          "output_type": "stream",
          "name": "stdout",
          "text": [
            "현재 pair들의 빈도수 : {('low', '</w>'): 5, ('low', 'e'): 2, ('e', 'r'): 2, ('r', '</w>'): 2, ('n', 'e'): 6, ('e', 'w'): 6, ('w', 'est</w>'): 6, ('w', 'i'): 3, ('i', 'd'): 3, ('d', 'est</w>'): 3}\n",
            "new merge: ('n', 'e')\n",
            "dictionary: {'low </w>': 5, 'low e r </w>': 2, 'ne w est</w>': 6, 'w i d est</w>': 3}\n"
          ]
        },
        {
          "output_type": "display_data",
          "data": {
            "text/plain": [
              "<IPython.core.display.Markdown object>"
            ],
            "text/markdown": "### Iteration 7"
          },
          "metadata": {}
        },
        {
          "output_type": "stream",
          "name": "stdout",
          "text": [
            "현재 pair들의 빈도수 : {('low', '</w>'): 5, ('low', 'e'): 2, ('e', 'r'): 2, ('r', '</w>'): 2, ('ne', 'w'): 6, ('w', 'est</w>'): 6, ('w', 'i'): 3, ('i', 'd'): 3, ('d', 'est</w>'): 3}\n",
            "new merge: ('ne', 'w')\n",
            "dictionary: {'low </w>': 5, 'low e r </w>': 2, 'new est</w>': 6, 'w i d est</w>': 3}\n"
          ]
        },
        {
          "output_type": "display_data",
          "data": {
            "text/plain": [
              "<IPython.core.display.Markdown object>"
            ],
            "text/markdown": "### Iteration 8"
          },
          "metadata": {}
        },
        {
          "output_type": "stream",
          "name": "stdout",
          "text": [
            "현재 pair들의 빈도수 : {('low', '</w>'): 5, ('low', 'e'): 2, ('e', 'r'): 2, ('r', '</w>'): 2, ('new', 'est</w>'): 6, ('w', 'i'): 3, ('i', 'd'): 3, ('d', 'est</w>'): 3}\n",
            "new merge: ('new', 'est</w>')\n",
            "dictionary: {'low </w>': 5, 'low e r </w>': 2, 'newest</w>': 6, 'w i d est</w>': 3}\n"
          ]
        },
        {
          "output_type": "display_data",
          "data": {
            "text/plain": [
              "<IPython.core.display.Markdown object>"
            ],
            "text/markdown": "### Iteration 9"
          },
          "metadata": {}
        },
        {
          "output_type": "stream",
          "name": "stdout",
          "text": [
            "현재 pair들의 빈도수 : {('low', '</w>'): 5, ('low', 'e'): 2, ('e', 'r'): 2, ('r', '</w>'): 2, ('w', 'i'): 3, ('i', 'd'): 3, ('d', 'est</w>'): 3}\n",
            "new merge: ('low', '</w>')\n",
            "dictionary: {'low</w>': 5, 'low e r </w>': 2, 'newest</w>': 6, 'w i d est</w>': 3}\n"
          ]
        },
        {
          "output_type": "display_data",
          "data": {
            "text/plain": [
              "<IPython.core.display.Markdown object>"
            ],
            "text/markdown": "### Iteration 10"
          },
          "metadata": {}
        },
        {
          "output_type": "stream",
          "name": "stdout",
          "text": [
            "현재 pair들의 빈도수 : {('low', 'e'): 2, ('e', 'r'): 2, ('r', '</w>'): 2, ('w', 'i'): 3, ('i', 'd'): 3, ('d', 'est</w>'): 3}\n",
            "new merge: ('w', 'i')\n",
            "dictionary: {'low</w>': 5, 'low e r </w>': 2, 'newest</w>': 6, 'wi d est</w>': 3}\n"
          ]
        }
      ]
    },
    {
      "cell_type": "code",
      "source": [
        "print(bpe_codes)"
      ],
      "metadata": {
        "id": "NzrTHegxa7Sn",
        "colab": {
          "base_uri": "https://localhost:8080/"
        },
        "outputId": "fede0426-a2c7-46f4-efba-1b42948b5dde"
      },
      "execution_count": null,
      "outputs": [
        {
          "output_type": "stream",
          "name": "stdout",
          "text": [
            "{('e', 's'): 0, ('es', 't'): 1, ('est', '</w>'): 2, ('l', 'o'): 3, ('lo', 'w'): 4, ('n', 'e'): 5, ('ne', 'w'): 6, ('new', 'est</w>'): 7, ('low', '</w>'): 8, ('w', 'i'): 9}\n"
          ]
        }
      ]
    },
    {
      "cell_type": "code",
      "source": [
        "def get_pairs(word):\n",
        "    \"\"\"Return set of symbol pairs in a word.\n",
        "    Word is represented as a tuple of symbols (symbols being variable-length strings).\n",
        "    \"\"\"\n",
        "    pairs = set()\n",
        "    prev_char = word[0]\n",
        "    for char in word[1:]:\n",
        "        pairs.add((prev_char, char))\n",
        "        prev_char = char\n",
        "    return pairs\n",
        "\n",
        "\n",
        "def encode(orig):\n",
        "    \"\"\"Encode word based on list of BPE merge operations, which are applied consecutively\"\"\"\n",
        "\n",
        "    word = tuple(orig) + ('</w>',)\n",
        "    display(Markdown(\"__word split into characters:__ <tt>{}</tt>\".format(word)))\n",
        "\n",
        "    pairs = get_pairs(word)\n",
        "\n",
        "    if not pairs:\n",
        "        return orig\n",
        "\n",
        "    iteration = 0\n",
        "    while True:\n",
        "        iteration += 1\n",
        "        display(Markdown(\"__Iteration {}:__\".format(iteration)))\n",
        "\n",
        "        print(\"bigrams in the word: {}\".format(pairs))\n",
        "        bigram = min(pairs, key = lambda pair: bpe_codes.get(pair, float('inf')))\n",
        "        print(\"candidate for merging: {}\".format(bigram))\n",
        "        if bigram not in bpe_codes:\n",
        "            display(Markdown(\"__Candidate not in BPE merges, algorithm stops.__\"))\n",
        "            break\n",
        "        first, second = bigram\n",
        "        new_word = []\n",
        "        i = 0\n",
        "        while i < len(word):\n",
        "            try:\n",
        "                j = word.index(first, i)\n",
        "                new_word.extend(word[i:j])\n",
        "                i = j\n",
        "            except:\n",
        "                new_word.extend(word[i:])\n",
        "                break\n",
        "\n",
        "            if word[i] == first and i < len(word)-1 and word[i+1] == second:\n",
        "                new_word.append(first+second)\n",
        "                i += 2\n",
        "            else:\n",
        "                new_word.append(word[i])\n",
        "                i += 1\n",
        "        new_word = tuple(new_word)\n",
        "        word = new_word\n",
        "        print(\"word after merging: {}\".format(word))\n",
        "        if len(word) == 1:\n",
        "            break\n",
        "        else:\n",
        "            pairs = get_pairs(word)\n",
        "\n",
        "    # 특별 토큰인 </w>는 출력하지 않는다.\n",
        "    if word[-1] == '</w>':\n",
        "        word = word[:-1]\n",
        "    elif word[-1].endswith('</w>'):\n",
        "        word = word[:-1] + (word[-1].replace('</w>',''),)\n",
        "\n",
        "    return word"
      ],
      "metadata": {
        "id": "0vXqMcPSbDdt"
      },
      "execution_count": null,
      "outputs": []
    },
    {
      "cell_type": "code",
      "source": [
        "encode(\"loki\")"
      ],
      "metadata": {
        "id": "eUa_bUQobEKJ",
        "colab": {
          "base_uri": "https://localhost:8080/",
          "height": 237
        },
        "outputId": "75908390-3539-4155-dab4-d0d649d9489b"
      },
      "execution_count": null,
      "outputs": [
        {
          "output_type": "display_data",
          "data": {
            "text/plain": [
              "<IPython.core.display.Markdown object>"
            ],
            "text/markdown": "__word split into characters:__ <tt>('l', 'o', 'k', 'i', '</w>')</tt>"
          },
          "metadata": {}
        },
        {
          "output_type": "display_data",
          "data": {
            "text/plain": [
              "<IPython.core.display.Markdown object>"
            ],
            "text/markdown": "__Iteration 1:__"
          },
          "metadata": {}
        },
        {
          "output_type": "stream",
          "name": "stdout",
          "text": [
            "bigrams in the word: {('i', '</w>'), ('o', 'k'), ('l', 'o'), ('k', 'i')}\n",
            "candidate for merging: ('l', 'o')\n",
            "word after merging: ('lo', 'k', 'i', '</w>')\n"
          ]
        },
        {
          "output_type": "display_data",
          "data": {
            "text/plain": [
              "<IPython.core.display.Markdown object>"
            ],
            "text/markdown": "__Iteration 2:__"
          },
          "metadata": {}
        },
        {
          "output_type": "stream",
          "name": "stdout",
          "text": [
            "bigrams in the word: {('i', '</w>'), ('lo', 'k'), ('k', 'i')}\n",
            "candidate for merging: ('i', '</w>')\n"
          ]
        },
        {
          "output_type": "display_data",
          "data": {
            "text/plain": [
              "<IPython.core.display.Markdown object>"
            ],
            "text/markdown": "__Candidate not in BPE merges, algorithm stops.__"
          },
          "metadata": {}
        },
        {
          "output_type": "execute_result",
          "data": {
            "text/plain": [
              "('lo', 'k', 'i')"
            ]
          },
          "metadata": {},
          "execution_count": 84
        }
      ]
    },
    {
      "cell_type": "code",
      "source": [
        "encode(\"lowest\")"
      ],
      "metadata": {
        "id": "htoZm8G1bItQ",
        "colab": {
          "base_uri": "https://localhost:8080/",
          "height": 571
        },
        "outputId": "3e16fe4f-c7bc-4473-9cbd-3967302360fe"
      },
      "execution_count": null,
      "outputs": [
        {
          "output_type": "display_data",
          "data": {
            "text/plain": [
              "<IPython.core.display.Markdown object>"
            ],
            "text/markdown": "__word split into characters:__ <tt>('l', 'o', 'w', 'e', 's', 't', '</w>')</tt>"
          },
          "metadata": {}
        },
        {
          "output_type": "display_data",
          "data": {
            "text/plain": [
              "<IPython.core.display.Markdown object>"
            ],
            "text/markdown": "__Iteration 1:__"
          },
          "metadata": {}
        },
        {
          "output_type": "stream",
          "name": "stdout",
          "text": [
            "bigrams in the word: {('s', 't'), ('l', 'o'), ('e', 's'), ('t', '</w>'), ('w', 'e'), ('o', 'w')}\n",
            "candidate for merging: ('e', 's')\n",
            "word after merging: ('l', 'o', 'w', 'es', 't', '</w>')\n"
          ]
        },
        {
          "output_type": "display_data",
          "data": {
            "text/plain": [
              "<IPython.core.display.Markdown object>"
            ],
            "text/markdown": "__Iteration 2:__"
          },
          "metadata": {}
        },
        {
          "output_type": "stream",
          "name": "stdout",
          "text": [
            "bigrams in the word: {('w', 'es'), ('l', 'o'), ('t', '</w>'), ('es', 't'), ('o', 'w')}\n",
            "candidate for merging: ('es', 't')\n",
            "word after merging: ('l', 'o', 'w', 'est', '</w>')\n"
          ]
        },
        {
          "output_type": "display_data",
          "data": {
            "text/plain": [
              "<IPython.core.display.Markdown object>"
            ],
            "text/markdown": "__Iteration 3:__"
          },
          "metadata": {}
        },
        {
          "output_type": "stream",
          "name": "stdout",
          "text": [
            "bigrams in the word: {('w', 'est'), ('est', '</w>'), ('o', 'w'), ('l', 'o')}\n",
            "candidate for merging: ('est', '</w>')\n",
            "word after merging: ('l', 'o', 'w', 'est</w>')\n"
          ]
        },
        {
          "output_type": "display_data",
          "data": {
            "text/plain": [
              "<IPython.core.display.Markdown object>"
            ],
            "text/markdown": "__Iteration 4:__"
          },
          "metadata": {}
        },
        {
          "output_type": "stream",
          "name": "stdout",
          "text": [
            "bigrams in the word: {('o', 'w'), ('w', 'est</w>'), ('l', 'o')}\n",
            "candidate for merging: ('l', 'o')\n",
            "word after merging: ('lo', 'w', 'est</w>')\n"
          ]
        },
        {
          "output_type": "display_data",
          "data": {
            "text/plain": [
              "<IPython.core.display.Markdown object>"
            ],
            "text/markdown": "__Iteration 5:__"
          },
          "metadata": {}
        },
        {
          "output_type": "stream",
          "name": "stdout",
          "text": [
            "bigrams in the word: {('lo', 'w'), ('w', 'est</w>')}\n",
            "candidate for merging: ('lo', 'w')\n",
            "word after merging: ('low', 'est</w>')\n"
          ]
        },
        {
          "output_type": "display_data",
          "data": {
            "text/plain": [
              "<IPython.core.display.Markdown object>"
            ],
            "text/markdown": "__Iteration 6:__"
          },
          "metadata": {}
        },
        {
          "output_type": "stream",
          "name": "stdout",
          "text": [
            "bigrams in the word: {('low', 'est</w>')}\n",
            "candidate for merging: ('low', 'est</w>')\n"
          ]
        },
        {
          "output_type": "display_data",
          "data": {
            "text/plain": [
              "<IPython.core.display.Markdown object>"
            ],
            "text/markdown": "__Candidate not in BPE merges, algorithm stops.__"
          },
          "metadata": {}
        },
        {
          "output_type": "execute_result",
          "data": {
            "text/plain": [
              "('low', 'est')"
            ]
          },
          "metadata": {},
          "execution_count": 85
        }
      ]
    },
    {
      "cell_type": "code",
      "source": [
        "encode(\"lowing\")"
      ],
      "metadata": {
        "id": "JDjPgmk7bLR5",
        "colab": {
          "base_uri": "https://localhost:8080/",
          "height": 321
        },
        "outputId": "3c3547fb-0b3e-4a86-a783-504ed3df0356"
      },
      "execution_count": null,
      "outputs": [
        {
          "output_type": "display_data",
          "data": {
            "text/plain": [
              "<IPython.core.display.Markdown object>"
            ],
            "text/markdown": "__word split into characters:__ <tt>('l', 'o', 'w', 'i', 'n', 'g', '</w>')</tt>"
          },
          "metadata": {}
        },
        {
          "output_type": "display_data",
          "data": {
            "text/plain": [
              "<IPython.core.display.Markdown object>"
            ],
            "text/markdown": "__Iteration 1:__"
          },
          "metadata": {}
        },
        {
          "output_type": "stream",
          "name": "stdout",
          "text": [
            "bigrams in the word: {('i', 'n'), ('w', 'i'), ('n', 'g'), ('g', '</w>'), ('l', 'o'), ('o', 'w')}\n",
            "candidate for merging: ('l', 'o')\n",
            "word after merging: ('lo', 'w', 'i', 'n', 'g', '</w>')\n"
          ]
        },
        {
          "output_type": "display_data",
          "data": {
            "text/plain": [
              "<IPython.core.display.Markdown object>"
            ],
            "text/markdown": "__Iteration 2:__"
          },
          "metadata": {}
        },
        {
          "output_type": "stream",
          "name": "stdout",
          "text": [
            "bigrams in the word: {('i', 'n'), ('w', 'i'), ('lo', 'w'), ('n', 'g'), ('g', '</w>')}\n",
            "candidate for merging: ('lo', 'w')\n",
            "word after merging: ('low', 'i', 'n', 'g', '</w>')\n"
          ]
        },
        {
          "output_type": "display_data",
          "data": {
            "text/plain": [
              "<IPython.core.display.Markdown object>"
            ],
            "text/markdown": "__Iteration 3:__"
          },
          "metadata": {}
        },
        {
          "output_type": "stream",
          "name": "stdout",
          "text": [
            "bigrams in the word: {('i', 'n'), ('g', '</w>'), ('n', 'g'), ('low', 'i')}\n",
            "candidate for merging: ('i', 'n')\n"
          ]
        },
        {
          "output_type": "display_data",
          "data": {
            "text/plain": [
              "<IPython.core.display.Markdown object>"
            ],
            "text/markdown": "__Candidate not in BPE merges, algorithm stops.__"
          },
          "metadata": {}
        },
        {
          "output_type": "execute_result",
          "data": {
            "text/plain": [
              "('low', 'i', 'n', 'g')"
            ]
          },
          "metadata": {},
          "execution_count": 86
        }
      ]
    },
    {
      "cell_type": "code",
      "source": [
        "encode(\"highing\")"
      ],
      "metadata": {
        "id": "smMQSLoEbMrT",
        "colab": {
          "base_uri": "https://localhost:8080/",
          "height": 154
        },
        "outputId": "26abd6c6-0692-483e-a213-9e8cfed16351"
      },
      "execution_count": null,
      "outputs": [
        {
          "output_type": "display_data",
          "data": {
            "text/plain": [
              "<IPython.core.display.Markdown object>"
            ],
            "text/markdown": "__word split into characters:__ <tt>('h', 'i', 'g', 'h', 'i', 'n', 'g', '</w>')</tt>"
          },
          "metadata": {}
        },
        {
          "output_type": "display_data",
          "data": {
            "text/plain": [
              "<IPython.core.display.Markdown object>"
            ],
            "text/markdown": "__Iteration 1:__"
          },
          "metadata": {}
        },
        {
          "output_type": "stream",
          "name": "stdout",
          "text": [
            "bigrams in the word: {('i', 'g'), ('g', 'h'), ('i', 'n'), ('n', 'g'), ('g', '</w>'), ('h', 'i')}\n",
            "candidate for merging: ('i', 'g')\n"
          ]
        },
        {
          "output_type": "display_data",
          "data": {
            "text/plain": [
              "<IPython.core.display.Markdown object>"
            ],
            "text/markdown": "__Candidate not in BPE merges, algorithm stops.__"
          },
          "metadata": {}
        },
        {
          "output_type": "execute_result",
          "data": {
            "text/plain": [
              "('h', 'i', 'g', 'h', 'i', 'n', 'g')"
            ]
          },
          "metadata": {},
          "execution_count": 87
        }
      ]
    },
    {
      "cell_type": "markdown",
      "source": [
        "### 3) Huggingface Tokenizer - BERT의 WordPiece Tokenizer"
      ],
      "metadata": {
        "id": "ov__SBTCdW-I"
      }
    },
    {
      "cell_type": "code",
      "source": [
        "import pandas as pd\n",
        "import urllib.request\n",
        "from transformers import AutoTokenizer, AutoModel, pipeline\n",
        "from tokenizers import BertWordPieceTokenizer\n",
        "\n",
        "urllib.request.urlretrieve(\"https://raw.githubusercontent.com/e9t/nsmc/master/ratings.txt\", filename=\"ratings.txt\")\n"
      ],
      "metadata": {
        "colab": {
          "base_uri": "https://localhost:8080/"
        },
        "id": "__h2giw4d5zS",
        "outputId": "be82e271-da2c-4c75-b449-13258004a737"
      },
      "execution_count": null,
      "outputs": [
        {
          "output_type": "execute_result",
          "data": {
            "text/plain": [
              "('ratings.txt', <http.client.HTTPMessage at 0x78fd9bbf9000>)"
            ]
          },
          "metadata": {},
          "execution_count": 88
        }
      ]
    },
    {
      "cell_type": "code",
      "source": [
        "naver_df = pd.read_table('ratings.txt')\n",
        "naver_df = naver_df.dropna(how='any')\n",
        "\n",
        "with open('naver_review.txt', 'w', encoding='utf8') as f:\n",
        "    f.write('\\n'.join(naver_df['document']))"
      ],
      "metadata": {
        "id": "bxffgCkxd_-I"
      },
      "execution_count": null,
      "outputs": []
    },
    {
      "cell_type": "code",
      "source": [
        "tokenizer = BertWordPieceTokenizer(lowercase=False)"
      ],
      "metadata": {
        "id": "RXUJKdIVeFAc"
      },
      "execution_count": null,
      "outputs": []
    },
    {
      "cell_type": "code",
      "source": [
        "data_file = 'naver_review.txt'\n",
        "vocab_size = 30000\n",
        "limit_alphabet = 6000\n",
        "min_frequency = 5\n",
        "\n",
        "tokenizer.train(files=data_file,\n",
        "                vocab_size=vocab_size,\n",
        "                limit_alphabet=limit_alphabet,\n",
        "                min_frequency=min_frequency)"
      ],
      "metadata": {
        "id": "21VcUkAjeNFM"
      },
      "execution_count": null,
      "outputs": []
    },
    {
      "cell_type": "code",
      "source": [
        "# vocab 저장\n",
        "tokenizer.save_model('./')"
      ],
      "metadata": {
        "colab": {
          "base_uri": "https://localhost:8080/"
        },
        "id": "MabrrFSPeRv1",
        "outputId": "96ff42d5-2743-4d9c-e4bc-291628236629"
      },
      "execution_count": null,
      "outputs": [
        {
          "output_type": "execute_result",
          "data": {
            "text/plain": [
              "['./vocab.txt']"
            ]
          },
          "metadata": {},
          "execution_count": 92
        }
      ]
    },
    {
      "cell_type": "code",
      "source": [
        "# vocab 로드\n",
        "df = pd.read_fwf('vocab.txt', header=None)\n",
        "df"
      ],
      "metadata": {
        "colab": {
          "base_uri": "https://localhost:8080/",
          "height": 424
        },
        "id": "dyuO_76feUfd",
        "outputId": "592fd68f-e8b9-4475-a122-b9f2e5050902"
      },
      "execution_count": null,
      "outputs": [
        {
          "output_type": "execute_result",
          "data": {
            "text/plain": [
              "            0\n",
              "0       [PAD]\n",
              "1       [UNK]\n",
              "2       [CLS]\n",
              "3       [SEP]\n",
              "4      [MASK]\n",
              "...       ...\n",
              "29995     말들이\n",
              "29996     말라는\n",
              "29997    말밖에는\n",
              "29998      맘을\n",
              "29999      맛도\n",
              "\n",
              "[30000 rows x 1 columns]"
            ],
            "text/html": [
              "\n",
              "  <div id=\"df-f758440e-c66e-476a-810f-dcee9cefdf1b\" class=\"colab-df-container\">\n",
              "    <div>\n",
              "<style scoped>\n",
              "    .dataframe tbody tr th:only-of-type {\n",
              "        vertical-align: middle;\n",
              "    }\n",
              "\n",
              "    .dataframe tbody tr th {\n",
              "        vertical-align: top;\n",
              "    }\n",
              "\n",
              "    .dataframe thead th {\n",
              "        text-align: right;\n",
              "    }\n",
              "</style>\n",
              "<table border=\"1\" class=\"dataframe\">\n",
              "  <thead>\n",
              "    <tr style=\"text-align: right;\">\n",
              "      <th></th>\n",
              "      <th>0</th>\n",
              "    </tr>\n",
              "  </thead>\n",
              "  <tbody>\n",
              "    <tr>\n",
              "      <th>0</th>\n",
              "      <td>[PAD]</td>\n",
              "    </tr>\n",
              "    <tr>\n",
              "      <th>1</th>\n",
              "      <td>[UNK]</td>\n",
              "    </tr>\n",
              "    <tr>\n",
              "      <th>2</th>\n",
              "      <td>[CLS]</td>\n",
              "    </tr>\n",
              "    <tr>\n",
              "      <th>3</th>\n",
              "      <td>[SEP]</td>\n",
              "    </tr>\n",
              "    <tr>\n",
              "      <th>4</th>\n",
              "      <td>[MASK]</td>\n",
              "    </tr>\n",
              "    <tr>\n",
              "      <th>...</th>\n",
              "      <td>...</td>\n",
              "    </tr>\n",
              "    <tr>\n",
              "      <th>29995</th>\n",
              "      <td>말들이</td>\n",
              "    </tr>\n",
              "    <tr>\n",
              "      <th>29996</th>\n",
              "      <td>말라는</td>\n",
              "    </tr>\n",
              "    <tr>\n",
              "      <th>29997</th>\n",
              "      <td>말밖에는</td>\n",
              "    </tr>\n",
              "    <tr>\n",
              "      <th>29998</th>\n",
              "      <td>맘을</td>\n",
              "    </tr>\n",
              "    <tr>\n",
              "      <th>29999</th>\n",
              "      <td>맛도</td>\n",
              "    </tr>\n",
              "  </tbody>\n",
              "</table>\n",
              "<p>30000 rows × 1 columns</p>\n",
              "</div>\n",
              "    <div class=\"colab-df-buttons\">\n",
              "\n",
              "  <div class=\"colab-df-container\">\n",
              "    <button class=\"colab-df-convert\" onclick=\"convertToInteractive('df-f758440e-c66e-476a-810f-dcee9cefdf1b')\"\n",
              "            title=\"Convert this dataframe to an interactive table.\"\n",
              "            style=\"display:none;\">\n",
              "\n",
              "  <svg xmlns=\"http://www.w3.org/2000/svg\" height=\"24px\" viewBox=\"0 -960 960 960\">\n",
              "    <path d=\"M120-120v-720h720v720H120Zm60-500h600v-160H180v160Zm220 220h160v-160H400v160Zm0 220h160v-160H400v160ZM180-400h160v-160H180v160Zm440 0h160v-160H620v160ZM180-180h160v-160H180v160Zm440 0h160v-160H620v160Z\"/>\n",
              "  </svg>\n",
              "    </button>\n",
              "\n",
              "  <style>\n",
              "    .colab-df-container {\n",
              "      display:flex;\n",
              "      gap: 12px;\n",
              "    }\n",
              "\n",
              "    .colab-df-convert {\n",
              "      background-color: #E8F0FE;\n",
              "      border: none;\n",
              "      border-radius: 50%;\n",
              "      cursor: pointer;\n",
              "      display: none;\n",
              "      fill: #1967D2;\n",
              "      height: 32px;\n",
              "      padding: 0 0 0 0;\n",
              "      width: 32px;\n",
              "    }\n",
              "\n",
              "    .colab-df-convert:hover {\n",
              "      background-color: #E2EBFA;\n",
              "      box-shadow: 0px 1px 2px rgba(60, 64, 67, 0.3), 0px 1px 3px 1px rgba(60, 64, 67, 0.15);\n",
              "      fill: #174EA6;\n",
              "    }\n",
              "\n",
              "    .colab-df-buttons div {\n",
              "      margin-bottom: 4px;\n",
              "    }\n",
              "\n",
              "    [theme=dark] .colab-df-convert {\n",
              "      background-color: #3B4455;\n",
              "      fill: #D2E3FC;\n",
              "    }\n",
              "\n",
              "    [theme=dark] .colab-df-convert:hover {\n",
              "      background-color: #434B5C;\n",
              "      box-shadow: 0px 1px 3px 1px rgba(0, 0, 0, 0.15);\n",
              "      filter: drop-shadow(0px 1px 2px rgba(0, 0, 0, 0.3));\n",
              "      fill: #FFFFFF;\n",
              "    }\n",
              "  </style>\n",
              "\n",
              "    <script>\n",
              "      const buttonEl =\n",
              "        document.querySelector('#df-f758440e-c66e-476a-810f-dcee9cefdf1b button.colab-df-convert');\n",
              "      buttonEl.style.display =\n",
              "        google.colab.kernel.accessAllowed ? 'block' : 'none';\n",
              "\n",
              "      async function convertToInteractive(key) {\n",
              "        const element = document.querySelector('#df-f758440e-c66e-476a-810f-dcee9cefdf1b');\n",
              "        const dataTable =\n",
              "          await google.colab.kernel.invokeFunction('convertToInteractive',\n",
              "                                                    [key], {});\n",
              "        if (!dataTable) return;\n",
              "\n",
              "        const docLinkHtml = 'Like what you see? Visit the ' +\n",
              "          '<a target=\"_blank\" href=https://colab.research.google.com/notebooks/data_table.ipynb>data table notebook</a>'\n",
              "          + ' to learn more about interactive tables.';\n",
              "        element.innerHTML = '';\n",
              "        dataTable['output_type'] = 'display_data';\n",
              "        await google.colab.output.renderOutput(dataTable, element);\n",
              "        const docLink = document.createElement('div');\n",
              "        docLink.innerHTML = docLinkHtml;\n",
              "        element.appendChild(docLink);\n",
              "      }\n",
              "    </script>\n",
              "  </div>\n",
              "\n",
              "\n",
              "<div id=\"df-b52ac888-88d8-441b-b83c-fc573e6e7f56\">\n",
              "  <button class=\"colab-df-quickchart\" onclick=\"quickchart('df-b52ac888-88d8-441b-b83c-fc573e6e7f56')\"\n",
              "            title=\"Suggest charts\"\n",
              "            style=\"display:none;\">\n",
              "\n",
              "<svg xmlns=\"http://www.w3.org/2000/svg\" height=\"24px\"viewBox=\"0 0 24 24\"\n",
              "     width=\"24px\">\n",
              "    <g>\n",
              "        <path d=\"M19 3H5c-1.1 0-2 .9-2 2v14c0 1.1.9 2 2 2h14c1.1 0 2-.9 2-2V5c0-1.1-.9-2-2-2zM9 17H7v-7h2v7zm4 0h-2V7h2v10zm4 0h-2v-4h2v4z\"/>\n",
              "    </g>\n",
              "</svg>\n",
              "  </button>\n",
              "\n",
              "<style>\n",
              "  .colab-df-quickchart {\n",
              "      --bg-color: #E8F0FE;\n",
              "      --fill-color: #1967D2;\n",
              "      --hover-bg-color: #E2EBFA;\n",
              "      --hover-fill-color: #174EA6;\n",
              "      --disabled-fill-color: #AAA;\n",
              "      --disabled-bg-color: #DDD;\n",
              "  }\n",
              "\n",
              "  [theme=dark] .colab-df-quickchart {\n",
              "      --bg-color: #3B4455;\n",
              "      --fill-color: #D2E3FC;\n",
              "      --hover-bg-color: #434B5C;\n",
              "      --hover-fill-color: #FFFFFF;\n",
              "      --disabled-bg-color: #3B4455;\n",
              "      --disabled-fill-color: #666;\n",
              "  }\n",
              "\n",
              "  .colab-df-quickchart {\n",
              "    background-color: var(--bg-color);\n",
              "    border: none;\n",
              "    border-radius: 50%;\n",
              "    cursor: pointer;\n",
              "    display: none;\n",
              "    fill: var(--fill-color);\n",
              "    height: 32px;\n",
              "    padding: 0;\n",
              "    width: 32px;\n",
              "  }\n",
              "\n",
              "  .colab-df-quickchart:hover {\n",
              "    background-color: var(--hover-bg-color);\n",
              "    box-shadow: 0 1px 2px rgba(60, 64, 67, 0.3), 0 1px 3px 1px rgba(60, 64, 67, 0.15);\n",
              "    fill: var(--button-hover-fill-color);\n",
              "  }\n",
              "\n",
              "  .colab-df-quickchart-complete:disabled,\n",
              "  .colab-df-quickchart-complete:disabled:hover {\n",
              "    background-color: var(--disabled-bg-color);\n",
              "    fill: var(--disabled-fill-color);\n",
              "    box-shadow: none;\n",
              "  }\n",
              "\n",
              "  .colab-df-spinner {\n",
              "    border: 2px solid var(--fill-color);\n",
              "    border-color: transparent;\n",
              "    border-bottom-color: var(--fill-color);\n",
              "    animation:\n",
              "      spin 1s steps(1) infinite;\n",
              "  }\n",
              "\n",
              "  @keyframes spin {\n",
              "    0% {\n",
              "      border-color: transparent;\n",
              "      border-bottom-color: var(--fill-color);\n",
              "      border-left-color: var(--fill-color);\n",
              "    }\n",
              "    20% {\n",
              "      border-color: transparent;\n",
              "      border-left-color: var(--fill-color);\n",
              "      border-top-color: var(--fill-color);\n",
              "    }\n",
              "    30% {\n",
              "      border-color: transparent;\n",
              "      border-left-color: var(--fill-color);\n",
              "      border-top-color: var(--fill-color);\n",
              "      border-right-color: var(--fill-color);\n",
              "    }\n",
              "    40% {\n",
              "      border-color: transparent;\n",
              "      border-right-color: var(--fill-color);\n",
              "      border-top-color: var(--fill-color);\n",
              "    }\n",
              "    60% {\n",
              "      border-color: transparent;\n",
              "      border-right-color: var(--fill-color);\n",
              "    }\n",
              "    80% {\n",
              "      border-color: transparent;\n",
              "      border-right-color: var(--fill-color);\n",
              "      border-bottom-color: var(--fill-color);\n",
              "    }\n",
              "    90% {\n",
              "      border-color: transparent;\n",
              "      border-bottom-color: var(--fill-color);\n",
              "    }\n",
              "  }\n",
              "</style>\n",
              "\n",
              "  <script>\n",
              "    async function quickchart(key) {\n",
              "      const quickchartButtonEl =\n",
              "        document.querySelector('#' + key + ' button');\n",
              "      quickchartButtonEl.disabled = true;  // To prevent multiple clicks.\n",
              "      quickchartButtonEl.classList.add('colab-df-spinner');\n",
              "      try {\n",
              "        const charts = await google.colab.kernel.invokeFunction(\n",
              "            'suggestCharts', [key], {});\n",
              "      } catch (error) {\n",
              "        console.error('Error during call to suggestCharts:', error);\n",
              "      }\n",
              "      quickchartButtonEl.classList.remove('colab-df-spinner');\n",
              "      quickchartButtonEl.classList.add('colab-df-quickchart-complete');\n",
              "    }\n",
              "    (() => {\n",
              "      let quickchartButtonEl =\n",
              "        document.querySelector('#df-b52ac888-88d8-441b-b83c-fc573e6e7f56 button');\n",
              "      quickchartButtonEl.style.display =\n",
              "        google.colab.kernel.accessAllowed ? 'block' : 'none';\n",
              "    })();\n",
              "  </script>\n",
              "</div>\n",
              "\n",
              "  <div id=\"id_977d1ead-8641-48cf-a86d-9d06eb3e7f5f\">\n",
              "    <style>\n",
              "      .colab-df-generate {\n",
              "        background-color: #E8F0FE;\n",
              "        border: none;\n",
              "        border-radius: 50%;\n",
              "        cursor: pointer;\n",
              "        display: none;\n",
              "        fill: #1967D2;\n",
              "        height: 32px;\n",
              "        padding: 0 0 0 0;\n",
              "        width: 32px;\n",
              "      }\n",
              "\n",
              "      .colab-df-generate:hover {\n",
              "        background-color: #E2EBFA;\n",
              "        box-shadow: 0px 1px 2px rgba(60, 64, 67, 0.3), 0px 1px 3px 1px rgba(60, 64, 67, 0.15);\n",
              "        fill: #174EA6;\n",
              "      }\n",
              "\n",
              "      [theme=dark] .colab-df-generate {\n",
              "        background-color: #3B4455;\n",
              "        fill: #D2E3FC;\n",
              "      }\n",
              "\n",
              "      [theme=dark] .colab-df-generate:hover {\n",
              "        background-color: #434B5C;\n",
              "        box-shadow: 0px 1px 3px 1px rgba(0, 0, 0, 0.15);\n",
              "        filter: drop-shadow(0px 1px 2px rgba(0, 0, 0, 0.3));\n",
              "        fill: #FFFFFF;\n",
              "      }\n",
              "    </style>\n",
              "    <button class=\"colab-df-generate\" onclick=\"generateWithVariable('df')\"\n",
              "            title=\"Generate code using this dataframe.\"\n",
              "            style=\"display:none;\">\n",
              "\n",
              "  <svg xmlns=\"http://www.w3.org/2000/svg\" height=\"24px\"viewBox=\"0 0 24 24\"\n",
              "       width=\"24px\">\n",
              "    <path d=\"M7,19H8.4L18.45,9,17,7.55,7,17.6ZM5,21V16.75L18.45,3.32a2,2,0,0,1,2.83,0l1.4,1.43a1.91,1.91,0,0,1,.58,1.4,1.91,1.91,0,0,1-.58,1.4L9.25,21ZM18.45,9,17,7.55Zm-12,3A5.31,5.31,0,0,0,4.9,8.1,5.31,5.31,0,0,0,1,6.5,5.31,5.31,0,0,0,4.9,4.9,5.31,5.31,0,0,0,6.5,1,5.31,5.31,0,0,0,8.1,4.9,5.31,5.31,0,0,0,12,6.5,5.46,5.46,0,0,0,6.5,12Z\"/>\n",
              "  </svg>\n",
              "    </button>\n",
              "    <script>\n",
              "      (() => {\n",
              "      const buttonEl =\n",
              "        document.querySelector('#id_977d1ead-8641-48cf-a86d-9d06eb3e7f5f button.colab-df-generate');\n",
              "      buttonEl.style.display =\n",
              "        google.colab.kernel.accessAllowed ? 'block' : 'none';\n",
              "\n",
              "      buttonEl.onclick = () => {\n",
              "        google.colab.notebook.generateWithVariable('df');\n",
              "      }\n",
              "      })();\n",
              "    </script>\n",
              "  </div>\n",
              "\n",
              "    </div>\n",
              "  </div>\n"
            ],
            "application/vnd.google.colaboratory.intrinsic+json": {
              "type": "dataframe",
              "variable_name": "df",
              "summary": "{\n  \"name\": \"df\",\n  \"rows\": 30000,\n  \"fields\": [\n    {\n      \"column\": 0,\n      \"properties\": {\n        \"dtype\": \"string\",\n        \"num_unique_values\": 29932,\n        \"samples\": [\n          \"##\\uae34\\ud588\\uc9c0\\ub9cc\",\n          \"\\uc548\\ud0c0\\uae4c\\uc6e0\\ub2e4\",\n          \"##\\ub825\\uc774\"\n        ],\n        \"semantic_type\": \"\",\n        \"description\": \"\"\n      }\n    }\n  ]\n}"
            }
          },
          "metadata": {},
          "execution_count": 93
        }
      ]
    },
    {
      "cell_type": "code",
      "source": [
        "encoded = tokenizer.encode('아 배고픈데 짜장면 먹고싶다.')\n",
        "print('토큰화 결과 :',encoded.tokens)\n",
        "print('정수 인코딩 :',encoded.ids)\n",
        "print('디코딩 :',tokenizer.decode(encoded.ids))"
      ],
      "metadata": {
        "colab": {
          "base_uri": "https://localhost:8080/"
        },
        "id": "VwSGVcXmeXtw",
        "outputId": "4de870f3-8e8c-441a-e8b7-1a3646f24dd5"
      },
      "execution_count": null,
      "outputs": [
        {
          "output_type": "stream",
          "name": "stdout",
          "text": [
            "토큰화 결과 : ['아', '배고', '##픈', '##데', '짜장면', '먹고', '##싶다', '.']\n",
            "정수 인코딩 : [2111, 20630, 3965, 3303, 24681, 8688, 7379, 18]\n",
            "디코딩 : 아 배고픈데 짜장면 먹고싶다.\n"
          ]
        }
      ]
    },
    {
      "cell_type": "code",
      "source": [
        "encoded = tokenizer.encode('커피 한잔의 여유를 즐기다')\n",
        "print('토큰화 결과 :',encoded.tokens)\n",
        "print('정수 인코딩 :',encoded.ids)\n",
        "print('디코딩 :',tokenizer.decode(encoded.ids))"
      ],
      "metadata": {
        "colab": {
          "base_uri": "https://localhost:8080/"
        },
        "id": "DHhwrle2hqxA",
        "outputId": "f34dba6a-d42b-4776-f530-1b5a06ac26cd"
      },
      "execution_count": null,
      "outputs": [
        {
          "output_type": "stream",
          "name": "stdout",
          "text": [
            "토큰화 결과 : ['커피', '한잔', '##의', '여유', '##를', '즐기', '##다']\n",
            "정수 인코딩 : [12825, 25645, 3288, 12696, 3346, 10784, 3240]\n",
            "디코딩 : 커피 한잔의 여유를 즐기다\n"
          ]
        }
      ]
    },
    {
      "cell_type": "code",
      "source": [
        "# 실제 embedding vector 확인 해보기\n",
        "tokenizer = AutoTokenizer.from_pretrained('bert-base-uncased')\n",
        "model = AutoModel.from_pretrained('bert-base-uncased')\n",
        "\n",
        "tokenizer.add_special_tokens({'pad_token':'[PAD]'})\n",
        "tokenizer.add_special_tokens({'unk_token':'[UNK]'})\n",
        "\n",
        "model.resize_token_embeddings(len(tokenizer))\n",
        "\n",
        "pipe = pipeline('feature-extraction', model=model, tokenizer=tokenizer)"
      ],
      "metadata": {
        "id": "8rmDJ6c-eK1g"
      },
      "execution_count": null,
      "outputs": []
    },
    {
      "cell_type": "code",
      "source": [
        "data = pipe('This is a test')\n",
        "print(len(data[0]))\n",
        "print(len(data[0][0]))\n",
        "print(data[0])"
      ],
      "metadata": {
        "colab": {
          "base_uri": "https://localhost:8080/"
        },
        "id": "lva2Em6Vg5dP",
        "outputId": "7aeb7a08-e8b2-4207-8597-c8c50557b5b0"
      },
      "execution_count": null,
      "outputs": [
        {
          "output_type": "stream",
          "name": "stdout",
          "text": [
            "6\n",
            "768\n",
            "[[-0.026014449074864388, 0.19197262823581696, 0.03443865478038788, -0.07194504886865616, -0.11282810568809509, -0.2831309139728546, 0.09150350093841553, 0.12827178835868835, -0.004860712680965662, -0.14723284542560577, -0.02782871015369892, -0.06148500367999077, -0.05599752068519592, 0.18917089700698853, 0.1371898353099823, -0.14089320600032806, 0.022946596145629883, 0.19262821972370148, 0.09546227008104324, -0.20831413567066193, -0.10455271601676941, -0.09069589525461197, -0.18040074408054352, -0.2847973704338074, -0.013938501477241516, -0.12907247245311737, 0.037471625953912735, -0.15027274191379547, 0.05749122053384781, 0.13891828060150146, 0.16705584526062012, 0.009245113469660282, -0.0757925733923912, 0.17022353410720825, -0.03154502809047699, -0.05634450167417526, 0.08796167373657227, -0.03658274933695793, 0.07899647951126099, 0.0026788990944623947, -0.04536345601081848, 0.022180281579494476, 0.12595276534557343, 0.05710231885313988, -0.16020040214061737, -0.09746409207582474, -1.4291720390319824, -0.05265114828944206, -0.0922469049692154, -0.17049220204353333, -0.02815721184015274, 0.05934242159128189, 0.13627567887306213, 0.20670023560523987, 0.0177021324634552, 0.09514185786247253, -0.17284263670444489, 0.5640992522239685, -0.01124728936702013, -0.043353475630283356, 0.03421266749501228, 0.046413853764534, -0.005208190996199846, 0.10242626070976257, -0.032213252037763596, 0.20151939988136292, 0.10809062421321869, 0.036808907985687256, -0.14930684864521027, 0.30508843064308167, -0.32713398337364197, -0.08035881072282791, 0.1661113053560257, 0.04901108145713806, 0.015027763321995735, -0.1362352967262268, 0.07238463312387466, 0.08675917237997055, -0.049514949321746826, -0.027488794177770615, 0.058358609676361084, 0.17945995926856995, -0.0019742546137422323, -0.14195305109024048, 0.11234308779239655, 0.06861144304275513, -0.15423378348350525, -0.08268338441848755, 0.09482236951589584, 0.4227711260318756, 0.020770210772752762, 0.15525111556053162, 0.07354875653982162, 0.15122003853321075, 0.1288856863975525, -0.21377302706241608, 0.11428587883710861, -0.09453503787517548, 0.2958522439002991, 0.07590094953775406, -0.07953036576509476, -0.15307307243347168, 0.07206882536411285, -0.16018763184547424, 0.005858526099473238, -0.05314107984304428, -0.04063774645328522, 0.06519120931625366, -0.013526984490454197, -3.0464303493499756, 0.18967723846435547, 0.06314360350370407, -0.12824751436710358, -0.031375300139188766, -0.092300646007061, 0.5282608270645142, 0.2213633954524994, 0.16775453090667725, 0.17661504447460175, 0.15534906089305878, -0.2083940953016281, 0.5290936231613159, 0.016290007159113884, -0.002248241798952222, 0.23304568231105804, 0.2072710543870926, 0.22787074744701385, 0.010545059107244015, 0.025725683197379112, -0.03773578256368637, 0.05484825372695923, 0.2630680799484253, 0.25141075253486633, 0.008638493716716766, -0.06328588724136353, -0.15355941653251648, 0.06833726167678833, -0.19226647913455963, -0.13889798521995544, -0.11733876913785934, -0.012435642071068287, -0.002154488582164049, -3.385114908218384, 0.12866058945655823, 0.26241108775138855, -0.07341707497835159, -0.270992636680603, -0.16526784002780914, 0.23483380675315857, 0.08716637641191483, 0.002891805488616228, 0.20011493563652039, -0.1366531252861023, 0.1946149468421936, -0.12636718153953552, -0.22826893627643585, 0.023644857108592987, -0.14823107421398163, 0.13664190471172333, 0.25110912322998047, -0.014163443818688393, -0.08812569081783295, 0.24278107285499573, -0.2371724247932434, -0.035206831991672516, -0.1543409377336502, 0.2614504098892212, 0.19025836884975433, 0.13233324885368347, -0.07305773347616196, -0.2032930552959442, -0.1689366102218628, 0.03815147653222084, 0.12158633768558502, 0.036179326474666595, -0.15790601074695587, 0.18179473280906677, 0.09853161126375198, 0.13300707936286926, -0.03764523193240166, -0.12536412477493286, 0.2117036134004593, -0.03054472617805004, 0.023852074518799782, 0.12299731373786926, 0.08853620290756226, 0.2080320566892624, -0.07848553359508514, -0.010510493069887161, 0.29196983575820923, 0.032592784613370895, 0.09369344264268875, 0.1710558831691742, -0.1426985263824463, 0.3445337414741516, -0.008740102872252464, -0.11551213264465332, -0.19793279469013214, 0.21724829077720642, 0.26688313484191895, -0.040980368852615356, -0.042476847767829895, -0.12496767938137054, 0.022845549508929253, 0.17085997760295868, 3.7902581691741943, 0.1530420184135437, -0.05337127298116684, 0.24780236184597015, 0.06382913887500763, -0.03915931284427643, 0.37539681792259216, -0.06685059517621994, -0.245834618806839, 0.1287054866552353, -0.06382232159376144, 0.12169643491506577, 0.05418103188276291, 0.020935676991939545, 0.02517862431704998, 0.28310254216194153, 0.14554598927497864, 0.020240461453795433, 0.029892250895500183, -0.12362681329250336, 0.10698503255844116, 0.1523343324661255, 0.1356811225414276, 0.022983618080615997, -0.911066472530365, -0.05841561406850815, 0.016708701848983765, -0.1241602897644043, 0.18897028267383575, 0.04753506928682327, -0.0914614200592041, 0.15957196056842804, -0.0874582827091217, 0.07861196249723434, 0.10620805621147156, 0.1064019426703453, 0.24140463769435883, -0.07007323205471039, 0.2569088935852051, -0.19106239080429077, 0.06951618194580078, 0.10886163264513016, 0.07606936991214752, 0.07824129611253738, 0.001039446797221899, 0.058792002499103546, -0.24969784915447235, -0.14775073528289795, -0.13190162181854248, -0.18268704414367676, -0.11302840709686279, 0.05216230824589729, 0.03422997519373894, -0.10461480170488358, 0.1791100949048996, -0.20124970376491547, 0.04107597470283508, -0.020304560661315918, 0.09791959822177887, -0.07082418352365494, -0.05527211353182793, -0.05879155173897743, -0.09139835089445114, 0.2661985456943512, 0.0604785792529583, -0.0019366337219253182, -0.12556350231170654, -0.067533478140831, -5.1404619216918945, 0.2107095867395401, 0.2262166142463684, 0.192293182015419, 0.3355152904987335, -0.013712771236896515, 0.20811204612255096, 0.16130098700523376, 0.04795386642217636, -0.24257230758666992, 0.24409808218479156, 0.22048544883728027, -0.19212521612644196, 0.27620819211006165, -0.27056190371513367, 0.10149738937616348, 0.06236639246344566, -0.10141074657440186, 0.08888088166713715, 0.024186905473470688, 0.22832255065441132, 0.4801084101200104, -0.1815672218799591, 0.10124213248491287, -0.012744389474391937, -0.13194948434829712, -0.16715335845947266, -0.04672888293862343, 0.24109333753585815, -0.1898041069507599, -0.15683048963546753, -0.07842136919498444, 0.0015634079463779926, -0.02612437680363655, -0.0435054711997509, -2.0052449703216553, -0.05733678489923477, 0.021097363904118538, -0.10839954763650894, 0.03805270418524742, -0.2877040505409241, 0.09443389624357224, 0.0976567342877388, -0.06944527477025986, 0.11170724034309387, 0.03136379271745682, 0.03209972009062767, -0.16583365201950073, 0.1643819361925125, 0.14655780792236328, -0.028738854452967644, 0.17649875581264496, 0.25138598680496216, 0.04044855758547783, 0.09894753247499466, -0.14002299308776855, 0.1641252040863037, -0.001799888676032424, 0.10409606248140335, -0.09473107010126114, 0.22612324357032776, -0.2351151406764984, 0.17393432557582855, -0.08820881694555283, 0.008484270423650742, 0.015178876928985119, 0.028181064873933792, -0.08690628409385681, -0.1548059582710266, -0.2503392994403839, -0.05097266286611557, 0.24045833945274353, 0.026345953345298767, 0.27893295884132385, -0.025362994521856308, -0.14410781860351562, 0.30923211574554443, 0.22860530018806458, 0.2717534899711609, 0.02734225057065487, 0.11007408797740936, -0.09989577531814575, -0.1007315143942833, 0.06082942709326744, -0.12749965488910675, -0.18215276300907135, -0.04430193454027176, 0.9120718836784363, -0.17277760803699493, 0.11795052140951157, 0.008059371262788773, 0.2397538721561432, 0.10114187002182007, 0.22011716663837433, 0.16225706040859222, 0.24536274373531342, 0.060904137790203094, 0.24691013991832733, 0.05427050590515137, -0.0912666767835617, -0.1305559128522873, 0.11813496053218842, -0.1465863138437271, 0.09784211218357086, 0.0811961442232132, 0.053232867270708084, 0.046961355954408646, 0.04261229187250137, -0.4602130651473999, -0.10396888852119446, 0.04743117839097977, -0.1172601580619812, 0.15371744334697723, 0.332489550113678, -0.09963742643594742, -0.059588827192783356, -0.10329217463731766, -0.001129858079366386, 0.13798829913139343, 0.045358967036008835, -0.034143634140491486, 0.09115773439407349, 0.08598701655864716, -0.15438415110111237, 0.12787403166294098, -0.02257676050066948, 0.286143958568573, 0.04292112588882446, -0.011884097009897232, 0.054841894656419754, 0.10249209403991699, 0.11096491664648056, -0.6651266813278198, 0.06540361046791077, -0.1346830129623413, -0.056279342621564865, -0.3755050599575043, -0.11028969287872314, 0.07382020354270935, -0.16393175721168518, -0.02919204905629158, -0.08949661999940872, 0.27662393450737, 0.011420383118093014, 0.17988364398479462, 0.16722369194030762, 0.16792088747024536, 0.08675936609506607, 0.19692176580429077, 0.5281587839126587, 0.22304397821426392, -0.13953039050102234, 0.16829779744148254, 0.03293657302856445, 0.06351502239704132, 0.14719048142433167, 0.07038721442222595, 0.049197323620319366, -0.09251105785369873, -0.17779746651649475, 0.11691953241825104, 0.056986432522535324, -0.17840620875358582, -0.17069505155086517, -0.046768151223659515, -0.06596708297729492, 0.03284469619393349, -0.05452653020620346, -0.5452398657798767, -0.07731086015701294, -0.07710816711187363, -0.1118350476026535, 0.3017030954360962, 0.08995547145605087, 0.0819537416100502, 0.09370068460702896, 0.15157218277454376, -0.0419580414891243, 0.28781914710998535, -0.0038757198490202427, 0.040561217814683914, 0.0018954490078613162, -0.14097192883491516, -0.025990447029471397, 0.25045549869537354, 0.2413649708032608, -0.2765323221683502, 0.1127910390496254, 0.0007297685951925814, 0.02891765534877777, 0.031320903450250626, 0.16411273181438446, -0.07894031703472137, 0.15058714151382446, 0.0942029133439064, 0.03601907193660736, 0.09147168695926666, -0.739896297454834, 0.047389570623636246, 0.18800900876522064, -0.01813484914600849, -0.0017258314182981849, 0.011209242045879364, -0.2967129349708557, 0.3568945527076721, -0.033747851848602295, -0.051344018429517746, -0.05847901478409767, 0.12578660249710083, 0.11990310251712799, -0.06578409671783447, 0.050615549087524414, 0.06927647441625595, 0.30640459060668945, -0.06568938493728638, 0.02860335446894169, 0.10719127953052521, -0.13527902960777283, 0.21348388493061066, -0.1399768590927124, -0.2594379186630249, -0.06061423942446709, -0.03918970003724098, -0.01707109622657299, 0.2632884085178375, -0.039317768067121506, -0.011660223826766014, 0.13901720941066742, -0.2901497781276703, -0.26459187269210815, -0.10000450164079666, -0.08151352405548096, -0.036110177636146545, 0.00515125785022974, 0.002638974692672491, 0.18581920862197876, 0.143084317445755, -0.16960486769676208, 0.22538773715496063, 0.16817021369934082, -0.12611430883407593, 0.1334613412618637, 0.20237720012664795, -0.20377452671527863, 0.06617231667041779, 0.1706428974866867, -0.24859730899333954, -0.1239767000079155, -0.04524243250489235, -0.1285262554883957, -0.08762630820274353, -0.0030182653572410345, -0.05960463732481003, 0.15030604600906372, -0.1591024398803711, 0.06313712149858475, -0.09112975001335144, 0.19350667297840118, -0.1304536759853363, 0.06078604981303215, 0.1890348345041275, -0.1768428534269333, -0.5556637048721313, 0.14651930332183838, -0.060865338891744614, -0.09281302988529205, -0.012649276293814182, 0.19069655239582062, -0.09602028131484985, -0.05531948804855347, -0.23077557981014252, -0.34992870688438416, 0.13027094304561615, -0.04156958684325218, -0.11659257113933563, 0.07179681956768036, -0.21628370881080627, 0.006957024801522493, -0.206967294216156, -0.15395739674568176, -0.07924044877290726, 0.1776111125946045, -0.013650459237396717, -0.01083147618919611, 0.16193854808807373, -0.15389561653137207, -0.12148792296648026, -0.1707713007926941, -0.15188457071781158, 0.30759385228157043, 0.17846131324768066, 0.1317019760608673, 0.09094849228858948, 0.1742352545261383, 0.08737834542989731, 0.06320732831954956, 0.008545231074094772, -0.25782233476638794, 0.2949582636356354, -0.10952412337064743, 0.061444684863090515, 0.16685613989830017, 0.1299322247505188, 0.15591274201869965, 0.13934239745140076, -0.1714686155319214, -0.15273964405059814, -0.09269320964813232, 0.3056747317314148, -0.0673312321305275, -0.09733108431100845, -0.01853310689330101, 0.15257155895233154, 0.14206913113594055, 0.16923943161964417, 2.7571768760681152, 0.2668454051017761, 0.06273891031742096, -0.10193832218647003, 0.1401721090078354, 0.22907675802707672, 0.08008302748203278, 0.08909273892641068, -0.10281043499708176, 0.166726216673851, -0.12187511473894119, -0.07342379540205002, 0.02745390683412552, 0.0802086889743805, 0.06324874609708786, 0.09454277157783508, -0.10106994956731796, 0.05443350225687027, -0.28807035088539124, -0.3367348611354828, -0.2128673791885376, 0.330564945936203, 0.06467323005199432, -0.04352536424994469, 0.011808917857706547, 0.16050980985164642, 0.005128214135766029, -0.05694077908992767, -0.19140811264514923, -0.11328144371509552, 0.019863037392497063, -0.015725083649158478, 0.03992008790373802, -0.000824680202640593, 0.0659794956445694, 0.18091310560703278, 0.061867017298936844, -0.19954809546470642, -0.04053890332579613, 0.07873709499835968, -0.13330890238285065, -0.16056860983371735, 0.24521392583847046, -0.08785989135503769, -0.04679684340953827, 0.14745883643627167, -0.011077930219471455, -0.060463786125183105, -0.07107275724411011, -0.07593552768230438, 0.11955751478672028, -0.18465270102024078, -0.13534148037433624, 0.056108035147190094, -0.2002793550491333, -0.15915599465370178, 0.24759849905967712, -0.10517188906669617, -0.12561652064323425, 0.2633620500564575, 0.07616351544857025, -0.006142514757812023, 0.21199549734592438, -0.04773707315325737, 0.021462805569171906, -0.07970789074897766, 0.00044209862244315445, 0.03660045936703682, -0.02563823200762272, 0.1822129487991333, -0.011251039803028107, 0.1418103575706482, 0.11067435145378113, -0.029273532330989838, 0.12001827359199524, -0.11915328353643417, 0.13021431863307953, 0.015578576363623142, -0.14230617880821228, -3.8689281940460205, 0.028787225484848022, 0.004403410479426384, -0.029504291713237762, 0.04475712031126022, 0.23062624037265778, 0.12750883400440216, 0.130204975605011, -0.040322981774806976, 0.07142233848571777, 0.1763613522052765, 0.09388258308172226, 0.11422622948884964, 0.212371826171875, 0.06285873800516129, 0.08697798103094101, -0.09718210250139236, -0.24546872079372406, -0.03340505436062813, 0.013025009073317051, -0.04461904615163803, -0.015776269137859344, -0.03741280734539032, 0.05571191385388374, -0.017397833988070488, -0.05550305172801018, -0.14287030696868896, -0.06365811824798584, 0.0823330506682396, -0.09014217555522919, -0.1399892419576645, 0.016190383583307266, 0.06368106603622437, 0.01732061430811882, 0.03073732927441597, -0.07510511577129364, 0.08767738938331604, -0.06726518273353577, 0.2269400805234909, 0.2885698080062866, 0.002278439700603485, 0.13475117087364197, -0.07682087272405624, 0.12127489596605301, -0.19996532797813416, -0.0005108988261781633, 0.15479776263237, -0.1207091361284256, 0.2178439348936081, -0.15051640570163727, -0.059479303658008575, 0.21560244262218475, -0.14994633197784424, 0.04821110889315605, 0.24724194407463074, -0.09509533643722534, 0.07356715947389603, 0.04798050597310066, 0.06480295956134796, 0.05818920582532883, 0.0857902243733406, -0.2105785757303238, 0.004367629997432232, -0.14335240423679352, 0.23471446335315704, -0.15002134442329407, 0.05563322827219963, -0.015973353758454323, -0.06765539199113846, 0.06846972554922104, -0.002466510981321335, 0.015060974285006523, 0.13116921484470367, 0.03423392400145531, 0.1497345119714737, 0.0333077646791935, 0.031042128801345825, 0.2733224630355835, 0.04173938184976578, 0.1897420436143875, 0.05589109659194946, -0.27709585428237915, -0.05925561487674713, -0.11204054206609726, 0.1290915459394455, -9.645722389221191, -0.0208231583237648, -0.2041579633951187, -0.08250682801008224, 0.15143872797489166, 0.08284203708171844, -0.003993053920567036, -0.09347400069236755, 0.006755897309631109, 0.011221052147448063, -0.06345538794994354, 0.05822368338704109, 0.013317863456904888, -0.13456317782402039, 0.07729212194681168, 0.24767181277275085], [-0.5673683285713196, -0.25611257553100586, 0.3123845160007477, -0.9046734571456909, 0.6231284141540527, -0.20458334684371948, -0.047567613422870636, 0.6931448578834534, -0.3472056984901428, -0.1067638024687767, -0.21991249918937683, -0.5032232999801636, 0.036812663078308105, 0.4341963529586792, 0.35925981402397156, 0.6443523168563843, 0.0681275799870491, 0.30320486426353455, -0.038791507482528687, -0.17521020770072937, 0.24211138486862183, 0.3950386345386505, -0.41342872381210327, 0.2945278286933899, 1.083492398262024, -0.4167754650115967, 0.34499385952949524, -0.15569528937339783, -0.10883843153715134, -0.0530557818710804, -0.035264454782009125, 0.6925162076950073, -0.06260419636964798, -0.1341249644756317, -0.37247413396835327, -0.2810373604297638, 0.4357414245605469, -0.6894669532775879, -0.27950313687324524, 0.3994597792625427, -0.4395332336425781, -0.4738757014274597, 0.4446287453174591, 0.5424075126647949, -0.09189174324274063, -0.6365208625793457, 0.06440111994743347, -0.7425081133842468, -0.06066634878516197, -0.3282863199710846, -0.8475451469421387, 0.1437872052192688, -0.12162046879529953, 0.34355252981185913, -0.8902549147605896, 0.6306580901145935, 0.03745023161172867, -0.3030625879764557, -0.32104989886283875, 0.07563043385744095, 1.0271718502044678, 0.16648687422275543, 0.301626980304718, -0.18735279142856598, 0.3096424639225006, 0.7693662047386169, 0.05385710299015045, 0.740464985370636, -1.0610698461532593, -0.2651700973510742, -0.7768247723579407, -0.6841766834259033, -0.09198319166898727, 0.13615897297859192, 0.04813579097390175, 0.021402357146143913, 0.040862902998924255, -0.14583270251750946, -0.29958122968673706, -0.9540906548500061, 0.010578705929219723, 1.0105113983154297, 0.07532668113708496, -0.06559652090072632, -0.00870467908680439, 0.34299564361572266, -0.6626470685005188, 0.030944321304559708, -0.42196619510650635, 0.6941985487937927, -0.02503173053264618, -0.659089207649231, 0.2042115181684494, -0.024411993101239204, 0.09909621626138687, -0.8294422626495361, 0.23213565349578857, -0.029683783650398254, 0.408572793006897, -0.17237135767936707, -0.5072897672653198, -1.8902814388275146, -0.025415321812033653, -0.41556650400161743, 0.5393074750900269, -0.4711129367351532, 0.39661216735839844, 1.0887434482574463, 0.45781198143959045, -1.484787106513977, 0.4381653368473053, 0.1926794946193695, -0.06615372747182846, -0.033964235335588455, -0.6853810548782349, 1.0319552421569824, 0.12719741463661194, 0.05617796257138252, 0.23131348192691803, -0.1274556815624237, -0.9470716118812561, 0.18277008831501007, 0.09495299309492111, 0.7312599420547485, -0.017977682873606682, 0.33174625039100647, 0.3511171340942383, 0.6557339429855347, 0.21496255695819855, -0.43441587686538696, 0.2692507207393646, 1.0797399282455444, 0.6371908783912659, -0.8227441310882568, -0.5403842329978943, -0.6095747351646423, -0.17773132026195526, -0.8801435828208923, -0.6762844920158386, -0.09490033239126205, 0.593534529209137, -0.11886756867170334, 0.09469304978847504, 0.1389549970626831, 0.19557912647724152, -0.0011507754679769278, -0.5298812985420227, -0.7724527716636658, 0.41888025403022766, 0.008917572908103466, 0.23645049333572388, 0.22925707697868347, -0.17163649201393127, -0.410637766122818, -0.5900737047195435, -0.2700660824775696, -0.19079384207725525, 0.5097682476043701, 0.11136085540056229, 0.5695067048072815, 0.6211573481559753, 0.16378703713417053, 0.8651109337806702, 0.6171698570251465, 0.0604095384478569, -0.4210236072540283, -0.24283531308174133, -0.1642950028181076, 0.23879364132881165, -0.2904781103134155, -0.2481759935617447, -0.9692398309707642, 0.7672619819641113, 0.413953959941864, -0.1500060111284256, -0.23398977518081665, 0.6168746948242188, -0.3654186427593231, 0.4805912375450134, 0.04685110226273537, -0.6394545435905457, 0.3234824538230896, -0.5193422436714172, -0.09206566959619522, 0.31301844120025635, -0.13651610910892487, 0.35698264837265015, -0.9025701284408569, -0.42695701122283936, 1.0242118835449219, -0.45744502544403076, 0.6082081198692322, -0.06344430148601532, -0.6897000074386597, 0.6841630339622498, -0.30969855189323425, -0.732787013053894, -0.5729653835296631, 0.38896849751472473, 0.13337548077106476, 0.22042249143123627, 0.4755418002605438, -0.2641352713108063, 0.1368841677904129, -0.13408450782299042, 1.7661161422729492, 0.6216278672218323, 0.09211140871047974, 0.7157374620437622, -0.3533904254436493, -0.044436465948820114, 1.6823368072509766, 0.004004008136689663, -0.29005298018455505, 0.23680193722248077, 0.2688431441783905, -0.2210790067911148, 0.08276376128196716, 0.18414075672626495, 0.4090513288974762, 0.4116751551628113, 0.03553949296474457, -0.4206194281578064, 0.6485037803649902, -0.24035702645778656, 1.0672969818115234, 0.2871098518371582, 0.3520837128162384, 0.33623093366622925, -0.5126737952232361, -0.4251788854598999, -0.39853405952453613, -0.08609279245138168, 0.5015029907226562, -0.05864567309617996, 0.8861331343650818, 0.09039663523435593, -0.14382807910442352, -0.09157230705022812, 0.48219579458236694, 0.009542691521346569, 0.47357162833213806, -0.0198985505849123, 0.7776156067848206, -0.9400896430015564, -0.25467807054519653, -0.18667468428611755, -0.5541585683822632, -0.308737188577652, -0.29738113284111023, -0.29658523201942444, -0.6099355816841125, -0.5223513841629028, -0.5464279055595398, -1.2442938089370728, 0.046428460627794266, -0.1888544112443924, 0.5007064342498779, 0.06877728551626205, 0.6552311778068542, 0.13554523885250092, 0.29626473784446716, 0.2767041325569153, 0.026452714577317238, -0.8265947103500366, 0.3811180293560028, -0.6816027164459229, 0.5798153877258301, 0.6907776594161987, 0.36204034090042114, -0.8069755434989929, -0.8234532475471497, 0.043224211782217026, -1.1691371202468872, -0.46222734451293945, -0.1511778086423874, 0.019704705104231834, 0.2697191536426544, -0.46970993280410767, 0.7046723365783691, 0.3789735436439514, 1.2268133163452148, -0.49342188239097595, 0.5089555382728577, 0.2788185179233551, -0.7560480237007141, 0.44880351424217224, 0.3315214514732361, 0.1875077486038208, -0.5005983114242554, -0.6145820021629333, 0.38637110590934753, -0.26872536540031433, -0.7183658480644226, 0.5026047229766846, 0.0944594219326973, 0.6184221506118774, -0.082476906478405, -0.24529603123664856, -0.6534700393676758, -0.19293329119682312, -0.7429055571556091, 0.07080668210983276, 0.14057591557502747, -0.6126108169555664, 0.3396580219268799, -0.3655575215816498, -0.5137233734130859, -4.350356578826904, 0.23614516854286194, -0.15095774829387665, -0.23638926446437836, -0.19278891384601593, -0.14710722863674164, -0.04294225573539734, -0.10793483257293701, -0.6065729260444641, 0.14073006808757782, -0.17654065787792206, -1.0855228900909424, -0.40698134899139404, 0.6047640442848206, 0.0005530242924578488, 0.025641178712248802, 0.39520227909088135, 0.9205827116966248, -0.06696858257055283, 1.2516335248947144, -0.3190992474555969, -0.3042946755886078, -0.3621593415737152, -0.5551050901412964, -0.6565725803375244, 0.636303722858429, -0.3212956190109253, 0.64909827709198, -0.8393822908401489, 0.5120770335197449, 0.31531399488449097, -0.2816076874732971, 0.18392109870910645, -0.4052625000476837, -0.22713731229305267, 0.23960818350315094, 0.34453195333480835, -0.5206917524337769, 0.19218920171260834, -0.145360067486763, -0.41572362184524536, -0.10762456059455872, 0.5438461899757385, 0.4615381062030792, 0.5647998452186584, 0.1890784651041031, -0.48843124508857727, -0.4994677007198334, -0.03105599619448185, 0.10006316751241684, -0.5953264832496643, -0.4263276755809784, 0.1702190786600113, 0.15440572798252106, -0.08452468365430832, 0.20897772908210754, -0.0878131166100502, -0.2241191565990448, 0.3841326832771301, 0.23450425267219543, 0.4006732702255249, -0.8497695922851562, -0.11064166575670242, 0.2844761312007904, -0.19762398302555084, -1.0942676067352295, -0.15785537660121918, -0.19872617721557617, 0.24103467166423798, 0.6647506356239319, -0.38483649492263794, 0.08341492712497711, 0.433182954788208, -1.4333465099334717, -0.18557971715927124, 0.08968297392129898, 0.26047584414482117, 0.09591226279735565, 1.3473412990570068, -0.407529354095459, -0.7489344477653503, -0.8123893737792969, 0.11909858137369156, 0.15097388625144958, 0.38473600149154663, -0.2827438712120056, 0.7401874661445618, 0.036228615790605545, -0.3003626763820648, -0.2952388525009155, -0.6010251045227051, 1.0679510831832886, 0.009117457084357738, 0.6191074848175049, 0.027038702741265297, 0.020824240520596504, 0.5072882175445557, -0.4315890073776245, 0.35049280524253845, -0.0785243883728981, 0.4382795989513397, -0.5665667653083801, 0.7603033781051636, -0.035689596086740494, 0.8192083835601807, -0.04932723566889763, -0.6815800666809082, 0.8675730228424072, -0.12429288774728775, 0.4349353611469269, -0.3654356598854065, -0.4350343346595764, -0.09860371798276901, -0.5877479314804077, -0.2771947681903839, 0.7258993983268738, -0.47960662841796875, 0.6591500639915466, 0.5662286877632141, 0.22509819269180298, 0.40986204147338867, 0.6060591340065002, -0.445139080286026, -0.7580863833427429, -0.8941690921783447, 0.23594555258750916, -0.5597076416015625, 0.6483925580978394, -0.9856081604957581, 0.1628798246383667, -0.6455731391906738, 0.09900408238172531, -0.3622126281261444, -0.37182918190956116, 0.7062793374061584, -0.34432539343833923, -0.5682325959205627, 0.9634318947792053, 1.0577574968338013, 0.02910047583281994, 0.05950014665722847, 0.6724137663841248, -0.03770190849900246, 0.643773078918457, 0.059853941202163696, 0.8456581830978394, 0.09054666757583618, -0.6928051710128784, -0.506220281124115, 0.2835557460784912, -0.18902279436588287, -0.6687963604927063, 0.12743620574474335, -0.4837462604045868, -0.013554403558373451, 0.04214845597743988, 0.5976524949073792, -0.1067521944642067, -0.029312707483768463, -0.6799736022949219, -0.045032814145088196, -0.1830606758594513, -0.0866507738828659, -0.17014473676681519, 0.8408090472221375, 0.34399914741516113, 0.3407275080680847, -0.15302205085754395, -0.5984997749328613, -0.297390341758728, -0.5581885576248169, 0.0056686727330088615, -0.06420903652906418, -0.5175002217292786, 0.06629620492458344, -0.24922023713588715, 0.09456156194210052, 0.017537198960781097, 0.3350842297077179, 0.26295197010040283, 0.0784500315785408, 0.32923680543899536, 0.016572624444961548, 0.1401907503604889, 0.11182082444429398, -0.10181492567062378, -0.11237481981515884, -0.40969163179397583, 0.17145490646362305, 0.6010816693305969, 0.011315874755382538, 0.04694999381899834, -0.3678892254829407, -0.5311923027038574, -0.9963006973266602, -0.4148313105106354, 0.27263143658638, -0.38309451937675476, 0.5824316740036011, 0.620448887348175, 0.6764978766441345, 0.6486737132072449, -0.33074066042900085, -0.03266875073313713, 0.23935122787952423, 0.5073597431182861, -0.1350764036178589, 0.48071375489234924, 0.03767501190304756, -0.26232457160949707, -0.5334431529045105, -0.20877426862716675, -0.28554823994636536, -0.8735941052436829, -0.12040490657091141, -0.20157988369464874, -0.3076324462890625, 0.6214653253555298, -0.4173041880130768, -0.49278610944747925, -0.06769002974033356, -0.3453916907310486, 0.021561330184340477, 0.13795354962348938, -0.6554504036903381, -0.5656024813652039, -0.022593364119529724, -1.0729222297668457, 0.22250132262706757, -0.23233374953269958, -0.19429801404476166, -0.5308511853218079, 0.27731961011886597, 0.2407093644142151, -0.18038137257099152, -1.0410304069519043, -0.9961701035499573, -0.2397337555885315, -0.141182079911232, -0.14486320316791534, 0.3444257974624634, -0.8091411590576172, 0.2806483805179596, -0.589090883731842, -0.5672497153282166, -0.8489553332328796, 0.2376404106616974, 0.08208038657903671, 0.14235717058181763, 0.951144814491272, -0.3111112713813782, 0.7444591522216797, -0.1165614053606987, -0.09890653938055038, 0.35753771662712097, -0.44881027936935425, 0.5405141711235046, 0.49250537157058716, -0.26469898223876953, -0.008001105859875679, 0.35218745470046997, 0.030312588438391685, 0.17366915941238403, 1.1943622827529907, -0.2891443967819214, 0.5484095811843872, 0.2617122232913971, 0.12680158019065857, -0.04117067530751228, 0.625970721244812, -0.9044585227966309, 0.32238516211509705, 0.11589278280735016, 0.43221378326416016, 0.4026421010494232, -0.34808632731437683, 0.056178122758865356, -0.1250273585319519, -0.30384203791618347, -0.028154443949460983, 0.8153657913208008, 0.4865679144859314, -0.8581705093383789, -0.40224096179008484, 0.05024681240320206, 0.052753228694200516, -0.044447414577007294, -0.01767524890601635, 0.5408084392547607, -0.3346424996852875, -0.6388435959815979, 0.20033250749111176, 0.5267418622970581, 0.46852266788482666, -0.007824343629181385, 0.3422172963619232, 0.7719380855560303, 0.491666704416275, -0.19331756234169006, -0.19745631515979767, -0.32354307174682617, 0.3569018542766571, -0.28710153698921204, 0.5230771899223328, -0.2418801635503769, 0.33512941002845764, 0.6662225127220154, -0.19927486777305603, -0.24761953949928284, 0.21719714999198914, -0.11719577014446259, -0.030617685988545418, 0.24290283024311066, 0.14424176514148712, -0.20192953944206238, 0.22236019372940063, 0.6494837403297424, -0.6214247941970825, -0.2986508011817932, 0.37973979115486145, -0.2636527717113495, -0.3791646957397461, 0.36111384630203247, 0.023748697713017464, -0.5590604543685913, 0.5536139011383057, -0.8112107515335083, -0.01691366918385029, -0.13219553232192993, -0.28576791286468506, 0.015713250264525414, -0.15414583683013916, -0.8350427150726318, 1.0785768032073975, -0.8491035103797913, 0.5679290890693665, 0.002840515226125717, -0.6732189059257507, 0.3541948199272156, 0.2297728955745697, -0.44935622811317444, 0.06256764382123947, 0.720179557800293, 0.9073407053947449, -0.052121661603450775, -0.2321830540895462, -0.18233804404735565, 0.22365835309028625, 0.14039616286754608, 0.3724510967731476, 0.4347091317176819, 0.3105013370513916, 0.30786821246147156, -0.5697317719459534, 0.11399130523204803, 0.47905537486076355, 0.522472620010376, 0.5766822695732117, 0.19232021272182465, -0.8477413654327393, 0.31557759642601013, 0.0723864734172821, 0.7411759495735168, -0.6798701882362366, -0.12632684409618378, 0.058422625064849854, 0.5294281244277954, 0.26065751910209656, -0.39487627148628235, 0.05621618777513504, -0.05161749944090843, 0.3867846131324768, 0.40934276580810547, 0.29140621423721313, -0.1197640672326088, 0.49567434191703796, -0.012351169250905514, 0.06275711208581924, -0.09981899708509445, -0.5080714821815491, 0.3234076201915741, 0.3425760865211487, -0.09967423230409622, -0.20363201200962067, -0.24250096082687378, -0.6615245938301086, 0.2182234674692154, 0.10655800998210907, 0.04920275881886482, -0.36143186688423157, 0.3221355676651001, -0.15193764865398407, 0.22434574365615845, 0.1287134438753128, 0.5971291065216064, -0.4030589163303375, 0.015805581584572792, 0.357464075088501, 0.9207137823104858, -0.512948751449585, 0.5199964642524719, -0.34619349241256714, 0.11177696287631989, -0.4920106530189514, -0.09165718406438828, 0.2848908305168152, -0.6414794921875, 0.6449153423309326, -0.41688036918640137, -0.9121471047401428, 0.2524155080318451, 0.41351625323295593, -0.28545016050338745, -0.12781383097171783, -0.7216697931289673, 0.7624909281730652, 0.297382116317749, -0.3101154863834381, -0.3758169412612915, 0.7183302044868469, -0.6800618171691895, -0.5354723334312439, -0.18346910178661346, 1.0107098817825317, -0.4626733958721161, -0.18877576291561127, -0.10981792956590652, 0.22330915927886963, -0.9616411328315735, -0.4204562306404114, 0.1890282928943634, 0.6854551434516907, 0.2660360336303711, -0.2437376081943512, 0.2772659361362457, -1.064886450767517, 0.6518064141273499, -0.3214223086833954, 0.4672163128852844, -0.393775075674057, 0.0676574781537056, 0.9797838926315308, 0.029983486980199814, 0.3041141629219055, -2.4477343559265137, -0.20964956283569336, -0.18235145509243011, -1.1121547222137451, 0.5989859104156494, -0.026271088048815727, 0.8203424215316772, 0.07950481027364731, 0.5140829682350159, -0.07329409569501877, -0.7072851061820984, 0.9814702868461609, 0.3657110929489136, -0.7817661166191101, 0.2189958393573761, 0.5927022695541382], [-0.23615945875644684, -0.3176528811454773, 0.6953453421592712, -0.48756057024002075, -0.17368467152118683, -0.5171313285827637, -0.047387126833200455, 0.6560034155845642, -0.40391889214515686, -0.6505091786384583, 0.050888825207948685, -0.46117833256721497, -0.5110592842102051, 0.6201528906822205, -0.33087027072906494, 0.43801918625831604, 0.15203475952148438, -0.24779567122459412, -0.012418185360729694, -0.24799899756908417, -0.204027459025383, 1.0300556421279907, -0.5550730228424072, 0.19365552067756653, 0.5939955115318298, 0.10170213133096695, 0.09158150851726532, -0.9531166553497314, 0.15239642560482025, 0.41518524289131165, 0.49139320850372314, 0.34460917115211487, 0.22684989869594574, -0.522376298904419, -0.5876365303993225, -0.5470463633537292, 0.12846443057060242, -0.5680118799209595, -0.9116625785827637, 0.2010449767112732, -0.7984764575958252, -0.6641979217529297, 0.3952425420284271, 0.38490352034568787, -0.252834677696228, -0.2905356287956238, 0.8053593635559082, -0.262384831905365, 0.37510010600090027, -0.3814491033554077, -0.8850687742233276, -0.255096435546875, 0.3511144518852234, 0.5559968948364258, -0.40014147758483887, 0.39769116044044495, -0.04932904988527298, -0.8056758642196655, -0.5953586101531982, 0.023074615746736526, 0.38680896162986755, -0.01817713864147663, 0.12171903252601624, -0.08993516117334366, 0.440513551235199, 0.7162576913833618, -0.19773799180984497, 0.2120347023010254, -0.6819380521774292, -0.039829473942518234, -0.31759047508239746, -0.6360600590705872, 0.23597922921180725, -0.007540140766650438, -0.5199775695800781, -0.08607123047113419, -0.4076153635978699, -0.15796466171741486, 0.42156198620796204, -1.0268833637237549, -0.3417626917362213, 1.396073818206787, -0.16611579060554504, 0.07129354029893875, 0.12061849981546402, -0.6769817471504211, -0.12180519104003906, 0.2806054651737213, -0.604077935218811, 0.05468431115150452, 0.3805943727493286, -0.37095487117767334, 0.7071279883384705, -0.3571982681751251, 0.3313102126121521, -0.8698636293411255, 0.4563393294811249, -0.13905951380729675, 0.12292636930942535, -0.2163383960723877, -0.252917617559433, -1.4605207443237305, 0.43029817938804626, -0.16343294084072113, -0.031170150265097618, -0.26434245705604553, -0.47824907302856445, 1.4295363426208496, 0.5473889708518982, -0.2960793972015381, 0.632936418056488, -0.21852445602416992, -0.19616326689720154, -0.11408232897520065, -0.4444749355316162, 0.9193544387817383, 0.1189579889178276, -0.11412909626960754, 0.026518890634179115, -0.27305868268013, -0.07831625640392303, -0.4876643419265747, -0.05451211705803871, 0.8030802607536316, -0.34406909346580505, 0.6534621715545654, -0.38007575273513794, 0.2538928985595703, 0.24765147268772125, -0.5259435772895813, 0.30599504709243774, 0.8024394512176514, 0.8211227655410767, -0.8375646471977234, 0.37265336513519287, -0.13894297182559967, -0.3431829810142517, -0.19765141606330872, -1.088582992553711, -0.019907187670469284, 0.7558272480964661, 0.45216619968414307, 0.7758510112762451, -0.17149898409843445, -0.0840906947851181, -0.363998144865036, -0.6353256106376648, 0.033003322780132294, 0.6575946807861328, -0.2351410835981369, -0.04692038893699646, 0.5060965418815613, -0.05189068242907524, -0.8367406725883484, -0.29851004481315613, -0.7676882743835449, -0.1422673910856247, 0.6321026682853699, 0.10234314203262329, 0.20485714077949524, 0.4335070848464966, 0.3028290569782257, 0.01646595448255539, 0.4958581030368805, 0.21564112603664398, -0.3460187613964081, -0.35011643171310425, 0.44647476077079773, 0.6947813630104065, -0.580368161201477, -0.02832506224513054, -0.42773258686065674, 0.6248182654380798, 0.15385468304157257, 0.2527661919593811, -0.101032555103302, -0.1006489023566246, -0.12064120173454285, 1.2406178712844849, -0.11927296966314316, -0.26949232816696167, -0.1154860407114029, -0.039517272263765335, -0.6772676706314087, 0.15112724900245667, 0.04929137974977493, -0.02508005127310753, -0.13131673634052277, -0.27959954738616943, 0.5049454569816589, -0.10342168807983398, 0.718324601650238, -0.20776231586933136, -0.2896892726421356, -0.08738316595554352, -0.5706710815429688, -0.32851678133010864, -0.8473132848739624, -0.41941890120506287, -0.5404156446456909, 0.5450656414031982, 0.4303715229034424, 0.02146412990987301, -0.2536011040210724, -0.048141300678253174, 0.6070348024368286, 1.0612422227859497, -0.28065043687820435, -0.11414945125579834, 0.2035883069038391, 0.02488802745938301, 1.6274749040603638, 0.5818948149681091, -0.3874026834964752, 0.37457364797592163, 0.4962974190711975, 0.20055833458900452, -0.43404513597488403, -0.01030806452035904, 0.7570819854736328, 0.2620164453983307, -0.34664449095726013, -0.9104896783828735, 0.6577442288398743, -0.769265353679657, 0.176640123128891, 0.2611362934112549, 0.07721827179193497, 0.20575228333473206, -0.6139109134674072, -0.2331695854663849, -0.3565186560153961, 0.28081023693084717, 0.6277455687522888, -0.02091911993920803, 0.521262526512146, -0.19343192875385284, 0.31898871064186096, 0.295815110206604, 0.27211421728134155, 0.054362423717975616, 0.7423611879348755, 1.1697962284088135, -0.10233765095472336, -0.1933927685022354, -0.19324162602424622, -0.2665020227432251, -0.3840033710002899, -0.6587238311767578, -0.5038620829582214, -0.5533906817436218, -1.4043196439743042, -0.5130767822265625, -0.06610550731420517, -1.0262739658355713, -0.23934690654277802, -0.5226916670799255, 0.08951076120138168, 0.24185794591903687, 0.49221739172935486, -0.11736367642879486, 0.2864760160446167, 0.13576854765415192, 0.2490287721157074, -0.5431892275810242, 0.21651312708854675, -0.08942869305610657, 0.5958409309387207, 1.2864378690719604, 0.42552193999290466, -0.1535760760307312, -0.38736262917518616, 0.5342125296592712, 0.4682665467262268, 0.15125702321529388, 0.22228972613811493, 0.06847648322582245, 0.33397531509399414, -0.5519740581512451, 0.6262662410736084, 0.6729605793952942, 0.4470503330230713, -0.5397311449050903, -0.3357509672641754, 0.4587118327617645, -0.5959312915802002, -0.03949182108044624, 0.18065416812896729, -0.47587117552757263, -0.90315181016922, -0.6678924560546875, 0.8848615884780884, 0.17775943875312805, -1.1704195737838745, 0.5792983770370483, 0.013349555432796478, 0.04448525235056877, 0.5182507634162903, -0.2864585220813751, -0.15670350193977356, -0.05305161699652672, -1.1467007398605347, 0.26023098826408386, -0.5194202661514282, -0.5881094336509705, 0.04587594047188759, 0.2356211096048355, -0.0025323075242340565, -4.445951461791992, -0.5215096473693848, 0.16435536742210388, -0.43270501494407654, 0.29190245270729065, -0.13292592763900757, -0.30305153131484985, 0.21069669723510742, -0.5437198877334595, 0.6450085639953613, -0.6059091687202454, -1.0100488662719727, -0.2883477509021759, 0.5159629583358765, 0.1787184327840805, -0.56556236743927, 0.12507130205631256, 0.10093974322080612, -0.11702752113342285, 1.7870980501174927, -0.427171528339386, -0.7384116649627686, -0.05678496137261391, -0.5392444133758545, -0.03325250744819641, 0.6686468720436096, 0.1200994923710823, 0.6073436737060547, -0.6806919574737549, -0.5390419960021973, -0.42132696509361267, 0.020564008504152298, 0.6869016885757446, -0.2563088834285736, 0.17099721729755402, 0.11117254197597504, 0.21717728674411774, -0.41829103231430054, 0.427840918302536, -0.41858118772506714, -0.29905015230178833, -0.4144554138183594, 0.6375558972358704, -0.21234554052352905, 0.4994010031223297, -0.24421465396881104, -0.24768145382404327, -1.011818766593933, 0.2935923635959625, 0.6400411128997803, -0.3984699845314026, -0.4462204873561859, -0.46673154830932617, -0.25735899806022644, -0.06605121493339539, 0.22194570302963257, 0.8051144480705261, 0.030042625963687897, 0.47050392627716064, -0.23465991020202637, 0.07648535817861557, -0.3601875305175781, -0.22435952723026276, 0.8323532342910767, -0.4999089539051056, -0.04064091295003891, -1.2157319784164429, -0.17441706359386444, 0.41349342465400696, 0.27154549956321716, 0.1250830441713333, 0.6765656471252441, -0.14670416712760925, -1.4550464153289795, -0.04903949797153473, -0.049086395651102066, 0.3646070957183838, -0.2763557434082031, 0.30323928594589233, -0.03125230595469475, -0.7479628920555115, -0.7849816083908081, -0.20482614636421204, 0.06802862882614136, 0.026926958933472633, 0.0468360111117363, 0.3187621235847473, 0.1818871796131134, -0.1341637372970581, -0.057718101888895035, 0.16905514895915985, 1.047248125076294, 0.19059789180755615, 0.9967541098594666, -0.5250083208084106, -0.04060979560017586, 0.5652782917022705, -0.14446070790290833, 0.560317873954773, 0.04051252081990242, 0.8292398452758789, -0.57282954454422, 0.5278280973434448, 0.30441156029701233, 1.3611055612564087, 0.6946301460266113, -0.9578858613967896, 0.4035388231277466, 0.6246373653411865, 0.15333978831768036, 0.45467838644981384, -0.7373541593551636, 0.07195456326007843, -0.08256765455007553, -0.7105080485343933, 0.7132046818733215, -0.46971312165260315, 0.950611412525177, 0.3996197581291199, 0.01412239484488964, 0.0009152714628726244, 0.2753855586051941, -0.44994837045669556, -0.9413535594940186, -1.32233464717865, 0.06594593822956085, -0.4555751383304596, 0.19348546862602234, -0.36481183767318726, 0.1388307511806488, -0.2136601209640503, 0.564632773399353, -0.08410453051328659, 0.17590045928955078, 0.18866482377052307, -0.30383920669555664, -0.4793998599052429, 0.6579673886299133, 0.17054016888141632, 0.02787381038069725, 0.08405601233243942, 0.41819408535957336, -0.6373478770256042, -0.3822871446609497, -0.8757804036140442, 1.2370964288711548, 0.2205740511417389, -0.3764335513114929, -0.0573275163769722, -0.05892590060830116, -0.6592183113098145, -0.010431286878883839, 0.2943575382232666, 0.5511738061904907, -0.08502472192049026, -0.12003406137228012, 0.18396301567554474, -0.36066892743110657, -0.24804247915744781, -1.2710046768188477, 0.5201194286346436, 0.2676657438278198, 0.35160958766937256, 0.36530521512031555, 0.3844631612300873, 0.45979130268096924, 0.13632383942604065, 0.24748554825782776, -0.403804212808609, 0.007667932193726301, -0.3609037399291992, 0.036214716732501984, -0.19560961425304413, 0.005825136788189411, 0.2983936369419098, 0.2984832525253296, -0.29441535472869873, -0.22203035652637482, 0.3961799740791321, 0.25030282139778137, 0.1715676337480545, -0.11277636140584946, -0.4883178472518921, -0.12066414207220078, -0.05573869124054909, 0.1216120719909668, 0.23608632385730743, -0.3289348781108856, 0.46838924288749695, -0.12140308320522308, -0.672354519367218, -0.07744108140468597, -0.0535886324942112, -0.07330604642629623, -0.7381666302680969, -0.5543054342269897, 0.2500971257686615, -0.44740334153175354, 0.11984806507825851, 0.6211557984352112, 0.5420417785644531, 0.46566998958587646, 0.06598089635372162, 0.09594756364822388, -0.24510407447814941, 0.4785422384738922, -0.05699087679386139, -0.2927582859992981, 0.10827717930078506, -0.6940904855728149, -0.1097731962800026, -0.2992267310619354, 0.4688020944595337, -0.04883115738630295, -0.22026805579662323, 0.07552267611026764, 0.1890147179365158, 0.1583741456270218, -0.8121411204338074, -0.03139105439186096, -0.799467146396637, -0.47918054461479187, 0.45906731486320496, -0.07911207526922226, -0.20067395269870758, -0.5639028549194336, -0.2233830690383911, -0.8939728736877441, 0.1467953473329544, -0.6437708139419556, 0.104373499751091, -0.12097900360822678, -0.037876006215810776, 0.04742295295000076, -0.6668230891227722, -0.11288170516490936, -0.2521609663963318, -0.35284653306007385, 0.15245367586612701, -0.3283150792121887, -0.3318832218647003, -0.544725775718689, -0.22983470559120178, -0.5354670882225037, 0.33083656430244446, -1.211127519607544, 0.31029146909713745, 0.01933818683028221, -0.16518327593803406, 0.5256397724151611, -0.22184132039546967, 0.74125075340271, 0.33879703283309937, -0.5018725395202637, 0.5167044997215271, -0.9697273969650269, -0.5296100974082947, 0.31384438276290894, -0.4701367914676666, -0.4885043501853943, 0.4261643588542938, 0.5953712463378906, -0.7884564399719238, 0.6317590475082397, 0.024137532338500023, 0.0469190888106823, 0.5821308493614197, 0.7760025262832642, -0.021005934104323387, 0.19041121006011963, -0.7975230813026428, 0.5884121060371399, 0.7834506630897522, 0.4381978511810303, 0.3398180603981018, -0.3779018223285675, -0.3112397789955139, 0.08882826566696167, 0.40913861989974976, -0.4467277526855469, -0.10224545001983643, 0.04923808574676514, -0.9358711242675781, -0.16196124255657196, 0.26789557933807373, -0.024931123480200768, 0.3391139507293701, 0.7728654742240906, 0.3286290168762207, -0.19755418598651886, -1.0008448362350464, 0.051175303757190704, -0.3226006329059601, -0.7070294618606567, -0.00690417131409049, 0.016182053834199905, 0.9645765423774719, 0.6668150424957275, -0.12716354429721832, -0.6981174349784851, 0.08345955610275269, 0.19804918766021729, 0.5198075175285339, 0.2262095808982849, -0.8905872106552124, 0.40500161051750183, 0.03232639282941818, -0.2082822024822235, -0.3694004416465759, 0.18057523667812347, -0.44608092308044434, -0.8382132649421692, 0.7356101870536804, 0.1635565161705017, 0.11142987012863159, -0.2716231942176819, 0.25566479563713074, -0.5785995125770569, 0.08868805319070816, 0.9444254040718079, 0.05970554053783417, -0.6072909235954285, 0.9696621894836426, 0.4600071310997009, -0.4024297893047333, 0.5347709059715271, -0.743817925453186, -0.43412646651268005, -0.5087844729423523, 0.2932905852794647, -0.14294739067554474, -0.231484055519104, -0.41951578855514526, 1.0213757753372192, -0.5685946345329285, -0.4490501284599304, 0.23023279011249542, -0.7419177889823914, 1.0832767486572266, -0.31378042697906494, -0.3059440851211548, -0.20486462116241455, 0.6969338655471802, 1.0386334657669067, 0.27138838171958923, -0.22455677390098572, 0.05779159441590309, -0.27635297179222107, -0.0032681585289537907, 1.0938953161239624, 0.06184730678796768, 0.14948900043964386, 0.33016437292099, -0.11480903625488281, 0.3228587806224823, -0.5431235432624817, 0.6798930764198303, 0.6618252396583557, -0.24880580604076385, 0.38962823152542114, 0.4256047308444977, 0.23264923691749573, 1.0316579341888428, -0.4777893126010895, -0.11481378972530365, 0.24637995660305023, 0.3185819089412689, 0.4767104685306549, -0.12794771790504456, -0.11358120292425156, -0.10640697926282883, 0.7422986626625061, 0.1629774123430252, -0.00577079551294446, 0.07368794083595276, 1.0340361595153809, -0.08004780113697052, -0.3656049966812134, -0.6895884275436401, -0.2467697709798813, 0.7362769842147827, 0.08551828563213348, -0.03544573858380318, -0.44796502590179443, 0.26648372411727905, -0.8109288811683655, 0.3865818977355957, -0.7101917266845703, -0.3086158335208893, -0.20012010633945465, -0.1800011694431305, -0.03481459617614746, 0.09259660542011261, -0.5622389912605286, 0.6303408145904541, -0.31837335228919983, 0.4529309570789337, 0.34194648265838623, 0.7755987644195557, 0.1954297572374344, 0.022542595863342285, -1.0705796480178833, 0.07680550962686539, 0.31814998388290405, 0.459533154964447, -0.20109856128692627, -0.5971882343292236, 0.7142849564552307, -0.3535141050815582, -0.8591970801353455, 0.5366201996803284, 0.7452442646026611, -0.4765748381614685, -0.1427110731601715, -0.603463351726532, 0.8695969581604004, 0.11012380570173264, -0.35194632411003113, -0.4367305636405945, 0.4372340142726898, -1.1636300086975098, -0.5616421699523926, -0.5812622904777527, 0.8664137721061707, -0.7294890880584717, 0.20540586113929749, 0.0562838576734066, 0.5256136655807495, -0.09660951048135757, -0.3561875522136688, 0.8284734487533569, 0.8229780793190002, -0.1875387728214264, 0.9143902063369751, 0.20570777356624603, -1.2616829872131348, -0.17717409133911133, 0.7894698977470398, 0.10291354358196259, -0.057677265256643295, 0.46014919877052307, 0.9061887860298157, 0.07333029806613922, -0.28002703189849854, 0.03909609839320183, 0.2570788264274597, -0.6018000841140747, 0.026369014754891396, 0.22525575757026672, -0.1847730129957199, 0.4740469455718994, -0.004574093036353588, 0.2164851427078247, -0.3568478524684906, -0.4767826199531555, 0.30463746190071106, 0.7343606948852539, -0.21104645729064941, 0.1040012538433075, 0.9890836477279663], [-0.18200494349002838, -0.30692189931869507, 1.0218337774276733, -0.24868308007717133, -0.05979814752936363, -0.5607043504714966, 0.5054202675819397, 0.28037574887275696, -0.4795288145542145, -0.2690488398075104, -0.09836822003126144, -0.9953166842460632, -0.389425665140152, 0.7205849885940552, -0.20121295750141144, 0.07997174561023712, 0.1295735239982605, -0.262216717004776, 0.39684367179870605, -0.31331849098205566, -0.4596877098083496, 0.4242764115333557, -0.7723273038864136, 0.20254147052764893, 0.3782176673412323, 0.5668469071388245, 0.36439862847328186, -0.197976753115654, 0.11401505768299103, 0.2842046320438385, 0.3816455602645874, 0.3197175860404968, -0.24663397669792175, -0.5320433378219604, -0.08252497017383575, -0.5852296948432922, 0.0421820729970932, -0.5810796618461609, -0.35555925965309143, 0.13112539052963257, -0.10863780975341797, -0.4962960183620453, 0.5441387295722961, -0.0441051684319973, -0.6676661372184753, -0.22749179601669312, -0.5250807404518127, -0.39829155802726746, -0.11675811558961868, -0.5804581046104431, -0.4180927574634552, -0.29660671949386597, 0.07193315029144287, 0.1765555590391159, -0.009464584290981293, 0.16068585216999054, -0.07779306173324585, -0.6287710666656494, -0.6817736625671387, -0.012998387217521667, 0.9543126821517944, 0.11771977692842484, 0.328495055437088, 0.1073298454284668, 0.6479229927062988, 0.594603955745697, 0.25878772139549255, -0.0038272584788501263, -1.0041555166244507, -0.010489599779248238, -0.5897929668426514, -0.4883972704410553, -0.1698196977376938, -0.11320839077234268, -0.39401212334632874, -0.4064175486564636, 0.08714211732149124, -0.22947658598423004, 0.13443908095359802, -0.6680923104286194, -0.05531525984406471, 0.26922768354415894, -0.4492006301879883, 0.3988300561904907, -0.31593480706214905, -0.3452966511249542, -0.4436857998371124, 0.4451143443584442, -0.6767487525939941, -0.42279118299484253, 0.15496589243412018, -0.1295645385980606, 0.024674074724316597, -0.4674483835697174, 0.11970242112874985, -0.48874345421791077, 0.27511119842529297, -0.38418909907341003, 0.0688617005944252, -0.39135268330574036, 0.3371678292751312, -0.8928000330924988, 0.41226625442504883, 0.3417658507823944, 0.08933662623167038, -0.8951780796051025, -0.05176572874188423, 0.3044239282608032, -0.033720217645168304, -0.011383173055946827, 0.46987012028694153, 0.44586530327796936, 0.3585140109062195, 0.04054764658212662, -0.5450806617736816, 1.1427257061004639, -0.07706590741872787, 0.18805839121341705, 0.3165169954299927, 0.05149468779563904, 0.16356584429740906, 0.06733892112970352, -0.21189314126968384, 0.044144779443740845, 0.36195650696754456, 0.6497412323951721, -0.29057633876800537, 0.5560231804847717, -0.45804640650749207, -0.30918970704078674, -0.12165144830942154, 0.3945642113685608, 0.5646184682846069, -0.41624635457992554, 0.44697317481040955, -0.4675748348236084, -0.26984092593193054, -0.7808347940444946, -0.8694232106208801, 0.12425961345434189, -0.26100778579711914, -0.3939315974712372, 0.2566816508769989, -0.28454887866973877, 0.3395545780658722, -0.4039725661277771, -0.14882729947566986, -0.5157981514930725, 0.6606553196907043, 0.49384060502052307, 0.03383103758096695, 0.6585922837257385, -0.478870689868927, -0.8265916109085083, -0.30994388461112976, -0.35241997241973877, -0.524332582950592, 0.4349200129508972, -0.4011635184288025, 0.459222674369812, 0.5848574638366699, 0.5129517912864685, 0.32451900839805603, 0.11035823822021484, 0.5182127952575684, -0.1649705022573471, 0.45010384917259216, 0.7535923719406128, 0.022106992080807686, 0.14298871159553528, -0.3833343982696533, -0.40802812576293945, 0.8661193251609802, 0.26201626658439636, -0.23509323596954346, 0.13371974229812622, 0.31206589937210083, 0.036242298781871796, 0.3602387607097626, -0.03466811031103134, -0.2980581521987915, 0.09783419221639633, 0.24187128245830536, -0.20926707983016968, 0.009814763441681862, -0.2622053623199463, 0.05053776130080223, -0.08837524056434631, 0.13885602355003357, 0.8524084091186523, -0.1260577142238617, 0.008845380507409573, -0.41957899928092957, 0.011115537025034428, 0.15853798389434814, -0.32085177302360535, -0.22916141152381897, -0.0753813236951828, -0.02308964543044567, 0.01935235597193241, 0.15438224375247955, -0.14497807621955872, 0.3624500036239624, -0.36812490224838257, -0.3294313848018646, 0.48763900995254517, 0.6636395454406738, -0.046549241989851, -0.4511606693267822, 0.6088754534721375, -0.393242746591568, 1.2431528568267822, 0.6128041744232178, -0.38601118326187134, 0.15035805106163025, 0.5355338454246521, -0.07165028899908066, -0.02706785872578621, 0.013128463178873062, 0.46456849575042725, 0.9063581824302673, 0.0664106011390686, -0.7044222354888916, 0.1393996924161911, -0.14851845800876617, 0.711093008518219, 0.731907308101654, -0.2539750039577484, 1.053851842880249, -0.4496755599975586, -0.15142159163951874, -0.3280322849750519, 0.1913069486618042, 0.8980125188827515, 0.24454674124717712, 0.4292373061180115, 0.0082098338752985, -0.039895545691251755, 0.31523028016090393, 0.2992723882198334, -0.02426130510866642, 0.4974047839641571, -0.09670304507017136, 0.27760007977485657, 0.0413593128323555, -0.09940873086452484, -0.36096006631851196, 0.09044977277517319, -0.18355372548103333, -0.8132718801498413, -0.28822019696235657, -1.2292139530181885, -0.2553386986255646, -0.42345502972602844, -0.6185823082923889, -0.2908185124397278, -0.37533533573150635, -0.5383694767951965, 0.2428574562072754, 0.6298071146011353, -0.24250152707099915, -0.04744138568639755, -0.21511654555797577, -0.3320484161376953, -0.28669390082359314, 0.6035842895507812, -0.3311203718185425, 0.36736708879470825, 0.6552216410636902, -0.05411653593182564, -0.046521130949258804, -0.30065056681632996, 0.061664555221796036, 0.38054412603378296, -0.49341773986816406, 0.26048317551612854, -0.21021121740341187, -0.06390142440795898, -0.375440776348114, 0.9267910718917847, 0.6745324730873108, 0.4592531621456146, -0.8851959109306335, -0.19468262791633606, 0.5565637946128845, -0.49302738904953003, -0.030751865357160568, 0.8977333903312683, -0.39674633741378784, -0.2973347008228302, -0.2688753008842468, 0.5238053202629089, 0.06616909056901932, -1.0258384943008423, 0.3577432632446289, -0.016772964969277382, 0.5648936033248901, 0.3592985272407532, -0.1733725368976593, -0.17719903588294983, -0.2255430966615677, -0.28400835394859314, -0.36077791452407837, 0.2100263237953186, 0.11759974807500839, -0.0348169319331646, -0.35219624638557434, -0.6529124975204468, -5.451866626739502, 0.09208560734987259, 0.16403570771217346, -0.9785504341125488, 0.051172759383916855, 0.2069772183895111, -0.5571283102035522, -0.09283167123794556, -0.6214218735694885, 0.5495975017547607, -0.8450578451156616, -0.30553704500198364, 0.04501345008611679, 0.4743345379829407, 0.37615591287612915, -0.5137258172035217, -0.371686190366745, -0.09236926585435867, 0.07494749128818512, 0.9437242746353149, -0.31923341751098633, -0.14813470840454102, -0.08648967742919922, -0.6409458518028259, -0.07364460825920105, 0.883468508720398, -0.7318642735481262, 0.30722710490226746, -0.36297735571861267, 0.09260383248329163, -0.2828226685523987, -0.19854839146137238, 0.16749189794063568, -0.569892942905426, -0.02504654787480831, 0.40310797095298767, 0.34741833806037903, -0.7606083750724792, 0.021781692281365395, -0.17869511246681213, -0.19516105949878693, -0.18106809258460999, 0.6391419768333435, 0.9195533394813538, 0.5527291297912598, -0.16757363080978394, -0.3690148591995239, -0.03796039894223213, -0.14942045509815216, 0.29622703790664673, -0.5267640352249146, -0.21367678046226501, 0.0673513263463974, -0.33398860692977905, -0.09250196069478989, 0.19456973671913147, 0.6484372615814209, -0.04990578815340996, 0.7085930109024048, -0.28599777817726135, -0.5952274799346924, -0.6864592432975769, 0.21148282289505005, 0.9100244641304016, -0.060794226825237274, -0.22608855366706848, -0.15911853313446045, -0.9269202351570129, 0.505204439163208, -0.015249943360686302, -0.17993393540382385, 0.5529826879501343, 0.009351634420454502, -1.1990035772323608, 0.18358416855335236, -0.5669180154800415, -0.25743788480758667, -0.3441341817378998, 0.7583083510398865, -0.33674493432044983, -0.6705510020256042, -0.4610041379928589, 0.23470063507556915, -0.15752726793289185, 0.4587644338607788, 0.20648358762264252, 0.16889889538288116, 0.2608015835285187, 0.013127083890140057, -0.2219213843345642, 0.5009697675704956, 1.359775424003601, 0.48210981488227844, 0.5154382586479187, 0.0491708405315876, -0.04657679423689842, 0.5634505748748779, -0.14150546491146088, 0.8743606209754944, 0.13980785012245178, 0.42324239015579224, -0.7912740707397461, 0.2192329615354538, 0.018740704283118248, 0.3841800391674042, 0.020366815850138664, -1.1274430751800537, 0.43864357471466064, 0.49644628167152405, 0.5139303803443909, 0.6004090905189514, -0.30402761697769165, 0.23583385348320007, -0.39008158445358276, -0.31351542472839355, 0.2521626949310303, -0.39219605922698975, 0.3601757287979126, 0.5723766088485718, 0.21907934546470642, 0.4217894673347473, 0.39214348793029785, -0.258882075548172, -0.9294411540031433, -0.333554744720459, 0.24219270050525665, -0.6388052701950073, 0.2634287178516388, -0.41696521639823914, -0.22375181317329407, -0.39782577753067017, 0.39644113183021545, -0.07424596697092056, -0.2044469714164734, -0.0815982073545456, -0.5823013782501221, -0.6377595067024231, 0.7366927266120911, 0.6786006093025208, -0.055946458131074905, -0.022889718413352966, 0.0741645023226738, -0.04168203845620155, -0.6092686653137207, -0.3321635127067566, 0.27961426973342896, 0.21162651479244232, -0.3350580036640167, -0.08939597010612488, -0.11115511506795883, -0.40241557359695435, -0.404925674200058, 0.3767375946044922, 0.3378635346889496, -0.4159589409828186, -0.39938339591026306, 0.945747971534729, -0.23712359368801117, -0.35956430435180664, -0.33257734775543213, 0.29547467827796936, -0.11063358932733536, 0.8051924109458923, 0.1607738435268402, 0.45451831817626953, 0.25386184453964233, -0.09051863104104996, 0.2988162040710449, -0.3711630403995514, 0.045365650206804276, -0.6848063468933105, 0.1543971449136734, 0.0141372699290514, -0.06261426955461502, 0.07954175770282745, 0.5873417854309082, 0.06600730121135712, -0.4104158878326416, -0.24090804159641266, -0.3396555781364441, 0.3595955967903137, -0.10649676620960236, 0.34091997146606445, -0.13836929202079773, 0.0804552435874939, -0.2730092704296112, -0.23085437715053558, 0.1696983277797699, 0.10805327445268631, -0.10110079497098923, -0.06213055178523064, 0.2728961706161499, -0.42140576243400574, -0.008363980799913406, -0.5535864233970642, 0.13379822671413422, 0.4909994304180145, -0.10648855566978455, -0.12718452513217926, 0.20985785126686096, 0.2881665825843811, 0.2298678755760193, -0.2517816424369812, -0.4376390874385834, 0.39597904682159424, -0.17250660061836243, -0.19005288183689117, -0.021165553480386734, -0.33953341841697693, -0.3093245327472687, -0.04217507317662239, -0.39637401700019836, 0.2585145831108093, -0.4939503073692322, 0.11072154343128204, 0.19062495231628418, 0.009386907331645489, 0.2111034393310547, -0.49328842759132385, 0.11407694220542908, 0.4801206886768341, -0.5948845744132996, -0.33813366293907166, 0.10054608434438705, -0.3640630841255188, -0.020679447799921036, -0.639537513256073, -0.4194159507751465, 0.2490881234407425, -0.025650005787611008, 0.36551129817962646, -0.34332236647605896, -0.27341437339782715, 0.13677383959293365, -0.37871265411376953, -0.31022903323173523, -0.6699849963188171, -0.1469137966632843, -0.36658975481987, -0.188858300447464, -0.28945159912109375, 0.0824936106801033, -0.9143088459968567, -0.05254503712058067, 0.658176839351654, -1.0577294826507568, 0.3955029845237732, -0.04959852620959282, -0.2079252302646637, 0.22270621359348297, -0.6389999985694885, 0.2553510367870331, 0.36343124508857727, -0.6486347913742065, 0.41693687438964844, -0.11579392850399017, -0.17597900331020355, 0.7205043435096741, -0.4297977387905121, 0.39801454544067383, 0.2776026129722595, 0.21383243799209595, -0.26574277877807617, 0.6588917374610901, -0.2419264018535614, -0.0655498132109642, 0.6122410297393799, 0.1759849637746811, -0.19375641644001007, 0.547569215297699, -0.668742835521698, 0.46137046813964844, 0.11629252880811691, 0.40040597319602966, 0.2795427739620209, 0.0052559166215360165, -0.44488629698753357, -0.15223300457000732, -0.09643764048814774, 0.3296360671520233, -0.14478524029254913, 0.16155770421028137, -0.2649686932563782, -0.2836030423641205, 0.673479437828064, 0.08133281767368317, 0.04176560416817665, 0.11535149812698364, -0.030333124101161957, -0.17206710577011108, -0.6640857458114624, 0.4924142062664032, -0.07804546505212784, -0.259846955537796, -0.06202612817287445, 0.17612332105636597, 0.41459426283836365, 0.22908729314804077, -0.06410816311836243, -0.29543158411979675, -0.16270601749420166, 0.08681261539459229, 0.6194544434547424, 0.45317646861076355, -0.8315766453742981, 0.2925531268119812, 0.028341995552182198, -0.794989287853241, -0.02675999142229557, 0.4425399601459503, -0.3238021433353424, -0.5198917984962463, 0.6982936859130859, 0.33574944734573364, -0.26800617575645447, 0.20780189335346222, 0.7029499411582947, -0.372661828994751, -0.31464260816574097, 0.4182892441749573, 0.1648017317056656, -0.4301977753639221, 0.2478557825088501, 0.08960316330194473, -0.03955415263772011, 0.5603656768798828, -0.10237789154052734, -0.28851523995399475, -0.44280755519866943, 0.4094429910182953, 0.15913231670856476, 0.3577496409416199, -0.18372519314289093, 0.01596047356724739, -0.4019101858139038, -0.1092386245727539, -0.13286007940769196, -0.6896170377731323, 0.7281814217567444, 0.17198333144187927, -0.017008820548653603, 0.007528628688305616, 0.8495516180992126, 1.0165802240371704, 0.07204245030879974, -0.6540098190307617, 0.6235319972038269, 0.03546377271413803, -0.2665737271308899, 0.9923409223556519, -0.23425428569316864, 0.15454065799713135, 0.04412088170647621, -0.2564353048801422, 0.14491723477840424, -0.0516483336687088, 0.31399446725845337, 0.515613317489624, 0.5996824502944946, 0.052716899663209915, 0.04740699753165245, 0.2724573314189911, 0.8180902600288391, -0.16380904614925385, 0.06922656297683716, 0.027641024440526962, 0.19807778298854828, -0.34895989298820496, -0.4931587874889374, -0.17995305359363556, 0.038049206137657166, 0.13369962573051453, 0.6487388014793396, 0.8700585961341858, 0.2057676613330841, 0.36705878376960754, 0.048987194895744324, 0.41291680932044983, -0.03411756455898285, -0.06734570860862732, 0.06025400012731552, 0.675207257270813, -0.1879112273454666, -0.3177657127380371, -0.27546751499176025, -0.2956027388572693, 0.23186095058918, -0.22849193215370178, -0.3825737237930298, -0.5426957607269287, 0.007253549061715603, -0.015269498340785503, -0.09596572816371918, -0.36448734998703003, 0.4735974967479706, -0.2884370684623718, 0.3842652440071106, 0.4684668481349945, 1.0952420234680176, -0.27707594633102417, 0.4683321416378021, -0.2640358507633209, 0.15549375116825104, -0.04184763878583908, -0.026887401938438416, -0.08372237533330917, -0.1696654111146927, 0.5599243640899658, -0.9117534160614014, -0.11333818733692169, 0.5227152705192566, 0.33025383949279785, -0.212532639503479, 0.5677648782730103, -0.5976449251174927, 0.17308451235294342, 0.3998420238494873, 0.19584335386753082, -0.23995915055274963, 0.3586033284664154, -0.7778360247612, -0.30796802043914795, -0.30914634466171265, 0.8210625052452087, -0.5303040742874146, -0.05937688425183296, 0.0600505955517292, 0.31641098856925964, -0.3049631118774414, 0.13291890919208527, 0.026835236698389053, 0.35902702808380127, -0.3959979712963104, 0.42596736550331116, 0.32827648520469666, -1.1624490022659302, -0.164210245013237, -0.13538441061973572, -0.14068889617919922, -0.22032380104064941, -0.005031634587794542, 0.4634913504123688, 0.0703306570649147, -0.2563363313674927, -0.48805898427963257, 0.24886181950569153, -0.11779148131608963, -0.12038061767816544, 0.012726343236863613, -0.03993849456310272, 0.005230607930570841, 0.2624571621417999, 0.48265984654426575, -0.6011971831321716, -0.39181283116340637, 0.24612580239772797, 0.2589723765850067, -0.15903636813163757, 0.08407524973154068, 1.3961607217788696], [0.0533815398812294, -0.49042269587516785, -0.024362994357943535, -0.1214456707239151, 0.46462899446487427, 0.3020889461040497, -0.0030465053860098124, 0.16559886932373047, -0.23673000931739807, -0.3566005527973175, -0.26178181171417236, 0.21170787513256073, 0.21347056329250336, -0.23244337737560272, -0.4243015646934509, -0.5334598422050476, 0.006204863544553518, 0.10216914862394333, 0.632756233215332, 0.345203161239624, 0.1712668389081955, 0.4616175591945648, 0.04607538506388664, -0.47666072845458984, -0.01007324643433094, 0.43511733412742615, -0.3127017617225647, -0.43209803104400635, -0.20285727083683014, 0.45064985752105713, -0.0828438401222229, 0.07629096508026123, 0.5454968810081482, 0.7046818137168884, -1.0376291275024414, -0.4397513270378113, 0.5186222791671753, 0.35474279522895813, -0.7310337424278259, -0.2185795158147812, 0.17931079864501953, -0.36380520462989807, 0.2179296314716339, -0.3030568063259125, -0.43869486451148987, 0.27931100130081177, -0.09267827123403549, -0.4498812258243561, -0.282034307718277, -0.3927548825740814, -0.754920482635498, 0.7610058784484863, -0.27721425890922546, 0.43106788396835327, -0.21312662959098816, -0.3334372341632843, 0.05918261781334877, -0.15371276438236237, -0.26916220784187317, -0.3358290493488312, 0.5652291774749756, 0.15082503855228424, -0.0018541977042332292, 0.16397607326507568, 0.7274552583694458, 0.18525272607803345, 0.6922460198402405, 0.17974726855754852, -0.49387267231941223, 0.21840055286884308, -0.7152931094169617, 0.5439988374710083, 0.06939124315977097, -0.3859504163265228, -0.1439315229654312, -0.0921085998415947, 0.015483475290238857, 0.045901667326688766, 0.26159122586250305, -0.2819274365901947, -0.3088681101799011, 0.6436680555343628, -0.1526806652545929, -0.13562776148319244, 0.04464831203222275, -0.5539698004722595, 0.2037232518196106, -0.3823506236076355, -0.12859265506267548, 0.6371330618858337, 0.3095034658908844, -0.17650048434734344, -0.19476793706417084, -0.131558358669281, 0.23989956080913544, -0.293410062789917, -0.2687201499938965, -0.09183437377214432, 0.5488920211791992, -0.8783681392669678, -0.753054678440094, -1.0551207065582275, -0.2740647494792938, 0.3862035870552063, -0.24104538559913635, -0.36409661173820496, -0.0563531294465065, 0.11671464890241623, -0.43533042073249817, -0.04287433251738548, 0.05164428427815437, 0.3467020094394684, 0.2905861437320709, -0.15172456204891205, -0.13929110765457153, 0.8913763761520386, -0.06383062154054642, 0.060475125908851624, 0.8628503084182739, 0.307765394449234, -0.2882164716720581, 0.2866649925708771, -0.14586614072322845, 0.8433217406272888, 0.2770312428474426, 0.5862806439399719, -0.1814892739057541, -0.08210240304470062, -0.6245190501213074, -0.19602559506893158, 0.008400303311645985, 0.8702362775802612, 0.5315555930137634, 0.2915699779987335, -0.28486907482147217, -0.7346721291542053, -0.42179474234580994, -0.3609081506729126, -0.3548879623413086, -0.628761887550354, 0.3121132254600525, 0.21581894159317017, -0.056776225566864014, 0.34254345297813416, 0.2778417468070984, -0.2796940803527832, -0.5914218425750732, -0.6657019853591919, -0.18447406589984894, 0.27790114283561707, -0.11937837302684784, 1.3647547960281372, -0.482860267162323, -0.6442593932151794, -0.39288094639778137, 0.17018987238407135, -0.6764984130859375, 0.056550972163677216, -0.3312438130378723, 0.560924232006073, 0.9901443123817444, 0.4001534879207611, 0.12193764001131058, 0.5056434273719788, 0.4101569652557373, 0.17624740302562714, 0.38495776057243347, 0.844718337059021, 0.2744870185852051, -0.19459789991378784, -0.2782987058162689, -0.16524791717529297, 0.612138569355011, 0.28152623772621155, -0.5964559316635132, 0.3105485439300537, 0.4470219612121582, -0.01655026152729988, 0.12524768710136414, -0.02120465412735939, -0.46366754174232483, 0.11394959688186646, -0.42004552483558655, -0.2328328937292099, 0.0975765660405159, 0.03641819581389427, 0.45874759554862976, -0.8734610080718994, 0.2771011292934418, -0.6190104484558105, -0.42054009437561035, -0.8099387884140015, -0.3621559143066406, -0.40040814876556396, -0.16502605378627777, -0.2933795750141144, -0.5562337636947632, -0.0513027161359787, 0.15469127893447876, -0.1194220557808876, 0.5539857149124146, -0.18349191546440125, -0.09388367086648941, 0.4776688516139984, 0.16049709916114807, 0.5074985027313232, 0.5120072364807129, -0.1629529446363449, -0.16674821078777313, 0.18317072093486786, -0.7110060453414917, 1.1448231935501099, 0.27016445994377136, 0.12102469056844711, 0.3637169897556305, -0.10244384407997131, -0.005196475423872471, -0.01861651800572872, 0.10324572026729584, 0.39250144362449646, 0.5496869683265686, -0.42961791157722473, -0.3302340805530548, -0.11945288628339767, -0.7351996898651123, 0.433868408203125, 0.4342212677001953, -0.6499938368797302, 0.8451653122901917, -0.5755202770233154, 0.1786043345928192, -0.730272650718689, 0.2832005023956299, -0.1603756695985794, 0.2648715376853943, 0.5938023328781128, 0.5361915826797485, 0.06593143939971924, -0.41098514199256897, 0.13205575942993164, -0.3957064747810364, 0.21042336523532867, 0.27064594626426697, 0.4228229820728302, -0.3780943751335144, 0.2162943184375763, 0.7050718069076538, -0.5134649276733398, 0.27850040793418884, -0.3387938439846039, -0.31038573384284973, -1.2741749286651611, -0.28083622455596924, 0.1882777065038681, -1.1399173736572266, -0.4308662414550781, -0.49855759739875793, -0.6875491142272949, 0.7777755856513977, 0.5323991775512695, -0.8593418002128601, 0.37153950333595276, 0.7070840001106262, 0.030813250690698624, 0.24557742476463318, 0.16652032732963562, 0.32673877477645874, 0.5122509002685547, 0.7094615697860718, 0.14527778327465057, 0.09997691959142685, -0.19119063019752502, 0.2095772624015808, -0.3038078248500824, -0.2996068596839905, 0.6793875694274902, 0.24678337574005127, 0.37294864654541016, 0.10962998121976852, 0.7469183802604675, -0.04003014788031578, 0.21915163099765778, -0.5911537408828735, 0.10563372820615768, 1.4045937061309814, -0.5743486881256104, -0.12871579825878143, -0.4413445293903351, -0.030235350131988525, -0.31849631667137146, -0.334475576877594, 0.8954048156738281, 0.24542036652565002, 0.13073886930942535, 0.8647729158401489, 0.08552999794483185, -0.11948896944522858, 0.038407102227211, -0.23998184502124786, -0.2515101134777069, -0.5667857527732849, 0.196348175406456, 0.49891868233680725, -0.09649308025836945, 0.6315978169441223, -0.09529431164264679, -0.20629610121250153, 0.11611180007457733, -5.367954254150391, -0.19941267371177673, 0.294938862323761, -0.31479209661483765, 0.09913644939661026, -0.37181705236434937, -0.41584688425064087, -0.03596096858382225, -0.9227557182312012, 0.646401584148407, 0.08799003809690475, -0.18840248882770538, -0.09019473940134048, 0.2000977247953415, 0.5275661945343018, -0.27169275283813477, -0.24889115989208221, -0.2424595057964325, -0.30734363198280334, 0.7896572351455688, -0.5035232305526733, -0.027886969968676567, 0.42586562037467957, -0.412015438079834, -0.3816147744655609, 0.6957557797431946, 0.06470559537410736, 0.8803520202636719, -0.6545783877372742, -0.24436260759830475, -0.37249189615249634, -0.4460386633872986, 0.522527277469635, 0.46605947613716125, 0.24745985865592957, -0.04513050243258476, 0.10679858922958374, -0.5051869750022888, 0.8360111117362976, -0.1263388842344284, 0.32164180278778076, -0.34474220871925354, 0.29070553183555603, 0.7984844446182251, -0.26022791862487793, -0.03048109821975231, 0.16605769097805023, -0.08867177367210388, -0.013817152008414268, -0.1689997762441635, 0.03607110679149628, -0.02160552516579628, -0.03129153326153755, -0.5180058479309082, -0.41215911507606506, -0.08007870614528656, 0.22358229756355286, 0.2911219000816345, 0.23030570149421692, -0.3245164752006531, -0.22315116226673126, -0.6707752346992493, -0.12350642681121826, 0.5612655282020569, -0.6904747486114502, 0.02092931792140007, -0.6127448678016663, -0.5758722424507141, 0.3987624943256378, 0.31780168414115906, 0.017609426751732826, -0.4434411823749542, 0.48563089966773987, -1.5010004043579102, -0.4934642016887665, 0.5219206809997559, -0.2455647885799408, -0.21059772372245789, 0.1872929036617279, -0.4835622012615204, -0.045829445123672485, -0.46172037720680237, 0.22559267282485962, 0.32286491990089417, 0.6135148406028748, 0.3077296018600464, 0.43310919404029846, -0.9178521633148193, 0.07018215209245682, 0.029941579326987267, -0.1140240877866745, 0.36311379075050354, 1.0435148477554321, -0.04547307267785072, 0.7927693128585815, 0.21500876545906067, 0.2671346664428711, -0.18175950646400452, 0.19876594841480255, -0.2728937268257141, -0.3544209599494934, -1.065783143043518, -0.15875636041164398, -0.09216321259737015, 0.06621205061674118, -0.2777005732059479, -1.5722309350967407, 0.4150354862213135, 0.16241329908370972, 0.10167983174324036, 0.49765780568122864, 0.388879656791687, 0.06154672056436539, 0.42498543858528137, -0.3983132839202881, 0.051914945244789124, -0.529766857624054, 0.0657225102186203, 0.4518505036830902, 0.21187902987003326, -0.16373810172080994, 0.41519004106521606, -0.45324692130088806, -0.04371166601777077, 0.001405674614943564, 0.010647714138031006, -0.5408396124839783, -0.25424349308013916, -0.11403406411409378, -0.14545965194702148, -0.0022660382091999054, 0.5983443856239319, 0.021292245015501976, -0.36431169509887695, 0.18304261565208435, -0.24656808376312256, -0.34991005063056946, 1.019195556640625, 0.20640671253204346, 0.3570902943611145, 0.8594382405281067, -0.12146243453025818, 0.10157912969589233, -0.09722001105546951, 0.2741711735725403, -0.010444384068250656, 0.16548331081867218, -0.10642901808023453, -0.11023516952991486, 0.22469909489154816, 0.7217544317245483, -0.45153307914733887, 0.43667328357696533, 0.7272157669067383, 0.10141861438751221, 0.3491276800632477, 0.6862307786941528, -0.8291593194007874, 0.1353694200515747, -0.6019173860549927, 0.436779648065567, -0.2741912007331848, 0.15917432308197021, -0.18443907797336578, 0.4538823962211609, 0.575738251209259, -0.2548411786556244, 0.5402420163154602, -0.4986247420310974, -0.17585943639278412, 0.13095222413539886, -0.8023049831390381, 0.2115078717470169, 0.975820779800415, 0.046824268996715546, -0.2877626121044159, 0.011668846011161804, -0.3879728615283966, -0.11137654632329941, 0.45724067091941833, 0.3088984489440918, 0.06550236791372299, 0.033846981823444366, -0.18523579835891724, 0.30761075019836426, 0.20986661314964294, -0.3601275384426117, -0.007449313532561064, 0.18434767425060272, 0.4726612865924835, 0.2648543119430542, -0.11740211397409439, 0.20982469618320465, -0.013753054663538933, 0.09242751449346542, -0.06945978850126266, 0.33166593313217163, 0.38511332869529724, 0.2675834000110626, 0.3412818908691406, 0.19874989986419678, -0.4777485728263855, -0.03245693817734718, -0.43392521142959595, 0.22278624773025513, 0.16191811859607697, -0.12057880312204361, 0.5179557800292969, -0.7755391597747803, -0.21632222831249237, 0.3308040201663971, -0.40989771485328674, -0.9883002638816833, -0.87481290102005, 0.13978171348571777, 0.4815249443054199, 0.0775497704744339, 0.026954125612974167, -0.015941264107823372, -0.45836329460144043, -0.011859893798828125, -0.6797900795936584, 0.44051387906074524, -0.13483712077140808, 0.21892087161540985, -0.5183820128440857, 0.10181320458650589, -0.8900692462921143, 0.009424823336303234, 0.12053453177213669, 0.2753579914569855, 0.41082093119621277, -0.46097758412361145, 0.0117286192253232, -0.18091610074043274, -0.5904080271720886, -1.0616378784179688, 0.10567322373390198, -0.45073267817497253, -0.6910310983657837, 0.19076840579509735, -0.42685526609420776, -0.9465018510818481, 0.10227957367897034, -0.023517930880188942, 0.1122029647231102, 0.08349847793579102, 0.2534056305885315, 0.8008444309234619, 1.0114504098892212, -0.3948571979999542, 0.24684545397758484, 0.03633519634604454, -0.23533692955970764, 0.31405606865882874, -0.5278005599975586, 0.3347044289112091, -0.37292736768722534, -0.11842761188745499, 0.6963858604431152, -0.0428774394094944, 0.2749546468257904, -0.5323867201805115, 0.3424576222896576, -0.43972864747047424, 0.25237029790878296, -0.18177951872348785, 0.018171606585383415, 0.37107980251312256, 0.7848277688026428, -0.9360483884811401, -0.11179909855127335, -0.09010467678308487, 0.5261185169219971, -0.6208458542823792, -0.12976419925689697, 0.19148355722427368, -0.5265651345252991, -0.1093420684337616, 0.5642309784889221, -0.0971498191356659, 0.453915536403656, 0.45847558975219727, 0.2579217255115509, 0.056947216391563416, 0.19572772085666656, -0.6753414869308472, -0.4064769744873047, -0.10383347421884537, -0.6915409564971924, 0.2102818787097931, 0.06763898581266403, 0.10804621130228043, 0.18670396506786346, 0.12566113471984863, 0.6720216870307922, -0.37303411960601807, 0.5850493311882019, -0.14420869946479797, -0.45281171798706055, -0.27744755148887634, 0.3878589868545532, 0.36220553517341614, -0.09781002253293991, -0.5110830664634705, 0.4388727843761444, 0.1136535108089447, -0.45298728346824646, -0.24832570552825928, -0.02799522690474987, 0.2627866864204407, -0.15148097276687622, -0.04630130156874657, 0.28911763429641724, -0.935736894607544, -0.2262558788061142, 0.5135945677757263, -0.7081121802330017, -0.2597671151161194, 0.6506885886192322, -0.03066539578139782, -0.18834885954856873, 0.6783614158630371, -0.326619029045105, -0.18475587666034698, 0.38826093077659607, -0.4103105068206787, 0.012917716056108475, -0.03040897846221924, 0.551802396774292, 0.41867443919181824, 0.4997822940349579, 0.21540100872516632, 0.507674515247345, 0.09109590202569962, -0.20584799349308014, 0.5306158661842346, -0.2579268217086792, -0.22723740339279175, -0.24596796929836273, -0.10203418135643005, -0.11457042396068573, 0.25876113772392273, 0.23265771567821503, -0.3522687554359436, -0.37791410088539124, -0.13933442533016205, 0.10464559495449066, -0.46888843178749084, 1.3032773733139038, -0.48403313755989075, 0.07161254435777664, -0.8544103503227234, 0.01447559054940939, -0.019433695822954178, -0.2148963212966919, 0.2691122591495514, 0.04434482753276825, -0.913852334022522, 0.21625912189483643, 0.5675656199455261, 0.16271987557411194, 0.4896857440471649, -0.3378528654575348, -0.1329103261232376, 0.32898664474487305, 0.24660027027130127, -0.386438250541687, -0.17537014186382294, -0.5632825493812561, -0.394086092710495, 0.46772947907447815, 0.4529719948768616, 1.0340901613235474, 0.0943354070186615, 0.25598591566085815, 0.4915102422237396, 0.18164123594760895, -0.6250645518302917, -0.6022414565086365, 0.48003530502319336, 0.16485542058944702, -0.3415355682373047, -0.07332651317119598, 0.8222178220748901, -0.3725738227367401, 0.6347364783287048, 0.39804360270500183, -0.3985232412815094, -0.3798840343952179, -0.19409506022930145, -0.14118272066116333, 0.023492883890867233, -0.42564600706100464, 0.6335726976394653, -0.05464395508170128, -0.4754117429256439, -0.1458503156900406, 0.3805066645145416, 0.09459388256072998, 0.0405845083296299, -0.592071533203125, 0.10554436594247818, -0.4115293323993683, -0.6492360234260559, -0.0635465681552887, -0.12191196531057358, 0.4469338357448578, -0.8463777899742126, -0.3821978271007538, 0.6806396245956421, 0.23397229611873627, -0.16233333945274353, 0.4416750967502594, -0.47301676869392395, -0.08107106387615204, 0.18352816998958588, 0.04873599484562874, 0.6402419805526733, -0.6445695757865906, -0.8343870639801025, -0.10779955983161926, -0.5900360941886902, 0.21916300058364868, 0.23442983627319336, -0.6717289090156555, -0.18763045966625214, -0.13711822032928467, -0.11813605576753616, 0.4915272891521454, 0.1934095323085785, 0.3465571999549866, 0.07601001858711243, 0.892996072769165, 0.11524713784456253, -0.7188144326210022, 0.2879742383956909, -0.6424543857574463, 0.3410724699497223, -0.04345564916729927, -0.5053555965423584, 0.21615946292877197, 0.2214331477880478, -0.1772056519985199, -0.24984078109264374, 0.21386152505874634, -0.368613064289093, -0.3838454484939575, 0.13938286900520325, 0.14887744188308716, 0.7482607960700989, -0.3077535033226013, 0.2543971538543701, -0.47435423731803894, -0.6219756603240967, -0.069618359208107, 0.1874096542596817, 0.15027420222759247, 0.14778107404708862, -0.262326180934906], [0.7536435723304749, 0.14984115958213806, -0.29967984557151794, 0.3483193814754486, -0.3873266875743866, -0.7337233424186707, 0.5083439350128174, -0.7374358177185059, 0.7965475916862488, 0.13358265161514282, 0.3447161912918091, -0.2309008240699768, 0.21265152096748352, -0.2641448378562927, -0.645766019821167, -0.3172886073589325, 0.12332890182733536, -0.14002452790737152, 0.026852985844016075, -0.07839758694171906, 0.5686989426612854, -0.04061271250247955, 0.6627967357635498, 0.35100018978118896, 0.14498305320739746, 0.2896444499492645, -0.28311359882354736, -0.23143084347248077, -0.5996971726417542, -0.7416508793830872, -0.6136083602905273, -0.5036005973815918, 0.03396133705973625, 0.4504821002483368, 0.2549017667770386, -0.18559905886650085, 0.2366795688867569, -0.2782113552093506, -0.032462816685438156, -0.4154811501502991, -0.5203273892402649, 0.18582619726657867, -0.2819135785102844, 0.3210848569869995, 0.17410196363925934, -0.551203191280365, 0.4318642318248749, 0.2651209533214569, -0.11685021966695786, 0.5560985803604126, -0.22196178138256073, 0.386942982673645, 0.03610336035490036, 0.3450838029384613, 0.4039437472820282, 0.32972943782806396, 0.5743979811668396, -0.42679035663604736, 0.019844746217131615, 0.2633664011955261, 0.05264727771282196, 0.5254766345024109, -0.2517268657684326, -0.11574293673038483, 0.5404651165008545, 0.04049210995435715, 0.029740190133452415, -0.5856022238731384, -0.7512458562850952, -0.28886452317237854, -0.34917986392974854, -0.9332757592201233, 0.5459733009338379, -0.1358504295349121, 0.23786506056785583, 0.24169106781482697, -0.5846289396286011, 0.8014969229698181, 0.2572883665561676, 0.2957576811313629, -0.06209258362650871, 0.12688428163528442, -0.10632894933223724, 0.08977535367012024, 0.5647973418235779, 0.005798954050987959, -0.07300132513046265, 0.13650789856910706, -0.2615676820278168, -0.04057428613305092, 0.3918696343898773, 0.20612089335918427, 0.42041826248168945, -0.19663745164871216, -0.05856849625706673, 0.3243427872657776, -0.16510441899299622, 0.12707173824310303, -0.04484952986240387, -0.1902836561203003, 0.1825002282857895, -0.0732429027557373, 0.27947843074798584, 0.8258331418037415, -0.02142007276415825, 0.05038079246878624, 0.17614364624023438, 0.5212850570678711, 0.4796124994754791, 0.9128792881965637, 0.9923897385597229, 0.20695142447948456, 0.17072570323944092, -0.14164559543132782, -0.27737629413604736, -0.4915643036365509, 0.5039112567901611, 0.04555650055408478, 0.4617013931274414, 0.31770506501197815, -0.5631099343299866, -0.9143457412719727, 0.26361873745918274, 1.4469997882843018, -0.03319665044546127, 0.03483600541949272, -0.03819609060883522, -0.8699144721031189, -0.23768143355846405, -0.5679187178611755, -0.4995482563972473, 0.6435635685920715, 0.40366628766059875, 0.8560283780097961, 0.0031498405151069164, 0.18729905784130096, -0.12312915176153183, 0.34857770800590515, -0.8139331340789795, 0.256859689950943, -0.23992012441158295, 0.9338939189910889, 0.6365984678268433, -1.219814419746399, 0.08273980021476746, 0.4516635537147522, 0.7741497159004211, -0.22868531942367554, 0.43093979358673096, -0.16605107486248016, 0.9040922522544861, -0.28543156385421753, -0.3754696249961853, 0.0003850864595733583, -0.6025113463401794, -0.18006667494773865, -0.12839114665985107, -0.014796246774494648, 0.874272882938385, 0.7017635107040405, 0.40173882246017456, 0.29359889030456543, 0.4290466606616974, 0.1402565985918045, -0.42612379789352417, 0.2885069251060486, -0.8850723505020142, -0.0804668590426445, 0.30269449949264526, 0.6052606105804443, -0.44176116585731506, -0.4300486147403717, -0.1876770555973053, 0.17780019342899323, -0.3044801652431488, 0.4098128080368042, 0.16938228905200958, -0.08273062109947205, -0.31883442401885986, -0.9146273732185364, -8.246910095214844, -0.3343995213508606, -0.21866962313652039, 0.08775220066308975, 0.030755454674363136, -0.2960429787635803, -0.5124754309654236, 0.10676366090774536, 0.1869291514158249, -1.2525609731674194, 0.19184216856956482, -0.17729546129703522, -0.6350859999656677, 0.35525304079055786, 0.368787944316864, -0.11129220575094223, -0.037962909787893295, 0.22859503328800201, -0.47138136625289917, 0.07794726639986038, 0.06553538143634796, -0.3229137361049652, -0.047604355961084366, 0.575762927532196, -0.2992990016937256, -1.435307502746582, 0.3030723035335541, -0.32328540086746216, 0.11585777252912521, 0.2007613331079483, -1.1952265501022339, -0.13418489694595337, 0.2932550609111786, -0.5628176927566528, 0.4807111322879791, -0.3711335062980652, 0.09257332235574722, -0.45110273361206055, -0.8161921501159668, -0.6054399013519287, -0.8085542917251587, -0.16076086461544037, -0.2194194197654724, -0.1630028337240219, 0.7084901928901672, -1.6977300643920898, 0.6103951334953308, 0.6473283767700195, 0.8262816071510315, 0.05715373903512955, -0.24930620193481445, 0.18903295695781708, 0.7148318886756897, 0.25212711095809937, 0.38413724303245544, -0.05461173504590988, 0.07894288748502731, 0.07071025669574738, -0.4068509638309479, -0.529184103012085, 0.018721994012594223, 0.39788269996643066, 0.33843719959259033, -0.018499629572033882, -0.5942245721817017, -0.7393872141838074, -0.10500867664813995, 0.8618794083595276, 0.9611037373542786, -0.27976179122924805, -0.26115843653678894, -0.5460433959960938, 0.020795732736587524, -0.5444070100784302, 0.5466853380203247, 0.6825999617576599, -0.06640847027301788, 0.12173638492822647, 1.1947932243347168, -0.3183271884918213, 0.624774694442749, 0.732470691204071, 0.28189653158187866, 0.1382799744606018, -0.44311776757240295, 0.9887487888336182, 0.31220492720603943, 0.2972141206264496, -0.16491447389125824, 0.33415156602859497, 0.26827043294906616, -0.10308340936899185, -0.3291868269443512, 0.6660574078559875, -0.0277378149330616, -0.8742681741714478, 0.3271957039833069, -0.03389168903231621, 0.4009250998497009, -0.025161536410450935, -0.2631564736366272, 0.2305585891008377, -0.014399219304323196, 0.8165955543518066, 0.3605407774448395, -0.4210839569568634, -0.7241292595863342, 0.08930601924657822, 0.4113321900367737, -0.7666152715682983, -0.061753422021865845, -0.2901310324668884, 0.11230359971523285, 0.43766969442367554, 0.07547332346439362, 0.10951145738363266, 0.5635051727294922, 0.10626739263534546, -0.6067342758178711, -0.17218372225761414, 0.444222629070282, -0.6777664422988892, -0.10509581118822098, -0.06866573542356491, -0.6118472814559937, -0.1256614774465561, 0.26793599128723145, 0.18411892652511597, 0.575644314289093, -0.07679292559623718, 0.23992937803268433, -0.912007749080658, 0.10704783350229263, -0.0024795630015432835, 0.056750718504190445, -0.26369085907936096, -0.3532719314098358, -0.13114817440509796, 0.13267742097377777, -0.7760207056999207, 0.22480207681655884, 0.43433666229248047, -0.24401496350765228, 0.613180935382843, -0.03633788973093033, -0.4399682283401489, -0.6443431377410889, -0.5002763867378235, -0.10989487916231155, 0.13939285278320312, 0.24772998690605164, -0.12301269918680191, 0.7812787294387817, -0.034678976982831955, -0.7474095821380615, -0.18484681844711304, 0.05978887155652046, 0.12943322956562042, -0.3632979094982147, -0.7340203523635864, -0.37601834535598755, -0.31904157996177673, 0.17330075800418854, 0.32375672459602356, -0.22604799270629883, 0.3112371563911438, 0.4321286082267761, -0.48739093542099, -0.16773538291454315, 0.461659699678421, 0.12298591434955597, -0.9872833490371704, -0.5632878541946411, -0.30302733182907104, -0.6219080686569214, -0.37537842988967896, 0.11727271229028702, 0.13022243976593018, 0.24981844425201416, -0.12968942523002625, -0.5535540580749512, 0.3216538429260254, -0.6408719420433044, -0.35012075304985046, 0.19999030232429504, 0.21360719203948975, -0.2020745575428009, -0.3715225160121918, 0.33638861775398254, -0.5213492512702942, 0.4028564691543579, 0.34136757254600525, -0.3689558506011963, 0.3103627562522888, 0.2814004421234131, 0.4585080146789551, -0.2641829252243042, 0.018259866163134575, -0.09419284015893936, -0.3881322741508484, -0.8046820759773254, -0.9011167287826538, -0.4541362226009369, 0.18096154928207397, -0.6918389797210693, 0.32811877131462097, 0.6354560256004333, -0.05214458703994751, 0.3777696192264557, -0.06348460912704468, 0.06131467595696449, 0.292805552482605, -0.03155903518199921, -0.004163230769336224, 0.2456354945898056, -0.07794363051652908, 0.38994982838630676, -0.6988127827644348, 0.07765834778547287, 0.27554580569267273, 0.014081098139286041, -0.15912336111068726, 0.002486926969140768, 0.4846675992012024, 0.3814128339290619, -0.003931225277483463, 0.356481671333313, 0.1790495365858078, -0.29234856367111206, -0.14368917047977448, 0.8536991477012634, -0.24747243523597717, -0.2113005816936493, 0.3853752315044403, -0.761396586894989, -0.5233598351478577, -0.6115186810493469, -0.3704102635383606, 0.13372348248958588, -0.4608124792575836, 0.4830740988254547, 0.041845932602882385, -0.20101572573184967, -0.5064564943313599, -0.28895479440689087, 0.8056524991989136, -0.02054360695183277, 0.4563053548336029, 0.6865494847297668, 0.3779368996620178, 0.5566327571868896, 0.21021640300750732, -0.14874736964702606, -0.17160752415657043, 0.3645530045032501, -0.387125700712204, 0.14033442735671997, -0.274514377117157, 0.2534300982952118, 0.12842115759849548, -0.10619516670703888, -0.6662694811820984, -0.5266534090042114, 0.6260969638824463, 0.8774851560592651, 1.0287230014801025, 0.361898273229599, 0.5036680698394775, 0.1677764356136322, 0.24268880486488342, -0.7319471836090088, -0.2771991789340973, 0.0952686071395874, 0.6474323272705078, -0.40082240104675293, 0.49308356642723083, 0.8063820600509644, 0.11886319518089294, 0.3196001350879669, 0.12410929799079895, 0.4536078870296478, -0.8985262513160706, -0.0030672543216496706, -0.5471157431602478, 0.30117547512054443, 0.17389023303985596, -1.0946714878082275, 0.1784534901380539, -0.4477788209915161, 0.034131597727537155, 0.7331235408782959, 0.03279022499918938, -0.6644697189331055, -0.9379333853721619, 0.4169120788574219, -0.7421306371688843, -0.5040835738182068, 0.5482713580131531, 0.31441938877105713, -0.2074892669916153, 0.7266332507133484, -0.19763816893100739, -0.3868189752101898, 0.7442959547042847, 0.0876297876238823, -0.3753192722797394, 0.1025279313325882, -0.022666778415441513, 0.15542477369308472, -1.0794554948806763, -0.020412279292941093, -0.2517476975917816, 0.3785097599029541, -0.10025738179683685, -0.285434365272522, -0.6549948453903198, 0.3180190920829773, -0.11135735362768173, 0.5882866978645325, -0.6981847286224365, -0.8365916013717651, 0.14456288516521454, -0.28128331899642944, 0.7569432258605957, 0.5430183410644531, -0.6009217500686646, 0.5483596324920654, 0.21057219803333282, 0.6536813378334045, 0.2837769687175751, -0.7386631369590759, 0.10572294145822525, -0.49522849917411804, -0.13865353167057037, -0.07078821957111359, 0.03207636624574661, -0.7084340453147888, -0.46394839882850647, -0.05620908364653587, -0.41777724027633667, -0.45433613657951355, -0.2645789384841919, 0.6826016902923584, 0.2441612184047699, 0.3661896884441376, -0.11816500127315521, 1.019263744354248, -0.4301401674747467, -0.6278900504112244, -0.4366414248943329, -0.025751307606697083, 0.3152799904346466, 0.12966682016849518, -0.9124656915664673, -0.7417129874229431, 0.14390558004379272, -0.4713072180747986, 0.24119864404201508, 0.19406959414482117, 0.494568794965744, -0.5846049189567566, 0.014451360329985619, 0.8076382875442505, 0.21943876147270203, -0.2313256859779358, -0.060382578521966934, 0.09366483986377716, -0.1442297101020813, -0.35644757747650146, -0.026786433532834053, -0.33481571078300476, -0.36123597621917725, 0.21872425079345703, -0.1451277881860733, 0.19112133979797363, 1.4057652950286865, -0.04912492260336876, -0.8957048654556274, -0.1807360053062439, -0.17386461794376373, 0.2943795919418335, 0.05219431594014168, -0.4456336796283722, -0.3481524586677551, -0.2670745253562927, 0.0766434371471405, -0.11346804350614548, -0.6221232414245605, 0.16944819688796997, -0.006303512956947088, 0.9022149443626404, -0.48926305770874023, 0.4241121709346771, 0.1496269553899765, 0.11065763980150223, 0.03708392754197121, -0.024386487901210785, 0.2975313365459442, 0.022991765290498734, 0.40640029311180115, -0.13220925629138947, 0.25584879517555237, -0.833856463432312, 0.2558930516242981, 0.44813045859336853, -0.4725867807865143, -0.3192017376422882, -0.07751768827438354, -0.06023310869932175, 0.5884442329406738, -0.3912588655948639, -0.30170080065727234, -0.1413262039422989, -0.14703455567359924, 0.31032779812812805, 0.4160562753677368, -0.11585435271263123, -0.6218071579933167, 0.6872511506080627, 0.04987802356481552, -0.2111518681049347, 0.10697078704833984, -0.5649883151054382, 0.27083054184913635, -0.17158304154872894, 0.811881959438324, -0.44029051065444946, -0.39323073625564575, 0.10379388183355331, 0.7628871202468872, 0.21930165588855743, -0.021242180839180946, -0.03734968975186348, -0.09702717512845993, 0.6203102469444275, 0.023247506469488144, -0.1386011242866516, -0.13656765222549438, -0.6389608979225159, 0.456465482711792, 0.4093848764896393, 0.5584599375724792, -1.3593553304672241, -0.12840020656585693, -0.01945214718580246, -0.7557297348976135, 0.22283880412578583, 0.7290719747543335, 0.21552059054374695, -0.007610173895955086, 0.21791504323482513, -0.23555059731006622, 0.19174471497535706, 0.23553594946861267, -0.6068264842033386, -0.30113765597343445, -0.6721400022506714, -0.08866758644580841, 0.8108994960784912, 1.1469756364822388, -0.14020630717277527, 0.528299868106842, -0.10583056509494781, -0.245316743850708, 0.5693976283073425, 0.4472905397415161, -0.13906130194664001, -0.9249557256698608, 0.034434977918863297, 0.18749958276748657, -0.09970609098672867, 0.2017589956521988, 0.03222179412841797, 0.0557902455329895, 0.222634956240654, -0.023405225947499275, 0.07455817610025406, -0.30438193678855896, 0.22795556485652924, -0.0718749538064003, -0.3305470943450928, 0.3511834442615509, -0.3564693033695221, 0.15795966982841492, 0.39648810029029846, 0.5484594106674194, 0.048006076365709305, 0.08523798733949661, -0.1672428399324417, -0.5948938131332397, -0.8010903596878052, -0.5294759273529053, -0.06326259672641754, 0.8426713943481445, 0.4450804889202118, -0.3854842185974121, -0.640794038772583, 0.3425328731536865, 0.7871717810630798, 0.6125029921531677, -0.2368295043706894, -0.6368786692619324, -0.016327157616615295, 0.47595691680908203, -0.6156357526779175, 0.4909973740577698, -0.7937426567077637, 0.0501725971698761, 0.5424630045890808, 0.2215612232685089, -0.2763419449329376, 0.11984586715698242, 0.15328387916088104, -0.5895212292671204, -0.3036767542362213, -0.2472056746482849, 0.1373664289712906, 0.30586105585098267, 0.04608053341507912, -0.8621214032173157, -0.10502386838197708, 0.11979497969150543, 0.5856781601905823, 0.30925998091697693, 0.4176875352859497, 0.17292413115501404, 0.6968395709991455, 0.4433481693267822, 0.9510372281074524, -0.34626275300979614, -0.6375834941864014, 0.41194233298301697, 0.28845661878585815, -0.13927145302295685, 1.2219899892807007, -0.31858953833580017, 0.7409963011741638, -0.4337981641292572, -0.9856919050216675, -0.17547044157981873, -3.119717836380005, 0.1689106971025467, -0.23102642595767975, -0.08826872706413269, -0.09237107634544373, 0.316266268491745, -0.04536587372422218, -0.5632892847061157, -0.5172412991523743, -0.3025904893875122, 0.3814142048358917, 0.2861826717853546, -0.24527524411678314, 0.28925350308418274, -0.03279143199324608, 0.7643166184425354, -0.3072678744792938, -0.30154550075531006, 0.5800340175628662, 0.2682932913303375, 0.3453642725944519, 0.15684956312179565, 0.30378925800323486, -0.5144774317741394, -0.11843710392713547, -0.03546831011772156, -0.24048791825771332, -0.7325683236122131, -0.09757262468338013, 0.049346648156642914, 0.6848515272140503, -0.01682313345372677, 0.7961075901985168, -0.3175295293331146, 0.8148139119148254, -0.2716025412082672, -0.02160971239209175, -0.34198564291000366, 0.17074507474899292, -0.09195265173912048, -0.328297883272171, -0.6529533267021179, 0.09426823258399963, -0.9374486804008484, 0.24333515763282776, 0.09478101134300232, -0.8660213351249695, -0.2168850600719452]]\n"
          ]
        }
      ]
    },
    {
      "cell_type": "code",
      "source": [],
      "metadata": {
        "id": "KB55_cG3IXry"
      },
      "execution_count": null,
      "outputs": []
    }
  ]
}